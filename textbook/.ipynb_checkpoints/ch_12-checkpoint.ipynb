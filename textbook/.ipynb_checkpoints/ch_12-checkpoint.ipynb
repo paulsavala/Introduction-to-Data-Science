{
 "cells": [
  {
   "cell_type": "markdown",
   "metadata": {},
   "source": [
    "# Sharing Jupyter notebooks\n",
    "\n",
    "Jupyter notebooks are generally considered the starting point for most data analysis/science projects. They allow you to quickly generate and test ideas that would be much slower in a traditional coding environment (IDE). However, Jupyter notebooks are also commonly used to present work. This week we will learn the following:\n",
    "\n",
    "- [Creating links in your notebook](#links)\n",
    "- [Making your notebook interactive](#interactive_nbs)\n",
    "    - [Examples](#examples)\n",
    "    - [Interact](#interact)\n",
    "    - [Interactive coronavirus data analysis](#coronavirus_interact)\n",
    "- [Sharing your notebook online](#sharing_notebooks)"
   ]
  },
  {
   "cell_type": "markdown",
   "metadata": {},
   "source": [
    "## Imports"
   ]
  },
  {
   "cell_type": "code",
   "execution_count": 54,
   "metadata": {},
   "outputs": [],
   "source": [
    "import pandas as pd\n",
    "import numpy as np\n",
    "\n",
    "from matplotlib import pyplot as plt\n",
    "\n",
    "import ipywidgets as widgets\n",
    "from ipywidgets import interact"
   ]
  },
  {
   "cell_type": "markdown",
   "metadata": {},
   "source": [
    "## Data loading\n",
    "\n",
    "This week we'll work with the coronavirus dataset."
   ]
  },
  {
   "cell_type": "code",
   "execution_count": 7,
   "metadata": {},
   "outputs": [],
   "source": [
    "df = pd.read_csv(drive_dir + 'data/coronavirus.csv')"
   ]
  },
  {
   "cell_type": "code",
   "execution_count": 8,
   "metadata": {},
   "outputs": [
    {
     "data": {
      "text/html": [
       "<div>\n",
       "<style scoped>\n",
       "    .dataframe tbody tr th:only-of-type {\n",
       "        vertical-align: middle;\n",
       "    }\n",
       "\n",
       "    .dataframe tbody tr th {\n",
       "        vertical-align: top;\n",
       "    }\n",
       "\n",
       "    .dataframe thead th {\n",
       "        text-align: right;\n",
       "    }\n",
       "</style>\n",
       "<table border=\"1\" class=\"dataframe\">\n",
       "  <thead>\n",
       "    <tr style=\"text-align: right;\">\n",
       "      <th></th>\n",
       "      <th>date</th>\n",
       "      <th>state</th>\n",
       "      <th>cases</th>\n",
       "      <th>deaths</th>\n",
       "      <th>population</th>\n",
       "      <th>overall_deaths</th>\n",
       "      <th>migration</th>\n",
       "    </tr>\n",
       "  </thead>\n",
       "  <tbody>\n",
       "    <tr>\n",
       "      <th>0</th>\n",
       "      <td>2020-01-21</td>\n",
       "      <td>Washington</td>\n",
       "      <td>1</td>\n",
       "      <td>0</td>\n",
       "      <td>7614893.0</td>\n",
       "      <td>58587.0</td>\n",
       "      <td>24103.0</td>\n",
       "    </tr>\n",
       "    <tr>\n",
       "      <th>1</th>\n",
       "      <td>2020-01-22</td>\n",
       "      <td>Washington</td>\n",
       "      <td>1</td>\n",
       "      <td>0</td>\n",
       "      <td>7614893.0</td>\n",
       "      <td>58587.0</td>\n",
       "      <td>24103.0</td>\n",
       "    </tr>\n",
       "    <tr>\n",
       "      <th>2</th>\n",
       "      <td>2020-01-23</td>\n",
       "      <td>Washington</td>\n",
       "      <td>1</td>\n",
       "      <td>0</td>\n",
       "      <td>7614893.0</td>\n",
       "      <td>58587.0</td>\n",
       "      <td>24103.0</td>\n",
       "    </tr>\n",
       "    <tr>\n",
       "      <th>3</th>\n",
       "      <td>2020-01-24</td>\n",
       "      <td>Illinois</td>\n",
       "      <td>1</td>\n",
       "      <td>0</td>\n",
       "      <td>12671821.0</td>\n",
       "      <td>110004.0</td>\n",
       "      <td>19209.0</td>\n",
       "    </tr>\n",
       "    <tr>\n",
       "      <th>4</th>\n",
       "      <td>2020-01-24</td>\n",
       "      <td>Washington</td>\n",
       "      <td>1</td>\n",
       "      <td>0</td>\n",
       "      <td>7614893.0</td>\n",
       "      <td>58587.0</td>\n",
       "      <td>24103.0</td>\n",
       "    </tr>\n",
       "  </tbody>\n",
       "</table>\n",
       "</div>"
      ],
      "text/plain": [
       "         date       state  cases  deaths  population  overall_deaths  \\\n",
       "0  2020-01-21  Washington      1       0   7614893.0         58587.0   \n",
       "1  2020-01-22  Washington      1       0   7614893.0         58587.0   \n",
       "2  2020-01-23  Washington      1       0   7614893.0         58587.0   \n",
       "3  2020-01-24    Illinois      1       0  12671821.0        110004.0   \n",
       "4  2020-01-24  Washington      1       0   7614893.0         58587.0   \n",
       "\n",
       "   migration  \n",
       "0    24103.0  \n",
       "1    24103.0  \n",
       "2    24103.0  \n",
       "3    19209.0  \n",
       "4    24103.0  "
      ]
     },
     "execution_count": 8,
     "metadata": {},
     "output_type": "execute_result"
    }
   ],
   "source": [
    "df.head()"
   ]
  },
  {
   "cell_type": "markdown",
   "metadata": {},
   "source": [
    "## Creating links in your notebook <a id=\"links\"></a>\n",
    "\n",
    "You've probably noticed that all of our notebooks in this class have links in them. To make a link, we use a combination of Markdown and HTML. Recall that in Markdown you make a link by putting the text inside square brackets, and the url in round brackets. Double-click on this Markdown cell to see this example: [This is a link to Google](www.google.com).\n",
    "\n",
    "To link to a place within your notebook, we need to put an \"anchor\". An anchor is simply an HTML link. You create an anchor by writing `<a id=\"anchor_unique_name\"></a>`. The value inside `id` must be unique for each anchor. So if you create one anchor like `<a id=\"analysis\"></a>`, you *cannot* create another one with the same `id`. IDs are referenced using the pound symbol `#`. So to use Markdown to link to this anchor, simply replace `www.google.com` (or whatever url you have) with `#anchor_unique_name`."
   ]
  },
  {
   "cell_type": "markdown",
   "metadata": {},
   "source": [
    "## Making your notebooks interactive <a id=\"interactive_nbs\"></a>\n",
    "\n",
    "Thus far all of our notebooks have been *static*. We say a notebook is **static** if it does not have interactive elements, such as textboxes, maps, etc. If a notebook *does* have these elements, then we say it is **dynamic** or **interactive**. Interactive notebooks are a great way to share your work with others. Most people (even other data scientists) are not interested in taking large chunks of time out of their day to read through your code. Therefore, if you want to share your work with others, you need to make it as easy as possible for people to engage with it. One way to do this is through graphs. Another more powerful way is by making your notebook interactive. If your notebook is interactive then people can begin playing with it and understanding your work, without needing to read through code. While not a Jupyter notebook, check out [this COVID-19 interactive site](https://covid19-social-distancing.herokuapp.com/). It was built using Python, and allows the user to understand the spread of COVID-19 without needing to read through code.\n",
    "\n",
    "Jupyter notebooks can work with \"widgets\". **Widgets** are small pieces of code which make your notebook interactive. Note that at the top of this notebook we have imported `ipywidgets` using the alias `widgets`. This is the library which allows us to create widgets. Let's jump right in with a few examples."
   ]
  },
  {
   "cell_type": "markdown",
   "metadata": {},
   "source": [
    "### Examples <a id=\"examples\"></a>"
   ]
  },
  {
   "cell_type": "code",
   "execution_count": 9,
   "metadata": {},
   "outputs": [],
   "source": [
    "def square(x):\n",
    "    return x**2"
   ]
  },
  {
   "cell_type": "markdown",
   "metadata": {},
   "source": [
    "A simple slider"
   ]
  },
  {
   "cell_type": "code",
   "execution_count": 10,
   "metadata": {},
   "outputs": [
    {
     "data": {
      "application/vnd.jupyter.widget-view+json": {
       "model_id": "306dfa95550a438f8f0728fbb212a6f2",
       "version_major": 2,
       "version_minor": 0
      },
      "text/plain": [
       "interactive(children=(IntSlider(value=1, description='x', max=3, min=-1), Output()), _dom_classes=('widget-int…"
      ]
     },
     "metadata": {},
     "output_type": "display_data"
    }
   ],
   "source": [
    "widgets.interact(square, x=1);"
   ]
  },
  {
   "cell_type": "markdown",
   "metadata": {},
   "source": [
    "A slider with a defined range"
   ]
  },
  {
   "cell_type": "code",
   "execution_count": 20,
   "metadata": {},
   "outputs": [
    {
     "data": {
      "application/vnd.jupyter.widget-view+json": {
       "model_id": "f60bf53f31044f6782fb2df43704e848",
       "version_major": 2,
       "version_minor": 0
      },
      "text/plain": [
       "interactive(children=(IntSlider(value=5, description='x', max=10), Output()), _dom_classes=('widget-interact',…"
      ]
     },
     "metadata": {},
     "output_type": "display_data"
    }
   ],
   "source": [
    "widgets.interact(square, x=(0, 10));"
   ]
  },
  {
   "cell_type": "markdown",
   "metadata": {},
   "source": [
    "A slider with a defined range and defined steps"
   ]
  },
  {
   "cell_type": "code",
   "execution_count": 43,
   "metadata": {},
   "outputs": [
    {
     "data": {
      "application/vnd.jupyter.widget-view+json": {
       "model_id": "3b1298be9f2a489aa2dbda9357c77681",
       "version_major": 2,
       "version_minor": 0
      },
      "text/plain": [
       "interactive(children=(FloatSlider(value=5.0, description='x', max=10.0), Output()), _dom_classes=('widget-inte…"
      ]
     },
     "metadata": {},
     "output_type": "display_data"
    }
   ],
   "source": [
    "widgets.interact(square, x=(0, 10, 0.1));"
   ]
  },
  {
   "cell_type": "markdown",
   "metadata": {},
   "source": [
    "Working with text"
   ]
  },
  {
   "cell_type": "code",
   "execution_count": 17,
   "metadata": {},
   "outputs": [],
   "source": [
    "def print_name(first_name, last_name):\n",
    "    if first_name != '' and last_name != '':\n",
    "        return f'Hi {first_name} {last_name}'\n",
    "    else:\n",
    "        return None"
   ]
  },
  {
   "cell_type": "code",
   "execution_count": 19,
   "metadata": {},
   "outputs": [
    {
     "data": {
      "application/vnd.jupyter.widget-view+json": {
       "model_id": "71cb009080564dadb86fe8db285f6aa8",
       "version_major": 2,
       "version_minor": 0
      },
      "text/plain": [
       "interactive(children=(Text(value='', description='first_name'), Text(value='', description='last_name'), Outpu…"
      ]
     },
     "metadata": {},
     "output_type": "display_data"
    }
   ],
   "source": [
    "widgets.interact(print_name, first_name='', last_name='');"
   ]
  },
  {
   "cell_type": "markdown",
   "metadata": {},
   "source": [
    "Drodowns"
   ]
  },
  {
   "cell_type": "code",
   "execution_count": 21,
   "metadata": {},
   "outputs": [],
   "source": [
    "def pick_a_color(color=['red', 'orange', 'blue', 'green', 'yellow']):\n",
    "    return f'You selected {color}'"
   ]
  },
  {
   "cell_type": "code",
   "execution_count": 23,
   "metadata": {},
   "outputs": [
    {
     "data": {
      "application/vnd.jupyter.widget-view+json": {
       "model_id": "29614d3ee1fa411d9943a1c78043d6b7",
       "version_major": 2,
       "version_minor": 0
      },
      "text/plain": [
       "interactive(children=(Dropdown(description='color', options=('red', 'orange', 'blue', 'green', 'yellow'), valu…"
      ]
     },
     "metadata": {},
     "output_type": "display_data"
    }
   ],
   "source": [
    "widgets.interact(pick_a_color);"
   ]
  },
  {
   "cell_type": "markdown",
   "metadata": {},
   "source": [
    "Besides these very simple examples, a common use of widgets is to make interactive graphs. Here is an example:"
   ]
  },
  {
   "cell_type": "code",
   "execution_count": 48,
   "metadata": {},
   "outputs": [],
   "source": [
    "def plot_sine(amp, period, phase_shift, vert_shift):\n",
    "    x = np.linspace(-4*np.pi, 4*np.pi, 100)\n",
    "    y = amp * np.sin((2*np.pi / period) * x - phase_shift) + vert_shift\n",
    "    plt.plot(x, y)\n",
    "    plt.xlim([-4*np.pi, 4*np.pi])\n",
    "    plt.ylim([-2, 2])\n",
    "    plt.title('Graphing the sine curve')\n",
    "    plt.show()"
   ]
  },
  {
   "cell_type": "code",
   "execution_count": 49,
   "metadata": {},
   "outputs": [
    {
     "data": {
      "application/vnd.jupyter.widget-view+json": {
       "model_id": "468f065aa8714ce09fc1bb7c595b1d29",
       "version_major": 2,
       "version_minor": 0
      },
      "text/plain": [
       "interactive(children=(FloatSlider(value=0.0, description='amp', max=1.0, min=-1.0), FloatSlider(value=12.56637…"
      ]
     },
     "metadata": {},
     "output_type": "display_data"
    }
   ],
   "source": [
    "widgets.interact(plot_sine, amp=(-1, 1, 0.1), period=(0, 8*np.pi, np.pi/2), phase_shift=(-1, 1, 0.1), vert_shift=(-1, 1, 0.1));"
   ]
  },
  {
   "cell_type": "markdown",
   "metadata": {},
   "source": [
    "### Interact <a id=\"interact\"></a>\n",
    "\n",
    "The core way to work with widgets is through `ipywidgets.interact`. This is a function which makes *another function* interactive. You saw above that we first wrote a function (like `square` or `plot_sine`), and we then *wrapped* that function with `interact(...)`. Another way to do this is to use a *decorator*. In Python, a **decorator** is a command starting with `@` which goes above a function. That decorator then alters the function immediately below it in some way. For instance, the following two approaches to using `interact` give exactly the same result:"
   ]
  },
  {
   "cell_type": "code",
   "execution_count": 50,
   "metadata": {},
   "outputs": [
    {
     "data": {
      "application/vnd.jupyter.widget-view+json": {
       "model_id": "ff0cb213983240979c89c4be0ac98f93",
       "version_major": 2,
       "version_minor": 0
      },
      "text/plain": [
       "interactive(children=(Dropdown(description='color', options=('red', 'orange', 'blue', 'green', 'yellow'), valu…"
      ]
     },
     "metadata": {},
     "output_type": "display_data"
    }
   ],
   "source": [
    "# Approach 1 using interact() to wrap our function\n",
    "def pick_a_color(color=['red', 'orange', 'blue', 'green', 'yellow']):\n",
    "    return f'You selected {color}'\n",
    "\n",
    "widgets.interact(pick_a_color);"
   ]
  },
  {
   "cell_type": "code",
   "execution_count": 57,
   "metadata": {},
   "outputs": [
    {
     "data": {
      "application/vnd.jupyter.widget-view+json": {
       "model_id": "8cfadc08baf64c1fb285f733c48b0e02",
       "version_major": 2,
       "version_minor": 0
      },
      "text/plain": [
       "interactive(children=(Dropdown(description='color', options=('red', 'orange', 'blue', 'green', 'yellow'), valu…"
      ]
     },
     "metadata": {},
     "output_type": "display_data"
    }
   ],
   "source": [
    "# Approach 2 using the interact decorator\n",
    "@interact\n",
    "def pick_a_color(color=['red', 'orange', 'blue', 'green', 'yellow']):\n",
    "    return f'You selected {color}'"
   ]
  },
  {
   "cell_type": "code",
   "execution_count": 58,
   "metadata": {},
   "outputs": [
    {
     "data": {
      "application/vnd.jupyter.widget-view+json": {
       "model_id": "d08ae7710dc84c9f9413bea427c852f8",
       "version_major": 2,
       "version_minor": 0
      },
      "text/plain": [
       "interactive(children=(Dropdown(description='color', options=('red', 'orange', 'blue', 'green', 'yellow'), valu…"
      ]
     },
     "metadata": {},
     "output_type": "display_data"
    }
   ],
   "source": [
    "# A modified approach 2 which also gives the same result\n",
    "@interact(color=['red', 'orange', 'blue', 'green', 'yellow'])\n",
    "def pick_a_color(color):\n",
    "    return f'You selected {color}'"
   ]
  },
  {
   "cell_type": "markdown",
   "metadata": {},
   "source": [
    "So the decorator is just a shorthand for writing `interact(my_function)`.\n",
    "\n",
    "Rather than writing about various ways to use interact, let's just jump into a more complicated example that shows how you could use it in a real project."
   ]
  },
  {
   "cell_type": "markdown",
   "metadata": {},
   "source": [
    "### Coronavirus analysis <a id=\"coronavirus_interact\"></a>\n",
    "\n",
    "Our goal is to allow the user to select a state, and we will automatically display to them the number of cases and deaths in that state. They will be able to toggle whether to show the raw count or the numbers as percentages of the population. Finally, they can select multiple states, and all of those will be plotted on the same graph. Since the \"interactive\" part of all of this is a graph, that is the function we will make `interact`ive. However, before making the graph we need to be able to process data to show. So we'll start by writing a function that, given a state, returns the number of cases and deaths."
   ]
  },
  {
   "cell_type": "code",
   "execution_count": 60,
   "metadata": {},
   "outputs": [],
   "source": [
    "def covid_by_state(df, state, as_pct=False):\n",
    "    state_df = df[df['state'] == state]\n",
    "    # The data has separate days in separate rows, so we need to add up cases/deaths across all dates\n",
    "    state_cases = state_df['cases'].sum()\n",
    "    state_deaths = state_df['deaths'].sum()\n",
    "    \n",
    "    # Note that `if as_pct` is the same as writing `if as_pct == True`\n",
    "    if as_pct:\n",
    "        # The population doesn't change day-to-day for the state. So using .mean() is just a way to extract the population.\n",
    "        # You could also use .iloc[0], or .min() or .max(), or some other function which gets the value.\n",
    "        state_cases = state_cases / state_df['population'].mean()\n",
    "        state_deaths = state_deaths / state_df['population'].mean()\n",
    "    \n",
    "    return state_cases, state_deaths"
   ]
  },
  {
   "cell_type": "markdown",
   "metadata": {},
   "source": [
    "Let's test it out."
   ]
  },
  {
   "cell_type": "code",
   "execution_count": 62,
   "metadata": {},
   "outputs": [
    {
     "data": {
      "text/plain": [
       "(26604, 1526)"
      ]
     },
     "execution_count": 62,
     "metadata": {},
     "output_type": "execute_result"
    }
   ],
   "source": [
    "covid_by_state(df=df, state='Washington')"
   ]
  },
  {
   "cell_type": "code",
   "execution_count": 63,
   "metadata": {},
   "outputs": [
    {
     "data": {
      "text/plain": [
       "(0.0034936800819131667, 0.0002003967751089871)"
      ]
     },
     "execution_count": 63,
     "metadata": {},
     "output_type": "execute_result"
    }
   ],
   "source": [
    "covid_by_state(df=df, state='Washington', as_pct=True)"
   ]
  },
  {
   "cell_type": "markdown",
   "metadata": {},
   "source": [
    "Looks good! Let's now turn to making our graph. We'll do a bar graph so that each state (if more than one is selected) gets its own bar. In addition, we want two bars for each state, one for cases and one for deaths. Rather than trying to write the entire function from scratch, let's start by making a simpler (non-interactive) one. We've seen that it is easy to make a function interactive, so if we can get it working as a normal graph first, then making it interactive should be easy.\n",
    "\n",
    "We'll first just make a bar chart for a single state."
   ]
  },
  {
   "cell_type": "code",
   "execution_count": 68,
   "metadata": {},
   "outputs": [
    {
     "data": {
      "image/png": "[encoded data removed]",
      "text/plain": [
       "<Figure size 864x576 with 1 Axes>"
      ]
     },
     "metadata": {
      "needs_background": "light"
     },
     "output_type": "display_data"
    }
   ],
   "source": [
    "state = 'Texas'\n",
    "\n",
    "plt.figure(figsize=(12, 8))\n",
    "plt.bar(x=['Cases', 'Deaths'], height=covid_by_state(df=df, state=state, as_pct=False), color=['steelblue', 'darkred']);"
   ]
  },
  {
   "cell_type": "markdown",
   "metadata": {},
   "source": [
    "This may seem good, but the problem is that it doesn't scale well to multiple states. That is, if we added another state, there would be no way to know which \"Cases\" bar belongs to which state. So instead, we would like \"grouped bars\". This just means that the bars are next to each other, and share a single label on the x-axis. Unfortunately, matplotlib doesn't make this especially easy. The way to do it is to make each bar half as wide as usual. Plot the first bar as usual, but move the second bar over by how wide the first bar is. So for example, if the first bar is 0.5 wide and is plotted at x value 1, then the second bar should be plotted at x-value 1.5 so that it doesn't overlap the first bar. Then, we need to tell matplotlib what states to put on the x-axis labels. We do this using the `.set_xticklabel()` command."
   ]
  },
  {
   "cell_type": "code",
   "execution_count": 99,
   "metadata": {},
   "outputs": [
    {
     "data": {
      "image/png": "[encoded data removed]",
      "text/plain": [
       "<Figure size 864x576 with 1 Axes>"
      ]
     },
     "metadata": {
      "needs_background": "light"
     },
     "output_type": "display_data"
    }
   ],
   "source": [
    "tx_cases, tx_deaths = covid_by_state(df=df, state='Texas', as_pct=False)\n",
    "\n",
    "fig, ax = plt.subplots(figsize=(12, 8))\n",
    "\n",
    "states_x = np.arange(1)    # the x locations for the groups\n",
    "bar_width = 0.5\n",
    "ax.bar(states_x, tx_cases, bar_width, label='Cases')\n",
    "ax.bar(states_x + bar_width, tx_deaths, bar_width, label='Deaths')\n",
    "ax.legend()\n",
    "\n",
    "ax.set_title('COVID-19 Cases by State')\n",
    "ax.set_xticks(states_x + bar_width / 2)\n",
    "ax.set_xticklabels(['Texas']);"
   ]
  },
  {
   "cell_type": "markdown",
   "metadata": {},
   "source": [
    "Let's try doing more than one state and see how it looks."
   ]
  },
  {
   "cell_type": "code",
   "execution_count": 100,
   "metadata": {},
   "outputs": [
    {
     "data": {
      "image/png": "[encoded data removed]",
      "text/plain": [
       "<Figure size 864x576 with 1 Axes>"
      ]
     },
     "metadata": {
      "needs_background": "light"
     },
     "output_type": "display_data"
    }
   ],
   "source": [
    "tx_cases, tx_deaths = covid_by_state(df=df, state='Texas', as_pct=False)\n",
    "ca_cases, ca_deaths = covid_by_state(df=df, state='California', as_pct=False)\n",
    "\n",
    "cases = [tx_cases, ca_cases]\n",
    "deaths = [tx_deaths, ca_deaths]\n",
    "\n",
    "fig, ax = plt.subplots(figsize=(12, 8))\n",
    "\n",
    "states_x = np.arange(2)    # There are two states this time, so we need 2 values on the x-axis\n",
    "bar_width = 0.5\n",
    "ax.bar(states_x, cases, bar_width, label='Cases')\n",
    "ax.bar(states_x + bar_width, deaths, bar_width, label='Deaths')\n",
    "ax.legend()\n",
    "\n",
    "ax.set_title('COVID-19 Cases by State')\n",
    "ax.set_xticks(states_x + bar_width / 2)\n",
    "ax.set_xticklabels(['Texas', 'California']);"
   ]
  },
  {
   "cell_type": "markdown",
   "metadata": {},
   "source": [
    "That's better, but now the bars for Texas and California have no spacing between them. Let's make each bar a bit smaller. Also, if we wanted to do ten states this would involve a lot of copying and pasting. So let's use a `for` loop to go through and do it all `for` us (pun intended)."
   ]
  },
  {
   "cell_type": "code",
   "execution_count": 101,
   "metadata": {},
   "outputs": [
    {
     "data": {
      "image/png": "[encoded data removed]",
      "text/plain": [
       "<Figure size 864x576 with 1 Axes>"
      ]
     },
     "metadata": {
      "needs_background": "light"
     },
     "output_type": "display_data"
    }
   ],
   "source": [
    "states = ['Texas', 'California', 'New York']\n",
    "\n",
    "# Lists to hold the number of cases and deaths for all states\n",
    "cases = []\n",
    "deaths = []\n",
    "# Go through each state and find the number of cases and deaths\n",
    "for state in states:\n",
    "    state_cases, state_deaths = covid_by_state(df=df, state=state, as_pct=False)\n",
    "\n",
    "    cases.append(state_cases)\n",
    "    deaths.append(state_deaths)\n",
    "\n",
    "# Plot them\n",
    "fig, ax = plt.subplots(figsize=(12, 8))\n",
    "\n",
    "states_x = np.arange(len(states))    # Make it the same length as the number of states we have\n",
    "bar_width = 0.35                     # Make the bar a little narrower to give some spacing\n",
    "ax.bar(states_x, cases, bar_width, label='Cases')\n",
    "ax.bar(states_x + bar_width, deaths, bar_width, label='Deaths')\n",
    "ax.legend()\n",
    "\n",
    "ax.set_title('COVID-19 Cases by State')\n",
    "ax.set_xticks(states_x + bar_width / 2)\n",
    "ax.set_xticklabels(states);"
   ]
  },
  {
   "cell_type": "markdown",
   "metadata": {},
   "source": [
    "Awesome! Let's turn this into a function."
   ]
  },
  {
   "cell_type": "code",
   "execution_count": 105,
   "metadata": {},
   "outputs": [],
   "source": [
    "def plot_states_by_case(states, as_pct=False):\n",
    "    # Lists to hold the number of cases and deaths for all states\n",
    "    cases = []\n",
    "    deaths = []\n",
    "    # Go through each state and find the number of cases and deaths\n",
    "    for state in states:\n",
    "        state_cases, state_deaths = covid_by_state(df=df, state=state, as_pct=as_pct)\n",
    "\n",
    "        cases.append(state_cases)\n",
    "        deaths.append(state_deaths)\n",
    "\n",
    "    # Plot them\n",
    "    fig, ax = plt.subplots(figsize=(12, 8))\n",
    "\n",
    "    states_x = np.arange(len(states))    # Make it the same length as the number of states we have\n",
    "    bar_width = 0.35                     # Make the bar a little narrower to give some spacing\n",
    "    ax.bar(states_x, cases, bar_width, label='Cases')\n",
    "    ax.bar(states_x + bar_width, deaths, bar_width, label='Deaths')\n",
    "    ax.legend()\n",
    "\n",
    "    ax.set_title('COVID-19 Cases by State')\n",
    "    ax.set_xticks(states_x + bar_width / 2)\n",
    "    ax.set_xticklabels(states);"
   ]
  },
  {
   "cell_type": "code",
   "execution_count": 106,
   "metadata": {},
   "outputs": [
    {
     "data": {
      "image/png": "[encoded data removed]",
      "text/plain": [
       "<Figure size 864x576 with 1 Axes>"
      ]
     },
     "metadata": {
      "needs_background": "light"
     },
     "output_type": "display_data"
    }
   ],
   "source": [
    "plot_states_by_case(states=['Texas', 'California', 'New York'], as_pct=True)"
   ]
  },
  {
   "cell_type": "markdown",
   "metadata": {},
   "source": [
    "Now that we have this working, let's make it interactive. You could do this by using the `interact` decorator on the function above (the \"better\" way), or by wrapping it with `interact()`. We'll do the second, just so that we don't copy-paste the code above. One final point is that ipywidgets doesn't know that you want to allow the user to select multiple states, so by default it only allows one (try it and see what happens...). Therefore, we need to define a widget which allows the user to selecte multiple states. You can find a list of all possible widgets on the [Jupyter widgets list](https://ipywidgets.readthedocs.io/en/latest/examples/Widget%20List.html)."
   ]
  },
  {
   "cell_type": "code",
   "execution_count": 114,
   "metadata": {},
   "outputs": [],
   "source": [
    "selected_states = widgets.SelectMultiple(\n",
    "    options=sorted(df['state'].unique()), # sorted(...) sorts the list alphabetically to make it easier to find states\n",
    "    value=['Texas'],\n",
    "    description='States',\n",
    "    disabled=False\n",
    ")"
   ]
  },
  {
   "cell_type": "code",
   "execution_count": 115,
   "metadata": {},
   "outputs": [
    {
     "data": {
      "application/vnd.jupyter.widget-view+json": {
       "model_id": "0357bc65392346858ce549c33e0eda28",
       "version_major": 2,
       "version_minor": 0
      },
      "text/plain": [
       "interactive(children=(SelectMultiple(description='States', index=(45,), options=('Alabama', 'Alaska', 'Arizona…"
      ]
     },
     "metadata": {},
     "output_type": "display_data"
    }
   ],
   "source": [
    "# Ctrl-click or shift-click to select multiple\n",
    "widgets.interact(plot_states_by_case, states=selected_states, as_pct=False);"
   ]
  },
  {
   "cell_type": "markdown",
   "metadata": {},
   "source": [
    "It is possible to build some [very cool notebooks](https://www.youtube.com/watch?v=i40d8-Hu4vM) using widgets. I highly encourage you to play around and poke through the [documentation](https://ipywidgets.readthedocs.io/en/latest/examples/Using%20Interact.html) to get a feel for what is possible."
   ]
  },
  {
   "cell_type": "markdown",
   "metadata": {},
   "source": [
    "## Sharing your notebooks online <a id=\"sharing_notebooks\"></a>"
   ]
  },
  {
   "cell_type": "code",
   "execution_count": null,
   "metadata": {},
   "outputs": [],
   "source": []
  }
 ],
 "metadata": {
  "kernelspec": {
   "display_name": "Python 3",
   "language": "python",
   "name": "python3"
  },
  "language_info": {
   "codemirror_mode": {
    "name": "ipython",
    "version": 3
   },
   "file_extension": ".py",
   "mimetype": "text/x-python",
   "name": "python",
   "nbconvert_exporter": "python",
   "pygments_lexer": "ipython3",
   "version": "3.8.2"
  }
 },
 "nbformat": 4,
 "nbformat_minor": 4
}
