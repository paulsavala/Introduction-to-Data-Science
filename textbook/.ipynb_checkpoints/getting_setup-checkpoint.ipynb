{
 "cells": [
  {
   "cell_type": "markdown",
   "metadata": {},
   "source": [
    "# Getting setup\n",
    "\n",
    "Welcome to MATH 3439 - Introduction to Data Science!\n",
    "\n",
    "- [What this course is like](#course_intro)\n",
    "- [Jupyter notebooks](#jupyter_notebooks)\n",
    "- [CoCalc](#cocalc)\n",
    "- [Github](#github)\n",
    "- [LinkedIn](#linkedin)\n",
    "- [Slack](#slack)\n",
    "- [Resources](#resources)"
   ]
  },
  {
   "cell_type": "markdown",
   "metadata": {},
   "source": [
    "## What this course is like <a id=\"course_intro\"></a>\n",
    "\n",
    "This course is about discovering data. In the early days (meaning pre-computers), people still cared about data. However, we were limited by how much data could be analyzed by hand, both in terms of the time needed to look through the data, and the ability to analyze (run computations, graph, form hypotheses, etc.) data. However, with the advent of powerful computers, we can now work with seemingly endless amounts of data. In this course you will deal with data up to millions of rows, and you will learn to to scale to tens or hundreds of millions of rows of data. \n",
    "\n",
    "In order to discover data, we will use Python. As you know, Python is a powerful yet (relatively) simple programming language. In fact, we will largely be using a package called Pandas which is built specifically to deal with datasets.\n",
    "\n",
    "Because Python is fundamental in manipulating and understanding data, you will spend every single day writing code in Python. If you already feel very solid in Python that's great! However, most likely most of you feel a bit shaky in your Python. That's fine, and your programming will improve greatly throughout this course! The [first homework](hw_01.ipynb) covers some basics of Python, and we will continue to fill in gaps in your Python knowledge throughout the course. \n",
    "\n",
    "**The most important QUALITIES you can have for this course are PATIENCE AND PERSEVERANCE.** You will find parts of this course frustrating. Programs won't run, confusing errors will be thrown at you, files will dissapear, and every other possible problem! These are all parts of data and computer science. Be patient, accept that this is all part of the learning process, and persevere. \n",
    "\n",
    "**The most important HABITS you can have for this course are WRITING CODE.** It is impossible to do well in this course (or in data science more generally) without writing a lot of code. This analogous to the idea that you can't be good at doing integrals without doing lots of integrals!"
   ]
  },
  {
   "cell_type": "markdown",
   "metadata": {},
   "source": [
    "## Jupyter notebooks <a id=\"jupyter_notebooks\"></a>\n",
    "What you are currently looking at is a Jupyter notebook. [Jupyter](https://jupyter.org) is a non-profit software company that builds and maintains the software needed to run this. A Jupyter notebook is a collection of \"cells\". A cell can either hold Python code, or text (written using a special format called \"Markdown\"). \n",
    "\n",
    "To add a new cell, do the following:\n",
    "1. Click to the *left* of a cell. So you *do not* want to click where the text is, you want to click on the blank space to the left.\n",
    "2. On your keyboard, press `a` to insert a new cell above the current cell, or `b` to insert a new cell below the current cell.\n",
    "\n",
    "Once you create a new cell, you can click in the cell. By default, a new cell is a `Code` cell, which means it is meant to run Python code.\n",
    "\n",
    "- **Question 1:** Try creating a new cell below this cell.\n",
    "- **Question 2:** In that new cell, type `3+2` and run is by clicking in the cell, then pressing `Shift-Enter`. It should show an output of `5`."
   ]
  },
  {
   "cell_type": "markdown",
   "metadata": {},
   "source": [
    "In addition to code cells, you can also create Markdown cells. To create a Markdown cell, create a new cell exactly like you did above. Then, do one of two things:\n",
    "1. Click to the *left* of the cell (like you did earlier when creating a new cell), and press `m` on your keyboard\n",
    "2. Or, click on the new cell you created, and then look at the top of this notebook for a dropdown menu which says `Code`. Click on it, and select `Markdown` from the list.\n",
    "\n",
    "- **Question 3:** Create a new cell *above* this cell, and turn it into a Markdown cell.\n",
    "- **Question 4:** Type `3+2` in that cell and run is by pressing `Shift-Enter`. What does it show? Why do you think that is?\n",
    "- **Question 5:** To *edit* a Markdown cell, double-click on it. Try double-clicking on this cell and changing something. Then, run the cell by pressing `Shift-Enter`. The generated cell should now have your change in it."
   ]
  },
  {
   "cell_type": "markdown",
   "metadata": {},
   "source": [
    "## Markdown cheat-sheet\n",
    "\n",
    "Markdown is a way to type pretty text using bold, italics, links, codeblocks and more, without needing to use a word processor like Microsoft Word. There is a little bit of memorization, but it's not too bad. Below are examples of the most common things you'll use. For a more detailed list, checkout [this cheatsheet](https://github.com/adam-p/markdown-here/wiki/Markdown-Cheatsheet). \n",
    "\n",
    "**Double-click on this cell to see a breakdown of how I accomplished all these things.**\n",
    "\n",
    "*This is italic*\n",
    "\n",
    "**This is bold**\n",
    "\n",
    "# This is a big header\n",
    "\n",
    "## This is a slightly smaller header\n",
    "\n",
    "### You can pretty much go as small as you want\n",
    "\n",
    "- You can also make a list by using dashes\n",
    "- You can make as many as you want\n",
    "- Here's a third one\n",
    "\n",
    "1. If you want numbers instead\n",
    "2. Just use numbers\n",
    "\n",
    "You can also makes links as follows: [The title for your link](www.stedwards.edu)\n",
    "\n",
    "Often, in these Markdown cells we will talk about Python commands. For example, you could teach someone how to print in Python by telling them to type \"print(3+2)\". However, there's a problem with this, as it's not obvious to the purpose learning which part is actually the command. Should they type in the quotes as well? In addition, the command looks like just plain text, so someone browsing through wouldn't even notice that there's a Python command to learn. Therefore, it is common to write Python commands in Markdown cells by putting backticks \\` around them. For example, compare the following:\n",
    "\n",
    "- print(3+2) - Note that there's no backticks here\n",
    "- `print(3+2)` - Now there's backticks. Doesn't it look nicer!"
   ]
  },
  {
   "cell_type": "markdown",
   "metadata": {},
   "source": [
    "## Jupyter notebook best practices\n",
    "- Always title your notebook.\n",
    "- Break your code into sections. So maybe start by doing your imports, then your next section might be loading the data, and so forth. Title each section using Markdown, and give each section a description of what you're doing there.\n",
    "- Keep your code clean. It's okay to create new cells to test things, but once your testing is done and those cells are no longer needed, delete them. Go back to old working cells and clean them up. Write the code nicer, put a Markdown cell describing what's going on, etc.\n",
    "- Leave yourself notes about what you've done. *Right now* you remember what you've done, but you won't remember it a month from now.\n",
    "- If you find yourself copying and pasting some code over and over, make it into a function and call that function instead."
   ]
  },
  {
   "cell_type": "markdown",
   "metadata": {},
   "source": [
    "## Cocalc <a id=\"cocalc\"></a>\n",
    "\n",
    "Jupyter notebooks can be installed on any computer. However, making sure that your setup is exactly the same as your classmates (so that you can all work on the same code/data) is highly non-trivial. Therefore, in this course we will be using a \"hosted\" solution, meaning that Jupyter notebooks are installed are a computer in the cloud. We will all login to this same hosted instance and work in the same place. The hosted solution we will be using is called [Cocalc](cocalc.com). In order to use Cocalc you will need to pay a one-time fee of \\\\$14. The textbook for this course is free, so this \\\\$14 is the only fee you will need to pay. \n",
    "\n",
    "Below are the steps you need to get setup on Cocalc. **Please follow them carefully**, as having a correct setup of Cocalc will be vital for everything you do this semester.\n",
    "\n",
    "1. \n",
    "2. \n",
    "3. "
   ]
  },
  {
   "cell_type": "markdown",
   "metadata": {},
   "source": [
    "## Github <a id=\"github\"></a>\n",
    "\n",
    "Suppose you are working with your classmates on a project. You create a notebook and start working on exploring your data. However, your classmate takes your notebook, deletes some of your work, and puts in your own work. At this point, everything you've done is lost forever! Or, more subtly, perhaps you write some code but can't get it to work. So, you delete it and try it another way, but still can't get it to work. Later you realize that it didn't work only because your internet connection was down. You'd like to get that old code you wrote, but you deleted it, so it's gone forever.\n",
    "\n",
    "The solution to both of these problems is \"version control.\" Version control is simply software which keeps track of *every* version of code you write. So in the examples above, the version control software would have kept a copy of your old notebook. You can then ask it to go back and grab it so that you can find things you deleted. While you *could* do this on your own computer, it would involve having a copy of the file every single time you make a change. This would result in thousands of files, most of which would be useless to you. Therefore, version control automates this process for you. \n",
    "\n",
    "The version control software we will be using is [Github](github.com), which is the industry standard. If you work as a data scientist/analyst in a large company, you will almost certainly be expected to know and use Github. Below are the steps needed to setup your Github account. **Please follow them carefully**, as storing your code on Github is part of your grade for this course.\n",
    "\n",
    "1. \n",
    "2. \n",
    "3. "
   ]
  },
  {
   "cell_type": "markdown",
   "metadata": {},
   "source": [
    "## LinkedIn <a id=\"linkedin\"></a>\n",
    "\n",
    "[LinkedIn](linkedin.com) is a social networking site specifically targeted toward working professionals. While it's unlikely you would show share your Twitter or TikTok account with a company, it would be expected that a potential employer would look at your LinkedIn account. Therefore, creating a robust LinkedIn account showing your work is an important part of this course. By doing so, when you decide to apply for a job/internship, regardless of whether or not it's data science-related, your potential employer will be able to see concrete examples of your accomplishments. To get setup on LinkedIn, follow these steps:\n",
    "\n",
    "1. Go to the [sign up page](https://www.linkedin.com/signup/cold-join?trk=guest_homepage-basic_nav-header-join)\n",
    "2. Sign up using a **non-St Edward's email address**. The reason for this is that once you graduate you will continue to use LinkedIn.\n",
    "3. Navigate to [my LinkedIn profile](https://www.linkedin.com/in/paul-savala-ph-d-61153193/) and connect with me."
   ]
  },
  {
   "cell_type": "markdown",
   "metadata": {},
   "source": [
    "## Slack <a id=\"slack\"></a>\n",
    "\n",
    "As a student you probably primarily work on your own. Perhaps you collaborate with classmates on occassion for an especially difficult homework or exam prep, but most of your time is probably spent on your own. When working as a data scientist/analyst, communication and working with others is vitally important. While you may be sitting at your computer working on your own, the actual work you do will be determined by working with your managers and co-workers. Therefore, in this course we will also emphasize communication and collaboration. While *some* communication always takes place through email, the problem with email is that it's not easily shareable with others, and it doesn't scale well. Once you have twenty different emails, each with 15 responses, it simply becomes overwhelming. Instead, we will be using Slack. Slack is communication software which supplements email. If you wanted to send a message to the entire company, you would probaby use email. But if you wanted to discuss work with your team, you would use Slack. Note that Microsoft Teams is another popular option.\n",
    "\n",
    "To get setup with Slack, follow these steps:\n",
    "1. Follow this sign-up link and create an account. You can use your StEdward's account or a personal email, either is fine.\n",
    "2. Once you have joined, you can use the web app, or [download](https://slack.com/downloads) the app.\n",
    "\n",
    "Once in the app (web or downloaded) you will see \"channels\". These are shared discussion places. Any messages you post will stay here, and you can search them later in case you want to find a discussion, say, on how to present your project.\n",
    "\n",
    "**All communication in this course will go through either Canvas or Slack, no email!** If you email me a question I will tell you to send me that question on Slack. If it is a question that is applicable to the whole class you can post it in the `course_discussion` channel and tag me, or just direct message me."
   ]
  },
  {
   "cell_type": "markdown",
   "metadata": {},
   "source": [
    "## Resources <a id=\"resources\"></a>\n",
    "\n",
    "Where are some places you can turn when you have questions? Google is obviously one of them, but here are some other sites I've found especially useful:\n",
    "\n",
    "- [Stack overflow](stackoverflow.com) - This is by far the best place on the web to get your programming questions answered. In general you shouldn't post a question on here, because someone else has already asked it! So instead, search for your question and find an answer that someone else posted. I use this 90%+ of the time when I have a question I can't figure out.\n",
    "- [Google](google.com) - This is obvious, but this should really be your first stop. Start by Googling your question. It's good to put a keyword indicating the program you're using, and then some important words describing your problem. So something like \"Slack direct message\", or \"Jupyter new Markdown cell\"."
   ]
  },
  {
   "cell_type": "code",
   "execution_count": null,
   "metadata": {},
   "outputs": [],
   "source": []
  }
 ],
 "metadata": {
  "kernelspec": {
   "display_name": "Python 3",
   "language": "python",
   "name": "python3"
  },
  "language_info": {
   "codemirror_mode": {
    "name": "ipython",
    "version": 3
   },
   "file_extension": ".py",
   "mimetype": "text/x-python",
   "name": "python",
   "nbconvert_exporter": "python",
   "pygments_lexer": "ipython3",
   "version": "3.8.2"
  }
 },
 "nbformat": 4,
 "nbformat_minor": 4
}
