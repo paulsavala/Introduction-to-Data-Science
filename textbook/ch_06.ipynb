{
 "cells": [
  {
   "cell_type": "markdown",
   "metadata": {
    "id": "R7_5Uj-6t4d_"
   },
   "source": [
    "# Classification\n",
    "\n",
    "Last week we learned about linear regression. It is clear that \"linear\" refers to a line, but what is \"regression\"? **Regression** is simply the process of predicting a continuous value. However, sometimes we want to predict a *categorical* value, such as dog vs cat vs mouse, or pass vs fail. Predicting a categorical value is refered to as **classification**."
   ]
  },
  {
   "cell_type": "markdown",
   "metadata": {
    "id": "EqhZPvxTt4eA"
   },
   "source": [
    "### Imports"
   ]
  },
  {
   "cell_type": "code",
   "execution_count": 1,
   "metadata": {
    "colab": {
     "base_uri": "https://localhost:8080/",
     "height": 34
    },
    "executionInfo": {
     "elapsed": 23125,
     "status": "ok",
     "timestamp": 1601485951550,
     "user": {
      "displayName": "Paul Savala",
      "photoUrl": "",
      "userId": "04066700849744751898"
     },
     "user_tz": 300
    },
    "id": "8nf9XOpIt4eB",
    "outputId": "cdd5c860-9260-4b6a-9bb3-f4e88c751cbb"
   },
   "outputs": [],
   "source": [
    "import pandas as pd\n",
    "import numpy as np\n",
    "\n",
    "from matplotlib import pyplot as plt\n",
    "\n",
    "from sklearn.model_selection import train_test_split"
   ]
  },
  {
   "cell_type": "markdown",
   "metadata": {
    "id": "M8nFQi6Vt4eE"
   },
   "source": [
    "### Data loading\n",
    "\n",
    "In this notebook we will work with data from an Internet Service Provider (ISP). It includes roughly 7000 (anonymized) customers. Below is a summary of the columns which may not be clear:\n",
    "- **customerID:** A unique ID for each customer\n",
    "- **Partner:** Whether or not the customer has a partner (spouse/significant other)\n",
    "- **tenure:** How many months the person has been a customer\n",
    "- **MonthlyCharges:** How much (in dollars) the customer is charged every month\n",
    "- **TotalCharges:** How much the customer has been charged over their lifetime with the ISP\n",
    "- **Churn:** Whether or not a customer leaves the ISP (i.e. cancels their service)"
   ]
  },
  {
   "cell_type": "code",
   "execution_count": null,
   "metadata": {
    "id": "V1RuDLJft4eE"
   },
   "outputs": [],
   "source": [
    "df = pd.read_csv('data/isp_customers.csv')"
   ]
  },
  {
   "cell_type": "code",
   "execution_count": null,
   "metadata": {
    "colab": {
     "base_uri": "https://localhost:8080/",
     "height": 309
    },
    "executionInfo": {
     "elapsed": 1911,
     "status": "ok",
     "timestamp": 1601485962645,
     "user": {
      "displayName": "Paul Savala",
      "photoUrl": "",
      "userId": "04066700849744751898"
     },
     "user_tz": 300
    },
    "id": "hbHZ8seQt4eH",
    "outputId": "b1206b92-9f69-4571-cff6-7e1a3a53338f"
   },
   "outputs": [
    {
     "data": {
      "text/html": [
       "<div>\n",
       "<style scoped>\n",
       "    .dataframe tbody tr th:only-of-type {\n",
       "        vertical-align: middle;\n",
       "    }\n",
       "\n",
       "    .dataframe tbody tr th {\n",
       "        vertical-align: top;\n",
       "    }\n",
       "\n",
       "    .dataframe thead th {\n",
       "        text-align: right;\n",
       "    }\n",
       "</style>\n",
       "<table border=\"1\" class=\"dataframe\">\n",
       "  <thead>\n",
       "    <tr style=\"text-align: right;\">\n",
       "      <th></th>\n",
       "      <th>customerID</th>\n",
       "      <th>gender</th>\n",
       "      <th>SeniorCitizen</th>\n",
       "      <th>Partner</th>\n",
       "      <th>Dependents</th>\n",
       "      <th>tenure</th>\n",
       "      <th>PhoneService</th>\n",
       "      <th>MultipleLines</th>\n",
       "      <th>InternetService</th>\n",
       "      <th>OnlineSecurity</th>\n",
       "      <th>OnlineBackup</th>\n",
       "      <th>DeviceProtection</th>\n",
       "      <th>TechSupport</th>\n",
       "      <th>StreamingTV</th>\n",
       "      <th>StreamingMovies</th>\n",
       "      <th>Contract</th>\n",
       "      <th>PaperlessBilling</th>\n",
       "      <th>PaymentMethod</th>\n",
       "      <th>MonthlyCharges</th>\n",
       "      <th>TotalCharges</th>\n",
       "      <th>Churn</th>\n",
       "    </tr>\n",
       "  </thead>\n",
       "  <tbody>\n",
       "    <tr>\n",
       "      <th>0</th>\n",
       "      <td>7590-VHVEG</td>\n",
       "      <td>Female</td>\n",
       "      <td>0</td>\n",
       "      <td>Yes</td>\n",
       "      <td>No</td>\n",
       "      <td>1</td>\n",
       "      <td>No</td>\n",
       "      <td>No phone service</td>\n",
       "      <td>DSL</td>\n",
       "      <td>No</td>\n",
       "      <td>Yes</td>\n",
       "      <td>No</td>\n",
       "      <td>No</td>\n",
       "      <td>No</td>\n",
       "      <td>No</td>\n",
       "      <td>Month-to-month</td>\n",
       "      <td>Yes</td>\n",
       "      <td>Electronic check</td>\n",
       "      <td>29.85</td>\n",
       "      <td>29.85</td>\n",
       "      <td>No</td>\n",
       "    </tr>\n",
       "    <tr>\n",
       "      <th>1</th>\n",
       "      <td>5575-GNVDE</td>\n",
       "      <td>Male</td>\n",
       "      <td>0</td>\n",
       "      <td>No</td>\n",
       "      <td>No</td>\n",
       "      <td>34</td>\n",
       "      <td>Yes</td>\n",
       "      <td>No</td>\n",
       "      <td>DSL</td>\n",
       "      <td>Yes</td>\n",
       "      <td>No</td>\n",
       "      <td>Yes</td>\n",
       "      <td>No</td>\n",
       "      <td>No</td>\n",
       "      <td>No</td>\n",
       "      <td>One year</td>\n",
       "      <td>No</td>\n",
       "      <td>Mailed check</td>\n",
       "      <td>56.95</td>\n",
       "      <td>1889.5</td>\n",
       "      <td>No</td>\n",
       "    </tr>\n",
       "    <tr>\n",
       "      <th>2</th>\n",
       "      <td>3668-QPYBK</td>\n",
       "      <td>Male</td>\n",
       "      <td>0</td>\n",
       "      <td>No</td>\n",
       "      <td>No</td>\n",
       "      <td>2</td>\n",
       "      <td>Yes</td>\n",
       "      <td>No</td>\n",
       "      <td>DSL</td>\n",
       "      <td>Yes</td>\n",
       "      <td>Yes</td>\n",
       "      <td>No</td>\n",
       "      <td>No</td>\n",
       "      <td>No</td>\n",
       "      <td>No</td>\n",
       "      <td>Month-to-month</td>\n",
       "      <td>Yes</td>\n",
       "      <td>Mailed check</td>\n",
       "      <td>53.85</td>\n",
       "      <td>108.15</td>\n",
       "      <td>Yes</td>\n",
       "    </tr>\n",
       "    <tr>\n",
       "      <th>3</th>\n",
       "      <td>7795-CFOCW</td>\n",
       "      <td>Male</td>\n",
       "      <td>0</td>\n",
       "      <td>No</td>\n",
       "      <td>No</td>\n",
       "      <td>45</td>\n",
       "      <td>No</td>\n",
       "      <td>No phone service</td>\n",
       "      <td>DSL</td>\n",
       "      <td>Yes</td>\n",
       "      <td>No</td>\n",
       "      <td>Yes</td>\n",
       "      <td>Yes</td>\n",
       "      <td>No</td>\n",
       "      <td>No</td>\n",
       "      <td>One year</td>\n",
       "      <td>No</td>\n",
       "      <td>Bank transfer (automatic)</td>\n",
       "      <td>42.30</td>\n",
       "      <td>1840.75</td>\n",
       "      <td>No</td>\n",
       "    </tr>\n",
       "    <tr>\n",
       "      <th>4</th>\n",
       "      <td>9237-HQITU</td>\n",
       "      <td>Female</td>\n",
       "      <td>0</td>\n",
       "      <td>No</td>\n",
       "      <td>No</td>\n",
       "      <td>2</td>\n",
       "      <td>Yes</td>\n",
       "      <td>No</td>\n",
       "      <td>Fiber optic</td>\n",
       "      <td>No</td>\n",
       "      <td>No</td>\n",
       "      <td>No</td>\n",
       "      <td>No</td>\n",
       "      <td>No</td>\n",
       "      <td>No</td>\n",
       "      <td>Month-to-month</td>\n",
       "      <td>Yes</td>\n",
       "      <td>Electronic check</td>\n",
       "      <td>70.70</td>\n",
       "      <td>151.65</td>\n",
       "      <td>Yes</td>\n",
       "    </tr>\n",
       "  </tbody>\n",
       "</table>\n",
       "</div>"
      ],
      "text/plain": [
       "   customerID  gender  SeniorCitizen  ... MonthlyCharges TotalCharges  Churn\n",
       "0  7590-VHVEG  Female              0  ...          29.85        29.85     No\n",
       "1  5575-GNVDE    Male              0  ...          56.95       1889.5     No\n",
       "2  3668-QPYBK    Male              0  ...          53.85       108.15    Yes\n",
       "3  7795-CFOCW    Male              0  ...          42.30      1840.75     No\n",
       "4  9237-HQITU  Female              0  ...          70.70       151.65    Yes\n",
       "\n",
       "[5 rows x 21 columns]"
      ]
     },
     "execution_count": 3,
     "metadata": {
      "tags": []
     },
     "output_type": "execute_result"
    }
   ],
   "source": [
    "df.head()"
   ]
  },
  {
   "cell_type": "markdown",
   "metadata": {
    "id": "UNrYVjwxt4eL"
   },
   "source": [
    "### Data cleaning\n",
    "\n",
    "Let's start by looking for missing or unrealistic values."
   ]
  },
  {
   "cell_type": "code",
   "execution_count": null,
   "metadata": {
    "colab": {
     "base_uri": "https://localhost:8080/",
     "height": 391
    },
    "executionInfo": {
     "elapsed": 1613,
     "status": "ok",
     "timestamp": 1601485962646,
     "user": {
      "displayName": "Paul Savala",
      "photoUrl": "",
      "userId": "04066700849744751898"
     },
     "user_tz": 300
    },
    "id": "qlm5iUyVt4eL",
    "outputId": "a9573a23-bc2c-4a06-9cfa-ca83e83a9363"
   },
   "outputs": [
    {
     "data": {
      "text/plain": [
       "customerID          0\n",
       "gender              0\n",
       "SeniorCitizen       0\n",
       "Partner             0\n",
       "Dependents          0\n",
       "tenure              0\n",
       "PhoneService        0\n",
       "MultipleLines       0\n",
       "InternetService     0\n",
       "OnlineSecurity      0\n",
       "OnlineBackup        0\n",
       "DeviceProtection    0\n",
       "TechSupport         0\n",
       "StreamingTV         0\n",
       "StreamingMovies     0\n",
       "Contract            0\n",
       "PaperlessBilling    0\n",
       "PaymentMethod       0\n",
       "MonthlyCharges      0\n",
       "TotalCharges        0\n",
       "Churn               0\n",
       "dtype: int64"
      ]
     },
     "execution_count": 4,
     "metadata": {
      "tags": []
     },
     "output_type": "execute_result"
    }
   ],
   "source": [
    "# Nothing missing\n",
    "df.isna().sum()"
   ]
  },
  {
   "cell_type": "code",
   "execution_count": null,
   "metadata": {
    "colab": {
     "base_uri": "https://localhost:8080/",
     "height": 391
    },
    "executionInfo": {
     "elapsed": 1451,
     "status": "ok",
     "timestamp": 1601485962647,
     "user": {
      "displayName": "Paul Savala",
      "photoUrl": "",
      "userId": "04066700849744751898"
     },
     "user_tz": 300
    },
    "id": "3gwiR8-1t4eO",
    "outputId": "5b073a08-19c6-45e6-ace2-1ac0b9929ae9"
   },
   "outputs": [
    {
     "data": {
      "text/plain": [
       "customerID           object\n",
       "gender               object\n",
       "SeniorCitizen         int64\n",
       "Partner              object\n",
       "Dependents           object\n",
       "tenure                int64\n",
       "PhoneService         object\n",
       "MultipleLines        object\n",
       "InternetService      object\n",
       "OnlineSecurity       object\n",
       "OnlineBackup         object\n",
       "DeviceProtection     object\n",
       "TechSupport          object\n",
       "StreamingTV          object\n",
       "StreamingMovies      object\n",
       "Contract             object\n",
       "PaperlessBilling     object\n",
       "PaymentMethod        object\n",
       "MonthlyCharges      float64\n",
       "TotalCharges         object\n",
       "Churn                object\n",
       "dtype: object"
      ]
     },
     "execution_count": 5,
     "metadata": {
      "tags": []
     },
     "output_type": "execute_result"
    }
   ],
   "source": [
    "df.dtypes"
   ]
  },
  {
   "cell_type": "markdown",
   "metadata": {
    "id": "Yt6CH-8ot4eR"
   },
   "source": [
    "Looking through the data types, we see that `TotalCharges` (money they've been charge in total) is an `object` (i.e. a string). That's bad, because we can't add, take averages, etc."
   ]
  },
  {
   "cell_type": "code",
   "execution_count": null,
   "metadata": {
    "colab": {
     "base_uri": "https://localhost:8080/",
     "height": 565
    },
    "collapsed": true,
    "executionInfo": {
     "elapsed": 1759,
     "status": "error",
     "timestamp": 1601485963156,
     "user": {
      "displayName": "Paul Savala",
      "photoUrl": "",
      "userId": "04066700849744751898"
     },
     "user_tz": 300
    },
    "id": "otLV_V68t4eR",
    "jupyter": {
     "outputs_hidden": true
    },
    "outputId": "31fefe8c-7f44-4c09-81a0-4741406ee490"
   },
   "outputs": [
    {
     "ename": "TypeError",
     "evalue": "ignored",
     "output_type": "error",
     "traceback": [
      "\u001b[0;31m---------------------------------------------------------------------------\u001b[0m",
      "\u001b[0;31mValueError\u001b[0m                                Traceback (most recent call last)",
      "\u001b[0;32m/usr/local/lib/python3.6/dist-packages/pandas/core/nanops.py\u001b[0m in \u001b[0;36m_ensure_numeric\u001b[0;34m(x)\u001b[0m\n\u001b[1;32m   1426\u001b[0m         \u001b[0;32mtry\u001b[0m\u001b[0;34m:\u001b[0m\u001b[0;34m\u001b[0m\u001b[0;34m\u001b[0m\u001b[0m\n\u001b[0;32m-> 1427\u001b[0;31m             \u001b[0mx\u001b[0m \u001b[0;34m=\u001b[0m \u001b[0mfloat\u001b[0m\u001b[0;34m(\u001b[0m\u001b[0mx\u001b[0m\u001b[0;34m)\u001b[0m\u001b[0;34m\u001b[0m\u001b[0;34m\u001b[0m\u001b[0m\n\u001b[0m\u001b[1;32m   1428\u001b[0m         \u001b[0;32mexcept\u001b[0m \u001b[0mValueError\u001b[0m\u001b[0;34m:\u001b[0m\u001b[0;34m\u001b[0m\u001b[0;34m\u001b[0m\u001b[0m\n",
      "\u001b[0;31mValueError\u001b[0m: could not convert string to float: '29.851889.5108.151840.75151.65820.51949.4301.93046.053487.95587.45326.85681.15036.32686.057895.151022.957382.25528.351862.939.65202.2520.153505.12970.31530.64749.1530.26369.451093.16766.95181.651874.4520.245.257251.7316.93548.33549.251105.4475.74872.35418.254861.45981.453906.797144.154217.84254.13838.751426.41752.65633.34456.351752.556311.27076.35894.37853.74707.15450.72962957.1857.25244.13650.352497.2930.9887.3549.051090.6570991424.6177.46139.52688.85482.252111.31216.679.35565.35496.94327.5973.35918.752215.451057927.11009.252570.274.75714.2571077459.05927.354748.7113.851107.22514.520.219.453605.63027.257611.85100.27303.05927.653921.31363.255238.93042.253954.12868.153423.5248.41126.351064.65835.152151.65515.45112.75229.55350.3562.93027.652135.51723.9519.753985.351215.651502.653260.135.4581.251188.21778.51277.751170.5570.456425.65563.655971.255289.051756.26416.761.3545.651929.951071.4564.35655.57930.555215.25113.51152.81821.95419.91024251.6764.551592.35135.23958.25233.91363.452736254.452651.2321.43539.25242.81181.755000.2654.55780.21145.7503.61559.25125229.9545.3662.652453.31111.6524.81023.8582.15244.82379.13173.355311375.48129.31192.71901.65587.46519.758041.6520.752681.151112.37405.51033.952958.952684.854179.279.91934.456654.184.525.251124.2540.051975.853437.453139.83789.25324.5624.6268.351836.920.2179.35219.351288.752545.7555.22723.154107.255760.654747.584.61566.9702114.1299.051305.951120.3284.356350.57878.33187.6...",
      "\nDuring handling of the above exception, another exception occurred:\n",
      "\u001b[0;31mValueError\u001b[0m                                Traceback (most recent call last)",
      "\u001b[0;32m/usr/local/lib/python3.6/dist-packages/pandas/core/nanops.py\u001b[0m in \u001b[0;36m_ensure_numeric\u001b[0;34m(x)\u001b[0m\n\u001b[1;32m   1430\u001b[0m             \u001b[0;32mtry\u001b[0m\u001b[0;34m:\u001b[0m\u001b[0;34m\u001b[0m\u001b[0;34m\u001b[0m\u001b[0m\n\u001b[0;32m-> 1431\u001b[0;31m                 \u001b[0mx\u001b[0m \u001b[0;34m=\u001b[0m \u001b[0mcomplex\u001b[0m\u001b[0;34m(\u001b[0m\u001b[0mx\u001b[0m\u001b[0;34m)\u001b[0m\u001b[0;34m\u001b[0m\u001b[0;34m\u001b[0m\u001b[0m\n\u001b[0m\u001b[1;32m   1432\u001b[0m             \u001b[0;32mexcept\u001b[0m \u001b[0mValueError\u001b[0m \u001b[0;32mas\u001b[0m \u001b[0merr\u001b[0m\u001b[0;34m:\u001b[0m\u001b[0;34m\u001b[0m\u001b[0;34m\u001b[0m\u001b[0m\n",
      "\u001b[0;31mValueError\u001b[0m: complex() arg is a malformed string",
      "\nThe above exception was the direct cause of the following exception:\n",
      "\u001b[0;31mTypeError\u001b[0m                                 Traceback (most recent call last)",
      "\u001b[0;32m<ipython-input-6-d336f838a284>\u001b[0m in \u001b[0;36m<module>\u001b[0;34m()\u001b[0m\n\u001b[1;32m      1\u001b[0m \u001b[0;31m# This doesn't work, a big error is coming...\u001b[0m\u001b[0;34m\u001b[0m\u001b[0;34m\u001b[0m\u001b[0;34m\u001b[0m\u001b[0m\n\u001b[0;32m----> 2\u001b[0;31m \u001b[0mdf\u001b[0m\u001b[0;34m[\u001b[0m\u001b[0;34m'TotalCharges'\u001b[0m\u001b[0;34m]\u001b[0m\u001b[0;34m.\u001b[0m\u001b[0mmean\u001b[0m\u001b[0;34m(\u001b[0m\u001b[0;34m)\u001b[0m\u001b[0;34m\u001b[0m\u001b[0;34m\u001b[0m\u001b[0m\n\u001b[0m",
      "\u001b[0;32m/usr/local/lib/python3.6/dist-packages/pandas/core/generic.py\u001b[0m in \u001b[0;36mstat_func\u001b[0;34m(self, axis, skipna, level, numeric_only, **kwargs)\u001b[0m\n\u001b[1;32m  11464\u001b[0m             \u001b[0;32mreturn\u001b[0m \u001b[0mself\u001b[0m\u001b[0;34m.\u001b[0m\u001b[0m_agg_by_level\u001b[0m\u001b[0;34m(\u001b[0m\u001b[0mname\u001b[0m\u001b[0;34m,\u001b[0m \u001b[0maxis\u001b[0m\u001b[0;34m=\u001b[0m\u001b[0maxis\u001b[0m\u001b[0;34m,\u001b[0m \u001b[0mlevel\u001b[0m\u001b[0;34m=\u001b[0m\u001b[0mlevel\u001b[0m\u001b[0;34m,\u001b[0m \u001b[0mskipna\u001b[0m\u001b[0;34m=\u001b[0m\u001b[0mskipna\u001b[0m\u001b[0;34m)\u001b[0m\u001b[0;34m\u001b[0m\u001b[0;34m\u001b[0m\u001b[0m\n\u001b[1;32m  11465\u001b[0m         return self._reduce(\n\u001b[0;32m> 11466\u001b[0;31m             \u001b[0mfunc\u001b[0m\u001b[0;34m,\u001b[0m \u001b[0mname\u001b[0m\u001b[0;34m=\u001b[0m\u001b[0mname\u001b[0m\u001b[0;34m,\u001b[0m \u001b[0maxis\u001b[0m\u001b[0;34m=\u001b[0m\u001b[0maxis\u001b[0m\u001b[0;34m,\u001b[0m \u001b[0mskipna\u001b[0m\u001b[0;34m=\u001b[0m\u001b[0mskipna\u001b[0m\u001b[0;34m,\u001b[0m \u001b[0mnumeric_only\u001b[0m\u001b[0;34m=\u001b[0m\u001b[0mnumeric_only\u001b[0m\u001b[0;34m\u001b[0m\u001b[0;34m\u001b[0m\u001b[0m\n\u001b[0m\u001b[1;32m  11467\u001b[0m         )\n\u001b[1;32m  11468\u001b[0m \u001b[0;34m\u001b[0m\u001b[0m\n",
      "\u001b[0;32m/usr/local/lib/python3.6/dist-packages/pandas/core/series.py\u001b[0m in \u001b[0;36m_reduce\u001b[0;34m(self, op, name, axis, skipna, numeric_only, filter_type, **kwds)\u001b[0m\n\u001b[1;32m   4234\u001b[0m                 )\n\u001b[1;32m   4235\u001b[0m             \u001b[0;32mwith\u001b[0m \u001b[0mnp\u001b[0m\u001b[0;34m.\u001b[0m\u001b[0merrstate\u001b[0m\u001b[0;34m(\u001b[0m\u001b[0mall\u001b[0m\u001b[0;34m=\u001b[0m\u001b[0;34m\"ignore\"\u001b[0m\u001b[0;34m)\u001b[0m\u001b[0;34m:\u001b[0m\u001b[0;34m\u001b[0m\u001b[0;34m\u001b[0m\u001b[0m\n\u001b[0;32m-> 4236\u001b[0;31m                 \u001b[0;32mreturn\u001b[0m \u001b[0mop\u001b[0m\u001b[0;34m(\u001b[0m\u001b[0mdelegate\u001b[0m\u001b[0;34m,\u001b[0m \u001b[0mskipna\u001b[0m\u001b[0;34m=\u001b[0m\u001b[0mskipna\u001b[0m\u001b[0;34m,\u001b[0m \u001b[0;34m**\u001b[0m\u001b[0mkwds\u001b[0m\u001b[0;34m)\u001b[0m\u001b[0;34m\u001b[0m\u001b[0;34m\u001b[0m\u001b[0m\n\u001b[0m\u001b[1;32m   4237\u001b[0m \u001b[0;34m\u001b[0m\u001b[0m\n\u001b[1;32m   4238\u001b[0m     \u001b[0;32mdef\u001b[0m \u001b[0m_reindex_indexer\u001b[0m\u001b[0;34m(\u001b[0m\u001b[0mself\u001b[0m\u001b[0;34m,\u001b[0m \u001b[0mnew_index\u001b[0m\u001b[0;34m,\u001b[0m \u001b[0mindexer\u001b[0m\u001b[0;34m,\u001b[0m \u001b[0mcopy\u001b[0m\u001b[0;34m)\u001b[0m\u001b[0;34m:\u001b[0m\u001b[0;34m\u001b[0m\u001b[0;34m\u001b[0m\u001b[0m\n",
      "\u001b[0;32m/usr/local/lib/python3.6/dist-packages/pandas/core/nanops.py\u001b[0m in \u001b[0;36m_f\u001b[0;34m(*args, **kwargs)\u001b[0m\n\u001b[1;32m     69\u001b[0m             \u001b[0;32mtry\u001b[0m\u001b[0;34m:\u001b[0m\u001b[0;34m\u001b[0m\u001b[0;34m\u001b[0m\u001b[0m\n\u001b[1;32m     70\u001b[0m                 \u001b[0;32mwith\u001b[0m \u001b[0mnp\u001b[0m\u001b[0;34m.\u001b[0m\u001b[0merrstate\u001b[0m\u001b[0;34m(\u001b[0m\u001b[0minvalid\u001b[0m\u001b[0;34m=\u001b[0m\u001b[0;34m\"ignore\"\u001b[0m\u001b[0;34m)\u001b[0m\u001b[0;34m:\u001b[0m\u001b[0;34m\u001b[0m\u001b[0;34m\u001b[0m\u001b[0m\n\u001b[0;32m---> 71\u001b[0;31m                     \u001b[0;32mreturn\u001b[0m \u001b[0mf\u001b[0m\u001b[0;34m(\u001b[0m\u001b[0;34m*\u001b[0m\u001b[0margs\u001b[0m\u001b[0;34m,\u001b[0m \u001b[0;34m**\u001b[0m\u001b[0mkwargs\u001b[0m\u001b[0;34m)\u001b[0m\u001b[0;34m\u001b[0m\u001b[0;34m\u001b[0m\u001b[0m\n\u001b[0m\u001b[1;32m     72\u001b[0m             \u001b[0;32mexcept\u001b[0m \u001b[0mValueError\u001b[0m \u001b[0;32mas\u001b[0m \u001b[0me\u001b[0m\u001b[0;34m:\u001b[0m\u001b[0;34m\u001b[0m\u001b[0;34m\u001b[0m\u001b[0m\n\u001b[1;32m     73\u001b[0m                 \u001b[0;31m# we want to transform an object array\u001b[0m\u001b[0;34m\u001b[0m\u001b[0;34m\u001b[0m\u001b[0;34m\u001b[0m\u001b[0m\n",
      "\u001b[0;32m/usr/local/lib/python3.6/dist-packages/pandas/core/nanops.py\u001b[0m in \u001b[0;36mf\u001b[0;34m(values, axis, skipna, **kwds)\u001b[0m\n\u001b[1;32m    127\u001b[0m                     \u001b[0mresult\u001b[0m \u001b[0;34m=\u001b[0m \u001b[0malt\u001b[0m\u001b[0;34m(\u001b[0m\u001b[0mvalues\u001b[0m\u001b[0;34m,\u001b[0m \u001b[0maxis\u001b[0m\u001b[0;34m=\u001b[0m\u001b[0maxis\u001b[0m\u001b[0;34m,\u001b[0m \u001b[0mskipna\u001b[0m\u001b[0;34m=\u001b[0m\u001b[0mskipna\u001b[0m\u001b[0;34m,\u001b[0m \u001b[0;34m**\u001b[0m\u001b[0mkwds\u001b[0m\u001b[0;34m)\u001b[0m\u001b[0;34m\u001b[0m\u001b[0;34m\u001b[0m\u001b[0m\n\u001b[1;32m    128\u001b[0m             \u001b[0;32melse\u001b[0m\u001b[0;34m:\u001b[0m\u001b[0;34m\u001b[0m\u001b[0;34m\u001b[0m\u001b[0m\n\u001b[0;32m--> 129\u001b[0;31m                 \u001b[0mresult\u001b[0m \u001b[0;34m=\u001b[0m \u001b[0malt\u001b[0m\u001b[0;34m(\u001b[0m\u001b[0mvalues\u001b[0m\u001b[0;34m,\u001b[0m \u001b[0maxis\u001b[0m\u001b[0;34m=\u001b[0m\u001b[0maxis\u001b[0m\u001b[0;34m,\u001b[0m \u001b[0mskipna\u001b[0m\u001b[0;34m=\u001b[0m\u001b[0mskipna\u001b[0m\u001b[0;34m,\u001b[0m \u001b[0;34m**\u001b[0m\u001b[0mkwds\u001b[0m\u001b[0;34m)\u001b[0m\u001b[0;34m\u001b[0m\u001b[0;34m\u001b[0m\u001b[0m\n\u001b[0m\u001b[1;32m    130\u001b[0m \u001b[0;34m\u001b[0m\u001b[0m\n\u001b[1;32m    131\u001b[0m             \u001b[0;32mreturn\u001b[0m \u001b[0mresult\u001b[0m\u001b[0;34m\u001b[0m\u001b[0;34m\u001b[0m\u001b[0m\n",
      "\u001b[0;32m/usr/local/lib/python3.6/dist-packages/pandas/core/nanops.py\u001b[0m in \u001b[0;36mnanmean\u001b[0;34m(values, axis, skipna, mask)\u001b[0m\n\u001b[1;32m    561\u001b[0m         \u001b[0mdtype_count\u001b[0m \u001b[0;34m=\u001b[0m \u001b[0mdtype\u001b[0m\u001b[0;34m\u001b[0m\u001b[0;34m\u001b[0m\u001b[0m\n\u001b[1;32m    562\u001b[0m     \u001b[0mcount\u001b[0m \u001b[0;34m=\u001b[0m \u001b[0m_get_counts\u001b[0m\u001b[0;34m(\u001b[0m\u001b[0mvalues\u001b[0m\u001b[0;34m.\u001b[0m\u001b[0mshape\u001b[0m\u001b[0;34m,\u001b[0m \u001b[0mmask\u001b[0m\u001b[0;34m,\u001b[0m \u001b[0maxis\u001b[0m\u001b[0;34m,\u001b[0m \u001b[0mdtype\u001b[0m\u001b[0;34m=\u001b[0m\u001b[0mdtype_count\u001b[0m\u001b[0;34m)\u001b[0m\u001b[0;34m\u001b[0m\u001b[0;34m\u001b[0m\u001b[0m\n\u001b[0;32m--> 563\u001b[0;31m     \u001b[0mthe_sum\u001b[0m \u001b[0;34m=\u001b[0m \u001b[0m_ensure_numeric\u001b[0m\u001b[0;34m(\u001b[0m\u001b[0mvalues\u001b[0m\u001b[0;34m.\u001b[0m\u001b[0msum\u001b[0m\u001b[0;34m(\u001b[0m\u001b[0maxis\u001b[0m\u001b[0;34m,\u001b[0m \u001b[0mdtype\u001b[0m\u001b[0;34m=\u001b[0m\u001b[0mdtype_sum\u001b[0m\u001b[0;34m)\u001b[0m\u001b[0;34m)\u001b[0m\u001b[0;34m\u001b[0m\u001b[0;34m\u001b[0m\u001b[0m\n\u001b[0m\u001b[1;32m    564\u001b[0m \u001b[0;34m\u001b[0m\u001b[0m\n\u001b[1;32m    565\u001b[0m     \u001b[0;32mif\u001b[0m \u001b[0maxis\u001b[0m \u001b[0;32mis\u001b[0m \u001b[0;32mnot\u001b[0m \u001b[0;32mNone\u001b[0m \u001b[0;32mand\u001b[0m \u001b[0mgetattr\u001b[0m\u001b[0;34m(\u001b[0m\u001b[0mthe_sum\u001b[0m\u001b[0;34m,\u001b[0m \u001b[0;34m\"ndim\"\u001b[0m\u001b[0;34m,\u001b[0m \u001b[0;32mFalse\u001b[0m\u001b[0;34m)\u001b[0m\u001b[0;34m:\u001b[0m\u001b[0;34m\u001b[0m\u001b[0;34m\u001b[0m\u001b[0m\n",
      "\u001b[0;32m/usr/local/lib/python3.6/dist-packages/pandas/core/nanops.py\u001b[0m in \u001b[0;36m_ensure_numeric\u001b[0;34m(x)\u001b[0m\n\u001b[1;32m   1432\u001b[0m             \u001b[0;32mexcept\u001b[0m \u001b[0mValueError\u001b[0m \u001b[0;32mas\u001b[0m \u001b[0merr\u001b[0m\u001b[0;34m:\u001b[0m\u001b[0;34m\u001b[0m\u001b[0;34m\u001b[0m\u001b[0m\n\u001b[1;32m   1433\u001b[0m                 \u001b[0;31m# e.g. \"foo\"\u001b[0m\u001b[0;34m\u001b[0m\u001b[0;34m\u001b[0m\u001b[0;34m\u001b[0m\u001b[0m\n\u001b[0;32m-> 1434\u001b[0;31m                 \u001b[0;32mraise\u001b[0m \u001b[0mTypeError\u001b[0m\u001b[0;34m(\u001b[0m\u001b[0;34mf\"Could not convert {x} to numeric\"\u001b[0m\u001b[0;34m)\u001b[0m \u001b[0;32mfrom\u001b[0m \u001b[0merr\u001b[0m\u001b[0;34m\u001b[0m\u001b[0;34m\u001b[0m\u001b[0m\n\u001b[0m\u001b[1;32m   1435\u001b[0m     \u001b[0;32mreturn\u001b[0m \u001b[0mx\u001b[0m\u001b[0;34m\u001b[0m\u001b[0;34m\u001b[0m\u001b[0m\n\u001b[1;32m   1436\u001b[0m \u001b[0;34m\u001b[0m\u001b[0m\n",
      "\u001b[0;31mTypeError\u001b[0m: Could not convert 29.851889.5108.151840.75151.65820.51949.4301.93046.053487.95587.45326.85681.15036.32686.057895.151022.957382.25528.351862.939.65202.2520.153505.12970.31530.64749.1530.26369.451093.16766.95181.651874.4520.245.257251.7316.93548.33549.251105.4475.74872.35418.254861.45981.453906.797144.154217.84254.13838.751426.41752.65633.34456.351752.556311.27076.35894.37853.74707.15450.72962957.1857.25244.13650.352497.2930.9887.3549.051090.6570991424.6177.46139.52688.85482.252111.31216.679.35565.35496.94327.5973.35918.752215.451057927.11009.252570.274.75714.2571077459.05927.354748.7113.851107.22514.520.219.453605.63027.257611.85100.27303.05927.653921.31363.255238.93042.253954.12868.153423.5248.41126.351064.65835.152151.65515.45112.75229.55350.3562.93027.652135.51723.9519.753985.351215.651502.653260.135.4581.251188.21778.51277.751170.5570.456425.65563.655971.255289.051756.26416.761.3545.651929.951071.4564.35655.57930.555215.25113.51152.81821.95419.91024251.6764.551592.35135.23958.25233.91363.452736254.452651.2321.43539.25242.81181.755000.2654.55780.21145.7503.61559.25125229.9545.3662.652453.31111.6524.81023.8582.15244.82379.13173.355311375.48129.31192.71901.65587.46519.758041.6520.752681.151112.37405.51033.952958.952684.854179.279.91934.456654.184.525.251124.2540.051975.853437.453139.83789.25324.5624.6268.351836.920.2179.35219.351288.752545.7555.22723.154107.255760.654747.584.61566.9702114.1299.051305.951120.3284.356350.57878.33187.656126.15731.3273.42..."
     ]
    }
   ],
   "source": [
    "# This doesn't work, a big error is coming...\n",
    "df['TotalCharges'].mean()"
   ]
  },
  {
   "cell_type": "markdown",
   "metadata": {
    "id": "1pTmJw2Dt4eY"
   },
   "source": [
    "You can try to convert it to a `float` using `.astype(float`), however..."
   ]
  },
  {
   "cell_type": "code",
   "execution_count": null,
   "metadata": {
    "id": "59H4nRWLt4eZ"
   },
   "outputs": [],
   "source": [
    "# An error is coming...\n",
    "df['TotalCharges'] = df['TotalCharges'].astype(float)"
   ]
  },
  {
   "cell_type": "markdown",
   "metadata": {
    "id": "vNJhjq3ct4eb"
   },
   "source": [
    "If you look at the error you'll see that there is a blank string `''` which Python doesn't know how to convert to a float. Pandas has a helper function `.to_numeric()` which can convert strings to numbers, and if you tell is `errors='coerce'` it will take values that it could not convert (like `''`, say, or `'apple'`) and make them into a `NaN`."
   ]
  },
  {
   "cell_type": "code",
   "execution_count": null,
   "metadata": {
    "id": "APIdPa_6t4ec"
   },
   "outputs": [],
   "source": [
    "df['TotalCharges'] = pd.to_numeric(df['TotalCharges'], errors='coerce') "
   ]
  },
  {
   "cell_type": "code",
   "execution_count": null,
   "metadata": {
    "colab": {
     "base_uri": "https://localhost:8080/",
     "height": 391
    },
    "executionInfo": {
     "elapsed": 196,
     "status": "ok",
     "timestamp": 1601485997594,
     "user": {
      "displayName": "Paul Savala",
      "photoUrl": "",
      "userId": "04066700849744751898"
     },
     "user_tz": 300
    },
    "id": "MAf_ciqRt4ee",
    "outputId": "9b364bc7-196d-4c66-865f-979c4ba2b9bf"
   },
   "outputs": [
    {
     "data": {
      "text/plain": [
       "customerID           object\n",
       "gender               object\n",
       "SeniorCitizen         int64\n",
       "Partner              object\n",
       "Dependents           object\n",
       "tenure                int64\n",
       "PhoneService         object\n",
       "MultipleLines        object\n",
       "InternetService      object\n",
       "OnlineSecurity       object\n",
       "OnlineBackup         object\n",
       "DeviceProtection     object\n",
       "TechSupport          object\n",
       "StreamingTV          object\n",
       "StreamingMovies      object\n",
       "Contract             object\n",
       "PaperlessBilling     object\n",
       "PaymentMethod        object\n",
       "MonthlyCharges      float64\n",
       "TotalCharges        float64\n",
       "Churn                object\n",
       "dtype: object"
      ]
     },
     "execution_count": 16,
     "metadata": {
      "tags": []
     },
     "output_type": "execute_result"
    }
   ],
   "source": [
    "df.dtypes"
   ]
  },
  {
   "cell_type": "code",
   "execution_count": null,
   "metadata": {
    "colab": {
     "base_uri": "https://localhost:8080/",
     "height": 391
    },
    "executionInfo": {
     "elapsed": 344,
     "status": "ok",
     "timestamp": 1601485998059,
     "user": {
      "displayName": "Paul Savala",
      "photoUrl": "",
      "userId": "04066700849744751898"
     },
     "user_tz": 300
    },
    "id": "mPfcolS2t4eg",
    "outputId": "f74037b5-7de6-4e6e-9cae-3b89ae8c741b"
   },
   "outputs": [
    {
     "data": {
      "text/plain": [
       "customerID           0\n",
       "gender               0\n",
       "SeniorCitizen        0\n",
       "Partner              0\n",
       "Dependents           0\n",
       "tenure               0\n",
       "PhoneService         0\n",
       "MultipleLines        0\n",
       "InternetService      0\n",
       "OnlineSecurity       0\n",
       "OnlineBackup         0\n",
       "DeviceProtection     0\n",
       "TechSupport          0\n",
       "StreamingTV          0\n",
       "StreamingMovies      0\n",
       "Contract             0\n",
       "PaperlessBilling     0\n",
       "PaymentMethod        0\n",
       "MonthlyCharges       0\n",
       "TotalCharges        11\n",
       "Churn                0\n",
       "dtype: int64"
      ]
     },
     "execution_count": 17,
     "metadata": {
      "tags": []
     },
     "output_type": "execute_result"
    }
   ],
   "source": [
    "df.isna().sum()"
   ]
  },
  {
   "cell_type": "markdown",
   "metadata": {
    "id": "af8dlztOt4ej"
   },
   "source": [
    "So there were 11 rows with bad values. Let's just drop those."
   ]
  },
  {
   "cell_type": "code",
   "execution_count": null,
   "metadata": {
    "id": "29gkRsE1t4ek"
   },
   "outputs": [],
   "source": [
    "df = df.dropna(how='any')"
   ]
  },
  {
   "cell_type": "markdown",
   "metadata": {
    "id": "pb_y--yLt4em"
   },
   "source": [
    "Finally, we see that lots of columns have values of `Yes` and `No`. It's good to check that these are consistent. For example, sometimes a `yes` (notice the lowercase) will sneak in, or ` Yes` (notice the extra space). We'll do a quick check. We can use the Pandas helper function `.select_dtypes()` to only select columns of a certain data type."
   ]
  },
  {
   "cell_type": "code",
   "execution_count": null,
   "metadata": {
    "colab": {
     "base_uri": "https://localhost:8080/",
     "height": 306
    },
    "executionInfo": {
     "elapsed": 281,
     "status": "ok",
     "timestamp": 1601486001692,
     "user": {
      "displayName": "Paul Savala",
      "photoUrl": "",
      "userId": "04066700849744751898"
     },
     "user_tz": 300
    },
    "id": "f17j-f-qt4em",
    "outputId": "efb32758-bd0f-4781-fa86-278fd0ed3037"
   },
   "outputs": [
    {
     "name": "stdout",
     "output_type": "stream",
     "text": [
      "gender: ['Female' 'Male']\n",
      "Partner: ['Yes' 'No']\n",
      "Dependents: ['No' 'Yes']\n",
      "PhoneService: ['No' 'Yes']\n",
      "MultipleLines: ['No phone service' 'No' 'Yes']\n",
      "InternetService: ['DSL' 'Fiber optic' 'No']\n",
      "OnlineSecurity: ['No' 'Yes' 'No internet service']\n",
      "OnlineBackup: ['Yes' 'No' 'No internet service']\n",
      "DeviceProtection: ['No' 'Yes' 'No internet service']\n",
      "TechSupport: ['No' 'Yes' 'No internet service']\n",
      "StreamingTV: ['No' 'Yes' 'No internet service']\n",
      "StreamingMovies: ['No' 'Yes' 'No internet service']\n",
      "Contract: ['Month-to-month' 'One year' 'Two year']\n",
      "PaperlessBilling: ['Yes' 'No']\n",
      "PaymentMethod: ['Electronic check' 'Mailed check' 'Bank transfer (automatic)'\n",
      " 'Credit card (automatic)']\n",
      "Churn: ['No' 'Yes']\n"
     ]
    }
   ],
   "source": [
    "for c in df.select_dtypes(include='object').columns:\n",
    "    # Just grab those columns with not too many different values\n",
    "    if df[c].nunique() < 10:\n",
    "        print(f'{c}: {df[c].unique()}')"
   ]
  },
  {
   "cell_type": "markdown",
   "metadata": {
    "id": "r7o4gsWmt4ep"
   },
   "source": [
    "Everythign seems fine here, no weird casing, spaces, etc. Let's move on."
   ]
  },
  {
   "cell_type": "markdown",
   "metadata": {
    "id": "74azEG_6t4ep"
   },
   "source": [
    "## Logistic regression <a id=\"logistic_regression\"></a>\n",
    "\n",
    "As discussed above, **regression** is the process of predicting a continuous value, while **classification** is the process of predicting a categorical value. Last week we worked with linear *regression*. This week we will start working with the analog on the classification side, namely, logistic regression.\n",
    "\n",
    "Now you may have noticed, we just said we are doing *classification* with logistic *regression*. This may be confusing. However, logistic regression actually *is* a *regression* model, we just use it for the purposes of classification. Let's dive in."
   ]
  },
  {
   "cell_type": "markdown",
   "metadata": {
    "id": "DOBiQv_xt4eq"
   },
   "source": [
    "Suppose we want to predict whether or not a customer will \"churn\" (cancel their service). This is a very common business question, and a common task for data analysts/scientists are companies. Note that we *cannot* directly use linear regression, because we're only predicting \"Yes\" or \"No\" for churn. Even if we were to do something like change \"Yes\" to 1 and \"No\" to 2, what if our linear regression model predicted a 3? Or 0.57? How should we interpret this? Rather than trying to force linear regression to work for our problem, let's instead change our approach.\n",
    "\n",
    "Let's suppose we're trying to determine if a customer will churn (i.e. `Churn='Yes'`). While we *could* come up with a way to simply predict \"Yes\" or \"No\", this could be problematic. After all, what if the model was 99% sure that one customer would churn, and 51% sure that another would. It would have no way to communicate this to us if all it did was return \"Yes\" for both customers. Instead, what we want our model to do is return the *probability* of a customer churning. By doing so we can see exactly how confident our model's predictions are.\n",
    "\n",
    "In order to do this, we first need a function which only returns values between 0 and 1. One such function which does this is called the **sigmoid function**, given by $\\sigma(x) = \\displaystyle\\frac{1}{1+e^{-x}}$. Below is a plot of the sigmoid function:"
   ]
  },
  {
   "cell_type": "code",
   "execution_count": null,
   "metadata": {
    "id": "OgbEmyDpt4eq"
   },
   "outputs": [],
   "source": [
    "def sigmoid(x):\n",
    "    return 1 / (1 + np.exp(-x))"
   ]
  },
  {
   "cell_type": "code",
   "execution_count": null,
   "metadata": {
    "colab": {
     "base_uri": "https://localhost:8080/",
     "height": 390
    },
    "executionInfo": {
     "elapsed": 506,
     "status": "ok",
     "timestamp": 1601486005373,
     "user": {
      "displayName": "Paul Savala",
      "photoUrl": "",
      "userId": "04066700849744751898"
     },
     "user_tz": 300
    },
    "id": "GHmakaMRt4es",
    "outputId": "cef2b3a0-9308-4fe5-c0bc-f0f608a44ece"
   },
   "outputs": [
    {
     "data": {
      "image/png": "[encoded data removed]",
      "text/plain": [
       "<Figure size 720x432 with 1 Axes>"
      ]
     },
     "metadata": {
      "needs_background": "light",
      "tags": []
     },
     "output_type": "display_data"
    }
   ],
   "source": [
    "# Print out x in a new cell to see what linspace does...\n",
    "x = np.linspace(-10, 10, 100)\n",
    "\n",
    "fig = plt.figure(figsize=(10, 6))\n",
    "plt.plot(x, sigmoid(x))\n",
    "plt.grid()\n",
    "plt.title('Sigmoid function');"
   ]
  },
  {
   "cell_type": "markdown",
   "metadata": {
    "id": "cI2moTn_t4eu"
   },
   "source": [
    "As you can see, this function always takes values between 0 and 1. You can see that by noting that $e^{-x} = \\displaystyle\\frac{1}{e^x}$ is always positive and takes values between 0 and infinity, and so the denominator takes values between 1 and infinity. Thus $\\displaystyle\\frac{1}{1 + e^{-x}}$ takes values between 0 and 1.\n",
    "\n",
    "One thing to note is that we can change exactly how the sigmoid function looks based on what we feed into it. For example, what if we plotted $\\sigma(2x)$, or $\\sigma(-3x+1)$? Below are plots showing the results."
   ]
  },
  {
   "cell_type": "code",
   "execution_count": null,
   "metadata": {
    "colab": {
     "base_uri": "https://localhost:8080/",
     "height": 390
    },
    "executionInfo": {
     "elapsed": 807,
     "status": "ok",
     "timestamp": 1601486007588,
     "user": {
      "displayName": "Paul Savala",
      "photoUrl": "",
      "userId": "04066700849744751898"
     },
     "user_tz": 300
    },
    "id": "1GFuPy9zt4ev",
    "outputId": "2aa72a38-021a-4689-ba11-04ba48501d3e"
   },
   "outputs": [
    {
     "data": {
      "image/png": "[encoded data removed]",
      "text/plain": [
       "<Figure size 720x432 with 1 Axes>"
      ]
     },
     "metadata": {
      "needs_background": "light",
      "tags": []
     },
     "output_type": "display_data"
    }
   ],
   "source": [
    "fig = plt.figure(figsize=(10, 6))\n",
    "plt.plot(x, sigmoid(0*x), label='a=0')\n",
    "plt.plot(x, sigmoid(0.5*x), label='a=0.5')\n",
    "plt.plot(x, sigmoid(x), label='a=1')\n",
    "plt.plot(x, sigmoid(2*x), label='a=2')\n",
    "plt.plot(x, sigmoid(5*x), label='a=5')\n",
    "plt.legend()\n",
    "plt.grid()\n",
    "plt.title('Sigmoid function with various values of a');"
   ]
  },
  {
   "cell_type": "code",
   "execution_count": null,
   "metadata": {
    "colab": {
     "base_uri": "https://localhost:8080/",
     "height": 390
    },
    "executionInfo": {
     "elapsed": 802,
     "status": "ok",
     "timestamp": 1601486007721,
     "user": {
      "displayName": "Paul Savala",
      "photoUrl": "",
      "userId": "04066700849744751898"
     },
     "user_tz": 300
    },
    "id": "nIKdza0vt4ex",
    "outputId": "4f2ae117-931a-4103-cb0f-7e173fe78a7a"
   },
   "outputs": [
    {
     "data": {
      "image/png": "[encoded data removed]",
      "text/plain": [
       "<Figure size 720x432 with 1 Axes>"
      ]
     },
     "metadata": {
      "needs_background": "light",
      "tags": []
     },
     "output_type": "display_data"
    }
   ],
   "source": [
    "fig = plt.figure(figsize=(10, 6))\n",
    "plt.plot(x, sigmoid(x+0), label='b=0')\n",
    "plt.plot(x, sigmoid(x+0.5), label='b=0.5')\n",
    "plt.plot(x, sigmoid(x+1), label='b=1')\n",
    "plt.plot(x, sigmoid(x+2), label='b=2')\n",
    "plt.plot(x, sigmoid(x+5), label='b=5')\n",
    "plt.legend()\n",
    "plt.grid()\n",
    "plt.title('Sigmoid function with various values of b');"
   ]
  },
  {
   "cell_type": "code",
   "execution_count": null,
   "metadata": {
    "colab": {
     "base_uri": "https://localhost:8080/",
     "height": 390
    },
    "executionInfo": {
     "elapsed": 801,
     "status": "ok",
     "timestamp": 1601486007883,
     "user": {
      "displayName": "Paul Savala",
      "photoUrl": "",
      "userId": "04066700849744751898"
     },
     "user_tz": 300
    },
    "id": "_7TLikbft4ez",
    "outputId": "0dd43ba4-b35c-4139-c2b4-87e95e18b436"
   },
   "outputs": [
    {
     "data": {
      "image/png": "[encoded data removed]",
      "text/plain": [
       "<Figure size 720x432 with 1 Axes>"
      ]
     },
     "metadata": {
      "needs_background": "light",
      "tags": []
     },
     "output_type": "display_data"
    }
   ],
   "source": [
    "fig = plt.figure(figsize=(10, 6))\n",
    "plt.plot(x, sigmoid(-1*x), label='a=-1')\n",
    "plt.plot(x, sigmoid(-2*x), label='a=-2')\n",
    "plt.plot(x, sigmoid(-5*x), label='a=-5')\n",
    "plt.legend()\n",
    "plt.grid()\n",
    "plt.title('Sigmoid function with negative values of a');"
   ]
  },
  {
   "cell_type": "markdown",
   "metadata": {
    "id": "m9yfX553t4e1"
   },
   "source": [
    "So making $a$ larger makes the graph \"sharper\" in the middle (i.e. a faster transition from 0 to 1), and making it closer to zero smooths it out. Making $a$ negative flips the graph. Making $b$ larger moves the graph to the left, and making it negative moves it to the right (this should all sound like manipulating any function $f(x)$). \n",
    "\n",
    "The question then is, what values of $a$ and $b$ will make the sigmoid best predict probabilities for churn? In fact, just like with linear regression, there is no reason we need only a single slope and y-intercept. We could have the logistic regression function with many variables:\n",
    "\n",
    "$$\n",
    "\\sigma(m_1 x_1 + m_2 x_2 + \\cdots + m_n x_n + b) = \\displaystyle\\frac{1}{1+e^{-m_1 x_1 - m_2 x_2 - \\cdots - m_n x_n - b}}\n",
    "$$\n",
    "\n",
    "This is a completely valid function that makes its predictions based on a number of different variables. We could fit this model using gradient descent, exactly like linear regression did. **This is logistic regression**. Logistic regression is simply linear regression, but plugged into the sigmoid function to force the output to be between 0 and 1. Rather than coding it by hand, we will use sklearn's implementation of logistic regression. All of the steps should look very similar to how we did linear regression using sklearn. In the background, what sklearn is doing is predicting the probability of \"Yes\" vs \"No\". It then finds which has a higher probability, and returns that as the prediction. So while it *looks like* a classification model (in that it's predicting a categorical value of Yes/No), in actuality what is going on is regression (it is predicting a probability, a continuous value between 0 and 1). Let's take a look."
   ]
  },
  {
   "cell_type": "code",
   "execution_count": null,
   "metadata": {
    "id": "m8A31sy_t4e1"
   },
   "outputs": [],
   "source": [
    "from sklearn.linear_model import LogisticRegression\n",
    "\n",
    "# It is common to use the variable name \"clf\" for \"classifier\". We discourage you from using \"lr\" for \"logistic regression\", as \"lr\" typically refers to \"linear regression\"\n",
    "clf = LogisticRegression()"
   ]
  },
  {
   "cell_type": "markdown",
   "metadata": {
    "id": "FS_HfHUXt4e3"
   },
   "source": [
    "Since we need continuous values of $x_i$ for the above formula to make sense, we can only use continuous features to predict churn. We will use `TotalCharges` and `MonthlyCharges`."
   ]
  },
  {
   "cell_type": "code",
   "execution_count": null,
   "metadata": {
    "colab": {
     "base_uri": "https://localhost:8080/",
     "height": 102
    },
    "executionInfo": {
     "elapsed": 241,
     "status": "ok",
     "timestamp": 1601486010103,
     "user": {
      "displayName": "Paul Savala",
      "photoUrl": "",
      "userId": "04066700849744751898"
     },
     "user_tz": 300
    },
    "id": "PvL3MBMrt4e3",
    "outputId": "b8606eed-f8d7-410e-fd81-5be92504df67"
   },
   "outputs": [
    {
     "data": {
      "text/plain": [
       "LogisticRegression(C=1.0, class_weight=None, dual=False, fit_intercept=True,\n",
       "                   intercept_scaling=1, l1_ratio=None, max_iter=100,\n",
       "                   multi_class='auto', n_jobs=None, penalty='l2',\n",
       "                   random_state=None, solver='lbfgs', tol=0.0001, verbose=0,\n",
       "                   warm_start=False)"
      ]
     },
     "execution_count": 26,
     "metadata": {
      "tags": []
     },
     "output_type": "execute_result"
    }
   ],
   "source": [
    "train_df, test_df = train_test_split(df, test_size=0.3)\n",
    "\n",
    "feat_cols = ['TotalCharges', 'MonthlyCharges']\n",
    "target_col = 'Churn'\n",
    "\n",
    "X_train = train_df[feat_cols]\n",
    "y_train = train_df[target_col]\n",
    "\n",
    "X_test = test_df[feat_cols]\n",
    "y_test = test_df[target_col]\n",
    "\n",
    "clf.fit(X_train, y_train)"
   ]
  },
  {
   "cell_type": "code",
   "execution_count": null,
   "metadata": {
    "id": "eoCIySZ0t4e5",
    "outputId": "5e9614d3-cde1-4162-8984-959f82b4269d"
   },
   "outputs": [
    {
     "name": "stdout",
     "output_type": "stream",
     "text": [
      "Predicted = No, Actual = Yes\n",
      "Predicted = No, Actual = No\n",
      "Predicted = No, Actual = Yes\n",
      "Predicted = No, Actual = No\n",
      "Predicted = No, Actual = No\n",
      "Predicted = No, Actual = No\n",
      "Predicted = Yes, Actual = Yes\n",
      "Predicted = No, Actual = No\n",
      "Predicted = No, Actual = No\n",
      "Predicted = No, Actual = Yes\n"
     ]
    }
   ],
   "source": [
    "test_pred = clf.predict(X_test)\n",
    "\n",
    "for i in range(10):\n",
    "    # We use [i] for test_pred because it's a list (actually a numpy array, basically the same thing)\n",
    "    # We use .iloc[i] for y_test because it's a Pandas Series/DataFrame\n",
    "    print(f'Predicted = {test_pred[i]}, Actual = {y_test.iloc[i]}')"
   ]
  },
  {
   "cell_type": "markdown",
   "metadata": {
    "id": "Uy2-Knt7t4e7"
   },
   "source": [
    "We said above that sklearn is actually predicting probabilities. If you'd like to see what those probabilities are, you can use the `.predict_proba()` function. This returns a list, where the first number is the probability of the first class, and the second is the probability of the second class."
   ]
  },
  {
   "cell_type": "code",
   "execution_count": null,
   "metadata": {
    "id": "PPEcPom2t4e8",
    "outputId": "12138ae5-bff1-4101-b82c-4901b73f8ba6"
   },
   "outputs": [
    {
     "name": "stdout",
     "output_type": "stream",
     "text": [
      "Predicted: P(\"No\") = 0.715, P(\"Yes\") = 0.285, Actual = Yes\n",
      "Predicted: P(\"No\") = 0.791, P(\"Yes\") = 0.209, Actual = No\n",
      "Predicted: P(\"No\") = 0.851, P(\"Yes\") = 0.149, Actual = Yes\n",
      "Predicted: P(\"No\") = 0.859, P(\"Yes\") = 0.141, Actual = No\n",
      "Predicted: P(\"No\") = 0.643, P(\"Yes\") = 0.357, Actual = No\n",
      "Predicted: P(\"No\") = 0.641, P(\"Yes\") = 0.359, Actual = No\n",
      "Predicted: P(\"No\") = 0.404, P(\"Yes\") = 0.596, Actual = Yes\n",
      "Predicted: P(\"No\") = 0.941, P(\"Yes\") = 0.059, Actual = No\n",
      "Predicted: P(\"No\") = 0.530, P(\"Yes\") = 0.470, Actual = No\n",
      "Predicted: P(\"No\") = 0.866, P(\"Yes\") = 0.134, Actual = Yes\n"
     ]
    }
   ],
   "source": [
    "test_pred_proba = clf.predict_proba(X_test)\n",
    "\n",
    "for i in range(10):\n",
    "    # We use [i] for test_pred because it's a list (actually a numpy array, basically the same thing)\n",
    "    # We use .iloc[i] for y_test because it's a Pandas Series/DataFrame\n",
    "    print(f'Predicted: P(\"No\") = {test_pred_proba[i][0]:.3f}, P(\"Yes\") = {test_pred_proba[i][1]:.3f}, Actual = {y_test.iloc[i]}')"
   ]
  },
  {
   "cell_type": "markdown",
   "metadata": {
    "id": "NLUoBRMYt4e9"
   },
   "source": [
    "Looking at the probabilities can be interesting, as you can see which rows it is highly confident in, and which it is unsure of. If you wanted to, you could write your own function which would not use 0.5 (50%) as the cutoff, but some other value.\n",
    "\n",
    "We can see that overall our predictions mostly match the correct values. However, one interesting thing to note is that all of the predictions shown are \"No\". So did our model *ever* predict \"Yes\"? The easiest way to check this is to turn our predictions into a Pandas Series, and then use `value_counts()`."
   ]
  },
  {
   "cell_type": "code",
   "execution_count": null,
   "metadata": {
    "id": "uHkb57u4t4e-",
    "outputId": "6e949053-b478-4099-fafd-7b3fba2fc414"
   },
   "outputs": [
    {
     "data": {
      "text/plain": [
       "No     1750\n",
       "Yes     360\n",
       "dtype: int64"
      ]
     },
     "execution_count": 62,
     "metadata": {
      "tags": []
     },
     "output_type": "execute_result"
    }
   ],
   "source": [
    "pd.Series(test_pred).value_counts()"
   ]
  },
  {
   "cell_type": "markdown",
   "metadata": {
    "id": "lyF2mjVWt4fA"
   },
   "source": [
    "So sure enough, it did. Let's go through all the predictions and count up what percentage are correct."
   ]
  },
  {
   "cell_type": "code",
   "execution_count": null,
   "metadata": {
    "id": "0eUYIdNat4fB",
    "outputId": "4f938db3-142b-42c8-ecfe-95caa4007d9d"
   },
   "outputs": [
    {
     "name": "stdout",
     "output_type": "stream",
     "text": [
      "Correct 1645 times (77.96%)\n"
     ]
    }
   ],
   "source": [
    "correct = 0\n",
    "for i in range(y_test.shape[0]):\n",
    "    if test_pred[i] == y_test.iloc[i]:\n",
    "        correct += 1\n",
    "        \n",
    "print(f'Correct {correct} times ({100 * correct / y_test.shape[0]:.2f}%)')"
   ]
  },
  {
   "cell_type": "markdown",
   "metadata": {
    "id": "WR_V0jMct4fD"
   },
   "source": [
    "So it predicted correctly about 78% of the time, not bad!\n",
    "\n",
    "Except that's really not that great. You may think \"why is 78% bad? If I were guessing randomly I could only guess correctly 50% of the time!\" Of course this is true. However, let's look at the customer churn in the training set."
   ]
  },
  {
   "cell_type": "code",
   "execution_count": null,
   "metadata": {
    "id": "kwBr7ff4t4fD",
    "outputId": "459de584-8596-445f-a34b-2ab216effe4e"
   },
   "outputs": [
    {
     "data": {
      "text/plain": [
       "No     0.733442\n",
       "Yes    0.266558\n",
       "Name: Churn, dtype: float64"
      ]
     },
     "execution_count": 66,
     "metadata": {
      "tags": []
     },
     "output_type": "execute_result"
    }
   ],
   "source": [
    "train_df['Churn'].value_counts(normalize=True)"
   ]
  },
  {
   "cell_type": "markdown",
   "metadata": {
    "id": "ZFPo3oalt4fG"
   },
   "source": [
    "So about 73% of customers did not churn. So if I had a \"model\" which simply always predicted \"No\", it looks like (at least on the training set) I would be correct about 73% of the time. Let's see how that would work on the test set."
   ]
  },
  {
   "cell_type": "code",
   "execution_count": null,
   "metadata": {
    "id": "Srair4Xkt4fG",
    "outputId": "7ac9b4c6-3178-4b32-9b1d-d2b7be4dc536"
   },
   "outputs": [
    {
     "name": "stdout",
     "output_type": "stream",
     "text": [
      "Correct 1553 times (73.60%)\n"
     ]
    }
   ],
   "source": [
    "correct = 0\n",
    "for i in range(y_test.shape[0]):\n",
    "    if 'No' == y_test.iloc[i]:\n",
    "        correct += 1\n",
    "        \n",
    "print(f'Correct {correct} times ({100 * correct / y_test.shape[0]:.2f}%)')"
   ]
  },
  {
   "cell_type": "markdown",
   "metadata": {
    "id": "hQBn--QCt4fI"
   },
   "source": [
    "So our logistic model only moved us from 73.6% to 78%. So while a almost 6% increase (compute percentages the correct way: (new - old) / old = (77.96 - 73.6) / 73.6 = 5.92% improvement) is nothing to sneeze at, it's not nearly as good as it may seem at first glance."
   ]
  },
  {
   "cell_type": "markdown",
   "metadata": {
    "id": "yu1X9Lgot4fI"
   },
   "source": [
    "## Loss functions for classification <a id=\"loss_classification\"></a>\n",
    "\n",
    "Earlier this semester we talked about that the way models are trained is by using gradient descent. More specifically, we pick a loss function which measures how good or bad our predictions are, and then keep adjusting our models parameters until that loss is as small as possible. For the case of regression, this loss function is generally mean squared error (MSE), which had the equation\n",
    "\n",
    "$$\n",
    "MSE = \\displaystyle\\sum_{i=1}^n (y_i - \\hat{y_i})^2 \n",
    "$$\n",
    "\n",
    "where $y_i$ is the ground truth (correct value) and $\\hat{y_i)$ is the predicted value. But what about for classification? Since we are taking the gradient of the loss function, we need it to be continuous and differentiable. Classification works with categories (either as text, such as \"Yes\" and \"No\") and integers (1, 2, 3, etc.). This makes it hard to make things differentiable. Therefore, we primarily work with the *probabilities* predicted. Most classification models don't just produce a prediction, they also predict the probability of an occurence. The loss function we will primarily use is called cross entropy. If there are just two classes we are predicting (Yes/No, 0/1, etc.) then this is called binary cross entropy, and has the following form:\n",
    "\n",
    "$$\n",
    "BCE = -\\frac{1}{n}\\displaystyle\\sum_{i=1}^n (y_i \\log(\\hat{y_i}) + (1-y_i)\\log(1-\\hat{y_i}))\n",
    "$$"
   ]
  },
  {
   "cell_type": "markdown",
   "metadata": {
    "id": "39XNAOi1t4fJ"
   },
   "source": [
    "It's beyond the scope of this course to dive into the mathematics of this, but the primary idea is that binary cross entropy measures how similar $y$ and $\\hat{y}$ are. In cases where there are more than two classes, we instead use the loss function cross entropy (note that it is no longer \"binary\"), which has the form\n",
    "\n",
    "$$\n",
    "CE = -\\frac{1}{n}\\displaystyle\\sum_{i=1}^n \\displaystyle\\sum_{c=1}^C c_i \\log(\\hat{c_i})\n",
    "$$\n",
    "\n",
    "where $C$ is the number of classes and $c_i$ is the probability of the $i$'th sample being in class $c$."
   ]
  },
  {
   "cell_type": "markdown",
   "metadata": {
    "id": "OUrzjbuUt4fJ"
   },
   "source": [
    "## Classification metrics <a id=\"classification_metrics\"></a>\n",
    "\n",
    "As the previous section hinted at, \"accuracy\" is not always the best metric. For example, consider the following problem: You work for a biomedical company and want to develop a test to predict whether or not a patient has a certain disease. You look through the data and see that roughly 0.04% of the population has this disease. Therefore, by creating a \"test\" which says \"No, you don't have the disease\", you would be right (i.e. accurate) 99.96% of the time!\n",
    "\n",
    "Our goal then is to come up with other metrics besides accuracy which help us determine how good our model is. Below are several such metrics."
   ]
  },
  {
   "cell_type": "markdown",
   "metadata": {
    "id": "gk--z5X2t4fJ"
   },
   "source": [
    "### Weighted accuracy <a id=\"weighted_accuracy\"></a>\n",
    "\n",
    "The simplest improvement we can make is to \"weight\" our classes differently. For example, since we see that 70%+ of the ISP customers do not churn, the ISP is probably more interested in being correct on customers who *will* churn. For example, suppose the company looks for customers predicted to churn, and reaches out to them to say \"thank you for being a customer, here is a \\$5 gift card\". If the model was correct and the customer really was ready to leave (churn), then maybe this intervention will make them stay. And if the model was wrong and the customer was not planning to churn, then the company is only out \\$5, and the customer is very happy! So being correct on the churning customers is more important than on the non-churning customers. Therefore, we could consider the following change: Give predictions a value of (say) 0.2 if the prediction is that they won't churn, and a value of 0.7 if the prediction is that they will churn. That way, correct predictions for churn are given more \"weight\", and incorrect predictions for churn are penalized more heavily as well.\n",
    "\n",
    "Let's do this now."
   ]
  },
  {
   "cell_type": "code",
   "execution_count": null,
   "metadata": {
    "id": "rzAhmIpft4fK"
   },
   "outputs": [],
   "source": [
    "def weighted_accuracy(y, y_pred, weights):\n",
    "    correct_weighted = 0\n",
    "    for i in range(y.shape[0]):\n",
    "        if y_pred[i] == y.iloc[i]:\n",
    "            correct_weighted += weights[y_pred[i]]\n",
    "\n",
    "    print(f'Weighted accuracy: {100 * correct_weighted / y.shape[0]:.2f}%')"
   ]
  },
  {
   "cell_type": "code",
   "execution_count": null,
   "metadata": {
    "id": "2h7MMm6Ut4fM",
    "outputId": "1687021f-9e7f-4a74-bce8-0ea79d9d9117"
   },
   "outputs": [
    {
     "name": "stdout",
     "output_type": "stream",
     "text": [
      "Weighted accuracy: 49.22%\n"
     ]
    }
   ],
   "source": [
    "weights = {'Yes': 0.2, 'No': 0.7}\n",
    "weighted_accuracy(y_test, test_pred, weights)"
   ]
  },
  {
   "cell_type": "code",
   "execution_count": null,
   "metadata": {
    "id": "IXqgcdWWt4fO",
    "outputId": "432e8911-81df-46bf-bce3-71dad6178344"
   },
   "outputs": [
    {
     "name": "stdout",
     "output_type": "stream",
     "text": [
      "Weighted accuracy: 77.96%\n"
     ]
    }
   ],
   "source": [
    "# Giving both a weight of 1 is just accuracy, and so we get the exact same value\n",
    "weights = {'Yes': 1, 'No': 1}\n",
    "weighted_accuracy(y_test, test_pred, weights)"
   ]
  },
  {
   "cell_type": "markdown",
   "metadata": {
    "id": "I0QfnFout4fQ"
   },
   "source": [
    "Thus our weighted accuracy is much lower. Note that weighted accuracy requires you to (essentially randomly) choose the weights for each category. This is problematic, because your results depend heavily on these values."
   ]
  },
  {
   "cell_type": "markdown",
   "metadata": {
    "id": "hhFSEbKit4fQ"
   },
   "source": [
    "### Precision and Recall <a id=\"precision_recall\"></a>\n",
    "\n",
    "In accuracy, predicting \"Yes\" or \"No\" both received the same \"weight\". We could fix this in weighted accuracy by assigning weights, but those weights were essentially arbitrary. Really what we want is to focus on the customers who actually will churn (i.e. the ground truth for `Churn` is \"Yes\"). What we can do is compute the following: Out of the customers who we *predicted* will churn, what percentage of those *actually did* churn? In other words, what is the **precision** of our model. Written as an equation, this becomes:\n",
    "\n",
    "$$\n",
    "\\text{Precision} = \\frac{\\text{predicted positive}}{\\text{true positive} + \\text{false positive}}\n",
    "$$\n",
    "\n",
    "where **true positive** means a positive prediction (Churn = \"Yes\" in our case) which is correct (the customer actually did churn), and **false positive** means a positive prediction (Churn = \"Yes\") which was wrong (the customer *did not* churn). \n",
    "\n",
    "Note that what precision is doing is focusing on the *model predictions* and see what percentage of positive predictions were correct. What if we did this the other way? That is, what if we instead focused on the *ground truth* and saw how our *model* did? In other words, what if we computed the following: Out of the customers who *actually did* churn, what percentage did we *predict* will churn? Notice that this is exactly the reverse of precision. The name for this metric is **recall**, also called the **true positive rate**. In equation form this becomes:\n",
    "\n",
    "$$\n",
    "\\text{Recall} = \\frac{\\text{predicted positive}}{\\text{true positive}}\n",
    "$$\n",
    "\n",
    "Thankfully, we do not need to compute all of these metrics by hand. Sklearn has helper functions built in for these. In particular, there is one especially helpful function called the classification report, illustrated below."
   ]
  },
  {
   "cell_type": "code",
   "execution_count": null,
   "metadata": {
    "id": "buLQgVXVt4fQ",
    "outputId": "a38f3292-3d8b-4a41-9473-d972f037c010"
   },
   "outputs": [
    {
     "name": "stdout",
     "output_type": "stream",
     "text": [
      "              precision    recall  f1-score   support\n",
      "\n",
      "          No       0.81      0.91      0.86      1553\n",
      "         Yes       0.63      0.41      0.49       557\n",
      "\n",
      "    accuracy                           0.78      2110\n",
      "   macro avg       0.72      0.66      0.68      2110\n",
      "weighted avg       0.76      0.78      0.76      2110\n",
      "\n"
     ]
    }
   ],
   "source": [
    "from sklearn.metrics import classification_report\n",
    "\n",
    "# Classification_report wants the correct labels first, followed by the predictions.\n",
    "# You should always use print to display it, otherwise it will look bad\n",
    "print(classification_report(y_test, test_pred))"
   ]
  },
  {
   "cell_type": "markdown",
   "metadata": {
    "id": "HmCXg4uXt4fT"
   },
   "source": [
    "Let's step through this. We don't know all of the components yet, but we can get a good start.\n",
    "\n",
    "First the classification report is broken by what Churn: \"Yes\" vs \"No\". We said the ISP probably cares more about \"Yes\" churns, so we'll look at that row. \n",
    "**Precision:**\n",
    "We see that the precision is 63%, meaning that out of the customers we *predicted* will churn, 63% of them actually did. To see the same thing for customers who didn't churn you can look at the \"No\" row. There the precision is 81%, so of customers that we predicted will *not* churn, 81% indeed did not.\n",
    "\n",
    "**Recall:**\n",
    "We see that for \"Yes\" churns, the recall is 41%, meaning that out of the customers who *actually did* churn, only 41% of them did we *predict* would churn. Similarly, for the \"No\" churn, see that out of the customers who *actually did not* churn, our model predicted 91% of them correctly.\n",
    "\n",
    "**Support:**\n",
    "Support is simply how many samples fit into each group. So for instance, 1,553 samples (rows) had customers who didn't churn, and 557 had customers who did churn.\n",
    "\n",
    "**Accuracy:**\n",
    "In the third row we see an overall accuracy on 78%, which is the same result we got above when we computed accuracy by hand."
   ]
  },
  {
   "cell_type": "markdown",
   "metadata": {
    "id": "IsSPhhI0t4fT"
   },
   "source": [
    "### F1-score <a id=\"f1_score\"></a>\n",
    "\n",
    "Finally, we will discuss f1-score. Notice that precision considers actual positives (customers who really did churn, say) and finds what percentage our model could correctly predict. So precision rewards our model for being correct on the positive samples, even if it makes mistakes on the negative samples. Recall, on the other hand, looks at model positive predictions and finds what percentage of them are correct. So recall rewards our model for finding as many of the positive samples as possible. Ideally we want both of these to be true. We want our model to be strong on the positive samples, and we also want it to find as many positive samples as possible. In other to measure both of these at once, we can take a sort of average. In fact, we take the harmonic mean rather than the normal mean that you're used to. For an interesting article on various types of means, check out [this article](https://towardsdatascience.com/on-average-youre-using-the-wrong-average-geometric-harmonic-means-in-data-analysis-2a703e21ea0).\n",
    "\n",
    "Regardless of the details, f1-score can be thought of as a type of average of precision and recall. It takes values between 0 and 1 (like precision, recall and accuracy), but it does not have a simple one sentence explanation like these others do. Regardless, if one model has a higher f1-score then another model, then it is likely that that model is \"better\" (in some sense) than the model with a lower f1-score. \n",
    "\n",
    "We see that our model has an f1-score of 86% for the non-churning customers, and 49% for the churning customers."
   ]
  },
  {
   "cell_type": "markdown",
   "metadata": {
    "id": "u_9RDLU7t4fT"
   },
   "source": [
    "## Imbalanced data <a id=\"imbalanced_data\"></a>\n",
    "\n",
    "The underlying reason that we need to do all these fancy metrics is to deal with unbalanced data. By **unbalanced data** we just mean data where the label we are predicting (so classification) is not evenly distributed, meaning there are more of one label than another. This is extremely common, and in fact more common than balanced data. We gave the medical researcher example above, but unbalanced data appears everywhere. Most customers *don't* cancel their internet, so most don't churn, so that data is unbalanced. Suppose you were working at a company developing a model for predicting if your company's advertising will lead customers to make a purchase. Most people who see an ad don't go out and make a purchase for that product. Therefore that data is also unbalanced. \n",
    "\n",
    "### Undersampling <a id=\"undersampling\"></a>\n",
    "Note that the metrics above still don't address the underlying problem: our model is trained on unbalanced data, and so it learns that one class is far more likely to occur than the other. That means the model will \"prefer\" to predict the dominant class, even when there is evidence suggesting it should predict the other class. There is no one single method to fix this. However, two very common and powerful techniques are to undersample or oversample your data. By **undersampling** we mean picking your data so that the number of samples in both classes are the same. For instance, let's look at the training data."
   ]
  },
  {
   "cell_type": "code",
   "execution_count": null,
   "metadata": {
    "id": "49tiV5yJt4fU",
    "outputId": "dc3d8a91-4cfc-47a5-e623-a9472cfb295f"
   },
   "outputs": [
    {
     "data": {
      "text/plain": [
       "No     3613\n",
       "Yes    1309\n",
       "Name: Churn, dtype: int64"
      ]
     },
     "execution_count": 117,
     "metadata": {
      "tags": []
     },
     "output_type": "execute_result"
    }
   ],
   "source": [
    "train_df['Churn'].value_counts()"
   ]
  },
  {
   "cell_type": "markdown",
   "metadata": {
    "id": "l_Zly12Zt4fV"
   },
   "source": [
    "We see there are 3613 non-churning customers, and 1309 who churned. We want both classes to have the same number of samples from each class. Since we can't magically make more churning customers, instead what we'll do is pick only 1309 non-churning customers (out of the 3613 available) and use just those. We can do this most easily using the Pandas `.sample()` function. If you give it an integer it will select that many rows from your data (you can also give it a number between 0 and 1 to select that *percentage* of your data)."
   ]
  },
  {
   "cell_type": "code",
   "execution_count": null,
   "metadata": {
    "id": "O3w3cqRJt4fW"
   },
   "outputs": [],
   "source": [
    "# Get only the customers who did not churn\n",
    "train_no_df = train_df[train_df['Churn'] == 'No']\n",
    "# Then select 1309 of them to match the 1309 \"Yes\" churn customers\n",
    "train_no_df = train_no_df.sample(1309)\n",
    "\n",
    "# Also grab the churning customers\n",
    "train_yes_df = train_df[train_df['Churn'] == 'Yes']\n",
    "\n",
    "# And now stick both DataFrames together to make a new undersampled training set\n",
    "train_under_df = pd.concat([train_no_df, train_yes_df])"
   ]
  },
  {
   "cell_type": "markdown",
   "metadata": {
    "id": "kjBLwDrZt4fX"
   },
   "source": [
    "If we now compare the number of churn vs non-churn customers in the training set, we should see that they are equal."
   ]
  },
  {
   "cell_type": "code",
   "execution_count": null,
   "metadata": {
    "id": "1gybLcnft4fY",
    "outputId": "dec1eb73-07b7-48ad-fd24-16a7c0c21e5f"
   },
   "outputs": [
    {
     "data": {
      "text/plain": [
       "Yes    1309\n",
       "No     1309\n",
       "Name: Churn, dtype: int64"
      ]
     },
     "execution_count": 119,
     "metadata": {
      "tags": []
     },
     "output_type": "execute_result"
    }
   ],
   "source": [
    "train_under_df['Churn'].value_counts()"
   ]
  },
  {
   "cell_type": "markdown",
   "metadata": {
    "id": "7Qs7Bs1jt4fZ"
   },
   "source": [
    "Let's now use this new undersampled training data to train our model."
   ]
  },
  {
   "cell_type": "code",
   "execution_count": null,
   "metadata": {
    "id": "PS4Lfopmt4fa",
    "outputId": "f21adcc1-0743-4680-f202-be0ed5a75af5"
   },
   "outputs": [
    {
     "data": {
      "text/plain": [
       "LogisticRegression(C=1.0, class_weight=None, dual=False, fit_intercept=True,\n",
       "                   intercept_scaling=1, l1_ratio=None, max_iter=100,\n",
       "                   multi_class='auto', n_jobs=None, penalty='l2',\n",
       "                   random_state=None, solver='lbfgs', tol=0.0001, verbose=0,\n",
       "                   warm_start=False)"
      ]
     },
     "execution_count": 125,
     "metadata": {
      "tags": []
     },
     "output_type": "execute_result"
    }
   ],
   "source": [
    "# Copied the same columns that we used earlier\n",
    "feat_cols = ['TotalCharges', 'MonthlyCharges']\n",
    "target_col = 'Churn'\n",
    "\n",
    "X_train_under = train_under_df[feat_cols]\n",
    "y_train_under = train_under_df[target_col]\n",
    "\n",
    "clf_under = LogisticRegression()\n",
    "clf_under.fit(X_train_under, y_train_under)"
   ]
  },
  {
   "cell_type": "markdown",
   "metadata": {
    "id": "A0Qcui1nt4fb"
   },
   "source": [
    "Even though we undersampled our training data, **you should always test your model on the original unaltered data.** This is because the (imbalanced) data is the real data that you want your model to perform well on. If we were to also undersample our test set, we would be evaluating our model on data that looks totally different from the (imbalanced) problem we are trying to solve. So long story short, keep your test data untouched."
   ]
  },
  {
   "cell_type": "code",
   "execution_count": null,
   "metadata": {
    "id": "TTSpE4lrt4fc",
    "outputId": "1f661ed6-4e90-40d6-ff2e-f7c2d7f3264a"
   },
   "outputs": [
    {
     "name": "stdout",
     "output_type": "stream",
     "text": [
      "              precision    recall  f1-score   support\n",
      "\n",
      "          No       0.88      0.72      0.79      1543\n",
      "         Yes       0.49      0.73      0.58       567\n",
      "\n",
      "    accuracy                           0.72      2110\n",
      "   macro avg       0.68      0.72      0.69      2110\n",
      "weighted avg       0.77      0.72      0.74      2110\n",
      "\n"
     ]
    }
   ],
   "source": [
    "test_pred_under = clf_under.predict(X_test)\n",
    "\n",
    "print(classification_report(y_test, test_pred_under))"
   ]
  },
  {
   "cell_type": "markdown",
   "metadata": {
    "id": "KdbXwUjyt4fe"
   },
   "source": [
    "For easy comparison, I've put the classification report for the original (*not* undersampled) data below:"
   ]
  },
  {
   "cell_type": "code",
   "execution_count": null,
   "metadata": {
    "id": "4eqXCwxit4fe",
    "outputId": "8e96ab3d-4bda-4577-8936-0d0e546d034d"
   },
   "outputs": [
    {
     "name": "stdout",
     "output_type": "stream",
     "text": [
      "              precision    recall  f1-score   support\n",
      "\n",
      "          No       0.82      0.90      0.86      1543\n",
      "         Yes       0.64      0.46      0.53       567\n",
      "\n",
      "    accuracy                           0.78      2110\n",
      "   macro avg       0.73      0.68      0.70      2110\n",
      "weighted avg       0.77      0.78      0.77      2110\n",
      "\n"
     ]
    }
   ],
   "source": [
    "from sklearn.metrics import classification_report\n",
    "\n",
    "# Classification_report wants the correct labels first, followed by the predictions.\n",
    "# You should always use print to display it, otherwise it will look bad\n",
    "print(classification_report(y_test, test_pred))"
   ]
  },
  {
   "cell_type": "markdown",
   "metadata": {
    "id": "bjXkZcEpt4fg"
   },
   "source": [
    "There are some interesting results. First, our overall accuracy dropped from 78% to 72%. However, as we discussed earlier, when dealing with imbalanced data accuracy is a flawed metric. Our precision is higher for the \"No\" churns, and lower for the \"Yes\" churns compared to the model trained on the original data. In the model trained on the original data, the recall was wildly different (90% vs 46%) on the \"Yes\" vs \"No\" churns. In our new model that was smoothed out, and now both are very similar. Similarly, the f1-score's got closer together (one up, one down) on our model trained on undersampled data.\n",
    "\n",
    "Is this new model better? The answer is, \"it depends\". When developing a model, you always need to consider the use-case. Companies don't simply get bored and say \"go build a model and make sure it's good\". They have a *reason* for using the model. They want to stop customers from churning. They want to identify customers who may churn. They want to understand what makes one customer churn and one not. Each of these use cases might be better served by a different model. For example, the undersampled model having recall which is close together means that if we select a random customer, we can be more confident that our model will predict something useful about their churning. In the original model, 90% of customers who did not churn would be predicted correctly by our model, but only 46% of customers who will churn. That's a problem, because if you look at a random customer, you have no idea if they will churn or not. So even though the undersampled model has a lower recall for \"No\", the tradeoff is likely worth it. On the other hand, the precision in our original model was very good. Recall that a precision of 64% for \"No\" means that if you take all customers our model predicted will not churn, then 64% of those indeed will not churn. This is compared to only 49% for our undersampled model. Finally, since f1-score is a sort of average of precision and recall, we see that the undersampled model also strikes a (slightly) better balance in its performance in both the \"No\" and \"Yes\" class, as opposed to the original model, which performed stronger on the \"No\" class but worse on the \"Yes\" class."
   ]
  },
  {
   "cell_type": "markdown",
   "metadata": {
    "id": "iySKpCE4t4fh"
   },
   "source": [
    "### Oversampling <a id=\"oversampling\"></a>\n",
    "\n",
    "If undersampling is choosing rows so that both classes have the same number of samples as the minority class, then **oversampling** is choosing rows so that both classes have the same number of samples as the majority class. This may seem confusing, since by definition the minority class has less samples than the majority class. So how is it possible to then \"choose more of them\"? The answer is you choose them *with replacement*. Therefore, samples from the minority class will show up several times. This is in essence \"duplicating the customers\" in the minority class. You can sample with replacement using `.sample(replace=True)`. We'll follow the same process as with undersampling."
   ]
  },
  {
   "cell_type": "code",
   "execution_count": null,
   "metadata": {
    "id": "hT_6BxIlt4fh",
    "outputId": "62592466-009a-4122-e913-4880c5a0fb10"
   },
   "outputs": [
    {
     "data": {
      "text/plain": [
       "No     3620\n",
       "Yes    1302\n",
       "Name: Churn, dtype: int64"
      ]
     },
     "execution_count": 129,
     "metadata": {
      "tags": []
     },
     "output_type": "execute_result"
    }
   ],
   "source": [
    "train_df['Churn'].value_counts()"
   ]
  },
  {
   "cell_type": "code",
   "execution_count": null,
   "metadata": {
    "id": "CPPMroIPt4fk"
   },
   "outputs": [],
   "source": [
    "# Get only the customers who did not churn\n",
    "train_yes_df = train_df[train_df['Churn'] == 'Yes']\n",
    "# Then select 3620 of them to match the 3620 \"No\" churn customers\n",
    "train_yes_df = train_yes_df.sample(3620, replace=True)\n",
    "\n",
    "# Also grab the churning customers\n",
    "train_no_df = train_df[train_df['Churn'] == 'No']\n",
    "\n",
    "# And now stick both DataFrames together to make a new undersampled training set\n",
    "train_over_df = pd.concat([train_no_df, train_yes_df])"
   ]
  },
  {
   "cell_type": "markdown",
   "metadata": {
    "id": "ro9ji6h8t4fm"
   },
   "source": [
    "Once again, we now see that the number of samples in each class are the same."
   ]
  },
  {
   "cell_type": "code",
   "execution_count": null,
   "metadata": {
    "id": "ytZu3yX-t4fm",
    "outputId": "b601396b-c86d-4c4d-f4e3-8f938d513af9"
   },
   "outputs": [
    {
     "data": {
      "text/plain": [
       "No     3620\n",
       "Yes    3620\n",
       "Name: Churn, dtype: int64"
      ]
     },
     "execution_count": 132,
     "metadata": {
      "tags": []
     },
     "output_type": "execute_result"
    }
   ],
   "source": [
    "train_over_df['Churn'].value_counts()"
   ]
  },
  {
   "cell_type": "markdown",
   "metadata": {
    "id": "9OLt4Pn2t4fo"
   },
   "source": [
    "Let's now train a logistic regression model with this oversampled data and compare our results."
   ]
  },
  {
   "cell_type": "code",
   "execution_count": null,
   "metadata": {
    "id": "pOI9mdMqt4fp"
   },
   "outputs": [],
   "source": [
    "# Copied the same columns that we used earlier\n",
    "feat_cols = ['TotalCharges', 'MonthlyCharges']\n",
    "target_col = 'Churn'\n",
    "\n",
    "X_train_over = train_over_df[feat_cols]\n",
    "y_train_over = train_over_df[target_col]\n",
    "\n",
    "clf_over = LogisticRegression()\n",
    "clf_over.fit(X_train_over, y_train_over)\n",
    "\n",
    "test_pred_over = clf_over.predict(X_test)"
   ]
  },
  {
   "cell_type": "markdown",
   "metadata": {
    "id": "04pPT7hSt4fr"
   },
   "source": [
    "Let's now put all three classification reports together:"
   ]
  },
  {
   "cell_type": "markdown",
   "metadata": {
    "id": "ZI5Qg-P6t4fr"
   },
   "source": [
    "**Original data**"
   ]
  },
  {
   "cell_type": "code",
   "execution_count": null,
   "metadata": {
    "id": "jNZ4IiDQt4fr",
    "outputId": "2da32031-d0b7-4012-825e-76b66d55e5e7"
   },
   "outputs": [
    {
     "name": "stdout",
     "output_type": "stream",
     "text": [
      "              precision    recall  f1-score   support\n",
      "\n",
      "          No       0.82      0.90      0.86      1543\n",
      "         Yes       0.64      0.46      0.53       567\n",
      "\n",
      "    accuracy                           0.78      2110\n",
      "   macro avg       0.73      0.68      0.70      2110\n",
      "weighted avg       0.77      0.78      0.77      2110\n",
      "\n"
     ]
    }
   ],
   "source": [
    "print(classification_report(y_test, test_pred))"
   ]
  },
  {
   "cell_type": "markdown",
   "metadata": {
    "id": "c01CKRKXt4fu"
   },
   "source": [
    "**Undersampled**"
   ]
  },
  {
   "cell_type": "code",
   "execution_count": null,
   "metadata": {
    "id": "SUP0141Lt4fu",
    "outputId": "cb948599-8463-46dd-aab5-d79c1e882d8d"
   },
   "outputs": [
    {
     "name": "stdout",
     "output_type": "stream",
     "text": [
      "              precision    recall  f1-score   support\n",
      "\n",
      "          No       0.88      0.72      0.79      1543\n",
      "         Yes       0.49      0.73      0.58       567\n",
      "\n",
      "    accuracy                           0.72      2110\n",
      "   macro avg       0.68      0.72      0.69      2110\n",
      "weighted avg       0.77      0.72      0.74      2110\n",
      "\n"
     ]
    }
   ],
   "source": [
    "print(classification_report(y_test, test_pred_under))"
   ]
  },
  {
   "cell_type": "markdown",
   "metadata": {
    "id": "icn5k2Set4fz"
   },
   "source": [
    "**Oversampled**"
   ]
  },
  {
   "cell_type": "code",
   "execution_count": null,
   "metadata": {
    "id": "OL7R3_p1t4f0",
    "outputId": "fa36e889-4e3a-4431-eb59-24c1abc32baa"
   },
   "outputs": [
    {
     "name": "stdout",
     "output_type": "stream",
     "text": [
      "              precision    recall  f1-score   support\n",
      "\n",
      "          No       0.88      0.72      0.79      1543\n",
      "         Yes       0.49      0.73      0.59       567\n",
      "\n",
      "    accuracy                           0.72      2110\n",
      "   macro avg       0.68      0.73      0.69      2110\n",
      "weighted avg       0.77      0.72      0.74      2110\n",
      "\n"
     ]
    }
   ],
   "source": [
    "print(classification_report(y_test, test_pred_over))"
   ]
  },
  {
   "cell_type": "markdown",
   "metadata": {
    "id": "qLAcekXUt4f2"
   },
   "source": [
    "Let's once more go through what we see from each metric:\n",
    "\n",
    "**Accuracy:** Nothing. Don't rely on accuracy for imbalanced data.\n",
    "**Precision:** Precision is identical between the under and oversampled models. As discussed earlier, precision is showing what percentage of our predicted Yes/No actually were Yes/No. So the under and oversampled models did poorly with \"Yes\" predictions, but better with \"No\" predictions. That is, if we took a customer who our under/oversampled model predicted would churn (so a \"Yes\"), then only 49% of the time would they actually churn (that's bad). However, our \"No\" predictions are much better.\n",
    "**Recall:** Again, recall is identical between the under and oversampled models. Recall tells us what percentage of the *actual* Yes/No churn customers our model predicted correctly. So our under/oversampled models were more balanced in their ability to find churning/non-churning customers, at the expense of losing some recall in the \"No\" class.\n",
    "**F1-Score:** While there is a very slight difference in F1-score between the under and oversampled models, they are essentially the same. We see the same pattern of the under/oversampled models striking a better balance between the Yes/No classes than the model trained on the original data."
   ]
  },
  {
   "cell_type": "markdown",
   "metadata": {
    "id": "vUVh_W4wt4f2"
   },
   "source": [
    "## Exercises\n",
    "\n",
    "1. Pick a different categorical column (besides `Churn`) and predict it using logitistic regression\n",
    "2. In this notebook we discuss how the sigmoid function is used to give values between 0 and 1. Another similar function is $\\tanh(x)$, which gives values between -1 and 1. How could you change the $\\tanh$ function to instead give values between 0 and 1?\n",
    "3. Pick one of our previous datasets and use logistic regression to model a categorical variable. Go through the same discussion about which models are best/worst."
   ]
  },
  {
   "cell_type": "code",
   "execution_count": null,
   "metadata": {
    "id": "-sOzu7n9t4f2"
   },
   "outputs": [],
   "source": []
  }
 ],
 "metadata": {
  "colab": {
   "collapsed_sections": [
    "gk--z5X2t4fJ",
    "hhFSEbKit4fQ",
    "IsSPhhI0t4fT",
    "iySKpCE4t4fh"
   ],
   "name": "ch_06.ipynb",
   "provenance": []
  },
  "kernelspec": {
   "display_name": "Python 3",
   "language": "python",
   "name": "python3"
  },
  "language_info": {
   "codemirror_mode": {
    "name": "ipython",
    "version": 3
   },
   "file_extension": ".py",
   "mimetype": "text/x-python",
   "name": "python",
   "nbconvert_exporter": "python",
   "pygments_lexer": "ipython3",
   "version": "3.8.5"
  }
 },
 "nbformat": 4,
 "nbformat_minor": 1
}
