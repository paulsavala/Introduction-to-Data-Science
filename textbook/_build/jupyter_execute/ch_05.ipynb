{
 "cells": [
  {
   "cell_type": "markdown",
   "metadata": {
    "id": "EbJUEwWFmIwN"
   },
   "source": [
    "# Training models"
   ]
  },
  {
   "cell_type": "markdown",
   "metadata": {
    "id": "_90trsKAmIwO"
   },
   "source": [
    "### Imports"
   ]
  },
  {
   "cell_type": "code",
   "execution_count": null,
   "metadata": {
    "id": "VZTHsD6umIwP"
   },
   "outputs": [],
   "source": [
    "import pandas as pd\n",
    "import numpy as np\n",
    "from matplotlib import pyplot as plt\n",
    "from sklearn.linear_model import LinearRegression "
   ]
  },
  {
   "cell_type": "markdown",
   "metadata": {
    "id": "GmKIDzJdmIwT"
   },
   "source": [
    "### Data loading\n",
    "\n",
    "We'll start by using the Boston housing dataset again."
   ]
  },
  {
   "cell_type": "code",
   "execution_count": null,
   "metadata": {
    "id": "RLELuP7jmIwT"
   },
   "outputs": [],
   "source": [
    "df = pd.read_csv('data/boston.csv')"
   ]
  },
  {
   "cell_type": "markdown",
   "metadata": {
    "id": "c0bhehDymIwW"
   },
   "source": [
    "### Data cleaning\n",
    "\n",
    "Change all column names to lowercase, convert spaces to underscores, replace \"%\" with \"pct\", replace \"-\" with an underscore, check for missing values."
   ]
  },
  {
   "cell_type": "code",
   "execution_count": null,
   "metadata": {
    "id": "1dNF3R8pmIwX"
   },
   "outputs": [],
   "source": [
    "df.columns = [x.lower().replace(' ', '_').replace('%', 'pct').replace('-', '_') for x in df.columns]"
   ]
  },
  {
   "cell_type": "code",
   "execution_count": null,
   "metadata": {
    "id": "WZJ2TRJYmIwa",
    "outputId": "f5354eb3-f945-4a7b-9246-2973d43f212e"
   },
   "outputs": [
    {
     "data": {
      "text/html": [
       "<div>\n",
       "<style scoped>\n",
       "    .dataframe tbody tr th:only-of-type {\n",
       "        vertical-align: middle;\n",
       "    }\n",
       "\n",
       "    .dataframe tbody tr th {\n",
       "        vertical-align: top;\n",
       "    }\n",
       "\n",
       "    .dataframe thead th {\n",
       "        text-align: right;\n",
       "    }\n",
       "</style>\n",
       "<table border=\"1\" class=\"dataframe\">\n",
       "  <thead>\n",
       "    <tr style=\"text-align: right;\">\n",
       "      <th></th>\n",
       "      <th>median_home_value</th>\n",
       "      <th>crime_rate</th>\n",
       "      <th>pct_industrial</th>\n",
       "      <th>nitrous_oxide_concentration</th>\n",
       "      <th>avg_num_rooms</th>\n",
       "      <th>pct_built_before_1940</th>\n",
       "      <th>distance_to_downtown</th>\n",
       "      <th>pupil_teacher_ratio</th>\n",
       "      <th>pct_below_poverty_line</th>\n",
       "    </tr>\n",
       "  </thead>\n",
       "  <tbody>\n",
       "    <tr>\n",
       "      <th>0</th>\n",
       "      <td>24000.0</td>\n",
       "      <td>0.00632</td>\n",
       "      <td>2.31</td>\n",
       "      <td>0.538</td>\n",
       "      <td>6.575</td>\n",
       "      <td>65.2</td>\n",
       "      <td>4.0900</td>\n",
       "      <td>15.3</td>\n",
       "      <td>4.98</td>\n",
       "    </tr>\n",
       "    <tr>\n",
       "      <th>1</th>\n",
       "      <td>21600.0</td>\n",
       "      <td>0.02731</td>\n",
       "      <td>7.07</td>\n",
       "      <td>0.469</td>\n",
       "      <td>6.421</td>\n",
       "      <td>78.9</td>\n",
       "      <td>4.9671</td>\n",
       "      <td>17.8</td>\n",
       "      <td>9.14</td>\n",
       "    </tr>\n",
       "    <tr>\n",
       "      <th>2</th>\n",
       "      <td>34700.0</td>\n",
       "      <td>0.02729</td>\n",
       "      <td>7.07</td>\n",
       "      <td>0.469</td>\n",
       "      <td>7.185</td>\n",
       "      <td>61.1</td>\n",
       "      <td>4.9671</td>\n",
       "      <td>17.8</td>\n",
       "      <td>4.03</td>\n",
       "    </tr>\n",
       "    <tr>\n",
       "      <th>3</th>\n",
       "      <td>33400.0</td>\n",
       "      <td>0.03237</td>\n",
       "      <td>2.18</td>\n",
       "      <td>0.458</td>\n",
       "      <td>6.998</td>\n",
       "      <td>45.8</td>\n",
       "      <td>6.0622</td>\n",
       "      <td>18.7</td>\n",
       "      <td>2.94</td>\n",
       "    </tr>\n",
       "    <tr>\n",
       "      <th>4</th>\n",
       "      <td>36200.0</td>\n",
       "      <td>0.06905</td>\n",
       "      <td>2.18</td>\n",
       "      <td>0.458</td>\n",
       "      <td>7.147</td>\n",
       "      <td>54.2</td>\n",
       "      <td>6.0622</td>\n",
       "      <td>18.7</td>\n",
       "      <td>5.33</td>\n",
       "    </tr>\n",
       "  </tbody>\n",
       "</table>\n",
       "</div>"
      ],
      "text/plain": [
       "   median_home_value  crime_rate  pct_industrial  nitrous_oxide_concentration  \\\n",
       "0            24000.0     0.00632            2.31                        0.538   \n",
       "1            21600.0     0.02731            7.07                        0.469   \n",
       "2            34700.0     0.02729            7.07                        0.469   \n",
       "3            33400.0     0.03237            2.18                        0.458   \n",
       "4            36200.0     0.06905            2.18                        0.458   \n",
       "\n",
       "   avg_num_rooms  pct_built_before_1940  distance_to_downtown  \\\n",
       "0          6.575                   65.2                4.0900   \n",
       "1          6.421                   78.9                4.9671   \n",
       "2          7.185                   61.1                4.9671   \n",
       "3          6.998                   45.8                6.0622   \n",
       "4          7.147                   54.2                6.0622   \n",
       "\n",
       "   pupil_teacher_ratio  pct_below_poverty_line  \n",
       "0                 15.3                    4.98  \n",
       "1                 17.8                    9.14  \n",
       "2                 17.8                    4.03  \n",
       "3                 18.7                    2.94  \n",
       "4                 18.7                    5.33  "
      ]
     },
     "execution_count": 7,
     "metadata": {
      "tags": []
     },
     "output_type": "execute_result"
    }
   ],
   "source": [
    "df.head()"
   ]
  },
  {
   "cell_type": "markdown",
   "metadata": {
    "id": "ffJFerj_mIwe"
   },
   "source": [
    "## Training models <a id=\"training\"></a>\n",
    "\n",
    "As we learned last week, linear regression is the process of fitting a line to data in the \"best\" way possible. We measured \"best\" in terms of mean squared error (MSE), given specifically by\n",
    "$$\n",
    "\\displaystyle\\sum_i (y_i - (mx_i + b))^2\n",
    "$$\n",
    "where $y_i$ are the values to be predicted (median home value in our example last week) and $x_i$ are the data being used to make predictions (things like poverty rate, distance to downtown, etc). We then showed that you could simply take derivatives and find critical points to solve for what values of $m$ and $b$ will make this \"error\" as small as possible, i.e. minimize it. \n",
    "\n",
    "None of this is common in machine learning. In fact, linear regression is largely the only case of machine learning where we can actually *solve* for what value of the **model parameters**, the variables used in the model, will give the smallest error. Instead, we do what is called \"model training\".\n",
    "\n",
    "Model training works like this:\n",
    "1. Find data which you want your model to predict. \n",
    "2. Pick a model. Last week this was linear regression. As the semester goes on you'll learn about several other models.\n",
    "3. Do gradient descent (covered last week) to optimize your parameters.\n",
    "\n",
    "Let's do a brief overview of each step."
   ]
  },
  {
   "cell_type": "markdown",
   "metadata": {
    "id": "PSFb1I1EmIwf"
   },
   "source": [
    "### Finding data to train your model on\n",
    "The first step is to find data. Normally you've got a general problem in mind that you want to answer. Your first step should be looking for data related to that problem. If you don't have data then you can't do anything else either.\n",
    "\n",
    "Let's define a few terms that we will be using throughout the rest of this semester:\n",
    "- **features:** Features are simply the \"inputs\" in your data. So in the Titanic example, this would be things like age, fare, sex, etc.\n",
    "- **labels:** Labels are the values you want to predict. The term \"label\" comes from when you are trying to predict a categorical variable, such as the breed of a dog, or the survival or death of a passenger. However we also use it for numerical variables, such as home value.\n",
    "- **ground truth:** This refers to the \"correct\" values of the labels. For instance, suppose we collected data on passengers on the Titanic. We could build a machine learning model to predict whether or not each person survived, and the model would predict a label (\"survived\" or \"died\"). However, these are just *predictions*. By \"ground truth\" we mean the actual correct labels. That is, for each person described in the data, did they *actually* survive or die? Whatever the answer to this is is called the ground truth.\n",
    "\n",
    "So we want data with features and ground truth. Once we have that, we can move on to step 3."
   ]
  },
  {
   "cell_type": "markdown",
   "metadata": {
    "id": "CLtkO9SFmIwm"
   },
   "source": [
    "### Picking a model\n",
    "\n",
    "Machine learning \"models\" are simply functions. Linear regression is an especially simple function represented by a simple equation ($y=mx+b$). When dealing with inputs with many features then $m$, $x$ and $b$ are all vectors, which makes things seem complicated. But in reality it's just a line. Another model we will deal with extensively this semester is called a \"decision tree\". We will hold off on the details for now, but a decision tree is simply a function that repeated asks \"yes/no\" questions of the data. For instance, suppose we want to use a decision tree to determine whether or not a passenger on the titanic survives. Below is a possible decision tree:\n",
    "\n",
    "![Titanic decision tree](images/titanic_decision_tree.png)"
   ]
  },
  {
   "cell_type": "markdown",
   "metadata": {
    "id": "ymdv5c-5mIwn"
   },
   "source": [
    "You can see that the first question is about the person's gender, then if they are a female the model predicts they will survive. If they are a male, the model then asks about their age, and so forth. This may not *look* like a function, but it is. Recall that a function is simply something that takes in input and returns a single output (think about the \"vertical line test\"). We could write this as an *equation* (which is probably how you typically think about functions) as follows:\n",
    "$$\n",
    "f(\\text{sex}, \\text{age}, \\text{sibsp}) = \\text{piecewise function}\n",
    "$$\n",
    "In this decision tree we have the following model parameters:\n",
    "- Which columns should we ask questions about? \n",
    "- What order should we ask these questions? Do we start with sex, age, or sibsp?\n",
    "- When we ask about a numerical column (such as \"is age > 9.5\" or \"is sibsp > 2.5\"), what value should be our cutoff? That is why aren't we asking \"is age > 14\", or \"is sibsp < 5\"?\n",
    "- After each question, what should we do next? Should we predict a value or go to another question?\n",
    "- Whenever we decide to predict a value, what value should we predict?\n",
    "\n",
    "As you can see, model parameters can be quite complicated. It is impossible to setup an equation and \"solve\" for each of these like we did for linear regression. So instead, we train the model. That leads us to step 3."
   ]
  },
  {
   "cell_type": "markdown",
   "metadata": {
    "id": "gB6r6oUzmIwn"
   },
   "source": [
    "### Gradient descent\n",
    "\n",
    "We saw last class that gradient descent allows us to find values of the model parameters which make the loss function (mean squared error) as small as possible. By doing gradient descent we are able to find model parameters that make our model \"fit\" our data very well. By \"fit\", we mean that the loss function is very small."
   ]
  },
  {
   "cell_type": "markdown",
   "metadata": {
    "id": "uU088PtEmIwo"
   },
   "source": [
    "### Putting it all together\n",
    "\n",
    "In practice, the first two steps are done by you, and the final step is done automatically using sklearn. Let's do a couple examples. You may remember from last week that when doing linear regression there were a few options, in particular `fit_intercept` and `normalize`. How do these affect our model? Let's try doing one of each of the four possibilities (True/False for each of the two options) and see what we get."
   ]
  },
  {
   "cell_type": "code",
   "execution_count": null,
   "metadata": {
    "id": "c2LjhI3ImIwo"
   },
   "outputs": [],
   "source": [
    "lr1 = LinearRegression(fit_intercept=False, normalize=False)\n",
    "lr2 = LinearRegression(fit_intercept=True, normalize=False)\n",
    "lr3 = LinearRegression(fit_intercept=False, normalize=True)\n",
    "lr4 = LinearRegression(fit_intercept=True, normalize=True)"
   ]
  },
  {
   "cell_type": "code",
   "execution_count": null,
   "metadata": {
    "id": "GTP62EZwmIwr"
   },
   "outputs": [],
   "source": [
    "X = df[['crime_rate', 'avg_num_rooms', 'pct_below_poverty_line']]\n",
    "y = df['median_home_value']"
   ]
  },
  {
   "cell_type": "code",
   "execution_count": null,
   "metadata": {
    "id": "KjwD3A-1mIwu",
    "outputId": "e0311d69-ca0b-4be6-e9a4-50039ed756d5"
   },
   "outputs": [
    {
     "data": {
      "text/plain": [
       "LinearRegression(copy_X=True, fit_intercept=True, n_jobs=None, normalize=True)"
      ]
     },
     "execution_count": 10,
     "metadata": {
      "tags": []
     },
     "output_type": "execute_result"
    }
   ],
   "source": [
    "lr1.fit(X, y)\n",
    "lr2.fit(X, y)\n",
    "lr3.fit(X, y)\n",
    "lr4.fit(X, y)"
   ]
  },
  {
   "cell_type": "markdown",
   "metadata": {
    "id": "6ueTBRFymIwx"
   },
   "source": [
    "We've now trained four models. That's great (and simple!), but how do we know which one is best? That is, which one makes the best predictions? Or, said more formally, how do we *evaluate* our models?"
   ]
  },
  {
   "cell_type": "markdown",
   "metadata": {
    "id": "yW_3nI6ImIwx"
   },
   "source": [
    "## Evaluating your model <a id=\"model_evaluation\"></a>\n",
    "\n",
    "Now that we have trained our model and used it to make predictions, how can we tell if it's making \"good\" predictions? Let's start with the simplest way, which is just comparing the predicted values to the actual values, which were stored in `y`. We'll loop through the first ten predictions."
   ]
  },
  {
   "cell_type": "code",
   "execution_count": null,
   "metadata": {
    "id": "l1l7rOQ7mIwy",
    "outputId": "3123dea5-83cd-4499-a0af-7075baa62fe5"
   },
   "outputs": [
    {
     "name": "stdout",
     "output_type": "stream",
     "text": [
      "Actual = 24000.0, Predicted = 28964.93\n",
      "Actual = 21600.0, Predicted = 25695.85\n",
      "Actual = 34700.0, Predicted = 32504.80\n",
      "Actual = 33400.0, Predicted = 32254.51\n",
      "Actual = 36200.0, Predicted = 31528.95\n",
      "Actual = 28700.0, Predicted = 28118.11\n",
      "Actual = 22900.0, Predicted = 21709.07\n",
      "Actual = 27100.0, Predicted = 18414.20\n",
      "Actual = 16500.0, Predicted = 9251.30\n",
      "Actual = 18900.0, Predicted = 18835.35\n"
     ]
    }
   ],
   "source": [
    "lr1_pred = lr1.predict(X)\n",
    "\n",
    "for i in range(10):\n",
    "    print(f'Actual = {y[i]}, Predicted = {lr1_pred[i]:.2f}')"
   ]
  },
  {
   "cell_type": "markdown",
   "metadata": {
    "id": "bCDae-rCmIw1"
   },
   "source": [
    "We can see that most predictions seem reasonable, though definitely not perfect. It's a little annoying to look through the predictions this way. Let's plot both the predicted and actual values and see what we get. The problem is, how can we do this? To plot we put the `X` on the x-axis and the `y` on the y-axis. The problem is that our `X` is three dimensional, which means we're plotting in four dimensions! That won't work. Instead, what we'll do is just plot our y's (both `y` and `y_pred`) against each other. Let's do it then discuss it."
   ]
  },
  {
   "cell_type": "code",
   "execution_count": null,
   "metadata": {
    "id": "ktpJF8YTmIw1",
    "outputId": "b843c44d-384f-4ceb-a38a-f041c6b4c099"
   },
   "outputs": [
    {
     "data": {
      "image/png": "[encoded data removed]",
      "text/plain": [
       "<Figure size 864x720 with 1 Axes>"
      ]
     },
     "metadata": {
      "filenames": {
       "image/png": "/Users/psavala/Dropbox/Teaching/St Edward's/MATH 3439 - Introduction to Data Science/textbook/_build/jupyter_execute/ch_05_21_0.png"
      },
      "needs_background": "light",
      "tags": []
     },
     "output_type": "display_data"
    }
   ],
   "source": [
    "fig = plt.figure(figsize=(12, 10))\n",
    "plt.scatter(y, lr1_pred)\n",
    "\n",
    "plt.xlabel('Actual home prices')\n",
    "plt.ylabel('Predicted home prices')\n",
    "plt.title('Actual vs predicted using linear regression');"
   ]
  },
  {
   "cell_type": "markdown",
   "metadata": {
    "id": "WVuA-AVBmIw5"
   },
   "source": [
    "What are we looking at? Each point represents a home. The x value is the actual home price, and the y value is the predicted home price using our linear regression model. Let's look at a single point to make this clear. I'll do this by plotting twice: once for all except the first prediction, and once for the first prediction (in a different color to make it easy to see). I'll also make the size bigger using `s`."
   ]
  },
  {
   "cell_type": "code",
   "execution_count": null,
   "metadata": {
    "id": "czBN5F6fmIw5",
    "outputId": "25baa2a2-a00c-410f-a038-33527aaded71"
   },
   "outputs": [
    {
     "data": {
      "image/png": "[encoded data removed]",
      "text/plain": [
       "<Figure size 864x720 with 1 Axes>"
      ]
     },
     "metadata": {
      "filenames": {
       "image/png": "/Users/psavala/Dropbox/Teaching/St Edward's/MATH 3439 - Introduction to Data Science/textbook/_build/jupyter_execute/ch_05_23_0.png"
      },
      "needs_background": "light",
      "tags": []
     },
     "output_type": "display_data"
    }
   ],
   "source": [
    "fig = plt.figure(figsize=(12, 10))\n",
    "plt.scatter(y[1:], lr1_pred[1:], color='gray')\n",
    "plt.scatter(y[0], lr1_pred[0], color='red', s=100)\n",
    "\n",
    "plt.xlabel('Actual home prices')\n",
    "plt.ylabel('Predicted home prices')\n",
    "plt.title('Actual vs predicted using linear regression');"
   ]
  },
  {
   "cell_type": "markdown",
   "metadata": {
    "id": "PfFzGxoAmIw8"
   },
   "source": [
    "What is this red point?"
   ]
  },
  {
   "cell_type": "code",
   "execution_count": null,
   "metadata": {
    "id": "fxKqtQSemIw9",
    "outputId": "6054388c-d413-4368-e945-ca7b8205ba32"
   },
   "outputs": [
    {
     "name": "stdout",
     "output_type": "stream",
     "text": [
      "Actual home value = 24000.0, Predicted home value = 28964.93256553912\n"
     ]
    }
   ],
   "source": [
    "print(f'Actual home value = {y[0]}, Predicted home value = {lr1_pred[0]}')"
   ]
  },
  {
   "cell_type": "markdown",
   "metadata": {
    "id": "D1WMoLS3mIxA"
   },
   "source": [
    "It is a home which cost \\\\$24,000 and had a predicted home price of a little over \\\\$28,857. We can see the information on it by looking at the data."
   ]
  },
  {
   "cell_type": "code",
   "execution_count": null,
   "metadata": {
    "id": "TS_FViRRmIxB",
    "outputId": "701707d5-f929-4649-d765-bef424691aed"
   },
   "outputs": [
    {
     "data": {
      "text/plain": [
       "crime_rate                0.00632\n",
       "avg_num_rooms             6.57500\n",
       "pct_below_poverty_line    4.98000\n",
       "Name: 0, dtype: float64"
      ]
     },
     "execution_count": 18,
     "metadata": {
      "tags": []
     },
     "output_type": "execute_result"
    }
   ],
   "source": [
    "X.iloc[0]"
   ]
  },
  {
   "cell_type": "markdown",
   "metadata": {
    "id": "6xTs8YzOmIxE"
   },
   "source": [
    "So how should we make sense of the scatter plot above? Think about the following: suppose the regression line made perfect predictions. That is, suppose that for every single home, the regression line could predict exactly the correct value. Here is a simple example:"
   ]
  },
  {
   "cell_type": "code",
   "execution_count": null,
   "metadata": {
    "id": "Pd6zPStXmIxE",
    "outputId": "83b207b9-8ddd-4756-83c8-b9932de72a29"
   },
   "outputs": [
    {
     "data": {
      "image/png": "[encoded data removed]",
      "text/plain": [
       "<Figure size 864x720 with 1 Axes>"
      ]
     },
     "metadata": {
      "filenames": {
       "image/png": "/Users/psavala/Dropbox/Teaching/St Edward's/MATH 3439 - Introduction to Data Science/textbook/_build/jupyter_execute/ch_05_29_0.png"
      },
      "needs_background": "light",
      "tags": []
     },
     "output_type": "display_data"
    }
   ],
   "source": [
    "y = df['median_home_value']\n",
    "y_pred_fake = y # The (fake) predicted values are exactly the real values.\n",
    "\n",
    "# Make the scatterplot\n",
    "fig = plt.figure(figsize=(12, 10))\n",
    "plt.scatter(y, y_pred_fake)\n",
    "\n",
    "plt.xlabel('Actual home prices')\n",
    "plt.ylabel('(Fake) Predicted home prices')\n",
    "plt.title('Actual vs (fake) predicted using linear regression');"
   ]
  },
  {
   "cell_type": "markdown",
   "metadata": {
    "id": "ug80mN_imIxH"
   },
   "source": [
    "A perfect line! that is because both the x and y values are identical. So a model which returned perfect predictions would have this scatter plot being a perfect line. \n",
    "\n",
    "Because of this, a common way to measure how strong a model's predictions are is by making this scatter plot and computing the correlation coefficient $R^2$. Let's do that now using what we learned last homework."
   ]
  },
  {
   "cell_type": "code",
   "execution_count": null,
   "metadata": {
    "id": "BPwo-TzqmIxH",
    "outputId": "1a9795ca-bffa-43b9-94f9-a1f52c6e8f55"
   },
   "outputs": [
    {
     "data": {
      "image/png": "[encoded data removed]",
      "text/plain": [
       "<Figure size 864x720 with 1 Axes>"
      ]
     },
     "metadata": {
      "filenames": {
       "image/png": "/Users/psavala/Dropbox/Teaching/St Edward's/MATH 3439 - Introduction to Data Science/textbook/_build/jupyter_execute/ch_05_31_0.png"
      },
      "needs_background": "light",
      "tags": []
     },
     "output_type": "display_data"
    }
   ],
   "source": [
    "fig = plt.figure(figsize=(12, 10))\n",
    "plt.scatter(y, lr1_pred)\n",
    "\n",
    "plt.xlabel('Actual home prices')\n",
    "plt.ylabel('Predicted home prices')\n",
    "plt.title(f'Actual vs predicted using linear regression: R^2 = {np.corrcoef(y, lr1_pred)[0,1]**2:.3f}');"
   ]
  },
  {
   "cell_type": "markdown",
   "metadata": {
    "id": "Mg5Cda6umIxK"
   },
   "source": [
    "Not bad! That is a high correlation coefficient, as reflected by the fact that the scatterplot is quite linear. This means that our predictions are generally pretty good. \n",
    "\n",
    "At this point you don't really have a grasp on what's \"good\" and \"not good\". We'll do one more example below, but I highly encourage you to play with all of this on your own. Use both this dataset and others to try it all out.\n",
    "\n",
    "Let's pick some columns that probably *aren't* that useful in predicting home value and see what we get."
   ]
  },
  {
   "cell_type": "code",
   "execution_count": null,
   "metadata": {
    "id": "VbEXd1jjmIxL"
   },
   "outputs": [],
   "source": [
    "lr_weak = LinearRegression()\n",
    "\n",
    "X_weak = df[['pct_industrial', 'distance_to_downtown', 'pupil_teacher_ratio']]\n",
    "y = df['median_home_value'] # y is the same regardless, it's just the home prices\n",
    "\n",
    "lr_weak.fit(X_weak, y)\n",
    "\n",
    "y_weak_pred = lr_weak.predict(X_weak)"
   ]
  },
  {
   "cell_type": "code",
   "execution_count": null,
   "metadata": {
    "id": "Aecr5aSPmIxN",
    "outputId": "24f465c3-9064-4700-b339-2c74e86ef11b"
   },
   "outputs": [
    {
     "data": {
      "image/png": "[encoded data removed]",
      "text/plain": [
       "<Figure size 864x720 with 1 Axes>"
      ]
     },
     "metadata": {
      "filenames": {
       "image/png": "/Users/psavala/Dropbox/Teaching/St Edward's/MATH 3439 - Introduction to Data Science/textbook/_build/jupyter_execute/ch_05_34_0.png"
      },
      "needs_background": "light",
      "tags": []
     },
     "output_type": "display_data"
    }
   ],
   "source": [
    "fig = plt.figure(figsize=(12, 10))\n",
    "plt.scatter(y, y_weak_pred)\n",
    "\n",
    "plt.xlabel('Actual home prices')\n",
    "plt.ylabel('Predicted home prices')\n",
    "plt.title(f'Actual vs predicted using linear regression: R^2 = {np.corrcoef(y, y_weak_pred)[0, 1]**2:.3f}');"
   ]
  },
  {
   "cell_type": "markdown",
   "metadata": {
    "id": "XwOSJ4IdmIxP"
   },
   "source": [
    "A much lower $R^2$ value, and a much less linear graph. We can see that generally higher actual home prices seem to match with higher predicted home prices, and similarly for lower-priced homes. But the correlation is pretty weak.\n",
    "\n",
    "Since computing the correlation coefficient between the actual and predicted y values is so common and important, sklearn has it built-in. You can access the $R^2$ value using the `.score(...)` method. Go look at the documentation on it now on the sklearn page. At this point you should be comfortable enough reading that documentation to try it on your own."
   ]
  },
  {
   "cell_type": "code",
   "execution_count": null,
   "metadata": {
    "id": "EVn25VdqmIxQ",
    "outputId": "18dcce1f-12aa-4b6c-ff0c-0b6645a3af48"
   },
   "outputs": [
    {
     "data": {
      "text/plain": [
       "0.645389993799838"
      ]
     },
     "execution_count": 20,
     "metadata": {
      "tags": []
     },
     "output_type": "execute_result"
    }
   ],
   "source": [
    "lr1.score(X, y)"
   ]
  },
  {
   "cell_type": "markdown",
   "metadata": {
    "id": "kjXctkFImIxS"
   },
   "source": [
    "This shows one particular way to compare how \"good\" different models' predictions are. That is, we can compare their $R^2$ value by using `.score()`."
   ]
  },
  {
   "cell_type": "code",
   "execution_count": null,
   "metadata": {
    "id": "6ENzgP0QmIxT",
    "outputId": "12aa1368-dc4b-48d5-8820-d1063801833c"
   },
   "outputs": [
    {
     "name": "stdout",
     "output_type": "stream",
     "text": [
      "Score for lr1 (fit_intercept=False, normalize=False): 0.645389993799838\n",
      "Score for lr2 (fit_intercept=True, normalize=False): 0.645852051578113\n",
      "Score for lr3 (fit_intercept=False, normalize=True): 0.645389993799838\n",
      "Score for lr4 (fit_intercept=True, normalize=True): 0.6458520515781131\n"
     ]
    }
   ],
   "source": [
    "print(f'Score for lr1 (fit_intercept=False, normalize=False): {lr1.score(X, y)}')\n",
    "print(f'Score for lr2 (fit_intercept=True, normalize=False): {lr2.score(X, y)}')\n",
    "print(f'Score for lr3 (fit_intercept=False, normalize=True): {lr3.score(X, y)}')\n",
    "print(f'Score for lr4 (fit_intercept=True, normalize=True): {lr4.score(X, y)}')"
   ]
  },
  {
   "cell_type": "markdown",
   "metadata": {
    "id": "x8A68bfhmIxV"
   },
   "source": [
    "It ends up that all three have very similar scores! In other words, it seens like those changes are making only very minor differences. Perhaps normalizing (*without* fitting the intercept) is very slightly the worst, but the difference is so small it likely isn't statistically significant."
   ]
  },
  {
   "cell_type": "markdown",
   "metadata": {
    "id": "tmTVxkpvmIxW"
   },
   "source": [
    "## Training vs testing <a id=\"train_test\"></a>\n",
    "\n",
    "Now that you know how model training works, let's do some more examples. Suppose you go back through your old exams and you find what score you got. You then estimate how many hours you studied alone, how many hours you studied with a group, and how many hours you were studying for other courses that week. You then decide to build a linear model that will predict your score on your next exam, given how many hours you studied each way."
   ]
  },
  {
   "cell_type": "code",
   "execution_count": null,
   "metadata": {
    "id": "rghukxuHmIxW",
    "outputId": "db7d5898-8b36-4a64-e5d4-a53ea5491b4b"
   },
   "outputs": [
    {
     "data": {
      "text/plain": [
       "LinearRegression(copy_X=True, fit_intercept=True, n_jobs=None, normalize=False)"
      ]
     },
     "execution_count": 41,
     "metadata": {
      "tags": []
     },
     "output_type": "execute_result"
    }
   ],
   "source": [
    "# Hours studied\n",
    "exam_df = pd.DataFrame({'score': [56, 86, 84], 'hours_alone': [3, 8, 4], 'hours_group': [3, 6, 10], 'hours_other': [7, 2, 5]})\n",
    "\n",
    "X = exam_df[['hours_alone', 'hours_group', 'hours_other']]\n",
    "y = exam_df['score']\n",
    "\n",
    "lr = LinearRegression()\n",
    "lr.fit(X, y)"
   ]
  },
  {
   "cell_type": "markdown",
   "metadata": {
    "id": "CutxQJJ7mIxZ"
   },
   "source": [
    "Let's now look at the $R^2$ value (the score) to see how well this model fits the data."
   ]
  },
  {
   "cell_type": "code",
   "execution_count": null,
   "metadata": {
    "id": "spJiMtDzmIxZ",
    "outputId": "c3e8b65e-fc74-4624-d9ab-ef1cf9e28974"
   },
   "outputs": [
    {
     "data": {
      "text/plain": [
       "1.0"
      ]
     },
     "execution_count": 26,
     "metadata": {
      "tags": []
     },
     "output_type": "execute_result"
    }
   ],
   "source": [
    "lr.score(X, y)"
   ]
  },
  {
   "cell_type": "markdown",
   "metadata": {
    "id": "wULGWqEImIxb"
   },
   "source": [
    "My god, it's perfect! We have a perfect model that can determine exactly what score we will get based on knowing this study info! Let's confirm that."
   ]
  },
  {
   "cell_type": "code",
   "execution_count": null,
   "metadata": {
    "id": "_Zmn0F6hmIxc",
    "outputId": "9e941035-dd84-4e90-f574-54dfe929746d"
   },
   "outputs": [
    {
     "data": {
      "text/html": [
       "<div>\n",
       "<style scoped>\n",
       "    .dataframe tbody tr th:only-of-type {\n",
       "        vertical-align: middle;\n",
       "    }\n",
       "\n",
       "    .dataframe tbody tr th {\n",
       "        vertical-align: top;\n",
       "    }\n",
       "\n",
       "    .dataframe thead th {\n",
       "        text-align: right;\n",
       "    }\n",
       "</style>\n",
       "<table border=\"1\" class=\"dataframe\">\n",
       "  <thead>\n",
       "    <tr style=\"text-align: right;\">\n",
       "      <th></th>\n",
       "      <th>score</th>\n",
       "      <th>hours_alone</th>\n",
       "      <th>hours_group</th>\n",
       "      <th>hours_other</th>\n",
       "    </tr>\n",
       "  </thead>\n",
       "  <tbody>\n",
       "    <tr>\n",
       "      <th>0</th>\n",
       "      <td>56</td>\n",
       "      <td>3</td>\n",
       "      <td>3</td>\n",
       "      <td>7</td>\n",
       "    </tr>\n",
       "    <tr>\n",
       "      <th>1</th>\n",
       "      <td>86</td>\n",
       "      <td>8</td>\n",
       "      <td>6</td>\n",
       "      <td>2</td>\n",
       "    </tr>\n",
       "    <tr>\n",
       "      <th>2</th>\n",
       "      <td>84</td>\n",
       "      <td>4</td>\n",
       "      <td>10</td>\n",
       "      <td>5</td>\n",
       "    </tr>\n",
       "  </tbody>\n",
       "</table>\n",
       "</div>"
      ],
      "text/plain": [
       "   score  hours_alone  hours_group  hours_other\n",
       "0     56            3            3            7\n",
       "1     86            8            6            2\n",
       "2     84            4           10            5"
      ]
     },
     "execution_count": 27,
     "metadata": {
      "tags": []
     },
     "output_type": "execute_result"
    }
   ],
   "source": [
    "exam_df"
   ]
  },
  {
   "cell_type": "code",
   "execution_count": null,
   "metadata": {
    "id": "vye0lBJEmIxf",
    "outputId": "05843eec-09c3-4633-90a8-52ac4c40b3cc"
   },
   "outputs": [
    {
     "name": "stdout",
     "output_type": "stream",
     "text": [
      "Actual score for first exam: 56, Predicted score for first exam: 56.00\n",
      "Actual score for second exam: 86, Predicted score for first exam: 86.00\n",
      "Actual score for third exam: 84, Predicted score for first exam: 84.00\n"
     ]
    }
   ],
   "source": [
    "print(f'Actual score for first exam: {y[0]}, Predicted score for first exam: {lr.predict(X)[0]:.2f}')\n",
    "print(f'Actual score for second exam: {y[1]}, Predicted score for first exam: {lr.predict(X)[1]:.2f}')\n",
    "print(f'Actual score for third exam: {y[2]}, Predicted score for first exam: {lr.predict(X)[2]:.2f}')"
   ]
  },
  {
   "cell_type": "markdown",
   "metadata": {
    "id": "zG0q_DKvmIxi"
   },
   "source": [
    "We've done it! Let's go publish our results and become heroes to every student who wants to know how long they need to study! \n",
    "\n",
    "Okay, enough sarcasm, obviously something is wrong here. The numbers above are just made up (go ahead, try tweaking them and see that your model is essentially always perfect), and yet it can perfectly predict our scores? That doesn't make sense. What's happening is that *we are testing our model and the same data that we are training it with*. To understand this, consider the following real-world situation: Suppose your professor tells you your next exam is in a week. She gives you a practice exam, but you're too busy to really spend much time with it. However, just because you've seen it, you memorized the answers. You don't know how to do the problems, but you remember that the answer to the first problem is 42, the second is $x^2+y$, and so forth. Finally, the day of the test arrives. You sit down nervous about how much your grade is going to tank after this exam. She passes out the exams and you flip it over only to find...it's exactly the same as the practice test! Thrilled, you write down the correct answers and turn in the test after just 30 seconds. You come back next week to see that you got a perfect score!\n",
    "\n",
    "Does this mean that you *understand* the material? Of course not! You simply memorized the answers. More importantly, you don't know how to *generalize* to other topics. For example, perhaps you memorized that if $f(x)=2x^3$ then $f'(1) = 6$. However, if you got a new question \"$f(x)=2x^4$, compute $f'(1)$\" you would have no idea how to do it. This is exactly what happened with our model above. We trained it using some data for which it \"memorized\" the answers by choosing values of $m$ and $b$ which would produce perfect results. It then simply spit those back out when asked for predictions. Let's illustrate this by putting in the data for another exam you studied for."
   ]
  },
  {
   "cell_type": "code",
   "execution_count": null,
   "metadata": {
    "id": "i8VMHmS-mIxi",
    "outputId": "4244f568-43e9-4f02-b5f4-4d37801296f7"
   },
   "outputs": [
    {
     "data": {
      "text/html": [
       "<div>\n",
       "<style scoped>\n",
       "    .dataframe tbody tr th:only-of-type {\n",
       "        vertical-align: middle;\n",
       "    }\n",
       "\n",
       "    .dataframe tbody tr th {\n",
       "        vertical-align: top;\n",
       "    }\n",
       "\n",
       "    .dataframe thead th {\n",
       "        text-align: right;\n",
       "    }\n",
       "</style>\n",
       "<table border=\"1\" class=\"dataframe\">\n",
       "  <thead>\n",
       "    <tr style=\"text-align: right;\">\n",
       "      <th></th>\n",
       "      <th>score</th>\n",
       "      <th>hours_alone</th>\n",
       "      <th>hours_group</th>\n",
       "      <th>hours_other</th>\n",
       "    </tr>\n",
       "  </thead>\n",
       "  <tbody>\n",
       "    <tr>\n",
       "      <th>0</th>\n",
       "      <td>56</td>\n",
       "      <td>3</td>\n",
       "      <td>3</td>\n",
       "      <td>7</td>\n",
       "    </tr>\n",
       "    <tr>\n",
       "      <th>1</th>\n",
       "      <td>86</td>\n",
       "      <td>8</td>\n",
       "      <td>6</td>\n",
       "      <td>2</td>\n",
       "    </tr>\n",
       "    <tr>\n",
       "      <th>2</th>\n",
       "      <td>84</td>\n",
       "      <td>4</td>\n",
       "      <td>10</td>\n",
       "      <td>5</td>\n",
       "    </tr>\n",
       "    <tr>\n",
       "      <th>3</th>\n",
       "      <td>76</td>\n",
       "      <td>7</td>\n",
       "      <td>4</td>\n",
       "      <td>19</td>\n",
       "    </tr>\n",
       "  </tbody>\n",
       "</table>\n",
       "</div>"
      ],
      "text/plain": [
       "   score  hours_alone  hours_group  hours_other\n",
       "0     56            3            3            7\n",
       "1     86            8            6            2\n",
       "2     84            4           10            5\n",
       "3     76            7            4           19"
      ]
     },
     "execution_count": 42,
     "metadata": {
      "tags": []
     },
     "output_type": "execute_result"
    }
   ],
   "source": [
    "# Create a DataFrame for this single exam\n",
    "next_exam_df = pd.DataFrame({'score': [76], 'hours_alone': [7], 'hours_group': [4], 'hours_other': [19]})\n",
    "\n",
    "# Concatenate it to the already existing DataFrame\n",
    "exam_df = pd.concat([exam_df, next_exam_df])\n",
    "exam_df = exam_df.reset_index(drop=True)\n",
    "\n",
    "exam_df.head()"
   ]
  },
  {
   "cell_type": "code",
   "execution_count": null,
   "metadata": {
    "id": "bG2t4dxsmIxl",
    "outputId": "671b6405-2871-4090-f57f-3e83bfd5a6b5"
   },
   "outputs": [
    {
     "name": "stdout",
     "output_type": "stream",
     "text": [
      "Actual score for fourth exam: 76, Predicted score for fourth exam: 40.08\n"
     ]
    }
   ],
   "source": [
    "X = exam_df[['hours_alone', 'hours_group', 'hours_other']]\n",
    "y = exam_df['score']\n",
    "\n",
    "print(f'Actual score for fourth exam: {y[3]}, Predicted score for fourth exam: {lr.predict(X)[3]:.2f}')"
   ]
  },
  {
   "cell_type": "markdown",
   "metadata": {
    "id": "iGNUH-iImIxn"
   },
   "source": [
    "Not even close! The reason is that our model did not learn to *generalize* what it learned. In reality, there's a bit more going on here. This is a linear system with three columns (variables) and three rows (exams). So it just solved the system and found a solution. However, in general models are *underdetermined*, meaning there are more rows than columns. Thus they cannot solve for a solution, they always have to approximate it. Regardless, the idea is the same: it is a mistake to *test* a model on the same data that you *trained* it on. Said in simple terms, the professor should have given you a real exam which was different (but similar) to the practice exam."
   ]
  },
  {
   "cell_type": "markdown",
   "metadata": {
    "id": "ZEKOL4oYmIxo"
   },
   "source": [
    "## Train-test split <a id=\"train_test_split\"></a>\n",
    "\n",
    "The fix to this is to take your data and **split** it into training and testing sets. The idea is that you will *train* your model on the **training set**, and *test* (or *evaluate*) your model on the **test set**. \n",
    "\n",
    "Splitting is very simple--it just consists of randomly putting some rows aside as the test set, and leaving the rest as the training set. Let's use some data on avocado sales to do this."
   ]
  },
  {
   "cell_type": "code",
   "execution_count": null,
   "metadata": {
    "id": "Igwx3RmAmIxo",
    "outputId": "6f41c715-5120-4537-f9d8-024ded681cf7"
   },
   "outputs": [
    {
     "data": {
      "text/html": [
       "<div>\n",
       "<style scoped>\n",
       "    .dataframe tbody tr th:only-of-type {\n",
       "        vertical-align: middle;\n",
       "    }\n",
       "\n",
       "    .dataframe tbody tr th {\n",
       "        vertical-align: top;\n",
       "    }\n",
       "\n",
       "    .dataframe thead th {\n",
       "        text-align: right;\n",
       "    }\n",
       "</style>\n",
       "<table border=\"1\" class=\"dataframe\">\n",
       "  <thead>\n",
       "    <tr style=\"text-align: right;\">\n",
       "      <th></th>\n",
       "      <th>Unnamed: 0</th>\n",
       "      <th>Date</th>\n",
       "      <th>AveragePrice</th>\n",
       "      <th>Total Volume</th>\n",
       "      <th>4046</th>\n",
       "      <th>4225</th>\n",
       "      <th>4770</th>\n",
       "      <th>Total Bags</th>\n",
       "      <th>Small Bags</th>\n",
       "      <th>Large Bags</th>\n",
       "      <th>XLarge Bags</th>\n",
       "      <th>type</th>\n",
       "      <th>year</th>\n",
       "      <th>region</th>\n",
       "    </tr>\n",
       "  </thead>\n",
       "  <tbody>\n",
       "    <tr>\n",
       "      <th>0</th>\n",
       "      <td>0</td>\n",
       "      <td>2015-12-27</td>\n",
       "      <td>1.33</td>\n",
       "      <td>64236.62</td>\n",
       "      <td>1036.74</td>\n",
       "      <td>54454.85</td>\n",
       "      <td>48.16</td>\n",
       "      <td>8696.87</td>\n",
       "      <td>8603.62</td>\n",
       "      <td>93.25</td>\n",
       "      <td>0.0</td>\n",
       "      <td>conventional</td>\n",
       "      <td>2015</td>\n",
       "      <td>Albany</td>\n",
       "    </tr>\n",
       "    <tr>\n",
       "      <th>1</th>\n",
       "      <td>1</td>\n",
       "      <td>2015-12-20</td>\n",
       "      <td>1.35</td>\n",
       "      <td>54876.98</td>\n",
       "      <td>674.28</td>\n",
       "      <td>44638.81</td>\n",
       "      <td>58.33</td>\n",
       "      <td>9505.56</td>\n",
       "      <td>9408.07</td>\n",
       "      <td>97.49</td>\n",
       "      <td>0.0</td>\n",
       "      <td>conventional</td>\n",
       "      <td>2015</td>\n",
       "      <td>Albany</td>\n",
       "    </tr>\n",
       "    <tr>\n",
       "      <th>2</th>\n",
       "      <td>2</td>\n",
       "      <td>2015-12-13</td>\n",
       "      <td>0.93</td>\n",
       "      <td>118220.22</td>\n",
       "      <td>794.70</td>\n",
       "      <td>109149.67</td>\n",
       "      <td>130.50</td>\n",
       "      <td>8145.35</td>\n",
       "      <td>8042.21</td>\n",
       "      <td>103.14</td>\n",
       "      <td>0.0</td>\n",
       "      <td>conventional</td>\n",
       "      <td>2015</td>\n",
       "      <td>Albany</td>\n",
       "    </tr>\n",
       "    <tr>\n",
       "      <th>3</th>\n",
       "      <td>3</td>\n",
       "      <td>2015-12-06</td>\n",
       "      <td>1.08</td>\n",
       "      <td>78992.15</td>\n",
       "      <td>1132.00</td>\n",
       "      <td>71976.41</td>\n",
       "      <td>72.58</td>\n",
       "      <td>5811.16</td>\n",
       "      <td>5677.40</td>\n",
       "      <td>133.76</td>\n",
       "      <td>0.0</td>\n",
       "      <td>conventional</td>\n",
       "      <td>2015</td>\n",
       "      <td>Albany</td>\n",
       "    </tr>\n",
       "    <tr>\n",
       "      <th>4</th>\n",
       "      <td>4</td>\n",
       "      <td>2015-11-29</td>\n",
       "      <td>1.28</td>\n",
       "      <td>51039.60</td>\n",
       "      <td>941.48</td>\n",
       "      <td>43838.39</td>\n",
       "      <td>75.78</td>\n",
       "      <td>6183.95</td>\n",
       "      <td>5986.26</td>\n",
       "      <td>197.69</td>\n",
       "      <td>0.0</td>\n",
       "      <td>conventional</td>\n",
       "      <td>2015</td>\n",
       "      <td>Albany</td>\n",
       "    </tr>\n",
       "  </tbody>\n",
       "</table>\n",
       "</div>"
      ],
      "text/plain": [
       "   Unnamed: 0        Date  AveragePrice  Total Volume     4046       4225  \\\n",
       "0           0  2015-12-27          1.33      64236.62  1036.74   54454.85   \n",
       "1           1  2015-12-20          1.35      54876.98   674.28   44638.81   \n",
       "2           2  2015-12-13          0.93     118220.22   794.70  109149.67   \n",
       "3           3  2015-12-06          1.08      78992.15  1132.00   71976.41   \n",
       "4           4  2015-11-29          1.28      51039.60   941.48   43838.39   \n",
       "\n",
       "     4770  Total Bags  Small Bags  Large Bags  XLarge Bags          type  \\\n",
       "0   48.16     8696.87     8603.62       93.25          0.0  conventional   \n",
       "1   58.33     9505.56     9408.07       97.49          0.0  conventional   \n",
       "2  130.50     8145.35     8042.21      103.14          0.0  conventional   \n",
       "3   72.58     5811.16     5677.40      133.76          0.0  conventional   \n",
       "4   75.78     6183.95     5986.26      197.69          0.0  conventional   \n",
       "\n",
       "   year  region  \n",
       "0  2015  Albany  \n",
       "1  2015  Albany  \n",
       "2  2015  Albany  \n",
       "3  2015  Albany  \n",
       "4  2015  Albany  "
      ]
     },
     "execution_count": 69,
     "metadata": {
      "tags": []
     },
     "output_type": "execute_result"
    }
   ],
   "source": [
    "df = pd.read_csv(drive_dir + 'data/avocado.csv')\n",
    "df.head()"
   ]
  },
  {
   "cell_type": "markdown",
   "metadata": {
    "id": "3sD_Yjt1mIxr"
   },
   "source": [
    "Here is a brief rundown of the columns:\n",
    "- **Date:** The week when sales were measured\n",
    "- **AveragePrice:** The average price of a single avocado\n",
    "- **Total Volume:** The total number of avocado's sold in that week\n",
    "- **4046:** The number of small avocados sold (4046 is the PLU code)\n",
    "- **4225:** The number of large avocados sold\n",
    "- **4770:** The number of extra-large avocados sold\n",
    "- **Total Bags:** The total number of bags of avocados sold\n",
    "- **Small Bags/Large Bags/XLarge Bags:** The total number of small/large/xlarge bags sold\n",
    "- **type:** Whether the avocados were conventional or organic\n",
    "- **year:** The year\n",
    "- **region:** The region of sales"
   ]
  },
  {
   "cell_type": "markdown",
   "metadata": {
    "id": "uIb5XgsmmIxs"
   },
   "source": [
    "We'll start by quickly cleaning and checking the data, and renaming some columns."
   ]
  },
  {
   "cell_type": "code",
   "execution_count": null,
   "metadata": {
    "id": "fXVVpf8HmIxs"
   },
   "outputs": [],
   "source": [
    "df = df.drop('Unnamed: 0', axis='columns')\n",
    "df.columns = ['date', 'avg_price', 'total_volume', 'small', 'large', 'xlarge', 'total_bags', 'small_bags', 'large_bags', 'xlarge_bags', 'type', 'year', 'region']\n",
    "\n",
    "df['date'] = pd.to_datetime(df['date'])"
   ]
  },
  {
   "cell_type": "code",
   "execution_count": null,
   "metadata": {
    "id": "i58Zl6vQmIxv",
    "outputId": "c700d07e-3b8a-49f6-c6aa-01a1abe2c01a"
   },
   "outputs": [
    {
     "data": {
      "text/html": [
       "<div>\n",
       "<style scoped>\n",
       "    .dataframe tbody tr th:only-of-type {\n",
       "        vertical-align: middle;\n",
       "    }\n",
       "\n",
       "    .dataframe tbody tr th {\n",
       "        vertical-align: top;\n",
       "    }\n",
       "\n",
       "    .dataframe thead th {\n",
       "        text-align: right;\n",
       "    }\n",
       "</style>\n",
       "<table border=\"1\" class=\"dataframe\">\n",
       "  <thead>\n",
       "    <tr style=\"text-align: right;\">\n",
       "      <th></th>\n",
       "      <th>date</th>\n",
       "      <th>avg_price</th>\n",
       "      <th>total_volume</th>\n",
       "      <th>small</th>\n",
       "      <th>large</th>\n",
       "      <th>xlarge</th>\n",
       "      <th>total_bags</th>\n",
       "      <th>small_bags</th>\n",
       "      <th>large_bags</th>\n",
       "      <th>xlarge_bags</th>\n",
       "      <th>type</th>\n",
       "      <th>year</th>\n",
       "      <th>region</th>\n",
       "    </tr>\n",
       "  </thead>\n",
       "  <tbody>\n",
       "    <tr>\n",
       "      <th>0</th>\n",
       "      <td>2015-12-27</td>\n",
       "      <td>1.33</td>\n",
       "      <td>64236.62</td>\n",
       "      <td>1036.74</td>\n",
       "      <td>54454.85</td>\n",
       "      <td>48.16</td>\n",
       "      <td>8696.87</td>\n",
       "      <td>8603.62</td>\n",
       "      <td>93.25</td>\n",
       "      <td>0.0</td>\n",
       "      <td>conventional</td>\n",
       "      <td>2015</td>\n",
       "      <td>Albany</td>\n",
       "    </tr>\n",
       "    <tr>\n",
       "      <th>1</th>\n",
       "      <td>2015-12-20</td>\n",
       "      <td>1.35</td>\n",
       "      <td>54876.98</td>\n",
       "      <td>674.28</td>\n",
       "      <td>44638.81</td>\n",
       "      <td>58.33</td>\n",
       "      <td>9505.56</td>\n",
       "      <td>9408.07</td>\n",
       "      <td>97.49</td>\n",
       "      <td>0.0</td>\n",
       "      <td>conventional</td>\n",
       "      <td>2015</td>\n",
       "      <td>Albany</td>\n",
       "    </tr>\n",
       "    <tr>\n",
       "      <th>2</th>\n",
       "      <td>2015-12-13</td>\n",
       "      <td>0.93</td>\n",
       "      <td>118220.22</td>\n",
       "      <td>794.70</td>\n",
       "      <td>109149.67</td>\n",
       "      <td>130.50</td>\n",
       "      <td>8145.35</td>\n",
       "      <td>8042.21</td>\n",
       "      <td>103.14</td>\n",
       "      <td>0.0</td>\n",
       "      <td>conventional</td>\n",
       "      <td>2015</td>\n",
       "      <td>Albany</td>\n",
       "    </tr>\n",
       "    <tr>\n",
       "      <th>3</th>\n",
       "      <td>2015-12-06</td>\n",
       "      <td>1.08</td>\n",
       "      <td>78992.15</td>\n",
       "      <td>1132.00</td>\n",
       "      <td>71976.41</td>\n",
       "      <td>72.58</td>\n",
       "      <td>5811.16</td>\n",
       "      <td>5677.40</td>\n",
       "      <td>133.76</td>\n",
       "      <td>0.0</td>\n",
       "      <td>conventional</td>\n",
       "      <td>2015</td>\n",
       "      <td>Albany</td>\n",
       "    </tr>\n",
       "    <tr>\n",
       "      <th>4</th>\n",
       "      <td>2015-11-29</td>\n",
       "      <td>1.28</td>\n",
       "      <td>51039.60</td>\n",
       "      <td>941.48</td>\n",
       "      <td>43838.39</td>\n",
       "      <td>75.78</td>\n",
       "      <td>6183.95</td>\n",
       "      <td>5986.26</td>\n",
       "      <td>197.69</td>\n",
       "      <td>0.0</td>\n",
       "      <td>conventional</td>\n",
       "      <td>2015</td>\n",
       "      <td>Albany</td>\n",
       "    </tr>\n",
       "  </tbody>\n",
       "</table>\n",
       "</div>"
      ],
      "text/plain": [
       "        date  avg_price  total_volume    small      large  xlarge  total_bags  \\\n",
       "0 2015-12-27       1.33      64236.62  1036.74   54454.85   48.16     8696.87   \n",
       "1 2015-12-20       1.35      54876.98   674.28   44638.81   58.33     9505.56   \n",
       "2 2015-12-13       0.93     118220.22   794.70  109149.67  130.50     8145.35   \n",
       "3 2015-12-06       1.08      78992.15  1132.00   71976.41   72.58     5811.16   \n",
       "4 2015-11-29       1.28      51039.60   941.48   43838.39   75.78     6183.95   \n",
       "\n",
       "   small_bags  large_bags  xlarge_bags          type  year  region  \n",
       "0     8603.62       93.25          0.0  conventional  2015  Albany  \n",
       "1     9408.07       97.49          0.0  conventional  2015  Albany  \n",
       "2     8042.21      103.14          0.0  conventional  2015  Albany  \n",
       "3     5677.40      133.76          0.0  conventional  2015  Albany  \n",
       "4     5986.26      197.69          0.0  conventional  2015  Albany  "
      ]
     },
     "execution_count": 78,
     "metadata": {
      "tags": []
     },
     "output_type": "execute_result"
    }
   ],
   "source": [
    "df.head()"
   ]
  },
  {
   "cell_type": "code",
   "execution_count": null,
   "metadata": {
    "id": "pYbrRyZ2mIxx",
    "outputId": "27df676e-67c9-45a9-c29b-7127c67b0d63"
   },
   "outputs": [
    {
     "data": {
      "text/plain": [
       "date            0\n",
       "avg_price       0\n",
       "total_volume    0\n",
       "small           0\n",
       "large           0\n",
       "xlarge          0\n",
       "total_bags      0\n",
       "small_bags      0\n",
       "large_bags      0\n",
       "xlarge_bags     0\n",
       "type            0\n",
       "year            0\n",
       "region          0\n",
       "dtype: int64"
      ]
     },
     "execution_count": 72,
     "metadata": {
      "tags": []
     },
     "output_type": "execute_result"
    }
   ],
   "source": [
    "df.isna().sum()"
   ]
  },
  {
   "cell_type": "code",
   "execution_count": null,
   "metadata": {
    "id": "9ZmcUOoMmIx0",
    "outputId": "ce535ac9-8682-443b-e3e4-370adb120fa9"
   },
   "outputs": [
    {
     "data": {
      "text/plain": [
       "date            datetime64[ns]\n",
       "avg_price              float64\n",
       "total_volume           float64\n",
       "small                  float64\n",
       "large                  float64\n",
       "xlarge                 float64\n",
       "total_bags             float64\n",
       "small_bags             float64\n",
       "large_bags             float64\n",
       "xlarge_bags            float64\n",
       "type                    object\n",
       "year                     int64\n",
       "region                  object\n",
       "dtype: object"
      ]
     },
     "execution_count": 73,
     "metadata": {
      "tags": []
     },
     "output_type": "execute_result"
    }
   ],
   "source": [
    "df.dtypes"
   ]
  },
  {
   "cell_type": "markdown",
   "metadata": {
    "id": "DRpsEhcpmIx2"
   },
   "source": [
    "Let's now split into training and testing sets. One way would be to just take the first rows and set them aside."
   ]
  },
  {
   "cell_type": "code",
   "execution_count": null,
   "metadata": {
    "id": "FUBQfFn3mIx3",
    "outputId": "c8ea7be1-1797-4204-89ba-cd81d85e0d65"
   },
   "outputs": [
    {
     "name": "stdout",
     "output_type": "stream",
     "text": [
      "# rows = 18249\n"
     ]
    }
   ],
   "source": [
    "num_rows = df.shape[0]\n",
    "print(f'# rows = {num_rows}')"
   ]
  },
  {
   "cell_type": "code",
   "execution_count": null,
   "metadata": {
    "id": "FIwhWwD0mIx5"
   },
   "outputs": [],
   "source": [
    "# Keep 30% of the data for testing\n",
    "first_30_pct = int(0.3 * num_rows)\n",
    "\n",
    "# Make the test set be the first 30%...\n",
    "test_df = df.iloc[:first_30_pct]\n",
    "\n",
    "# ... and the training set the last 70%\n",
    "train_df = df.iloc[first_30_pct:]"
   ]
  },
  {
   "cell_type": "code",
   "execution_count": null,
   "metadata": {
    "id": "9UXUtBq5mIx8",
    "outputId": "40c27010-283e-4615-d323-1c920b3c0ddc"
   },
   "outputs": [
    {
     "data": {
      "text/plain": [
       "(5474, 13)"
      ]
     },
     "execution_count": 57,
     "metadata": {
      "tags": []
     },
     "output_type": "execute_result"
    }
   ],
   "source": [
    "test_df.shape"
   ]
  },
  {
   "cell_type": "code",
   "execution_count": null,
   "metadata": {
    "id": "9Pa_Mo3MmIx-",
    "outputId": "e65f6ca7-9999-4a98-d3dc-fed2220ce402"
   },
   "outputs": [
    {
     "data": {
      "text/plain": [
       "(12775, 13)"
      ]
     },
     "execution_count": 58,
     "metadata": {
      "tags": []
     },
     "output_type": "execute_result"
    }
   ],
   "source": [
    "train_df.shape"
   ]
  },
  {
   "cell_type": "markdown",
   "metadata": {
    "id": "mZxCcnfNmIyA"
   },
   "source": [
    "While this may seem reasonable, there are potential problems here. For example, what if your data was sorted by date? Or by neighborhood? Or by home value? By taking the first 30% we're potentially taking the first 30% of the dates or lowest 30% of home values, or only certain neighborhoods. We always want our samples to be representative of the population, so this could be a problem. \n",
    "\n",
    "The simplest fix is just to take a random sample. If you happen to know that your data has some other structure that you want to preserve (like neighborhoods), perhaps you could sample from those neighborhoods instead and be fancier. But 99% of the time the best idea is just to take a random sample. \n",
    "\n",
    "The simplest way to take a random sample is by using sklearn. They have a helper function called `train_test_split()`. You just need to supply your data, and what percentage of the data you want to be in the training set. The function will handle the rest."
   ]
  },
  {
   "cell_type": "code",
   "execution_count": null,
   "metadata": {
    "id": "ioYBT4q3mIyB"
   },
   "outputs": [],
   "source": [
    "from sklearn.model_selection import train_test_split"
   ]
  },
  {
   "cell_type": "code",
   "execution_count": null,
   "metadata": {
    "id": "JaxEnbSLmIyE"
   },
   "outputs": [],
   "source": [
    "train_df, test_df = train_test_split(df, test_size=0.3)"
   ]
  },
  {
   "cell_type": "code",
   "execution_count": null,
   "metadata": {
    "id": "DFhVoDUmmIyH",
    "outputId": "6a3f8d86-28bc-4c4c-f151-305381f3a07a"
   },
   "outputs": [
    {
     "data": {
      "text/plain": [
       "(5475, 13)"
      ]
     },
     "execution_count": 63,
     "metadata": {
      "tags": []
     },
     "output_type": "execute_result"
    }
   ],
   "source": [
    "test_df.shape"
   ]
  },
  {
   "cell_type": "code",
   "execution_count": null,
   "metadata": {
    "id": "Hs1OmO3fmIyK",
    "outputId": "327dfb21-f351-41fc-d55b-f1179624d759"
   },
   "outputs": [
    {
     "data": {
      "text/plain": [
       "(12774, 13)"
      ]
     },
     "execution_count": 64,
     "metadata": {
      "tags": []
     },
     "output_type": "execute_result"
    }
   ],
   "source": [
    "train_df.shape"
   ]
  },
  {
   "cell_type": "markdown",
   "metadata": {
    "id": "cURmoLgRmIyO"
   },
   "source": [
    "Now that we have our data split into a training and testing set let's train on that train set and test on the test set. We'll try to predict the number of large avocados sold based on information about the small avocados."
   ]
  },
  {
   "cell_type": "code",
   "execution_count": null,
   "metadata": {
    "id": "rARr2qTemIyP",
    "outputId": "f62c9f8e-67a5-44f3-e1c8-d543c0a8be83"
   },
   "outputs": [
    {
     "data": {
      "text/plain": [
       "0.8779421117852404"
      ]
     },
     "execution_count": 75,
     "metadata": {
      "tags": []
     },
     "output_type": "execute_result"
    }
   ],
   "source": [
    "# Split into training and testing data (30% test)\n",
    "train_df, test_df = train_test_split(df, test_size=0.3)\n",
    "\n",
    "# Grab the columns we want for X and y for both train and test\n",
    "X_train = train_df[['small', 'small_bags', 'avg_price']]\n",
    "y_train = train_df['large']\n",
    "\n",
    "X_test = test_df[['small', 'small_bags', 'avg_price']]\n",
    "y_test = test_df['large']\n",
    "\n",
    "# Create the linear regression object\n",
    "lr = LinearRegression()\n",
    "\n",
    "# Fit (i.e. train) the model on the training data\n",
    "lr.fit(X_train, y_train)\n",
    "\n",
    "# See how well it did (R^2 score) by looking at the test data\n",
    "lr.score(X_test, y_test)"
   ]
  },
  {
   "cell_type": "markdown",
   "metadata": {
    "id": "Wf5IdkRQmIyR"
   },
   "source": [
    "## Examining your predictions <a id=\"examining_predictions\"></a>\n",
    "\n",
    "That's a really strong score! Let's look at the prediction vs ground truth scatterplot to see how it lines up."
   ]
  },
  {
   "cell_type": "code",
   "execution_count": null,
   "metadata": {
    "id": "lDET_AdsmIyS",
    "outputId": "065784b6-bb25-4f33-854e-225788ab9b05"
   },
   "outputs": [
    {
     "data": {
      "image/png": "[encoded data removed]",
      "text/plain": [
       "<Figure size 864x720 with 1 Axes>"
      ]
     },
     "metadata": {
      "filenames": {
       "image/png": "/Users/psavala/Dropbox/Teaching/St Edward's/MATH 3439 - Introduction to Data Science/textbook/_build/jupyter_execute/ch_05_72_0.png"
      },
      "needs_background": "light",
      "tags": []
     },
     "output_type": "display_data"
    }
   ],
   "source": [
    "fig = plt.figure(figsize=(12, 10))\n",
    "# Note that we look at the predictions on the _test_ set\n",
    "test_pred = lr.predict(X_test)\n",
    "plt.scatter(y_test, test_pred)\n",
    "\n",
    "plt.xlabel('Actual large avocado sales')\n",
    "plt.ylabel('Predicted large avocado sales')\n",
    "plt.title(f'Actual vs predicted using linear regression: R^2 = {np.corrcoef(y_test, test_pred)[0,1]**2:.3f}');"
   ]
  },
  {
   "cell_type": "markdown",
   "metadata": {
    "id": "LyXLt7U6mIyU"
   },
   "source": [
    "Hmm, that's interesting. It looks like the majority of the actual large avocado sales are fairly low (the bottom-left). There's also a small set of outliers with large sales. \n",
    "\n",
    "This example shows why you always need to actually *look at* what your model is predicting. While it returns a very high $R^2$ value, the actual scatterplot of predictions doesn't look great. It seems like the majority of the avocados are in the clump in the lower-left, and it doesn't look like the predictions are great there.\n",
    "\n",
    "Let's dive into this further. First we want to see how \"large\" prices are distributed. A boxplot seems like a good choice for this."
   ]
  },
  {
   "cell_type": "code",
   "execution_count": null,
   "metadata": {
    "id": "dx2YzydKmIyV",
    "outputId": "885358b3-d488-4aef-bb0d-c89f8dad294d"
   },
   "outputs": [
    {
     "data": {
      "image/png": "[encoded data removed]",
      "text/plain": [
       "<Figure size 864x576 with 1 Axes>"
      ]
     },
     "metadata": {
      "filenames": {
       "image/png": "/Users/psavala/Dropbox/Teaching/St Edward's/MATH 3439 - Introduction to Data Science/textbook/_build/jupyter_execute/ch_05_74_0.png"
      },
      "needs_background": "light",
      "tags": []
     },
     "output_type": "display_data"
    }
   ],
   "source": [
    "ax = df.boxplot('large', figsize=(12, 8), vert=False)\n",
    "ax.set_title('Large avocado sales');"
   ]
  },
  {
   "cell_type": "markdown",
   "metadata": {
    "id": "FBpC-iMqmIyW"
   },
   "source": [
    "So the avocado sales are almost entirely in the smaller side, with a bunch of outliers. Let's try grouping by a few different factors, and see if we can figure out if some partial factor (organic vs conventional, a certain region, a certain year) is where all of those high sales are located."
   ]
  },
  {
   "cell_type": "code",
   "execution_count": null,
   "metadata": {
    "id": "kjj-G6SUmIyX",
    "outputId": "c71bb6d1-0263-455b-814a-698a7538e690"
   },
   "outputs": [
    {
     "data": {
      "text/plain": [
       "type\n",
       "conventional    574805.318859\n",
       "organic          15411.857724\n",
       "Name: large, dtype: float64"
      ]
     },
     "execution_count": 92,
     "metadata": {
      "tags": []
     },
     "output_type": "execute_result"
    }
   ],
   "source": [
    "# Group by type\n",
    "df.groupby('type')['large'].mean()"
   ]
  },
  {
   "cell_type": "markdown",
   "metadata": {
    "id": "tUKW8GU2mIyd"
   },
   "source": [
    "Yes, organic are sold in far lower numbers, but the \"conventional\" sales of 574805 is in scientific notation $5.7 \\cdot 10^5$, which is still way, way on the left of the boxplot. So that's not the issue. Let's try regions."
   ]
  },
  {
   "cell_type": "code",
   "execution_count": null,
   "metadata": {
    "id": "Y5dHA1LymIyd",
    "outputId": "268ea9b7-334c-4e1d-baf8-70f082802c3d"
   },
   "outputs": [
    {
     "data": {
      "text/plain": [
       "region\n",
       "Albany                 3.762121e+04\n",
       "Atlanta                3.121851e+04\n",
       "BaltimoreWashington    2.459829e+05\n",
       "Boise                  3.461682e+03\n",
       "Boston                 2.142199e+05\n",
       "BuffaloRochester       3.166395e+04\n",
       "California             1.039915e+06\n",
       "Charlotte              3.662802e+04\n",
       "Chicago                2.545190e+05\n",
       "CincinnatiDayton       6.105890e+04\n",
       "Columbus               1.691030e+04\n",
       "DallasFtWorth          1.395577e+05\n",
       "Denver                 1.503270e+05\n",
       "Detroit                3.479935e+04\n",
       "GrandRapids            5.101043e+04\n",
       "GreatLakes             7.907033e+05\n",
       "HarrisburgScranton     6.121225e+04\n",
       "HartfordSpringfield    1.119752e+05\n",
       "Houston                1.411965e+05\n",
       "Indianapolis           4.279241e+04\n",
       "Jacksonville           1.043414e+04\n",
       "LasVegas               4.545688e+04\n",
       "LosAngeles             3.021715e+05\n",
       "Louisville             2.488955e+04\n",
       "MiamiFtLauderdale      4.411622e+04\n",
       "Midsouth               6.579085e+05\n",
       "Nashville              1.127370e+04\n",
       "NewOrleansMobile       1.305686e+04\n",
       "NewYork                4.832954e+05\n",
       "Northeast              1.403801e+06\n",
       "NorthernNewEngland     1.586073e+05\n",
       "Orlando                2.473253e+04\n",
       "Philadelphia           1.264747e+05\n",
       "PhoenixTucson          1.158520e+05\n",
       "Pittsburgh             2.160202e+04\n",
       "Plains                 2.583886e+05\n",
       "Portland               1.035079e+05\n",
       "RaleighGreensboro      4.934356e+04\n",
       "RichmondNorfolk        4.756319e+04\n",
       "Roanoke                2.358443e+04\n",
       "Sacramento             1.218252e+05\n",
       "SanDiego               8.656350e+04\n",
       "SanFrancisco           2.460150e+05\n",
       "Seattle                1.066295e+05\n",
       "SouthCarolina          3.737238e+04\n",
       "SouthCentral           6.522190e+05\n",
       "Southeast              2.688179e+05\n",
       "Spokane                1.457577e+04\n",
       "StLouis                1.124101e+04\n",
       "Syracuse               1.890633e+04\n",
       "Tampa                  3.171925e+04\n",
       "TotalUS                5.961573e+06\n",
       "West                   8.898193e+05\n",
       "WestTexNewMexico       6.620437e+04\n",
       "Name: large, dtype: float64"
      ]
     },
     "execution_count": 93,
     "metadata": {
      "tags": []
     },
     "output_type": "execute_result"
    }
   ],
   "source": [
    "# Group by region\n",
    "df.groupby('region')['large'].mean()"
   ]
  },
  {
   "cell_type": "markdown",
   "metadata": {
    "id": "qniBU9PpmIyf"
   },
   "source": [
    "Skimming through the regions, the sales seem to be reasonably similar across the board. In the boxplot the outlier sales are on the order of $2 \\cdot 10^7$, and we're not seeing anything like that here. California is about $10^6$, which is $0.1 \\cdot 10^7$, so also not an outlier. Let's try year."
   ]
  },
  {
   "cell_type": "code",
   "execution_count": null,
   "metadata": {
    "id": "CeHq0ww_mIyg",
    "outputId": "1eab6bda-a7de-480d-d5e5-c38b33a34585"
   },
   "outputs": [
    {
     "data": {
      "text/plain": [
       "year\n",
       "2015    313633.844367\n",
       "2016    297850.478632\n",
       "2017    269964.124350\n",
       "2018    314628.606698\n",
       "Name: large, dtype: float64"
      ]
     },
     "execution_count": 94,
     "metadata": {
      "tags": []
     },
     "output_type": "execute_result"
    }
   ],
   "source": [
    "# Group by year\n",
    "df.groupby('year')['large'].mean()"
   ]
  },
  {
   "cell_type": "markdown",
   "metadata": {
    "id": "f24OUlsqmIyi"
   },
   "source": [
    "Nope, still nothing jumping out. Let's try just directly grabbing those outliers and looking at them, maybe something will jump out."
   ]
  },
  {
   "cell_type": "code",
   "execution_count": null,
   "metadata": {
    "id": "YSLRC_t2mIyj"
   },
   "outputs": [],
   "source": [
    "outlier_df = df[df['large'] > 0.5 * 10**7]"
   ]
  },
  {
   "cell_type": "code",
   "execution_count": null,
   "metadata": {
    "id": "sKlySLwSmIyk",
    "outputId": "f0a7b092-6c75-4fa0-dcab-93e486525bd3"
   },
   "outputs": [
    {
     "data": {
      "text/html": [
       "<div>\n",
       "<style scoped>\n",
       "    .dataframe tbody tr th:only-of-type {\n",
       "        vertical-align: middle;\n",
       "    }\n",
       "\n",
       "    .dataframe tbody tr th {\n",
       "        vertical-align: top;\n",
       "    }\n",
       "\n",
       "    .dataframe thead th {\n",
       "        text-align: right;\n",
       "    }\n",
       "</style>\n",
       "<table border=\"1\" class=\"dataframe\">\n",
       "  <thead>\n",
       "    <tr style=\"text-align: right;\">\n",
       "      <th></th>\n",
       "      <th>date</th>\n",
       "      <th>avg_price</th>\n",
       "      <th>total_volume</th>\n",
       "      <th>small</th>\n",
       "      <th>large</th>\n",
       "      <th>xlarge</th>\n",
       "      <th>total_bags</th>\n",
       "      <th>small_bags</th>\n",
       "      <th>large_bags</th>\n",
       "      <th>xlarge_bags</th>\n",
       "      <th>type</th>\n",
       "      <th>year</th>\n",
       "      <th>region</th>\n",
       "    </tr>\n",
       "  </thead>\n",
       "  <tbody>\n",
       "    <tr>\n",
       "      <th>2652</th>\n",
       "      <td>2015-12-27</td>\n",
       "      <td>0.95</td>\n",
       "      <td>27297983.67</td>\n",
       "      <td>9626901.09</td>\n",
       "      <td>10197890.05</td>\n",
       "      <td>1184340.09</td>\n",
       "      <td>6288852.44</td>\n",
       "      <td>4850404.09</td>\n",
       "      <td>1252626.31</td>\n",
       "      <td>185822.04</td>\n",
       "      <td>conventional</td>\n",
       "      <td>2015</td>\n",
       "      <td>TotalUS</td>\n",
       "    </tr>\n",
       "    <tr>\n",
       "      <th>2653</th>\n",
       "      <td>2015-12-20</td>\n",
       "      <td>0.98</td>\n",
       "      <td>25083647.17</td>\n",
       "      <td>8710021.76</td>\n",
       "      <td>9329861.85</td>\n",
       "      <td>1201020.01</td>\n",
       "      <td>5842743.55</td>\n",
       "      <td>4618389.66</td>\n",
       "      <td>1025048.77</td>\n",
       "      <td>199305.12</td>\n",
       "      <td>conventional</td>\n",
       "      <td>2015</td>\n",
       "      <td>TotalUS</td>\n",
       "    </tr>\n",
       "    <tr>\n",
       "      <th>2654</th>\n",
       "      <td>2015-12-13</td>\n",
       "      <td>0.93</td>\n",
       "      <td>28041335.38</td>\n",
       "      <td>9855053.66</td>\n",
       "      <td>10805838.91</td>\n",
       "      <td>1016163.17</td>\n",
       "      <td>6364279.64</td>\n",
       "      <td>4964462.13</td>\n",
       "      <td>1371440.28</td>\n",
       "      <td>28377.23</td>\n",
       "      <td>conventional</td>\n",
       "      <td>2015</td>\n",
       "      <td>TotalUS</td>\n",
       "    </tr>\n",
       "    <tr>\n",
       "      <th>2655</th>\n",
       "      <td>2015-12-06</td>\n",
       "      <td>0.89</td>\n",
       "      <td>28800396.57</td>\n",
       "      <td>9405464.36</td>\n",
       "      <td>12160838.62</td>\n",
       "      <td>931830.63</td>\n",
       "      <td>6302262.96</td>\n",
       "      <td>5005077.36</td>\n",
       "      <td>1233956.21</td>\n",
       "      <td>63229.39</td>\n",
       "      <td>conventional</td>\n",
       "      <td>2015</td>\n",
       "      <td>TotalUS</td>\n",
       "    </tr>\n",
       "    <tr>\n",
       "      <th>2656</th>\n",
       "      <td>2015-11-29</td>\n",
       "      <td>0.99</td>\n",
       "      <td>22617999.38</td>\n",
       "      <td>8094803.56</td>\n",
       "      <td>9003178.41</td>\n",
       "      <td>731008.41</td>\n",
       "      <td>4789009.00</td>\n",
       "      <td>3901953.04</td>\n",
       "      <td>856560.34</td>\n",
       "      <td>30495.62</td>\n",
       "      <td>conventional</td>\n",
       "      <td>2015</td>\n",
       "      <td>TotalUS</td>\n",
       "    </tr>\n",
       "  </tbody>\n",
       "</table>\n",
       "</div>"
      ],
      "text/plain": [
       "           date  avg_price  total_volume       small        large      xlarge  \\\n",
       "2652 2015-12-27       0.95   27297983.67  9626901.09  10197890.05  1184340.09   \n",
       "2653 2015-12-20       0.98   25083647.17  8710021.76   9329861.85  1201020.01   \n",
       "2654 2015-12-13       0.93   28041335.38  9855053.66  10805838.91  1016163.17   \n",
       "2655 2015-12-06       0.89   28800396.57  9405464.36  12160838.62   931830.63   \n",
       "2656 2015-11-29       0.99   22617999.38  8094803.56   9003178.41   731008.41   \n",
       "\n",
       "      total_bags  small_bags  large_bags  xlarge_bags          type  year  \\\n",
       "2652  6288852.44  4850404.09  1252626.31    185822.04  conventional  2015   \n",
       "2653  5842743.55  4618389.66  1025048.77    199305.12  conventional  2015   \n",
       "2654  6364279.64  4964462.13  1371440.28     28377.23  conventional  2015   \n",
       "2655  6302262.96  5005077.36  1233956.21     63229.39  conventional  2015   \n",
       "2656  4789009.00  3901953.04   856560.34     30495.62  conventional  2015   \n",
       "\n",
       "       region  \n",
       "2652  TotalUS  \n",
       "2653  TotalUS  \n",
       "2654  TotalUS  \n",
       "2655  TotalUS  \n",
       "2656  TotalUS  "
      ]
     },
     "execution_count": 97,
     "metadata": {
      "tags": []
     },
     "output_type": "execute_result"
    }
   ],
   "source": [
    "outlier_df.head()"
   ]
  },
  {
   "cell_type": "code",
   "execution_count": null,
   "metadata": {
    "id": "uO0etIktmIyn",
    "outputId": "7e1013d8-c8e1-4ce4-8ce4-eab308788cf3"
   },
   "outputs": [
    {
     "data": {
      "text/html": [
       "<div>\n",
       "<style scoped>\n",
       "    .dataframe tbody tr th:only-of-type {\n",
       "        vertical-align: middle;\n",
       "    }\n",
       "\n",
       "    .dataframe tbody tr th {\n",
       "        vertical-align: top;\n",
       "    }\n",
       "\n",
       "    .dataframe thead th {\n",
       "        text-align: right;\n",
       "    }\n",
       "</style>\n",
       "<table border=\"1\" class=\"dataframe\">\n",
       "  <thead>\n",
       "    <tr style=\"text-align: right;\">\n",
       "      <th></th>\n",
       "      <th>date</th>\n",
       "      <th>avg_price</th>\n",
       "      <th>total_volume</th>\n",
       "      <th>small</th>\n",
       "      <th>large</th>\n",
       "      <th>xlarge</th>\n",
       "      <th>total_bags</th>\n",
       "      <th>small_bags</th>\n",
       "      <th>large_bags</th>\n",
       "      <th>xlarge_bags</th>\n",
       "      <th>type</th>\n",
       "      <th>year</th>\n",
       "      <th>region</th>\n",
       "    </tr>\n",
       "  </thead>\n",
       "  <tbody>\n",
       "    <tr>\n",
       "      <th>0</th>\n",
       "      <td>2015-12-27</td>\n",
       "      <td>1.33</td>\n",
       "      <td>64236.62</td>\n",
       "      <td>1036.74</td>\n",
       "      <td>54454.85</td>\n",
       "      <td>48.16</td>\n",
       "      <td>8696.87</td>\n",
       "      <td>8603.62</td>\n",
       "      <td>93.25</td>\n",
       "      <td>0.0</td>\n",
       "      <td>conventional</td>\n",
       "      <td>2015</td>\n",
       "      <td>Albany</td>\n",
       "    </tr>\n",
       "    <tr>\n",
       "      <th>1</th>\n",
       "      <td>2015-12-20</td>\n",
       "      <td>1.35</td>\n",
       "      <td>54876.98</td>\n",
       "      <td>674.28</td>\n",
       "      <td>44638.81</td>\n",
       "      <td>58.33</td>\n",
       "      <td>9505.56</td>\n",
       "      <td>9408.07</td>\n",
       "      <td>97.49</td>\n",
       "      <td>0.0</td>\n",
       "      <td>conventional</td>\n",
       "      <td>2015</td>\n",
       "      <td>Albany</td>\n",
       "    </tr>\n",
       "    <tr>\n",
       "      <th>2</th>\n",
       "      <td>2015-12-13</td>\n",
       "      <td>0.93</td>\n",
       "      <td>118220.22</td>\n",
       "      <td>794.70</td>\n",
       "      <td>109149.67</td>\n",
       "      <td>130.50</td>\n",
       "      <td>8145.35</td>\n",
       "      <td>8042.21</td>\n",
       "      <td>103.14</td>\n",
       "      <td>0.0</td>\n",
       "      <td>conventional</td>\n",
       "      <td>2015</td>\n",
       "      <td>Albany</td>\n",
       "    </tr>\n",
       "    <tr>\n",
       "      <th>3</th>\n",
       "      <td>2015-12-06</td>\n",
       "      <td>1.08</td>\n",
       "      <td>78992.15</td>\n",
       "      <td>1132.00</td>\n",
       "      <td>71976.41</td>\n",
       "      <td>72.58</td>\n",
       "      <td>5811.16</td>\n",
       "      <td>5677.40</td>\n",
       "      <td>133.76</td>\n",
       "      <td>0.0</td>\n",
       "      <td>conventional</td>\n",
       "      <td>2015</td>\n",
       "      <td>Albany</td>\n",
       "    </tr>\n",
       "    <tr>\n",
       "      <th>4</th>\n",
       "      <td>2015-11-29</td>\n",
       "      <td>1.28</td>\n",
       "      <td>51039.60</td>\n",
       "      <td>941.48</td>\n",
       "      <td>43838.39</td>\n",
       "      <td>75.78</td>\n",
       "      <td>6183.95</td>\n",
       "      <td>5986.26</td>\n",
       "      <td>197.69</td>\n",
       "      <td>0.0</td>\n",
       "      <td>conventional</td>\n",
       "      <td>2015</td>\n",
       "      <td>Albany</td>\n",
       "    </tr>\n",
       "  </tbody>\n",
       "</table>\n",
       "</div>"
      ],
      "text/plain": [
       "        date  avg_price  total_volume    small      large  xlarge  total_bags  \\\n",
       "0 2015-12-27       1.33      64236.62  1036.74   54454.85   48.16     8696.87   \n",
       "1 2015-12-20       1.35      54876.98   674.28   44638.81   58.33     9505.56   \n",
       "2 2015-12-13       0.93     118220.22   794.70  109149.67  130.50     8145.35   \n",
       "3 2015-12-06       1.08      78992.15  1132.00   71976.41   72.58     5811.16   \n",
       "4 2015-11-29       1.28      51039.60   941.48   43838.39   75.78     6183.95   \n",
       "\n",
       "   small_bags  large_bags  xlarge_bags          type  year  region  \n",
       "0     8603.62       93.25          0.0  conventional  2015  Albany  \n",
       "1     9408.07       97.49          0.0  conventional  2015  Albany  \n",
       "2     8042.21      103.14          0.0  conventional  2015  Albany  \n",
       "3     5677.40      133.76          0.0  conventional  2015  Albany  \n",
       "4     5986.26      197.69          0.0  conventional  2015  Albany  "
      ]
     },
     "execution_count": 98,
     "metadata": {
      "tags": []
     },
     "output_type": "execute_result"
    }
   ],
   "source": [
    "df.head()"
   ]
  },
  {
   "cell_type": "markdown",
   "metadata": {
    "id": "TBhkeZLTmIys"
   },
   "source": [
    "That's interesting, the first few in `outlier_df` all have a region of `TotalUS`. Is that a coincidence?"
   ]
  },
  {
   "cell_type": "code",
   "execution_count": null,
   "metadata": {
    "id": "QW8BT7OtmIyt",
    "outputId": "826b7e16-f1fe-4a6e-f0e5-07d110176da1"
   },
   "outputs": [
    {
     "data": {
      "text/plain": [
       "TotalUS      169\n",
       "Northeast      2\n",
       "Name: region, dtype: int64"
      ]
     },
     "execution_count": 99,
     "metadata": {
      "tags": []
     },
     "output_type": "execute_result"
    }
   ],
   "source": [
    "outlier_df['region'].value_counts()"
   ]
  },
  {
   "cell_type": "markdown",
   "metadata": {
    "id": "WVyIoZgFmIyu"
   },
   "source": [
    "Doesn't look like it! Let's see how many `TotalUS` rows there are all together in the original data."
   ]
  },
  {
   "cell_type": "code",
   "execution_count": null,
   "metadata": {
    "id": "zt_iDbTumIyv",
    "outputId": "67b1e4b9-3847-4f2c-b719-d1000aa97da7"
   },
   "outputs": [
    {
     "data": {
      "text/plain": [
       "338"
      ]
     },
     "execution_count": 101,
     "metadata": {
      "tags": []
     },
     "output_type": "execute_result"
    }
   ],
   "source": [
    "df[df['region'] == 'TotalUS'].shape[0]"
   ]
  },
  {
   "cell_type": "markdown",
   "metadata": {
    "id": "3xhkO5j8mIyx"
   },
   "source": [
    "Let's directly look at those."
   ]
  },
  {
   "cell_type": "code",
   "execution_count": null,
   "metadata": {
    "id": "IdJQ05hWmIyx",
    "outputId": "8db7331d-d7a4-49ed-d2fa-691f6d8fecc5"
   },
   "outputs": [
    {
     "data": {
      "text/plain": [
       "<matplotlib.axes._subplots.AxesSubplot at 0x11e1a3280>"
      ]
     },
     "execution_count": 102,
     "metadata": {
      "tags": []
     },
     "output_type": "execute_result"
    },
    {
     "data": {
      "image/png": "[encoded data removed]",
      "text/plain": [
       "<Figure size 864x576 with 1 Axes>"
      ]
     },
     "metadata": {
      "filenames": {
       "image/png": "/Users/psavala/Dropbox/Teaching/St Edward's/MATH 3439 - Introduction to Data Science/textbook/_build/jupyter_execute/ch_05_90_1.png"
      },
      "needs_background": "light",
      "tags": []
     },
     "output_type": "display_data"
    }
   ],
   "source": [
    "df[df['region'] == 'TotalUS']['large'].plot(kind='hist', figsize=(12, 8))"
   ]
  },
  {
   "cell_type": "markdown",
   "metadata": {
    "id": "HHFHab30mIyz"
   },
   "source": [
    "So that's why, when we grouped by region, `TotalUS` didn't jump out. Yes, there are plenty of outliers, but there are also plenty on the low range which \"cancel out\" the outliers. \n",
    "\n",
    "Regardless, it seems silly to compare individual regions (Albany, Boise, etc.) to the entire US. Let's remove those and just work with actual regions."
   ]
  },
  {
   "cell_type": "code",
   "execution_count": null,
   "metadata": {
    "id": "yIv4z6ahmIy0"
   },
   "outputs": [],
   "source": [
    "region_df = df[df['region'] != 'TotalUS']"
   ]
  },
  {
   "cell_type": "code",
   "execution_count": null,
   "metadata": {
    "id": "vqySsu4HmIy1"
   },
   "outputs": [],
   "source": [
    "region_lr = LinearRegression()\n",
    "\n",
    "# Split into training and testing data (30% test)\n",
    "train_df, test_df = train_test_split(region_df, test_size=0.3)"
   ]
  },
  {
   "cell_type": "markdown",
   "metadata": {
    "id": "jte6qDWHmIy3"
   },
   "source": [
    "Wait a second, we're duplicating code from above! That means we should make a function."
   ]
  },
  {
   "cell_type": "code",
   "execution_count": null,
   "metadata": {
    "id": "UPHtqpQzmIy4"
   },
   "outputs": [],
   "source": [
    "def lr_train_test_split(df, X_cols, y_col, test_size=0.3):\n",
    "    # Split into training and testing data (30% test)\n",
    "    train_df, test_df = train_test_split(df, test_size=0.3)\n",
    "\n",
    "    # Grab the columns we want for X and y for both train and test\n",
    "    X_train = train_df[X_cols]\n",
    "    y_train = train_df[y_col]\n",
    "\n",
    "    X_test = test_df[X_cols]\n",
    "    y_test = test_df[y_col]\n",
    "\n",
    "    # Create the linear regression object\n",
    "    lr = LinearRegression()\n",
    "\n",
    "    # Fit (i.e. train) the model on the training data\n",
    "    lr.fit(X_train, y_train)\n",
    "    \n",
    "    return lr, X_train, y_train, X_test, y_test"
   ]
  },
  {
   "cell_type": "code",
   "execution_count": null,
   "metadata": {
    "id": "V3iHIuwjmIy6"
   },
   "outputs": [],
   "source": [
    "region_lr, X_train, y_train, X_test, y_test = lr_train_test_split(region_df, X_cols=['small', 'small_bags', 'avg_price'], y_col='large')"
   ]
  },
  {
   "cell_type": "code",
   "execution_count": null,
   "metadata": {
    "id": "fiIem7ggmIy8",
    "outputId": "5d412284-e687-404c-ed96-631dd04986ed"
   },
   "outputs": [
    {
     "data": {
      "text/plain": [
       "0.651555153955232"
      ]
     },
     "execution_count": 113,
     "metadata": {
      "tags": []
     },
     "output_type": "execute_result"
    }
   ],
   "source": [
    "region_lr.score(X_test, y_test)"
   ]
  },
  {
   "cell_type": "markdown",
   "metadata": {
    "id": "XQQoMccjmIy-"
   },
   "source": [
    "We have a lower, but still strong $R^2$ value. Let's look at the scatterplot."
   ]
  },
  {
   "cell_type": "code",
   "execution_count": null,
   "metadata": {
    "id": "9NU6uABumIy_"
   },
   "outputs": [],
   "source": [
    "def lr_scatterplot(lr, X_test, y_test):\n",
    "    fig = plt.figure(figsize=(12, 10))\n",
    "    \n",
    "    test_pred = lr.predict(X_test)\n",
    "    plt.scatter(y_test, test_pred)\n",
    "\n",
    "    plt.xlabel('Actual sales')\n",
    "    plt.ylabel('Predicted sales')\n",
    "    plt.title(f'Actual vs predicted using linear regression: R^2 = {np.corrcoef(y_test, test_pred)[0,1]**2:.3f}');"
   ]
  },
  {
   "cell_type": "code",
   "execution_count": null,
   "metadata": {
    "id": "8zz-Uzi2mIzA",
    "outputId": "083868fd-b04b-4b61-9512-c19f024dfecf"
   },
   "outputs": [
    {
     "data": {
      "image/png": "[encoded data removed]",
      "text/plain": [
       "<Figure size 864x720 with 1 Axes>"
      ]
     },
     "metadata": {
      "filenames": {
       "image/png": "/Users/psavala/Dropbox/Teaching/St Edward's/MATH 3439 - Introduction to Data Science/textbook/_build/jupyter_execute/ch_05_100_0.png"
      },
      "needs_background": "light",
      "tags": []
     },
     "output_type": "display_data"
    }
   ],
   "source": [
    "lr_scatterplot(region_lr, X_test, y_test)"
   ]
  },
  {
   "cell_type": "markdown",
   "metadata": {
    "id": "0xMSV_EOmIzC"
   },
   "source": [
    "That looks decent. The cone shape is not great, as it means that there is a range of predicted values corresponding to any actual value. But regardless, we have a model that does decently well.\n",
    "\n",
    "This sort of \"inspecting your model\" is absolutely necessary. If you ever train a model and then stop, you are doing data science wrong. What makes a good data scientist is *not* how many models you know or how quickly you write code, it's how well you understand your model and data. Someone who is able to dive into and understand their model and data is far more useful as a data scientist than someone who simply knows commands. Make it a habit to spent several multiples more time *analyzing* your model and data than *modeling* your data."
   ]
  },
  {
   "cell_type": "markdown",
   "metadata": {
    "id": "fUM0zCzrmIzD"
   },
   "source": [
    "## Exercises\n",
    "\n",
    "1. Repeat the models comparing small sales to large sales, but with different columns. For instance, use medium to predict large. Try to not just copy-paste the code above. First, do as much as you can from memory. Then, when you get stuck, go up and see how to proceed. Type that part, and then again try to do the next step on your own. Repeat.\n",
    "2. Do exercise 1 again, but with new columns. This sort of \"try on your own, look for help when you're stuck\" process is the best way to learn these things, so do it over and over.\n",
    "3. Use more or less columns.\n",
    "4. Get another dataset and do linear regression on it. As you may have guessed from these exercises, linear regression is incredibly important, and the best thing you can do right now is to practice it."
   ]
  }
 ],
 "metadata": {
  "colab": {
   "collapsed_sections": [
    "yW_3nI6ImIwx",
    "tmTVxkpvmIxW",
    "ZEKOL4oYmIxo",
    "Wf5IdkRQmIyR",
    "fUM0zCzrmIzD"
   ],
   "name": "ch_05.ipynb",
   "provenance": []
  },
  "kernelspec": {
   "display_name": "Python 3",
   "language": "python",
   "name": "python3"
  },
  "language_info": {
   "codemirror_mode": {
    "name": "ipython",
    "version": 3
   },
   "file_extension": ".py",
   "mimetype": "text/x-python",
   "name": "python",
   "nbconvert_exporter": "python",
   "pygments_lexer": "ipython3",
   "version": "3.8.5"
  }
 },
 "nbformat": 4,
 "nbformat_minor": 0
}