{
 "cells": [
  {
   "cell_type": "markdown",
   "metadata": {
    "id": "G9w-UPQnsmmJ"
   },
   "source": [
    "# First steps with Pandas and Jupyter notebooks"
   ]
  },
  {
   "cell_type": "markdown",
   "metadata": {
    "id": "Fb27qkWwsmmK"
   },
   "source": [
    "## Jupyter notebooks\n",
    "\n",
    "What you're looking at right now is what's called a Jupyter notebook. When you took your programming course, you probably wrote your code in a text editor and then ran it from the command line. Modern data scientists typically start their work in Jupyter notebooks. A notebook is a collection of code cells (like the one at the top of this notebook) which run Python code, and Markdown cells (like this one!) which have text.\n",
    "\n",
    "If you've ever used Mathematica or similar math systems, this is a very similar setup. Rather than writing your code in the text editor, leaving to run it in a console, and then coming back to change it, everything happens in one place."
   ]
  },
  {
   "cell_type": "markdown",
   "metadata": {
    "id": "fshXT4BlsmmK"
   },
   "source": [
    "## Jupyter notebook cheat-sheet <a id=\"jupyter\"></a>\n",
    "To edit a cell, click on it (if it's a `Code` cell), or double-click on it (if it's a `Markdown` cell). You can change a cell between `Code` and `Markdown` by clicking on the cell, then using the dropdown at the top of this worksheet. You can also click to the left of the cell and hitting `C` on your keyboard for `Code`, or `M` for `Markdown`. To run a cell, select the cell, then hit `Shift-Enter`. The output will appear below it. Not all commands will generate an output, so your output can be blank.\n",
    "\n",
    "Cells are just containers for tiny Python programs. So you can do something like `3+2` and run it with `Shift-Enter` and get an output of `5`. You can also write `if` statements, define new functions, classes, etc. Anything that works in Python works here too.\n",
    "\n",
    "```{note}\n",
    "You'll need to either download this notebook or run it in Binder in order to execute cells!\n",
    "```"
   ]
  },
  {
   "cell_type": "code",
   "execution_count": 1,
   "metadata": {
    "id": "0qU89mlLsmmL"
   },
   "outputs": [],
   "source": [
    "# This is a code cell. Click in it to edit it.\n",
    "# Try running some small Python code here (like adding two numbers).\n",
    "# Then, click Shift-Enter to run it. You should see the output below this cell."
   ]
  },
  {
   "cell_type": "markdown",
   "metadata": {
    "id": "ZN5VD1gQsmmN"
   },
   "source": [
    "## Markdown cheat-sheet\n",
    "\n",
    "Markdown is a way to type pretty text using bold, italics, links, codeblocks and more, without needing to use a word processor like Microsoft Word. There is a little bit of memorization, but it's not too bad. Below are examples of the most common things you'll use. For a more detailed list, checkout [this cheatsheet](https://github.com/adam-p/markdown-here/wiki/Markdown-Cheatsheet).\n",
    "\n",
    "### Double-click on this cell to see a breakdown of how I accomplished all these things.\n",
    "\n",
    "*This is italic*\n",
    "\n",
    "**This is bold**\n",
    "\n",
    "# This is a big header\n",
    "\n",
    "## This is a slightly smaller header\n",
    "\n",
    "### You can pretty much go as small as you want\n",
    "\n",
    "- You can also make a list by using dashes\n",
    "- You can make as many as you want\n",
    "\n",
    "\n",
    "1. If you want numbers instead\n",
    "2. Just use numbers\n",
    "\n",
    "You can also makes links as follows: [The title for your link](www.stedwards.edu)\n",
    "\n",
    "If you want to type something that uses Python, and you want to remember that this is a Python *command* (as opposed to just some text), it's good practice to surround it with backticks. Backticks are the thing in the top-left of your keyboard, on the same key as the tilde ~. \n",
    "\n",
    "As an example, suppose you were writing something up showing someone how to use the print command in Python. You could write the following: \n",
    "\n",
    "\"In order to add something in Python, just type the numbers. For example, you could teach someone how to print in Python by telling them to type `print(3+2)`.\"\n",
    "\n",
    "See how surrounding it with backticks made it look different? It makes it clear that this is a Python command, and not just some random text."
   ]
  },
  {
   "cell_type": "markdown",
   "metadata": {
    "id": "IaY7bX3esmmO"
   },
   "source": [
    "## Jupyter notebook best practices\n",
    "- Always title your notebook.\n",
    "- Break your code into sections. Start by doing your imports, then your next section might be loading the data, and so forth. Title each section using Markdown, and give each section a description of what you're doing there.\n",
    "- Keep your code clean. It's okay to create new cells to test things, but once your testing is done and those cells are no longer needed, delete them. Go back to old working cells and clean them up. Write the code nicer, put a Markdown cell describing what's going on, etc.\n",
    "- Leave yourself notes about what you've done. *Right now* you remember what you've done, but you won't remember it a month from now.\n",
    "- If you find yourself copying and pasting some code over and over, make it into a function and call that function instead."
   ]
  },
  {
   "cell_type": "markdown",
   "metadata": {
    "id": "TKxgeWSWsmmO"
   },
   "source": [
    "# Python <a id=\"python\"></a>\n",
    "The following is a brief review of Python. Use it to refresh your memory and to help you with the homework."
   ]
  },
  {
   "cell_type": "markdown",
   "metadata": {
    "id": "cK92gSulsmmP"
   },
   "source": [
    "### Data types <a id=\"data_types\"></a>\n",
    "In Python, the most common ways to represent data (called **data types**) are as one of the following:\n",
    "- `int`: An integer (whole number, positive or negative)\n",
    "- `float`: A decimal\n",
    "- `str`: A string (characters, such as \"abc\")\n",
    "\n",
    "In order to see what data type something is, you can just type `type(my_thing)`."
   ]
  },
  {
   "cell_type": "code",
   "execution_count": 2,
   "metadata": {
    "id": "ddva5uqxsmmP"
   },
   "outputs": [
    {
     "data": {
      "text/plain": [
       "str"
      ]
     },
     "execution_count": 2,
     "metadata": {},
     "output_type": "execute_result"
    }
   ],
   "source": [
    "type('abc')"
   ]
  },
  {
   "cell_type": "code",
   "execution_count": 3,
   "metadata": {
    "id": "eKhCOxemsmmU"
   },
   "outputs": [
    {
     "data": {
      "text/plain": [
       "int"
      ]
     },
     "execution_count": 3,
     "metadata": {},
     "output_type": "execute_result"
    }
   ],
   "source": [
    "type(123)"
   ]
  },
  {
   "cell_type": "code",
   "execution_count": 4,
   "metadata": {
    "id": "B8EDWbohsmmX"
   },
   "outputs": [
    {
     "data": {
      "text/plain": [
       "float"
      ]
     },
     "execution_count": 4,
     "metadata": {},
     "output_type": "execute_result"
    }
   ],
   "source": [
    "type(123.45)"
   ]
  },
  {
   "cell_type": "markdown",
   "metadata": {
    "id": "MwavrhOKsmmZ"
   },
   "source": [
    "### Data structures <a id=\"data_structures\"></a>\n",
    "When you want to store data, there are several ways to do it. The simplest way is just to store it in a variable. You can do this by typing `my_variable = some_value`. In a Jupyter Notebook (the thing you're working in right now), you don't necessarily need to type `print` if you want to look at a variable. You can just type the variable name and run the cell."
   ]
  },
  {
   "cell_type": "code",
   "execution_count": 5,
   "metadata": {
    "id": "afXnaiFxsmma"
   },
   "outputs": [
    {
     "data": {
      "text/plain": [
       "3"
      ]
     },
     "execution_count": 5,
     "metadata": {},
     "output_type": "execute_result"
    }
   ],
   "source": [
    "x = 3\n",
    "x"
   ]
  },
  {
   "cell_type": "markdown",
   "metadata": {
    "id": "9ExiYwCBsmmd"
   },
   "source": [
    "Since I put the `x` as the last thing in the cell, Jupyter printed it out for me to see what it is."
   ]
  },
  {
   "cell_type": "markdown",
   "metadata": {
    "id": "MI_L2HC1smmd"
   },
   "source": [
    "Often you will need to store several variables/pieces of data in an organized way. The most common ways to do this are the following **data structures**:\n",
    "- `list`: A list of values. Lists are created using brackets (`[` and `]`).\n",
    "- `set`: Similar to a list, but there is no order, and each object shows up at most once. Created using curly braces (`{` and `}`).\n",
    "- `dict`: A dictionary. This stores things with a `key` and a `value`. Dictionaries are created using curly braces."
   ]
  },
  {
   "cell_type": "code",
   "execution_count": 6,
   "metadata": {
    "id": "GBk6Glgzsmme"
   },
   "outputs": [],
   "source": [
    "my_list = [1, 1, 2, 3, 'a', 'b', 'c', 'c']\n",
    "# The set and list look the same at first, but once you print them you will see the difference.\n",
    "my_set = {1, 1, 2, 3, 'a', 'b', 'c', 'c'} \n",
    "my_dict = {'last_name': 'Savala', 'age': 36, 'favorite_number': 3.14}"
   ]
  },
  {
   "cell_type": "code",
   "execution_count": 7,
   "metadata": {
    "id": "B876HMU8smmg"
   },
   "outputs": [
    {
     "data": {
      "text/plain": [
       "[1, 1, 2, 3, 'a', 'b', 'c', 'c']"
      ]
     },
     "execution_count": 7,
     "metadata": {},
     "output_type": "execute_result"
    }
   ],
   "source": [
    "my_list"
   ]
  },
  {
   "cell_type": "code",
   "execution_count": 8,
   "metadata": {
    "id": "WL73NimZsmmi"
   },
   "outputs": [
    {
     "data": {
      "text/plain": [
       "{1, 2, 3, 'a', 'b', 'c'}"
      ]
     },
     "execution_count": 8,
     "metadata": {},
     "output_type": "execute_result"
    }
   ],
   "source": [
    "my_set"
   ]
  },
  {
   "cell_type": "code",
   "execution_count": 9,
   "metadata": {
    "id": "72ed88PUsmmk"
   },
   "outputs": [
    {
     "data": {
      "text/plain": [
       "{'last_name': 'Savala', 'age': 36, 'favorite_number': 3.14}"
      ]
     },
     "execution_count": 9,
     "metadata": {},
     "output_type": "execute_result"
    }
   ],
   "source": [
    "my_dict"
   ]
  },
  {
   "cell_type": "code",
   "execution_count": 10,
   "metadata": {
    "id": "hWSl0j5rsmmn",
    "scrolled": true
   },
   "outputs": [
    {
     "data": {
      "text/plain": [
       "36"
      ]
     },
     "execution_count": 10,
     "metadata": {},
     "output_type": "execute_result"
    }
   ],
   "source": [
    "my_dict['age']"
   ]
  },
  {
   "cell_type": "markdown",
   "metadata": {
    "id": "qbVlEVbrsmmp"
   },
   "source": [
    "### Control structures <a id=\"control_structures\"></a>\n",
    "Often you want to control how some events happen. This could mean things like `if` today is Saturday then don't do homework, or something like `for` each number in this list, check if it's prime. These are called **control structures**. The most common control structures in Python are `if`/`elif`/`else` statements, and `for` loops (there are more!)."
   ]
  },
  {
   "cell_type": "markdown",
   "metadata": {
    "id": "Hd0VPSGssmmq"
   },
   "source": [
    "`if`/`elif`/`else` structures work just like you think. Remember to put a colon `:` after each one, and indent everything that happens in each part."
   ]
  },
  {
   "cell_type": "code",
   "execution_count": 11,
   "metadata": {
    "id": "CP_SS9oasmmq"
   },
   "outputs": [
    {
     "name": "stdout",
     "output_type": "stream",
     "text": [
      "Whew, guess everything is okay\n"
     ]
    }
   ],
   "source": [
    "x = 5\n",
    "if x < 3:\n",
    "    print('Somehow, 5 is less than 3')\n",
    "elif x > 7:\n",
    "    print('How is it that 5 is greater than 7?')\n",
    "    print('That makes no sense!')\n",
    "else:\n",
    "    print('Whew, guess everything is okay')"
   ]
  },
  {
   "cell_type": "markdown",
   "metadata": {
    "id": "IZioc5Z4smms"
   },
   "source": [
    "`for` loops take some structure (often a `list`) and iterate through it. This is useful when you want to work with every element in a list."
   ]
  },
  {
   "cell_type": "code",
   "execution_count": 12,
   "metadata": {
    "id": "L2zdWLC6smms"
   },
   "outputs": [
    {
     "name": "stdout",
     "output_type": "stream",
     "text": [
      "1\n",
      "4\n",
      "9\n",
      "16\n",
      "25\n",
      "36\n",
      "49\n",
      "64\n",
      "81\n",
      "100\n"
     ]
    }
   ],
   "source": [
    "my_list = [1, 2, 3, 4, 5, 6, 7, 8, 9, 10]\n",
    "for x in my_list:\n",
    "    print(x**2)"
   ]
  },
  {
   "cell_type": "markdown",
   "metadata": {
    "id": "SMgkw6uAsmmv"
   },
   "source": [
    "## Functions <a id=\"functions\"></a>"
   ]
  },
  {
   "cell_type": "markdown",
   "metadata": {
    "id": "ntbY5ZdGsmmv"
   },
   "source": [
    "### Defining functions <a id=\"defining_functions\"></a>\n",
    "Writing code as functions is incredibly important in any programming language. This should seem familiar to math people, as we deal with functions all the time! In Python, write a function using the `def` command. You then put the name of the function, and in parentheses all the inputs the function takes. Don't forget to include a colon `:` at the end, and to indent everything inside the function. At the end you can (but don't have to) use the `return` statement to return some value."
   ]
  },
  {
   "cell_type": "code",
   "execution_count": 13,
   "metadata": {
    "id": "fAs_xkHssmmv"
   },
   "outputs": [],
   "source": [
    "# A function with no return statement\n",
    "def add_and_print(x, y):\n",
    "    print(x + y)"
   ]
  },
  {
   "cell_type": "code",
   "execution_count": 14,
   "metadata": {
    "id": "kzf3uh4Nsmmx"
   },
   "outputs": [
    {
     "name": "stdout",
     "output_type": "stream",
     "text": [
      "7\n"
     ]
    }
   ],
   "source": [
    "add_and_print(3, 4)"
   ]
  },
  {
   "cell_type": "code",
   "execution_count": 15,
   "metadata": {
    "id": "AydYM5ytsmm0"
   },
   "outputs": [],
   "source": [
    "# A function with a return statement\n",
    "def add_and_return(x, y):\n",
    "    return x + y"
   ]
  },
  {
   "cell_type": "code",
   "execution_count": 16,
   "metadata": {
    "id": "w04PTzsRsmm2"
   },
   "outputs": [
    {
     "data": {
      "text/plain": [
       "7"
      ]
     },
     "execution_count": 16,
     "metadata": {},
     "output_type": "execute_result"
    }
   ],
   "source": [
    "add_and_return(3, 4)"
   ]
  },
  {
   "cell_type": "markdown",
   "metadata": {
    "id": "Pjog2cexsmm3"
   },
   "source": [
    "These two look the same, but there's an important difference. If we `return` a value, then we can store that value and use it later. If we simply `print` the value, that's not possible. Example:\n"
   ]
  },
  {
   "cell_type": "code",
   "execution_count": 17,
   "metadata": {
    "id": "_E2Q6ESRsmm4"
   },
   "outputs": [
    {
     "name": "stdout",
     "output_type": "stream",
     "text": [
      "7\n",
      "14\n",
      "Now I can manipulate z however I want\n"
     ]
    }
   ],
   "source": [
    "z = add_and_return(3, 4)\n",
    "print(z)\n",
    "print(2 * z)\n",
    "print('Now I can manipulate z however I want')"
   ]
  },
  {
   "cell_type": "markdown",
   "metadata": {},
   "source": [
    "```{warning}\n",
    "An error is coming!\n",
    "```"
   ]
  },
  {
   "cell_type": "code",
   "execution_count": 19,
   "metadata": {
    "id": "Bihcyutmsmm5"
   },
   "outputs": [
    {
     "name": "stdout",
     "output_type": "stream",
     "text": [
      "7\n"
     ]
    },
    {
     "ename": "TypeError",
     "evalue": "unsupported operand type(s) for *: 'int' and 'NoneType'",
     "output_type": "error",
     "traceback": [
      "\u001b[0;31m---------------------------------------------------------------------------\u001b[0m",
      "\u001b[0;31mTypeError\u001b[0m                                 Traceback (most recent call last)",
      "\u001b[0;32m<ipython-input-19-950ae8e0bd90>\u001b[0m in \u001b[0;36m<module>\u001b[0;34m\u001b[0m\n\u001b[1;32m      2\u001b[0m \u001b[0;31m# so the program has no idea what value to save to z.\u001b[0m\u001b[0;34m\u001b[0m\u001b[0;34m\u001b[0m\u001b[0;34m\u001b[0m\u001b[0m\n\u001b[1;32m      3\u001b[0m \u001b[0mz\u001b[0m \u001b[0;34m=\u001b[0m \u001b[0madd_and_print\u001b[0m\u001b[0;34m(\u001b[0m\u001b[0;36m3\u001b[0m\u001b[0;34m,\u001b[0m \u001b[0;36m4\u001b[0m\u001b[0;34m)\u001b[0m\u001b[0;34m\u001b[0m\u001b[0;34m\u001b[0m\u001b[0m\n\u001b[0;32m----> 4\u001b[0;31m \u001b[0mz\u001b[0m \u001b[0;34m=\u001b[0m \u001b[0;36m2\u001b[0m \u001b[0;34m*\u001b[0m \u001b[0mz\u001b[0m\u001b[0;34m\u001b[0m\u001b[0;34m\u001b[0m\u001b[0m\n\u001b[0m\u001b[1;32m      5\u001b[0m \u001b[0mz\u001b[0m\u001b[0;34m\u001b[0m\u001b[0;34m\u001b[0m\u001b[0m\n",
      "\u001b[0;31mTypeError\u001b[0m: unsupported operand type(s) for *: 'int' and 'NoneType'"
     ]
    }
   ],
   "source": [
    "# We will get an error because add_and_print doesn't return anything, \n",
    "# so the program has no idea what value to save to z.\n",
    "z = add_and_print(3, 4)\n",
    "z = 2 * z\n",
    "z"
   ]
  },
  {
   "cell_type": "markdown",
   "metadata": {
    "id": "0CL1dZ5Gsmm9"
   },
   "source": [
    "### Calling functions <a id=\"calling_functions\"></a>\n",
    "\n",
    "Functions have **arguments**, which are simply the inputs. When you define the function all the arguments must have names. That's why we used `x` and `y` when we defined `add_and_print` above. Here's another example:"
   ]
  },
  {
   "cell_type": "code",
   "execution_count": 21,
   "metadata": {
    "id": "S6BzJyDBsmm9"
   },
   "outputs": [],
   "source": [
    "def my_name(first_name, middle_name, last_name):\n",
    "    print('Your first name is ' + first_name)\n",
    "    print('Your middle name is ' + middle_name)\n",
    "    print('Your last name is ' + last_name)"
   ]
  },
  {
   "cell_type": "markdown",
   "metadata": {
    "id": "dpnKyrYPsmm_"
   },
   "source": [
    "When you call this function, you can choose to use those argument names or not. That is, either of the following two are exactly the same:"
   ]
  },
  {
   "cell_type": "code",
   "execution_count": 22,
   "metadata": {
    "id": "gl69z5mjsmm_"
   },
   "outputs": [
    {
     "name": "stdout",
     "output_type": "stream",
     "text": [
      "Your first name is Paul\n",
      "Your middle name is Awesome\n",
      "Your last name is Savala\n"
     ]
    }
   ],
   "source": [
    "my_name(first_name='Paul', middle_name='Awesome', last_name='Savala')"
   ]
  },
  {
   "cell_type": "code",
   "execution_count": 23,
   "metadata": {
    "id": "BaCLsT1qsmnB"
   },
   "outputs": [
    {
     "name": "stdout",
     "output_type": "stream",
     "text": [
      "Your first name is Paul\n",
      "Your middle name is Awesome\n",
      "Your last name is Savala\n"
     ]
    }
   ],
   "source": [
    "my_name('Paul', 'Awesome', 'Savala')"
   ]
  },
  {
   "cell_type": "markdown",
   "metadata": {
    "id": "W9YCrJHMsmnD"
   },
   "source": [
    "Note that in the first one we directly wrote `first_name=\"Paul\", ...`, while in the second we simply typed them in. **If you do not use the argument names, you type the arguments in the order the function definition has them.** Since the function has `first_name` as the first argument, then it just assumes it's the first argument (`first_name`), that the second is the second argument (`middle_name`), and so forth. **If you do supply the arugment names then the order doesn't matter.** Here are some examples:"
   ]
  },
  {
   "cell_type": "code",
   "execution_count": 24,
   "metadata": {
    "id": "JwKrxzicsmnE"
   },
   "outputs": [
    {
     "name": "stdout",
     "output_type": "stream",
     "text": [
      "Your first name is Savala\n",
      "Your middle name is Awesome\n",
      "Your last name is Paul\n"
     ]
    }
   ],
   "source": [
    "# This is wrong!\n",
    "my_name('Savala', 'Awesome', 'Paul')"
   ]
  },
  {
   "cell_type": "code",
   "execution_count": 25,
   "metadata": {
    "id": "uUOOVtgasmnG"
   },
   "outputs": [
    {
     "name": "stdout",
     "output_type": "stream",
     "text": [
      "Your first name is Paul\n",
      "Your middle name is Awesome\n",
      "Your last name is Savala\n"
     ]
    }
   ],
   "source": [
    "# This works though\n",
    "my_name(last_name='Savala', middle_name='Awesome', first_name='Paul')"
   ]
  },
  {
   "cell_type": "markdown",
   "metadata": {
    "id": "dHmaUxZTsmnI"
   },
   "source": [
    "Either way is just fine, it's totally up to you. If your function has many arguments then it's good practice to include the argument names when you call it. That way the person reading your work isn't trying to remember/guess what the seventh argument in a big list of arguments is. But if it's just one or two then omitting the argument name is probably just fine."
   ]
  },
  {
   "cell_type": "markdown",
   "metadata": {
    "id": "wHKtF5jysmnI"
   },
   "source": [
    "### Default values <a id=\"default_values\"></a>\n",
    "\n",
    "In a function you can supply **default values**. For instance, not everyone has a middle name. So in the function above we would like middle name to be optional. We can do this by setting a default value of, say, `None`. To do this, simply put the default value there when you define the function:\n",
    "\n",
    "```{warning}\n",
    "Here comes an error!\n",
    "```"
   ]
  },
  {
   "cell_type": "code",
   "execution_count": 29,
   "metadata": {
    "id": "wy0hDB27smnJ"
   },
   "outputs": [
    {
     "ename": "SyntaxError",
     "evalue": "non-default argument follows default argument (<ipython-input-29-87c0b4110724>, line 1)",
     "output_type": "error",
     "traceback": [
      "\u001b[0;36m  File \u001b[0;32m\"<ipython-input-29-87c0b4110724>\"\u001b[0;36m, line \u001b[0;32m1\u001b[0m\n\u001b[0;31m    def my_name(first_name, middle_name=None, last_name):\u001b[0m\n\u001b[0m                ^\u001b[0m\n\u001b[0;31mSyntaxError\u001b[0m\u001b[0;31m:\u001b[0m non-default argument follows default argument\n"
     ]
    }
   ],
   "source": [
    "def my_name(first_name, middle_name=None, last_name):\n",
    "    print('Your first name is ' + first_name)\n",
    "    if middle_name is not None:\n",
    "        print('Your middle name is ' + middle_name)\n",
    "    print('Your last name is ' + last_name)"
   ]
  },
  {
   "cell_type": "markdown",
   "metadata": {
    "id": "B-xa8ZN_smnK"
   },
   "source": [
    "As you can see from the error, arguments *without* a default value (like `first_name` and `last_name` in our example) need to come first, then arguments *with* default values must come last. So let's fix that."
   ]
  },
  {
   "cell_type": "code",
   "execution_count": 30,
   "metadata": {
    "id": "wnLpZcUtsmnK"
   },
   "outputs": [],
   "source": [
    "def my_name(first_name, last_name, middle_name=None):\n",
    "    print('Your first name is ' + first_name)\n",
    "    if middle_name is not None:\n",
    "        print('Your middle name is ' + middle_name)\n",
    "    print('Your last name is ' + last_name)"
   ]
  },
  {
   "cell_type": "code",
   "execution_count": 31,
   "metadata": {
    "id": "50vPYSQfsmnN"
   },
   "outputs": [
    {
     "name": "stdout",
     "output_type": "stream",
     "text": [
      "Your first name is Paul\n",
      "Your last name is Savala\n"
     ]
    }
   ],
   "source": [
    "my_name(first_name='Paul', last_name='Savala')"
   ]
  },
  {
   "cell_type": "markdown",
   "metadata": {
    "id": "DTnJgA4WsmnP"
   },
   "source": [
    "### f-strings <a id=\"f_strings\"></a>\n",
    "If you want to print text, but also include a variable, there are three ways to do it."
   ]
  },
  {
   "cell_type": "code",
   "execution_count": 32,
   "metadata": {
    "id": "ABjpEj7ysmnP"
   },
   "outputs": [
    {
     "data": {
      "text/plain": [
       "'My name is Paul and I am 36 years old'"
      ]
     },
     "execution_count": 32,
     "metadata": {},
     "output_type": "execute_result"
    }
   ],
   "source": [
    "# Method 1 (the old \"format\" way)\n",
    "my_age = 36\n",
    "my_name = 'Paul'\n",
    "\n",
    "'My name is {name} and I am {age} years old'.format(name=my_name, age=my_age)"
   ]
  },
  {
   "cell_type": "code",
   "execution_count": 33,
   "metadata": {
    "id": "Q5UPJwdEsmnR"
   },
   "outputs": [
    {
     "data": {
      "text/plain": [
       "'My name is Paul and I am 36 years old'"
      ]
     },
     "execution_count": 33,
     "metadata": {},
     "output_type": "execute_result"
    }
   ],
   "source": [
    "# Method 2 (use +)\n",
    "'My name is ' + my_name + ' and I am ' + str(my_age) + ' years old'"
   ]
  },
  {
   "cell_type": "markdown",
   "metadata": {
    "id": "N65VSE2ismnT"
   },
   "source": [
    "Both of these methods works, but they are ugly and slow. In addition, for \"method 2\" to work, everything has to be a string. So if you removed `str(...)` from `my_age` it would give an error. \n",
    "\n",
    "A much cleaner way which was introduced with Python version 3.6 is called f-strings (the \"f\" stands for \"format\"). All you need to do is put an `f` in front of your string. Then, in the curly braces write the name of your variable. Here's an example:"
   ]
  },
  {
   "cell_type": "code",
   "execution_count": 34,
   "metadata": {
    "id": "qeM6j-O5smnT"
   },
   "outputs": [
    {
     "data": {
      "text/plain": [
       "'My name is Paul and I am 36 years old'"
      ]
     },
     "execution_count": 34,
     "metadata": {},
     "output_type": "execute_result"
    }
   ],
   "source": [
    "# Note the \"f\" in front of the string. That tells Python this is an f-string.\n",
    "f'My name is {my_name} and I am {my_age} years old'"
   ]
  },
  {
   "cell_type": "markdown",
   "metadata": {
    "id": "hhyH6jDVsmnV"
   },
   "source": [
    "f-strings are very useful for printing all kinds of variables, including numbers. However, floats with many numbers after the decimal can print out annoyingly long. For instance, consider the following example:"
   ]
  },
  {
   "cell_type": "code",
   "execution_count": 35,
   "metadata": {
    "id": "FL7BwX62smnV"
   },
   "outputs": [
    {
     "data": {
      "text/plain": [
       "'If a pizza costs $22 and is divided between 7 people, then each person pays $3.142857142857143'"
      ]
     },
     "execution_count": 35,
     "metadata": {},
     "output_type": "execute_result"
    }
   ],
   "source": [
    "f'If a pizza costs $22 and is divided between 7 people, then each person pays ${22/7}'"
   ]
  },
  {
   "cell_type": "markdown",
   "metadata": {
    "id": "biI8RNPEsmnX"
   },
   "source": [
    "Do we really need to see how much each person pays down to the billionth of a penny? We would like just two decimal places. We can do this by including a **format** at the end. The one we will use the most often is `.2f`. The dot \".\" refers to the decimal. The \"2\" refers to two places after the decimal. The \"f\" refers to the number being a float (if you don't put this it will sometimes print the number in scientific form, which is probably not what you wanted). To tell Python you want to use a format, just put a colon \":\" after your computation, and then put the format you want. For example:"
   ]
  },
  {
   "cell_type": "code",
   "execution_count": 36,
   "metadata": {
    "id": "5FAf0G9asmnY"
   },
   "outputs": [
    {
     "data": {
      "text/plain": [
       "'If a pizza costs $22 and is divided between 7 people, then each person pays $3.14'"
      ]
     },
     "execution_count": 36,
     "metadata": {},
     "output_type": "execute_result"
    }
   ],
   "source": [
    "# Notice the change in the colons where the calculation occurs\n",
    "f'If a pizza costs $22 and is divided between 7 people, then each person pays ${22/7:.2f}'"
   ]
  },
  {
   "cell_type": "markdown",
   "metadata": {
    "id": "oxXSW08-smnZ"
   },
   "source": [
    "### Range <a id=\"range\"></a>\n",
    "Suppose I have a list of 5 elements, and I want to know which ones are odd. So for instance, if `my_list = [4, 1, 1, 8, 9]`, I want to know that the second, third and fifth elements are odd. Remember that in Python these **indices** start by counting at zero. So the `indices_with_odd_elements = [1, 2, 4]`. The easiest way to access the incides in a list is to use the `range` function. By default a `range` is it's own thing. In order to be able to better see what is going on, it is useful to convert it to a list."
   ]
  },
  {
   "cell_type": "code",
   "execution_count": 37,
   "metadata": {
    "id": "zyD9UhtHsmna"
   },
   "outputs": [
    {
     "data": {
      "text/plain": [
       "range(0, 10)"
      ]
     },
     "execution_count": 37,
     "metadata": {},
     "output_type": "execute_result"
    }
   ],
   "source": [
    "range(10)"
   ]
  },
  {
   "cell_type": "code",
   "execution_count": 38,
   "metadata": {
    "id": "VDFnKScQsmnb"
   },
   "outputs": [
    {
     "data": {
      "text/plain": [
       "[0, 1, 2, 3, 4, 5, 6, 7, 8, 9]"
      ]
     },
     "execution_count": 38,
     "metadata": {},
     "output_type": "execute_result"
    }
   ],
   "source": [
    "list(range(10))"
   ]
  },
  {
   "cell_type": "code",
   "execution_count": 39,
   "metadata": {
    "id": "FCMH0fWCsmnd"
   },
   "outputs": [
    {
     "data": {
      "text/plain": [
       "[1, 2, 3, 4, 5, 6, 7, 8, 9]"
      ]
     },
     "execution_count": 39,
     "metadata": {},
     "output_type": "execute_result"
    }
   ],
   "source": [
    "list(range(1, 10))"
   ]
  },
  {
   "cell_type": "code",
   "execution_count": 40,
   "metadata": {
    "id": "peU3JIHGsmnf"
   },
   "outputs": [
    {
     "data": {
      "text/plain": [
       "[1, 3, 5, 7, 9]"
      ]
     },
     "execution_count": 40,
     "metadata": {},
     "output_type": "execute_result"
    }
   ],
   "source": [
    "list(range(1, 10, 2))"
   ]
  },
  {
   "cell_type": "code",
   "execution_count": 41,
   "metadata": {
    "id": "VAY3yXsUsmni"
   },
   "outputs": [
    {
     "name": "stdout",
     "output_type": "stream",
     "text": [
      "The index is 0 and the value is 4\n",
      "The index is 1 and the value is 1\n",
      "The index is 2 and the value is 1\n",
      "The index is 3 and the value is 8\n",
      "The index is 4 and the value is 9\n"
     ]
    }
   ],
   "source": [
    "my_list = [4, 1, 1, 8, 9]\n",
    "for i in range(len(my_list)):\n",
    "    print(f'The index is {i} and the value is {my_list[i]}')"
   ]
  },
  {
   "cell_type": "markdown",
   "metadata": {
    "id": "dc4Rlo_nsmnk"
   },
   "source": [
    "### List comprehension <a id=\"list_comprehension\"></a>\n",
    "One of the most useful and important ideas in Python is list comprehension. List comprehension allows you to modify a list element-by-element, without needing to use a `for`-loop. Here is an example where we add one to each number in a list. We first show how we would do it with a `for`-loop, and then next show the better way to do it (using list comprehension). We will write functions to create a new list `add_one_list` which is the original list, but with one added to each element."
   ]
  },
  {
   "cell_type": "code",
   "execution_count": 42,
   "metadata": {
    "id": "zmpA2mUtsmnk"
   },
   "outputs": [
    {
     "data": {
      "text/plain": [
       "[2, 6, 7, 3, 8, 6, 9, 3]"
      ]
     },
     "execution_count": 42,
     "metadata": {},
     "output_type": "execute_result"
    }
   ],
   "source": [
    "my_list = [1, 5, 6, 2, 7, 5, 8, 2]\n",
    "add_one_list = []\n",
    "# This setup is slow and ugly\n",
    "for i in range(len(my_list)):\n",
    "    add_one_list.append(my_list[i] + 1)\n",
    "\n",
    "add_one_list"
   ]
  },
  {
   "cell_type": "markdown",
   "metadata": {
    "id": "XJ1bZbYysmnn"
   },
   "source": [
    "A better way is to use list comprehension. To do list comprehension, you simply write `[what_I_want_to_do for x in my_list]`. For example:"
   ]
  },
  {
   "cell_type": "code",
   "execution_count": 43,
   "metadata": {
    "id": "n4CyQNM4smnn"
   },
   "outputs": [
    {
     "data": {
      "text/plain": [
       "[2, 6, 7, 3, 8, 6, 9, 3]"
      ]
     },
     "execution_count": 43,
     "metadata": {},
     "output_type": "execute_result"
    }
   ],
   "source": [
    "my_list = [1, 5, 6, 2, 7, 5, 8, 2]\n",
    "\n",
    "add_one_list = [x + 1 for x in my_list]\n",
    "\n",
    "add_one_list"
   ]
  },
  {
   "cell_type": "markdown",
   "metadata": {
    "id": "YFUNGG7tsmnp"
   },
   "source": [
    "It's worth noting that Python has \"comprehension\" for things beyond lists. You can also do it for dictionaries and sets."
   ]
  },
  {
   "cell_type": "code",
   "execution_count": 44,
   "metadata": {
    "id": "aMdE9t6Jsmnq"
   },
   "outputs": [
    {
     "data": {
      "text/plain": [
       "{'str': ['a', 'b', 'c'], 'int': [1, 2, 3]}"
      ]
     },
     "execution_count": 44,
     "metadata": {},
     "output_type": "execute_result"
    }
   ],
   "source": [
    "my_list = ['a', 'b', 'c', 1, 2, 3]\n",
    "\n",
    "int_str_dict = {'str': [x for x in my_list if type(x) == str], \n",
    "                'int': [x for x in my_list if type(x) == int]}\n",
    "\n",
    "int_str_dict"
   ]
  },
  {
   "cell_type": "markdown",
   "metadata": {
    "id": "bLvS-S0fsmns"
   },
   "source": [
    "You should try to use list (or other types of) comprehension as much as possible. They are much faster than loops, and are generally easier to read. This will help greatly when you work with datasets with hundreds of thousands of rows of data."
   ]
  },
  {
   "cell_type": "markdown",
   "metadata": {
    "id": "Ciw-k_mdsmns"
   },
   "source": [
    "## Using packages <a id=\"using_packages\"></a>\n",
    "\n",
    "While Python comes with many functions built in, it doesn't have *everything* could ever want. For example, let's say we wanted to compute sine of an angle. We might try something like `sine(1)`, or `sin(1)` (I'm using radians here). Let's see what happens.\n",
    "\n",
    "```{warning}\n",
    "Here comes an error!\n",
    "```"
   ]
  },
  {
   "cell_type": "code",
   "execution_count": 45,
   "metadata": {
    "id": "kqmCFi4Psmnt"
   },
   "outputs": [
    {
     "ename": "NameError",
     "evalue": "name 'sine' is not defined",
     "output_type": "error",
     "traceback": [
      "\u001b[0;31m---------------------------------------------------------------------------\u001b[0m",
      "\u001b[0;31mNameError\u001b[0m                                 Traceback (most recent call last)",
      "\u001b[0;32m<ipython-input-45-1d306da0da99>\u001b[0m in \u001b[0;36m<module>\u001b[0;34m\u001b[0m\n\u001b[0;32m----> 1\u001b[0;31m \u001b[0msine\u001b[0m\u001b[0;34m(\u001b[0m\u001b[0;36m1\u001b[0m\u001b[0;34m)\u001b[0m\u001b[0;34m\u001b[0m\u001b[0;34m\u001b[0m\u001b[0m\n\u001b[0m",
      "\u001b[0;31mNameError\u001b[0m: name 'sine' is not defined"
     ]
    }
   ],
   "source": [
    "sine(1)"
   ]
  },
  {
   "cell_type": "code",
   "execution_count": 46,
   "metadata": {
    "id": "7Bez8wqQsmnu"
   },
   "outputs": [
    {
     "ename": "NameError",
     "evalue": "name 'sin' is not defined",
     "output_type": "error",
     "traceback": [
      "\u001b[0;31m---------------------------------------------------------------------------\u001b[0m",
      "\u001b[0;31mNameError\u001b[0m                                 Traceback (most recent call last)",
      "\u001b[0;32m<ipython-input-46-025f39ddbe02>\u001b[0m in \u001b[0;36m<module>\u001b[0;34m\u001b[0m\n\u001b[0;32m----> 1\u001b[0;31m \u001b[0msin\u001b[0m\u001b[0;34m(\u001b[0m\u001b[0;36m1\u001b[0m\u001b[0;34m)\u001b[0m\u001b[0;34m\u001b[0m\u001b[0;34m\u001b[0m\u001b[0m\n\u001b[0m",
      "\u001b[0;31mNameError\u001b[0m: name 'sin' is not defined"
     ]
    }
   ],
   "source": [
    "sin(1)"
   ]
  },
  {
   "cell_type": "markdown",
   "metadata": {
    "id": "KuaqkBDTsmnx"
   },
   "source": [
    "Python doesn't have a \"sine\" function. We could perhaps write one ourselves. For example, sine has a series definition given by\n",
    "$$\n",
    "\\sin(x) = \\displaystyle\\sum_{n=0}^{\\infty} \\frac{(-1)^n}{(2n+1)!}x^{2n+1}\n",
    "$$\n",
    "However this is a lot of work, and would also require writing a factorial function, and probably eventually a $\\pi$ function as well. Luckily for us, other people have already done the hard work! They have done so by writing **packages**. A Python package is simply a collection of code that you can use. Rather than having to copy-paste code you **import** from these packages. For example, there is a `math` package we can use. We will import it as such:"
   ]
  },
  {
   "cell_type": "code",
   "execution_count": 48,
   "metadata": {
    "id": "WmSv_oKIsmnx"
   },
   "outputs": [],
   "source": [
    "import math"
   ]
  },
  {
   "cell_type": "markdown",
   "metadata": {
    "id": "S79vH-mysmnz"
   },
   "source": [
    "As you can see, nothing happened. However, we can access functions inside of this package by using **dot notation**. For example, to use the sine function we would type:"
   ]
  },
  {
   "cell_type": "code",
   "execution_count": 49,
   "metadata": {
    "id": "y0G3fvuksmn0"
   },
   "outputs": [
    {
     "data": {
      "text/plain": [
       "0.8414709848078965"
      ]
     },
     "execution_count": 49,
     "metadata": {},
     "output_type": "execute_result"
    }
   ],
   "source": [
    "math.sin(1)"
   ]
  },
  {
   "cell_type": "markdown",
   "metadata": {
    "id": "xSa3cxShsmn1"
   },
   "source": [
    "To access $\\pi$ we could do:"
   ]
  },
  {
   "cell_type": "code",
   "execution_count": 50,
   "metadata": {
    "id": "lWnjVMLNsmn1"
   },
   "outputs": [
    {
     "data": {
      "text/plain": [
       "3.141592653589793"
      ]
     },
     "execution_count": 50,
     "metadata": {},
     "output_type": "execute_result"
    }
   ],
   "source": [
    "math.pi"
   ]
  },
  {
   "cell_type": "markdown",
   "metadata": {
    "id": "Z7Tc15BGsmn3"
   },
   "source": [
    "And to use a factorial we could write:"
   ]
  },
  {
   "cell_type": "code",
   "execution_count": 51,
   "metadata": {
    "id": "hxAZvnP3smn3"
   },
   "outputs": [
    {
     "data": {
      "text/plain": [
       "5040"
      ]
     },
     "execution_count": 51,
     "metadata": {},
     "output_type": "execute_result"
    }
   ],
   "source": [
    "math.factorial(7)"
   ]
  },
  {
   "cell_type": "markdown",
   "metadata": {
    "id": "9NnCqnxWsmn5"
   },
   "source": [
    "Packages are extremely powerful. When you are considering writing some complex code, you should first search to see if someone has already written a package which does it for you.\n",
    "\n",
    "When importing from packages, you don't necessary need to import the entire package, which is what we did when we typed `import math`. Some packages are very large, and importing them makes your program slower. Say, for instance, that we only wanted to use the sine function. We could type the following to only import that one function:"
   ]
  },
  {
   "cell_type": "code",
   "execution_count": 52,
   "metadata": {
    "id": "Xxrm59Vwsmn7"
   },
   "outputs": [],
   "source": [
    "from math import sin"
   ]
  },
  {
   "cell_type": "code",
   "execution_count": 53,
   "metadata": {
    "id": "wGDxio-gsmn9"
   },
   "outputs": [
    {
     "data": {
      "text/plain": [
       "0.9092974268256817"
      ]
     },
     "execution_count": 53,
     "metadata": {},
     "output_type": "execute_result"
    }
   ],
   "source": [
    "sin(2)"
   ]
  },
  {
   "cell_type": "markdown",
   "metadata": {
    "id": "ZEa8eN-jsmn-"
   },
   "source": [
    "If you only plan to use one or two functions from a package, it is good practice to only import those functions. That keeps the code clean and fast."
   ]
  },
  {
   "cell_type": "markdown",
   "metadata": {
    "id": "W9Htxv7Vsmn_"
   },
   "source": [
    "## Python: Homework\n",
    "For each of the following questions, write a function which does what is asked.\n",
    "\n",
    "1. Print out the first 20 even numbers\n",
    "2. Test whether or not a number is prime\n",
    "3. Given a list of integers, return a list containing only the odd numbers\n",
    "4. Given a list of integers and a target number, return True if two numbers in that list add up to the target number, or False if nothing does. For instance, `list_of_integers = [1, 4, -4, 2, 8]` and `target=6` we would return `True`, because `4+2=6` and both 4 and 2 are in `list_of_integers`. But we would return `False` if `target=7`, because no two numbers in the list add up to 7.\n",
    "5. Given a string `s` with the first letter capitalized (such as \"Math\"), return the reversed string (backwards), but fix the capitalization (so it should return \"Hatm\").\n",
    "6. Use list comprehension (described above) to square every element in a list.\n",
    "7. Use list comprehension to replace each element in the list of positive integers with the word \"even\" if it is even or \"odd\" if it is odd. So if the input is `[1, 5, 3, 6]`, it should return `['odd', 'odd', 'odd', 'even']`.\n",
    "8. Given a list of positive integers, return a dictionary showing the even and odd numbers. For example, if the input is `[1, 5, 3, 6]`, then the return should be `{'odd': [1, 5, 3], 'even': [6]}`."
   ]
  },
  {
   "cell_type": "markdown",
   "metadata": {
    "id": "53R35SjUsmn_"
   },
   "source": [
    "# Pandas <a id=\"pandas\"></a>"
   ]
  },
  {
   "cell_type": "markdown",
   "metadata": {
    "id": "x-RiNbS6smn_"
   },
   "source": [
    "## Imports\n",
    "Pandas is the library which all data scientists use to manipulate data. We need to tell Python to *use* Pandas. The way to do that is to import it by typing `import pandas`. Then when we want to use it, we type `pandas.thing_I_want_pandas_to_do`, just like we did with the `math` package above. However, typing `pandas` over and over is a bit cumbersome. So it's common to **alias** pandas by giving it a shorter name. The common name is `pd`. So we'll `import pandas as pd`, which means that we can now work with Pandas by typing `pd.thing_I_want_pandas_to_do`, which saves us a bit of typing."
   ]
  },
  {
   "cell_type": "code",
   "execution_count": 54,
   "metadata": {
    "id": "70eewqVZsmoA"
   },
   "outputs": [],
   "source": [
    "import pandas as pd"
   ]
  },
  {
   "cell_type": "markdown",
   "metadata": {
    "id": "vZDdlGR1smoB"
   },
   "source": [
    "## Loading the data <a id=\"loading_data\"></a>\n",
    "I have my folders setup so that I have a `data` folder where I keep all my data. So, when I load my data in the next step, I need to tell Pandas to look in the `data` folder. If you *don't* have a data folder and the data is just sitting in the same folder as your current notebook, then you don't need that `data/` part. Dealing with directories can be a bit of a headache, so it's good practice to always create a `data` folder, and put your data in there.\n",
    "\n",
    "This data is taken from the [Titanic Kaggle competition](https://www.kaggle.com/c/titanic/data), and describes the survival (or not) of passengers aboard the Titanic. Here's a brief description of the data:\n",
    "\n",
    "|Variable|Definition|Key|\n",
    "|---|:---:|:---:|\n",
    "|survival|Survival|0 = No, 1 = Yes|\n",
    "|pclass|Ticket class|1 = 1st, 2 = 2nd, 3 = 3rd|\n",
    "|sex|Sex||\n",
    "|Age|Age in years||\n",
    "|sibsp|# of siblings / spouses aboard the Titanic||\n",
    "|parch|# of parents / children aboard the Titanic||\n",
    "|ticket|Ticket number||\n",
    "|fare|Passenger fare||\n",
    "|cabin|Cabin number||\n",
    "|embarked|Port of Embarkation|C = Cherbourg, Q = Queenstown, S = Southampton|\n",
    "\n",
    "Pandas stores data as things called **DataFrames**, so it's typical to call the variable you load the data into `df`. If you have a bunch of different datasets you're loading, you can tweak the name to help you remember what the data is. So this could be called `titanic_df`, or `train_df`. For now, we'll just use `df`."
   ]
  },
  {
   "cell_type": "code",
   "execution_count": 55,
   "metadata": {
    "id": "gbOQfk7VsmoB"
   },
   "outputs": [],
   "source": [
    "df = pd.read_csv('data/titanic.csv')"
   ]
  },
  {
   "cell_type": "markdown",
   "metadata": {
    "id": "FBDmUdCEsmoD"
   },
   "source": [
    "Let's break this command down:\n",
    "- `pd` says that we are using a function from Pandas, which we aliased as pd\n",
    "- `read_csv` is the function we are using from Pandas. It reads in a CSV (command-separated value) file. If you've never heard of a CSV file, it's basically just an Excel file.\n",
    "- `drive_dir` is the Google drive folder. It's created in the very first cell of this notebook (look at the very top).\n",
    "- `data/` is the folder where my data is stored in Google drive\n",
    "- `titanic.csv` is the name of my file that I want to load."
   ]
  },
  {
   "cell_type": "markdown",
   "metadata": {
    "id": "cHk5-2SGsmoD"
   },
   "source": [
    "## Looking at the data <a id=\"looking_at_data\"></a>\n",
    "In order to look at the data, you either just type `df` to have it print out the entire DataFrame, or you can use the `.head()` command. It's generally preferable to use `.head()`, since that just shows the first 5 rows (by default). If you *do* want to see more rows, you can pass a number into that function, telling it how many rows you want to see. I did that below to see 10 rows."
   ]
  },
  {
   "cell_type": "code",
   "execution_count": 56,
   "metadata": {
    "id": "Y1zqn76bsmoD"
   },
   "outputs": [
    {
     "data": {
      "text/html": [
       "<div>\n",
       "<style scoped>\n",
       "    .dataframe tbody tr th:only-of-type {\n",
       "        vertical-align: middle;\n",
       "    }\n",
       "\n",
       "    .dataframe tbody tr th {\n",
       "        vertical-align: top;\n",
       "    }\n",
       "\n",
       "    .dataframe thead th {\n",
       "        text-align: right;\n",
       "    }\n",
       "</style>\n",
       "<table border=\"1\" class=\"dataframe\">\n",
       "  <thead>\n",
       "    <tr style=\"text-align: right;\">\n",
       "      <th></th>\n",
       "      <th>PassengerId</th>\n",
       "      <th>Survived</th>\n",
       "      <th>Pclass</th>\n",
       "      <th>Name</th>\n",
       "      <th>Sex</th>\n",
       "      <th>Age</th>\n",
       "      <th>SibSp</th>\n",
       "      <th>Parch</th>\n",
       "      <th>Ticket</th>\n",
       "      <th>Fare</th>\n",
       "      <th>Cabin</th>\n",
       "      <th>Embarked</th>\n",
       "    </tr>\n",
       "  </thead>\n",
       "  <tbody>\n",
       "    <tr>\n",
       "      <th>0</th>\n",
       "      <td>1</td>\n",
       "      <td>0</td>\n",
       "      <td>3</td>\n",
       "      <td>Braund, Mr. Owen Harris</td>\n",
       "      <td>male</td>\n",
       "      <td>22.0</td>\n",
       "      <td>1</td>\n",
       "      <td>0</td>\n",
       "      <td>A/5 21171</td>\n",
       "      <td>7.2500</td>\n",
       "      <td>NaN</td>\n",
       "      <td>S</td>\n",
       "    </tr>\n",
       "    <tr>\n",
       "      <th>1</th>\n",
       "      <td>2</td>\n",
       "      <td>1</td>\n",
       "      <td>1</td>\n",
       "      <td>Cumings, Mrs. John Bradley (Florence Briggs Th...</td>\n",
       "      <td>female</td>\n",
       "      <td>38.0</td>\n",
       "      <td>1</td>\n",
       "      <td>0</td>\n",
       "      <td>PC 17599</td>\n",
       "      <td>71.2833</td>\n",
       "      <td>C85</td>\n",
       "      <td>C</td>\n",
       "    </tr>\n",
       "    <tr>\n",
       "      <th>2</th>\n",
       "      <td>3</td>\n",
       "      <td>1</td>\n",
       "      <td>3</td>\n",
       "      <td>Heikkinen, Miss. Laina</td>\n",
       "      <td>female</td>\n",
       "      <td>26.0</td>\n",
       "      <td>0</td>\n",
       "      <td>0</td>\n",
       "      <td>STON/O2. 3101282</td>\n",
       "      <td>7.9250</td>\n",
       "      <td>NaN</td>\n",
       "      <td>S</td>\n",
       "    </tr>\n",
       "    <tr>\n",
       "      <th>3</th>\n",
       "      <td>4</td>\n",
       "      <td>1</td>\n",
       "      <td>1</td>\n",
       "      <td>Futrelle, Mrs. Jacques Heath (Lily May Peel)</td>\n",
       "      <td>female</td>\n",
       "      <td>35.0</td>\n",
       "      <td>1</td>\n",
       "      <td>0</td>\n",
       "      <td>113803</td>\n",
       "      <td>53.1000</td>\n",
       "      <td>C123</td>\n",
       "      <td>S</td>\n",
       "    </tr>\n",
       "    <tr>\n",
       "      <th>4</th>\n",
       "      <td>5</td>\n",
       "      <td>0</td>\n",
       "      <td>3</td>\n",
       "      <td>Allen, Mr. William Henry</td>\n",
       "      <td>male</td>\n",
       "      <td>35.0</td>\n",
       "      <td>0</td>\n",
       "      <td>0</td>\n",
       "      <td>373450</td>\n",
       "      <td>8.0500</td>\n",
       "      <td>NaN</td>\n",
       "      <td>S</td>\n",
       "    </tr>\n",
       "  </tbody>\n",
       "</table>\n",
       "</div>"
      ],
      "text/plain": [
       "   PassengerId  Survived  Pclass  \\\n",
       "0            1         0       3   \n",
       "1            2         1       1   \n",
       "2            3         1       3   \n",
       "3            4         1       1   \n",
       "4            5         0       3   \n",
       "\n",
       "                                                Name     Sex   Age  SibSp  \\\n",
       "0                            Braund, Mr. Owen Harris    male  22.0      1   \n",
       "1  Cumings, Mrs. John Bradley (Florence Briggs Th...  female  38.0      1   \n",
       "2                             Heikkinen, Miss. Laina  female  26.0      0   \n",
       "3       Futrelle, Mrs. Jacques Heath (Lily May Peel)  female  35.0      1   \n",
       "4                           Allen, Mr. William Henry    male  35.0      0   \n",
       "\n",
       "   Parch            Ticket     Fare Cabin Embarked  \n",
       "0      0         A/5 21171   7.2500   NaN        S  \n",
       "1      0          PC 17599  71.2833   C85        C  \n",
       "2      0  STON/O2. 3101282   7.9250   NaN        S  \n",
       "3      0            113803  53.1000  C123        S  \n",
       "4      0            373450   8.0500   NaN        S  "
      ]
     },
     "execution_count": 56,
     "metadata": {},
     "output_type": "execute_result"
    }
   ],
   "source": [
    "df.head()"
   ]
  },
  {
   "cell_type": "code",
   "execution_count": 57,
   "metadata": {
    "id": "ZbIs-8ezsmoF"
   },
   "outputs": [
    {
     "data": {
      "text/html": [
       "<div>\n",
       "<style scoped>\n",
       "    .dataframe tbody tr th:only-of-type {\n",
       "        vertical-align: middle;\n",
       "    }\n",
       "\n",
       "    .dataframe tbody tr th {\n",
       "        vertical-align: top;\n",
       "    }\n",
       "\n",
       "    .dataframe thead th {\n",
       "        text-align: right;\n",
       "    }\n",
       "</style>\n",
       "<table border=\"1\" class=\"dataframe\">\n",
       "  <thead>\n",
       "    <tr style=\"text-align: right;\">\n",
       "      <th></th>\n",
       "      <th>PassengerId</th>\n",
       "      <th>Survived</th>\n",
       "      <th>Pclass</th>\n",
       "      <th>Name</th>\n",
       "      <th>Sex</th>\n",
       "      <th>Age</th>\n",
       "      <th>SibSp</th>\n",
       "      <th>Parch</th>\n",
       "      <th>Ticket</th>\n",
       "      <th>Fare</th>\n",
       "      <th>Cabin</th>\n",
       "      <th>Embarked</th>\n",
       "    </tr>\n",
       "  </thead>\n",
       "  <tbody>\n",
       "    <tr>\n",
       "      <th>0</th>\n",
       "      <td>1</td>\n",
       "      <td>0</td>\n",
       "      <td>3</td>\n",
       "      <td>Braund, Mr. Owen Harris</td>\n",
       "      <td>male</td>\n",
       "      <td>22.0</td>\n",
       "      <td>1</td>\n",
       "      <td>0</td>\n",
       "      <td>A/5 21171</td>\n",
       "      <td>7.2500</td>\n",
       "      <td>NaN</td>\n",
       "      <td>S</td>\n",
       "    </tr>\n",
       "    <tr>\n",
       "      <th>1</th>\n",
       "      <td>2</td>\n",
       "      <td>1</td>\n",
       "      <td>1</td>\n",
       "      <td>Cumings, Mrs. John Bradley (Florence Briggs Th...</td>\n",
       "      <td>female</td>\n",
       "      <td>38.0</td>\n",
       "      <td>1</td>\n",
       "      <td>0</td>\n",
       "      <td>PC 17599</td>\n",
       "      <td>71.2833</td>\n",
       "      <td>C85</td>\n",
       "      <td>C</td>\n",
       "    </tr>\n",
       "    <tr>\n",
       "      <th>2</th>\n",
       "      <td>3</td>\n",
       "      <td>1</td>\n",
       "      <td>3</td>\n",
       "      <td>Heikkinen, Miss. Laina</td>\n",
       "      <td>female</td>\n",
       "      <td>26.0</td>\n",
       "      <td>0</td>\n",
       "      <td>0</td>\n",
       "      <td>STON/O2. 3101282</td>\n",
       "      <td>7.9250</td>\n",
       "      <td>NaN</td>\n",
       "      <td>S</td>\n",
       "    </tr>\n",
       "    <tr>\n",
       "      <th>3</th>\n",
       "      <td>4</td>\n",
       "      <td>1</td>\n",
       "      <td>1</td>\n",
       "      <td>Futrelle, Mrs. Jacques Heath (Lily May Peel)</td>\n",
       "      <td>female</td>\n",
       "      <td>35.0</td>\n",
       "      <td>1</td>\n",
       "      <td>0</td>\n",
       "      <td>113803</td>\n",
       "      <td>53.1000</td>\n",
       "      <td>C123</td>\n",
       "      <td>S</td>\n",
       "    </tr>\n",
       "    <tr>\n",
       "      <th>4</th>\n",
       "      <td>5</td>\n",
       "      <td>0</td>\n",
       "      <td>3</td>\n",
       "      <td>Allen, Mr. William Henry</td>\n",
       "      <td>male</td>\n",
       "      <td>35.0</td>\n",
       "      <td>0</td>\n",
       "      <td>0</td>\n",
       "      <td>373450</td>\n",
       "      <td>8.0500</td>\n",
       "      <td>NaN</td>\n",
       "      <td>S</td>\n",
       "    </tr>\n",
       "    <tr>\n",
       "      <th>5</th>\n",
       "      <td>6</td>\n",
       "      <td>0</td>\n",
       "      <td>3</td>\n",
       "      <td>Moran, Mr. James</td>\n",
       "      <td>male</td>\n",
       "      <td>NaN</td>\n",
       "      <td>0</td>\n",
       "      <td>0</td>\n",
       "      <td>330877</td>\n",
       "      <td>8.4583</td>\n",
       "      <td>NaN</td>\n",
       "      <td>Q</td>\n",
       "    </tr>\n",
       "    <tr>\n",
       "      <th>6</th>\n",
       "      <td>7</td>\n",
       "      <td>0</td>\n",
       "      <td>1</td>\n",
       "      <td>McCarthy, Mr. Timothy J</td>\n",
       "      <td>male</td>\n",
       "      <td>54.0</td>\n",
       "      <td>0</td>\n",
       "      <td>0</td>\n",
       "      <td>17463</td>\n",
       "      <td>51.8625</td>\n",
       "      <td>E46</td>\n",
       "      <td>S</td>\n",
       "    </tr>\n",
       "    <tr>\n",
       "      <th>7</th>\n",
       "      <td>8</td>\n",
       "      <td>0</td>\n",
       "      <td>3</td>\n",
       "      <td>Palsson, Master. Gosta Leonard</td>\n",
       "      <td>male</td>\n",
       "      <td>2.0</td>\n",
       "      <td>3</td>\n",
       "      <td>1</td>\n",
       "      <td>349909</td>\n",
       "      <td>21.0750</td>\n",
       "      <td>NaN</td>\n",
       "      <td>S</td>\n",
       "    </tr>\n",
       "    <tr>\n",
       "      <th>8</th>\n",
       "      <td>9</td>\n",
       "      <td>1</td>\n",
       "      <td>3</td>\n",
       "      <td>Johnson, Mrs. Oscar W (Elisabeth Vilhelmina Berg)</td>\n",
       "      <td>female</td>\n",
       "      <td>27.0</td>\n",
       "      <td>0</td>\n",
       "      <td>2</td>\n",
       "      <td>347742</td>\n",
       "      <td>11.1333</td>\n",
       "      <td>NaN</td>\n",
       "      <td>S</td>\n",
       "    </tr>\n",
       "    <tr>\n",
       "      <th>9</th>\n",
       "      <td>10</td>\n",
       "      <td>1</td>\n",
       "      <td>2</td>\n",
       "      <td>Nasser, Mrs. Nicholas (Adele Achem)</td>\n",
       "      <td>female</td>\n",
       "      <td>14.0</td>\n",
       "      <td>1</td>\n",
       "      <td>0</td>\n",
       "      <td>237736</td>\n",
       "      <td>30.0708</td>\n",
       "      <td>NaN</td>\n",
       "      <td>C</td>\n",
       "    </tr>\n",
       "  </tbody>\n",
       "</table>\n",
       "</div>"
      ],
      "text/plain": [
       "   PassengerId  Survived  Pclass  \\\n",
       "0            1         0       3   \n",
       "1            2         1       1   \n",
       "2            3         1       3   \n",
       "3            4         1       1   \n",
       "4            5         0       3   \n",
       "5            6         0       3   \n",
       "6            7         0       1   \n",
       "7            8         0       3   \n",
       "8            9         1       3   \n",
       "9           10         1       2   \n",
       "\n",
       "                                                Name     Sex   Age  SibSp  \\\n",
       "0                            Braund, Mr. Owen Harris    male  22.0      1   \n",
       "1  Cumings, Mrs. John Bradley (Florence Briggs Th...  female  38.0      1   \n",
       "2                             Heikkinen, Miss. Laina  female  26.0      0   \n",
       "3       Futrelle, Mrs. Jacques Heath (Lily May Peel)  female  35.0      1   \n",
       "4                           Allen, Mr. William Henry    male  35.0      0   \n",
       "5                                   Moran, Mr. James    male   NaN      0   \n",
       "6                            McCarthy, Mr. Timothy J    male  54.0      0   \n",
       "7                     Palsson, Master. Gosta Leonard    male   2.0      3   \n",
       "8  Johnson, Mrs. Oscar W (Elisabeth Vilhelmina Berg)  female  27.0      0   \n",
       "9                Nasser, Mrs. Nicholas (Adele Achem)  female  14.0      1   \n",
       "\n",
       "   Parch            Ticket     Fare Cabin Embarked  \n",
       "0      0         A/5 21171   7.2500   NaN        S  \n",
       "1      0          PC 17599  71.2833   C85        C  \n",
       "2      0  STON/O2. 3101282   7.9250   NaN        S  \n",
       "3      0            113803  53.1000  C123        S  \n",
       "4      0            373450   8.0500   NaN        S  \n",
       "5      0            330877   8.4583   NaN        Q  \n",
       "6      0             17463  51.8625   E46        S  \n",
       "7      1            349909  21.0750   NaN        S  \n",
       "8      2            347742  11.1333   NaN        S  \n",
       "9      0            237736  30.0708   NaN        C  "
      ]
     },
     "execution_count": 57,
     "metadata": {},
     "output_type": "execute_result"
    }
   ],
   "source": [
    "df.head(10)"
   ]
  },
  {
   "cell_type": "markdown",
   "metadata": {
    "id": "oYt5U-s8smoH"
   },
   "source": [
    "Note that Pandas always includes an `index` row on the left, which uniquely numbers each row. We'll use these later.\n",
    "\n",
    "What about if you want to access a single column? The way to do this is to pass the column name as a string (meaning in quotes) to the DataFrame."
   ]
  },
  {
   "cell_type": "code",
   "execution_count": 58,
   "metadata": {
    "id": "387e54BnsmoH"
   },
   "outputs": [
    {
     "data": {
      "text/plain": [
       "0    22.0\n",
       "1    38.0\n",
       "2    26.0\n",
       "3    35.0\n",
       "4    35.0\n",
       "Name: Age, dtype: float64"
      ]
     },
     "execution_count": 58,
     "metadata": {},
     "output_type": "execute_result"
    }
   ],
   "source": [
    "df['Age'].head()"
   ]
  },
  {
   "cell_type": "markdown",
   "metadata": {
    "id": "9mLiiQ2osmoI"
   },
   "source": [
    "See how printing a single column looks different from printing multiple columns? That's because Pandas calls something with *a single column* a `Series`, and something with multiple columns a `DataFrame`. In reality, they're not that different. But it's helpful to know the terms in case you see people mentioning `Series` when you're Googling."
   ]
  },
  {
   "cell_type": "markdown",
   "metadata": {
    "id": "LRUuYoXSsmoI"
   },
   "source": [
    "If you want to access *multiple* columns, we need to pass those columns as a `list`. We'll pass to the DataFrame a `list` of the columns we're looking for. Remember that to access a column in Pandas we write `df[column_I_want]`. Since our columns are a list, they'll have brackets around them. This means we end up with double-brackets, like `df[[column1, column2, column3]]`.\n",
    "\n",
    "Again, we *could* print everything we get back by typing `df[['Survived', 'Age']]`, but we probably just want a quick peek at the data, not to see the *entire* list of values. So I'll just look at the `.head()` of the data."
   ]
  },
  {
   "cell_type": "code",
   "execution_count": 59,
   "metadata": {
    "id": "-YH9t1g6smoJ"
   },
   "outputs": [
    {
     "data": {
      "text/html": [
       "<div>\n",
       "<style scoped>\n",
       "    .dataframe tbody tr th:only-of-type {\n",
       "        vertical-align: middle;\n",
       "    }\n",
       "\n",
       "    .dataframe tbody tr th {\n",
       "        vertical-align: top;\n",
       "    }\n",
       "\n",
       "    .dataframe thead th {\n",
       "        text-align: right;\n",
       "    }\n",
       "</style>\n",
       "<table border=\"1\" class=\"dataframe\">\n",
       "  <thead>\n",
       "    <tr style=\"text-align: right;\">\n",
       "      <th></th>\n",
       "      <th>Survived</th>\n",
       "      <th>Age</th>\n",
       "    </tr>\n",
       "  </thead>\n",
       "  <tbody>\n",
       "    <tr>\n",
       "      <th>0</th>\n",
       "      <td>0</td>\n",
       "      <td>22.0</td>\n",
       "    </tr>\n",
       "    <tr>\n",
       "      <th>1</th>\n",
       "      <td>1</td>\n",
       "      <td>38.0</td>\n",
       "    </tr>\n",
       "    <tr>\n",
       "      <th>2</th>\n",
       "      <td>1</td>\n",
       "      <td>26.0</td>\n",
       "    </tr>\n",
       "    <tr>\n",
       "      <th>3</th>\n",
       "      <td>1</td>\n",
       "      <td>35.0</td>\n",
       "    </tr>\n",
       "    <tr>\n",
       "      <th>4</th>\n",
       "      <td>0</td>\n",
       "      <td>35.0</td>\n",
       "    </tr>\n",
       "  </tbody>\n",
       "</table>\n",
       "</div>"
      ],
      "text/plain": [
       "   Survived   Age\n",
       "0         0  22.0\n",
       "1         1  38.0\n",
       "2         1  26.0\n",
       "3         1  35.0\n",
       "4         0  35.0"
      ]
     },
     "execution_count": 59,
     "metadata": {},
     "output_type": "execute_result"
    }
   ],
   "source": [
    "df[['Survived', 'Age']].head()"
   ]
  },
  {
   "cell_type": "markdown",
   "metadata": {
    "id": "ycUmF_CesmoL"
   },
   "source": [
    "So far we've just accessed *columns*, so what about *rows*? Rows are accessed slightly differently. You use the `.iloc` command. Here \"loc\" refers to \"location\", and \"i\" refers to integer. So we'll access the row location by giving it an integer. As in everything in Python, we start at zero. So the first row we would access as `df.iloc[0]`, and the tenth row would be `df.iloc[9]`. Note that Pandas makes this easier for you by printing the index of each row as the first column (as discussed above). Let's try it below."
   ]
  },
  {
   "cell_type": "code",
   "execution_count": 60,
   "metadata": {
    "id": "i4CMK6onsmoL"
   },
   "outputs": [
    {
     "data": {
      "text/plain": [
       "PassengerId                          1\n",
       "Survived                             0\n",
       "Pclass                               3\n",
       "Name           Braund, Mr. Owen Harris\n",
       "Sex                               male\n",
       "Age                                 22\n",
       "SibSp                                1\n",
       "Parch                                0\n",
       "Ticket                       A/5 21171\n",
       "Fare                              7.25\n",
       "Cabin                              NaN\n",
       "Embarked                             S\n",
       "Name: 0, dtype: object"
      ]
     },
     "execution_count": 60,
     "metadata": {},
     "output_type": "execute_result"
    }
   ],
   "source": [
    "df.iloc[0]"
   ]
  },
  {
   "cell_type": "markdown",
   "metadata": {
    "id": "YCVhPGa-smoN"
   },
   "source": [
    "Sure enough, if we look at when we first loaded the data, this Mr. Owen Harris Braund is indeed the first person listed, and has an `index` of zero.\n",
    "\n",
    "We previously saw how to access multiple *columns*, so how do we access multiple *rows*? You can do it similar to how we accessed multiple columns, by passing a list of the row integers we want."
   ]
  },
  {
   "cell_type": "code",
   "execution_count": 61,
   "metadata": {
    "id": "NIejoDnosmoN"
   },
   "outputs": [
    {
     "data": {
      "text/html": [
       "<div>\n",
       "<style scoped>\n",
       "    .dataframe tbody tr th:only-of-type {\n",
       "        vertical-align: middle;\n",
       "    }\n",
       "\n",
       "    .dataframe tbody tr th {\n",
       "        vertical-align: top;\n",
       "    }\n",
       "\n",
       "    .dataframe thead th {\n",
       "        text-align: right;\n",
       "    }\n",
       "</style>\n",
       "<table border=\"1\" class=\"dataframe\">\n",
       "  <thead>\n",
       "    <tr style=\"text-align: right;\">\n",
       "      <th></th>\n",
       "      <th>PassengerId</th>\n",
       "      <th>Survived</th>\n",
       "      <th>Pclass</th>\n",
       "      <th>Name</th>\n",
       "      <th>Sex</th>\n",
       "      <th>Age</th>\n",
       "      <th>SibSp</th>\n",
       "      <th>Parch</th>\n",
       "      <th>Ticket</th>\n",
       "      <th>Fare</th>\n",
       "      <th>Cabin</th>\n",
       "      <th>Embarked</th>\n",
       "    </tr>\n",
       "  </thead>\n",
       "  <tbody>\n",
       "    <tr>\n",
       "      <th>0</th>\n",
       "      <td>1</td>\n",
       "      <td>0</td>\n",
       "      <td>3</td>\n",
       "      <td>Braund, Mr. Owen Harris</td>\n",
       "      <td>male</td>\n",
       "      <td>22.0</td>\n",
       "      <td>1</td>\n",
       "      <td>0</td>\n",
       "      <td>A/5 21171</td>\n",
       "      <td>7.2500</td>\n",
       "      <td>NaN</td>\n",
       "      <td>S</td>\n",
       "    </tr>\n",
       "    <tr>\n",
       "      <th>1</th>\n",
       "      <td>2</td>\n",
       "      <td>1</td>\n",
       "      <td>1</td>\n",
       "      <td>Cumings, Mrs. John Bradley (Florence Briggs Th...</td>\n",
       "      <td>female</td>\n",
       "      <td>38.0</td>\n",
       "      <td>1</td>\n",
       "      <td>0</td>\n",
       "      <td>PC 17599</td>\n",
       "      <td>71.2833</td>\n",
       "      <td>C85</td>\n",
       "      <td>C</td>\n",
       "    </tr>\n",
       "    <tr>\n",
       "      <th>5</th>\n",
       "      <td>6</td>\n",
       "      <td>0</td>\n",
       "      <td>3</td>\n",
       "      <td>Moran, Mr. James</td>\n",
       "      <td>male</td>\n",
       "      <td>NaN</td>\n",
       "      <td>0</td>\n",
       "      <td>0</td>\n",
       "      <td>330877</td>\n",
       "      <td>8.4583</td>\n",
       "      <td>NaN</td>\n",
       "      <td>Q</td>\n",
       "    </tr>\n",
       "  </tbody>\n",
       "</table>\n",
       "</div>"
      ],
      "text/plain": [
       "   PassengerId  Survived  Pclass  \\\n",
       "0            1         0       3   \n",
       "1            2         1       1   \n",
       "5            6         0       3   \n",
       "\n",
       "                                                Name     Sex   Age  SibSp  \\\n",
       "0                            Braund, Mr. Owen Harris    male  22.0      1   \n",
       "1  Cumings, Mrs. John Bradley (Florence Briggs Th...  female  38.0      1   \n",
       "5                                   Moran, Mr. James    male   NaN      0   \n",
       "\n",
       "   Parch     Ticket     Fare Cabin Embarked  \n",
       "0      0  A/5 21171   7.2500   NaN        S  \n",
       "1      0   PC 17599  71.2833   C85        C  \n",
       "5      0     330877   8.4583   NaN        Q  "
      ]
     },
     "execution_count": 61,
     "metadata": {},
     "output_type": "execute_result"
    }
   ],
   "source": [
    "df.iloc[[0, 1, 5]]"
   ]
  },
  {
   "cell_type": "markdown",
   "metadata": {
    "id": "6Bd7cHqasmoO"
   },
   "source": [
    "However, suppose we want to access row 0 through 10000. Clearly we don't want to type `[0, 1, 2, ..., 10000]`. Instead, we can use **slicing**. Slicing is a shortcut way to say \"give me everything between these two numbers\". We \"slice\" by using a colon. "
   ]
  },
  {
   "cell_type": "code",
   "execution_count": 62,
   "metadata": {
    "id": "87vEt-nfsmoP"
   },
   "outputs": [
    {
     "data": {
      "text/html": [
       "<div>\n",
       "<style scoped>\n",
       "    .dataframe tbody tr th:only-of-type {\n",
       "        vertical-align: middle;\n",
       "    }\n",
       "\n",
       "    .dataframe tbody tr th {\n",
       "        vertical-align: top;\n",
       "    }\n",
       "\n",
       "    .dataframe thead th {\n",
       "        text-align: right;\n",
       "    }\n",
       "</style>\n",
       "<table border=\"1\" class=\"dataframe\">\n",
       "  <thead>\n",
       "    <tr style=\"text-align: right;\">\n",
       "      <th></th>\n",
       "      <th>PassengerId</th>\n",
       "      <th>Survived</th>\n",
       "      <th>Pclass</th>\n",
       "      <th>Name</th>\n",
       "      <th>Sex</th>\n",
       "      <th>Age</th>\n",
       "      <th>SibSp</th>\n",
       "      <th>Parch</th>\n",
       "      <th>Ticket</th>\n",
       "      <th>Fare</th>\n",
       "      <th>Cabin</th>\n",
       "      <th>Embarked</th>\n",
       "    </tr>\n",
       "  </thead>\n",
       "  <tbody>\n",
       "    <tr>\n",
       "      <th>0</th>\n",
       "      <td>1</td>\n",
       "      <td>0</td>\n",
       "      <td>3</td>\n",
       "      <td>Braund, Mr. Owen Harris</td>\n",
       "      <td>male</td>\n",
       "      <td>22.0</td>\n",
       "      <td>1</td>\n",
       "      <td>0</td>\n",
       "      <td>A/5 21171</td>\n",
       "      <td>7.2500</td>\n",
       "      <td>NaN</td>\n",
       "      <td>S</td>\n",
       "    </tr>\n",
       "    <tr>\n",
       "      <th>1</th>\n",
       "      <td>2</td>\n",
       "      <td>1</td>\n",
       "      <td>1</td>\n",
       "      <td>Cumings, Mrs. John Bradley (Florence Briggs Th...</td>\n",
       "      <td>female</td>\n",
       "      <td>38.0</td>\n",
       "      <td>1</td>\n",
       "      <td>0</td>\n",
       "      <td>PC 17599</td>\n",
       "      <td>71.2833</td>\n",
       "      <td>C85</td>\n",
       "      <td>C</td>\n",
       "    </tr>\n",
       "    <tr>\n",
       "      <th>2</th>\n",
       "      <td>3</td>\n",
       "      <td>1</td>\n",
       "      <td>3</td>\n",
       "      <td>Heikkinen, Miss. Laina</td>\n",
       "      <td>female</td>\n",
       "      <td>26.0</td>\n",
       "      <td>0</td>\n",
       "      <td>0</td>\n",
       "      <td>STON/O2. 3101282</td>\n",
       "      <td>7.9250</td>\n",
       "      <td>NaN</td>\n",
       "      <td>S</td>\n",
       "    </tr>\n",
       "    <tr>\n",
       "      <th>3</th>\n",
       "      <td>4</td>\n",
       "      <td>1</td>\n",
       "      <td>1</td>\n",
       "      <td>Futrelle, Mrs. Jacques Heath (Lily May Peel)</td>\n",
       "      <td>female</td>\n",
       "      <td>35.0</td>\n",
       "      <td>1</td>\n",
       "      <td>0</td>\n",
       "      <td>113803</td>\n",
       "      <td>53.1000</td>\n",
       "      <td>C123</td>\n",
       "      <td>S</td>\n",
       "    </tr>\n",
       "    <tr>\n",
       "      <th>4</th>\n",
       "      <td>5</td>\n",
       "      <td>0</td>\n",
       "      <td>3</td>\n",
       "      <td>Allen, Mr. William Henry</td>\n",
       "      <td>male</td>\n",
       "      <td>35.0</td>\n",
       "      <td>0</td>\n",
       "      <td>0</td>\n",
       "      <td>373450</td>\n",
       "      <td>8.0500</td>\n",
       "      <td>NaN</td>\n",
       "      <td>S</td>\n",
       "    </tr>\n",
       "  </tbody>\n",
       "</table>\n",
       "</div>"
      ],
      "text/plain": [
       "   PassengerId  Survived  Pclass  \\\n",
       "0            1         0       3   \n",
       "1            2         1       1   \n",
       "2            3         1       3   \n",
       "3            4         1       1   \n",
       "4            5         0       3   \n",
       "\n",
       "                                                Name     Sex   Age  SibSp  \\\n",
       "0                            Braund, Mr. Owen Harris    male  22.0      1   \n",
       "1  Cumings, Mrs. John Bradley (Florence Briggs Th...  female  38.0      1   \n",
       "2                             Heikkinen, Miss. Laina  female  26.0      0   \n",
       "3       Futrelle, Mrs. Jacques Heath (Lily May Peel)  female  35.0      1   \n",
       "4                           Allen, Mr. William Henry    male  35.0      0   \n",
       "\n",
       "   Parch            Ticket     Fare Cabin Embarked  \n",
       "0      0         A/5 21171   7.2500   NaN        S  \n",
       "1      0          PC 17599  71.2833   C85        C  \n",
       "2      0  STON/O2. 3101282   7.9250   NaN        S  \n",
       "3      0            113803  53.1000  C123        S  \n",
       "4      0            373450   8.0500   NaN        S  "
      ]
     },
     "execution_count": 62,
     "metadata": {},
     "output_type": "execute_result"
    }
   ],
   "source": [
    "df.iloc[0:5]"
   ]
  },
  {
   "cell_type": "markdown",
   "metadata": {
    "id": "RttVz_zbsmoQ"
   },
   "source": [
    "For reasons we won't go into now, Python decides that when you type `0:5`, you *don't* want `[0, 1, 2, 3, 4, 5]`, instead you must want `[0, 1, 2, 3, 4]` (so starting at 0, but ending just *before* 5). So the command above gave us the first five rows. Here's another simple one."
   ]
  },
  {
   "cell_type": "code",
   "execution_count": 63,
   "metadata": {
    "id": "0UnDHd4rsmoQ"
   },
   "outputs": [
    {
     "data": {
      "text/html": [
       "<div>\n",
       "<style scoped>\n",
       "    .dataframe tbody tr th:only-of-type {\n",
       "        vertical-align: middle;\n",
       "    }\n",
       "\n",
       "    .dataframe tbody tr th {\n",
       "        vertical-align: top;\n",
       "    }\n",
       "\n",
       "    .dataframe thead th {\n",
       "        text-align: right;\n",
       "    }\n",
       "</style>\n",
       "<table border=\"1\" class=\"dataframe\">\n",
       "  <thead>\n",
       "    <tr style=\"text-align: right;\">\n",
       "      <th></th>\n",
       "      <th>PassengerId</th>\n",
       "      <th>Survived</th>\n",
       "      <th>Pclass</th>\n",
       "      <th>Name</th>\n",
       "      <th>Sex</th>\n",
       "      <th>Age</th>\n",
       "      <th>SibSp</th>\n",
       "      <th>Parch</th>\n",
       "      <th>Ticket</th>\n",
       "      <th>Fare</th>\n",
       "      <th>Cabin</th>\n",
       "      <th>Embarked</th>\n",
       "    </tr>\n",
       "  </thead>\n",
       "  <tbody>\n",
       "    <tr>\n",
       "      <th>10</th>\n",
       "      <td>11</td>\n",
       "      <td>1</td>\n",
       "      <td>3</td>\n",
       "      <td>Sandstrom, Miss. Marguerite Rut</td>\n",
       "      <td>female</td>\n",
       "      <td>4.0</td>\n",
       "      <td>1</td>\n",
       "      <td>1</td>\n",
       "      <td>PP 9549</td>\n",
       "      <td>16.7000</td>\n",
       "      <td>G6</td>\n",
       "      <td>S</td>\n",
       "    </tr>\n",
       "    <tr>\n",
       "      <th>11</th>\n",
       "      <td>12</td>\n",
       "      <td>1</td>\n",
       "      <td>1</td>\n",
       "      <td>Bonnell, Miss. Elizabeth</td>\n",
       "      <td>female</td>\n",
       "      <td>58.0</td>\n",
       "      <td>0</td>\n",
       "      <td>0</td>\n",
       "      <td>113783</td>\n",
       "      <td>26.5500</td>\n",
       "      <td>C103</td>\n",
       "      <td>S</td>\n",
       "    </tr>\n",
       "    <tr>\n",
       "      <th>12</th>\n",
       "      <td>13</td>\n",
       "      <td>0</td>\n",
       "      <td>3</td>\n",
       "      <td>Saundercock, Mr. William Henry</td>\n",
       "      <td>male</td>\n",
       "      <td>20.0</td>\n",
       "      <td>0</td>\n",
       "      <td>0</td>\n",
       "      <td>A/5. 2151</td>\n",
       "      <td>8.0500</td>\n",
       "      <td>NaN</td>\n",
       "      <td>S</td>\n",
       "    </tr>\n",
       "    <tr>\n",
       "      <th>13</th>\n",
       "      <td>14</td>\n",
       "      <td>0</td>\n",
       "      <td>3</td>\n",
       "      <td>Andersson, Mr. Anders Johan</td>\n",
       "      <td>male</td>\n",
       "      <td>39.0</td>\n",
       "      <td>1</td>\n",
       "      <td>5</td>\n",
       "      <td>347082</td>\n",
       "      <td>31.2750</td>\n",
       "      <td>NaN</td>\n",
       "      <td>S</td>\n",
       "    </tr>\n",
       "    <tr>\n",
       "      <th>14</th>\n",
       "      <td>15</td>\n",
       "      <td>0</td>\n",
       "      <td>3</td>\n",
       "      <td>Vestrom, Miss. Hulda Amanda Adolfina</td>\n",
       "      <td>female</td>\n",
       "      <td>14.0</td>\n",
       "      <td>0</td>\n",
       "      <td>0</td>\n",
       "      <td>350406</td>\n",
       "      <td>7.8542</td>\n",
       "      <td>NaN</td>\n",
       "      <td>S</td>\n",
       "    </tr>\n",
       "    <tr>\n",
       "      <th>15</th>\n",
       "      <td>16</td>\n",
       "      <td>1</td>\n",
       "      <td>2</td>\n",
       "      <td>Hewlett, Mrs. (Mary D Kingcome)</td>\n",
       "      <td>female</td>\n",
       "      <td>55.0</td>\n",
       "      <td>0</td>\n",
       "      <td>0</td>\n",
       "      <td>248706</td>\n",
       "      <td>16.0000</td>\n",
       "      <td>NaN</td>\n",
       "      <td>S</td>\n",
       "    </tr>\n",
       "    <tr>\n",
       "      <th>16</th>\n",
       "      <td>17</td>\n",
       "      <td>0</td>\n",
       "      <td>3</td>\n",
       "      <td>Rice, Master. Eugene</td>\n",
       "      <td>male</td>\n",
       "      <td>2.0</td>\n",
       "      <td>4</td>\n",
       "      <td>1</td>\n",
       "      <td>382652</td>\n",
       "      <td>29.1250</td>\n",
       "      <td>NaN</td>\n",
       "      <td>Q</td>\n",
       "    </tr>\n",
       "    <tr>\n",
       "      <th>17</th>\n",
       "      <td>18</td>\n",
       "      <td>1</td>\n",
       "      <td>2</td>\n",
       "      <td>Williams, Mr. Charles Eugene</td>\n",
       "      <td>male</td>\n",
       "      <td>NaN</td>\n",
       "      <td>0</td>\n",
       "      <td>0</td>\n",
       "      <td>244373</td>\n",
       "      <td>13.0000</td>\n",
       "      <td>NaN</td>\n",
       "      <td>S</td>\n",
       "    </tr>\n",
       "    <tr>\n",
       "      <th>18</th>\n",
       "      <td>19</td>\n",
       "      <td>0</td>\n",
       "      <td>3</td>\n",
       "      <td>Vander Planke, Mrs. Julius (Emelia Maria Vande...</td>\n",
       "      <td>female</td>\n",
       "      <td>31.0</td>\n",
       "      <td>1</td>\n",
       "      <td>0</td>\n",
       "      <td>345763</td>\n",
       "      <td>18.0000</td>\n",
       "      <td>NaN</td>\n",
       "      <td>S</td>\n",
       "    </tr>\n",
       "    <tr>\n",
       "      <th>19</th>\n",
       "      <td>20</td>\n",
       "      <td>1</td>\n",
       "      <td>3</td>\n",
       "      <td>Masselmani, Mrs. Fatima</td>\n",
       "      <td>female</td>\n",
       "      <td>NaN</td>\n",
       "      <td>0</td>\n",
       "      <td>0</td>\n",
       "      <td>2649</td>\n",
       "      <td>7.2250</td>\n",
       "      <td>NaN</td>\n",
       "      <td>C</td>\n",
       "    </tr>\n",
       "  </tbody>\n",
       "</table>\n",
       "</div>"
      ],
      "text/plain": [
       "    PassengerId  Survived  Pclass  \\\n",
       "10           11         1       3   \n",
       "11           12         1       1   \n",
       "12           13         0       3   \n",
       "13           14         0       3   \n",
       "14           15         0       3   \n",
       "15           16         1       2   \n",
       "16           17         0       3   \n",
       "17           18         1       2   \n",
       "18           19         0       3   \n",
       "19           20         1       3   \n",
       "\n",
       "                                                 Name     Sex   Age  SibSp  \\\n",
       "10                    Sandstrom, Miss. Marguerite Rut  female   4.0      1   \n",
       "11                           Bonnell, Miss. Elizabeth  female  58.0      0   \n",
       "12                     Saundercock, Mr. William Henry    male  20.0      0   \n",
       "13                        Andersson, Mr. Anders Johan    male  39.0      1   \n",
       "14               Vestrom, Miss. Hulda Amanda Adolfina  female  14.0      0   \n",
       "15                   Hewlett, Mrs. (Mary D Kingcome)   female  55.0      0   \n",
       "16                               Rice, Master. Eugene    male   2.0      4   \n",
       "17                       Williams, Mr. Charles Eugene    male   NaN      0   \n",
       "18  Vander Planke, Mrs. Julius (Emelia Maria Vande...  female  31.0      1   \n",
       "19                            Masselmani, Mrs. Fatima  female   NaN      0   \n",
       "\n",
       "    Parch     Ticket     Fare Cabin Embarked  \n",
       "10      1    PP 9549  16.7000    G6        S  \n",
       "11      0     113783  26.5500  C103        S  \n",
       "12      0  A/5. 2151   8.0500   NaN        S  \n",
       "13      5     347082  31.2750   NaN        S  \n",
       "14      0     350406   7.8542   NaN        S  \n",
       "15      0     248706  16.0000   NaN        S  \n",
       "16      1     382652  29.1250   NaN        Q  \n",
       "17      0     244373  13.0000   NaN        S  \n",
       "18      0     345763  18.0000   NaN        S  \n",
       "19      0       2649   7.2250   NaN        C  "
      ]
     },
     "execution_count": 63,
     "metadata": {},
     "output_type": "execute_result"
    }
   ],
   "source": [
    "df.iloc[10:20]"
   ]
  },
  {
   "cell_type": "markdown",
   "metadata": {
    "id": "JxDnfp2usmoR"
   },
   "source": [
    "You can also tell it to skip rows (like skip every other row, or just take every fifth row) by including that number at the end. So to get every fifth row between rows 0 and 20 you would type:"
   ]
  },
  {
   "cell_type": "code",
   "execution_count": 64,
   "metadata": {
    "id": "w2ZC9-DosmoS"
   },
   "outputs": [
    {
     "data": {
      "text/html": [
       "<div>\n",
       "<style scoped>\n",
       "    .dataframe tbody tr th:only-of-type {\n",
       "        vertical-align: middle;\n",
       "    }\n",
       "\n",
       "    .dataframe tbody tr th {\n",
       "        vertical-align: top;\n",
       "    }\n",
       "\n",
       "    .dataframe thead th {\n",
       "        text-align: right;\n",
       "    }\n",
       "</style>\n",
       "<table border=\"1\" class=\"dataframe\">\n",
       "  <thead>\n",
       "    <tr style=\"text-align: right;\">\n",
       "      <th></th>\n",
       "      <th>PassengerId</th>\n",
       "      <th>Survived</th>\n",
       "      <th>Pclass</th>\n",
       "      <th>Name</th>\n",
       "      <th>Sex</th>\n",
       "      <th>Age</th>\n",
       "      <th>SibSp</th>\n",
       "      <th>Parch</th>\n",
       "      <th>Ticket</th>\n",
       "      <th>Fare</th>\n",
       "      <th>Cabin</th>\n",
       "      <th>Embarked</th>\n",
       "    </tr>\n",
       "  </thead>\n",
       "  <tbody>\n",
       "    <tr>\n",
       "      <th>0</th>\n",
       "      <td>1</td>\n",
       "      <td>0</td>\n",
       "      <td>3</td>\n",
       "      <td>Braund, Mr. Owen Harris</td>\n",
       "      <td>male</td>\n",
       "      <td>22.0</td>\n",
       "      <td>1</td>\n",
       "      <td>0</td>\n",
       "      <td>A/5 21171</td>\n",
       "      <td>7.2500</td>\n",
       "      <td>NaN</td>\n",
       "      <td>S</td>\n",
       "    </tr>\n",
       "    <tr>\n",
       "      <th>5</th>\n",
       "      <td>6</td>\n",
       "      <td>0</td>\n",
       "      <td>3</td>\n",
       "      <td>Moran, Mr. James</td>\n",
       "      <td>male</td>\n",
       "      <td>NaN</td>\n",
       "      <td>0</td>\n",
       "      <td>0</td>\n",
       "      <td>330877</td>\n",
       "      <td>8.4583</td>\n",
       "      <td>NaN</td>\n",
       "      <td>Q</td>\n",
       "    </tr>\n",
       "    <tr>\n",
       "      <th>10</th>\n",
       "      <td>11</td>\n",
       "      <td>1</td>\n",
       "      <td>3</td>\n",
       "      <td>Sandstrom, Miss. Marguerite Rut</td>\n",
       "      <td>female</td>\n",
       "      <td>4.0</td>\n",
       "      <td>1</td>\n",
       "      <td>1</td>\n",
       "      <td>PP 9549</td>\n",
       "      <td>16.7000</td>\n",
       "      <td>G6</td>\n",
       "      <td>S</td>\n",
       "    </tr>\n",
       "    <tr>\n",
       "      <th>15</th>\n",
       "      <td>16</td>\n",
       "      <td>1</td>\n",
       "      <td>2</td>\n",
       "      <td>Hewlett, Mrs. (Mary D Kingcome)</td>\n",
       "      <td>female</td>\n",
       "      <td>55.0</td>\n",
       "      <td>0</td>\n",
       "      <td>0</td>\n",
       "      <td>248706</td>\n",
       "      <td>16.0000</td>\n",
       "      <td>NaN</td>\n",
       "      <td>S</td>\n",
       "    </tr>\n",
       "  </tbody>\n",
       "</table>\n",
       "</div>"
      ],
      "text/plain": [
       "    PassengerId  Survived  Pclass                              Name     Sex  \\\n",
       "0             1         0       3           Braund, Mr. Owen Harris    male   \n",
       "5             6         0       3                  Moran, Mr. James    male   \n",
       "10           11         1       3   Sandstrom, Miss. Marguerite Rut  female   \n",
       "15           16         1       2  Hewlett, Mrs. (Mary D Kingcome)   female   \n",
       "\n",
       "     Age  SibSp  Parch     Ticket     Fare Cabin Embarked  \n",
       "0   22.0      1      0  A/5 21171   7.2500   NaN        S  \n",
       "5    NaN      0      0     330877   8.4583   NaN        Q  \n",
       "10   4.0      1      1    PP 9549  16.7000    G6        S  \n",
       "15  55.0      0      0     248706  16.0000   NaN        S  "
      ]
     },
     "execution_count": 64,
     "metadata": {},
     "output_type": "execute_result"
    }
   ],
   "source": [
    "df.iloc[0:20:5]"
   ]
  },
  {
   "cell_type": "markdown",
   "metadata": {
    "id": "VdImFgpBsmoT"
   },
   "source": [
    "## Describing the data numerically <a id=\"data_numerically\"></a>\n",
    "Okay, we've loaded our data, now let's start examining it. We probably want to answer questions like:\n",
    "- How many people survived? How many died?\n",
    "- Who is the oldest and youngest person on board? The average age?\n",
    "- For the people who are first class (`Pclass==1`), what percentage survived? What about for second and third class? \n",
    "\n",
    "We'll address each of these separately below."
   ]
  },
  {
   "cell_type": "markdown",
   "metadata": {
    "id": "z1Qh814YsmoT"
   },
   "source": [
    "### Value counts\n",
    "\"Value counts\" refers to counting how many different values appear in a column. So this could be used to answer the question of \"How many people survived/died?\", since I'm just counting how many 1's (survived) and 0's (died) appear in the `Survived` column. To do a value count, just select the column you want from your DataFrame (using what you learned above), and tell it to run the `.value_counts()` command."
   ]
  },
  {
   "cell_type": "code",
   "execution_count": 65,
   "metadata": {
    "id": "BJd0bOSasmoT"
   },
   "outputs": [
    {
     "data": {
      "text/plain": [
       "0    549\n",
       "1    342\n",
       "Name: Survived, dtype: int64"
      ]
     },
     "execution_count": 65,
     "metadata": {},
     "output_type": "execute_result"
    }
   ],
   "source": [
    "df['Survived'].value_counts()"
   ]
  },
  {
   "cell_type": "markdown",
   "metadata": {
    "id": "q9E3UG0jsmoU"
   },
   "source": [
    "We can see that 549 people died, and 342 survived. Try it on your own for several other columns."
   ]
  },
  {
   "cell_type": "markdown",
   "metadata": {
    "id": "g5tqKDXPsmoV"
   },
   "source": [
    "### Basic statistics\n",
    "Say you want to compute some basic statistics on a column, such as min/max/average/median/etc. In general, Pandas makes this very simple:"
   ]
  },
  {
   "cell_type": "code",
   "execution_count": 66,
   "metadata": {
    "id": "7sE6ZhRismoV"
   },
   "outputs": [
    {
     "data": {
      "text/plain": [
       "0.42"
      ]
     },
     "execution_count": 66,
     "metadata": {},
     "output_type": "execute_result"
    }
   ],
   "source": [
    "df['Age'].min()"
   ]
  },
  {
   "cell_type": "code",
   "execution_count": 67,
   "metadata": {
    "id": "mu5uDyh8smoY"
   },
   "outputs": [
    {
     "data": {
      "text/plain": [
       "80.0"
      ]
     },
     "execution_count": 67,
     "metadata": {},
     "output_type": "execute_result"
    }
   ],
   "source": [
    "df['Age'].max()"
   ]
  },
  {
   "cell_type": "code",
   "execution_count": 68,
   "metadata": {
    "id": "1eAHW4NMsmoZ"
   },
   "outputs": [
    {
     "data": {
      "text/plain": [
       "29.69911764705882"
      ]
     },
     "execution_count": 68,
     "metadata": {},
     "output_type": "execute_result"
    }
   ],
   "source": [
    "df['Age'].mean()"
   ]
  },
  {
   "cell_type": "code",
   "execution_count": 69,
   "metadata": {
    "id": "yw8mubZTsmoa"
   },
   "outputs": [
    {
     "data": {
      "text/plain": [
       "28.0"
      ]
     },
     "execution_count": 69,
     "metadata": {},
     "output_type": "execute_result"
    }
   ],
   "source": [
    "df['Age'].median()"
   ]
  },
  {
   "cell_type": "markdown",
   "metadata": {
    "id": "gKw1I4cksmoc"
   },
   "source": [
    "## Analyzing subsets of data <a id=\"subset_data\"></a>\n",
    "The last question about analyzing individual passenger classes is a little different. Up to this point we've just been taking an *entire column* (like the `Age` column) and finding something about it (`mean`, `median`, `value_counts`, etc). But what about if we just want a *subset* of the column, such as the first class passengers? To do this, you need to tell Pandas the *condition* you want satisfied. If we want first class passengers, we want the column `Pclass` to be equal to 1. Remember that in Python, to *test equality* (i.e. to check if something is or is not equal to something else) you use double equals signs `==`. So if I want to check for `Pclass` equal to 1, I would do `Pclass==1`. Let's see what happens if we try that."
   ]
  },
  {
   "cell_type": "code",
   "execution_count": 70,
   "metadata": {
    "id": "mIBhVCndsmof"
   },
   "outputs": [
    {
     "data": {
      "text/plain": [
       "0      False\n",
       "1       True\n",
       "2      False\n",
       "3       True\n",
       "4      False\n",
       "       ...  \n",
       "886    False\n",
       "887     True\n",
       "888    False\n",
       "889     True\n",
       "890    False\n",
       "Name: Pclass, Length: 891, dtype: bool"
      ]
     },
     "execution_count": 70,
     "metadata": {},
     "output_type": "execute_result"
    }
   ],
   "source": [
    "df['Pclass']==1"
   ]
  },
  {
   "cell_type": "markdown",
   "metadata": {
    "id": "Ymqr8mhqsmog"
   },
   "source": [
    "Hmm, it looks like it's telling us `True` or `False` for whether each passenger was first class. That's not quite what I wanted, I just wanted the first class passengers. But that's okay, we're mostly there. Instead, what we do is say \"DataFrame, look inside yourself and find the rows where `Pclass==1`\"."
   ]
  },
  {
   "cell_type": "code",
   "execution_count": 71,
   "metadata": {
    "id": "2XvyD-8Lsmoh"
   },
   "outputs": [
    {
     "data": {
      "text/html": [
       "<div>\n",
       "<style scoped>\n",
       "    .dataframe tbody tr th:only-of-type {\n",
       "        vertical-align: middle;\n",
       "    }\n",
       "\n",
       "    .dataframe tbody tr th {\n",
       "        vertical-align: top;\n",
       "    }\n",
       "\n",
       "    .dataframe thead th {\n",
       "        text-align: right;\n",
       "    }\n",
       "</style>\n",
       "<table border=\"1\" class=\"dataframe\">\n",
       "  <thead>\n",
       "    <tr style=\"text-align: right;\">\n",
       "      <th></th>\n",
       "      <th>PassengerId</th>\n",
       "      <th>Survived</th>\n",
       "      <th>Pclass</th>\n",
       "      <th>Name</th>\n",
       "      <th>Sex</th>\n",
       "      <th>Age</th>\n",
       "      <th>SibSp</th>\n",
       "      <th>Parch</th>\n",
       "      <th>Ticket</th>\n",
       "      <th>Fare</th>\n",
       "      <th>Cabin</th>\n",
       "      <th>Embarked</th>\n",
       "    </tr>\n",
       "  </thead>\n",
       "  <tbody>\n",
       "    <tr>\n",
       "      <th>1</th>\n",
       "      <td>2</td>\n",
       "      <td>1</td>\n",
       "      <td>1</td>\n",
       "      <td>Cumings, Mrs. John Bradley (Florence Briggs Th...</td>\n",
       "      <td>female</td>\n",
       "      <td>38.0</td>\n",
       "      <td>1</td>\n",
       "      <td>0</td>\n",
       "      <td>PC 17599</td>\n",
       "      <td>71.2833</td>\n",
       "      <td>C85</td>\n",
       "      <td>C</td>\n",
       "    </tr>\n",
       "    <tr>\n",
       "      <th>3</th>\n",
       "      <td>4</td>\n",
       "      <td>1</td>\n",
       "      <td>1</td>\n",
       "      <td>Futrelle, Mrs. Jacques Heath (Lily May Peel)</td>\n",
       "      <td>female</td>\n",
       "      <td>35.0</td>\n",
       "      <td>1</td>\n",
       "      <td>0</td>\n",
       "      <td>113803</td>\n",
       "      <td>53.1000</td>\n",
       "      <td>C123</td>\n",
       "      <td>S</td>\n",
       "    </tr>\n",
       "    <tr>\n",
       "      <th>6</th>\n",
       "      <td>7</td>\n",
       "      <td>0</td>\n",
       "      <td>1</td>\n",
       "      <td>McCarthy, Mr. Timothy J</td>\n",
       "      <td>male</td>\n",
       "      <td>54.0</td>\n",
       "      <td>0</td>\n",
       "      <td>0</td>\n",
       "      <td>17463</td>\n",
       "      <td>51.8625</td>\n",
       "      <td>E46</td>\n",
       "      <td>S</td>\n",
       "    </tr>\n",
       "    <tr>\n",
       "      <th>11</th>\n",
       "      <td>12</td>\n",
       "      <td>1</td>\n",
       "      <td>1</td>\n",
       "      <td>Bonnell, Miss. Elizabeth</td>\n",
       "      <td>female</td>\n",
       "      <td>58.0</td>\n",
       "      <td>0</td>\n",
       "      <td>0</td>\n",
       "      <td>113783</td>\n",
       "      <td>26.5500</td>\n",
       "      <td>C103</td>\n",
       "      <td>S</td>\n",
       "    </tr>\n",
       "    <tr>\n",
       "      <th>23</th>\n",
       "      <td>24</td>\n",
       "      <td>1</td>\n",
       "      <td>1</td>\n",
       "      <td>Sloper, Mr. William Thompson</td>\n",
       "      <td>male</td>\n",
       "      <td>28.0</td>\n",
       "      <td>0</td>\n",
       "      <td>0</td>\n",
       "      <td>113788</td>\n",
       "      <td>35.5000</td>\n",
       "      <td>A6</td>\n",
       "      <td>S</td>\n",
       "    </tr>\n",
       "  </tbody>\n",
       "</table>\n",
       "</div>"
      ],
      "text/plain": [
       "    PassengerId  Survived  Pclass  \\\n",
       "1             2         1       1   \n",
       "3             4         1       1   \n",
       "6             7         0       1   \n",
       "11           12         1       1   \n",
       "23           24         1       1   \n",
       "\n",
       "                                                 Name     Sex   Age  SibSp  \\\n",
       "1   Cumings, Mrs. John Bradley (Florence Briggs Th...  female  38.0      1   \n",
       "3        Futrelle, Mrs. Jacques Heath (Lily May Peel)  female  35.0      1   \n",
       "6                             McCarthy, Mr. Timothy J    male  54.0      0   \n",
       "11                           Bonnell, Miss. Elizabeth  female  58.0      0   \n",
       "23                       Sloper, Mr. William Thompson    male  28.0      0   \n",
       "\n",
       "    Parch    Ticket     Fare Cabin Embarked  \n",
       "1       0  PC 17599  71.2833   C85        C  \n",
       "3       0    113803  53.1000  C123        S  \n",
       "6       0     17463  51.8625   E46        S  \n",
       "11      0    113783  26.5500  C103        S  \n",
       "23      0    113788  35.5000    A6        S  "
      ]
     },
     "execution_count": 71,
     "metadata": {},
     "output_type": "execute_result"
    }
   ],
   "source": [
    "df[df['Pclass']==1].head()"
   ]
  },
  {
   "cell_type": "markdown",
   "metadata": {
    "id": "BB0UKn4csmoi"
   },
   "source": [
    "Now we've just got the first class passengers! Let's do a value count on just those passengers to see how many survived. We need to tell Pandas \"Take this subset of the passengers which are first class, look at the `Survived` column, and do a `value_counts()`.\""
   ]
  },
  {
   "cell_type": "code",
   "execution_count": 72,
   "metadata": {
    "id": "OTn9_llgsmoj"
   },
   "outputs": [
    {
     "data": {
      "text/plain": [
       "1    136\n",
       "0     80\n",
       "Name: Survived, dtype: int64"
      ]
     },
     "execution_count": 72,
     "metadata": {},
     "output_type": "execute_result"
    }
   ],
   "source": [
    "df[df['Pclass']==1]['Survived'].value_counts()"
   ]
  },
  {
   "cell_type": "markdown",
   "metadata": {
    "id": "0NrNRApksmok"
   },
   "source": [
    "This is good, but I'm probably more interested in *percentages* than in raw numbers. To find out how to do this, Google \"pandas value counts percentage\". See if you can find the answer on your own. After you've done that, try comparing survival rates for second and third class passengers, as well as for all passengers regardless of class."
   ]
  },
  {
   "cell_type": "markdown",
   "metadata": {
    "id": "uxpuKHcusmok"
   },
   "source": [
    "## Finding missing data (and dealing with it) <a id=\"missing_data\"></a>\n",
    "It's very common that in a dataset, some of the data will be missing. What do we mean by \"missing\"? Sometimes it's just a blank cell in the spreadsheet, sometimes it's represented by `NaN`, which stands for \"Not a number\", and is Python speak for \"I don't have anything useful to put here\". There is also a `None` object in Python, which could potentially be in a cell. The cell could also have an empty string `''`, or a bunch of spaces `'   '`, or a zero where it doesn't make sense (like name), or $\\pm\\infty$, or one of many, many other things that could go wrong! This gives you some idea why finding and dealing with missing data is not simple. The general rule of thumb is that cleaning and prepping your data is about 80% of your work, while analyzing and utilizing it is only 20%.\n",
    "\n",
    "Let's start by finding `None`s and `NaN`s. Pandas actually has a nice [helper function for this](https://pandas.pydata.org/pandas-docs/stable/reference/api/pandas.DataFrame.isna.html) called `isna()`. It looks for both `NaN` and `None` values. It *does not* look for spaces, zeros where you don't want them, etc. Let's try it with the `Cabin` column."
   ]
  },
  {
   "cell_type": "code",
   "execution_count": 73,
   "metadata": {
    "id": "EBWTgC53smok"
   },
   "outputs": [
    {
     "data": {
      "text/plain": [
       "0       True\n",
       "1      False\n",
       "2       True\n",
       "3      False\n",
       "4       True\n",
       "       ...  \n",
       "886     True\n",
       "887    False\n",
       "888     True\n",
       "889    False\n",
       "890     True\n",
       "Name: Cabin, Length: 891, dtype: bool"
      ]
     },
     "execution_count": 73,
     "metadata": {},
     "output_type": "execute_result"
    }
   ],
   "source": [
    "df['Cabin'].isna()"
   ]
  },
  {
   "cell_type": "markdown",
   "metadata": {
    "id": "qOsPcAQ4smom"
   },
   "source": [
    "Hmm, that's not quite what we wanted. It's saying whether each row is or is not `NaN`/`None`. In a way that should look similar to what we had above with `df['Pclass'==1]`. We need to think about what our goal is. Is it just to *find* these values, to *drop rows with them*, or to *fix them*? Let's start with the first, just counting them.\n",
    "\n",
    "The simplest way to count them is to see how many of the rows evalued to `True` when we did `.isna()`. A fantastically simple way to do this is below."
   ]
  },
  {
   "cell_type": "code",
   "execution_count": 74,
   "metadata": {
    "id": "LEqYYLjgsmom"
   },
   "outputs": [
    {
     "data": {
      "text/plain": [
       "687"
      ]
     },
     "execution_count": 74,
     "metadata": {},
     "output_type": "execute_result"
    }
   ],
   "source": [
    "df['Cabin'].isna().sum()"
   ]
  },
  {
   "cell_type": "markdown",
   "metadata": {
    "id": "Z3T9M0pDsmon"
   },
   "source": [
    "What's going on here? The `.isna()` part is giving us the `True`/`False` values, and `.sum()` is adding them up. But how do we add `True` and `False`? These are what are called \"boolean values\", which mean that can be interpreted as either being 1 or 0. By default, `True` is mapped to 1, and `False` is mapped to 0. So when you call `.sum()`, it's adding up 1 (`True`) + 0 (`False`) + 1 (`True`) + ... and so forth. So the sum is exactly how many `NaN`/`None` values there are in that column!\n",
    "\n",
    "How did I figure out this trick? Googling! I Googled \"Pandas count number of nan none in column\". The [first result](https://stackoverflow.com/questions/26266362/how-to-count-the-nan-values-in-a-column-in-pandas-dataframe/55608360) gave me a solution, which is what I used. You should get used to Googling for how to do things in programming. No human knows every command and trick, but the internet does! So use it to your advantage.\n",
    "\n",
    "With that, let's count the number of `NaN`/`None` values are in each row. I'll use a simple `for`-loop to make this easier."
   ]
  },
  {
   "cell_type": "code",
   "execution_count": 75,
   "metadata": {
    "id": "pZY8Y9oasmoo"
   },
   "outputs": [
    {
     "name": "stdout",
     "output_type": "stream",
     "text": [
      "PassengerId: 0\n",
      "Survived: 0\n",
      "Pclass: 0\n",
      "Name: 0\n",
      "Sex: 0\n",
      "Age: 177\n",
      "SibSp: 0\n",
      "Parch: 0\n",
      "Ticket: 0\n",
      "Fare: 0\n",
      "Cabin: 687\n",
      "Embarked: 2\n"
     ]
    }
   ],
   "source": [
    "for col in df.columns:\n",
    "    print(f'{col}: {df[col].isna().sum()}')"
   ]
  },
  {
   "cell_type": "markdown",
   "metadata": {
    "id": "i6CEME6Dsmoq"
   },
   "source": [
    "So it looks like most columns are pretty good, but some do indeed have a lot of missing values. What *percentage* of the values are missing? How about we divide the number of missing values by the number of rows. To get the shape of a DataFrame, use the `.shape` attribute."
   ]
  },
  {
   "cell_type": "code",
   "execution_count": 76,
   "metadata": {
    "id": "TpM1UTNnsmoq"
   },
   "outputs": [
    {
     "data": {
      "text/plain": [
       "(891, 12)"
      ]
     },
     "execution_count": 76,
     "metadata": {},
     "output_type": "execute_result"
    }
   ],
   "source": [
    "df.shape"
   ]
  },
  {
   "cell_type": "markdown",
   "metadata": {
    "id": "6kRX_Xc_smor"
   },
   "source": [
    "This says there are 891 rows (rows always come first, just like in a matrix) and 12 columns. Since we only care about rows, we'll grab the first part of this tuple by using `df.shape[0]` (remember that everything in Python is zero-indexed, so the *first* element in a tuple is referred to as the zeroth-element). Let's alter our `for`-loop above to print this."
   ]
  },
  {
   "cell_type": "code",
   "execution_count": 77,
   "metadata": {
    "id": "gzNkFJkRsmor"
   },
   "outputs": [
    {
     "name": "stdout",
     "output_type": "stream",
     "text": [
      "PassengerId: 0 (0.0%)\n",
      "Survived: 0 (0.0%)\n",
      "Pclass: 0 (0.0%)\n",
      "Name: 0 (0.0%)\n",
      "Sex: 0 (0.0%)\n",
      "Age: 177 (19.865319865319865%)\n",
      "SibSp: 0 (0.0%)\n",
      "Parch: 0 (0.0%)\n",
      "Ticket: 0 (0.0%)\n",
      "Fare: 0 (0.0%)\n",
      "Cabin: 687 (77.10437710437711%)\n",
      "Embarked: 2 (0.2244668911335578%)\n"
     ]
    }
   ],
   "source": [
    "for col in df.columns:\n",
    "    print(f'{col}: {df[col].isna().sum()} ({100 * df[col].isna().sum() / df.shape[0]}%)')"
   ]
  },
  {
   "cell_type": "markdown",
   "metadata": {
    "id": "p2N3hw8vsmos"
   },
   "source": [
    "How should we handle missing data? One way is just to ignore rows with missing data. We can do this by selecting rows where `.isna()` is `False`. Pandas has a helper function to do this, called `.dropna()`. By default it drops any row with at least one `NaN`/`None` value. But if you want more flexibility, you can set `.dropna(thresh=3)` (for instance) to only drop rows with *three* `NaN`/`None` values. It's good practice to always keep your original data intact. So once we drop the rows, we'll assign this to a new DataFrame called `df_trimmed`."
   ]
  },
  {
   "cell_type": "code",
   "execution_count": 78,
   "metadata": {
    "id": "o4IoSwZYsmot"
   },
   "outputs": [],
   "source": [
    "df_trimmed = df.dropna()"
   ]
  },
  {
   "cell_type": "code",
   "execution_count": 79,
   "metadata": {
    "id": "gRRdQ4p7smou"
   },
   "outputs": [
    {
     "data": {
      "text/plain": [
       "(183, 12)"
      ]
     },
     "execution_count": 79,
     "metadata": {},
     "output_type": "execute_result"
    }
   ],
   "source": [
    "df_trimmed.shape"
   ]
  },
  {
   "cell_type": "markdown",
   "metadata": {
    "id": "oWkvjkr4smow"
   },
   "source": [
    "How do we feel about this? We went from having at last *some* information on 891 passengers, to having *all* information on 183 passengers. This seems problematic, as I've thrown away a bunch of my data. Moreover, it seems like the column that most often has missing data is the `Cabin` column. Looking at that column, it seems like it's basically the room number for the person. I don't feel like that's so important, so maybe I don't need to worry about missing values there. Let's instead focus on the missing column which seems the most useful, which I feel is `Age`.\n",
    "\n",
    "Rather than dropping rows with a missing `Age`, how about we fill in an age. This may seem strange, as I'm basically just making up an age for that person. However, soon we'll start building maching learning models, which use the data we have to make predictions about who will survive and die. For these models to work, they *need* to have data. If a row has a `NaN`/`None`, the model will throw an error and refuse to run. So it's better to have *something* so that it at least runs, than to have nothing.\n",
    "\n",
    "The way to fill missing data is to use the Pandas helper function `.fillna()` (see a pattern here? Pandas has tons of helper functions. So before you try to write something from scratch, try Googling first!). All that `.fillna()` needs is an argument telling it *what* to fill in to the missing values. We *could* do something simple like filling in zeros (`.fillna(0)`), or 999, or -1, but it's generally best to not introduce extreme/unrealistic values (no one on board had an age of -1. Also, an age of 999 would skew the mean age, if that was something we decided to calculate). So good practice is to fill numerical columns with the median value."
   ]
  },
  {
   "cell_type": "code",
   "execution_count": 80,
   "metadata": {
    "id": "Pvbx4xI8smow"
   },
   "outputs": [],
   "source": [
    "df_cleaned = df\n",
    "df_cleaned['Age'] = df_cleaned['Age'].fillna(df_cleaned['Age'].median())"
   ]
  },
  {
   "cell_type": "markdown",
   "metadata": {
    "id": "05u2O50Osmox"
   },
   "source": [
    "Let's inspect our data and do another check for missing values to see where we're at."
   ]
  },
  {
   "cell_type": "code",
   "execution_count": 81,
   "metadata": {
    "id": "R7kJSv7bsmox"
   },
   "outputs": [
    {
     "name": "stdout",
     "output_type": "stream",
     "text": [
      "PassengerId: 0 (0.0%)\n",
      "Survived: 0 (0.0%)\n",
      "Pclass: 0 (0.0%)\n",
      "Name: 0 (0.0%)\n",
      "Sex: 0 (0.0%)\n",
      "Age: 0 (0.0%)\n",
      "SibSp: 0 (0.0%)\n",
      "Parch: 0 (0.0%)\n",
      "Ticket: 0 (0.0%)\n",
      "Fare: 0 (0.0%)\n",
      "Cabin: 687 (77.10437710437711%)\n",
      "Embarked: 2 (0.2244668911335578%)\n"
     ]
    }
   ],
   "source": [
    "for col in df_cleaned.columns:\n",
    "    print(f'{col}: {df_cleaned[col].isna().sum()} ({100 * df_cleaned[col].isna().sum() / df_cleaned.shape[0]}%)')"
   ]
  },
  {
   "cell_type": "code",
   "execution_count": 82,
   "metadata": {
    "id": "HYWNbD4jsmoz"
   },
   "outputs": [
    {
     "data": {
      "text/html": [
       "<div>\n",
       "<style scoped>\n",
       "    .dataframe tbody tr th:only-of-type {\n",
       "        vertical-align: middle;\n",
       "    }\n",
       "\n",
       "    .dataframe tbody tr th {\n",
       "        vertical-align: top;\n",
       "    }\n",
       "\n",
       "    .dataframe thead th {\n",
       "        text-align: right;\n",
       "    }\n",
       "</style>\n",
       "<table border=\"1\" class=\"dataframe\">\n",
       "  <thead>\n",
       "    <tr style=\"text-align: right;\">\n",
       "      <th></th>\n",
       "      <th>PassengerId</th>\n",
       "      <th>Survived</th>\n",
       "      <th>Pclass</th>\n",
       "      <th>Name</th>\n",
       "      <th>Sex</th>\n",
       "      <th>Age</th>\n",
       "      <th>SibSp</th>\n",
       "      <th>Parch</th>\n",
       "      <th>Ticket</th>\n",
       "      <th>Fare</th>\n",
       "      <th>Cabin</th>\n",
       "      <th>Embarked</th>\n",
       "    </tr>\n",
       "  </thead>\n",
       "  <tbody>\n",
       "    <tr>\n",
       "      <th>0</th>\n",
       "      <td>1</td>\n",
       "      <td>0</td>\n",
       "      <td>3</td>\n",
       "      <td>Braund, Mr. Owen Harris</td>\n",
       "      <td>male</td>\n",
       "      <td>22.0</td>\n",
       "      <td>1</td>\n",
       "      <td>0</td>\n",
       "      <td>A/5 21171</td>\n",
       "      <td>7.2500</td>\n",
       "      <td>NaN</td>\n",
       "      <td>S</td>\n",
       "    </tr>\n",
       "    <tr>\n",
       "      <th>1</th>\n",
       "      <td>2</td>\n",
       "      <td>1</td>\n",
       "      <td>1</td>\n",
       "      <td>Cumings, Mrs. John Bradley (Florence Briggs Th...</td>\n",
       "      <td>female</td>\n",
       "      <td>38.0</td>\n",
       "      <td>1</td>\n",
       "      <td>0</td>\n",
       "      <td>PC 17599</td>\n",
       "      <td>71.2833</td>\n",
       "      <td>C85</td>\n",
       "      <td>C</td>\n",
       "    </tr>\n",
       "    <tr>\n",
       "      <th>2</th>\n",
       "      <td>3</td>\n",
       "      <td>1</td>\n",
       "      <td>3</td>\n",
       "      <td>Heikkinen, Miss. Laina</td>\n",
       "      <td>female</td>\n",
       "      <td>26.0</td>\n",
       "      <td>0</td>\n",
       "      <td>0</td>\n",
       "      <td>STON/O2. 3101282</td>\n",
       "      <td>7.9250</td>\n",
       "      <td>NaN</td>\n",
       "      <td>S</td>\n",
       "    </tr>\n",
       "    <tr>\n",
       "      <th>3</th>\n",
       "      <td>4</td>\n",
       "      <td>1</td>\n",
       "      <td>1</td>\n",
       "      <td>Futrelle, Mrs. Jacques Heath (Lily May Peel)</td>\n",
       "      <td>female</td>\n",
       "      <td>35.0</td>\n",
       "      <td>1</td>\n",
       "      <td>0</td>\n",
       "      <td>113803</td>\n",
       "      <td>53.1000</td>\n",
       "      <td>C123</td>\n",
       "      <td>S</td>\n",
       "    </tr>\n",
       "    <tr>\n",
       "      <th>4</th>\n",
       "      <td>5</td>\n",
       "      <td>0</td>\n",
       "      <td>3</td>\n",
       "      <td>Allen, Mr. William Henry</td>\n",
       "      <td>male</td>\n",
       "      <td>35.0</td>\n",
       "      <td>0</td>\n",
       "      <td>0</td>\n",
       "      <td>373450</td>\n",
       "      <td>8.0500</td>\n",
       "      <td>NaN</td>\n",
       "      <td>S</td>\n",
       "    </tr>\n",
       "  </tbody>\n",
       "</table>\n",
       "</div>"
      ],
      "text/plain": [
       "   PassengerId  Survived  Pclass  \\\n",
       "0            1         0       3   \n",
       "1            2         1       1   \n",
       "2            3         1       3   \n",
       "3            4         1       1   \n",
       "4            5         0       3   \n",
       "\n",
       "                                                Name     Sex   Age  SibSp  \\\n",
       "0                            Braund, Mr. Owen Harris    male  22.0      1   \n",
       "1  Cumings, Mrs. John Bradley (Florence Briggs Th...  female  38.0      1   \n",
       "2                             Heikkinen, Miss. Laina  female  26.0      0   \n",
       "3       Futrelle, Mrs. Jacques Heath (Lily May Peel)  female  35.0      1   \n",
       "4                           Allen, Mr. William Henry    male  35.0      0   \n",
       "\n",
       "   Parch            Ticket     Fare Cabin Embarked  \n",
       "0      0         A/5 21171   7.2500   NaN        S  \n",
       "1      0          PC 17599  71.2833   C85        C  \n",
       "2      0  STON/O2. 3101282   7.9250   NaN        S  \n",
       "3      0            113803  53.1000  C123        S  \n",
       "4      0            373450   8.0500   NaN        S  "
      ]
     },
     "execution_count": 82,
     "metadata": {},
     "output_type": "execute_result"
    }
   ],
   "source": [
    "df_cleaned.head()"
   ]
  },
  {
   "cell_type": "markdown",
   "metadata": {
    "id": "gstxORYlsmo0"
   },
   "source": [
    "Looking good!\n",
    "\n",
    "What about other cases, where the data is not what you would expect (numbers for `Name`, words for `Fare`, etc.)? One simple way is to look at the data type for each column. Pandas forces all values in a column to be the same type (`int`, `float`, `object`, etc.). So if a single value in the `Fare` column can't be described by a `float` (for example, it was a string '$123.16'), then Pandas will force that whole column to be strings (which Pandas calls an `object`)."
   ]
  },
  {
   "cell_type": "code",
   "execution_count": 83,
   "metadata": {
    "id": "bnveYZhwsmo0"
   },
   "outputs": [
    {
     "data": {
      "text/plain": [
       "PassengerId      int64\n",
       "Survived         int64\n",
       "Pclass           int64\n",
       "Name            object\n",
       "Sex             object\n",
       "Age            float64\n",
       "SibSp            int64\n",
       "Parch            int64\n",
       "Ticket          object\n",
       "Fare           float64\n",
       "Cabin           object\n",
       "Embarked        object\n",
       "dtype: object"
      ]
     },
     "execution_count": 83,
     "metadata": {},
     "output_type": "execute_result"
    }
   ],
   "source": [
    "df_cleaned.dtypes"
   ]
  },
  {
   "cell_type": "markdown",
   "metadata": {
    "id": "ldINAS7Dsmo1"
   },
   "source": [
    "A quick glance down the list looks good for the most part, but there is one weird one. `Age` is a float (decimal). Presumably all ages are integers, so we could consider changing that. The way to tell Pandas to change the column data type is using the `.astype()` helper function. As an argument, pass what type you would like. We'll use `int` as the type."
   ]
  },
  {
   "cell_type": "code",
   "execution_count": 84,
   "metadata": {
    "id": "LT7mGNuhsmo1"
   },
   "outputs": [],
   "source": [
    "df_cleaned['Age'] = df_cleaned['Age'].astype('int')"
   ]
  },
  {
   "cell_type": "code",
   "execution_count": 85,
   "metadata": {
    "id": "Do8GyedRsmo3"
   },
   "outputs": [
    {
     "data": {
      "text/plain": [
       "PassengerId      int64\n",
       "Survived         int64\n",
       "Pclass           int64\n",
       "Name            object\n",
       "Sex             object\n",
       "Age              int64\n",
       "SibSp            int64\n",
       "Parch            int64\n",
       "Ticket          object\n",
       "Fare           float64\n",
       "Cabin           object\n",
       "Embarked        object\n",
       "dtype: object"
      ]
     },
     "execution_count": 85,
     "metadata": {},
     "output_type": "execute_result"
    }
   ],
   "source": [
    "df_cleaned.dtypes"
   ]
  },
  {
   "cell_type": "code",
   "execution_count": 86,
   "metadata": {
    "id": "-IzjVJLCsmo4"
   },
   "outputs": [
    {
     "data": {
      "text/html": [
       "<div>\n",
       "<style scoped>\n",
       "    .dataframe tbody tr th:only-of-type {\n",
       "        vertical-align: middle;\n",
       "    }\n",
       "\n",
       "    .dataframe tbody tr th {\n",
       "        vertical-align: top;\n",
       "    }\n",
       "\n",
       "    .dataframe thead th {\n",
       "        text-align: right;\n",
       "    }\n",
       "</style>\n",
       "<table border=\"1\" class=\"dataframe\">\n",
       "  <thead>\n",
       "    <tr style=\"text-align: right;\">\n",
       "      <th></th>\n",
       "      <th>PassengerId</th>\n",
       "      <th>Survived</th>\n",
       "      <th>Pclass</th>\n",
       "      <th>Name</th>\n",
       "      <th>Sex</th>\n",
       "      <th>Age</th>\n",
       "      <th>SibSp</th>\n",
       "      <th>Parch</th>\n",
       "      <th>Ticket</th>\n",
       "      <th>Fare</th>\n",
       "      <th>Cabin</th>\n",
       "      <th>Embarked</th>\n",
       "    </tr>\n",
       "  </thead>\n",
       "  <tbody>\n",
       "    <tr>\n",
       "      <th>0</th>\n",
       "      <td>1</td>\n",
       "      <td>0</td>\n",
       "      <td>3</td>\n",
       "      <td>Braund, Mr. Owen Harris</td>\n",
       "      <td>male</td>\n",
       "      <td>22</td>\n",
       "      <td>1</td>\n",
       "      <td>0</td>\n",
       "      <td>A/5 21171</td>\n",
       "      <td>7.2500</td>\n",
       "      <td>NaN</td>\n",
       "      <td>S</td>\n",
       "    </tr>\n",
       "    <tr>\n",
       "      <th>1</th>\n",
       "      <td>2</td>\n",
       "      <td>1</td>\n",
       "      <td>1</td>\n",
       "      <td>Cumings, Mrs. John Bradley (Florence Briggs Th...</td>\n",
       "      <td>female</td>\n",
       "      <td>38</td>\n",
       "      <td>1</td>\n",
       "      <td>0</td>\n",
       "      <td>PC 17599</td>\n",
       "      <td>71.2833</td>\n",
       "      <td>C85</td>\n",
       "      <td>C</td>\n",
       "    </tr>\n",
       "    <tr>\n",
       "      <th>2</th>\n",
       "      <td>3</td>\n",
       "      <td>1</td>\n",
       "      <td>3</td>\n",
       "      <td>Heikkinen, Miss. Laina</td>\n",
       "      <td>female</td>\n",
       "      <td>26</td>\n",
       "      <td>0</td>\n",
       "      <td>0</td>\n",
       "      <td>STON/O2. 3101282</td>\n",
       "      <td>7.9250</td>\n",
       "      <td>NaN</td>\n",
       "      <td>S</td>\n",
       "    </tr>\n",
       "    <tr>\n",
       "      <th>3</th>\n",
       "      <td>4</td>\n",
       "      <td>1</td>\n",
       "      <td>1</td>\n",
       "      <td>Futrelle, Mrs. Jacques Heath (Lily May Peel)</td>\n",
       "      <td>female</td>\n",
       "      <td>35</td>\n",
       "      <td>1</td>\n",
       "      <td>0</td>\n",
       "      <td>113803</td>\n",
       "      <td>53.1000</td>\n",
       "      <td>C123</td>\n",
       "      <td>S</td>\n",
       "    </tr>\n",
       "    <tr>\n",
       "      <th>4</th>\n",
       "      <td>5</td>\n",
       "      <td>0</td>\n",
       "      <td>3</td>\n",
       "      <td>Allen, Mr. William Henry</td>\n",
       "      <td>male</td>\n",
       "      <td>35</td>\n",
       "      <td>0</td>\n",
       "      <td>0</td>\n",
       "      <td>373450</td>\n",
       "      <td>8.0500</td>\n",
       "      <td>NaN</td>\n",
       "      <td>S</td>\n",
       "    </tr>\n",
       "  </tbody>\n",
       "</table>\n",
       "</div>"
      ],
      "text/plain": [
       "   PassengerId  Survived  Pclass  \\\n",
       "0            1         0       3   \n",
       "1            2         1       1   \n",
       "2            3         1       3   \n",
       "3            4         1       1   \n",
       "4            5         0       3   \n",
       "\n",
       "                                                Name     Sex  Age  SibSp  \\\n",
       "0                            Braund, Mr. Owen Harris    male   22      1   \n",
       "1  Cumings, Mrs. John Bradley (Florence Briggs Th...  female   38      1   \n",
       "2                             Heikkinen, Miss. Laina  female   26      0   \n",
       "3       Futrelle, Mrs. Jacques Heath (Lily May Peel)  female   35      1   \n",
       "4                           Allen, Mr. William Henry    male   35      0   \n",
       "\n",
       "   Parch            Ticket     Fare Cabin Embarked  \n",
       "0      0         A/5 21171   7.2500   NaN        S  \n",
       "1      0          PC 17599  71.2833   C85        C  \n",
       "2      0  STON/O2. 3101282   7.9250   NaN        S  \n",
       "3      0            113803  53.1000  C123        S  \n",
       "4      0            373450   8.0500   NaN        S  "
      ]
     },
     "execution_count": 86,
     "metadata": {},
     "output_type": "execute_result"
    }
   ],
   "source": [
    "df_cleaned.head()"
   ]
  },
  {
   "cell_type": "markdown",
   "metadata": {
    "id": "x13aJuj4smo5"
   },
   "source": [
    "## Working with Series <a id=\"series\"></a>\n",
    "\n",
    "In Pandas, a Series is just a DataFrame with only one column. Unfortunately, this just presents a headache. There will be times when you do something which would work perfectly well with a DataFrame, but it will fail because you won't have realized that you only have one column and thus a Series!\n",
    "\n",
    "Up to this point we have gotten our data by loading it from a CSV file. However, it's sometimes helpful to just make some quick, fake data to deal with. The easiest way to do this is to use the Pandas command `DataFrame()` and give it a dictionary. The dictionary should have the keys being the column names, and the values being a list of whatever values should be in that column. Here is an example."
   ]
  },
  {
   "cell_type": "code",
   "execution_count": 87,
   "metadata": {
    "id": "kL8C8T-2smo5"
   },
   "outputs": [
    {
     "data": {
      "text/html": [
       "<div>\n",
       "<style scoped>\n",
       "    .dataframe tbody tr th:only-of-type {\n",
       "        vertical-align: middle;\n",
       "    }\n",
       "\n",
       "    .dataframe tbody tr th {\n",
       "        vertical-align: top;\n",
       "    }\n",
       "\n",
       "    .dataframe thead th {\n",
       "        text-align: right;\n",
       "    }\n",
       "</style>\n",
       "<table border=\"1\" class=\"dataframe\">\n",
       "  <thead>\n",
       "    <tr style=\"text-align: right;\">\n",
       "      <th></th>\n",
       "      <th>math_course_number</th>\n",
       "      <th>math_course_name</th>\n",
       "    </tr>\n",
       "  </thead>\n",
       "  <tbody>\n",
       "    <tr>\n",
       "      <th>0</th>\n",
       "      <td>2413</td>\n",
       "      <td>Calculus I</td>\n",
       "    </tr>\n",
       "    <tr>\n",
       "      <th>1</th>\n",
       "      <td>3320</td>\n",
       "      <td>Applied Statistics</td>\n",
       "    </tr>\n",
       "    <tr>\n",
       "      <th>2</th>\n",
       "      <td>3439</td>\n",
       "      <td>Introduction to Data Science</td>\n",
       "    </tr>\n",
       "  </tbody>\n",
       "</table>\n",
       "</div>"
      ],
      "text/plain": [
       "   math_course_number              math_course_name\n",
       "0                2413                    Calculus I\n",
       "1                3320            Applied Statistics\n",
       "2                3439  Introduction to Data Science"
      ]
     },
     "execution_count": 87,
     "metadata": {},
     "output_type": "execute_result"
    }
   ],
   "source": [
    "df = pd.DataFrame({'math_course_number': [2413, 3320, 3439],\n",
    "                  'math_course_name': ['Calculus I', 'Applied Statistics', 'Introduction to Data Science']})\n",
    "\n",
    "df"
   ]
  },
  {
   "cell_type": "markdown",
   "metadata": {
    "id": "_zIlMfkMsmo7"
   },
   "source": [
    "This is a DataFrame. You can tell because it looks like one (you'll see what a Series looks like in a second), or by using the `type()` Python function."
   ]
  },
  {
   "cell_type": "code",
   "execution_count": 88,
   "metadata": {
    "id": "X80PHyBBsmo7"
   },
   "outputs": [
    {
     "data": {
      "text/plain": [
       "pandas.core.frame.DataFrame"
      ]
     },
     "execution_count": 88,
     "metadata": {},
     "output_type": "execute_result"
    }
   ],
   "source": [
    "type(df)"
   ]
  },
  {
   "cell_type": "markdown",
   "metadata": {
    "id": "4O2lcRe5smo9"
   },
   "source": [
    "Now let's select just a single column and see what we get."
   ]
  },
  {
   "cell_type": "code",
   "execution_count": 89,
   "metadata": {
    "id": "DfPFKoUHsmo-"
   },
   "outputs": [
    {
     "data": {
      "text/plain": [
       "0    2413\n",
       "1    3320\n",
       "2    3439\n",
       "Name: math_course_number, dtype: int64"
      ]
     },
     "execution_count": 89,
     "metadata": {},
     "output_type": "execute_result"
    }
   ],
   "source": [
    "math_course_number = df['math_course_number']\n",
    "\n",
    "math_course_number"
   ]
  },
  {
   "cell_type": "markdown",
   "metadata": {
    "id": "cEmgNIIssmo_"
   },
   "source": [
    "This looks different! It doesn't have the nice pretty table-style look to it. That's because this isn't a DataFrame, it's a Series!"
   ]
  },
  {
   "cell_type": "code",
   "execution_count": 90,
   "metadata": {
    "id": "_009-bpIsmpA"
   },
   "outputs": [
    {
     "data": {
      "text/plain": [
       "pandas.core.series.Series"
      ]
     },
     "execution_count": 90,
     "metadata": {},
     "output_type": "execute_result"
    }
   ],
   "source": [
    "type(math_course_number)"
   ]
  },
  {
   "cell_type": "markdown",
   "metadata": {
    "id": "ayPK5q98smpB"
   },
   "source": [
    "Some things work just as well using a Series as it does a DataFrame. For example:"
   ]
  },
  {
   "cell_type": "code",
   "execution_count": 91,
   "metadata": {
    "id": "KlysUErWsmpB"
   },
   "outputs": [
    {
     "data": {
      "text/plain": [
       "0    2413\n",
       "1    3320\n",
       "2    3439\n",
       "Name: math_course_number, dtype: int64"
      ]
     },
     "execution_count": 91,
     "metadata": {},
     "output_type": "execute_result"
    }
   ],
   "source": [
    "math_course_number.head()"
   ]
  },
  {
   "cell_type": "code",
   "execution_count": 92,
   "metadata": {
    "id": "8PvbFLH9smpD"
   },
   "outputs": [
    {
     "data": {
      "text/plain": [
       "0    2414\n",
       "1    3321\n",
       "2    3440\n",
       "Name: math_course_number, dtype: int64"
      ]
     },
     "execution_count": 92,
     "metadata": {},
     "output_type": "execute_result"
    }
   ],
   "source": [
    "math_course_number + 1"
   ]
  },
  {
   "cell_type": "markdown",
   "metadata": {
    "id": "JX7s7qwDsmpE"
   },
   "source": [
    "However, some things don't!"
   ]
  },
  {
   "cell_type": "code",
   "execution_count": 93,
   "metadata": {
    "id": "tOz9raKZsmpE"
   },
   "outputs": [
    {
     "ename": "KeyError",
     "evalue": "'math_course_number'",
     "output_type": "error",
     "traceback": [
      "\u001b[0;31m---------------------------------------------------------------------------\u001b[0m",
      "\u001b[0;31mKeyError\u001b[0m                                  Traceback (most recent call last)",
      "\u001b[0;32m<ipython-input-93-a55044310104>\u001b[0m in \u001b[0;36m<module>\u001b[0;34m\u001b[0m\n\u001b[1;32m      1\u001b[0m \u001b[0;31m# An error is coming...\u001b[0m\u001b[0;34m\u001b[0m\u001b[0;34m\u001b[0m\u001b[0;34m\u001b[0m\u001b[0m\n\u001b[0;32m----> 2\u001b[0;31m \u001b[0mmath_course_number\u001b[0m\u001b[0;34m[\u001b[0m\u001b[0;34m'math_course_number'\u001b[0m\u001b[0;34m]\u001b[0m\u001b[0;34m\u001b[0m\u001b[0;34m\u001b[0m\u001b[0m\n\u001b[0m",
      "\u001b[0;32m~/.virtualenvs/jupyter/lib/python3.8/site-packages/pandas/core/series.py\u001b[0m in \u001b[0;36m__getitem__\u001b[0;34m(self, key)\u001b[0m\n\u001b[1;32m    880\u001b[0m \u001b[0;34m\u001b[0m\u001b[0m\n\u001b[1;32m    881\u001b[0m         \u001b[0;32melif\u001b[0m \u001b[0mkey_is_scalar\u001b[0m\u001b[0;34m:\u001b[0m\u001b[0;34m\u001b[0m\u001b[0;34m\u001b[0m\u001b[0m\n\u001b[0;32m--> 882\u001b[0;31m             \u001b[0;32mreturn\u001b[0m \u001b[0mself\u001b[0m\u001b[0;34m.\u001b[0m\u001b[0m_get_value\u001b[0m\u001b[0;34m(\u001b[0m\u001b[0mkey\u001b[0m\u001b[0;34m)\u001b[0m\u001b[0;34m\u001b[0m\u001b[0;34m\u001b[0m\u001b[0m\n\u001b[0m\u001b[1;32m    883\u001b[0m \u001b[0;34m\u001b[0m\u001b[0m\n\u001b[1;32m    884\u001b[0m         if (\n",
      "\u001b[0;32m~/.virtualenvs/jupyter/lib/python3.8/site-packages/pandas/core/series.py\u001b[0m in \u001b[0;36m_get_value\u001b[0;34m(self, label, takeable)\u001b[0m\n\u001b[1;32m    989\u001b[0m \u001b[0;34m\u001b[0m\u001b[0m\n\u001b[1;32m    990\u001b[0m         \u001b[0;31m# Similar to Index.get_value, but we do not fall back to positional\u001b[0m\u001b[0;34m\u001b[0m\u001b[0;34m\u001b[0m\u001b[0;34m\u001b[0m\u001b[0m\n\u001b[0;32m--> 991\u001b[0;31m         \u001b[0mloc\u001b[0m \u001b[0;34m=\u001b[0m \u001b[0mself\u001b[0m\u001b[0;34m.\u001b[0m\u001b[0mindex\u001b[0m\u001b[0;34m.\u001b[0m\u001b[0mget_loc\u001b[0m\u001b[0;34m(\u001b[0m\u001b[0mlabel\u001b[0m\u001b[0;34m)\u001b[0m\u001b[0;34m\u001b[0m\u001b[0;34m\u001b[0m\u001b[0m\n\u001b[0m\u001b[1;32m    992\u001b[0m         \u001b[0;32mreturn\u001b[0m \u001b[0mself\u001b[0m\u001b[0;34m.\u001b[0m\u001b[0mindex\u001b[0m\u001b[0;34m.\u001b[0m\u001b[0m_get_values_for_loc\u001b[0m\u001b[0;34m(\u001b[0m\u001b[0mself\u001b[0m\u001b[0;34m,\u001b[0m \u001b[0mloc\u001b[0m\u001b[0;34m,\u001b[0m \u001b[0mlabel\u001b[0m\u001b[0;34m)\u001b[0m\u001b[0;34m\u001b[0m\u001b[0;34m\u001b[0m\u001b[0m\n\u001b[1;32m    993\u001b[0m \u001b[0;34m\u001b[0m\u001b[0m\n",
      "\u001b[0;32m~/.virtualenvs/jupyter/lib/python3.8/site-packages/pandas/core/indexes/range.py\u001b[0m in \u001b[0;36mget_loc\u001b[0;34m(self, key, method, tolerance)\u001b[0m\n\u001b[1;32m    352\u001b[0m                 \u001b[0;32mexcept\u001b[0m \u001b[0mValueError\u001b[0m \u001b[0;32mas\u001b[0m \u001b[0merr\u001b[0m\u001b[0;34m:\u001b[0m\u001b[0;34m\u001b[0m\u001b[0;34m\u001b[0m\u001b[0m\n\u001b[1;32m    353\u001b[0m                     \u001b[0;32mraise\u001b[0m \u001b[0mKeyError\u001b[0m\u001b[0;34m(\u001b[0m\u001b[0mkey\u001b[0m\u001b[0;34m)\u001b[0m \u001b[0;32mfrom\u001b[0m \u001b[0merr\u001b[0m\u001b[0;34m\u001b[0m\u001b[0;34m\u001b[0m\u001b[0m\n\u001b[0;32m--> 354\u001b[0;31m             \u001b[0;32mraise\u001b[0m \u001b[0mKeyError\u001b[0m\u001b[0;34m(\u001b[0m\u001b[0mkey\u001b[0m\u001b[0;34m)\u001b[0m\u001b[0;34m\u001b[0m\u001b[0;34m\u001b[0m\u001b[0m\n\u001b[0m\u001b[1;32m    355\u001b[0m         \u001b[0;32mreturn\u001b[0m \u001b[0msuper\u001b[0m\u001b[0;34m(\u001b[0m\u001b[0;34m)\u001b[0m\u001b[0;34m.\u001b[0m\u001b[0mget_loc\u001b[0m\u001b[0;34m(\u001b[0m\u001b[0mkey\u001b[0m\u001b[0;34m,\u001b[0m \u001b[0mmethod\u001b[0m\u001b[0;34m=\u001b[0m\u001b[0mmethod\u001b[0m\u001b[0;34m,\u001b[0m \u001b[0mtolerance\u001b[0m\u001b[0;34m=\u001b[0m\u001b[0mtolerance\u001b[0m\u001b[0;34m)\u001b[0m\u001b[0;34m\u001b[0m\u001b[0;34m\u001b[0m\u001b[0m\n\u001b[1;32m    356\u001b[0m \u001b[0;34m\u001b[0m\u001b[0m\n",
      "\u001b[0;31mKeyError\u001b[0m: 'math_course_number'"
     ]
    }
   ],
   "source": [
    "# An error is coming...\n",
    "math_course_number['math_course_number']"
   ]
  },
  {
   "cell_type": "markdown",
   "metadata": {
    "id": "gmPdfmF-smpF"
   },
   "source": [
    "Series don't give the columns names, so you can't access them by name anymore. In general, it's often just easiest to convert a Series back to a DataFrame, then you are always working with the same objects. There are (at least) two ways to do this:\n",
    "1. Use the Pandas `.to_frame()` function\n",
    "2. Use the Pandas `.reset_index()` function\n",
    "\n",
    "These two do different things, so let's briefly talk about each.\n",
    "\n",
    "The `.to_frame()` method simply turns a Series into a DataFrame, that's it. Here's an example."
   ]
  },
  {
   "cell_type": "code",
   "execution_count": 94,
   "metadata": {
    "id": "v5_6N0DzsmpF"
   },
   "outputs": [
    {
     "data": {
      "text/html": [
       "<div>\n",
       "<style scoped>\n",
       "    .dataframe tbody tr th:only-of-type {\n",
       "        vertical-align: middle;\n",
       "    }\n",
       "\n",
       "    .dataframe tbody tr th {\n",
       "        vertical-align: top;\n",
       "    }\n",
       "\n",
       "    .dataframe thead th {\n",
       "        text-align: right;\n",
       "    }\n",
       "</style>\n",
       "<table border=\"1\" class=\"dataframe\">\n",
       "  <thead>\n",
       "    <tr style=\"text-align: right;\">\n",
       "      <th></th>\n",
       "      <th>math_course_number</th>\n",
       "    </tr>\n",
       "  </thead>\n",
       "  <tbody>\n",
       "    <tr>\n",
       "      <th>0</th>\n",
       "      <td>2413</td>\n",
       "    </tr>\n",
       "    <tr>\n",
       "      <th>1</th>\n",
       "      <td>3320</td>\n",
       "    </tr>\n",
       "    <tr>\n",
       "      <th>2</th>\n",
       "      <td>3439</td>\n",
       "    </tr>\n",
       "  </tbody>\n",
       "</table>\n",
       "</div>"
      ],
      "text/plain": [
       "   math_course_number\n",
       "0                2413\n",
       "1                3320\n",
       "2                3439"
      ]
     },
     "execution_count": 94,
     "metadata": {},
     "output_type": "execute_result"
    }
   ],
   "source": [
    "math_course_number_df = math_course_number.to_frame()\n",
    "\n",
    "math_course_number_df"
   ]
  },
  {
   "cell_type": "markdown",
   "metadata": {
    "id": "ZXkH2xTesmpG"
   },
   "source": [
    "Now it looks like (and is!) a DataFrame again!"
   ]
  },
  {
   "cell_type": "code",
   "execution_count": 95,
   "metadata": {
    "id": "ACgIYrWfsmpH"
   },
   "outputs": [
    {
     "data": {
      "text/plain": [
       "pandas.core.frame.DataFrame"
      ]
     },
     "execution_count": 95,
     "metadata": {},
     "output_type": "execute_result"
    }
   ],
   "source": [
    "type(math_course_number_df)"
   ]
  },
  {
   "cell_type": "markdown",
   "metadata": {
    "id": "7iCr5ZrRsmpI"
   },
   "source": [
    "The only option you have with `.to_frame()` is that you can specify the column name. If, instead of 'math_course_number' you wanted something else, you could do that."
   ]
  },
  {
   "cell_type": "code",
   "execution_count": 96,
   "metadata": {
    "id": "csLxODDYsmpI"
   },
   "outputs": [
    {
     "data": {
      "text/html": [
       "<div>\n",
       "<style scoped>\n",
       "    .dataframe tbody tr th:only-of-type {\n",
       "        vertical-align: middle;\n",
       "    }\n",
       "\n",
       "    .dataframe tbody tr th {\n",
       "        vertical-align: top;\n",
       "    }\n",
       "\n",
       "    .dataframe thead th {\n",
       "        text-align: right;\n",
       "    }\n",
       "</style>\n",
       "<table border=\"1\" class=\"dataframe\">\n",
       "  <thead>\n",
       "    <tr style=\"text-align: right;\">\n",
       "      <th></th>\n",
       "      <th>course_number</th>\n",
       "    </tr>\n",
       "  </thead>\n",
       "  <tbody>\n",
       "    <tr>\n",
       "      <th>0</th>\n",
       "      <td>2413</td>\n",
       "    </tr>\n",
       "    <tr>\n",
       "      <th>1</th>\n",
       "      <td>3320</td>\n",
       "    </tr>\n",
       "    <tr>\n",
       "      <th>2</th>\n",
       "      <td>3439</td>\n",
       "    </tr>\n",
       "  </tbody>\n",
       "</table>\n",
       "</div>"
      ],
      "text/plain": [
       "   course_number\n",
       "0           2413\n",
       "1           3320\n",
       "2           3439"
      ]
     },
     "execution_count": 96,
     "metadata": {},
     "output_type": "execute_result"
    }
   ],
   "source": [
    "math_course_number_df = math_course_number.to_frame(name='course_number')\n",
    "\n",
    "math_course_number_df"
   ]
  },
  {
   "cell_type": "markdown",
   "metadata": {
    "id": "m1hk4USNsmpJ"
   },
   "source": [
    "Now let's talk about `.reset_index()`. What this function does is it makes the index (the number on the left of the Series/DataFrame) become a new column. Here's an example:"
   ]
  },
  {
   "cell_type": "code",
   "execution_count": 97,
   "metadata": {
    "id": "F1Rfa7rgsmpK"
   },
   "outputs": [
    {
     "data": {
      "text/plain": [
       "0    2413\n",
       "1    3320\n",
       "2    3439\n",
       "Name: math_course_number, dtype: int64"
      ]
     },
     "execution_count": 97,
     "metadata": {},
     "output_type": "execute_result"
    }
   ],
   "source": [
    "math_course_number"
   ]
  },
  {
   "cell_type": "code",
   "execution_count": 98,
   "metadata": {
    "id": "My7-Y8n2smpL"
   },
   "outputs": [
    {
     "data": {
      "text/html": [
       "<div>\n",
       "<style scoped>\n",
       "    .dataframe tbody tr th:only-of-type {\n",
       "        vertical-align: middle;\n",
       "    }\n",
       "\n",
       "    .dataframe tbody tr th {\n",
       "        vertical-align: top;\n",
       "    }\n",
       "\n",
       "    .dataframe thead th {\n",
       "        text-align: right;\n",
       "    }\n",
       "</style>\n",
       "<table border=\"1\" class=\"dataframe\">\n",
       "  <thead>\n",
       "    <tr style=\"text-align: right;\">\n",
       "      <th></th>\n",
       "      <th>index</th>\n",
       "      <th>math_course_number</th>\n",
       "    </tr>\n",
       "  </thead>\n",
       "  <tbody>\n",
       "    <tr>\n",
       "      <th>0</th>\n",
       "      <td>0</td>\n",
       "      <td>2413</td>\n",
       "    </tr>\n",
       "    <tr>\n",
       "      <th>1</th>\n",
       "      <td>1</td>\n",
       "      <td>3320</td>\n",
       "    </tr>\n",
       "    <tr>\n",
       "      <th>2</th>\n",
       "      <td>2</td>\n",
       "      <td>3439</td>\n",
       "    </tr>\n",
       "  </tbody>\n",
       "</table>\n",
       "</div>"
      ],
      "text/plain": [
       "   index  math_course_number\n",
       "0      0                2413\n",
       "1      1                3320\n",
       "2      2                3439"
      ]
     },
     "execution_count": 98,
     "metadata": {},
     "output_type": "execute_result"
    }
   ],
   "source": [
    "math_course_number.reset_index()"
   ]
  },
  {
   "cell_type": "markdown",
   "metadata": {
    "id": "4XO1uUyJsmpM"
   },
   "source": [
    "You can see that we have a new column called \"index\" which has the numbers on the left. This can often be extremely useful. You will run into situations where you have an index having numbers you want to use, but since they're not a column you can't easily access them. In that case, use `.reset_index()` to make them into a column."
   ]
  },
  {
   "cell_type": "markdown",
   "metadata": {
    "id": "uryf91WssmpM"
   },
   "source": [
    "## Exercises\n",
    "\n",
    "While you can use these to get you started, really the best thing you can do is to just mess around with the data and come up with your own questions. Then start exploring those questions. Undoubtedly you will run into things you can't figure out. Just Google and see what you can come up with. Patience and perserverance are key!\n",
    "\n",
    "1. For each passenger class (`Pclass`), what are the cheapest, most expensive, mean and median prices?\n",
    "2. What is the average age for men and the average age for women?\n",
    "3. The `SibSp` column counts how many siblings and spouses are on board for that person (so if you and your sister on the ship together, then this would be 1, because you have one sibling or spouse). Create a new DataFrame containing only the people with a sibling or spouse on board.\n",
    "1. The cabin column is probably are not useful in any way, especially with so many missing values. Drop that column from the data (Google how to do it!).\n",
    "6. What patterns do you see about survival rates among passengers in different classes? We looked at just first-class passengers, but what about second and third class?\n",
    "7. We saw above that about 63% of first-class passengers survived, this is far better than for second or third class passengers. But can you do better? What about first-class females? Or second-class children? Can you find some subset of the people with a very strong survival rate? What about a high death rate?\n",
    "8. So far we've been asking about the relationship between just two variables: `Age` and `Survived`, `Embarked` and something else, etc. How would you go about exploring the relationship between *three or more* variables? Perhaps `Survived` is dependent on `Age`, `Fare`, `Sex`, `SibSp` and `Parch`. How could you explore this?\n",
    "9. We described \"missing data\" data with a `None` value. However, that's not the only way for data to be missing. An empty string `\"\"` would also be \"missing\". Finally, while data may not be missing per-se, it can still be a value you don't want, such as a `Sex` of \"unknown\". Checking each column to see if there are any values that you don't want. Did you find any?"
   ]
  },
  {
   "cell_type": "markdown",
   "metadata": {
    "id": "kYe_vUussmpM"
   },
   "source": [
    "## Resources\n",
    "\n",
    "Where are some places you can turn when you have questions? Google is obviously one of them, but here are some other sites I've found especially useful:\n",
    "\n",
    "- [Chris Albon](https://chrisalbon.com/#python) - He has very clear explanations for lots of different things. He pretty much always starts by creating a DataFrame from scratch, and then works through simple examples. A great first resource if Google isn't working for you.\n",
    "- [Machine Learning Mastery](https://machinelearningmastery.com/start-here/) - A site covering more advanced topics, but still in a very simple, readable format.\n",
    "- [Kaggle kernels](https://www.kaggle.com/kernels) - \"Kernels\" is Kaggle's word for Jupyter notebooks. They host notebooks on their website, and people will build them to accomplish various tasks, and then share them with the community. Many of them are like this notebook, where they're tutorials meant to take you from start-to-finish on a task. Less useful for answering a quick \"how do I...\" question, but highly useful for finding an introduction to a new topic."
   ]
  },
  {
   "cell_type": "code",
   "execution_count": null,
   "metadata": {},
   "outputs": [],
   "source": []
  },
  {
   "cell_type": "markdown",
   "metadata": {},
   "source": [
    "\n",
    "```{toctree}\n",
    ":hidden:\n",
    ":titlesonly:\n",
    "\n",
    "\n",
    "ch_02\n",
    "ch_03\n",
    "ch_04\n",
    "ch_05\n",
    "ch_06\n",
    "ch_07\n",
    "ch_08\n",
    "ch_09\n",
    "ch_10\n",
    "ch_11\n",
    "```\n"
   ]
  }
 ],
 "metadata": {
  "colab": {
   "collapsed_sections": [
    "qbVlEVbrsmmp",
    "SMgkw6uAsmmv",
    "ntbY5ZdGsmmv",
    "0CL1dZ5Gsmm9",
    "wHKtF5jysmnI",
    "DTnJgA4WsmnP",
    "oxXSW08-smnZ",
    "dc4Rlo_nsmnk",
    "Ciw-k_mdsmns",
    "W9Htxv7Vsmn_",
    "VdImFgpBsmoT",
    "z1Qh814YsmoT",
    "g5tqKDXPsmoV",
    "gKw1I4cksmoc",
    "uxpuKHcusmok",
    "x13aJuj4smo5",
    "uryf91WssmpM",
    "kYe_vUussmpM"
   ],
   "name": "ch_01.ipynb",
   "provenance": []
  },
  "kernelspec": {
   "display_name": "Python 3",
   "language": "python",
   "name": "python3"
  },
  "language_info": {
   "codemirror_mode": {
    "name": "ipython",
    "version": 3
   },
   "file_extension": ".py",
   "mimetype": "text/x-python",
   "name": "python",
   "nbconvert_exporter": "python",
   "pygments_lexer": "ipython3",
   "version": "3.8.5"
  }
 },
 "nbformat": 4,
 "nbformat_minor": 1
}