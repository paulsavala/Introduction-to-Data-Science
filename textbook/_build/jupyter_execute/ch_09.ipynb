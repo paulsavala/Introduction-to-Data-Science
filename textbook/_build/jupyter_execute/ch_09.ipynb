{
 "cells": [
  {
   "cell_type": "markdown",
   "metadata": {
    "id": "GI1NlLqm8bNc"
   },
   "source": [
    "# Improving your model\n",
    "\n",
    "At this point in the semester you've learned several models: linear regression, logistic regression, nearest neighbors and decision trees. Suppose you build a model and get your results. Is it possible to change your model in some way to improve the results? What can you try to accomplish? In this notebook we'll remind you of several techniques you have already learned, and introduce some new ones. We'll also work through an end-to-end example showing the data science lifecycle in action. "
   ]
  },
  {
   "cell_type": "markdown",
   "metadata": {
    "id": "Zi3vWllm8bNd"
   },
   "source": [
    "## Imports"
   ]
  },
  {
   "cell_type": "code",
   "execution_count": null,
   "metadata": {
    "id": "4_0JGqTo8bNe"
   },
   "outputs": [],
   "source": [
    "import pandas as pd\n",
    "import numpy as np\n",
    "\n",
    "from matplotlib import pyplot as plt\n",
    "\n",
    "from sklearn.model_selection import train_test_split, GridSearchCV\n",
    "from sklearn.preprocessing import LabelEncoder, normalize\n",
    "from sklearn.linear_model import LogisticRegression\n",
    "from sklearn.tree import DecisionTreeClassifier\n",
    "from sklearn.neighbors import KNeighborsClassifier\n",
    "from sklearn.metrics import classification_report, plot_confusion_matrix, confusion_matrix\n",
    "\n",
    "from scipy.stats import mode"
   ]
  },
  {
   "cell_type": "markdown",
   "metadata": {
    "id": "jMVUtUlV8bNh"
   },
   "source": [
    "## Loading data <a id=\"steps\"></a>\n",
    "\n",
    "For this project we'll be working with data on all commercial flights in January 2019. The data comes from a [Kaggle dataset](https://www.kaggle.com/divyansh22/flight-delay-prediction)."
   ]
  },
  {
   "cell_type": "code",
   "execution_count": null,
   "metadata": {
    "id": "uFP8M5_i8bNh"
   },
   "outputs": [],
   "source": [
    "df = pd.read_csv('data/flights_jan_2019.csv')"
   ]
  },
  {
   "cell_type": "code",
   "execution_count": null,
   "metadata": {
    "id": "uZ3TKJ8Q8bNk",
    "outputId": "7cbf4b71-2418-4895-fc9c-2e65a6f2dcfc"
   },
   "outputs": [
    {
     "data": {
      "text/html": [
       "<div>\n",
       "<style scoped>\n",
       "    .dataframe tbody tr th:only-of-type {\n",
       "        vertical-align: middle;\n",
       "    }\n",
       "\n",
       "    .dataframe tbody tr th {\n",
       "        vertical-align: top;\n",
       "    }\n",
       "\n",
       "    .dataframe thead th {\n",
       "        text-align: right;\n",
       "    }\n",
       "</style>\n",
       "<table border=\"1\" class=\"dataframe\">\n",
       "  <thead>\n",
       "    <tr style=\"text-align: right;\">\n",
       "      <th></th>\n",
       "      <th>DAY_OF_MONTH</th>\n",
       "      <th>DAY_OF_WEEK</th>\n",
       "      <th>OP_UNIQUE_CARRIER</th>\n",
       "      <th>OP_CARRIER_AIRLINE_ID</th>\n",
       "      <th>OP_CARRIER</th>\n",
       "      <th>TAIL_NUM</th>\n",
       "      <th>OP_CARRIER_FL_NUM</th>\n",
       "      <th>ORIGIN_AIRPORT_ID</th>\n",
       "      <th>ORIGIN_AIRPORT_SEQ_ID</th>\n",
       "      <th>ORIGIN</th>\n",
       "      <th>...</th>\n",
       "      <th>DEST</th>\n",
       "      <th>DEP_TIME</th>\n",
       "      <th>DEP_DEL15</th>\n",
       "      <th>DEP_TIME_BLK</th>\n",
       "      <th>ARR_TIME</th>\n",
       "      <th>ARR_DEL15</th>\n",
       "      <th>CANCELLED</th>\n",
       "      <th>DIVERTED</th>\n",
       "      <th>DISTANCE</th>\n",
       "      <th>Unnamed: 21</th>\n",
       "    </tr>\n",
       "  </thead>\n",
       "  <tbody>\n",
       "    <tr>\n",
       "      <th>0</th>\n",
       "      <td>1</td>\n",
       "      <td>2</td>\n",
       "      <td>9E</td>\n",
       "      <td>20363</td>\n",
       "      <td>9E</td>\n",
       "      <td>N8688C</td>\n",
       "      <td>3280</td>\n",
       "      <td>11953</td>\n",
       "      <td>1195302</td>\n",
       "      <td>GNV</td>\n",
       "      <td>...</td>\n",
       "      <td>ATL</td>\n",
       "      <td>601.0</td>\n",
       "      <td>0.0</td>\n",
       "      <td>0600-0659</td>\n",
       "      <td>722.0</td>\n",
       "      <td>0.0</td>\n",
       "      <td>0.0</td>\n",
       "      <td>0.0</td>\n",
       "      <td>300.0</td>\n",
       "      <td>NaN</td>\n",
       "    </tr>\n",
       "    <tr>\n",
       "      <th>1</th>\n",
       "      <td>1</td>\n",
       "      <td>2</td>\n",
       "      <td>9E</td>\n",
       "      <td>20363</td>\n",
       "      <td>9E</td>\n",
       "      <td>N348PQ</td>\n",
       "      <td>3281</td>\n",
       "      <td>13487</td>\n",
       "      <td>1348702</td>\n",
       "      <td>MSP</td>\n",
       "      <td>...</td>\n",
       "      <td>CVG</td>\n",
       "      <td>1359.0</td>\n",
       "      <td>0.0</td>\n",
       "      <td>1400-1459</td>\n",
       "      <td>1633.0</td>\n",
       "      <td>0.0</td>\n",
       "      <td>0.0</td>\n",
       "      <td>0.0</td>\n",
       "      <td>596.0</td>\n",
       "      <td>NaN</td>\n",
       "    </tr>\n",
       "    <tr>\n",
       "      <th>2</th>\n",
       "      <td>1</td>\n",
       "      <td>2</td>\n",
       "      <td>9E</td>\n",
       "      <td>20363</td>\n",
       "      <td>9E</td>\n",
       "      <td>N8896A</td>\n",
       "      <td>3282</td>\n",
       "      <td>11433</td>\n",
       "      <td>1143302</td>\n",
       "      <td>DTW</td>\n",
       "      <td>...</td>\n",
       "      <td>CVG</td>\n",
       "      <td>1215.0</td>\n",
       "      <td>0.0</td>\n",
       "      <td>1200-1259</td>\n",
       "      <td>1329.0</td>\n",
       "      <td>0.0</td>\n",
       "      <td>0.0</td>\n",
       "      <td>0.0</td>\n",
       "      <td>229.0</td>\n",
       "      <td>NaN</td>\n",
       "    </tr>\n",
       "    <tr>\n",
       "      <th>3</th>\n",
       "      <td>1</td>\n",
       "      <td>2</td>\n",
       "      <td>9E</td>\n",
       "      <td>20363</td>\n",
       "      <td>9E</td>\n",
       "      <td>N8886A</td>\n",
       "      <td>3283</td>\n",
       "      <td>15249</td>\n",
       "      <td>1524906</td>\n",
       "      <td>TLH</td>\n",
       "      <td>...</td>\n",
       "      <td>ATL</td>\n",
       "      <td>1521.0</td>\n",
       "      <td>0.0</td>\n",
       "      <td>1500-1559</td>\n",
       "      <td>1625.0</td>\n",
       "      <td>0.0</td>\n",
       "      <td>0.0</td>\n",
       "      <td>0.0</td>\n",
       "      <td>223.0</td>\n",
       "      <td>NaN</td>\n",
       "    </tr>\n",
       "    <tr>\n",
       "      <th>4</th>\n",
       "      <td>1</td>\n",
       "      <td>2</td>\n",
       "      <td>9E</td>\n",
       "      <td>20363</td>\n",
       "      <td>9E</td>\n",
       "      <td>N8974C</td>\n",
       "      <td>3284</td>\n",
       "      <td>10397</td>\n",
       "      <td>1039707</td>\n",
       "      <td>ATL</td>\n",
       "      <td>...</td>\n",
       "      <td>FSM</td>\n",
       "      <td>1847.0</td>\n",
       "      <td>0.0</td>\n",
       "      <td>1900-1959</td>\n",
       "      <td>1940.0</td>\n",
       "      <td>0.0</td>\n",
       "      <td>0.0</td>\n",
       "      <td>0.0</td>\n",
       "      <td>579.0</td>\n",
       "      <td>NaN</td>\n",
       "    </tr>\n",
       "  </tbody>\n",
       "</table>\n",
       "<p>5 rows × 22 columns</p>\n",
       "</div>"
      ],
      "text/plain": [
       "   DAY_OF_MONTH  DAY_OF_WEEK OP_UNIQUE_CARRIER  OP_CARRIER_AIRLINE_ID  \\\n",
       "0             1            2                9E                  20363   \n",
       "1             1            2                9E                  20363   \n",
       "2             1            2                9E                  20363   \n",
       "3             1            2                9E                  20363   \n",
       "4             1            2                9E                  20363   \n",
       "\n",
       "  OP_CARRIER TAIL_NUM  OP_CARRIER_FL_NUM  ORIGIN_AIRPORT_ID  \\\n",
       "0         9E   N8688C               3280              11953   \n",
       "1         9E   N348PQ               3281              13487   \n",
       "2         9E   N8896A               3282              11433   \n",
       "3         9E   N8886A               3283              15249   \n",
       "4         9E   N8974C               3284              10397   \n",
       "\n",
       "   ORIGIN_AIRPORT_SEQ_ID ORIGIN  ...  DEST  DEP_TIME DEP_DEL15  DEP_TIME_BLK  \\\n",
       "0                1195302    GNV  ...   ATL     601.0       0.0     0600-0659   \n",
       "1                1348702    MSP  ...   CVG    1359.0       0.0     1400-1459   \n",
       "2                1143302    DTW  ...   CVG    1215.0       0.0     1200-1259   \n",
       "3                1524906    TLH  ...   ATL    1521.0       0.0     1500-1559   \n",
       "4                1039707    ATL  ...   FSM    1847.0       0.0     1900-1959   \n",
       "\n",
       "   ARR_TIME ARR_DEL15  CANCELLED  DIVERTED  DISTANCE  Unnamed: 21  \n",
       "0     722.0       0.0        0.0       0.0     300.0          NaN  \n",
       "1    1633.0       0.0        0.0       0.0     596.0          NaN  \n",
       "2    1329.0       0.0        0.0       0.0     229.0          NaN  \n",
       "3    1625.0       0.0        0.0       0.0     223.0          NaN  \n",
       "4    1940.0       0.0        0.0       0.0     579.0          NaN  \n",
       "\n",
       "[5 rows x 22 columns]"
      ]
     },
     "execution_count": 5,
     "metadata": {
      "tags": []
     },
     "output_type": "execute_result"
    }
   ],
   "source": [
    "df.head()"
   ]
  },
  {
   "cell_type": "markdown",
   "metadata": {
    "id": "rob9h5tu8bNn"
   },
   "source": [
    "## Data preparation"
   ]
  },
  {
   "cell_type": "markdown",
   "metadata": {
    "id": "5BgOFQu_8bNn"
   },
   "source": [
    "We'll start by only selecting the columns we want. Some columns are reduncant, as they give the airport both as a number and as an abbreviation. Some are not especially useful, like the tail number on the airplane. You can see a description of each column at the link to the dataset above. We have a description of the columns we are keeping below."
   ]
  },
  {
   "cell_type": "code",
   "execution_count": null,
   "metadata": {
    "id": "ZeW922Ri8bNo",
    "outputId": "23393225-0461-4527-b982-fb55f65a8d35"
   },
   "outputs": [
    {
     "data": {
      "text/plain": [
       "Index(['DAY_OF_MONTH', 'DAY_OF_WEEK', 'OP_UNIQUE_CARRIER',\n",
       "       'OP_CARRIER_AIRLINE_ID', 'OP_CARRIER', 'TAIL_NUM', 'OP_CARRIER_FL_NUM',\n",
       "       'ORIGIN_AIRPORT_ID', 'ORIGIN_AIRPORT_SEQ_ID', 'ORIGIN',\n",
       "       'DEST_AIRPORT_ID', 'DEST_AIRPORT_SEQ_ID', 'DEST', 'DEP_TIME',\n",
       "       'DEP_DEL15', 'DEP_TIME_BLK', 'ARR_TIME', 'ARR_DEL15', 'CANCELLED',\n",
       "       'DIVERTED', 'DISTANCE', 'Unnamed: 21'],\n",
       "      dtype='object')"
      ]
     },
     "execution_count": 6,
     "metadata": {
      "tags": []
     },
     "output_type": "execute_result"
    }
   ],
   "source": [
    "df.columns"
   ]
  },
  {
   "cell_type": "code",
   "execution_count": null,
   "metadata": {
    "id": "phAD7b6c8bNr"
   },
   "outputs": [],
   "source": [
    "cols = ['DAY_OF_MONTH', 'DAY_OF_WEEK', 'OP_CARRIER_AIRLINE_ID', 'ORIGIN', 'DEST', 'DEP_TIME', 'DEP_DEL15', 'ARR_TIME', 'ARR_DEL15', 'CANCELLED', 'DIVERTED', 'DISTANCE']\n",
    "df = df[cols]"
   ]
  },
  {
   "cell_type": "markdown",
   "metadata": {
    "id": "Z0unTEij8bNt"
   },
   "source": [
    "Let's make the column names lowercase and do our usual check of missing values. We'll also rename the `op_carrier_airline_id` column to something simpler."
   ]
  },
  {
   "cell_type": "code",
   "execution_count": null,
   "metadata": {
    "id": "X4tlP5rS8bNt",
    "outputId": "16650191-4d60-4ded-effa-78d24a12e3b1"
   },
   "outputs": [
    {
     "name": "stdout",
     "output_type": "stream",
     "text": [
      "day_of_month: 0 missing (0.00%)\n",
      "day_of_week: 0 missing (0.00%)\n",
      "airline: 0 missing (0.00%)\n",
      "origin: 0 missing (0.00%)\n",
      "dest: 0 missing (0.00%)\n",
      "dep_time: 16352 missing (2.80%)\n",
      "dep_del15: 16355 missing (2.80%)\n",
      "arr_time: 17061 missing (2.92%)\n",
      "arr_del15: 18022 missing (3.09%)\n",
      "cancelled: 0 missing (0.00%)\n",
      "diverted: 0 missing (0.00%)\n",
      "distance: 0 missing (0.00%)\n"
     ]
    }
   ],
   "source": [
    "cleaned_cols = [c.lower() if c != 'OP_CARRIER_AIRLINE_ID' else 'airline' for c in df.columns]\n",
    "df.columns = cleaned_cols\n",
    "\n",
    "for col in df.columns:\n",
    "    missing_value_count = df[col].isna().sum()\n",
    "    missing_value_pct = missing_value_count / df.shape[0]\n",
    "    print(f'{col}: {missing_value_count} missing ({100*missing_value_pct:.2f}%)')"
   ]
  },
  {
   "cell_type": "markdown",
   "metadata": {
    "id": "fwnh3M5f8bNw"
   },
   "source": [
    "Here is a brief description of the columns we are keeping (or at least the ones which aren't self-explanatory):\n",
    "- **airline:** A unique identifier for the airline\n",
    "- **origin:** The airport the plane started at\n",
    "- **dest:** The airport the plane was headed to\n",
    "- **dep_time:** The actual departure time, in the format \"hhmm\"\n",
    "- **dep_del15:** Whether or not the flight departure was delayed by 15 minutes or more (0 = not delayed, 1 = delayed)\n",
    "- **arr_time:** The actual arrival time, in the format \"hhmm\"\n",
    "- **arr_del15:** Whether or not the flight arrival was delayed by 15 minutes or more\n",
    "- **cancelled:** Whether or not the flight was cancelled (0 = not cancelled, 1 = cancelled)\n",
    "- **diverted:** Whether or not the flight was diverted (told to change path, 0 = No, 1 = Yes)\n",
    "- **distance:** The distance between the airports in miles\n",
    "\n",
    "In this notebook we are interested in predicting whether or not a flight will be delayed upon arrival (will it arrive later than scheduled). Therefore, we will drop any rows which have missing values are the departure and arrival times/delays."
   ]
  },
  {
   "cell_type": "code",
   "execution_count": null,
   "metadata": {
    "id": "1iqiggK18bNw"
   },
   "outputs": [],
   "source": [
    "df = df.dropna(how='any')"
   ]
  },
  {
   "cell_type": "code",
   "execution_count": null,
   "metadata": {
    "id": "dMsNof2P8bNy",
    "outputId": "fe33f7eb-b0a6-4017-fe0e-023ea7aa3554"
   },
   "outputs": [
    {
     "name": "stdout",
     "output_type": "stream",
     "text": [
      "565963 rows remaining\n"
     ]
    }
   ],
   "source": [
    "print(f'{df.shape[0]} rows remaining')"
   ]
  },
  {
   "cell_type": "markdown",
   "metadata": {
    "id": "-Okl_vR58bN4"
   },
   "source": [
    "Let's check each column to make sure the data is what we expect it to be."
   ]
  },
  {
   "cell_type": "code",
   "execution_count": null,
   "metadata": {
    "id": "Aw4PCQPV8bN4",
    "outputId": "ac88055e-d01e-4cfd-8fff-50184098be12"
   },
   "outputs": [
    {
     "data": {
      "text/plain": [
       "day_of_month      int64\n",
       "day_of_week       int64\n",
       "airline           int64\n",
       "origin           object\n",
       "dest             object\n",
       "dep_time        float64\n",
       "dep_del15       float64\n",
       "arr_time        float64\n",
       "arr_del15       float64\n",
       "cancelled       float64\n",
       "diverted        float64\n",
       "distance        float64\n",
       "dtype: object"
      ]
     },
     "execution_count": 11,
     "metadata": {
      "tags": []
     },
     "output_type": "execute_result"
    }
   ],
   "source": [
    "df.dtypes"
   ]
  },
  {
   "cell_type": "markdown",
   "metadata": {
    "id": "vCU-Pq018bN6"
   },
   "source": [
    "These look good, except that the time columns (`dep_time` and `arr_time`) are of the form \"hhmm\", and we'd really like this to be simpler to work with. Let's just convert it to hours, so that \"1200\" becomes 12, and \"1430\" because 14.5 (since 30 minutes = 0.5 hours). Right now these are all stored as floats, which means getting the first two and last two digits is a bit tricky. What would be simpler is just to tell Pandas when loading this data that we want those columns to be strings. You can do this when running `read_csv()` by setting `dtype={'col_name': col_type}`. Rather than going through all this work again, we'll also tell Pandas to only load the subset of columns we want, using the `usecols=[first_col_number, second_col_number, ...]` parameter. You tell it which number column you want (they start at zero). Finally, we can specify `names=['col1_new_name', 'col2_new_name', ...]` to tell it what names we want to use."
   ]
  },
  {
   "cell_type": "code",
   "execution_count": null,
   "metadata": {
    "id": "TR01DSqP8bN6"
   },
   "outputs": [],
   "source": [
    "# Note that cols is the list of columns we want, which we defined earlier. cleaned_cols is the cleaned up column names we did earlier as well.\n",
    "df = pd.read_csv(drive_dir + 'data/flights_jan_2019.csv', \n",
    "                 usecols=cols,\n",
    "                 dtype={'DEP_TIME': str, 'ARR_TIME': str})\n",
    "\n",
    "df.columns = cleaned_cols\n",
    "\n",
    "df = df.dropna(how='any')"
   ]
  },
  {
   "cell_type": "code",
   "execution_count": null,
   "metadata": {
    "id": "KXPfP9sC8bN9",
    "outputId": "0e7458f1-aa9b-4e9d-b602-7e473110d9d2"
   },
   "outputs": [
    {
     "data": {
      "text/html": [
       "<div>\n",
       "<style scoped>\n",
       "    .dataframe tbody tr th:only-of-type {\n",
       "        vertical-align: middle;\n",
       "    }\n",
       "\n",
       "    .dataframe tbody tr th {\n",
       "        vertical-align: top;\n",
       "    }\n",
       "\n",
       "    .dataframe thead th {\n",
       "        text-align: right;\n",
       "    }\n",
       "</style>\n",
       "<table border=\"1\" class=\"dataframe\">\n",
       "  <thead>\n",
       "    <tr style=\"text-align: right;\">\n",
       "      <th></th>\n",
       "      <th>day_of_month</th>\n",
       "      <th>day_of_week</th>\n",
       "      <th>airline</th>\n",
       "      <th>origin</th>\n",
       "      <th>dest</th>\n",
       "      <th>dep_time</th>\n",
       "      <th>dep_del15</th>\n",
       "      <th>arr_time</th>\n",
       "      <th>arr_del15</th>\n",
       "      <th>cancelled</th>\n",
       "      <th>diverted</th>\n",
       "      <th>distance</th>\n",
       "    </tr>\n",
       "  </thead>\n",
       "  <tbody>\n",
       "    <tr>\n",
       "      <th>0</th>\n",
       "      <td>1</td>\n",
       "      <td>2</td>\n",
       "      <td>20363</td>\n",
       "      <td>GNV</td>\n",
       "      <td>ATL</td>\n",
       "      <td>0601</td>\n",
       "      <td>0.0</td>\n",
       "      <td>0722</td>\n",
       "      <td>0.0</td>\n",
       "      <td>0.0</td>\n",
       "      <td>0.0</td>\n",
       "      <td>300.0</td>\n",
       "    </tr>\n",
       "    <tr>\n",
       "      <th>1</th>\n",
       "      <td>1</td>\n",
       "      <td>2</td>\n",
       "      <td>20363</td>\n",
       "      <td>MSP</td>\n",
       "      <td>CVG</td>\n",
       "      <td>1359</td>\n",
       "      <td>0.0</td>\n",
       "      <td>1633</td>\n",
       "      <td>0.0</td>\n",
       "      <td>0.0</td>\n",
       "      <td>0.0</td>\n",
       "      <td>596.0</td>\n",
       "    </tr>\n",
       "    <tr>\n",
       "      <th>2</th>\n",
       "      <td>1</td>\n",
       "      <td>2</td>\n",
       "      <td>20363</td>\n",
       "      <td>DTW</td>\n",
       "      <td>CVG</td>\n",
       "      <td>1215</td>\n",
       "      <td>0.0</td>\n",
       "      <td>1329</td>\n",
       "      <td>0.0</td>\n",
       "      <td>0.0</td>\n",
       "      <td>0.0</td>\n",
       "      <td>229.0</td>\n",
       "    </tr>\n",
       "    <tr>\n",
       "      <th>3</th>\n",
       "      <td>1</td>\n",
       "      <td>2</td>\n",
       "      <td>20363</td>\n",
       "      <td>TLH</td>\n",
       "      <td>ATL</td>\n",
       "      <td>1521</td>\n",
       "      <td>0.0</td>\n",
       "      <td>1625</td>\n",
       "      <td>0.0</td>\n",
       "      <td>0.0</td>\n",
       "      <td>0.0</td>\n",
       "      <td>223.0</td>\n",
       "    </tr>\n",
       "    <tr>\n",
       "      <th>4</th>\n",
       "      <td>1</td>\n",
       "      <td>2</td>\n",
       "      <td>20363</td>\n",
       "      <td>ATL</td>\n",
       "      <td>FSM</td>\n",
       "      <td>1847</td>\n",
       "      <td>0.0</td>\n",
       "      <td>1940</td>\n",
       "      <td>0.0</td>\n",
       "      <td>0.0</td>\n",
       "      <td>0.0</td>\n",
       "      <td>579.0</td>\n",
       "    </tr>\n",
       "  </tbody>\n",
       "</table>\n",
       "</div>"
      ],
      "text/plain": [
       "   day_of_month  day_of_week  airline origin dest dep_time  dep_del15  \\\n",
       "0             1            2    20363    GNV  ATL     0601        0.0   \n",
       "1             1            2    20363    MSP  CVG     1359        0.0   \n",
       "2             1            2    20363    DTW  CVG     1215        0.0   \n",
       "3             1            2    20363    TLH  ATL     1521        0.0   \n",
       "4             1            2    20363    ATL  FSM     1847        0.0   \n",
       "\n",
       "  arr_time  arr_del15  cancelled  diverted  distance  \n",
       "0     0722        0.0        0.0       0.0     300.0  \n",
       "1     1633        0.0        0.0       0.0     596.0  \n",
       "2     1329        0.0        0.0       0.0     229.0  \n",
       "3     1625        0.0        0.0       0.0     223.0  \n",
       "4     1940        0.0        0.0       0.0     579.0  "
      ]
     },
     "execution_count": 13,
     "metadata": {
      "tags": []
     },
     "output_type": "execute_result"
    }
   ],
   "source": [
    "df.head()"
   ]
  },
  {
   "cell_type": "markdown",
   "metadata": {
    "id": "JjTDUh3B8bN_"
   },
   "source": [
    "That looks better. Let's now create the departure and arrival hour columns as described earlier. "
   ]
  },
  {
   "cell_type": "code",
   "execution_count": null,
   "metadata": {
    "id": "Nun1xmz88bN_"
   },
   "outputs": [],
   "source": [
    "def hhmm_to_hour(hhmm):\n",
    "    # Get the first two characters\n",
    "    hh = hhmm[:2]\n",
    "    # Get the last two characters\n",
    "    mm = hhmm[2:]\n",
    "    # Turn them into integeres\n",
    "    hh = int(hh)\n",
    "    mm = int(mm)\n",
    "    # Math\n",
    "    hour = hh + mm/60\n",
    "    return hour"
   ]
  },
  {
   "cell_type": "code",
   "execution_count": null,
   "metadata": {
    "id": "4cpZUuid8bOC",
    "outputId": "9e86f1d4-ee64-4d7f-9daf-b34ace4ea49f"
   },
   "outputs": [
    {
     "data": {
      "text/plain": [
       "14.5"
      ]
     },
     "execution_count": 15,
     "metadata": {
      "tags": []
     },
     "output_type": "execute_result"
    }
   ],
   "source": [
    "# Testing it out\n",
    "hhmm_to_hour('1430')"
   ]
  },
  {
   "cell_type": "code",
   "execution_count": null,
   "metadata": {
    "id": "cmjjABG98bOE"
   },
   "outputs": [],
   "source": [
    "df['dep_hour'] = df['dep_time'].apply(hhmm_to_hour)\n",
    "df['arr_hour'] = df['arr_time'].apply(hhmm_to_hour)"
   ]
  },
  {
   "cell_type": "code",
   "execution_count": null,
   "metadata": {
    "id": "IZd-R7PD8bOG"
   },
   "outputs": [],
   "source": [
    "df = df.drop(['dep_time', 'arr_time'], axis='columns')"
   ]
  },
  {
   "cell_type": "code",
   "execution_count": null,
   "metadata": {
    "id": "KtMaGEkS8bOI",
    "outputId": "fbcddb77-947b-4aa6-f42a-973990c1a0a6"
   },
   "outputs": [
    {
     "data": {
      "text/html": [
       "<div>\n",
       "<style scoped>\n",
       "    .dataframe tbody tr th:only-of-type {\n",
       "        vertical-align: middle;\n",
       "    }\n",
       "\n",
       "    .dataframe tbody tr th {\n",
       "        vertical-align: top;\n",
       "    }\n",
       "\n",
       "    .dataframe thead th {\n",
       "        text-align: right;\n",
       "    }\n",
       "</style>\n",
       "<table border=\"1\" class=\"dataframe\">\n",
       "  <thead>\n",
       "    <tr style=\"text-align: right;\">\n",
       "      <th></th>\n",
       "      <th>day_of_month</th>\n",
       "      <th>day_of_week</th>\n",
       "      <th>airline</th>\n",
       "      <th>origin</th>\n",
       "      <th>dest</th>\n",
       "      <th>dep_del15</th>\n",
       "      <th>arr_del15</th>\n",
       "      <th>cancelled</th>\n",
       "      <th>diverted</th>\n",
       "      <th>distance</th>\n",
       "      <th>dep_hour</th>\n",
       "      <th>arr_hour</th>\n",
       "    </tr>\n",
       "  </thead>\n",
       "  <tbody>\n",
       "    <tr>\n",
       "      <th>0</th>\n",
       "      <td>1</td>\n",
       "      <td>2</td>\n",
       "      <td>20363</td>\n",
       "      <td>GNV</td>\n",
       "      <td>ATL</td>\n",
       "      <td>0.0</td>\n",
       "      <td>0.0</td>\n",
       "      <td>0.0</td>\n",
       "      <td>0.0</td>\n",
       "      <td>300.0</td>\n",
       "      <td>6.016667</td>\n",
       "      <td>7.366667</td>\n",
       "    </tr>\n",
       "    <tr>\n",
       "      <th>1</th>\n",
       "      <td>1</td>\n",
       "      <td>2</td>\n",
       "      <td>20363</td>\n",
       "      <td>MSP</td>\n",
       "      <td>CVG</td>\n",
       "      <td>0.0</td>\n",
       "      <td>0.0</td>\n",
       "      <td>0.0</td>\n",
       "      <td>0.0</td>\n",
       "      <td>596.0</td>\n",
       "      <td>13.983333</td>\n",
       "      <td>16.550000</td>\n",
       "    </tr>\n",
       "    <tr>\n",
       "      <th>2</th>\n",
       "      <td>1</td>\n",
       "      <td>2</td>\n",
       "      <td>20363</td>\n",
       "      <td>DTW</td>\n",
       "      <td>CVG</td>\n",
       "      <td>0.0</td>\n",
       "      <td>0.0</td>\n",
       "      <td>0.0</td>\n",
       "      <td>0.0</td>\n",
       "      <td>229.0</td>\n",
       "      <td>12.250000</td>\n",
       "      <td>13.483333</td>\n",
       "    </tr>\n",
       "    <tr>\n",
       "      <th>3</th>\n",
       "      <td>1</td>\n",
       "      <td>2</td>\n",
       "      <td>20363</td>\n",
       "      <td>TLH</td>\n",
       "      <td>ATL</td>\n",
       "      <td>0.0</td>\n",
       "      <td>0.0</td>\n",
       "      <td>0.0</td>\n",
       "      <td>0.0</td>\n",
       "      <td>223.0</td>\n",
       "      <td>15.350000</td>\n",
       "      <td>16.416667</td>\n",
       "    </tr>\n",
       "    <tr>\n",
       "      <th>4</th>\n",
       "      <td>1</td>\n",
       "      <td>2</td>\n",
       "      <td>20363</td>\n",
       "      <td>ATL</td>\n",
       "      <td>FSM</td>\n",
       "      <td>0.0</td>\n",
       "      <td>0.0</td>\n",
       "      <td>0.0</td>\n",
       "      <td>0.0</td>\n",
       "      <td>579.0</td>\n",
       "      <td>18.783333</td>\n",
       "      <td>19.666667</td>\n",
       "    </tr>\n",
       "  </tbody>\n",
       "</table>\n",
       "</div>"
      ],
      "text/plain": [
       "   day_of_month  day_of_week  airline origin dest  dep_del15  arr_del15  \\\n",
       "0             1            2    20363    GNV  ATL        0.0        0.0   \n",
       "1             1            2    20363    MSP  CVG        0.0        0.0   \n",
       "2             1            2    20363    DTW  CVG        0.0        0.0   \n",
       "3             1            2    20363    TLH  ATL        0.0        0.0   \n",
       "4             1            2    20363    ATL  FSM        0.0        0.0   \n",
       "\n",
       "   cancelled  diverted  distance   dep_hour   arr_hour  \n",
       "0        0.0       0.0     300.0   6.016667   7.366667  \n",
       "1        0.0       0.0     596.0  13.983333  16.550000  \n",
       "2        0.0       0.0     229.0  12.250000  13.483333  \n",
       "3        0.0       0.0     223.0  15.350000  16.416667  \n",
       "4        0.0       0.0     579.0  18.783333  19.666667  "
      ]
     },
     "execution_count": 18,
     "metadata": {
      "tags": []
     },
     "output_type": "execute_result"
    }
   ],
   "source": [
    "df.head()"
   ]
  },
  {
   "cell_type": "markdown",
   "metadata": {
    "id": "ERU4JDwY8bOK"
   },
   "source": [
    "As mentioned above, we want to build a model to predict whether or not a flight will be delayed upon arrival. With that in mind, let's start exploring the data."
   ]
  },
  {
   "cell_type": "markdown",
   "metadata": {
    "id": "eFnUFyaa8bOK"
   },
   "source": [
    "Finally, we'll need to work with numbers for our models, so let's label encode the origin and destination airports."
   ]
  },
  {
   "cell_type": "code",
   "execution_count": null,
   "metadata": {
    "id": "o9DVW_zj8bOL"
   },
   "outputs": [],
   "source": [
    "origin_le = LabelEncoder()\n",
    "df['origin'] = origin_le.fit_transform(df['origin'])\n",
    "\n",
    "dest_le = LabelEncoder()\n",
    "df['dest'] = dest_le.fit_transform(df['dest'])"
   ]
  },
  {
   "cell_type": "code",
   "execution_count": null,
   "metadata": {
    "id": "YGjkZaFY8bON",
    "outputId": "bebbe80a-54c2-414a-9330-18068b9645a4"
   },
   "outputs": [
    {
     "data": {
      "text/html": [
       "<div>\n",
       "<style scoped>\n",
       "    .dataframe tbody tr th:only-of-type {\n",
       "        vertical-align: middle;\n",
       "    }\n",
       "\n",
       "    .dataframe tbody tr th {\n",
       "        vertical-align: top;\n",
       "    }\n",
       "\n",
       "    .dataframe thead th {\n",
       "        text-align: right;\n",
       "    }\n",
       "</style>\n",
       "<table border=\"1\" class=\"dataframe\">\n",
       "  <thead>\n",
       "    <tr style=\"text-align: right;\">\n",
       "      <th></th>\n",
       "      <th>day_of_month</th>\n",
       "      <th>day_of_week</th>\n",
       "      <th>airline</th>\n",
       "      <th>origin</th>\n",
       "      <th>dest</th>\n",
       "      <th>dep_del15</th>\n",
       "      <th>arr_del15</th>\n",
       "      <th>cancelled</th>\n",
       "      <th>diverted</th>\n",
       "      <th>distance</th>\n",
       "      <th>dep_hour</th>\n",
       "      <th>arr_hour</th>\n",
       "    </tr>\n",
       "  </thead>\n",
       "  <tbody>\n",
       "    <tr>\n",
       "      <th>0</th>\n",
       "      <td>1</td>\n",
       "      <td>2</td>\n",
       "      <td>20363</td>\n",
       "      <td>128</td>\n",
       "      <td>19</td>\n",
       "      <td>0.0</td>\n",
       "      <td>0.0</td>\n",
       "      <td>0.0</td>\n",
       "      <td>0.0</td>\n",
       "      <td>300.0</td>\n",
       "      <td>6.016667</td>\n",
       "      <td>7.366667</td>\n",
       "    </tr>\n",
       "    <tr>\n",
       "      <th>1</th>\n",
       "      <td>1</td>\n",
       "      <td>2</td>\n",
       "      <td>20363</td>\n",
       "      <td>225</td>\n",
       "      <td>80</td>\n",
       "      <td>0.0</td>\n",
       "      <td>0.0</td>\n",
       "      <td>0.0</td>\n",
       "      <td>0.0</td>\n",
       "      <td>596.0</td>\n",
       "      <td>13.983333</td>\n",
       "      <td>16.550000</td>\n",
       "    </tr>\n",
       "    <tr>\n",
       "      <th>2</th>\n",
       "      <td>1</td>\n",
       "      <td>2</td>\n",
       "      <td>20363</td>\n",
       "      <td>95</td>\n",
       "      <td>80</td>\n",
       "      <td>0.0</td>\n",
       "      <td>0.0</td>\n",
       "      <td>0.0</td>\n",
       "      <td>0.0</td>\n",
       "      <td>229.0</td>\n",
       "      <td>12.250000</td>\n",
       "      <td>13.483333</td>\n",
       "    </tr>\n",
       "    <tr>\n",
       "      <th>3</th>\n",
       "      <td>1</td>\n",
       "      <td>2</td>\n",
       "      <td>20363</td>\n",
       "      <td>325</td>\n",
       "      <td>19</td>\n",
       "      <td>0.0</td>\n",
       "      <td>0.0</td>\n",
       "      <td>0.0</td>\n",
       "      <td>0.0</td>\n",
       "      <td>223.0</td>\n",
       "      <td>15.350000</td>\n",
       "      <td>16.416667</td>\n",
       "    </tr>\n",
       "    <tr>\n",
       "      <th>4</th>\n",
       "      <td>1</td>\n",
       "      <td>2</td>\n",
       "      <td>20363</td>\n",
       "      <td>19</td>\n",
       "      <td>120</td>\n",
       "      <td>0.0</td>\n",
       "      <td>0.0</td>\n",
       "      <td>0.0</td>\n",
       "      <td>0.0</td>\n",
       "      <td>579.0</td>\n",
       "      <td>18.783333</td>\n",
       "      <td>19.666667</td>\n",
       "    </tr>\n",
       "  </tbody>\n",
       "</table>\n",
       "</div>"
      ],
      "text/plain": [
       "   day_of_month  day_of_week  airline  origin  dest  dep_del15  arr_del15  \\\n",
       "0             1            2    20363     128    19        0.0        0.0   \n",
       "1             1            2    20363     225    80        0.0        0.0   \n",
       "2             1            2    20363      95    80        0.0        0.0   \n",
       "3             1            2    20363     325    19        0.0        0.0   \n",
       "4             1            2    20363      19   120        0.0        0.0   \n",
       "\n",
       "   cancelled  diverted  distance   dep_hour   arr_hour  \n",
       "0        0.0       0.0     300.0   6.016667   7.366667  \n",
       "1        0.0       0.0     596.0  13.983333  16.550000  \n",
       "2        0.0       0.0     229.0  12.250000  13.483333  \n",
       "3        0.0       0.0     223.0  15.350000  16.416667  \n",
       "4        0.0       0.0     579.0  18.783333  19.666667  "
      ]
     },
     "execution_count": 20,
     "metadata": {
      "tags": []
     },
     "output_type": "execute_result"
    }
   ],
   "source": [
    "df.head()"
   ]
  },
  {
   "cell_type": "markdown",
   "metadata": {
    "id": "p9IZFHdo8bOO"
   },
   "source": [
    "Finally, we will use this data again next week, so let's save a copy of the cleaned up version."
   ]
  },
  {
   "cell_type": "code",
   "execution_count": null,
   "metadata": {
    "id": "oHHhi-qp8bOP"
   },
   "outputs": [],
   "source": [
    "df.to_csv('../data/flights_jan_2019_cleaned.csv', index=False)"
   ]
  },
  {
   "cell_type": "markdown",
   "metadata": {
    "id": "bYzvyEpm8bOQ"
   },
   "source": [
    "## Data exploration"
   ]
  },
  {
   "cell_type": "markdown",
   "metadata": {
    "id": "D-rxxIE38bOR"
   },
   "source": [
    "Since the goal is to understand flight delays, let's start by looking at the flights that are delayed. First, how many of them are there?"
   ]
  },
  {
   "cell_type": "code",
   "execution_count": null,
   "metadata": {
    "id": "xE1GDVnC8bOR",
    "outputId": "585b9c9a-33f8-43ac-ef4f-1a86c48a742b"
   },
   "outputs": [
    {
     "data": {
      "text/plain": [
       "0.0    0.814083\n",
       "1.0    0.185917\n",
       "Name: arr_del15, dtype: float64"
      ]
     },
     "execution_count": 21,
     "metadata": {
      "tags": []
     },
     "output_type": "execute_result"
    }
   ],
   "source": [
    "df['arr_del15'].value_counts(normalize=True)"
   ]
  },
  {
   "cell_type": "markdown",
   "metadata": {
    "id": "OxgqcIaQ8bOT"
   },
   "source": [
    "We only care about those that are delayed upon arrival, but let's also check out the departures."
   ]
  },
  {
   "cell_type": "code",
   "execution_count": null,
   "metadata": {
    "id": "jxsdSqbU8bOT",
    "outputId": "239fda32-0147-42f1-85bb-316ee75a658d"
   },
   "outputs": [
    {
     "data": {
      "text/plain": [
       "0.0    0.826305\n",
       "1.0    0.173695\n",
       "Name: dep_del15, dtype: float64"
      ]
     },
     "execution_count": 22,
     "metadata": {
      "tags": []
     },
     "output_type": "execute_result"
    }
   ],
   "source": [
    "df['dep_del15'].value_counts(normalize=True)"
   ]
  },
  {
   "cell_type": "markdown",
   "metadata": {
    "id": "zehxFvaO8bOV"
   },
   "source": [
    "Almost identical. How many flights have a delayed arrival but *not* a delayed departure (or vice-versa)?"
   ]
  },
  {
   "cell_type": "code",
   "execution_count": null,
   "metadata": {
    "id": "cIYDezsj8bOW",
    "outputId": "bda080e8-cfa5-435a-f767-839ac68b0714"
   },
   "outputs": [
    {
     "data": {
      "text/plain": [
       "1.0    0.796379\n",
       "0.0    0.203621\n",
       "Name: arr_del15, dtype: float64"
      ]
     },
     "execution_count": 23,
     "metadata": {
      "tags": []
     },
     "output_type": "execute_result"
    }
   ],
   "source": [
    "dep_del15_df = df[df['dep_del15'] == 1]\n",
    "dep_del15_df['arr_del15'].value_counts(normalize=True)"
   ]
  },
  {
   "cell_type": "markdown",
   "metadata": {
    "id": "Q-K0hZOj8bOY"
   },
   "source": [
    "So of those flights with a delayed departure, almost 80% of them also have a delayed arrival. Let's now do vice-versa."
   ]
  },
  {
   "cell_type": "code",
   "execution_count": null,
   "metadata": {
    "id": "2_FcL_098bOY",
    "outputId": "be074063-cb6e-488f-e86d-9ef723a0c49e"
   },
   "outputs": [
    {
     "data": {
      "text/plain": [
       "1.0    0.744027\n",
       "0.0    0.255973\n",
       "Name: dep_del15, dtype: float64"
      ]
     },
     "execution_count": 24,
     "metadata": {
      "tags": []
     },
     "output_type": "execute_result"
    }
   ],
   "source": [
    "arr_del15_df = df[df['arr_del15'] == 1]\n",
    "arr_del15_df['dep_del15'].value_counts(normalize=True)"
   ]
  },
  {
   "cell_type": "markdown",
   "metadata": {
    "id": "VibpFpOB8bOa"
   },
   "source": [
    "Of those with a delayed arrival, about 74% of them had a delayed departure. So (not surprisingly) when predicting whether or not the arrival will be delayed, looking at whether or not the departure is delayed is highly relevant.\n",
    "\n",
    "Next, we see that about 18.6% of flights have a delayed arrival. Let's go through each day of the month and see if one tends to have a much higher or lower rate than that. We'll do this using `groupby`. We'll add up the delayed arrivals for each day of the month using `.sum()`. Since `arr_del15` is either 0 or 1, adding it up will count how many delays there are. To get this as a percentage we'll divide by the `.count()` of how many flights arrived on that day of the month."
   ]
  },
  {
   "cell_type": "code",
   "execution_count": null,
   "metadata": {
    "id": "H5lopT8u8bOb",
    "outputId": "0ad2c712-8ecb-4fad-9a7d-d75d516ab043"
   },
   "outputs": [
    {
     "data": {
      "text/plain": [
       "day_of_month\n",
       "1     0.215423\n",
       "2     0.257957\n",
       "3     0.186185\n",
       "4     0.127087\n",
       "5     0.160788\n",
       "6     0.198471\n",
       "7     0.151579\n",
       "8     0.101620\n",
       "9     0.103387\n",
       "10    0.143248\n",
       "11    0.160589\n",
       "12    0.150572\n",
       "13    0.162158\n",
       "14    0.151467\n",
       "15    0.154934\n",
       "16    0.129132\n",
       "17    0.200223\n",
       "18    0.219003\n",
       "19    0.201091\n",
       "20    0.210049\n",
       "21    0.269010\n",
       "22    0.225870\n",
       "23    0.272890\n",
       "24    0.311952\n",
       "25    0.226672\n",
       "26    0.133417\n",
       "27    0.188134\n",
       "28    0.178465\n",
       "29    0.145864\n",
       "30    0.204032\n",
       "31    0.208535\n",
       "Name: arr_del15, dtype: float64"
      ]
     },
     "execution_count": 25,
     "metadata": {
      "tags": []
     },
     "output_type": "execute_result"
    }
   ],
   "source": [
    "df.groupby('day_of_month')['arr_del15'].sum() / df.groupby('day_of_month')['arr_del15'].count()"
   ]
  },
  {
   "cell_type": "markdown",
   "metadata": {
    "id": "zGtv5nVG8bOc"
   },
   "source": [
    "It looks like there are a few days of the month with especially high/low delays, such as days 8 and 9 with only 10%, and day 24 with 31%. So maybe this column will be useful for our model. Let's do the same for `day_of_week`, `airline`, `origin` and `dest`."
   ]
  },
  {
   "cell_type": "code",
   "execution_count": null,
   "metadata": {
    "id": "zU-SgZDj8bOd",
    "outputId": "c0dfa86d-63dc-4412-af5a-005eb7368af6"
   },
   "outputs": [
    {
     "name": "stdout",
     "output_type": "stream",
     "text": [
      "day_of_week\n",
      "1    0.186837\n",
      "2    0.167916\n",
      "3    0.193716\n",
      "4    0.209893\n",
      "5    0.183462\n",
      "6    0.160310\n",
      "7    0.189246\n",
      "Name: arr_del15, dtype: float64\n",
      "========================================\n",
      "airline\n",
      "19393    0.150240\n",
      "19690    0.125424\n",
      "19790    0.128101\n",
      "19805    0.182353\n",
      "19930    0.173530\n",
      "19977    0.198500\n",
      "20304    0.227036\n",
      "20363    0.202462\n",
      "20366    0.247705\n",
      "20368    0.258142\n",
      "20378    0.185653\n",
      "20397    0.155349\n",
      "20398    0.246478\n",
      "20409    0.274802\n",
      "20416    0.158771\n",
      "20436    0.248894\n",
      "20452    0.238675\n",
      "Name: arr_del15, dtype: float64\n",
      "========================================\n",
      "origin\n",
      "0      0.202492\n",
      "1      0.190476\n",
      "2      0.128326\n",
      "3      0.133333\n",
      "4      0.084337\n",
      "         ...   \n",
      "341    0.131148\n",
      "342    0.214286\n",
      "343    0.200593\n",
      "344    0.160000\n",
      "345    0.078261\n",
      "Name: arr_del15, Length: 346, dtype: float64\n",
      "========================================\n",
      "dest\n",
      "0      0.197531\n",
      "1      0.142857\n",
      "2      0.144028\n",
      "3      0.150000\n",
      "4      0.120482\n",
      "         ...   \n",
      "341    0.171488\n",
      "342    0.222222\n",
      "343    0.176355\n",
      "344    0.264151\n",
      "345    0.139130\n",
      "Name: arr_del15, Length: 346, dtype: float64\n",
      "========================================\n"
     ]
    }
   ],
   "source": [
    "groupby_cols = ['day_of_week', 'airline', 'origin', 'dest']\n",
    "\n",
    "for c in groupby_cols:\n",
    "    print(df.groupby(c)['arr_del15'].sum() / df.groupby(c)['arr_del15'].count())\n",
    "    print('='*40)"
   ]
  },
  {
   "cell_type": "markdown",
   "metadata": {
    "id": "z1HfNQ6N8bOe"
   },
   "source": [
    "Once again, these all seem useful. There's certainly many more questions we could explore, but let's start building our model and see how it performs. Then, based on the results we can go back and try to answer some questions that our model doesn't seem to understand."
   ]
  },
  {
   "cell_type": "markdown",
   "metadata": {
    "id": "tKIFMjs-8bOf"
   },
   "source": [
    "## Model building"
   ]
  },
  {
   "cell_type": "markdown",
   "metadata": {
    "id": "Zrh6VGk58bOf"
   },
   "source": [
    "As always we'll start by doing a train-test split. One thing which is good practice with imbalanced data is to split in a *stratified* way. By **stratified** we mean that the percentage of rows for the column you are trying to predict is approximately the same in the training and test sets. So for example, if 10% of the flights are delayed in the training set, then we also want approximately 10% of the flights to be delayed in the test set."
   ]
  },
  {
   "cell_type": "code",
   "execution_count": null,
   "metadata": {
    "id": "-hkxbpqe8bOf"
   },
   "outputs": [],
   "source": [
    "train_df, test_df = train_test_split(df, test_size=0.4, stratify=df['arr_del15'])"
   ]
  },
  {
   "cell_type": "code",
   "execution_count": null,
   "metadata": {
    "id": "gDyeUlrK8bOh",
    "outputId": "244bee58-ab18-44bb-eba7-60a1dfa5a6fc"
   },
   "outputs": [
    {
     "data": {
      "text/plain": [
       "0.0    0.814083\n",
       "1.0    0.185917\n",
       "Name: arr_del15, dtype: float64"
      ]
     },
     "execution_count": 28,
     "metadata": {
      "tags": []
     },
     "output_type": "execute_result"
    }
   ],
   "source": [
    "train_df['arr_del15'].value_counts(normalize=True)"
   ]
  },
  {
   "cell_type": "code",
   "execution_count": null,
   "metadata": {
    "id": "Q05G25Nz8bOj",
    "outputId": "2e190453-2861-43f2-8d9c-42d1185d19ab"
   },
   "outputs": [
    {
     "data": {
      "text/plain": [
       "0.0    0.814083\n",
       "1.0    0.185917\n",
       "Name: arr_del15, dtype: float64"
      ]
     },
     "execution_count": 29,
     "metadata": {
      "tags": []
     },
     "output_type": "execute_result"
    }
   ],
   "source": [
    "test_df['arr_del15'].value_counts(normalize=True)"
   ]
  },
  {
   "cell_type": "markdown",
   "metadata": {
    "id": "kt1hTxAj8bOk"
   },
   "source": [
    "You can see that both sets have 18.6% of the arrivals being delayed.\n",
    "\n",
    "Let's split the data into X and y. Since some models can only use continuous values, we'll separate out the columns by type to make it easier to handle."
   ]
  },
  {
   "cell_type": "code",
   "execution_count": null,
   "metadata": {
    "id": "lErBNpV58bOl"
   },
   "outputs": [],
   "source": [
    "y_col = 'arr_del15'\n",
    "\n",
    "X_cont_cols = ['day_of_month', 'distance', 'dep_hour', 'arr_hour']\n",
    "X_cat_cols = ['day_of_week', 'airline', 'origin', 'dest', 'cancelled', 'diverted', 'dep_del15']\n",
    "X_all_cols = X_cont_cols + X_cat_cols\n",
    "\n",
    "X_train_cont = train_df[X_cont_cols]\n",
    "X_train_cat = train_df[X_cat_cols]\n",
    "X_train_all = train_df[X_all_cols]\n",
    "\n",
    "X_test_cont = test_df[X_cont_cols]\n",
    "X_test_cat = test_df[X_cat_cols]\n",
    "X_test_all = test_df[X_all_cols]\n",
    "\n",
    "y_train = train_df[y_col]\n",
    "y_test = test_df[y_col]"
   ]
  },
  {
   "cell_type": "markdown",
   "metadata": {
    "id": "fZuk46hB8bOm"
   },
   "source": [
    "Let's now choose a model. Since we are doing classification our choices that we learned thus far are, along with a brief discussion of their strengths and weaknesses:\n",
    "    - Logistic regression: Simple, basic linear regression in disguise. However, it only works with continuous columns.\n",
    "    - Nearest neighbors: Very flexible, can work with both continuous and categorical columns. However, we want each flight to have a lot of \"neighbors\" to compare to. This may or may not be an issue.\n",
    "    - Decision tree: Very flexible, can work with both continuous and categorical columns. The downside is that we need to be careful with picking the hyperparameters.\n",
    "    \n",
    "Logistic regression sounds like the weakest choice. However, it's good to start with a simple model and use the results as a baseline. Therefore, we'll train a logistic regression model using the continuous columns, and use the results as a baseline to try and beat."
   ]
  },
  {
   "cell_type": "markdown",
   "metadata": {
    "id": "356kJtdv8bOn"
   },
   "source": [
    "### Logistic regression"
   ]
  },
  {
   "cell_type": "code",
   "execution_count": null,
   "metadata": {
    "id": "-OeymwBd8bOn"
   },
   "outputs": [],
   "source": [
    "logr_clf = LogisticRegression()\n",
    "\n",
    "logr_clf.fit(X_train_cont, y_train)\n",
    "\n",
    "y_pred_logr = logr_clf.predict(X_test_cont)"
   ]
  },
  {
   "cell_type": "code",
   "execution_count": null,
   "metadata": {
    "id": "ROG4kHxD8bOp",
    "outputId": "e5859fde-984d-4f4b-95f7-bcb0d58a3058"
   },
   "outputs": [
    {
     "name": "stderr",
     "output_type": "stream",
     "text": [
      "/Users/paulsavala/anaconda3/envs/math_3439/lib/python3.8/site-packages/sklearn/metrics/_classification.py:1272: UndefinedMetricWarning: Precision and F-score are ill-defined and being set to 0.0 in labels with no predicted samples. Use `zero_division` parameter to control this behavior.\n",
      "  _warn_prf(average, modifier, msg_start, len(result))\n"
     ]
    },
    {
     "name": "stdout",
     "output_type": "stream",
     "text": [
      "              precision    recall  f1-score   support\n",
      "\n",
      "         0.0       0.81      1.00      0.90    184297\n",
      "         1.0       0.00      0.00      0.00     42089\n",
      "\n",
      "    accuracy                           0.81    226386\n",
      "   macro avg       0.41      0.50      0.45    226386\n",
      "weighted avg       0.66      0.81      0.73    226386\n",
      "\n"
     ]
    }
   ],
   "source": [
    "print(classification_report(y_test, y_pred_logr))"
   ]
  },
  {
   "cell_type": "code",
   "execution_count": null,
   "metadata": {
    "id": "QBekNGCq8bOq",
    "outputId": "003f524d-1c25-42a3-acd5-f30c0db09ce2"
   },
   "outputs": [
    {
     "data": {
      "text/plain": [
       "<sklearn.metrics._plot.confusion_matrix.ConfusionMatrixDisplay at 0x11e1bbac0>"
      ]
     },
     "execution_count": 33,
     "metadata": {
      "tags": []
     },
     "output_type": "execute_result"
    },
    {
     "data": {
      "image/png": "[encoded data removed]",
      "text/plain": [
       "<Figure size 432x288 with 2 Axes>"
      ]
     },
     "metadata": {
      "filenames": {
       "image/png": "/Users/psavala/Dropbox/Teaching/St Edward's/MATH 3439 - Introduction to Data Science/textbook/_build/jupyter_execute/ch_09_57_1.png"
      },
      "needs_background": "light",
      "tags": []
     },
     "output_type": "display_data"
    }
   ],
   "source": [
    "plot_confusion_matrix(logr_clf, X_test_cont, y_test, normalize='all')"
   ]
  },
  {
   "cell_type": "markdown",
   "metadata": {
    "id": "9tuKmd0v8bOs"
   },
   "source": [
    "So logistic regression is never even predicting a flight to be delayed. Hopefully that won't be hard to beat..."
   ]
  },
  {
   "cell_type": "markdown",
   "metadata": {
    "id": "oNyVO3Ee8bOs"
   },
   "source": [
    "### Nearest neighbors\n",
    "\n",
    "Recall that nearest neighbors works by taking a single row and then finding $K$ other rows which are \"closest\" to it. By \"closest\" we mean the distance as measured using the `metric` hyperparameter. For continuous columns this could simply be the usual Euclidean distance function you're used to: $\\sqrt{(x_1 - x_2)^2 + (y_1 - y_2)^2}$. But for categorical columns we want to use other metrics. Review last week's material if you are unsure of these.\n",
    "\n",
    "If you just try to run nearest neighbors, you will see that it takes forever. The reason is that our dataset is quite large:"
   ]
  },
  {
   "cell_type": "code",
   "execution_count": null,
   "metadata": {
    "id": "XBeiFOOb8bOt",
    "outputId": "17de3a80-a6b4-4290-f58f-53d74aa1757b"
   },
   "outputs": [
    {
     "name": "stdout",
     "output_type": "stream",
     "text": [
      "339577 rows in the training data\n"
     ]
    }
   ],
   "source": [
    "print(f'{X_train_all.shape[0]} rows in the training data')"
   ]
  },
  {
   "cell_type": "markdown",
   "metadata": {
    "id": "4RjTU7ks8bOu"
   },
   "source": [
    "Therefore, we want to take a small sample and train on just that. One way to do that is to pick a small sample of the indices and just use those."
   ]
  },
  {
   "cell_type": "code",
   "execution_count": null,
   "metadata": {
    "id": "Vfdyltdo8bOu"
   },
   "outputs": [],
   "source": [
    "sample_idx = np.random.choice(range(X_train_all.shape[0]), size=10000)\n",
    "\n",
    "X_mini = X_train_all.iloc[sample_idx]\n",
    "y_mini = y_train.iloc[sample_idx]"
   ]
  },
  {
   "cell_type": "code",
   "execution_count": null,
   "metadata": {
    "id": "uTvr2rcg8bOw"
   },
   "outputs": [],
   "source": [
    "nn_clf = KNeighborsClassifier(n_neighbors=5, n_jobs=-1)\n",
    "\n",
    "nn_clf.fit(X_mini, y_mini)\n",
    "\n",
    "y_pred_nn = nn_clf.predict(X_test_all)"
   ]
  },
  {
   "cell_type": "code",
   "execution_count": null,
   "metadata": {
    "id": "2JRbo9ud8bOy",
    "outputId": "f311c50d-47c7-4b7c-86fb-989e1b4723b6"
   },
   "outputs": [
    {
     "data": {
      "text/plain": [
       "<sklearn.metrics._plot.confusion_matrix.ConfusionMatrixDisplay at 0x11e1f5310>"
      ]
     },
     "execution_count": 37,
     "metadata": {
      "tags": []
     },
     "output_type": "execute_result"
    },
    {
     "data": {
      "image/png": "[encoded data removed]",
      "text/plain": [
       "<Figure size 432x288 with 2 Axes>"
      ]
     },
     "metadata": {
      "filenames": {
       "image/png": "/Users/psavala/Dropbox/Teaching/St Edward's/MATH 3439 - Introduction to Data Science/textbook/_build/jupyter_execute/ch_09_64_1.png"
      },
      "needs_background": "light",
      "tags": []
     },
     "output_type": "display_data"
    }
   ],
   "source": [
    "plot_confusion_matrix(nn_clf, X_test_all, y_test, normalize='all')"
   ]
  },
  {
   "cell_type": "markdown",
   "metadata": {
    "id": "lArOInrv8bO0"
   },
   "source": [
    "This seems like an improvement, but there are still a number of issues:\n",
    "1. There are a mixture of continuous and categorical variables. How we measure if distance is \"close\" is completely different from how we measure if two airlines are \"close\". Unfortunately, you can only specify one metric, so we have to pick one which is good at something and bad at something else.\n",
    "2. It's slow to train. Nearest neighbors requires going through every point, then finding the five closest points, then seeing what they were predicted as. This takes lots of time.\n",
    "\n",
    "Let's move on and try a decision tree."
   ]
  },
  {
   "cell_type": "markdown",
   "metadata": {
    "id": "C8z7Y2Fa8bO0"
   },
   "source": [
    "### Decision trees\n",
    "\n",
    "We'll fit a decision tree to all of the columns. We'll start with a guess at the hyperparameters and see how it turns out."
   ]
  },
  {
   "cell_type": "code",
   "execution_count": null,
   "metadata": {
    "id": "_5KAm1lH8bO1",
    "outputId": "44122035-523b-4dda-f286-079805a0cb4d"
   },
   "outputs": [
    {
     "data": {
      "text/plain": [
       "DecisionTreeClassifier(ccp_alpha=0.0, class_weight=None, criterion='gini',\n",
       "                       max_depth=5, max_features=None, max_leaf_nodes=None,\n",
       "                       min_impurity_decrease=0.0, min_impurity_split=None,\n",
       "                       min_samples_leaf=10, min_samples_split=5,\n",
       "                       min_weight_fraction_leaf=0.0, presort='deprecated',\n",
       "                       random_state=None, splitter='best')"
      ]
     },
     "execution_count": 38,
     "metadata": {
      "tags": []
     },
     "output_type": "execute_result"
    }
   ],
   "source": [
    "dt_clf = DecisionTreeClassifier(max_depth=5, min_samples_split=5, min_samples_leaf=10)\n",
    "\n",
    "dt_clf.fit(X_train_all, y_train)"
   ]
  },
  {
   "cell_type": "code",
   "execution_count": null,
   "metadata": {
    "id": "a7veCnh78bO3",
    "outputId": "5cf85cf1-964f-49b5-a813-e1918050a127"
   },
   "outputs": [
    {
     "data": {
      "text/plain": [
       "<sklearn.metrics._plot.confusion_matrix.ConfusionMatrixDisplay at 0x11e1f5280>"
      ]
     },
     "execution_count": 39,
     "metadata": {
      "tags": []
     },
     "output_type": "execute_result"
    },
    {
     "data": {
      "image/png": "[encoded data removed]",
      "text/plain": [
       "<Figure size 432x288 with 2 Axes>"
      ]
     },
     "metadata": {
      "filenames": {
       "image/png": "/Users/psavala/Dropbox/Teaching/St Edward's/MATH 3439 - Introduction to Data Science/textbook/_build/jupyter_execute/ch_09_68_1.png"
      },
      "needs_background": "light",
      "tags": []
     },
     "output_type": "display_data"
    }
   ],
   "source": [
    "plot_confusion_matrix(dt_clf, X_test_all, y_test, normalize='all')"
   ]
  },
  {
   "cell_type": "markdown",
   "metadata": {
    "id": "ffSMdDgU8bO5"
   },
   "source": [
    "This seems reasonable, but it's still underpredicting the delays (predicted label of 1). We saw previously that this can be partially addressed by resampling the data. We saw both over- and under-sampling the data performed well in this case. Since our dataset is large it seems reasonable to undersample. Remember that ovesampling means reusing sample from the minority class (flight delay) repeatedly in training. This is potentially problematic, and is primarily needed when your dataset is small."
   ]
  },
  {
   "cell_type": "code",
   "execution_count": null,
   "metadata": {
    "id": "wsCgCZQ-8bO5",
    "outputId": "bf44bfd2-843b-4831-bdcc-ed3153b1848a"
   },
   "outputs": [
    {
     "data": {
      "text/plain": [
       "0.0    276444\n",
       "1.0     63133\n",
       "Name: arr_del15, dtype: int64"
      ]
     },
     "execution_count": 40,
     "metadata": {
      "tags": []
     },
     "output_type": "execute_result"
    }
   ],
   "source": [
    "train_df['arr_del15'].value_counts()"
   ]
  },
  {
   "cell_type": "code",
   "execution_count": null,
   "metadata": {
    "id": "cEgNrlZ38bO7"
   },
   "outputs": [],
   "source": [
    "# Minority class has 63,133 samples\n",
    "n_samples = 63133\n",
    "\n",
    "train_delayed_df = train_df[train_df['arr_del15'] == 1]\n",
    "train_not_delayed_df = train_df[train_df['arr_del15'] == 0].sample(n_samples)\n",
    "\n",
    "train_under_df = pd.concat([train_delayed_df, train_not_delayed_df])\n",
    "\n",
    "X_train_under = train_under_df[X_all_cols]\n",
    "y_train_under = train_under_df[y_col]"
   ]
  },
  {
   "cell_type": "code",
   "execution_count": null,
   "metadata": {
    "id": "ZPr86NxW8bO9",
    "outputId": "f0583bc3-4ed0-4298-83f3-9c0a40e66ab3"
   },
   "outputs": [
    {
     "data": {
      "text/plain": [
       "<sklearn.metrics._plot.confusion_matrix.ConfusionMatrixDisplay at 0x11f0e3040>"
      ]
     },
     "execution_count": 42,
     "metadata": {
      "tags": []
     },
     "output_type": "execute_result"
    },
    {
     "data": {
      "image/png": "[encoded data removed]",
      "text/plain": [
       "<Figure size 432x288 with 2 Axes>"
      ]
     },
     "metadata": {
      "filenames": {
       "image/png": "/Users/psavala/Dropbox/Teaching/St Edward's/MATH 3439 - Introduction to Data Science/textbook/_build/jupyter_execute/ch_09_72_1.png"
      },
      "needs_background": "light",
      "tags": []
     },
     "output_type": "display_data"
    }
   ],
   "source": [
    "dt_clf_under = DecisionTreeClassifier(max_depth=5, min_samples_split=5, min_samples_leaf=10)\n",
    "\n",
    "dt_clf_under.fit(X_train_under, y_train_under)\n",
    "\n",
    "plot_confusion_matrix(dt_clf_under, X_test_all, y_test, values_format='d')"
   ]
  },
  {
   "cell_type": "markdown",
   "metadata": {
    "id": "HduoPFuB8bPB"
   },
   "source": [
    "We now see that a label of 1 is being predicted far more often. In fact, it's being predicted a bit *too often* (as can be seen by 74,347 non-delayed flights being predicted as delayed). This isn't great, but at least our model is now predicting in a more balanced way."
   ]
  },
  {
   "cell_type": "markdown",
   "metadata": {
    "id": "qc96OFmH8bPB"
   },
   "source": [
    "## Cross validation and grid search <a id=\"cross_validation\"></a>\n",
    "\n",
    "Now that we have a model to start with we want to improve it. One major way to improve models is by finding which hyperparameters give the best results. We did this previously by picking some possibilities and simply writing `for` loops to try them all. This works, but it's problematic for a few reasons. One is that it's slow and kind of a pain. Another is that we have to keep re-using the test data over and over to see our results. Therefore, in essence we're training our model on the test data. That's not what test data is for. Test data is meant to be used only once you have a final (or near-final) model. The fix for this is cross validation.\n",
    "\n",
    "**Cross validation** is a technique where you take your training data and split it into $n$ \"folds\". You then train your model on $n-1$ folds and evaluate it on the final fold. Here is an illustration of this from [sklearn's site](https://scikit-learn.org/stable/modules/cross_validation.html).\n",
    "\n",
    "![Cross validation](images/grid_search_cross_validation.png)"
   ]
  },
  {
   "cell_type": "markdown",
   "metadata": {
    "id": "HvL6ekXb8bPB"
   },
   "source": [
    "Let's do an example by hand. Once we understand that we'll see how sklearn makes this easy for us. We'll take our training data and split it into five folds, as shown above. To do so we need to find how many rows there are and divide that by five."
   ]
  },
  {
   "cell_type": "code",
   "execution_count": null,
   "metadata": {
    "id": "ptiv6Sm98bPB",
    "outputId": "26dec327-9784-45f4-ece2-f2afaa05ddb8"
   },
   "outputs": [
    {
     "name": "stdout",
     "output_type": "stream",
     "text": [
      "126266 rows, so each fold has 25253.2 rows\n"
     ]
    }
   ],
   "source": [
    "print(f'{train_under_df.shape[0]} rows, so each fold has {train_under_df.shape[0]/5} rows')"
   ]
  },
  {
   "cell_type": "code",
   "execution_count": null,
   "metadata": {
    "id": "AhjJwyJU8bPD"
   },
   "outputs": [],
   "source": [
    "fold1_df = train_under_df.iloc[:25253]\n",
    "fold2_df = train_under_df.iloc[25253:2*25253]\n",
    "fold3_df = train_under_df.iloc[2*25253:3*25253]\n",
    "fold4_df = train_under_df.iloc[3*25253:4*25253]\n",
    "fold5_df = train_under_df.iloc[4*25253:]\n",
    "\n",
    "folds = [fold1_df, fold2_df, fold3_df, fold4_df, fold5_df]"
   ]
  },
  {
   "cell_type": "code",
   "execution_count": null,
   "metadata": {
    "id": "HFM3wHNA8bPF",
    "outputId": "53d95f24-6962-48ce-e7b8-03905341a635"
   },
   "outputs": [
    {
     "name": "stdout",
     "output_type": "stream",
     "text": [
      "Fold 1: 25253 rows\n",
      "Fold 2: 25253 rows\n",
      "Fold 3: 25253 rows\n",
      "Fold 4: 25253 rows\n",
      "Fold 5: 25254 rows\n"
     ]
    }
   ],
   "source": [
    "for i, f in enumerate(folds):\n",
    "    print(f'Fold {i+1}: {f.shape[0]} rows')"
   ]
  },
  {
   "cell_type": "markdown",
   "metadata": {
    "id": "2v2paecF8bPH"
   },
   "source": [
    "Now, we'll pick some hyperparameters, train our model on 4 of the folds, and then evaluate it on the final fold. This way, our test set is never used when we're finding hyperparameters!"
   ]
  },
  {
   "cell_type": "code",
   "execution_count": null,
   "metadata": {
    "id": "G2qyMFTS8bPH",
    "outputId": "3fc5996c-64be-4b69-cade-9e1feec37fcd"
   },
   "outputs": [
    {
     "data": {
      "text/plain": [
       "DecisionTreeClassifier(ccp_alpha=0.0, class_weight=None, criterion='gini',\n",
       "                       max_depth=10, max_features=None, max_leaf_nodes=None,\n",
       "                       min_impurity_decrease=0.0, min_impurity_split=None,\n",
       "                       min_samples_leaf=10, min_samples_split=5,\n",
       "                       min_weight_fraction_leaf=0.0, presort='deprecated',\n",
       "                       random_state=None, splitter='best')"
      ]
     },
     "execution_count": 46,
     "metadata": {
      "tags": []
     },
     "output_type": "execute_result"
    }
   ],
   "source": [
    "# Try increasing the max depth\n",
    "dt_clf_under = DecisionTreeClassifier(max_depth=10, min_samples_split=5, min_samples_leaf=10)\n",
    "\n",
    "# Stack together the first four folds to train on\n",
    "X_four_folds = pd.concat([fold1_df[X_all_cols], fold2_df[X_all_cols], fold3_df[X_all_cols], fold4_df[X_all_cols]])\n",
    "y_four_folds = pd.concat([fold1_df[y_col], fold2_df[y_col], fold3_df[y_col], fold4_df[y_col]])\n",
    "\n",
    "dt_clf_under.fit(X_four_folds, y_four_folds)"
   ]
  },
  {
   "cell_type": "code",
   "execution_count": null,
   "metadata": {
    "id": "7CaZBZol8bPI",
    "outputId": "0ff2a2c4-7125-4294-f7f9-98f4a1c65e4f"
   },
   "outputs": [
    {
     "data": {
      "text/plain": [
       "<sklearn.metrics._plot.confusion_matrix.ConfusionMatrixDisplay at 0x11fd40e80>"
      ]
     },
     "execution_count": 47,
     "metadata": {
      "tags": []
     },
     "output_type": "execute_result"
    },
    {
     "data": {
      "image/png": "[encoded data removed]",
      "text/plain": [
       "<Figure size 432x288 with 2 Axes>"
      ]
     },
     "metadata": {
      "filenames": {
       "image/png": "/Users/psavala/Dropbox/Teaching/St Edward's/MATH 3439 - Introduction to Data Science/textbook/_build/jupyter_execute/ch_09_81_1.png"
      },
      "needs_background": "light",
      "tags": []
     },
     "output_type": "display_data"
    }
   ],
   "source": [
    "# Evaluate it on the fifth fold\n",
    "plot_confusion_matrix(dt_clf_under, X_test_all, y_test, values_format='d')"
   ]
  },
  {
   "cell_type": "markdown",
   "metadata": {
    "id": "ZYS-uCFO8bPK"
   },
   "source": [
    "The goal of cross validation is to find good hyperparameters without having to re-use the test set over and over again for training. However, doing cross validation by hand like this is slow. Luckily, sklearn has a helper function called `GridSearchCV` which does two things: \n",
    "1. It performs cross validation as described above\n",
    "2. It simultaneously goes through and tries a \"grid\" of hyperparameters that you specify.\n",
    "\n",
    "Let's have it pick which hyperparameters are best out of the following options:"
   ]
  },
  {
   "cell_type": "code",
   "execution_count": null,
   "metadata": {
    "id": "dHZPtMQB8bPM"
   },
   "outputs": [],
   "source": [
    "hyperparam_grid = {'min_samples_split': [2, 5, 10, 15, 25, 50, 100],\n",
    "                  'max_depth': [3, 5, 7, 10, 15, 25, 50],\n",
    "                  'min_samples_leaf': [2, 5, 10, 15, 25, 50, 100]}"
   ]
  },
  {
   "cell_type": "markdown",
   "metadata": {
    "id": "hX1Mmjes8bPO"
   },
   "source": [
    "Next, we instantiate grid search just like you did for a model. However, to be clera, grid search is *not* a model, it's a way to pick the best hyperparameters for your model. What it does is return the model with the hyperparameters that gave the best result."
   ]
  },
  {
   "cell_type": "code",
   "execution_count": null,
   "metadata": {
    "id": "YPjgaYGP8bPO"
   },
   "outputs": [],
   "source": [
    "dt_clf = DecisionTreeClassifier()\n",
    "\n",
    "grid_search = GridSearchCV(dt_clf, hyperparam_grid, n_jobs=-1) # n_jobs tells it to use parallel processing. Long story short, it will be faster."
   ]
  },
  {
   "cell_type": "code",
   "execution_count": null,
   "metadata": {
    "id": "gCPRBA_88bPP",
    "outputId": "c77a845b-ae83-4ac5-f260-6784fdd93570"
   },
   "outputs": [
    {
     "data": {
      "text/plain": [
       "GridSearchCV(cv=None, error_score=nan,\n",
       "             estimator=DecisionTreeClassifier(ccp_alpha=0.0, class_weight=None,\n",
       "                                              criterion='gini', max_depth=None,\n",
       "                                              max_features=None,\n",
       "                                              max_leaf_nodes=None,\n",
       "                                              min_impurity_decrease=0.0,\n",
       "                                              min_impurity_split=None,\n",
       "                                              min_samples_leaf=1,\n",
       "                                              min_samples_split=2,\n",
       "                                              min_weight_fraction_leaf=0.0,\n",
       "                                              presort='deprecated',\n",
       "                                              random_state=None,\n",
       "                                              splitter='best'),\n",
       "             iid='deprecated', n_jobs=-1,\n",
       "             param_grid={'max_depth': [3, 5, 7, 10, 15, 25, 50],\n",
       "                         'min_samples_leaf': [2, 5, 10, 15, 25, 50, 100],\n",
       "                         'min_samples_split': [2, 5, 10, 15, 25, 50, 100]},\n",
       "             pre_dispatch='2*n_jobs', refit=True, return_train_score=False,\n",
       "             scoring=None, verbose=0)"
      ]
     },
     "execution_count": 50,
     "metadata": {
      "tags": []
     },
     "output_type": "execute_result"
    }
   ],
   "source": [
    "# This may take a while, go grab a coffee...\n",
    "grid_search.fit(X_train_under, y_train_under)"
   ]
  },
  {
   "cell_type": "markdown",
   "metadata": {
    "id": "rYAK9Nvr8bPR"
   },
   "source": [
    "Grid search can be slow. It is literally fitting a new model for all combinations of hyperparameters that you specified. So (for instance) if you specified five values of one parameter, ten of another, and 7 of one more, then it's fitting $5 \\cdot 10\\cdot 7=350$ models. So be careful to not just through tons and tons of hyperparameters at it, or it will never finish.\n",
    "\n",
    "Once it's done, you can just use it exactly like your decision tree. In fact, it *is* your decision tree, with the best possible choice of hyperparameters from the possibilities you supplied. If you'd like to see exactly what those hyperparameters are, you can do the following:"
   ]
  },
  {
   "cell_type": "code",
   "execution_count": null,
   "metadata": {
    "id": "Wjyu35cp8bPR",
    "outputId": "139106ca-9d14-4ad3-86ec-eabd345c6ec9"
   },
   "outputs": [
    {
     "data": {
      "text/plain": [
       "{'max_depth': 15, 'min_samples_leaf': 25, 'min_samples_split': 15}"
      ]
     },
     "execution_count": 51,
     "metadata": {
      "tags": []
     },
     "output_type": "execute_result"
    }
   ],
   "source": [
    "grid_search.best_params_"
   ]
  },
  {
   "cell_type": "markdown",
   "metadata": {
    "id": "ZqIZNXNv8bPS"
   },
   "source": [
    "So it looks like it got the best results with a max depth of 50 (much deeper than we tried!). Note that the max depth and min samples split are both the largest values I let it try. So maybe something larger would be better. Let's do another grid search, but pick parameters near what this grid search found was best."
   ]
  },
  {
   "cell_type": "code",
   "execution_count": null,
   "metadata": {
    "id": "xEcAcrgC8bPT",
    "outputId": "e5194d80-5678-42ff-9616-bdc2811be4f9"
   },
   "outputs": [
    {
     "data": {
      "text/plain": [
       "GridSearchCV(cv=None, error_score=nan,\n",
       "             estimator=DecisionTreeClassifier(ccp_alpha=0.0, class_weight=None,\n",
       "                                              criterion='gini', max_depth=None,\n",
       "                                              max_features=None,\n",
       "                                              max_leaf_nodes=None,\n",
       "                                              min_impurity_decrease=0.0,\n",
       "                                              min_impurity_split=None,\n",
       "                                              min_samples_leaf=1,\n",
       "                                              min_samples_split=2,\n",
       "                                              min_weight_fraction_leaf=0.0,\n",
       "                                              presort='deprecated',\n",
       "                                              random_state=None,\n",
       "                                              splitter='best'),\n",
       "             iid='deprecated', n_jobs=-1,\n",
       "             param_grid={'max_depth': [75, 100, 125, 150, 175, 200],\n",
       "                         'min_samples_leaf': [3, 5, 7],\n",
       "                         'min_samples_split': [75, 100, 125, 150, 175, 200]},\n",
       "             pre_dispatch='2*n_jobs', refit=True, return_train_score=False,\n",
       "             scoring=None, verbose=0)"
      ]
     },
     "execution_count": 52,
     "metadata": {
      "tags": []
     },
     "output_type": "execute_result"
    }
   ],
   "source": [
    "dt_clf = DecisionTreeClassifier()\n",
    "\n",
    "hyperparam_grid = {'min_samples_split': [75, 100, 125, 150, 175, 200],\n",
    "                  'max_depth': [75, 100, 125, 150, 175, 200],\n",
    "                  'min_samples_leaf': [3, 5, 7]}\n",
    "\n",
    "grid_search = GridSearchCV(dt_clf, hyperparam_grid, n_jobs=-1)\n",
    "\n",
    "grid_search.fit(X_train_under, y_train_under)"
   ]
  },
  {
   "cell_type": "code",
   "execution_count": null,
   "metadata": {
    "id": "Z8Fv2aOl8bPU",
    "outputId": "c748b7ae-c13f-406f-b778-58dabacc91cf"
   },
   "outputs": [
    {
     "data": {
      "text/plain": [
       "{'max_depth': 175, 'min_samples_leaf': 5, 'min_samples_split': 200}"
      ]
     },
     "execution_count": 53,
     "metadata": {
      "tags": []
     },
     "output_type": "execute_result"
    }
   ],
   "source": [
    "grid_search.best_params_"
   ]
  },
  {
   "cell_type": "markdown",
   "metadata": {
    "id": "f1rrsLzf8bPW"
   },
   "source": [
    "It looks like it keeps wanting to go deeper. For right now let's leave it at 200 and see how things go. We'll evaluate this model on our test set (which the decision tree hasn't yet seen!) and see what kind of results we get."
   ]
  },
  {
   "cell_type": "code",
   "execution_count": null,
   "metadata": {
    "id": "wteK4nN48bPW",
    "outputId": "52023faa-8290-4f02-b15b-618249c36166"
   },
   "outputs": [
    {
     "data": {
      "text/plain": [
       "<sklearn.metrics._plot.confusion_matrix.ConfusionMatrixDisplay at 0x121e59cd0>"
      ]
     },
     "execution_count": 54,
     "metadata": {
      "tags": []
     },
     "output_type": "execute_result"
    },
    {
     "data": {
      "image/png": "[encoded data removed]",
      "text/plain": [
       "<Figure size 432x288 with 2 Axes>"
      ]
     },
     "metadata": {
      "filenames": {
       "image/png": "/Users/psavala/Dropbox/Teaching/St Edward's/MATH 3439 - Introduction to Data Science/textbook/_build/jupyter_execute/ch_09_93_1.png"
      },
      "needs_background": "light",
      "tags": []
     },
     "output_type": "display_data"
    }
   ],
   "source": [
    "plot_confusion_matrix(grid_search, X_test_all, y_test, normalize='true')"
   ]
  },
  {
   "cell_type": "markdown",
   "metadata": {
    "id": "AT-EcjJa8bPY"
   },
   "source": [
    "This is a big improvement. 65% of the non-delayed flights were predicted to be non-delayed, and 65% of the delayed flights were predicted to be delayed.\n",
    "\n",
    "A good next step is to see where your model is struggling. What flights is it making an incorrect decision on? To do this we'll take the training data and make predictions. We'll then grab all rows where the prediction didn't match the actual delay."
   ]
  },
  {
   "cell_type": "code",
   "execution_count": null,
   "metadata": {
    "id": "A_VuoYow8bPY"
   },
   "outputs": [],
   "source": [
    "y_pred = grid_search.predict(X_train_all)"
   ]
  },
  {
   "cell_type": "code",
   "execution_count": null,
   "metadata": {
    "id": "y7MiZYMv8bPa"
   },
   "outputs": [],
   "source": [
    "misclassified_df = train_df[train_df['arr_del15'] != y_pred]"
   ]
  },
  {
   "cell_type": "code",
   "execution_count": null,
   "metadata": {
    "id": "2WPBIqjL8bPc",
    "outputId": "011e161c-d982-4cd9-aead-3ec1cb59f254"
   },
   "outputs": [
    {
     "data": {
      "text/html": [
       "<div>\n",
       "<style scoped>\n",
       "    .dataframe tbody tr th:only-of-type {\n",
       "        vertical-align: middle;\n",
       "    }\n",
       "\n",
       "    .dataframe tbody tr th {\n",
       "        vertical-align: top;\n",
       "    }\n",
       "\n",
       "    .dataframe thead th {\n",
       "        text-align: right;\n",
       "    }\n",
       "</style>\n",
       "<table border=\"1\" class=\"dataframe\">\n",
       "  <thead>\n",
       "    <tr style=\"text-align: right;\">\n",
       "      <th></th>\n",
       "      <th>day_of_month</th>\n",
       "      <th>day_of_week</th>\n",
       "      <th>airline</th>\n",
       "      <th>origin</th>\n",
       "      <th>dest</th>\n",
       "      <th>dep_del15</th>\n",
       "      <th>arr_del15</th>\n",
       "      <th>cancelled</th>\n",
       "      <th>diverted</th>\n",
       "      <th>distance</th>\n",
       "      <th>dep_hour</th>\n",
       "      <th>arr_hour</th>\n",
       "    </tr>\n",
       "  </thead>\n",
       "  <tbody>\n",
       "    <tr>\n",
       "      <th>561380</th>\n",
       "      <td>30</td>\n",
       "      <td>3</td>\n",
       "      <td>20366</td>\n",
       "      <td>156</td>\n",
       "      <td>149</td>\n",
       "      <td>0.0</td>\n",
       "      <td>0.0</td>\n",
       "      <td>0.0</td>\n",
       "      <td>0.0</td>\n",
       "      <td>295.0</td>\n",
       "      <td>16.600000</td>\n",
       "      <td>17.800000</td>\n",
       "    </tr>\n",
       "    <tr>\n",
       "      <th>176973</th>\n",
       "      <td>10</td>\n",
       "      <td>4</td>\n",
       "      <td>20304</td>\n",
       "      <td>306</td>\n",
       "      <td>297</td>\n",
       "      <td>0.0</td>\n",
       "      <td>1.0</td>\n",
       "      <td>0.0</td>\n",
       "      <td>0.0</td>\n",
       "      <td>599.0</td>\n",
       "      <td>8.533333</td>\n",
       "      <td>10.116667</td>\n",
       "    </tr>\n",
       "    <tr>\n",
       "      <th>132927</th>\n",
       "      <td>7</td>\n",
       "      <td>1</td>\n",
       "      <td>20378</td>\n",
       "      <td>251</td>\n",
       "      <td>14</td>\n",
       "      <td>0.0</td>\n",
       "      <td>0.0</td>\n",
       "      <td>0.0</td>\n",
       "      <td>0.0</td>\n",
       "      <td>602.0</td>\n",
       "      <td>19.683333</td>\n",
       "      <td>22.366667</td>\n",
       "    </tr>\n",
       "    <tr>\n",
       "      <th>514407</th>\n",
       "      <td>28</td>\n",
       "      <td>1</td>\n",
       "      <td>19805</td>\n",
       "      <td>251</td>\n",
       "      <td>327</td>\n",
       "      <td>0.0</td>\n",
       "      <td>0.0</td>\n",
       "      <td>0.0</td>\n",
       "      <td>0.0</td>\n",
       "      <td>1788.0</td>\n",
       "      <td>10.033333</td>\n",
       "      <td>15.900000</td>\n",
       "    </tr>\n",
       "    <tr>\n",
       "      <th>164421</th>\n",
       "      <td>9</td>\n",
       "      <td>3</td>\n",
       "      <td>20452</td>\n",
       "      <td>201</td>\n",
       "      <td>238</td>\n",
       "      <td>0.0</td>\n",
       "      <td>0.0</td>\n",
       "      <td>0.0</td>\n",
       "      <td>0.0</td>\n",
       "      <td>403.0</td>\n",
       "      <td>6.250000</td>\n",
       "      <td>7.916667</td>\n",
       "    </tr>\n",
       "  </tbody>\n",
       "</table>\n",
       "</div>"
      ],
      "text/plain": [
       "        day_of_month  day_of_week  airline  origin  dest  dep_del15  \\\n",
       "561380            30            3    20366     156   149        0.0   \n",
       "176973            10            4    20304     306   297        0.0   \n",
       "132927             7            1    20378     251    14        0.0   \n",
       "514407            28            1    19805     251   327        0.0   \n",
       "164421             9            3    20452     201   238        0.0   \n",
       "\n",
       "        arr_del15  cancelled  diverted  distance   dep_hour   arr_hour  \n",
       "561380        0.0        0.0       0.0     295.0  16.600000  17.800000  \n",
       "176973        1.0        0.0       0.0     599.0   8.533333  10.116667  \n",
       "132927        0.0        0.0       0.0     602.0  19.683333  22.366667  \n",
       "514407        0.0        0.0       0.0    1788.0  10.033333  15.900000  \n",
       "164421        0.0        0.0       0.0     403.0   6.250000   7.916667  "
      ]
     },
     "execution_count": 57,
     "metadata": {
      "tags": []
     },
     "output_type": "execute_result"
    }
   ],
   "source": [
    "misclassified_df.head()"
   ]
  },
  {
   "cell_type": "code",
   "execution_count": null,
   "metadata": {
    "id": "-3mwc9rM8bPe",
    "outputId": "27bcccef-3384-4e62-b474-8346c963589e"
   },
   "outputs": [
    {
     "name": "stdout",
     "output_type": "stream",
     "text": [
      "32.97% of training data was misclassified (111962 samples)\n"
     ]
    }
   ],
   "source": [
    "print(f'{100*misclassified_df.shape[0] / train_df.shape[0]:.2f}% of training data was misclassified ({misclassified_df.shape[0]} samples)')"
   ]
  },
  {
   "cell_type": "markdown",
   "metadata": {
    "id": "SnSS2Y4A8bPg"
   },
   "source": [
    "Let's also grab the training data which was classified *correctly* and see if any interesting differences jump out at us."
   ]
  },
  {
   "cell_type": "code",
   "execution_count": null,
   "metadata": {
    "id": "cbG-c1_H8bPg",
    "outputId": "b23607e9-c16e-4ce7-f09c-300f9d39c0cb"
   },
   "outputs": [
    {
     "data": {
      "text/html": [
       "<div>\n",
       "<style scoped>\n",
       "    .dataframe tbody tr th:only-of-type {\n",
       "        vertical-align: middle;\n",
       "    }\n",
       "\n",
       "    .dataframe tbody tr th {\n",
       "        vertical-align: top;\n",
       "    }\n",
       "\n",
       "    .dataframe thead th {\n",
       "        text-align: right;\n",
       "    }\n",
       "</style>\n",
       "<table border=\"1\" class=\"dataframe\">\n",
       "  <thead>\n",
       "    <tr style=\"text-align: right;\">\n",
       "      <th></th>\n",
       "      <th>day_of_month</th>\n",
       "      <th>day_of_week</th>\n",
       "      <th>airline</th>\n",
       "      <th>origin</th>\n",
       "      <th>dest</th>\n",
       "      <th>dep_del15</th>\n",
       "      <th>arr_del15</th>\n",
       "      <th>cancelled</th>\n",
       "      <th>diverted</th>\n",
       "      <th>distance</th>\n",
       "      <th>dep_hour</th>\n",
       "      <th>arr_hour</th>\n",
       "    </tr>\n",
       "  </thead>\n",
       "  <tbody>\n",
       "    <tr>\n",
       "      <th>201091</th>\n",
       "      <td>11</td>\n",
       "      <td>5</td>\n",
       "      <td>19393</td>\n",
       "      <td>308</td>\n",
       "      <td>237</td>\n",
       "      <td>0.0</td>\n",
       "      <td>0.0</td>\n",
       "      <td>0.0</td>\n",
       "      <td>0.0</td>\n",
       "      <td>390.0</td>\n",
       "      <td>18.616667</td>\n",
       "      <td>19.916667</td>\n",
       "    </tr>\n",
       "    <tr>\n",
       "      <th>108973</th>\n",
       "      <td>6</td>\n",
       "      <td>7</td>\n",
       "      <td>20304</td>\n",
       "      <td>225</td>\n",
       "      <td>297</td>\n",
       "      <td>1.0</td>\n",
       "      <td>1.0</td>\n",
       "      <td>0.0</td>\n",
       "      <td>0.0</td>\n",
       "      <td>1589.0</td>\n",
       "      <td>23.383333</td>\n",
       "      <td>2.216667</td>\n",
       "    </tr>\n",
       "    <tr>\n",
       "      <th>1569</th>\n",
       "      <td>1</td>\n",
       "      <td>2</td>\n",
       "      <td>20409</td>\n",
       "      <td>246</td>\n",
       "      <td>148</td>\n",
       "      <td>0.0</td>\n",
       "      <td>0.0</td>\n",
       "      <td>0.0</td>\n",
       "      <td>0.0</td>\n",
       "      <td>1056.0</td>\n",
       "      <td>6.650000</td>\n",
       "      <td>9.550000</td>\n",
       "    </tr>\n",
       "    <tr>\n",
       "      <th>21341</th>\n",
       "      <td>2</td>\n",
       "      <td>3</td>\n",
       "      <td>19393</td>\n",
       "      <td>180</td>\n",
       "      <td>88</td>\n",
       "      <td>0.0</td>\n",
       "      <td>0.0</td>\n",
       "      <td>0.0</td>\n",
       "      <td>0.0</td>\n",
       "      <td>862.0</td>\n",
       "      <td>6.316667</td>\n",
       "      <td>9.850000</td>\n",
       "    </tr>\n",
       "    <tr>\n",
       "      <th>221442</th>\n",
       "      <td>12</td>\n",
       "      <td>6</td>\n",
       "      <td>19393</td>\n",
       "      <td>88</td>\n",
       "      <td>204</td>\n",
       "      <td>0.0</td>\n",
       "      <td>1.0</td>\n",
       "      <td>0.0</td>\n",
       "      <td>0.0</td>\n",
       "      <td>895.0</td>\n",
       "      <td>6.366667</td>\n",
       "      <td>10.233333</td>\n",
       "    </tr>\n",
       "  </tbody>\n",
       "</table>\n",
       "</div>"
      ],
      "text/plain": [
       "        day_of_month  day_of_week  airline  origin  dest  dep_del15  \\\n",
       "201091            11            5    19393     308   237        0.0   \n",
       "108973             6            7    20304     225   297        1.0   \n",
       "1569               1            2    20409     246   148        0.0   \n",
       "21341              2            3    19393     180    88        0.0   \n",
       "221442            12            6    19393      88   204        0.0   \n",
       "\n",
       "        arr_del15  cancelled  diverted  distance   dep_hour   arr_hour  \n",
       "201091        0.0        0.0       0.0     390.0  18.616667  19.916667  \n",
       "108973        1.0        0.0       0.0    1589.0  23.383333   2.216667  \n",
       "1569          0.0        0.0       0.0    1056.0   6.650000   9.550000  \n",
       "21341         0.0        0.0       0.0     862.0   6.316667   9.850000  \n",
       "221442        1.0        0.0       0.0     895.0   6.366667  10.233333  "
      ]
     },
     "execution_count": 59,
     "metadata": {
      "tags": []
     },
     "output_type": "execute_result"
    }
   ],
   "source": [
    "correct_df = train_df[train_df['arr_del15'] == y_pred]\n",
    "correct_df.head()"
   ]
  },
  {
   "cell_type": "code",
   "execution_count": null,
   "metadata": {
    "id": "ZQFuk3B-8bPh",
    "outputId": "9fb00eb7-59b3-4e19-b99b-c3ec7ed9319d"
   },
   "outputs": [
    {
     "data": {
      "text/plain": [
       "1    -0.011443\n",
       "2    -0.009328\n",
       "3    -0.007460\n",
       "4     0.005143\n",
       "5     0.007942\n",
       "6     0.001150\n",
       "7     0.003607\n",
       "8     0.018945\n",
       "9     0.021020\n",
       "10    0.013903\n",
       "11    0.009410\n",
       "12    0.006477\n",
       "13    0.000868\n",
       "14    0.014917\n",
       "15    0.008328\n",
       "16    0.012050\n",
       "17   -0.010234\n",
       "18   -0.014203\n",
       "19   -0.008355\n",
       "20   -0.010037\n",
       "21   -0.012790\n",
       "22   -0.010344\n",
       "23   -0.007255\n",
       "24   -0.011964\n",
       "25   -0.012326\n",
       "26    0.008029\n",
       "27   -0.000070\n",
       "28    0.000288\n",
       "29   -0.000477\n",
       "30    0.002296\n",
       "31   -0.008086\n",
       "Name: day_of_month, dtype: float64"
      ]
     },
     "execution_count": 60,
     "metadata": {
      "tags": []
     },
     "output_type": "execute_result"
    }
   ],
   "source": [
    "# Compare the flight delays by day of month for the correctly and incorrectly classified samples\n",
    "correct_df['day_of_month'].value_counts(normalize=True) - misclassified_df['day_of_month'].value_counts(normalize=True)"
   ]
  },
  {
   "cell_type": "markdown",
   "metadata": {
    "id": "1X9pC4r88bPj"
   },
   "source": [
    "So no particular day of the month jumps out as being very different between the correctly and misclassified samples. Let's write a function to do this and plot it, and then do it for each column. We'll compute the percentage that it is off by, relative to the correct classification."
   ]
  },
  {
   "cell_type": "code",
   "execution_count": null,
   "metadata": {
    "id": "AwtHCXS-8bPj"
   },
   "outputs": [],
   "source": [
    "def compare_classifications_by_col(col):\n",
    "    comparison = correct_df[col].value_counts(normalize=True) - misclassified_df[col].value_counts(normalize=True)\n",
    "    comparison = comparison / correct_df[col].value_counts(normalize=True)\n",
    "    plt.figure(figsize=(12, 8))\n",
    "    plt.plot(comparison)\n",
    "    plt.title(f'Column {col}')"
   ]
  },
  {
   "cell_type": "code",
   "execution_count": null,
   "metadata": {
    "id": "MrMNnG5D8bPl",
    "outputId": "017ed264-c813-4807-f7b2-5ecfae38836e"
   },
   "outputs": [
    {
     "data": {
      "image/png": "[encoded data removed]",
      "text/plain": [
       "<Figure size 864x576 with 1 Axes>"
      ]
     },
     "metadata": {
      "filenames": {
       "image/png": "/Users/psavala/Dropbox/Teaching/St Edward's/MATH 3439 - Introduction to Data Science/textbook/_build/jupyter_execute/ch_09_104_0.png"
      },
      "needs_background": "light",
      "tags": []
     },
     "output_type": "display_data"
    }
   ],
   "source": [
    "compare_classifications_by_col('day_of_month')"
   ]
  },
  {
   "cell_type": "code",
   "execution_count": null,
   "metadata": {
    "id": "e2SPCKLc8bPm",
    "outputId": "e3c1f418-b2a8-4792-d070-e26ab15408a4"
   },
   "outputs": [
    {
     "data": {
      "image/png": "[encoded data removed]",
      "text/plain": [
       "<Figure size 864x576 with 1 Axes>"
      ]
     },
     "metadata": {
      "filenames": {
       "image/png": "/Users/psavala/Dropbox/Teaching/St Edward's/MATH 3439 - Introduction to Data Science/textbook/_build/jupyter_execute/ch_09_105_0.png"
      },
      "needs_background": "light",
      "tags": []
     },
     "output_type": "display_data"
    }
   ],
   "source": [
    "compare_classifications_by_col('day_of_week')"
   ]
  },
  {
   "cell_type": "markdown",
   "metadata": {
    "id": "MRrb66KQ8bPo"
   },
   "source": [
    "A maximum relative difference of 10% based on the day of the week."
   ]
  },
  {
   "cell_type": "code",
   "execution_count": null,
   "metadata": {
    "id": "CUwykM0W8bPo",
    "outputId": "b8a45e2d-2b0f-4dbf-bebf-2dea058de55b"
   },
   "outputs": [
    {
     "data": {
      "image/png": "[encoded data removed]",
      "text/plain": [
       "<Figure size 864x576 with 1 Axes>"
      ]
     },
     "metadata": {
      "filenames": {
       "image/png": "/Users/psavala/Dropbox/Teaching/St Edward's/MATH 3439 - Introduction to Data Science/textbook/_build/jupyter_execute/ch_09_107_0.png"
      },
      "needs_background": "light",
      "tags": []
     },
     "output_type": "display_data"
    }
   ],
   "source": [
    "compare_classifications_by_col('airline')"
   ]
  },
  {
   "cell_type": "markdown",
   "metadata": {
    "id": "AbqakxAI8bPr"
   },
   "source": [
    "Certain airlines seem to do much worse than others."
   ]
  },
  {
   "cell_type": "code",
   "execution_count": null,
   "metadata": {
    "id": "IfAadlBN8bPr",
    "outputId": "87c29f80-7ba4-4518-db57-40661ff27c4a"
   },
   "outputs": [
    {
     "data": {
      "image/png": "[encoded data removed]",
      "text/plain": [
       "<Figure size 864x576 with 1 Axes>"
      ]
     },
     "metadata": {
      "filenames": {
       "image/png": "/Users/psavala/Dropbox/Teaching/St Edward's/MATH 3439 - Introduction to Data Science/textbook/_build/jupyter_execute/ch_09_109_0.png"
      },
      "needs_background": "light",
      "tags": []
     },
     "output_type": "display_data"
    }
   ],
   "source": [
    "compare_classifications_by_col('origin')"
   ]
  },
  {
   "cell_type": "markdown",
   "metadata": {
    "id": "eK5SEOFk8bPt"
   },
   "source": [
    "A big difference (relative to the others) for one airport, maybe we should look into that one."
   ]
  },
  {
   "cell_type": "code",
   "execution_count": null,
   "metadata": {
    "id": "m-UX77b-8bPt",
    "outputId": "6a73e0e1-742a-405b-e03e-fe493505e290"
   },
   "outputs": [
    {
     "data": {
      "image/png": "[encoded data removed]",
      "text/plain": [
       "<Figure size 864x576 with 1 Axes>"
      ]
     },
     "metadata": {
      "filenames": {
       "image/png": "/Users/psavala/Dropbox/Teaching/St Edward's/MATH 3439 - Introduction to Data Science/textbook/_build/jupyter_execute/ch_09_111_0.png"
      },
      "needs_background": "light",
      "tags": []
     },
     "output_type": "display_data"
    }
   ],
   "source": [
    "compare_classifications_by_col('dest')"
   ]
  },
  {
   "cell_type": "markdown",
   "metadata": {
    "id": "L_BmoYm88bPu"
   },
   "source": [
    "Same."
   ]
  },
  {
   "cell_type": "code",
   "execution_count": null,
   "metadata": {
    "id": "zONsgfA48bPv",
    "outputId": "2e98c075-eefe-46c2-bdd2-9de61c344d69"
   },
   "outputs": [
    {
     "data": {
      "image/png": "[encoded data removed]",
      "text/plain": [
       "<Figure size 864x576 with 1 Axes>"
      ]
     },
     "metadata": {
      "filenames": {
       "image/png": "/Users/psavala/Dropbox/Teaching/St Edward's/MATH 3439 - Introduction to Data Science/textbook/_build/jupyter_execute/ch_09_113_0.png"
      },
      "needs_background": "light",
      "tags": []
     },
     "output_type": "display_data"
    }
   ],
   "source": [
    "compare_classifications_by_col('dep_del15')"
   ]
  },
  {
   "cell_type": "markdown",
   "metadata": {
    "id": "qd9KknC98bPw"
   },
   "source": [
    "Only a 0.8% difference, not interesting."
   ]
  },
  {
   "cell_type": "code",
   "execution_count": null,
   "metadata": {
    "id": "4MXbR4S38bPx",
    "outputId": "12109012-e6b4-4571-c1bc-df6055a10a3a"
   },
   "outputs": [
    {
     "data": {
      "image/png": "[encoded data removed]",
      "text/plain": [
       "<Figure size 864x576 with 1 Axes>"
      ]
     },
     "metadata": {
      "filenames": {
       "image/png": "/Users/psavala/Dropbox/Teaching/St Edward's/MATH 3439 - Introduction to Data Science/textbook/_build/jupyter_execute/ch_09_115_0.png"
      },
      "needs_background": "light",
      "tags": []
     },
     "output_type": "display_data"
    }
   ],
   "source": [
    "compare_classifications_by_col('dep_hour')"
   ]
  },
  {
   "cell_type": "markdown",
   "metadata": {
    "id": "83M_f7--8bPy"
   },
   "source": [
    "Flights leaving early in the morning are often misclassified."
   ]
  },
  {
   "cell_type": "code",
   "execution_count": null,
   "metadata": {
    "id": "HxmcVpvk8bPy",
    "outputId": "43a6efe7-a5f7-4a8f-80a7-a535d88b605a"
   },
   "outputs": [
    {
     "data": {
      "image/png": "[encoded data removed]",
      "text/plain": [
       "<Figure size 864x576 with 1 Axes>"
      ]
     },
     "metadata": {
      "filenames": {
       "image/png": "/Users/psavala/Dropbox/Teaching/St Edward's/MATH 3439 - Introduction to Data Science/textbook/_build/jupyter_execute/ch_09_117_0.png"
      },
      "needs_background": "light",
      "tags": []
     },
     "output_type": "display_data"
    }
   ],
   "source": [
    "compare_classifications_by_col('arr_hour')"
   ]
  },
  {
   "cell_type": "markdown",
   "metadata": {
    "id": "5bh18snM8bPz"
   },
   "source": [
    "Nothing big jumps out."
   ]
  },
  {
   "cell_type": "code",
   "execution_count": null,
   "metadata": {
    "id": "Gi1kp-HT8bP0",
    "outputId": "bf5bf658-fcbc-429d-f760-7018a53444f6"
   },
   "outputs": [
    {
     "data": {
      "image/png": "[encoded data removed]",
      "text/plain": [
       "<Figure size 864x576 with 1 Axes>"
      ]
     },
     "metadata": {
      "filenames": {
       "image/png": "/Users/psavala/Dropbox/Teaching/St Edward's/MATH 3439 - Introduction to Data Science/textbook/_build/jupyter_execute/ch_09_119_0.png"
      },
      "needs_background": "light",
      "tags": []
     },
     "output_type": "display_data"
    }
   ],
   "source": [
    "compare_classifications_by_col('distance')"
   ]
  },
  {
   "cell_type": "markdown",
   "metadata": {
    "id": "KZ9qekU88bP1"
   },
   "source": [
    "It's strange that some distance are way off.\n",
    "\n",
    "So it looks like there were a few areas where there is a noticeable difference between the correctly classified and misclassified samples."
   ]
  },
  {
   "cell_type": "markdown",
   "metadata": {
    "id": "CuyzgsaK8bP1"
   },
   "source": [
    "## Ensembling <a id=\"ensemble\"></a>"
   ]
  },
  {
   "cell_type": "markdown",
   "metadata": {
    "id": "Fy6Z_JEO8bP2"
   },
   "source": [
    "One way to deal with this is through what is called \"model ensembling\". **Model ensembling** means training multiple models, and then having them \"vote\" on the correct answer. So for example, if we trained three models, then if two of them predicted the flight would be delayed and one didn't, we would go with the majority vote of it being delayed. This can be done a few different ways. One way is just to train multiple models on all of the data. Another is to train one or two models on the entire data, and then train the remaining model(s) on just the samples that were misclassified. That is the approach we'll take here. We will train a nearest neighbors classifier on the samples that were misclassified. We'll then train a slightly shallower decision tree on the misclassified data to use as our third vote. This is a decent approach because a shallower tree should look for more \"big picture\" ideas, rather than forming ultra-specific rules over 200+ levels."
   ]
  },
  {
   "cell_type": "code",
   "execution_count": null,
   "metadata": {
    "id": "tzRgOEna8bP2",
    "outputId": "22f00305-8a91-4dec-a4dc-fea283caf407"
   },
   "outputs": [
    {
     "data": {
      "text/plain": [
       "KNeighborsClassifier(algorithm='auto', leaf_size=30, metric='hamming',\n",
       "                     metric_params=None, n_jobs=None, n_neighbors=5, p=2,\n",
       "                     weights='uniform')"
      ]
     },
     "execution_count": 71,
     "metadata": {
      "tags": []
     },
     "output_type": "execute_result"
    }
   ],
   "source": [
    "nn_clf = KNeighborsClassifier(n_neighbors=5, metric='hamming')\n",
    "\n",
    "nn_clf.fit(X_train_all, y_train)"
   ]
  },
  {
   "cell_type": "code",
   "execution_count": null,
   "metadata": {
    "id": "my2rKFgr8bP3",
    "outputId": "fc85bc59-a38b-4b7e-817c-07887e6d4d63"
   },
   "outputs": [
    {
     "data": {
      "text/plain": [
       "GridSearchCV(cv=None, error_score=nan,\n",
       "             estimator=DecisionTreeClassifier(ccp_alpha=0.0, class_weight=None,\n",
       "                                              criterion='gini', max_depth=None,\n",
       "                                              max_features=None,\n",
       "                                              max_leaf_nodes=None,\n",
       "                                              min_impurity_decrease=0.0,\n",
       "                                              min_impurity_split=None,\n",
       "                                              min_samples_leaf=1,\n",
       "                                              min_samples_split=2,\n",
       "                                              min_weight_fraction_leaf=0.0,\n",
       "                                              presort='deprecated',\n",
       "                                              random_state=None,\n",
       "                                              splitter='best'),\n",
       "             iid='deprecated', n_jobs=-1,\n",
       "             param_grid={'max_depth': [20, 30, 40, 50, 60],\n",
       "                         'min_samples_leaf': [5, 7, 9],\n",
       "                         'min_samples_split': [150, 200, 250]},\n",
       "             pre_dispatch='2*n_jobs', refit=True, return_train_score=False,\n",
       "             scoring=None, verbose=0)"
      ]
     },
     "execution_count": 72,
     "metadata": {
      "tags": []
     },
     "output_type": "execute_result"
    }
   ],
   "source": [
    "dt2_clf = DecisionTreeClassifier()\n",
    "\n",
    "hyperparam_grid = {'min_samples_split': [150, 200, 250],\n",
    "                  'max_depth': [20, 30, 40, 50, 60],\n",
    "                  'min_samples_leaf': [5, 7, 9]}\n",
    "\n",
    "grid_search2 = GridSearchCV(dt2_clf, hyperparam_grid, n_jobs=-1)\n",
    "\n",
    "grid_search2.fit(X_train_all, y_train)"
   ]
  },
  {
   "cell_type": "code",
   "execution_count": null,
   "metadata": {
    "id": "uzHazwIn8bP4",
    "outputId": "7b896279-7c02-4894-fd32-2b7c207e9e1a"
   },
   "outputs": [
    {
     "data": {
      "text/plain": [
       "{'max_depth': 20, 'min_samples_leaf': 9, 'min_samples_split': 200}"
      ]
     },
     "execution_count": 73,
     "metadata": {
      "tags": []
     },
     "output_type": "execute_result"
    }
   ],
   "source": [
    "grid_search2.best_params_"
   ]
  },
  {
   "cell_type": "markdown",
   "metadata": {
    "id": "o3hGzL5S8bP7"
   },
   "source": [
    "Now we want to make our models \"vote\". We'll write a function to find the most common vote (the \"mode\") and return it. Note that `mode` is imported from the `scipy` library at the top of the notebook, it is *not* a built-in Python function."
   ]
  },
  {
   "cell_type": "code",
   "execution_count": null,
   "metadata": {
    "id": "bj-w0Hks8bP7"
   },
   "outputs": [],
   "source": [
    "def ensembled_model(model1, model2, model3, X):\n",
    "    y1_pred = model1.predict(X)\n",
    "    y2_pred = model2.predict(X)\n",
    "    y3_pred = model3.predict(X)\n",
    "    \n",
    "    return mode([y1_pred, y2_pred, y3_pred]).mode[0]"
   ]
  },
  {
   "cell_type": "code",
   "execution_count": null,
   "metadata": {
    "id": "kR5tXiyS8bP8"
   },
   "outputs": [],
   "source": [
    "voting_results = ensembled_model(grid_search, nn_clf, grid_search2, X_test_all)"
   ]
  },
  {
   "cell_type": "code",
   "execution_count": null,
   "metadata": {
    "id": "3YFhkI_J8bP9",
    "outputId": "2a11ba36-debf-475d-d6e3-220688764a9d"
   },
   "outputs": [
    {
     "data": {
      "text/plain": [
       "array([0., 0., 0., ..., 0., 0., 0.])"
      ]
     },
     "execution_count": 76,
     "metadata": {
      "tags": []
     },
     "output_type": "execute_result"
    }
   ],
   "source": [
    "voting_results"
   ]
  },
  {
   "cell_type": "code",
   "execution_count": null,
   "metadata": {
    "id": "E5n5yemq8bP_",
    "outputId": "bafa4263-69fc-4606-808b-76fbac2144e3"
   },
   "outputs": [
    {
     "name": "stdout",
     "output_type": "stream",
     "text": [
      "An overall accuracy of 83.06%\n"
     ]
    }
   ],
   "source": [
    "acc = sum(y_test == voting_results) / len(voting_results)\n",
    "print(f'An overall accuracy of {100*acc:.2f}%')"
   ]
  },
  {
   "cell_type": "code",
   "execution_count": null,
   "metadata": {
    "id": "b-7iS4my8bQA",
    "outputId": "32f03474-8cf3-477a-ab15-90f13cbe8e29"
   },
   "outputs": [
    {
     "data": {
      "text/plain": [
       "array([[0.95555543, 0.04444457],\n",
       "       [0.71643422, 0.28356578]])"
      ]
     },
     "execution_count": 78,
     "metadata": {
      "tags": []
     },
     "output_type": "execute_result"
    }
   ],
   "source": [
    "confusion_matrix(y_test, voting_results, normalize='true')"
   ]
  },
  {
   "cell_type": "markdown",
   "metadata": {
    "id": "sjkATZh08bQC"
   },
   "source": [
    "So we're doing very well predicting flights that will not be delayed (95%!), but still struggling on flights that will be delayed. Ensembling by hand like this is a slow, laborious process. Next week we will learn about models that have ensembling built into them, and and more efficient. However, ensembling by hand is still extremely popular, and almost all models that win data science competitions are ensembles."
   ]
  },
  {
   "cell_type": "code",
   "execution_count": null,
   "metadata": {
    "id": "EkcFm9uS8bQC"
   },
   "outputs": [],
   "source": []
  }
 ],
 "metadata": {
  "colab": {
   "collapsed_sections": [
    "bYzvyEpm8bOQ",
    "tKIFMjs-8bOf",
    "356kJtdv8bOn",
    "oNyVO3Ee8bOs",
    "C8z7Y2Fa8bO0",
    "qc96OFmH8bPB",
    "CuyzgsaK8bP1"
   ],
   "name": "ch_09.ipynb",
   "provenance": []
  },
  "kernelspec": {
   "display_name": "Python 3",
   "language": "python",
   "name": "python3"
  },
  "language_info": {
   "codemirror_mode": {
    "name": "ipython",
    "version": 3
   },
   "file_extension": ".py",
   "mimetype": "text/x-python",
   "name": "python",
   "nbconvert_exporter": "python",
   "pygments_lexer": "ipython3",
   "version": "3.8.2"
  }
 },
 "nbformat": 4,
 "nbformat_minor": 0
}