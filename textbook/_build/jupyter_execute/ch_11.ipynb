{
 "cells": [
  {
   "cell_type": "markdown",
   "metadata": {
    "id": "ihnuUP-F8ezc"
   },
   "source": [
    "# Working with large datasets\n",
    "\n",
    "Prior to this course, if you had never done any data analysis you probably had never worked with more than a few hundred rows of data in Excel. Even if you did have experience with data analysis, it's likely that you had never worked with more than tens or hundreds of thousands of rows of data. However, modern companies often work with millions or billions of rows of data. Simply taking the things we've done up to this point in this course and applying them to large datasets will not work. This week we'll see why, and learn some ways to understand and work with large datasets."
   ]
  },
  {
   "cell_type": "markdown",
   "metadata": {
    "id": "lAMIF6PR8ezd"
   },
   "source": [
    "## Imports"
   ]
  },
  {
   "cell_type": "code",
   "execution_count": null,
   "metadata": {
    "id": "WqXRv0QB8eze"
   },
   "outputs": [],
   "source": [
    "import pandas as pd\n",
    "import numpy as np\n",
    "\n",
    "import time\n",
    "\n",
    "from xgboost import XGBRegressor"
   ]
  },
  {
   "cell_type": "markdown",
   "metadata": {
    "id": "f3V5-7UT8ezh"
   },
   "source": [
    "## Understanding memory usage <a id=\"understanding_memory\"></a>\n",
    "\n",
    "Anything you run on a computer is limited by two things: processing power (how quickly your computer can perform calculations) and memory (how much data your computer can hold). Each of these two components also have two places where they happen:\n",
    "\n",
    "- Processing\n",
    "    - **CPU:** (Central Processing Unit) The main processor your computer uses to run pretty much all calculations\n",
    "    - **GPU:** (Graphic Processing Unit) A separate component which some (but not all) computers have. These are optimized to perform matrix multiplication. \n",
    "- Memory\n",
    "    - **HDD:** (Hard Disk Drive) The main place your computer stores your programs and files. When your phone tells you \"you are running out of memory\", they are referring to your HDD, or \"hard drive\" for short.\n",
    "    - **RAM:** (Random Access Memory) A much faster form of storage than your HDD. This is used to store data which will only be needed for a short period of time. For example, if you take a picture on your phone it stores it on the hard drive. However, if you want to apply some filters and post it on Instagram, your computer will copy it to RAM. While in RAM, it is much faster to manipulate it (e.g. apply filters to, crop, etc.) than if it were working with the copy on your hard drive.\n",
    "    \n",
    "In this course we won't deal with GPUs. However, modern deep learning involving neural networks rely heavily on GPUs, since neural networks primarily involve matrix operations. The machine learning we've done in this class wouldn't be faster on a GPU, because we aren't working with matrices. Therefore, we won't worry about the processing component. Memory, on the other hand, is a major factor with every machine learning project, no matter if it's using decision trees, neural networks, or just linear regression.\n",
    "\n",
    "Thus far, the datasets we've worked with are fairly small. But before we get ahead of ourselves, how do we even measure \"small\" vs \"big\"? Your first guess is probably the number of rows. However, rows and columns are the same thing, so one million rows and ten columns is the same as ten rows and one million columns. However, even if two datasets have the same number of rows and columns, they can still be drastically different sizes. In fact, if two people are given the *exact same dataset*, depending on how they load them into Pandas one can easily be *ten times* the size of another! Let's load the free throws NBA data to see this in action."
   ]
  },
  {
   "cell_type": "code",
   "execution_count": null,
   "metadata": {
    "id": "ArHTHxaY8ezh"
   },
   "outputs": [],
   "source": [
    "df = pd.read_csv('data/free_throws.csv')"
   ]
  },
  {
   "cell_type": "code",
   "execution_count": null,
   "metadata": {
    "id": "RZ-T57_R8ezk",
    "outputId": "cb268208-19df-4a17-99b8-b192ee9e180b"
   },
   "outputs": [
    {
     "data": {
      "text/html": [
       "<div>\n",
       "<style scoped>\n",
       "    .dataframe tbody tr th:only-of-type {\n",
       "        vertical-align: middle;\n",
       "    }\n",
       "\n",
       "    .dataframe tbody tr th {\n",
       "        vertical-align: top;\n",
       "    }\n",
       "\n",
       "    .dataframe thead th {\n",
       "        text-align: right;\n",
       "    }\n",
       "</style>\n",
       "<table border=\"1\" class=\"dataframe\">\n",
       "  <thead>\n",
       "    <tr style=\"text-align: right;\">\n",
       "      <th></th>\n",
       "      <th>period</th>\n",
       "      <th>player</th>\n",
       "      <th>playoffs</th>\n",
       "      <th>shot_made</th>\n",
       "      <th>home_team</th>\n",
       "      <th>visit_team</th>\n",
       "      <th>home_score</th>\n",
       "      <th>visit_score</th>\n",
       "      <th>home_final_score</th>\n",
       "      <th>visit_final_score</th>\n",
       "      <th>minutes</th>\n",
       "      <th>season_start</th>\n",
       "      <th>shot_count</th>\n",
       "    </tr>\n",
       "  </thead>\n",
       "  <tbody>\n",
       "    <tr>\n",
       "      <th>0</th>\n",
       "      <td>1</td>\n",
       "      <td>Andrew Bynum</td>\n",
       "      <td>0</td>\n",
       "      <td>1</td>\n",
       "      <td>LAL</td>\n",
       "      <td>PHX</td>\n",
       "      <td>1</td>\n",
       "      <td>0</td>\n",
       "      <td>114</td>\n",
       "      <td>106</td>\n",
       "      <td>47.000000</td>\n",
       "      <td>2006</td>\n",
       "      <td>1</td>\n",
       "    </tr>\n",
       "    <tr>\n",
       "      <th>1</th>\n",
       "      <td>1</td>\n",
       "      <td>Andrew Bynum</td>\n",
       "      <td>0</td>\n",
       "      <td>1</td>\n",
       "      <td>LAL</td>\n",
       "      <td>PHX</td>\n",
       "      <td>2</td>\n",
       "      <td>0</td>\n",
       "      <td>114</td>\n",
       "      <td>106</td>\n",
       "      <td>47.000000</td>\n",
       "      <td>2006</td>\n",
       "      <td>2</td>\n",
       "    </tr>\n",
       "    <tr>\n",
       "      <th>2</th>\n",
       "      <td>1</td>\n",
       "      <td>Andrew Bynum</td>\n",
       "      <td>0</td>\n",
       "      <td>1</td>\n",
       "      <td>LAL</td>\n",
       "      <td>PHX</td>\n",
       "      <td>12</td>\n",
       "      <td>18</td>\n",
       "      <td>114</td>\n",
       "      <td>106</td>\n",
       "      <td>29.733333</td>\n",
       "      <td>2006</td>\n",
       "      <td>1</td>\n",
       "    </tr>\n",
       "    <tr>\n",
       "      <th>3</th>\n",
       "      <td>1</td>\n",
       "      <td>Andrew Bynum</td>\n",
       "      <td>0</td>\n",
       "      <td>0</td>\n",
       "      <td>LAL</td>\n",
       "      <td>PHX</td>\n",
       "      <td>12</td>\n",
       "      <td>18</td>\n",
       "      <td>114</td>\n",
       "      <td>106</td>\n",
       "      <td>29.733333</td>\n",
       "      <td>2006</td>\n",
       "      <td>2</td>\n",
       "    </tr>\n",
       "    <tr>\n",
       "      <th>4</th>\n",
       "      <td>1</td>\n",
       "      <td>Shawn Marion</td>\n",
       "      <td>0</td>\n",
       "      <td>1</td>\n",
       "      <td>LAL</td>\n",
       "      <td>PHX</td>\n",
       "      <td>12</td>\n",
       "      <td>21</td>\n",
       "      <td>114</td>\n",
       "      <td>106</td>\n",
       "      <td>29.200000</td>\n",
       "      <td>2006</td>\n",
       "      <td>1</td>\n",
       "    </tr>\n",
       "  </tbody>\n",
       "</table>\n",
       "</div>"
      ],
      "text/plain": [
       "   period        player  playoffs  shot_made home_team visit_team  home_score  \\\n",
       "0       1  Andrew Bynum         0          1       LAL        PHX           1   \n",
       "1       1  Andrew Bynum         0          1       LAL        PHX           2   \n",
       "2       1  Andrew Bynum         0          1       LAL        PHX          12   \n",
       "3       1  Andrew Bynum         0          0       LAL        PHX          12   \n",
       "4       1  Shawn Marion         0          1       LAL        PHX          12   \n",
       "\n",
       "   visit_score  home_final_score  visit_final_score    minutes  season_start  \\\n",
       "0            0               114                106  47.000000          2006   \n",
       "1            0               114                106  47.000000          2006   \n",
       "2           18               114                106  29.733333          2006   \n",
       "3           18               114                106  29.733333          2006   \n",
       "4           21               114                106  29.200000          2006   \n",
       "\n",
       "   shot_count  \n",
       "0           1  \n",
       "1           2  \n",
       "2           1  \n",
       "3           2  \n",
       "4           1  "
      ]
     },
     "execution_count": 3,
     "metadata": {
      "tags": []
     },
     "output_type": "execute_result"
    }
   ],
   "source": [
    "df.head()"
   ]
  },
  {
   "cell_type": "code",
   "execution_count": null,
   "metadata": {
    "id": "_i-Y90Of8ezo",
    "outputId": "91f38819-89c6-4eab-859f-0253672fad71"
   },
   "outputs": [
    {
     "name": "stdout",
     "output_type": "stream",
     "text": [
      "Rows = 618019\n",
      "Columns = 13\n",
      "Total cells = 8034247\n"
     ]
    }
   ],
   "source": [
    "print(f'Rows = {df.shape[0]}\\nColumns = {df.shape[1]}\\nTotal cells = {df.shape[0] * df.shape[1]}')"
   ]
  },
  {
   "cell_type": "markdown",
   "metadata": {
    "id": "x_bYx4WQ8ezr"
   },
   "source": [
    "In order to see how much memory some data is using, you can use the Pandas method `.memory_usage()`. This will return the memory usage in bytes (explained below)."
   ]
  },
  {
   "cell_type": "code",
   "execution_count": null,
   "metadata": {
    "id": "LD-wNNpb8ezr",
    "outputId": "84e7f807-e0a4-4778-8bda-39135885bbd6"
   },
   "outputs": [
    {
     "data": {
      "text/plain": [
       "Index                    128\n",
       "period               4944152\n",
       "player               4944152\n",
       "playoffs             4944152\n",
       "shot_made            4944152\n",
       "home_team            4944152\n",
       "visit_team           4944152\n",
       "home_score           4944152\n",
       "visit_score          4944152\n",
       "home_final_score     4944152\n",
       "visit_final_score    4944152\n",
       "minutes              4944152\n",
       "season_start         4944152\n",
       "shot_count           4944152\n",
       "dtype: int64"
      ]
     },
     "execution_count": 4,
     "metadata": {
      "tags": []
     },
     "output_type": "execute_result"
    }
   ],
   "source": [
    "df.memory_usage()"
   ]
  },
  {
   "cell_type": "markdown",
   "metadata": {
    "id": "FMnjO5p68ezu"
   },
   "source": [
    "As you've likely at least heard, computers store all information in binary (except quantum computers!). That is, everything is stored as a `0` or `1`. A value of `0` or `1` is referred to as a **bit**. A **byte** (pronounced \"bite\") is eight bits. So, since a single bit has 2 possible outcomes, a byte has $2^8 = 256$ possible values. Historically every single number, character or punctuation mark on a computer could be stored with one byte ([here](https://www.commfront.com/pages/ascii-chart) is a chart showing how every possible value was stored). Therefore, a byte is considered to be a fundamental unit of memory measurement. While bits are smaller and make up bytes, people today primarily work directly with bytes (in the same way as scientists typically work with molecules, cells, etc., as opposed to directly counting the number of protons, neutrons and electrons). Bytes are very small, and most modern data/programs is instead measured in larger measurements. The next largest measurement is a \"kilobyte\". A **kilobyte** is one thousand bytes. Next we have a \"megabyte\". Historically, a **megabyte** was $2^{20} = 1,048,576$ bytes. However, in modern times we simply call a megabyte one million bytes (hence the prefix \"mega\", which means \"million\"), or $10^6$. Thus a megabyte can store one million characters (ornumbers, or punctations, etc.). Next up is gigabytes. A **gigabyte** historically was $2^{30} = 1,073,741,824$ bytes, however we now round that to one billion bytes, or $10^9$. Measurements certainly go higher, but we'll stop there for now.\n",
    "\n",
    "As mentioned above, Pandas `.memory_usage()` displays the value in bytes. This is too small of a measurement. Let's convert it to megabytes by dividing by $10^6$."
   ]
  },
  {
   "cell_type": "code",
   "execution_count": null,
   "metadata": {
    "id": "MbWrRfVW8ezv",
    "outputId": "9447c1b4-db37-45ce-c252-38d37f0fa525"
   },
   "outputs": [
    {
     "data": {
      "text/plain": [
       "Index                0.000128\n",
       "period               4.944152\n",
       "player               4.944152\n",
       "playoffs             4.944152\n",
       "shot_made            4.944152\n",
       "home_team            4.944152\n",
       "visit_team           4.944152\n",
       "home_score           4.944152\n",
       "visit_score          4.944152\n",
       "home_final_score     4.944152\n",
       "visit_final_score    4.944152\n",
       "minutes              4.944152\n",
       "season_start         4.944152\n",
       "shot_count           4.944152\n",
       "dtype: float64"
      ]
     },
     "execution_count": 6,
     "metadata": {
      "tags": []
     },
     "output_type": "execute_result"
    }
   ],
   "source": [
    "df.memory_usage() / 10**6"
   ]
  },
  {
   "cell_type": "markdown",
   "metadata": {
    "id": "Oe57FgiG8ezy"
   },
   "source": [
    "So each column (besides the index) is using about 5 megabytes (or MB, for short). To find out the *total* memory usage, just sum these up."
   ]
  },
  {
   "cell_type": "code",
   "execution_count": null,
   "metadata": {
    "id": "N4-zoUXT8ezy",
    "outputId": "58c1abd1-ee95-4c19-e1db-4bc60164b8f5"
   },
   "outputs": [
    {
     "data": {
      "text/plain": [
       "64.27410400000001"
      ]
     },
     "execution_count": 7,
     "metadata": {
      "tags": []
     },
     "output_type": "execute_result"
    }
   ],
   "source": [
    "(df.memory_usage() / 10**6).sum()"
   ]
  },
  {
   "cell_type": "markdown",
   "metadata": {
    "id": "gqCYYAks8ez1"
   },
   "source": [
    "So about 64 MB in total. Let's look at the data types of each column."
   ]
  },
  {
   "cell_type": "code",
   "execution_count": null,
   "metadata": {
    "id": "JbOnzO158ez1",
    "outputId": "26f4a556-a92c-4735-b8b9-8b91e9050d58"
   },
   "outputs": [
    {
     "data": {
      "text/plain": [
       "period                 int64\n",
       "player                object\n",
       "playoffs               int64\n",
       "shot_made              int64\n",
       "home_team             object\n",
       "visit_team            object\n",
       "home_score             int64\n",
       "visit_score            int64\n",
       "home_final_score       int64\n",
       "visit_final_score      int64\n",
       "minutes              float64\n",
       "season_start           int64\n",
       "shot_count             int64\n",
       "dtype: object"
      ]
     },
     "execution_count": 10,
     "metadata": {
      "tags": []
     },
     "output_type": "execute_result"
    }
   ],
   "source": [
    "df.dtypes"
   ]
  },
  {
   "cell_type": "markdown",
   "metadata": {
    "id": "g8whAlIB8ez4"
   },
   "source": [
    "We see that there are a mixture of integers, strings (objects) and floats. One component we never discussed was the \"64\" after `int` and `float`. This means that the computer can store $2^{64}$ values of that type. Since we potentially have both positive and negative values, this means that `int64` can store values from $-2^{32}$ to $2^{32}$, or values in the range $(-4294967296, 4294967295)$. Why does that matter? Because Pandas doesn't know if you any number you put in will actually *need* to be that big or not. Therefore, it *allocates* (sets aside) that much space for every cell in your data. Is that necessary? After all, the `shot_made` column only has a value of 0 or 1!\n",
    "\n",
    "A very powerful technique is to **downcast** your data by storing it in the smallest possible data type you can. In the background, Pandas is actually using numpy to store all data, so we're really interested in the numpy data types. [Here is a list](https://numpy.org/devdocs/user/basics.types.html) of all numpy data types. Take a moment and find the integers on that chart. You will see that there are several different data types to store integers. We will focus on the following ones:\n",
    "- np.int8: (-128 to 127)\n",
    "- np.int16: (-32768 to 32767)\n",
    "- np.int32 (-2147483648 to 2147483647)\n",
    "- np.int64: (-9223372036854775808 to 9223372036854775807)\n",
    "- np.uint8: (0 to 255)\n",
    "- np.uint16: (0 to 65535)\n",
    "- np.uint32: (0 to 4294967295)\n",
    "- np.uint64: (0 to 18446744073709551615)\n",
    "\n",
    "The `u` in front of some of these refers to \"unsigned\" which means it is positive (because you don't need a \"sign\" to represent it). As you might guess, data types for smaller numbers take up less space in memory. Let's start with the `period` column, which is currently stored as `int64` (see the results of `df.dtypes` above). Let's check what values actually appear in that column:"
   ]
  },
  {
   "cell_type": "code",
   "execution_count": null,
   "metadata": {
    "id": "9mrVo_Bi8ez4",
    "outputId": "a60ed275-34c6-4ad3-e9fb-ca83b937a3f8"
   },
   "outputs": [
    {
     "data": {
      "text/plain": [
       "array([1, 2, 3, 4, 5, 6, 7, 8])"
      ]
     },
     "execution_count": 11,
     "metadata": {
      "tags": []
     },
     "output_type": "execute_result"
    }
   ],
   "source": [
    "df['period'].unique()"
   ]
  },
  {
   "cell_type": "markdown",
   "metadata": {
    "id": "CZgL9pt98ez7"
   },
   "source": [
    "Only 1 through 8. Therefore, it's positive and small, and so we can store it in the smallest unsigned integer possible, namely `np.uint8`. In order to change the data type, you can use the Pandas method `.astype()`."
   ]
  },
  {
   "cell_type": "code",
   "execution_count": null,
   "metadata": {
    "id": "ScsZl8Mq8ez7"
   },
   "outputs": [],
   "source": [
    "df['period'] = df['period'].astype(np.uint8)"
   ]
  },
  {
   "cell_type": "markdown",
   "metadata": {
    "id": "koZ6CaZ-8ez-"
   },
   "source": [
    "If you look at the data, you'll see that nothing has changed:"
   ]
  },
  {
   "cell_type": "code",
   "execution_count": null,
   "metadata": {
    "id": "feE3XtrA8ez-",
    "outputId": "e453f263-ad7d-438c-e3a2-aeb91376ce08"
   },
   "outputs": [
    {
     "data": {
      "text/html": [
       "<div>\n",
       "<style scoped>\n",
       "    .dataframe tbody tr th:only-of-type {\n",
       "        vertical-align: middle;\n",
       "    }\n",
       "\n",
       "    .dataframe tbody tr th {\n",
       "        vertical-align: top;\n",
       "    }\n",
       "\n",
       "    .dataframe thead th {\n",
       "        text-align: right;\n",
       "    }\n",
       "</style>\n",
       "<table border=\"1\" class=\"dataframe\">\n",
       "  <thead>\n",
       "    <tr style=\"text-align: right;\">\n",
       "      <th></th>\n",
       "      <th>period</th>\n",
       "      <th>player</th>\n",
       "      <th>playoffs</th>\n",
       "      <th>shot_made</th>\n",
       "      <th>home_team</th>\n",
       "      <th>visit_team</th>\n",
       "      <th>home_score</th>\n",
       "      <th>visit_score</th>\n",
       "      <th>home_final_score</th>\n",
       "      <th>visit_final_score</th>\n",
       "      <th>minutes</th>\n",
       "      <th>season_start</th>\n",
       "      <th>shot_count</th>\n",
       "    </tr>\n",
       "  </thead>\n",
       "  <tbody>\n",
       "    <tr>\n",
       "      <th>0</th>\n",
       "      <td>1</td>\n",
       "      <td>Andrew Bynum</td>\n",
       "      <td>0</td>\n",
       "      <td>1</td>\n",
       "      <td>LAL</td>\n",
       "      <td>PHX</td>\n",
       "      <td>1</td>\n",
       "      <td>0</td>\n",
       "      <td>114</td>\n",
       "      <td>106</td>\n",
       "      <td>47.000000</td>\n",
       "      <td>2006</td>\n",
       "      <td>1</td>\n",
       "    </tr>\n",
       "    <tr>\n",
       "      <th>1</th>\n",
       "      <td>1</td>\n",
       "      <td>Andrew Bynum</td>\n",
       "      <td>0</td>\n",
       "      <td>1</td>\n",
       "      <td>LAL</td>\n",
       "      <td>PHX</td>\n",
       "      <td>2</td>\n",
       "      <td>0</td>\n",
       "      <td>114</td>\n",
       "      <td>106</td>\n",
       "      <td>47.000000</td>\n",
       "      <td>2006</td>\n",
       "      <td>2</td>\n",
       "    </tr>\n",
       "    <tr>\n",
       "      <th>2</th>\n",
       "      <td>1</td>\n",
       "      <td>Andrew Bynum</td>\n",
       "      <td>0</td>\n",
       "      <td>1</td>\n",
       "      <td>LAL</td>\n",
       "      <td>PHX</td>\n",
       "      <td>12</td>\n",
       "      <td>18</td>\n",
       "      <td>114</td>\n",
       "      <td>106</td>\n",
       "      <td>29.733333</td>\n",
       "      <td>2006</td>\n",
       "      <td>1</td>\n",
       "    </tr>\n",
       "    <tr>\n",
       "      <th>3</th>\n",
       "      <td>1</td>\n",
       "      <td>Andrew Bynum</td>\n",
       "      <td>0</td>\n",
       "      <td>0</td>\n",
       "      <td>LAL</td>\n",
       "      <td>PHX</td>\n",
       "      <td>12</td>\n",
       "      <td>18</td>\n",
       "      <td>114</td>\n",
       "      <td>106</td>\n",
       "      <td>29.733333</td>\n",
       "      <td>2006</td>\n",
       "      <td>2</td>\n",
       "    </tr>\n",
       "    <tr>\n",
       "      <th>4</th>\n",
       "      <td>1</td>\n",
       "      <td>Shawn Marion</td>\n",
       "      <td>0</td>\n",
       "      <td>1</td>\n",
       "      <td>LAL</td>\n",
       "      <td>PHX</td>\n",
       "      <td>12</td>\n",
       "      <td>21</td>\n",
       "      <td>114</td>\n",
       "      <td>106</td>\n",
       "      <td>29.200000</td>\n",
       "      <td>2006</td>\n",
       "      <td>1</td>\n",
       "    </tr>\n",
       "  </tbody>\n",
       "</table>\n",
       "</div>"
      ],
      "text/plain": [
       "   period        player  playoffs  shot_made home_team visit_team  home_score  \\\n",
       "0       1  Andrew Bynum         0          1       LAL        PHX           1   \n",
       "1       1  Andrew Bynum         0          1       LAL        PHX           2   \n",
       "2       1  Andrew Bynum         0          1       LAL        PHX          12   \n",
       "3       1  Andrew Bynum         0          0       LAL        PHX          12   \n",
       "4       1  Shawn Marion         0          1       LAL        PHX          12   \n",
       "\n",
       "   visit_score  home_final_score  visit_final_score    minutes  season_start  \\\n",
       "0            0               114                106  47.000000          2006   \n",
       "1            0               114                106  47.000000          2006   \n",
       "2           18               114                106  29.733333          2006   \n",
       "3           18               114                106  29.733333          2006   \n",
       "4           21               114                106  29.200000          2006   \n",
       "\n",
       "   shot_count  \n",
       "0           1  \n",
       "1           2  \n",
       "2           1  \n",
       "3           2  \n",
       "4           1  "
      ]
     },
     "execution_count": 13,
     "metadata": {
      "tags": []
     },
     "output_type": "execute_result"
    }
   ],
   "source": [
    "df.head()"
   ]
  },
  {
   "cell_type": "markdown",
   "metadata": {
    "id": "0wqpRFI-8e0B"
   },
   "source": [
    "All that's happening is that the computer is setting aside less memory to store this value. That's because now it nows that (at worst) it will need to store a value up to 256, as opposed to 922,337,203,685,477,5807. Let's now look at the memory usage again."
   ]
  },
  {
   "cell_type": "code",
   "execution_count": null,
   "metadata": {
    "id": "4UMMmO0b8e0B",
    "outputId": "c8478eb0-b614-46b8-f44d-1c6c34dd0d43"
   },
   "outputs": [
    {
     "data": {
      "text/plain": [
       "Index                0.000128\n",
       "period               0.618019\n",
       "player               4.944152\n",
       "playoffs             4.944152\n",
       "shot_made            4.944152\n",
       "home_team            4.944152\n",
       "visit_team           4.944152\n",
       "home_score           4.944152\n",
       "visit_score          4.944152\n",
       "home_final_score     4.944152\n",
       "visit_final_score    4.944152\n",
       "minutes              4.944152\n",
       "season_start         4.944152\n",
       "shot_count           4.944152\n",
       "dtype: float64"
      ]
     },
     "execution_count": 14,
     "metadata": {
      "tags": []
     },
     "output_type": "execute_result"
    }
   ],
   "source": [
    "df.memory_usage() / 10**6"
   ]
  },
  {
   "cell_type": "markdown",
   "metadata": {
    "id": "S9xN0lBF8e0E"
   },
   "source": [
    "We see that `period` went from 4.94 MB to 0.62MB! That's a reduction of 4.94 / 0.62 = 7.9 times! Let's do the same for the other integer columns. The only integer column we need to be careful about is the `season_start`. Since the seasons are in the 2000's, just representing numbers up to 256 won't be enough. In fact, if you try to downcast it to `np.int8` you get the following:"
   ]
  },
  {
   "cell_type": "code",
   "execution_count": null,
   "metadata": {
    "id": "HNqqIZbk8e0F",
    "outputId": "71390c9b-d1c7-4c44-f7e6-6532e2c8a26c"
   },
   "outputs": [
    {
     "data": {
      "text/plain": [
       "0        -42\n",
       "1        -42\n",
       "2        -42\n",
       "3        -42\n",
       "4        -42\n",
       "          ..\n",
       "618014   -33\n",
       "618015   -33\n",
       "618016   -33\n",
       "618017   -33\n",
       "618018   -33\n",
       "Name: season_start, Length: 618019, dtype: int8"
      ]
     },
     "execution_count": 15,
     "metadata": {
      "tags": []
     },
     "output_type": "execute_result"
    }
   ],
   "source": [
    "df['season_start'].astype(np.int8)"
   ]
  },
  {
   "cell_type": "markdown",
   "metadata": {
    "id": "cF82rfIg8e0H"
   },
   "source": [
    "So we'll put that one as `np.uint16` so that values up to 65,535 can be stored."
   ]
  },
  {
   "cell_type": "code",
   "execution_count": null,
   "metadata": {
    "id": "67DZR9hu8e0H"
   },
   "outputs": [],
   "source": [
    "small_int_cols = ['playoffs', 'shot_made', 'home_score', 'visit_score', 'home_final_score', 'visit_final_score', 'shot_count']\n",
    "big_int_cols = ['season_start']\n",
    "\n",
    "for col in small_int_cols:\n",
    "    df[col] = df[col].astype(np.uint8)\n",
    "    \n",
    "for col in big_int_cols:\n",
    "    df[col] = df[col].astype(np.uint16)"
   ]
  },
  {
   "cell_type": "markdown",
   "metadata": {
    "id": "3LcdQ1LH8e0J"
   },
   "source": [
    "Checking memory usage again:"
   ]
  },
  {
   "cell_type": "code",
   "execution_count": null,
   "metadata": {
    "id": "OPMEdcOU8e0K",
    "outputId": "651ebe20-9596-4460-b69f-564d173c6c54"
   },
   "outputs": [
    {
     "data": {
      "text/plain": [
       "Index                0.000128\n",
       "period               0.618019\n",
       "player               4.944152\n",
       "playoffs             0.618019\n",
       "shot_made            0.618019\n",
       "home_team            4.944152\n",
       "visit_team           4.944152\n",
       "home_score           0.618019\n",
       "visit_score          0.618019\n",
       "home_final_score     0.618019\n",
       "visit_final_score    0.618019\n",
       "minutes              4.944152\n",
       "season_start         1.236038\n",
       "shot_count           0.618019\n",
       "dtype: float64"
      ]
     },
     "execution_count": 17,
     "metadata": {
      "tags": []
     },
     "output_type": "execute_result"
    }
   ],
   "source": [
    "df.memory_usage() / 10**6"
   ]
  },
  {
   "cell_type": "code",
   "execution_count": null,
   "metadata": {
    "id": "IxZyY-za8e0M",
    "outputId": "d48d99d4-35f0-4a6b-f53b-161225cf0c4d"
   },
   "outputs": [
    {
     "data": {
      "text/plain": [
       "25.956926"
      ]
     },
     "execution_count": 18,
     "metadata": {
      "tags": []
     },
     "output_type": "execute_result"
    }
   ],
   "source": [
    "(df.memory_usage() / 10**6).sum()"
   ]
  },
  {
   "cell_type": "markdown",
   "metadata": {
    "id": "k2M1QZhb8e0P"
   },
   "source": [
    "Not bad! We went from about 64 MB to 26 MB, a reduction of more than half! Float and object columns (along with dates) are typically left alone. The one thing you can do is turn strings into numbers (such as by using a label encoder), which will reduce their memory usage. However, in our case that's not worth the effort. One final note is that a way to store data which is only `1`/`0` is a boolean (`True`/`False`). Let's make `shot_made` be a boolean."
   ]
  },
  {
   "cell_type": "code",
   "execution_count": null,
   "metadata": {
    "id": "sg-yV4E88e0Q"
   },
   "outputs": [],
   "source": [
    "df['shot_made'] = df['shot_made'].astype(np.bool_)"
   ]
  },
  {
   "cell_type": "code",
   "execution_count": null,
   "metadata": {
    "id": "1Lx74nd08e0S",
    "outputId": "6dd662d3-9a68-4086-a62f-6b441857043a"
   },
   "outputs": [
    {
     "data": {
      "text/plain": [
       "Index                0.000128\n",
       "period               0.618019\n",
       "player               4.944152\n",
       "playoffs             0.618019\n",
       "shot_made            0.618019\n",
       "home_team            4.944152\n",
       "visit_team           4.944152\n",
       "home_score           0.618019\n",
       "visit_score          0.618019\n",
       "home_final_score     0.618019\n",
       "visit_final_score    0.618019\n",
       "minutes              4.944152\n",
       "season_start         1.236038\n",
       "shot_count           0.618019\n",
       "dtype: float64"
      ]
     },
     "execution_count": 22,
     "metadata": {
      "tags": []
     },
     "output_type": "execute_result"
    }
   ],
   "source": [
    "df.memory_usage() / 10**6"
   ]
  },
  {
   "cell_type": "markdown",
   "metadata": {
    "id": "Rs2rafmE8e0U"
   },
   "source": [
    "As you can see, this didn't actually reduce the memory usage at all. All it did was change how it's displayed:"
   ]
  },
  {
   "cell_type": "code",
   "execution_count": null,
   "metadata": {
    "id": "viLbw0sk8e0U",
    "outputId": "9417503b-3cd7-4f69-fd0d-303149de8441"
   },
   "outputs": [
    {
     "data": {
      "text/html": [
       "<div>\n",
       "<style scoped>\n",
       "    .dataframe tbody tr th:only-of-type {\n",
       "        vertical-align: middle;\n",
       "    }\n",
       "\n",
       "    .dataframe tbody tr th {\n",
       "        vertical-align: top;\n",
       "    }\n",
       "\n",
       "    .dataframe thead th {\n",
       "        text-align: right;\n",
       "    }\n",
       "</style>\n",
       "<table border=\"1\" class=\"dataframe\">\n",
       "  <thead>\n",
       "    <tr style=\"text-align: right;\">\n",
       "      <th></th>\n",
       "      <th>period</th>\n",
       "      <th>player</th>\n",
       "      <th>playoffs</th>\n",
       "      <th>shot_made</th>\n",
       "      <th>home_team</th>\n",
       "      <th>visit_team</th>\n",
       "      <th>home_score</th>\n",
       "      <th>visit_score</th>\n",
       "      <th>home_final_score</th>\n",
       "      <th>visit_final_score</th>\n",
       "      <th>minutes</th>\n",
       "      <th>season_start</th>\n",
       "      <th>shot_count</th>\n",
       "    </tr>\n",
       "  </thead>\n",
       "  <tbody>\n",
       "    <tr>\n",
       "      <th>0</th>\n",
       "      <td>1</td>\n",
       "      <td>Andrew Bynum</td>\n",
       "      <td>0</td>\n",
       "      <td>True</td>\n",
       "      <td>LAL</td>\n",
       "      <td>PHX</td>\n",
       "      <td>1</td>\n",
       "      <td>0</td>\n",
       "      <td>114</td>\n",
       "      <td>106</td>\n",
       "      <td>47.000000</td>\n",
       "      <td>2006</td>\n",
       "      <td>1</td>\n",
       "    </tr>\n",
       "    <tr>\n",
       "      <th>1</th>\n",
       "      <td>1</td>\n",
       "      <td>Andrew Bynum</td>\n",
       "      <td>0</td>\n",
       "      <td>True</td>\n",
       "      <td>LAL</td>\n",
       "      <td>PHX</td>\n",
       "      <td>2</td>\n",
       "      <td>0</td>\n",
       "      <td>114</td>\n",
       "      <td>106</td>\n",
       "      <td>47.000000</td>\n",
       "      <td>2006</td>\n",
       "      <td>2</td>\n",
       "    </tr>\n",
       "    <tr>\n",
       "      <th>2</th>\n",
       "      <td>1</td>\n",
       "      <td>Andrew Bynum</td>\n",
       "      <td>0</td>\n",
       "      <td>True</td>\n",
       "      <td>LAL</td>\n",
       "      <td>PHX</td>\n",
       "      <td>12</td>\n",
       "      <td>18</td>\n",
       "      <td>114</td>\n",
       "      <td>106</td>\n",
       "      <td>29.733333</td>\n",
       "      <td>2006</td>\n",
       "      <td>1</td>\n",
       "    </tr>\n",
       "    <tr>\n",
       "      <th>3</th>\n",
       "      <td>1</td>\n",
       "      <td>Andrew Bynum</td>\n",
       "      <td>0</td>\n",
       "      <td>False</td>\n",
       "      <td>LAL</td>\n",
       "      <td>PHX</td>\n",
       "      <td>12</td>\n",
       "      <td>18</td>\n",
       "      <td>114</td>\n",
       "      <td>106</td>\n",
       "      <td>29.733333</td>\n",
       "      <td>2006</td>\n",
       "      <td>2</td>\n",
       "    </tr>\n",
       "    <tr>\n",
       "      <th>4</th>\n",
       "      <td>1</td>\n",
       "      <td>Shawn Marion</td>\n",
       "      <td>0</td>\n",
       "      <td>True</td>\n",
       "      <td>LAL</td>\n",
       "      <td>PHX</td>\n",
       "      <td>12</td>\n",
       "      <td>21</td>\n",
       "      <td>114</td>\n",
       "      <td>106</td>\n",
       "      <td>29.200000</td>\n",
       "      <td>2006</td>\n",
       "      <td>1</td>\n",
       "    </tr>\n",
       "  </tbody>\n",
       "</table>\n",
       "</div>"
      ],
      "text/plain": [
       "   period        player  playoffs  shot_made home_team visit_team  home_score  \\\n",
       "0       1  Andrew Bynum         0       True       LAL        PHX           1   \n",
       "1       1  Andrew Bynum         0       True       LAL        PHX           2   \n",
       "2       1  Andrew Bynum         0       True       LAL        PHX          12   \n",
       "3       1  Andrew Bynum         0      False       LAL        PHX          12   \n",
       "4       1  Shawn Marion         0       True       LAL        PHX          12   \n",
       "\n",
       "   visit_score  home_final_score  visit_final_score    minutes  season_start  \\\n",
       "0            0               114                106  47.000000          2006   \n",
       "1            0               114                106  47.000000          2006   \n",
       "2           18               114                106  29.733333          2006   \n",
       "3           18               114                106  29.733333          2006   \n",
       "4           21               114                106  29.200000          2006   \n",
       "\n",
       "   shot_count  \n",
       "0           1  \n",
       "1           2  \n",
       "2           1  \n",
       "3           2  \n",
       "4           1  "
      ]
     },
     "execution_count": 23,
     "metadata": {
      "tags": []
     },
     "output_type": "execute_result"
    }
   ],
   "source": [
    "df.head()"
   ]
  },
  {
   "cell_type": "markdown",
   "metadata": {
    "id": "C4EWagL_8e0W"
   },
   "source": [
    "## Selectively loading data <a id=\"selective_loading\"></a>\n",
    "\n",
    "If you go look at the [competitions on Kaggle](https://www.kaggle.com/competitions) you will see many that have datasets in the tens to hundreds of gigabytes. You may think this is not a problem, as modern computers also have hundreds of gigabytes of storage. In fact, if you were to go buy the [cheapest computer Apple makes](https://www.apple.com/shop/buy-mac/mac-mini) it comes with at least 256 GB of storage, and can easily be scaled to several factors of that. However, not all storage is the same. As discussed above, there is both your hard drive (HDD) and RAM. The Mac Mini linked above has 256 GB hard drive (in fact an SSD drive, which is a faster version of a hard drive) and 8 GB of RAM. \n",
    "\n",
    "When you download data (or any file) it is stored on your hard drive. However, once you start working with it in Pandas, it copies it onto your RAM. This is because RAM is much faster. Therefore, if it needs to quickly calculate things from your data, find a subset, build a model, etc., this is all much faster if it is on RAM. So while your computer may have 256 GB of storage and can easily hold a 100 GB dataset, the place where your computer *wants* to put your data (RAM) is only 8 GB.\n",
    "\n",
    "Because of this, working with large datasets is extremely difficult. We saw above that one way to deal with this is to load the entire dataset and then change the data types to make it smaller. However, what if the entire data is too large to load? Or what if it's small enough to load, but still would take up lots of memory on your computer and make everything slow? There are two ways to deal with this."
   ]
  },
  {
   "cell_type": "markdown",
   "metadata": {
    "id": "9PLx42l-8e0X"
   },
   "source": [
    "### Loading only a subset of your data <a id=\"loading_subset\"></a>\n",
    "\n",
    "One solution is just to load a subset of the data. For example, in the NBA data above, is it really necessary for us to have access to *every single free throw* in order to predict free throws? In fact, when we build models we typically only take 70% or so to train the model on. If you want to only load a subset of your data, you can do so using the `nrows` parameter in `.read_csv()`. So for example, the code below loads only the first 100 rows of the data."
   ]
  },
  {
   "cell_type": "code",
   "execution_count": null,
   "metadata": {
    "id": "FEHIydL48e0X"
   },
   "outputs": [],
   "source": [
    "df_mini = pd.read_csv(drive_dir + 'data/free_throws.csv', nrows=100)"
   ]
  },
  {
   "cell_type": "code",
   "execution_count": null,
   "metadata": {
    "id": "KRTY2yOF8e0a",
    "outputId": "064770cd-08fe-46b8-b217-eb2354b74f27"
   },
   "outputs": [
    {
     "data": {
      "text/html": [
       "<div>\n",
       "<style scoped>\n",
       "    .dataframe tbody tr th:only-of-type {\n",
       "        vertical-align: middle;\n",
       "    }\n",
       "\n",
       "    .dataframe tbody tr th {\n",
       "        vertical-align: top;\n",
       "    }\n",
       "\n",
       "    .dataframe thead th {\n",
       "        text-align: right;\n",
       "    }\n",
       "</style>\n",
       "<table border=\"1\" class=\"dataframe\">\n",
       "  <thead>\n",
       "    <tr style=\"text-align: right;\">\n",
       "      <th></th>\n",
       "      <th>period</th>\n",
       "      <th>player</th>\n",
       "      <th>playoffs</th>\n",
       "      <th>shot_made</th>\n",
       "      <th>home_team</th>\n",
       "      <th>visit_team</th>\n",
       "      <th>home_score</th>\n",
       "      <th>visit_score</th>\n",
       "      <th>home_final_score</th>\n",
       "      <th>visit_final_score</th>\n",
       "      <th>minutes</th>\n",
       "      <th>season_start</th>\n",
       "      <th>shot_count</th>\n",
       "    </tr>\n",
       "  </thead>\n",
       "  <tbody>\n",
       "    <tr>\n",
       "      <th>0</th>\n",
       "      <td>1</td>\n",
       "      <td>Andrew Bynum</td>\n",
       "      <td>0</td>\n",
       "      <td>1</td>\n",
       "      <td>LAL</td>\n",
       "      <td>PHX</td>\n",
       "      <td>1</td>\n",
       "      <td>0</td>\n",
       "      <td>114</td>\n",
       "      <td>106</td>\n",
       "      <td>47.000000</td>\n",
       "      <td>2006</td>\n",
       "      <td>1</td>\n",
       "    </tr>\n",
       "    <tr>\n",
       "      <th>1</th>\n",
       "      <td>1</td>\n",
       "      <td>Andrew Bynum</td>\n",
       "      <td>0</td>\n",
       "      <td>1</td>\n",
       "      <td>LAL</td>\n",
       "      <td>PHX</td>\n",
       "      <td>2</td>\n",
       "      <td>0</td>\n",
       "      <td>114</td>\n",
       "      <td>106</td>\n",
       "      <td>47.000000</td>\n",
       "      <td>2006</td>\n",
       "      <td>2</td>\n",
       "    </tr>\n",
       "    <tr>\n",
       "      <th>2</th>\n",
       "      <td>1</td>\n",
       "      <td>Andrew Bynum</td>\n",
       "      <td>0</td>\n",
       "      <td>1</td>\n",
       "      <td>LAL</td>\n",
       "      <td>PHX</td>\n",
       "      <td>12</td>\n",
       "      <td>18</td>\n",
       "      <td>114</td>\n",
       "      <td>106</td>\n",
       "      <td>29.733333</td>\n",
       "      <td>2006</td>\n",
       "      <td>1</td>\n",
       "    </tr>\n",
       "    <tr>\n",
       "      <th>3</th>\n",
       "      <td>1</td>\n",
       "      <td>Andrew Bynum</td>\n",
       "      <td>0</td>\n",
       "      <td>0</td>\n",
       "      <td>LAL</td>\n",
       "      <td>PHX</td>\n",
       "      <td>12</td>\n",
       "      <td>18</td>\n",
       "      <td>114</td>\n",
       "      <td>106</td>\n",
       "      <td>29.733333</td>\n",
       "      <td>2006</td>\n",
       "      <td>2</td>\n",
       "    </tr>\n",
       "    <tr>\n",
       "      <th>4</th>\n",
       "      <td>1</td>\n",
       "      <td>Shawn Marion</td>\n",
       "      <td>0</td>\n",
       "      <td>1</td>\n",
       "      <td>LAL</td>\n",
       "      <td>PHX</td>\n",
       "      <td>12</td>\n",
       "      <td>21</td>\n",
       "      <td>114</td>\n",
       "      <td>106</td>\n",
       "      <td>29.200000</td>\n",
       "      <td>2006</td>\n",
       "      <td>1</td>\n",
       "    </tr>\n",
       "  </tbody>\n",
       "</table>\n",
       "</div>"
      ],
      "text/plain": [
       "   period        player  playoffs  shot_made home_team visit_team  home_score  \\\n",
       "0       1  Andrew Bynum         0          1       LAL        PHX           1   \n",
       "1       1  Andrew Bynum         0          1       LAL        PHX           2   \n",
       "2       1  Andrew Bynum         0          1       LAL        PHX          12   \n",
       "3       1  Andrew Bynum         0          0       LAL        PHX          12   \n",
       "4       1  Shawn Marion         0          1       LAL        PHX          12   \n",
       "\n",
       "   visit_score  home_final_score  visit_final_score    minutes  season_start  \\\n",
       "0            0               114                106  47.000000          2006   \n",
       "1            0               114                106  47.000000          2006   \n",
       "2           18               114                106  29.733333          2006   \n",
       "3           18               114                106  29.733333          2006   \n",
       "4           21               114                106  29.200000          2006   \n",
       "\n",
       "   shot_count  \n",
       "0           1  \n",
       "1           2  \n",
       "2           1  \n",
       "3           2  \n",
       "4           1  "
      ]
     },
     "execution_count": 25,
     "metadata": {
      "tags": []
     },
     "output_type": "execute_result"
    }
   ],
   "source": [
    "df_mini.head()"
   ]
  },
  {
   "cell_type": "code",
   "execution_count": null,
   "metadata": {
    "id": "15iXHYZE8e0e",
    "outputId": "126590b3-a077-419a-d20e-5cf5355a00a8"
   },
   "outputs": [
    {
     "data": {
      "text/plain": [
       "(100, 13)"
      ]
     },
     "execution_count": 26,
     "metadata": {
      "tags": []
     },
     "output_type": "execute_result"
    }
   ],
   "source": [
    "df_mini.shape"
   ]
  },
  {
   "cell_type": "markdown",
   "metadata": {
    "id": "4suTRVQx8e0g"
   },
   "source": [
    "This can be useful for just working with a small subset of your data, or for getting just a few rows to look at. After all, how can you you know what data types to make each column if you can't even see the data?\n",
    "\n",
    "You may be tempted to just say \"if my data is big, I'll just load 100,000 rows and use that for my training set\". The problem is that `nrows=100000` simply takes the *first* 100,000 rows. So in our NBA example, that would start with the first season. But what if things changed in later seasons? That data wouldn't be in our training data, and thus our sample wouldn't be very representative of the data as a whole. It is possible to tell Pandas to skip every (say) 10th row, but even then you run the risk of getting a poor sample. Therefore, it is to your advantage to simply load as much data as you can and understand your data first. Then you can decide how best to sample your data.\n",
    "\n",
    "Finally, suppose you looked at the first 100,000 rows and realized that the dates are increasing. Now you want to get the next 100,000 rows so that you can get some data from later dates. How do you do this? Do you have to load 200,000 rows and just look at the last 100,000? If so, what do you do when you need rows 10,100,000 to 10,200,000? Luckily, Pandas let you `skip_rows`."
   ]
  },
  {
   "cell_type": "code",
   "execution_count": null,
   "metadata": {
    "id": "ZdZ4U5gQ8e0g"
   },
   "outputs": [],
   "source": [
    "# Load 100 rows again, but skip the first 100 so that we're starting at row 101\n",
    "df_mini2 = pd.read_csv(drive_dir + 'data/free_throws.csv', nrows=100, skiprows=100)"
   ]
  },
  {
   "cell_type": "code",
   "execution_count": null,
   "metadata": {
    "id": "IG2wg2k68e0j",
    "outputId": "98d9c2ff-b128-4560-de9c-4f24630898f2"
   },
   "outputs": [
    {
     "data": {
      "text/html": [
       "<div>\n",
       "<style scoped>\n",
       "    .dataframe tbody tr th:only-of-type {\n",
       "        vertical-align: middle;\n",
       "    }\n",
       "\n",
       "    .dataframe tbody tr th {\n",
       "        vertical-align: top;\n",
       "    }\n",
       "\n",
       "    .dataframe thead th {\n",
       "        text-align: right;\n",
       "    }\n",
       "</style>\n",
       "<table border=\"1\" class=\"dataframe\">\n",
       "  <thead>\n",
       "    <tr style=\"text-align: right;\">\n",
       "      <th></th>\n",
       "      <th>period</th>\n",
       "      <th>player</th>\n",
       "      <th>playoffs</th>\n",
       "      <th>shot_made</th>\n",
       "      <th>home_team</th>\n",
       "      <th>visit_team</th>\n",
       "      <th>home_score</th>\n",
       "      <th>visit_score</th>\n",
       "      <th>home_final_score</th>\n",
       "      <th>visit_final_score</th>\n",
       "      <th>minutes</th>\n",
       "      <th>season_start</th>\n",
       "      <th>shot_count</th>\n",
       "    </tr>\n",
       "  </thead>\n",
       "  <tbody>\n",
       "    <tr>\n",
       "      <th>95</th>\n",
       "      <td>1</td>\n",
       "      <td>Wally Szczerbiak</td>\n",
       "      <td>0</td>\n",
       "      <td>0</td>\n",
       "      <td>BOS</td>\n",
       "      <td>NO</td>\n",
       "      <td>2</td>\n",
       "      <td>8</td>\n",
       "      <td>87</td>\n",
       "      <td>91</td>\n",
       "      <td>33.200000</td>\n",
       "      <td>2006</td>\n",
       "      <td>1</td>\n",
       "    </tr>\n",
       "    <tr>\n",
       "      <th>96</th>\n",
       "      <td>1</td>\n",
       "      <td>Desmond Mason</td>\n",
       "      <td>0</td>\n",
       "      <td>1</td>\n",
       "      <td>BOS</td>\n",
       "      <td>NO</td>\n",
       "      <td>4</td>\n",
       "      <td>9</td>\n",
       "      <td>87</td>\n",
       "      <td>91</td>\n",
       "      <td>32.266667</td>\n",
       "      <td>2006</td>\n",
       "      <td>1</td>\n",
       "    </tr>\n",
       "    <tr>\n",
       "      <th>97</th>\n",
       "      <td>1</td>\n",
       "      <td>Desmond Mason</td>\n",
       "      <td>0</td>\n",
       "      <td>1</td>\n",
       "      <td>BOS</td>\n",
       "      <td>NO</td>\n",
       "      <td>4</td>\n",
       "      <td>10</td>\n",
       "      <td>87</td>\n",
       "      <td>91</td>\n",
       "      <td>32.266667</td>\n",
       "      <td>2006</td>\n",
       "      <td>2</td>\n",
       "    </tr>\n",
       "    <tr>\n",
       "      <th>98</th>\n",
       "      <td>1</td>\n",
       "      <td>Desmond Mason</td>\n",
       "      <td>0</td>\n",
       "      <td>0</td>\n",
       "      <td>BOS</td>\n",
       "      <td>NO</td>\n",
       "      <td>8</td>\n",
       "      <td>10</td>\n",
       "      <td>87</td>\n",
       "      <td>91</td>\n",
       "      <td>26.000000</td>\n",
       "      <td>2006</td>\n",
       "      <td>1</td>\n",
       "    </tr>\n",
       "    <tr>\n",
       "      <th>99</th>\n",
       "      <td>1</td>\n",
       "      <td>Desmond Mason</td>\n",
       "      <td>0</td>\n",
       "      <td>0</td>\n",
       "      <td>BOS</td>\n",
       "      <td>NO</td>\n",
       "      <td>8</td>\n",
       "      <td>10</td>\n",
       "      <td>87</td>\n",
       "      <td>91</td>\n",
       "      <td>26.000000</td>\n",
       "      <td>2006</td>\n",
       "      <td>2</td>\n",
       "    </tr>\n",
       "  </tbody>\n",
       "</table>\n",
       "</div>"
      ],
      "text/plain": [
       "    period            player  playoffs  shot_made home_team visit_team  \\\n",
       "95       1  Wally Szczerbiak         0          0       BOS         NO   \n",
       "96       1     Desmond Mason         0          1       BOS         NO   \n",
       "97       1     Desmond Mason         0          1       BOS         NO   \n",
       "98       1     Desmond Mason         0          0       BOS         NO   \n",
       "99       1     Desmond Mason         0          0       BOS         NO   \n",
       "\n",
       "    home_score  visit_score  home_final_score  visit_final_score    minutes  \\\n",
       "95           2            8                87                 91  33.200000   \n",
       "96           4            9                87                 91  32.266667   \n",
       "97           4           10                87                 91  32.266667   \n",
       "98           8           10                87                 91  26.000000   \n",
       "99           8           10                87                 91  26.000000   \n",
       "\n",
       "    season_start  shot_count  \n",
       "95          2006           1  \n",
       "96          2006           1  \n",
       "97          2006           2  \n",
       "98          2006           1  \n",
       "99          2006           2  "
      ]
     },
     "execution_count": 71,
     "metadata": {
      "tags": []
     },
     "output_type": "execute_result"
    }
   ],
   "source": [
    "df_mini.tail()"
   ]
  },
  {
   "cell_type": "code",
   "execution_count": null,
   "metadata": {
    "id": "rjQQG_PL8e0l",
    "outputId": "ed109cd8-3ad4-41fd-b711-27ac60efcb7e"
   },
   "outputs": [
    {
     "data": {
      "text/html": [
       "<div>\n",
       "<style scoped>\n",
       "    .dataframe tbody tr th:only-of-type {\n",
       "        vertical-align: middle;\n",
       "    }\n",
       "\n",
       "    .dataframe tbody tr th {\n",
       "        vertical-align: top;\n",
       "    }\n",
       "\n",
       "    .dataframe thead th {\n",
       "        text-align: right;\n",
       "    }\n",
       "</style>\n",
       "<table border=\"1\" class=\"dataframe\">\n",
       "  <thead>\n",
       "    <tr style=\"text-align: right;\">\n",
       "      <th></th>\n",
       "      <th>1</th>\n",
       "      <th>Desmond Mason</th>\n",
       "      <th>0</th>\n",
       "      <th>0.1</th>\n",
       "      <th>BOS</th>\n",
       "      <th>NO</th>\n",
       "      <th>8</th>\n",
       "      <th>10</th>\n",
       "      <th>87</th>\n",
       "      <th>91</th>\n",
       "      <th>26.0</th>\n",
       "      <th>2006</th>\n",
       "      <th>2</th>\n",
       "    </tr>\n",
       "  </thead>\n",
       "  <tbody>\n",
       "    <tr>\n",
       "      <th>0</th>\n",
       "      <td>1</td>\n",
       "      <td>Chris Paul</td>\n",
       "      <td>0</td>\n",
       "      <td>1</td>\n",
       "      <td>BOS</td>\n",
       "      <td>NO</td>\n",
       "      <td>8</td>\n",
       "      <td>11</td>\n",
       "      <td>87</td>\n",
       "      <td>91</td>\n",
       "      <td>24.066667</td>\n",
       "      <td>2006</td>\n",
       "      <td>1</td>\n",
       "    </tr>\n",
       "    <tr>\n",
       "      <th>1</th>\n",
       "      <td>1</td>\n",
       "      <td>Al Jefferson</td>\n",
       "      <td>0</td>\n",
       "      <td>0</td>\n",
       "      <td>BOS</td>\n",
       "      <td>NO</td>\n",
       "      <td>15</td>\n",
       "      <td>21</td>\n",
       "      <td>87</td>\n",
       "      <td>91</td>\n",
       "      <td>12.666667</td>\n",
       "      <td>2006</td>\n",
       "      <td>1</td>\n",
       "    </tr>\n",
       "    <tr>\n",
       "      <th>2</th>\n",
       "      <td>1</td>\n",
       "      <td>Rajon Rondo</td>\n",
       "      <td>0</td>\n",
       "      <td>0</td>\n",
       "      <td>BOS</td>\n",
       "      <td>NO</td>\n",
       "      <td>15</td>\n",
       "      <td>23</td>\n",
       "      <td>87</td>\n",
       "      <td>91</td>\n",
       "      <td>5.133333</td>\n",
       "      <td>2006</td>\n",
       "      <td>1</td>\n",
       "    </tr>\n",
       "    <tr>\n",
       "      <th>3</th>\n",
       "      <td>1</td>\n",
       "      <td>Rajon Rondo</td>\n",
       "      <td>0</td>\n",
       "      <td>1</td>\n",
       "      <td>BOS</td>\n",
       "      <td>NO</td>\n",
       "      <td>16</td>\n",
       "      <td>23</td>\n",
       "      <td>87</td>\n",
       "      <td>91</td>\n",
       "      <td>5.133333</td>\n",
       "      <td>2006</td>\n",
       "      <td>2</td>\n",
       "    </tr>\n",
       "    <tr>\n",
       "      <th>4</th>\n",
       "      <td>1</td>\n",
       "      <td>Bobby Jackson</td>\n",
       "      <td>0</td>\n",
       "      <td>1</td>\n",
       "      <td>BOS</td>\n",
       "      <td>NO</td>\n",
       "      <td>16</td>\n",
       "      <td>26</td>\n",
       "      <td>87</td>\n",
       "      <td>91</td>\n",
       "      <td>2.800000</td>\n",
       "      <td>2006</td>\n",
       "      <td>1</td>\n",
       "    </tr>\n",
       "  </tbody>\n",
       "</table>\n",
       "</div>"
      ],
      "text/plain": [
       "   1  Desmond Mason  0  0.1  BOS  NO   8  10  87  91       26.0  2006  2\n",
       "0  1     Chris Paul  0    1  BOS  NO   8  11  87  91  24.066667  2006  1\n",
       "1  1   Al Jefferson  0    0  BOS  NO  15  21  87  91  12.666667  2006  1\n",
       "2  1    Rajon Rondo  0    0  BOS  NO  15  23  87  91   5.133333  2006  1\n",
       "3  1    Rajon Rondo  0    1  BOS  NO  16  23  87  91   5.133333  2006  2\n",
       "4  1  Bobby Jackson  0    1  BOS  NO  16  26  87  91   2.800000  2006  1"
      ]
     },
     "execution_count": 69,
     "metadata": {
      "tags": []
     },
     "output_type": "execute_result"
    }
   ],
   "source": [
    "df_mini2.head()"
   ]
  },
  {
   "cell_type": "markdown",
   "metadata": {
    "id": "9qEyfeMA8e0n"
   },
   "source": [
    "You may have noted by when we skipped rows it also skipped the headers (rows showing the column names at the top), so that our columns have names like \"2006\" and \"BOS\". The easiest thing to do is to tell Pandas to skip from rows 1 to 100 (say)."
   ]
  },
  {
   "cell_type": "code",
   "execution_count": null,
   "metadata": {
    "id": "MMK5UmR28e0n"
   },
   "outputs": [],
   "source": [
    "df_mini2 = pd.read_csv(drive_dir + 'data/free_throws.csv', nrows=100, skiprows=(1, 100))"
   ]
  },
  {
   "cell_type": "code",
   "execution_count": null,
   "metadata": {
    "id": "Wg7vKlSG8e0p",
    "outputId": "208cf0c4-0d98-4e12-d32a-3bcf9a88e39c"
   },
   "outputs": [
    {
     "data": {
      "text/html": [
       "<div>\n",
       "<style scoped>\n",
       "    .dataframe tbody tr th:only-of-type {\n",
       "        vertical-align: middle;\n",
       "    }\n",
       "\n",
       "    .dataframe tbody tr th {\n",
       "        vertical-align: top;\n",
       "    }\n",
       "\n",
       "    .dataframe thead th {\n",
       "        text-align: right;\n",
       "    }\n",
       "</style>\n",
       "<table border=\"1\" class=\"dataframe\">\n",
       "  <thead>\n",
       "    <tr style=\"text-align: right;\">\n",
       "      <th></th>\n",
       "      <th>period</th>\n",
       "      <th>player</th>\n",
       "      <th>playoffs</th>\n",
       "      <th>shot_made</th>\n",
       "      <th>home_team</th>\n",
       "      <th>visit_team</th>\n",
       "      <th>home_score</th>\n",
       "      <th>visit_score</th>\n",
       "      <th>home_final_score</th>\n",
       "      <th>visit_final_score</th>\n",
       "      <th>minutes</th>\n",
       "      <th>season_start</th>\n",
       "      <th>shot_count</th>\n",
       "    </tr>\n",
       "  </thead>\n",
       "  <tbody>\n",
       "    <tr>\n",
       "      <th>0</th>\n",
       "      <td>1</td>\n",
       "      <td>Andrew Bynum</td>\n",
       "      <td>0</td>\n",
       "      <td>1</td>\n",
       "      <td>LAL</td>\n",
       "      <td>PHX</td>\n",
       "      <td>2</td>\n",
       "      <td>0</td>\n",
       "      <td>114</td>\n",
       "      <td>106</td>\n",
       "      <td>47.000000</td>\n",
       "      <td>2006</td>\n",
       "      <td>2</td>\n",
       "    </tr>\n",
       "    <tr>\n",
       "      <th>1</th>\n",
       "      <td>1</td>\n",
       "      <td>Andrew Bynum</td>\n",
       "      <td>0</td>\n",
       "      <td>1</td>\n",
       "      <td>LAL</td>\n",
       "      <td>PHX</td>\n",
       "      <td>12</td>\n",
       "      <td>18</td>\n",
       "      <td>114</td>\n",
       "      <td>106</td>\n",
       "      <td>29.733333</td>\n",
       "      <td>2006</td>\n",
       "      <td>1</td>\n",
       "    </tr>\n",
       "    <tr>\n",
       "      <th>2</th>\n",
       "      <td>1</td>\n",
       "      <td>Andrew Bynum</td>\n",
       "      <td>0</td>\n",
       "      <td>0</td>\n",
       "      <td>LAL</td>\n",
       "      <td>PHX</td>\n",
       "      <td>12</td>\n",
       "      <td>18</td>\n",
       "      <td>114</td>\n",
       "      <td>106</td>\n",
       "      <td>29.733333</td>\n",
       "      <td>2006</td>\n",
       "      <td>2</td>\n",
       "    </tr>\n",
       "    <tr>\n",
       "      <th>3</th>\n",
       "      <td>1</td>\n",
       "      <td>Shawn Marion</td>\n",
       "      <td>0</td>\n",
       "      <td>1</td>\n",
       "      <td>LAL</td>\n",
       "      <td>PHX</td>\n",
       "      <td>12</td>\n",
       "      <td>21</td>\n",
       "      <td>114</td>\n",
       "      <td>106</td>\n",
       "      <td>29.200000</td>\n",
       "      <td>2006</td>\n",
       "      <td>1</td>\n",
       "    </tr>\n",
       "    <tr>\n",
       "      <th>4</th>\n",
       "      <td>1</td>\n",
       "      <td>Amare Stoudemire</td>\n",
       "      <td>0</td>\n",
       "      <td>1</td>\n",
       "      <td>LAL</td>\n",
       "      <td>PHX</td>\n",
       "      <td>20</td>\n",
       "      <td>33</td>\n",
       "      <td>114</td>\n",
       "      <td>106</td>\n",
       "      <td>13.000000</td>\n",
       "      <td>2006</td>\n",
       "      <td>1</td>\n",
       "    </tr>\n",
       "  </tbody>\n",
       "</table>\n",
       "</div>"
      ],
      "text/plain": [
       "   period            player  playoffs  shot_made home_team visit_team  \\\n",
       "0       1      Andrew Bynum         0          1       LAL        PHX   \n",
       "1       1      Andrew Bynum         0          1       LAL        PHX   \n",
       "2       1      Andrew Bynum         0          0       LAL        PHX   \n",
       "3       1      Shawn Marion         0          1       LAL        PHX   \n",
       "4       1  Amare Stoudemire         0          1       LAL        PHX   \n",
       "\n",
       "   home_score  visit_score  home_final_score  visit_final_score    minutes  \\\n",
       "0           2            0               114                106  47.000000   \n",
       "1          12           18               114                106  29.733333   \n",
       "2          12           18               114                106  29.733333   \n",
       "3          12           21               114                106  29.200000   \n",
       "4          20           33               114                106  13.000000   \n",
       "\n",
       "   season_start  shot_count  \n",
       "0          2006           2  \n",
       "1          2006           1  \n",
       "2          2006           2  \n",
       "3          2006           1  \n",
       "4          2006           1  "
      ]
     },
     "execution_count": 75,
     "metadata": {
      "tags": []
     },
     "output_type": "execute_result"
    }
   ],
   "source": [
    "df_mini2.head()"
   ]
  },
  {
   "cell_type": "markdown",
   "metadata": {
    "id": "fOk8TW_P8e0r"
   },
   "source": [
    "With this, we can now do something called \"chunking\". **Chunking** refers to loading the data in consecutive chunks, and doing something with each chunk. For example, we could load the rows 100 at a time, and sample 10 of them."
   ]
  },
  {
   "cell_type": "code",
   "execution_count": null,
   "metadata": {
    "id": "CIpap6ID8e0r"
   },
   "outputs": [],
   "source": [
    "# Sample from the first 100 rows\n",
    "sample_df = pd.read_csv(drive_dir + 'data/free_throws.csv', nrows=100).sample(10)\n",
    "\n",
    "# Load 100 rows 20 times\n",
    "for i in range(20):\n",
    "    new_sample_df = pd.read_csv(drive_dir + 'data/free_throws.csv', nrows=100, skiprows=(1, (i+1)*100)).sample(10)\n",
    "    sample_df = pd.concat([sample_df, new_sample_df])"
   ]
  },
  {
   "cell_type": "code",
   "execution_count": null,
   "metadata": {
    "id": "XsFVvHL28e0t",
    "outputId": "fbe22024-5c90-4818-8632-b75939e29721"
   },
   "outputs": [
    {
     "data": {
      "text/html": [
       "<div>\n",
       "<style scoped>\n",
       "    .dataframe tbody tr th:only-of-type {\n",
       "        vertical-align: middle;\n",
       "    }\n",
       "\n",
       "    .dataframe tbody tr th {\n",
       "        vertical-align: top;\n",
       "    }\n",
       "\n",
       "    .dataframe thead th {\n",
       "        text-align: right;\n",
       "    }\n",
       "</style>\n",
       "<table border=\"1\" class=\"dataframe\">\n",
       "  <thead>\n",
       "    <tr style=\"text-align: right;\">\n",
       "      <th></th>\n",
       "      <th>period</th>\n",
       "      <th>player</th>\n",
       "      <th>playoffs</th>\n",
       "      <th>shot_made</th>\n",
       "      <th>home_team</th>\n",
       "      <th>visit_team</th>\n",
       "      <th>home_score</th>\n",
       "      <th>visit_score</th>\n",
       "      <th>home_final_score</th>\n",
       "      <th>visit_final_score</th>\n",
       "      <th>minutes</th>\n",
       "      <th>season_start</th>\n",
       "      <th>shot_count</th>\n",
       "    </tr>\n",
       "  </thead>\n",
       "  <tbody>\n",
       "    <tr>\n",
       "      <th>37</th>\n",
       "      <td>4</td>\n",
       "      <td>Leandro Barbosa</td>\n",
       "      <td>0</td>\n",
       "      <td>1</td>\n",
       "      <td>LAL</td>\n",
       "      <td>PHX</td>\n",
       "      <td>107</td>\n",
       "      <td>94</td>\n",
       "      <td>114</td>\n",
       "      <td>106</td>\n",
       "      <td>14.000000</td>\n",
       "      <td>2006</td>\n",
       "      <td>1</td>\n",
       "    </tr>\n",
       "    <tr>\n",
       "      <th>0</th>\n",
       "      <td>1</td>\n",
       "      <td>Andrew Bynum</td>\n",
       "      <td>0</td>\n",
       "      <td>1</td>\n",
       "      <td>LAL</td>\n",
       "      <td>PHX</td>\n",
       "      <td>1</td>\n",
       "      <td>0</td>\n",
       "      <td>114</td>\n",
       "      <td>106</td>\n",
       "      <td>47.000000</td>\n",
       "      <td>2006</td>\n",
       "      <td>1</td>\n",
       "    </tr>\n",
       "    <tr>\n",
       "      <th>62</th>\n",
       "      <td>2</td>\n",
       "      <td>Dwyane Wade</td>\n",
       "      <td>0</td>\n",
       "      <td>1</td>\n",
       "      <td>MIA</td>\n",
       "      <td>CHI</td>\n",
       "      <td>17</td>\n",
       "      <td>26</td>\n",
       "      <td>66</td>\n",
       "      <td>108</td>\n",
       "      <td>44.666667</td>\n",
       "      <td>2006</td>\n",
       "      <td>1</td>\n",
       "    </tr>\n",
       "    <tr>\n",
       "      <th>5</th>\n",
       "      <td>1</td>\n",
       "      <td>Amare Stoudemire</td>\n",
       "      <td>0</td>\n",
       "      <td>1</td>\n",
       "      <td>LAL</td>\n",
       "      <td>PHX</td>\n",
       "      <td>20</td>\n",
       "      <td>33</td>\n",
       "      <td>114</td>\n",
       "      <td>106</td>\n",
       "      <td>13.000000</td>\n",
       "      <td>2006</td>\n",
       "      <td>1</td>\n",
       "    </tr>\n",
       "    <tr>\n",
       "      <th>53</th>\n",
       "      <td>1</td>\n",
       "      <td>Kirk Hinrich</td>\n",
       "      <td>0</td>\n",
       "      <td>1</td>\n",
       "      <td>MIA</td>\n",
       "      <td>CHI</td>\n",
       "      <td>10</td>\n",
       "      <td>17</td>\n",
       "      <td>66</td>\n",
       "      <td>108</td>\n",
       "      <td>18.866667</td>\n",
       "      <td>2006</td>\n",
       "      <td>2</td>\n",
       "    </tr>\n",
       "  </tbody>\n",
       "</table>\n",
       "</div>"
      ],
      "text/plain": [
       "    period            player  playoffs  shot_made home_team visit_team  \\\n",
       "37       4   Leandro Barbosa         0          1       LAL        PHX   \n",
       "0        1      Andrew Bynum         0          1       LAL        PHX   \n",
       "62       2       Dwyane Wade         0          1       MIA        CHI   \n",
       "5        1  Amare Stoudemire         0          1       LAL        PHX   \n",
       "53       1      Kirk Hinrich         0          1       MIA        CHI   \n",
       "\n",
       "    home_score  visit_score  home_final_score  visit_final_score    minutes  \\\n",
       "37         107           94               114                106  14.000000   \n",
       "0            1            0               114                106  47.000000   \n",
       "62          17           26                66                108  44.666667   \n",
       "5           20           33               114                106  13.000000   \n",
       "53          10           17                66                108  18.866667   \n",
       "\n",
       "    season_start  shot_count  \n",
       "37          2006           1  \n",
       "0           2006           1  \n",
       "62          2006           1  \n",
       "5           2006           1  \n",
       "53          2006           2  "
      ]
     },
     "execution_count": 77,
     "metadata": {
      "tags": []
     },
     "output_type": "execute_result"
    }
   ],
   "source": [
    "sample_df.head()"
   ]
  },
  {
   "cell_type": "code",
   "execution_count": null,
   "metadata": {
    "id": "_n1xR-Mp8e0v",
    "outputId": "fde148d3-842b-455a-98cd-a8555ea25b2c"
   },
   "outputs": [
    {
     "data": {
      "text/plain": [
       "(210, 13)"
      ]
     },
     "execution_count": 78,
     "metadata": {
      "tags": []
     },
     "output_type": "execute_result"
    }
   ],
   "source": [
    "sample_df.shape"
   ]
  },
  {
   "cell_type": "markdown",
   "metadata": {
    "id": "pp24PFmt8e0x"
   },
   "source": [
    "At the end of this notebook we'll discuss a way to make this more efficient."
   ]
  },
  {
   "cell_type": "markdown",
   "metadata": {
    "id": "OM40ivfI8e0x"
   },
   "source": [
    "### Setting data types upon loading <a id=\"loading_dtypes\"></a>\n",
    "\n",
    "Now that you know how to load just a few rows at a time, you can examine your data to see what data types would work best to save as much memory as possible. So for instance, we see that all integer columns except scores could be loaded as `np.uint8`, and the scores as `np.uint16`. We can specify this upon loading by giving a dictionary with column names and data types to the `dtype` argument in `.read_csv()`. Note that you don't have to specify *every* columns data type. If you leave a column out, Pandas will just load it with what it thinks is best. So since it's already correctly loading the player names, team names and minutes, we'll leave those alone. We'll just tell is to load the integers using smaller memory data types."
   ]
  },
  {
   "cell_type": "code",
   "execution_count": null,
   "metadata": {
    "id": "OGTaA34o8e0x"
   },
   "outputs": [],
   "source": [
    "dtype_dict = {'period': np.uint8, 'playoffs': np.uint8, 'shot_made': np.uint8, 'home_score': np.uint16, 'visit_score': np.uint16, 'home_final_score': np.uint16, \n",
    "             'visit_final_score': np.uint16, 'season_start': np.uint16, 'shot_count': np.uint8}\n",
    "\n",
    "df_slim = pd.read_csv(drive_dir + 'data/free_throws.csv', dtype=dtype_dict)"
   ]
  },
  {
   "cell_type": "code",
   "execution_count": null,
   "metadata": {
    "id": "vk47dWiU8e0z",
    "outputId": "e0b032c3-68a5-467a-99a0-082957d9d8d1"
   },
   "outputs": [
    {
     "name": "stdout",
     "output_type": "stream",
     "text": [
      "Original file memory usage: 64.3 MB\n",
      "Slimmed file memory usage: 28.4 MB\n",
      "Reduction of 2.3x\n"
     ]
    }
   ],
   "source": [
    "df_size_mb = (df.memory_usage() / 10**6).sum()\n",
    "df_slim_size_mb = (df_slim.memory_usage() / 10**6).sum()\n",
    "\n",
    "print(f'Original file memory usage: {df_size_mb:.1f} MB')\n",
    "print(f'Slimmed file memory usage: {df_slim_size_mb:.1f} MB')\n",
    "print(f'Reduction of {df_size_mb / df_slim_size_mb:.1f}x')"
   ]
  },
  {
   "cell_type": "markdown",
   "metadata": {
    "id": "3zMbOT0e8e01"
   },
   "source": [
    "## Timing computations <a id=\"timing_computations\"></a>\n",
    "\n",
    "Up to this point we've focused on memory usage. Now, let's turn our attention to processing time. When you first started this course you were probably struggling to just learn how to get your code to do what you want. But now that you know more you are likely able to accomplish lots of different tasks, often times in more than one way. Once you reach that point it's good to start thinking about computational efficiency. Simple things like linear regression happen almost instantaneously, but more complex tasks like grid search cross validation using XGBoost can easily take hours, if not days to run. In addition, often you will run a long computation, only to realize that you should have done some things differently. Perhaps you picked a range of hyperparametrs to search, ran grid search for four hours, and the results came back that all the hyperparameters selected were the largest ones you let it search. Maybe that means you need to go larger! So you start grid search again with even larger hyperparameters, which means it will be running for even longer! In cases like these it is beneficial to try and speed up your code.\n",
    "\n",
    "The first question to ask then is, how long does my code take to run? Python can help us with that! The simplest way, which is appropriate for anything which will take several seconds or longer (as opposed to milliseconds or nanoseconds, for which it won't be as precise) is using the built-in Python library `time`, which we imported up top."
   ]
  },
  {
   "cell_type": "code",
   "execution_count": null,
   "metadata": {
    "id": "dZQUMlPQ8e01"
   },
   "outputs": [],
   "source": [
    "# This is _not_ the most efficient way to check for primality, but that's okay for our purposes\n",
    "def is_prime(n):\n",
    "    for c in range(2, n):\n",
    "        # The percent operator \"%\" means \"modulo\", so it's dividing by c and taking the remainder\n",
    "        if n % c == 0:\n",
    "            return False\n",
    "    # If nothing divides it, return True\n",
    "    return True"
   ]
  },
  {
   "cell_type": "code",
   "execution_count": null,
   "metadata": {
    "id": "wmAjVmaf8e02",
    "outputId": "81d2e0ab-528e-429e-dcf0-2ab8ed45d829"
   },
   "outputs": [
    {
     "data": {
      "text/plain": [
       "False"
      ]
     },
     "execution_count": 39,
     "metadata": {
      "tags": []
     },
     "output_type": "execute_result"
    }
   ],
   "source": [
    "is_prime(4)"
   ]
  },
  {
   "cell_type": "code",
   "execution_count": null,
   "metadata": {
    "id": "uuMi_UP28e04",
    "outputId": "025135f6-e11d-443a-aa5e-603283730550"
   },
   "outputs": [
    {
     "data": {
      "text/plain": [
       "True"
      ]
     },
     "execution_count": 43,
     "metadata": {
      "tags": []
     },
     "output_type": "execute_result"
    }
   ],
   "source": [
    "is_prime(5)"
   ]
  },
  {
   "cell_type": "code",
   "execution_count": null,
   "metadata": {
    "id": "1FlXPQwy8e06",
    "outputId": "b634cb34-974e-4fd7-9235-00ef53460164"
   },
   "outputs": [
    {
     "name": "stdout",
     "output_type": "stream",
     "text": [
      "9592 primes found\n",
      "9.59% of the numbers between 2 and 10^5 are prime\n",
      "Elapsed time: 27.700 seconds\n"
     ]
    }
   ],
   "source": [
    "# Record when the computations start\n",
    "start = time.process_time()\n",
    "\n",
    "# Do your computations\n",
    "primes = []\n",
    "for n in range(2, 10**5):\n",
    "    if is_prime(n):\n",
    "        primes.append(n)\n",
    "\n",
    "print(f'{len(primes)} primes found')\n",
    "print(f'{100*len(primes) / (10**5 - 1):.2f}% of the numbers between 2 and 10^5 are prime')\n",
    "\n",
    "# Record when the computations end\n",
    "end = time.process_time()\n",
    "\n",
    "# Print out how long it took (the result is in seconds)\n",
    "print(f'Elapsed time: {end - start:.3f} seconds')"
   ]
  },
  {
   "cell_type": "markdown",
   "metadata": {
    "id": "TAX420tP8e08"
   },
   "source": [
    "## Comprehensions <a id=\"comprehensions\"></a>\n",
    "\n",
    "In the very first notebook of this semester we introduced list comprehensions. Recall that list comprehensions are lists (you can also do them with sets, dictionaries, and any iterable) that you create using the format `[f(a) for a in blah]`. Why do we do this? Is it just to be fancy? Let's time some operations to see how creating a list of primes this way compares to doing it using a `for` loop."
   ]
  },
  {
   "cell_type": "code",
   "execution_count": null,
   "metadata": {
    "id": "RD5HgfE88e08",
    "outputId": "6d2feda3-9a19-4866-fd17-401f434bbe01"
   },
   "outputs": [
    {
     "name": "stdout",
     "output_type": "stream",
     "text": [
      "Elapsed time using a for loop: 39.525 seconds\n"
     ]
    }
   ],
   "source": [
    "# Method 1 - for loop\n",
    "start = time.process_time()\n",
    "\n",
    "squares = []\n",
    "for n in range(2, 10**8):\n",
    "    squares.append(n**2)\n",
    "        \n",
    "end = time.process_time()\n",
    "\n",
    "print(f'Elapsed time using a for loop: {end - start:.3f} seconds')"
   ]
  },
  {
   "cell_type": "code",
   "execution_count": null,
   "metadata": {
    "id": "w71KNe9c8e0_",
    "outputId": "25596153-30f0-46f9-9fb7-848ded8fb8d3"
   },
   "outputs": [
    {
     "name": "stdout",
     "output_type": "stream",
     "text": [
      "Elapsed time using a for loop: 36.268 seconds\n"
     ]
    }
   ],
   "source": [
    "# Method 2 - list comprehension\n",
    "start = time.process_time()\n",
    "\n",
    "squares = [n**2 for n in range(2, 10**8)]\n",
    "\n",
    "end = time.process_time()\n",
    "\n",
    "print(f'Elapsed time using a for loop: {end - start:.3f} seconds')"
   ]
  },
  {
   "cell_type": "markdown",
   "metadata": {
    "id": "19Gc9v8r8e1B"
   },
   "source": [
    "That's about an 8% reduction (at least on my computer) in run time. While that may not seem like a lot, 8% of six hours is about half an hour saved. If you have multiple `for` loops in your code (or even worse, a `for` loop inside another `for` loop, called a \"nested `for` loop\") then you are losing a lot of computation time."
   ]
  },
  {
   "cell_type": "markdown",
   "metadata": {
    "id": "3osjzwiE8e1C"
   },
   "source": [
    "## Deleting data in-memory\n",
    "\n",
    "Whenever you load data into your computer using `pd.read_csv()` it stays in memory. For example, Python is still holding the free throw data above in memory waiting for us to use it. However, sometimes you may load some data, look at it, keep a subset of it, and then want to throw away the rest. How do you tell Python that you no longer want it around? The answer is `del` (short for delete). Deleting data is as simple as `del my_data`. Let's check it out."
   ]
  },
  {
   "cell_type": "code",
   "execution_count": null,
   "metadata": {
    "id": "XGTvQWhR8e1D",
    "outputId": "f6e2af90-068d-4036-ed57-d1473e4809e3"
   },
   "outputs": [
    {
     "data": {
      "text/html": [
       "<div>\n",
       "<style scoped>\n",
       "    .dataframe tbody tr th:only-of-type {\n",
       "        vertical-align: middle;\n",
       "    }\n",
       "\n",
       "    .dataframe tbody tr th {\n",
       "        vertical-align: top;\n",
       "    }\n",
       "\n",
       "    .dataframe thead th {\n",
       "        text-align: right;\n",
       "    }\n",
       "</style>\n",
       "<table border=\"1\" class=\"dataframe\">\n",
       "  <thead>\n",
       "    <tr style=\"text-align: right;\">\n",
       "      <th></th>\n",
       "      <th>period</th>\n",
       "      <th>player</th>\n",
       "      <th>playoffs</th>\n",
       "      <th>shot_made</th>\n",
       "      <th>home_team</th>\n",
       "      <th>visit_team</th>\n",
       "      <th>home_score</th>\n",
       "      <th>visit_score</th>\n",
       "      <th>home_final_score</th>\n",
       "      <th>visit_final_score</th>\n",
       "      <th>minutes</th>\n",
       "      <th>season_start</th>\n",
       "      <th>shot_count</th>\n",
       "    </tr>\n",
       "  </thead>\n",
       "  <tbody>\n",
       "    <tr>\n",
       "      <th>0</th>\n",
       "      <td>1</td>\n",
       "      <td>Andrew Bynum</td>\n",
       "      <td>0</td>\n",
       "      <td>1</td>\n",
       "      <td>LAL</td>\n",
       "      <td>PHX</td>\n",
       "      <td>1</td>\n",
       "      <td>0</td>\n",
       "      <td>114</td>\n",
       "      <td>106</td>\n",
       "      <td>47.000000</td>\n",
       "      <td>2006</td>\n",
       "      <td>1</td>\n",
       "    </tr>\n",
       "    <tr>\n",
       "      <th>1</th>\n",
       "      <td>1</td>\n",
       "      <td>Andrew Bynum</td>\n",
       "      <td>0</td>\n",
       "      <td>1</td>\n",
       "      <td>LAL</td>\n",
       "      <td>PHX</td>\n",
       "      <td>2</td>\n",
       "      <td>0</td>\n",
       "      <td>114</td>\n",
       "      <td>106</td>\n",
       "      <td>47.000000</td>\n",
       "      <td>2006</td>\n",
       "      <td>2</td>\n",
       "    </tr>\n",
       "    <tr>\n",
       "      <th>2</th>\n",
       "      <td>1</td>\n",
       "      <td>Andrew Bynum</td>\n",
       "      <td>0</td>\n",
       "      <td>1</td>\n",
       "      <td>LAL</td>\n",
       "      <td>PHX</td>\n",
       "      <td>12</td>\n",
       "      <td>18</td>\n",
       "      <td>114</td>\n",
       "      <td>106</td>\n",
       "      <td>29.733333</td>\n",
       "      <td>2006</td>\n",
       "      <td>1</td>\n",
       "    </tr>\n",
       "    <tr>\n",
       "      <th>3</th>\n",
       "      <td>1</td>\n",
       "      <td>Andrew Bynum</td>\n",
       "      <td>0</td>\n",
       "      <td>0</td>\n",
       "      <td>LAL</td>\n",
       "      <td>PHX</td>\n",
       "      <td>12</td>\n",
       "      <td>18</td>\n",
       "      <td>114</td>\n",
       "      <td>106</td>\n",
       "      <td>29.733333</td>\n",
       "      <td>2006</td>\n",
       "      <td>2</td>\n",
       "    </tr>\n",
       "    <tr>\n",
       "      <th>4</th>\n",
       "      <td>1</td>\n",
       "      <td>Shawn Marion</td>\n",
       "      <td>0</td>\n",
       "      <td>1</td>\n",
       "      <td>LAL</td>\n",
       "      <td>PHX</td>\n",
       "      <td>12</td>\n",
       "      <td>21</td>\n",
       "      <td>114</td>\n",
       "      <td>106</td>\n",
       "      <td>29.200000</td>\n",
       "      <td>2006</td>\n",
       "      <td>1</td>\n",
       "    </tr>\n",
       "  </tbody>\n",
       "</table>\n",
       "</div>"
      ],
      "text/plain": [
       "   period        player  playoffs  shot_made home_team visit_team  home_score  \\\n",
       "0       1  Andrew Bynum         0          1       LAL        PHX           1   \n",
       "1       1  Andrew Bynum         0          1       LAL        PHX           2   \n",
       "2       1  Andrew Bynum         0          1       LAL        PHX          12   \n",
       "3       1  Andrew Bynum         0          0       LAL        PHX          12   \n",
       "4       1  Shawn Marion         0          1       LAL        PHX          12   \n",
       "\n",
       "   visit_score  home_final_score  visit_final_score    minutes  season_start  \\\n",
       "0            0               114                106  47.000000          2006   \n",
       "1            0               114                106  47.000000          2006   \n",
       "2           18               114                106  29.733333          2006   \n",
       "3           18               114                106  29.733333          2006   \n",
       "4           21               114                106  29.200000          2006   \n",
       "\n",
       "   shot_count  \n",
       "0           1  \n",
       "1           2  \n",
       "2           1  \n",
       "3           2  \n",
       "4           1  "
      ]
     },
     "execution_count": 65,
     "metadata": {
      "tags": []
     },
     "output_type": "execute_result"
    }
   ],
   "source": [
    "# Check to make sure the data is still in memory\n",
    "df.head()"
   ]
  },
  {
   "cell_type": "code",
   "execution_count": null,
   "metadata": {
    "id": "KGfrHRGr8e1E"
   },
   "outputs": [],
   "source": [
    "# Delete it\n",
    "del df"
   ]
  },
  {
   "cell_type": "code",
   "execution_count": null,
   "metadata": {
    "id": "n-slrDts8e1H",
    "outputId": "afa24552-800a-4f44-fdee-d04a9441c91e"
   },
   "outputs": [
    {
     "ename": "NameError",
     "evalue": "name 'df' is not defined",
     "output_type": "error",
     "traceback": [
      "\u001b[0;31m---------------------------------------------------------------------------\u001b[0m",
      "\u001b[0;31mNameError\u001b[0m                                 Traceback (most recent call last)",
      "\u001b[0;32m<ipython-input-67-0f3b9960aee0>\u001b[0m in \u001b[0;36m<module>\u001b[0;34m\u001b[0m\n\u001b[1;32m      1\u001b[0m \u001b[0;31m# It's no longer in memory\u001b[0m\u001b[0;34m\u001b[0m\u001b[0;34m\u001b[0m\u001b[0;34m\u001b[0m\u001b[0m\n\u001b[0;32m----> 2\u001b[0;31m \u001b[0mdf\u001b[0m\u001b[0;34m.\u001b[0m\u001b[0mhead\u001b[0m\u001b[0;34m(\u001b[0m\u001b[0;34m)\u001b[0m\u001b[0;34m\u001b[0m\u001b[0;34m\u001b[0m\u001b[0m\n\u001b[0m",
      "\u001b[0;31mNameError\u001b[0m: name 'df' is not defined"
     ]
    }
   ],
   "source": [
    "# It's no longer in memory\n",
    "df.head()"
   ]
  },
  {
   "cell_type": "markdown",
   "metadata": {
    "id": "St8M7fHi8e1J"
   },
   "source": [
    "## Sklearn warm start <a id=\"warm_start\"></a>\n",
    "\n",
    "Let's suppose you had a large dataset that you couldn't fit in memory. In that case, you decide to load the data in chunks and create a subset to train your model on. However, after looking at your data you realize that even your *subset* would be too large. What can you do about it? You may guess that you can load data, train your model, load more data, train your model again, and so forth, as such:"
   ]
  },
  {
   "cell_type": "code",
   "execution_count": null,
   "metadata": {
    "id": "KYw0Qxgw8e1K",
    "outputId": "583f1f47-fbd2-4ee9-bb13-a77edf4a2233"
   },
   "outputs": [
    {
     "name": "stdout",
     "output_type": "stream",
     "text": [
      "Fitting model on rows 0 to 1000\n",
      "Fitting model on rows 1000 to 2000\n",
      "Fitting model on rows 2000 to 3000\n",
      "Fitting model on rows 3000 to 4000\n",
      "Fitting model on rows 4000 to 5000\n"
     ]
    }
   ],
   "source": [
    "# Load the first 5 groups of 1000 rows\n",
    "n_rows = 1000\n",
    "n_chunks_to_load = 5\n",
    "\n",
    "# Instantiate the model\n",
    "xgb_reg = XGBClassifier()\n",
    "\n",
    "# Load data, train the model, repeat\n",
    "for i in range(n_chunks_to_load):\n",
    "    print(f'Fitting model on rows {n_rows*i} to {n_rows*(i+1)}')\n",
    "    sample_df = pd.read_csv(drive_dir + 'data/free_throws.csv', nrows=n_rows, skiprows=(1, (i+1)*n_rows))\n",
    "    X = sample_df[['shot_count', 'playoffs', 'minutes']]\n",
    "    y = sample_df['shot_made']\n",
    "    xgb_reg.fit(X, y)"
   ]
  },
  {
   "cell_type": "markdown",
   "metadata": {
    "id": "2SGb6B4u8e1M"
   },
   "source": [
    "This code runs, and you may think everything has gone perfectly. However, what you've *actually* done is train a model *only on rows 4000 to 5000*. This is because every time you call `.fit()`, sklearn assumes you want to start fresh. So even if you already `.fit` your model on some other data, it assumes you no longer want that, and so it creates a new one and throws away the old one. What we want is to do a *warm start*. In model training, a **warm start** is when you take a model which was already trained on some data, and then train it on additional data *without discarding what it already learned*. It is incredibly simple to do. When you instantiate the model, simply set `warm_start=True`. We can copy and paste the above code with that one minor change, and it will work how we want it to."
   ]
  },
  {
   "cell_type": "code",
   "execution_count": null,
   "metadata": {
    "id": "iKWi1v908e1N",
    "outputId": "28512a43-2cba-4514-bb0c-85aa7005221d"
   },
   "outputs": [
    {
     "name": "stdout",
     "output_type": "stream",
     "text": [
      "Fitting model on rows 0 to 1000\n",
      "Fitting model on rows 1000 to 2000\n",
      "Fitting model on rows 2000 to 3000\n",
      "Fitting model on rows 3000 to 4000\n",
      "Fitting model on rows 4000 to 5000\n"
     ]
    }
   ],
   "source": [
    "# Load the first 5 groups of 1000 rows\n",
    "n_rows = 1000\n",
    "n_chunks_to_load = 5\n",
    "\n",
    "# Instantiate the model\n",
    "xgb_reg = XGBClassifier(warm_start=True) # THIS IS THE ONLY CHANGE!\n",
    "\n",
    "# Load data, train the model, repeat\n",
    "for i in range(n_chunks_to_load):\n",
    "    print(f'Fitting model on rows {n_rows*i} to {n_rows*(i+1)}')\n",
    "    sample_df = pd.read_csv(drive_dir + 'data/free_throws.csv', nrows=n_rows, skiprows=(1, (i+1)*n_rows))\n",
    "    X = sample_df[['shot_count', 'playoffs', 'minutes']]\n",
    "    y = sample_df['shot_made']\n",
    "    xgb_reg.fit(X, y)"
   ]
  },
  {
   "cell_type": "markdown",
   "metadata": {
    "id": "FsEI-OSU8e1O"
   },
   "source": [
    "## Final thoughts <a id=\"final_thoughts\"></a>\n",
    "\n",
    "Most large companies who hire data scientists or analysts have incredible amounts of data to work with. Early on as a data scientist I was told that I would be working with a \"small\" dataset that had \"only\" eighty million rows of data. When working with data of this size you have to think strategically. Simply trying to load the entire data on your computer at once will never work. Instead, start with a small subset of the data to get a feel for it. Then, start figuring out what subset of the data you want to work with. Is it fine to just load the first 100,000 rows? Or do you need to sample according to a date which is growing? Come up with your strategy, and then import a chunk of the data. From that data, sample what you want and set it aside. Then, delete the original data using `del`. Then, load the next chunk and repeat. Note that this is different from what we did earlier, in that we're deleting the data we loaded originally. This is important, because otherwise we are just accumulating more and more data in memory, and we're actually not being any more efficient than just loading the entire thing!"
   ]
  },
  {
   "cell_type": "code",
   "execution_count": null,
   "metadata": {
    "id": "W6_I6atG8e1P"
   },
   "outputs": [],
   "source": []
  }
 ],
 "metadata": {
  "colab": {
   "collapsed_sections": [
    "C4EWagL_8e0W",
    "9PLx42l-8e0X",
    "OM40ivfI8e0x",
    "3zMbOT0e8e01",
    "TAX420tP8e08",
    "3osjzwiE8e1C",
    "St8M7fHi8e1J",
    "FsEI-OSU8e1O"
   ],
   "name": "ch_11.ipynb",
   "provenance": []
  },
  "kernelspec": {
   "display_name": "Python 3",
   "language": "python",
   "name": "python3"
  },
  "language_info": {
   "codemirror_mode": {
    "name": "ipython",
    "version": 3
   },
   "file_extension": ".py",
   "mimetype": "text/x-python",
   "name": "python",
   "nbconvert_exporter": "python",
   "pygments_lexer": "ipython3",
   "version": "3.8.2"
  }
 },
 "nbformat": 4,
 "nbformat_minor": 0
}