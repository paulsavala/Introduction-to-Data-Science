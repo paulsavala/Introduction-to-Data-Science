{
 "cells": [
  {
   "cell_type": "markdown",
   "metadata": {
    "id": "23WwLxJSrqky"
   },
   "source": [
    "# Ensemble tree models\n",
    "\n",
    "Last week we saw how ensembling models can lead to better results than a single model. We did this by hand by creating three different models and having them \"vote\" on the result. Ensembled models are some of the most powerful models out there, and regularly win [Kaggle competitions](https://www.kaggle.com/competitions). This week we will discuss some models which themselves are ensembles, meaning the model is actually a collection of many different models. "
   ]
  },
  {
   "cell_type": "markdown",
   "metadata": {
    "id": "AWm15gZLrqk0"
   },
   "source": [
    "## Imports"
   ]
  },
  {
   "cell_type": "code",
   "execution_count": 2,
   "metadata": {
    "colab": {
     "base_uri": "https://localhost:8080/",
     "height": 54
    },
    "executionInfo": {
     "elapsed": 368,
     "status": "ok",
     "timestamp": 1602706784407,
     "user": {
      "displayName": "Paul Savala",
      "photoUrl": "",
      "userId": "04066700849744751898"
     },
     "user_tz": 300
    },
    "id": "pvmK-mlrrqk1",
    "outputId": "7eacb14d-18d4-4189-c3fb-2fb9531412b0"
   },
   "outputs": [],
   "source": [
    "import pandas as pd\n",
    "import numpy as np\n",
    "\n",
    "from matplotlib import pyplot as plt\n",
    "\n",
    "from sklearn.model_selection import train_test_split, GridSearchCV\n",
    "from sklearn.metrics import plot_confusion_matrix\n",
    "from sklearn.ensemble import RandomForestClassifier\n",
    "from sklearn.tree import DecisionTreeRegressor\n",
    "from xgboost.sklearn import XGBClassifier"
   ]
  },
  {
   "cell_type": "markdown",
   "metadata": {
    "id": "VEFbPeVLrqk4"
   },
   "source": [
    "## Data loading\n",
    "\n",
    "This week we'll continue working with the flight delay prediction dataset. That way we can compare the results we get from these ensemble models to the results from simple models and \"hand-ensembled\" models. We'll load the saved cleaned data from last wek."
   ]
  },
  {
   "cell_type": "code",
   "execution_count": null,
   "metadata": {
    "id": "qby-QeShrqk5"
   },
   "outputs": [],
   "source": [
    "df = pd.read_csv('data/flights_jan_2019_cleaned.csv')"
   ]
  },
  {
   "cell_type": "code",
   "execution_count": null,
   "metadata": {
    "colab": {
     "base_uri": "https://localhost:8080/",
     "height": 224
    },
    "executionInfo": {
     "elapsed": 2094,
     "status": "ok",
     "timestamp": 1602706786155,
     "user": {
      "displayName": "Paul Savala",
      "photoUrl": "",
      "userId": "04066700849744751898"
     },
     "user_tz": 300
    },
    "id": "pVn9DGW0rqk8",
    "outputId": "987ee056-8995-40b4-f29d-d0a1ad59aefe"
   },
   "outputs": [
    {
     "data": {
      "text/html": [
       "<div>\n",
       "<style scoped>\n",
       "    .dataframe tbody tr th:only-of-type {\n",
       "        vertical-align: middle;\n",
       "    }\n",
       "\n",
       "    .dataframe tbody tr th {\n",
       "        vertical-align: top;\n",
       "    }\n",
       "\n",
       "    .dataframe thead th {\n",
       "        text-align: right;\n",
       "    }\n",
       "</style>\n",
       "<table border=\"1\" class=\"dataframe\">\n",
       "  <thead>\n",
       "    <tr style=\"text-align: right;\">\n",
       "      <th></th>\n",
       "      <th>day_of_month</th>\n",
       "      <th>day_of_week</th>\n",
       "      <th>airline</th>\n",
       "      <th>origin</th>\n",
       "      <th>dest</th>\n",
       "      <th>dep_del15</th>\n",
       "      <th>arr_del15</th>\n",
       "      <th>cancelled</th>\n",
       "      <th>diverted</th>\n",
       "      <th>distance</th>\n",
       "      <th>dep_hour</th>\n",
       "      <th>arr_hour</th>\n",
       "    </tr>\n",
       "  </thead>\n",
       "  <tbody>\n",
       "    <tr>\n",
       "      <th>0</th>\n",
       "      <td>1</td>\n",
       "      <td>2</td>\n",
       "      <td>20363</td>\n",
       "      <td>128</td>\n",
       "      <td>19</td>\n",
       "      <td>0.0</td>\n",
       "      <td>0.0</td>\n",
       "      <td>0.0</td>\n",
       "      <td>0.0</td>\n",
       "      <td>300.0</td>\n",
       "      <td>6.016667</td>\n",
       "      <td>7.366667</td>\n",
       "    </tr>\n",
       "    <tr>\n",
       "      <th>1</th>\n",
       "      <td>1</td>\n",
       "      <td>2</td>\n",
       "      <td>20363</td>\n",
       "      <td>225</td>\n",
       "      <td>80</td>\n",
       "      <td>0.0</td>\n",
       "      <td>0.0</td>\n",
       "      <td>0.0</td>\n",
       "      <td>0.0</td>\n",
       "      <td>596.0</td>\n",
       "      <td>13.983333</td>\n",
       "      <td>16.550000</td>\n",
       "    </tr>\n",
       "    <tr>\n",
       "      <th>2</th>\n",
       "      <td>1</td>\n",
       "      <td>2</td>\n",
       "      <td>20363</td>\n",
       "      <td>95</td>\n",
       "      <td>80</td>\n",
       "      <td>0.0</td>\n",
       "      <td>0.0</td>\n",
       "      <td>0.0</td>\n",
       "      <td>0.0</td>\n",
       "      <td>229.0</td>\n",
       "      <td>12.250000</td>\n",
       "      <td>13.483333</td>\n",
       "    </tr>\n",
       "    <tr>\n",
       "      <th>3</th>\n",
       "      <td>1</td>\n",
       "      <td>2</td>\n",
       "      <td>20363</td>\n",
       "      <td>325</td>\n",
       "      <td>19</td>\n",
       "      <td>0.0</td>\n",
       "      <td>0.0</td>\n",
       "      <td>0.0</td>\n",
       "      <td>0.0</td>\n",
       "      <td>223.0</td>\n",
       "      <td>15.350000</td>\n",
       "      <td>16.416667</td>\n",
       "    </tr>\n",
       "    <tr>\n",
       "      <th>4</th>\n",
       "      <td>1</td>\n",
       "      <td>2</td>\n",
       "      <td>20363</td>\n",
       "      <td>19</td>\n",
       "      <td>120</td>\n",
       "      <td>0.0</td>\n",
       "      <td>0.0</td>\n",
       "      <td>0.0</td>\n",
       "      <td>0.0</td>\n",
       "      <td>579.0</td>\n",
       "      <td>18.783333</td>\n",
       "      <td>19.666667</td>\n",
       "    </tr>\n",
       "  </tbody>\n",
       "</table>\n",
       "</div>"
      ],
      "text/plain": [
       "   day_of_month  day_of_week  airline  ...  distance   dep_hour   arr_hour\n",
       "0             1            2    20363  ...     300.0   6.016667   7.366667\n",
       "1             1            2    20363  ...     596.0  13.983333  16.550000\n",
       "2             1            2    20363  ...     229.0  12.250000  13.483333\n",
       "3             1            2    20363  ...     223.0  15.350000  16.416667\n",
       "4             1            2    20363  ...     579.0  18.783333  19.666667\n",
       "\n",
       "[5 rows x 12 columns]"
      ]
     },
     "execution_count": 6,
     "metadata": {
      "tags": []
     },
     "output_type": "execute_result"
    }
   ],
   "source": [
    "df.head()"
   ]
  },
  {
   "cell_type": "code",
   "execution_count": null,
   "metadata": {
    "id": "mSq1K-dcrqk_"
   },
   "outputs": [],
   "source": [
    "train_df, test_df = train_test_split(df, test_size=0.3)\n",
    "\n",
    "X_cols = ['day_of_month', 'day_of_week', 'airline', 'origin', 'dest', 'dep_del15', 'cancelled', 'diverted', 'dep_hour', 'arr_hour']\n",
    "y_col = 'arr_del15'\n",
    "\n",
    "X_train = train_df[X_cols]\n",
    "y_train = train_df[y_col]\n",
    "\n",
    "X_test = test_df[X_cols]\n",
    "y_test = test_df[y_col]"
   ]
  },
  {
   "cell_type": "markdown",
   "metadata": {
    "id": "9occxlI5rqlB"
   },
   "source": [
    "## Why ensemble? <a id=\"why_ensemble\"></a>\n",
    "\n",
    "We saw last week that ensembling can lead to better results, but why? What is about combining models that causes the results to be better? After all, how do we know they won't come to a census on the *wrong* prediction?\n",
    "\n",
    "The general idea is what is called \"bias-variance tradeoff\". In machine learning, no model will make perfect predictions (at least for any realistic case). The error it makes can be broken down into three components:\n",
    "\n",
    "**Error = Bias + Variance + Noise**\n",
    "\n",
    "**Bias** means the way in which your models predictions are influenced by the model chosen. For instance, linear regression will always predict a line. Therefore, if your data is not a perfect line, linear regression will always have error when attempting to predict it. Since this error is due to the assumptions of your model (and how they don't perfectly match your match), we call this \"bias\". You can think of it as being analogous to how humans have bias. We are biased in certain directions largely based on our life experiences. You may be biased against smoking because you grew up hearing smoking was bad, and maybe saw a family member who died early from smoking. However, if you took someone who had no such experience, they may not be biased against smokers. \n",
    "\n",
    "**Variance** means how much the predictions change based on the input to the model. For instance, suppose you wanted to model the salary of a person based on their education. If you took one hundred random people and trained your model with them you would get a certain result. But what about if you changed your data and picked 100 new people. Since their educations are likely different, your model would be different. If your model could change drastically (such as how linear regression does with outliers) then we would say it has high variance.\n",
    "\n",
    "**Noise** simply means noise in the data. Essentially no data follows any perfect pattern, and even the best model will still have slight errors, simply because of this. Noise is unavoidable in the data.\n",
    "\n",
    "Bias and variance can also change with changing the hyperparameters of a model. For instance, suppose you had a decision tree with a maximum depth of 3. This is a simple model which can only make $2^3$ decision (each leaf splits into two leaves three times). Therefore, it's not going to fit most data perfectly due to this rigid structure, and thus it has high bias. However, because there are so few decisions being made, changing the data slightly isn't going to drastically alter the results, and thus the variance is low. However, if we change it to have depth 200, then the exact opposite is true. It now can fit the data extremely well due to having so many decision rules. However, all these rules mean even small changes to the data can result in big prediction changes, and thus the variance is high.\n",
    "\n",
    "**Rule of thumb:** The more complex and nuanced a model is, the higher the bias and the lower the variance. The simpler a model is, the higher the variance and the lower the bias.\n",
    "\n",
    "When we ensemble models we are attempting to reduce bias and/or variance. For example, if you ensemble a linear model, a decision tree and a nearest neighbors model, these all have different structures. Therefore, even if our data was not linear (and thus couldn't be fit well by the linear regression model), it may still be fit well by the other models. Therefore, by ensembling we would be effectively reducing the bias. Similarly, if we have a high variance model like a deep decision tree, we can reduce the variance by ensembling it with a simpler, lower variance model."
   ]
  },
  {
   "cell_type": "markdown",
   "metadata": {
    "id": "yHxiIaNOrqlC"
   },
   "source": [
    "## Random forests <a id=\"random_forests\"></a>\n",
    "\n",
    "The first ensemble model we'll learn is called random forests. Random forests are simply a collection of decision trees, each fitted on slightly different data, and then taken together to average their predictions. For a regression problem this means the prediction is literally the average of the predicted values. For a classification problem the probabilities predicted are averaged, and a class is chosen based on the resulting average probability. Regardless, the point is to address the problem discussed above: simple decision trees are too simple to fit the data well, but complex trees are too deep to produce reliable predictions. By averaging many deep trees we hope that the mistakes will \"cancel each other out.\" Let's jump right into building random forests. Note that at the top of this notebook we imported `RandomForestClassifier` from `sklearn.ensemble`. There is also a `RandomForestRegressor` for regression problems.\n",
    "\n",
    "Random forests have almost all of the same hyperparameters as decision trees...because they are decision trees, just lots of them! So the main difference is choosing how many decision trees should be made, which is the parameter `n_estimators`. This is another hyperparameter, and thus should be determined using grid search and cross validation like we did last week. The default value in sklearn is 100, which shows you just how many trees are considered a \"default\". In addition, you have the option to have each tree only work with a subset of the columns. This is controlled by `max_features`, which tells it how many columns it should use. The point of all of this randomness (random selection of columns, 100 different tree, random selection of rows) is to create trees which come to different conclusions. Then we can take those conclusions and look at them \"on average\" to make a final prediction.\n",
    "\n",
    "Random forests are slow to train because they involve building many trees. Therefore, we will just train a single one with guesses at the hyperparameters."
   ]
  },
  {
   "cell_type": "code",
   "execution_count": null,
   "metadata": {
    "colab": {
     "base_uri": "https://localhost:8080/",
     "height": 296
    },
    "executionInfo": {
     "elapsed": 62266,
     "status": "ok",
     "timestamp": 1602706846337,
     "user": {
      "displayName": "Paul Savala",
      "photoUrl": "",
      "userId": "04066700849744751898"
     },
     "user_tz": 300
    },
    "id": "mIYiiKrlrqlC",
    "outputId": "3336c371-8d67-4270-dd50-ae7abdf2c053"
   },
   "outputs": [
    {
     "data": {
      "text/plain": [
       "<sklearn.metrics._plot.confusion_matrix.ConfusionMatrixDisplay at 0x7f9ed2c27eb8>"
      ]
     },
     "execution_count": 8,
     "metadata": {
      "tags": []
     },
     "output_type": "execute_result"
    },
    {
     "data": {
      "image/png": "[encoded data removed]",
      "text/plain": [
       "<Figure size 432x288 with 2 Axes>"
      ]
     },
     "metadata": {
      "filenames": {
       "image/png": "/Users/psavala/Dropbox/Teaching/St Edward's/MATH 3439 - Introduction to Data Science/textbook/_build/jupyter_execute/ch_10_9_1.png"
      },
      "needs_background": "light",
      "tags": []
     },
     "output_type": "display_data"
    }
   ],
   "source": [
    "rf_clf = RandomForestClassifier(min_samples_split=25, max_depth=100, min_samples_leaf=25, max_features=3, n_estimators=100, n_jobs=-1)\n",
    "\n",
    "rf_clf.fit(X_train, y_train)\n",
    "\n",
    "plot_confusion_matrix(rf_clf, X_test, y_test, normalize='true')"
   ]
  },
  {
   "cell_type": "markdown",
   "metadata": {
    "id": "2V6VhshJrqlF"
   },
   "source": [
    "What an improvement over last week! If you recall, last week we also had 95%+ accuracy on non-delayed flights, but we struggled greaty on flights that were delayed. However, this new random forest model does very well on both classes. Getting 75% accuracy on delayed flights is fantastic, and could likely be improved further through hyperparameter tuning."
   ]
  },
  {
   "cell_type": "markdown",
   "metadata": {
    "id": "nAJ2MGcyrqlG"
   },
   "source": [
    "## Gradient boosting <a id=\"gradient_boosting\"></a>\n",
    "\n",
    "Gradient boosting is another form of ensembling, however we talk about gradient boosting on its own for two reasons. The first is that it works in a fundamentally different way than random forests. While random forests randomly creates trees and hopes that in combination they will make good predictions, **gradient boosting** constructs trees by learning from the mistakes of previous trees (we go more into this below). The second reason is that implementations of gradient boosting in Python (the most famous being [XGBoost](https://xgboost.readthedocs.io/en/latest/tutorials/model.html)) have won numerous data science competitions. If you have tabular data (meaning data best represented by tables, including all datasets we have seen in this class, but *not* things like images, audio or long text) and want to perform classification or regression, gradient boosting is likely the state of the art. If you are building a serious prediction model to work with complex data, it would be expected that you have tried using a gradient boosting model. Failure to do so would be leaving your most powerful tool in the toolbox."
   ]
  },
  {
   "cell_type": "markdown",
   "metadata": {
    "id": "0Vprj-qDrqlG"
   },
   "source": [
    "### Mathematics of gradient boosting <a id=\"math_boosting\"></a>\n",
    "\n",
    "Let's start by discussing the mathematics of gradient boosting, as without an understanding of the underlying mechanics you can never truly understand why it matters and how it works.\n",
    "\n",
    "In general, gradient boosting follows these steps:\n",
    "1. Start with an initial tree model\n",
    "2. Find where the existing model makes incorrect predictions\n",
    "3. Create a new tree which \"fixes\" those incorrect predictions as best as possible\n",
    "4. Set the new model to be the existing tree plus this newly created one\n",
    "5. Repeat steps 2 through 4 as many times as you like.\n",
    "\n",
    "Let's go into each of these steps in detail."
   ]
  },
  {
   "cell_type": "markdown",
   "metadata": {
    "id": "yF26N29srqlH"
   },
   "source": [
    "**1. Start with an initial tree model**:\n",
    "This is exactly what it sounds like. Our initial tree is just a decision tree like we have already seen.\n",
    "\n",
    "**2. Find where the existing model makes incorrect predictions**:\n",
    "Recall that we measure how well our model is doing by a *loss function*. We have often used mean squared error (MSE) as the loss function for regression problems, and cross entropy as the loss function for classification problems. The loss function returns a large value if the predictions are way off, and a small value if the predictions are close to being correct.\n",
    "\n",
    "Let's play a game. Suppose you have the following points and want to fit a decision tree to them:"
   ]
  },
  {
   "cell_type": "code",
   "execution_count": null,
   "metadata": {
    "colab": {
     "base_uri": "https://localhost:8080/",
     "height": 500
    },
    "executionInfo": {
     "elapsed": 62441,
     "status": "ok",
     "timestamp": 1602706846517,
     "user": {
      "displayName": "Paul Savala",
      "photoUrl": "",
      "userId": "04066700849744751898"
     },
     "user_tz": 300
    },
    "id": "VcDs6yUxrqlH",
    "outputId": "1cefb5a6-a89b-4298-fafd-83a91f120ba4"
   },
   "outputs": [
    {
     "data": {
      "text/plain": [
       "<matplotlib.collections.PathCollection at 0x7f9e9f19ed30>"
      ]
     },
     "execution_count": 9,
     "metadata": {
      "tags": []
     },
     "output_type": "execute_result"
    },
    {
     "data": {
      "image/png": "[encoded data removed]",
      "text/plain": [
       "<Figure size 864x576 with 1 Axes>"
      ]
     },
     "metadata": {
      "filenames": {
       "image/png": "/Users/psavala/Dropbox/Teaching/St Edward's/MATH 3439 - Introduction to Data Science/textbook/_build/jupyter_execute/ch_10_14_1.png"
      },
      "needs_background": "light",
      "tags": []
     },
     "output_type": "display_data"
    }
   ],
   "source": [
    "x = np.linspace(0, 2*np.pi, 100)\n",
    "y = np.sin(x)*(1+np.random.rand(100))\n",
    "\n",
    "plt.figure(figsize=(12, 8))\n",
    "plt.scatter(x, y)"
   ]
  },
  {
   "cell_type": "markdown",
   "metadata": {
    "id": "vtcfRdWJrqlK"
   },
   "source": [
    "Let's fit a decision tree."
   ]
  },
  {
   "cell_type": "code",
   "execution_count": null,
   "metadata": {
    "colab": {
     "base_uri": "https://localhost:8080/",
     "height": 119
    },
    "executionInfo": {
     "elapsed": 62438,
     "status": "ok",
     "timestamp": 1602706846518,
     "user": {
      "displayName": "Paul Savala",
      "photoUrl": "",
      "userId": "04066700849744751898"
     },
     "user_tz": 300
    },
    "id": "aFgvijbWrqlL",
    "outputId": "85791157-c3db-49fd-ffd6-02cfe6cef916"
   },
   "outputs": [
    {
     "data": {
      "text/plain": [
       "DecisionTreeRegressor(ccp_alpha=0.0, criterion='mse', max_depth=3,\n",
       "                      max_features=None, max_leaf_nodes=None,\n",
       "                      min_impurity_decrease=0.0, min_impurity_split=None,\n",
       "                      min_samples_leaf=1, min_samples_split=2,\n",
       "                      min_weight_fraction_leaf=0.0, presort='deprecated',\n",
       "                      random_state=None, splitter='best')"
      ]
     },
     "execution_count": 10,
     "metadata": {
      "tags": []
     },
     "output_type": "execute_result"
    }
   ],
   "source": [
    "dt_reg_1 = DecisionTreeRegressor(max_depth=3)\n",
    "\n",
    "dt_reg_1.fit(x.reshape(100, 1), y) # Try removing the reshape and see what the error tells you"
   ]
  },
  {
   "cell_type": "code",
   "execution_count": null,
   "metadata": {
    "id": "VBk5ttomrqlN"
   },
   "outputs": [],
   "source": [
    "y_pred_1 = dt_reg_1.predict(x.reshape(100, 1))"
   ]
  },
  {
   "cell_type": "code",
   "execution_count": null,
   "metadata": {
    "colab": {
     "base_uri": "https://localhost:8080/",
     "height": 483
    },
    "executionInfo": {
     "elapsed": 62610,
     "status": "ok",
     "timestamp": 1602706846700,
     "user": {
      "displayName": "Paul Savala",
      "photoUrl": "",
      "userId": "04066700849744751898"
     },
     "user_tz": 300
    },
    "id": "AqNtO5MbrqlP",
    "outputId": "c6406a71-27bb-4472-f9dc-6f2a1af4377b"
   },
   "outputs": [
    {
     "data": {
      "image/png": "[encoded data removed]",
      "text/plain": [
       "<Figure size 864x576 with 1 Axes>"
      ]
     },
     "metadata": {
      "filenames": {
       "image/png": "/Users/psavala/Dropbox/Teaching/St Edward's/MATH 3439 - Introduction to Data Science/textbook/_build/jupyter_execute/ch_10_18_0.png"
      },
      "needs_background": "light",
      "tags": []
     },
     "output_type": "display_data"
    }
   ],
   "source": [
    "plt.figure(figsize=(12, 8))\n",
    "plt.scatter(x, y, label='Actual points')\n",
    "plt.plot(x, y_pred_1, label='Predictions', color='green')\n",
    "plt.legend();"
   ]
  },
  {
   "cell_type": "markdown",
   "metadata": {
    "id": "CcUd9828rqlS"
   },
   "source": [
    "Clearly, these predictions aren't perfect. So, you hand your decision tree and all the points to your neighbor. Their job is now to build a new decision tree *which will be added to your tree* to make the model better. So if your decision tree is $f_1(x)$, then they need to come up with a tree $f_2(x)$ so that $f_1(x) + f_2(x)$ fits the data better than just $f_1(x)$ alone. How can they do this? Well, they can build a tree based on where your model made mistakes. For instance, your model is wrong whenever $f_1(x) \\neq y$, or equivalently, where $y - f_1(x) \\neq 0$. So let's fit a new tree to $y - f_1(x)$, and call that $f_2(x)$. Why is this an improvement? Because taking $f_2(x) \\approx y - f_1(x)$, and thus $f_1(x) + f_2(x) \\approx y$. Let's try it."
   ]
  },
  {
   "cell_type": "code",
   "execution_count": null,
   "metadata": {
    "id": "I9U7ikUOrqlS"
   },
   "outputs": [],
   "source": [
    "# y - f_1(x), since f_1(x) is the predictions from the first model\n",
    "y_residual_2 = y - y_pred_1\n",
    "\n",
    "# fit a new tree to y - f_1(x)\n",
    "dt_reg_2 = DecisionTreeRegressor(max_depth=3)\n",
    "dt_reg_2.fit(x.reshape(100, 1), y_residual_2)\n",
    "\n",
    "# Make predictions again\n",
    "y_pred_2 = dt_reg_2.predict(x.reshape(100, 1))\n",
    "\n",
    "# Set my new predictions (i.e. model) to be the old predictions plus the new ones\n",
    "new_preds_2 = y_pred_1 + y_pred_2"
   ]
  },
  {
   "cell_type": "code",
   "execution_count": null,
   "metadata": {
    "colab": {
     "base_uri": "https://localhost:8080/",
     "height": 483
    },
    "executionInfo": {
     "elapsed": 508,
     "status": "ok",
     "timestamp": 1602707025709,
     "user": {
      "displayName": "Paul Savala",
      "photoUrl": "",
      "userId": "04066700849744751898"
     },
     "user_tz": 300
    },
    "id": "yr72ek9DrqlU",
    "outputId": "5e3c3842-588f-4318-d4fd-07d396274fef"
   },
   "outputs": [
    {
     "data": {
      "image/png": "[encoded data removed]",
      "text/plain": [
       "<Figure size 864x576 with 1 Axes>"
      ]
     },
     "metadata": {
      "filenames": {
       "image/png": "/Users/psavala/Dropbox/Teaching/St Edward's/MATH 3439 - Introduction to Data Science/textbook/_build/jupyter_execute/ch_10_21_0.png"
      },
      "needs_background": "light",
      "tags": []
     },
     "output_type": "display_data"
    }
   ],
   "source": [
    "plt.figure(figsize=(12, 8))\n",
    "plt.scatter(x, y, label='Actual points')\n",
    "plt.plot(x, y_pred_1, label='Predictions (tree 1)', color='red', alpha=0.5)\n",
    "plt.plot(x, new_preds_2, label='Predictions (tree 2)', color='green')\n",
    "plt.legend();"
   ]
  },
  {
   "cell_type": "markdown",
   "metadata": {
    "id": "ZNJWqhp2rqlX"
   },
   "source": [
    "An improvement! Let's do it once more."
   ]
  },
  {
   "cell_type": "code",
   "execution_count": null,
   "metadata": {
    "id": "OVQDqIjRrqlX"
   },
   "outputs": [],
   "source": [
    "# y - f_1(x), since f_1(x) is the predictions from the first model\n",
    "y_residual_3 = y - new_preds_2\n",
    "\n",
    "# fit a new tree to y - f_1(x)\n",
    "dt_reg_3 = DecisionTreeRegressor(max_depth=3)\n",
    "dt_reg_3.fit(x.reshape(100, 1), y_residual_3)\n",
    "\n",
    "# Make predictions again\n",
    "y_pred_3 = dt_reg_3.predict(x.reshape(100, 1))\n",
    "\n",
    "# Set my new predictions (i.e. model) to be the old predictions plus the new ones\n",
    "new_preds_3 = y_pred_1 + y_pred_2 + y_pred_3"
   ]
  },
  {
   "cell_type": "code",
   "execution_count": null,
   "metadata": {
    "colab": {
     "base_uri": "https://localhost:8080/",
     "height": 483
    },
    "executionInfo": {
     "elapsed": 451,
     "status": "ok",
     "timestamp": 1602707020761,
     "user": {
      "displayName": "Paul Savala",
      "photoUrl": "",
      "userId": "04066700849744751898"
     },
     "user_tz": 300
    },
    "id": "UnjqYsWsrqlc",
    "outputId": "2f76b8f4-5b45-4586-f925-7bea3537d1d0"
   },
   "outputs": [
    {
     "data": {
      "image/png": "[encoded data removed]",
      "text/plain": [
       "<Figure size 864x576 with 1 Axes>"
      ]
     },
     "metadata": {
      "filenames": {
       "image/png": "/Users/psavala/Dropbox/Teaching/St Edward's/MATH 3439 - Introduction to Data Science/textbook/_build/jupyter_execute/ch_10_24_0.png"
      },
      "needs_background": "light",
      "tags": []
     },
     "output_type": "display_data"
    }
   ],
   "source": [
    "plt.figure(figsize=(12, 8))\n",
    "plt.scatter(x, y, label='Actual points')\n",
    "plt.plot(x, y_pred_1, label='Predictions (tree 1)', color='red', alpha=0.33)\n",
    "plt.plot(x, new_preds_2, label='Predictions (tree 2)', color='red', alpha=0.67)\n",
    "plt.plot(x, new_preds_3, label='Predictions', color='green')\n",
    "plt.legend();"
   ]
  },
  {
   "cell_type": "markdown",
   "metadata": {
    "id": "CxWnFK8orqle"
   },
   "source": [
    "Let's plot the predictions from just the first tree, along with the predictions from these three trees added together to make it clear how our model hsa changed."
   ]
  },
  {
   "cell_type": "code",
   "execution_count": null,
   "metadata": {
    "id": "FVvs4woerqle",
    "outputId": "d7e7dac8-5633-4501-cba6-75dcd4413639"
   },
   "outputs": [
    {
     "data": {
      "text/plain": [
       "<matplotlib.legend.Legend at 0x137a9b940>"
      ]
     },
     "execution_count": 137,
     "metadata": {
      "tags": []
     },
     "output_type": "execute_result"
    },
    {
     "data": {
      "image/png": "[encoded data removed]",
      "text/plain": [
       "<Figure size 864x576 with 1 Axes>"
      ]
     },
     "metadata": {
      "filenames": {
       "image/png": "/Users/psavala/Dropbox/Teaching/St Edward's/MATH 3439 - Introduction to Data Science/textbook/_build/jupyter_execute/ch_10_26_1.png"
      },
      "needs_background": "light",
      "tags": []
     },
     "output_type": "display_data"
    }
   ],
   "source": [
    "plt.figure(figsize=(12, 8))\n",
    "plt.scatter(x, y, label='Actual points')\n",
    "plt.plot(x, y_pred_1, label='Tree 1 predictions', color='green')\n",
    "plt.plot(x, new_preds, label='Tree 1 + 2 + 3 predictions', color='red')\n",
    "plt.legend()"
   ]
  },
  {
   "cell_type": "markdown",
   "metadata": {
    "id": "0AejfvQCrqlg"
   },
   "source": [
    "We can see that the combined trees make a more detailed model. This is precisely the process that gradient boosting takes."
   ]
  },
  {
   "cell_type": "markdown",
   "metadata": {
    "id": "3Il3P7Fgrqlg"
   },
   "source": [
    "## XGBoost <a id=\"xgboost\"></a>\n",
    "\n",
    "There are several different implementations of gradient boosting, each with their own nuances. However, by far the most popular is XGBoost. We will continue with predicting flight delays, but this time using XGBoost. \n",
    "\n",
    "While XGBoost is powerful, it has [many, many different hyperparameters](https://xgboost.readthedocs.io/en/latest/python/python_api.html#module-xgboost.sklearn). Unless you are willing to let your model run for very, very long, it is infeasible to tune all of them using grid search cross validation. Therefore, we will typically restrict ourselves to just a few:\n",
    "- **n_estimators:** The same as for random forest. It's how many trees to build.\n",
    "- **max_depth:** How deep each tree should be built.\n",
    "- **learning_rate:** Gradient descent determines how much it should change each tree by using a learning rate. A large leraning rate (a value near 1) means it may make too big of jumps. A smaller value (0.0001 or smaller, for example) may make it learn too slowly.\n",
    "\n",
    "These are a great starting point for hyperparameter tuning. However, if you are trying to really improve your model, it is worth your time to learn about other hyperparameters and tune those as well.\n",
    "\n",
    "Using XGBoost is just the same as anything else in sklearn, we instantiate it with our hyperparameters, fit it, and make predictions with it. However, note that it is *not* included in sklearn. We had to import it instead from `xgboost.sklearn`. Due to grid search taking so long, we will just train one model with guesses at the hyperparameters."
   ]
  },
  {
   "cell_type": "code",
   "execution_count": null,
   "metadata": {
    "id": "9yUjbBH0rqlh",
    "outputId": "bd9268cf-6acc-4c21-d3da-64cfb54aa206"
   },
   "outputs": [
    {
     "data": {
      "text/plain": [
       "<sklearn.metrics._plot.confusion_matrix.ConfusionMatrixDisplay at 0x12a64b790>"
      ]
     },
     "execution_count": 119,
     "metadata": {
      "tags": []
     },
     "output_type": "execute_result"
    },
    {
     "data": {
      "image/png": "[encoded data removed]",
      "text/plain": [
       "<Figure size 432x288 with 2 Axes>"
      ]
     },
     "metadata": {
      "filenames": {
       "image/png": "/Users/psavala/Dropbox/Teaching/St Edward's/MATH 3439 - Introduction to Data Science/textbook/_build/jupyter_execute/ch_10_29_1.png"
      },
      "needs_background": "light",
      "tags": []
     },
     "output_type": "display_data"
    }
   ],
   "source": [
    "xgb_clf = XGBClassifier(n_estimators=100, max_depth=100, learning_rate=1e-3, n_jobs=-1)\n",
    "\n",
    "xgb_clf.fit(X_train, y_train)\n",
    "\n",
    "plot_confusion_matrix(xgb_clf, X_test, y_test, normalize='true')"
   ]
  },
  {
   "cell_type": "markdown",
   "metadata": {
    "id": "OAjnajgurqlj"
   },
   "source": [
    "Not bad! We maintain our very good accuracy on non-delayed flights, and bump up our accuracy on delayed flights to 69%. This is a big improvement over anything we got last week. However, it's actually still not as good as the random forest model we trained above. Ensemble models are highly influenced by hyperparameter choices. Therefore it's very possible that both models could be improved significantly through hyperparameter tuning."
   ]
  },
  {
   "cell_type": "markdown",
   "metadata": {
    "id": "JRbd9IIIrqlj"
   },
   "source": [
    "## Feature engineering <a id=\"feature_engineering\"></a>\n",
    "\n",
    "Along with ensembling, feature engineering is one of the most important techniques in designing highly effective machine learning models. By **feature engineering** we mean creating new columns (features) by modifying the original data. This can take many forms. We will explore this using the LA Marathon dataset."
   ]
  },
  {
   "cell_type": "code",
   "execution_count": null,
   "metadata": {
    "id": "l82a9VTBrqlk"
   },
   "outputs": [],
   "source": [
    "df = pd.read_csv(drive_dir + 'data/2016_la_marathon.csv')"
   ]
  },
  {
   "cell_type": "code",
   "execution_count": null,
   "metadata": {
    "id": "A_MOrKzBrqlm",
    "outputId": "0b71b33f-0b2f-4c2c-c23b-b93cbe5704c9"
   },
   "outputs": [
    {
     "data": {
      "text/html": [
       "<div>\n",
       "<style scoped>\n",
       "    .dataframe tbody tr th:only-of-type {\n",
       "        vertical-align: middle;\n",
       "    }\n",
       "\n",
       "    .dataframe tbody tr th {\n",
       "        vertical-align: top;\n",
       "    }\n",
       "\n",
       "    .dataframe thead th {\n",
       "        text-align: right;\n",
       "    }\n",
       "</style>\n",
       "<table border=\"1\" class=\"dataframe\">\n",
       "  <thead>\n",
       "    <tr style=\"text-align: right;\">\n",
       "      <th></th>\n",
       "      <th>div_place</th>\n",
       "      <th>name</th>\n",
       "      <th>bib</th>\n",
       "      <th>age</th>\n",
       "      <th>place</th>\n",
       "      <th>gender_place</th>\n",
       "      <th>5k_split</th>\n",
       "      <th>10k_split</th>\n",
       "      <th>15k_split</th>\n",
       "      <th>20k_split</th>\n",
       "      <th>25k_split</th>\n",
       "      <th>30k_split</th>\n",
       "      <th>35k_split</th>\n",
       "      <th>40k_split</th>\n",
       "      <th>clock_time</th>\n",
       "      <th>net_time</th>\n",
       "      <th>hometown</th>\n",
       "    </tr>\n",
       "  </thead>\n",
       "  <tbody>\n",
       "    <tr>\n",
       "      <th>0</th>\n",
       "      <td>1</td>\n",
       "      <td>SAUL VISCARRA</td>\n",
       "      <td>40402</td>\n",
       "      <td>15</td>\n",
       "      <td>382</td>\n",
       "      <td>352</td>\n",
       "      <td>22:28</td>\n",
       "      <td>44:00</td>\n",
       "      <td>1:04:56</td>\n",
       "      <td>1:26:24</td>\n",
       "      <td>1:48:24</td>\n",
       "      <td>2:11:32</td>\n",
       "      <td>2:37:42</td>\n",
       "      <td>3:01:56</td>\n",
       "      <td>3:22:41</td>\n",
       "      <td>3:11:51</td>\n",
       "      <td>NaN</td>\n",
       "    </tr>\n",
       "    <tr>\n",
       "      <th>1</th>\n",
       "      <td>2</td>\n",
       "      <td>FERNANDO GOMEZ</td>\n",
       "      <td>40504</td>\n",
       "      <td>15</td>\n",
       "      <td>560</td>\n",
       "      <td>504</td>\n",
       "      <td>22:37</td>\n",
       "      <td>45:17</td>\n",
       "      <td>1:07:50</td>\n",
       "      <td>1:31:42</td>\n",
       "      <td>1:55:46</td>\n",
       "      <td>2:19:58</td>\n",
       "      <td>2:44:35</td>\n",
       "      <td>3:09:32</td>\n",
       "      <td>3:23:09</td>\n",
       "      <td>3:18:54</td>\n",
       "      <td>NaN</td>\n",
       "    </tr>\n",
       "    <tr>\n",
       "      <th>2</th>\n",
       "      <td>3</td>\n",
       "      <td>MARCOS GONZALEZ</td>\n",
       "      <td>40882</td>\n",
       "      <td>15</td>\n",
       "      <td>1042</td>\n",
       "      <td>881</td>\n",
       "      <td>24:08</td>\n",
       "      <td>47:44</td>\n",
       "      <td>1:10:34</td>\n",
       "      <td>1:34:10</td>\n",
       "      <td>1:58:40</td>\n",
       "      <td>2:23:37</td>\n",
       "      <td>2:54:01</td>\n",
       "      <td>3:23:20</td>\n",
       "      <td>3:43:35</td>\n",
       "      <td>3:31:59</td>\n",
       "      <td>NaN</td>\n",
       "    </tr>\n",
       "    <tr>\n",
       "      <th>3</th>\n",
       "      <td>4</td>\n",
       "      <td>LUIS MORALES</td>\n",
       "      <td>42286</td>\n",
       "      <td>13</td>\n",
       "      <td>1294</td>\n",
       "      <td>1076</td>\n",
       "      <td>22:50</td>\n",
       "      <td>46:21</td>\n",
       "      <td>1:11:07</td>\n",
       "      <td>1:34:42</td>\n",
       "      <td>1:58:49</td>\n",
       "      <td>2:24:17</td>\n",
       "      <td>2:54:27</td>\n",
       "      <td>3:26:22</td>\n",
       "      <td>3:41:55</td>\n",
       "      <td>3:37:24</td>\n",
       "      <td>NaN</td>\n",
       "    </tr>\n",
       "    <tr>\n",
       "      <th>4</th>\n",
       "      <td>5</td>\n",
       "      <td>PETER CASTANO</td>\n",
       "      <td>20099</td>\n",
       "      <td>15</td>\n",
       "      <td>1413</td>\n",
       "      <td>1166</td>\n",
       "      <td>26:13</td>\n",
       "      <td>53:12</td>\n",
       "      <td>1:19:36</td>\n",
       "      <td>1:45:47</td>\n",
       "      <td>2:11:53</td>\n",
       "      <td>2:38:18</td>\n",
       "      <td>3:03:38</td>\n",
       "      <td>3:29:46</td>\n",
       "      <td>3:45:48</td>\n",
       "      <td>3:39:31</td>\n",
       "      <td>NaN</td>\n",
       "    </tr>\n",
       "  </tbody>\n",
       "</table>\n",
       "</div>"
      ],
      "text/plain": [
       "   div_place             name    bib  age  place  gender_place 5k_split  \\\n",
       "0          1    SAUL VISCARRA  40402   15    382           352    22:28   \n",
       "1          2   FERNANDO GOMEZ  40504   15    560           504    22:37   \n",
       "2          3  MARCOS GONZALEZ  40882   15   1042           881    24:08   \n",
       "3          4     LUIS MORALES  42286   13   1294          1076    22:50   \n",
       "4          5    PETER CASTANO  20099   15   1413          1166    26:13   \n",
       "\n",
       "  10k_split 15k_split 20k_split 25k_split 30k_split 35k_split 40k_split  \\\n",
       "0     44:00   1:04:56   1:26:24   1:48:24   2:11:32   2:37:42   3:01:56   \n",
       "1     45:17   1:07:50   1:31:42   1:55:46   2:19:58   2:44:35   3:09:32   \n",
       "2     47:44   1:10:34   1:34:10   1:58:40   2:23:37   2:54:01   3:23:20   \n",
       "3     46:21   1:11:07   1:34:42   1:58:49   2:24:17   2:54:27   3:26:22   \n",
       "4     53:12   1:19:36   1:45:47   2:11:53   2:38:18   3:03:38   3:29:46   \n",
       "\n",
       "  clock_time net_time  hometown  \n",
       "0    3:22:41  3:11:51       NaN  \n",
       "1    3:23:09  3:18:54       NaN  \n",
       "2    3:43:35  3:31:59       NaN  \n",
       "3    3:41:55  3:37:24       NaN  \n",
       "4    3:45:48  3:39:31       NaN  "
      ]
     },
     "execution_count": 260,
     "metadata": {
      "tags": []
     },
     "output_type": "execute_result"
    }
   ],
   "source": [
    "df.head()"
   ]
  },
  {
   "cell_type": "markdown",
   "metadata": {
    "id": "it7iM1Jhrqlo"
   },
   "source": [
    "We will attempt to build a model to predict the overall place the person got (in the `place` column). Let's quickly do some cleaning. The most important thing is to change the times so that they're actual numbers (right now they're strings). We'll convert each one to minutes, so that it shows how many minutes it took them to get to 5k, 10k, etc. We'll do this by writing a custom function to parse the time, and using the Pandas `.apply()` function to apply the function to every row."
   ]
  },
  {
   "cell_type": "code",
   "execution_count": null,
   "metadata": {
    "id": "Qnf1XEKArqlp"
   },
   "outputs": [],
   "source": [
    "def split_to_min(split_str):\n",
    "    # Some data has problems and can't be converted to numbers. So if that happens we'll note it and move on.\n",
    "    try:\n",
    "        split_list = split_str.split(':')\n",
    "        # Depending on how fast/slow the person it, their split could just be of the form mm:ss (minutes:seconds), or it\n",
    "        # could involve hours, like hh:mm:ss. We'll check how many things appeared when splitting to find out.\n",
    "        if len(split_list) == 2: # Only mm:ss\n",
    "            minutes, seconds = split_list\n",
    "            hours = 0\n",
    "        else: # Must have all three\n",
    "            hours, minutes, seconds = split_list\n",
    "        # We'll convert everything to minutes. \n",
    "        hours = int(hours) * 60\n",
    "        minutes = int(minutes)\n",
    "        seconds = int(seconds) / 60\n",
    "        split_min = hours + minutes + seconds\n",
    "        return split_min\n",
    "    except Exception as e:\n",
    "        return None"
   ]
  },
  {
   "cell_type": "code",
   "execution_count": null,
   "metadata": {
    "id": "ynaXxq10rqlr"
   },
   "outputs": [],
   "source": [
    "split_cols = [f'{n}k_split' for n in range(5, 45, 5)] + ['clock_time', 'net_time']"
   ]
  },
  {
   "cell_type": "code",
   "execution_count": null,
   "metadata": {
    "id": "jEnXI9sxrqlt",
    "outputId": "915a024c-4ad6-4d9d-e3eb-75a8c4efa893"
   },
   "outputs": [
    {
     "data": {
      "text/plain": [
       "['5k_split',\n",
       " '10k_split',\n",
       " '15k_split',\n",
       " '20k_split',\n",
       " '25k_split',\n",
       " '30k_split',\n",
       " '35k_split',\n",
       " '40k_split',\n",
       " 'clock_time',\n",
       " 'net_time']"
      ]
     },
     "execution_count": 263,
     "metadata": {
      "tags": []
     },
     "output_type": "execute_result"
    }
   ],
   "source": [
    "split_cols"
   ]
  },
  {
   "cell_type": "code",
   "execution_count": null,
   "metadata": {
    "id": "SYJct91Qrqlv"
   },
   "outputs": [],
   "source": [
    "for col in split_cols:\n",
    "    df[col] = df[col].apply(split_to_min)"
   ]
  },
  {
   "cell_type": "code",
   "execution_count": null,
   "metadata": {
    "id": "gAncQXhprqlx",
    "outputId": "909b0af1-0a26-4c29-9023-2bb24db74cf5"
   },
   "outputs": [
    {
     "data": {
      "text/html": [
       "<div>\n",
       "<style scoped>\n",
       "    .dataframe tbody tr th:only-of-type {\n",
       "        vertical-align: middle;\n",
       "    }\n",
       "\n",
       "    .dataframe tbody tr th {\n",
       "        vertical-align: top;\n",
       "    }\n",
       "\n",
       "    .dataframe thead th {\n",
       "        text-align: right;\n",
       "    }\n",
       "</style>\n",
       "<table border=\"1\" class=\"dataframe\">\n",
       "  <thead>\n",
       "    <tr style=\"text-align: right;\">\n",
       "      <th></th>\n",
       "      <th>div_place</th>\n",
       "      <th>name</th>\n",
       "      <th>bib</th>\n",
       "      <th>age</th>\n",
       "      <th>place</th>\n",
       "      <th>gender_place</th>\n",
       "      <th>5k_split</th>\n",
       "      <th>10k_split</th>\n",
       "      <th>15k_split</th>\n",
       "      <th>20k_split</th>\n",
       "      <th>25k_split</th>\n",
       "      <th>30k_split</th>\n",
       "      <th>35k_split</th>\n",
       "      <th>40k_split</th>\n",
       "      <th>clock_time</th>\n",
       "      <th>net_time</th>\n",
       "      <th>hometown</th>\n",
       "    </tr>\n",
       "  </thead>\n",
       "  <tbody>\n",
       "    <tr>\n",
       "      <th>0</th>\n",
       "      <td>1</td>\n",
       "      <td>SAUL VISCARRA</td>\n",
       "      <td>40402</td>\n",
       "      <td>15</td>\n",
       "      <td>382</td>\n",
       "      <td>352</td>\n",
       "      <td>22.466667</td>\n",
       "      <td>44.000000</td>\n",
       "      <td>64.933333</td>\n",
       "      <td>86.400000</td>\n",
       "      <td>108.400000</td>\n",
       "      <td>131.533333</td>\n",
       "      <td>157.700000</td>\n",
       "      <td>181.933333</td>\n",
       "      <td>202.683333</td>\n",
       "      <td>191.850000</td>\n",
       "      <td>NaN</td>\n",
       "    </tr>\n",
       "    <tr>\n",
       "      <th>1</th>\n",
       "      <td>2</td>\n",
       "      <td>FERNANDO GOMEZ</td>\n",
       "      <td>40504</td>\n",
       "      <td>15</td>\n",
       "      <td>560</td>\n",
       "      <td>504</td>\n",
       "      <td>22.616667</td>\n",
       "      <td>45.283333</td>\n",
       "      <td>67.833333</td>\n",
       "      <td>91.700000</td>\n",
       "      <td>115.766667</td>\n",
       "      <td>139.966667</td>\n",
       "      <td>164.583333</td>\n",
       "      <td>189.533333</td>\n",
       "      <td>203.150000</td>\n",
       "      <td>198.900000</td>\n",
       "      <td>NaN</td>\n",
       "    </tr>\n",
       "    <tr>\n",
       "      <th>2</th>\n",
       "      <td>3</td>\n",
       "      <td>MARCOS GONZALEZ</td>\n",
       "      <td>40882</td>\n",
       "      <td>15</td>\n",
       "      <td>1042</td>\n",
       "      <td>881</td>\n",
       "      <td>24.133333</td>\n",
       "      <td>47.733333</td>\n",
       "      <td>70.566667</td>\n",
       "      <td>94.166667</td>\n",
       "      <td>118.666667</td>\n",
       "      <td>143.616667</td>\n",
       "      <td>174.016667</td>\n",
       "      <td>203.333333</td>\n",
       "      <td>223.583333</td>\n",
       "      <td>211.983333</td>\n",
       "      <td>NaN</td>\n",
       "    </tr>\n",
       "    <tr>\n",
       "      <th>3</th>\n",
       "      <td>4</td>\n",
       "      <td>LUIS MORALES</td>\n",
       "      <td>42286</td>\n",
       "      <td>13</td>\n",
       "      <td>1294</td>\n",
       "      <td>1076</td>\n",
       "      <td>22.833333</td>\n",
       "      <td>46.350000</td>\n",
       "      <td>71.116667</td>\n",
       "      <td>94.700000</td>\n",
       "      <td>118.816667</td>\n",
       "      <td>144.283333</td>\n",
       "      <td>174.450000</td>\n",
       "      <td>206.366667</td>\n",
       "      <td>221.916667</td>\n",
       "      <td>217.400000</td>\n",
       "      <td>NaN</td>\n",
       "    </tr>\n",
       "    <tr>\n",
       "      <th>4</th>\n",
       "      <td>5</td>\n",
       "      <td>PETER CASTANO</td>\n",
       "      <td>20099</td>\n",
       "      <td>15</td>\n",
       "      <td>1413</td>\n",
       "      <td>1166</td>\n",
       "      <td>26.216667</td>\n",
       "      <td>53.200000</td>\n",
       "      <td>79.600000</td>\n",
       "      <td>105.783333</td>\n",
       "      <td>131.883333</td>\n",
       "      <td>158.300000</td>\n",
       "      <td>183.633333</td>\n",
       "      <td>209.766667</td>\n",
       "      <td>225.800000</td>\n",
       "      <td>219.516667</td>\n",
       "      <td>NaN</td>\n",
       "    </tr>\n",
       "  </tbody>\n",
       "</table>\n",
       "</div>"
      ],
      "text/plain": [
       "   div_place             name    bib  age  place  gender_place   5k_split  \\\n",
       "0          1    SAUL VISCARRA  40402   15    382           352  22.466667   \n",
       "1          2   FERNANDO GOMEZ  40504   15    560           504  22.616667   \n",
       "2          3  MARCOS GONZALEZ  40882   15   1042           881  24.133333   \n",
       "3          4     LUIS MORALES  42286   13   1294          1076  22.833333   \n",
       "4          5    PETER CASTANO  20099   15   1413          1166  26.216667   \n",
       "\n",
       "   10k_split  15k_split   20k_split   25k_split   30k_split   35k_split  \\\n",
       "0  44.000000  64.933333   86.400000  108.400000  131.533333  157.700000   \n",
       "1  45.283333  67.833333   91.700000  115.766667  139.966667  164.583333   \n",
       "2  47.733333  70.566667   94.166667  118.666667  143.616667  174.016667   \n",
       "3  46.350000  71.116667   94.700000  118.816667  144.283333  174.450000   \n",
       "4  53.200000  79.600000  105.783333  131.883333  158.300000  183.633333   \n",
       "\n",
       "    40k_split  clock_time    net_time  hometown  \n",
       "0  181.933333  202.683333  191.850000       NaN  \n",
       "1  189.533333  203.150000  198.900000       NaN  \n",
       "2  203.333333  223.583333  211.983333       NaN  \n",
       "3  206.366667  221.916667  217.400000       NaN  \n",
       "4  209.766667  225.800000  219.516667       NaN  "
      ]
     },
     "execution_count": 265,
     "metadata": {
      "tags": []
     },
     "output_type": "execute_result"
    }
   ],
   "source": [
    "df.head()"
   ]
  },
  {
   "cell_type": "code",
   "execution_count": null,
   "metadata": {
    "id": "ZCIEHsorrqlz",
    "outputId": "0f290c2d-4812-430e-e3ca-60785674e39c"
   },
   "outputs": [
    {
     "data": {
      "text/plain": [
       "div_place           0\n",
       "name                0\n",
       "bib                 0\n",
       "age                 0\n",
       "place               0\n",
       "gender_place        0\n",
       "5k_split          825\n",
       "10k_split         162\n",
       "15k_split         101\n",
       "20k_split          91\n",
       "25k_split          73\n",
       "30k_split         140\n",
       "35k_split          95\n",
       "40k_split         161\n",
       "clock_time          1\n",
       "net_time            0\n",
       "hometown        11499\n",
       "dtype: int64"
      ]
     },
     "execution_count": 266,
     "metadata": {
      "tags": []
     },
     "output_type": "execute_result"
    }
   ],
   "source": [
    "df.isna().sum()"
   ]
  },
  {
   "cell_type": "markdown",
   "metadata": {
    "id": "snWva3Perql1"
   },
   "source": [
    "Let's just drop missing values for anything except `hometown`, which we don't really care about anyway. We'll also drop their name and their place in their division, along with their place in their gender (since knowing what place they got in their division/gender is perhaps \"cheating\"). Finally, if we know how long it took them to get to the 40k mark (which is just two kilometers short of the finish line) then we could obviously predict their place, since they've almost finished the race! So we'll only keep the first half (20km)."
   ]
  },
  {
   "cell_type": "code",
   "execution_count": null,
   "metadata": {
    "id": "WHHoLC4Drql2"
   },
   "outputs": [],
   "source": [
    "df = df.drop(['hometown', 'name', 'div_place', 'gender_place', '25k_split', '30k_split', '35k_split', '40k_split', 'clock_time', 'net_time'], axis='columns')\n",
    "df = df.dropna(how='any')"
   ]
  },
  {
   "cell_type": "code",
   "execution_count": null,
   "metadata": {
    "id": "rQOs7_xQrql3",
    "outputId": "6da1638f-c180-4c27-e316-70b201f7a407"
   },
   "outputs": [
    {
     "data": {
      "text/html": [
       "<div>\n",
       "<style scoped>\n",
       "    .dataframe tbody tr th:only-of-type {\n",
       "        vertical-align: middle;\n",
       "    }\n",
       "\n",
       "    .dataframe tbody tr th {\n",
       "        vertical-align: top;\n",
       "    }\n",
       "\n",
       "    .dataframe thead th {\n",
       "        text-align: right;\n",
       "    }\n",
       "</style>\n",
       "<table border=\"1\" class=\"dataframe\">\n",
       "  <thead>\n",
       "    <tr style=\"text-align: right;\">\n",
       "      <th></th>\n",
       "      <th>bib</th>\n",
       "      <th>age</th>\n",
       "      <th>place</th>\n",
       "      <th>5k_split</th>\n",
       "      <th>10k_split</th>\n",
       "      <th>15k_split</th>\n",
       "      <th>20k_split</th>\n",
       "    </tr>\n",
       "  </thead>\n",
       "  <tbody>\n",
       "    <tr>\n",
       "      <th>0</th>\n",
       "      <td>40402</td>\n",
       "      <td>15</td>\n",
       "      <td>382</td>\n",
       "      <td>22.466667</td>\n",
       "      <td>44.000000</td>\n",
       "      <td>64.933333</td>\n",
       "      <td>86.400000</td>\n",
       "    </tr>\n",
       "    <tr>\n",
       "      <th>1</th>\n",
       "      <td>40504</td>\n",
       "      <td>15</td>\n",
       "      <td>560</td>\n",
       "      <td>22.616667</td>\n",
       "      <td>45.283333</td>\n",
       "      <td>67.833333</td>\n",
       "      <td>91.700000</td>\n",
       "    </tr>\n",
       "    <tr>\n",
       "      <th>2</th>\n",
       "      <td>40882</td>\n",
       "      <td>15</td>\n",
       "      <td>1042</td>\n",
       "      <td>24.133333</td>\n",
       "      <td>47.733333</td>\n",
       "      <td>70.566667</td>\n",
       "      <td>94.166667</td>\n",
       "    </tr>\n",
       "    <tr>\n",
       "      <th>3</th>\n",
       "      <td>42286</td>\n",
       "      <td>13</td>\n",
       "      <td>1294</td>\n",
       "      <td>22.833333</td>\n",
       "      <td>46.350000</td>\n",
       "      <td>71.116667</td>\n",
       "      <td>94.700000</td>\n",
       "    </tr>\n",
       "    <tr>\n",
       "      <th>4</th>\n",
       "      <td>20099</td>\n",
       "      <td>15</td>\n",
       "      <td>1413</td>\n",
       "      <td>26.216667</td>\n",
       "      <td>53.200000</td>\n",
       "      <td>79.600000</td>\n",
       "      <td>105.783333</td>\n",
       "    </tr>\n",
       "  </tbody>\n",
       "</table>\n",
       "</div>"
      ],
      "text/plain": [
       "     bib  age  place   5k_split  10k_split  15k_split   20k_split\n",
       "0  40402   15    382  22.466667  44.000000  64.933333   86.400000\n",
       "1  40504   15    560  22.616667  45.283333  67.833333   91.700000\n",
       "2  40882   15   1042  24.133333  47.733333  70.566667   94.166667\n",
       "3  42286   13   1294  22.833333  46.350000  71.116667   94.700000\n",
       "4  20099   15   1413  26.216667  53.200000  79.600000  105.783333"
      ]
     },
     "execution_count": 268,
     "metadata": {
      "tags": []
     },
     "output_type": "execute_result"
    }
   ],
   "source": [
    "df.head()"
   ]
  },
  {
   "cell_type": "code",
   "execution_count": null,
   "metadata": {
    "id": "o4DC16Dvrql5",
    "outputId": "02393087-9c46-4a8d-ba5b-be77dfa3e8f6"
   },
   "outputs": [
    {
     "data": {
      "text/plain": [
       "bib            int64\n",
       "age            int64\n",
       "place          int64\n",
       "5k_split     float64\n",
       "10k_split    float64\n",
       "15k_split    float64\n",
       "20k_split    float64\n",
       "dtype: object"
      ]
     },
     "execution_count": 269,
     "metadata": {
      "tags": []
     },
     "output_type": "execute_result"
    }
   ],
   "source": [
    "df.dtypes"
   ]
  },
  {
   "cell_type": "markdown",
   "metadata": {
    "id": "PlpDcLRtrql7"
   },
   "source": [
    "Everything looks good, let's get started.\n",
    "\n",
    "A good idea is to first train a model on the original data *before* you start doing feature engineering. We saw that the more advanced ensemble models have results that vary greatly depending on the hyperparameters chosen. Since it is very slow to do a grid search and find these hyperparameters, we'll just use a plain decision tree as our baseline model. Once we think we've engineering some features that seem useful (based on the results of the decision tree), we can then try a more advanced model."
   ]
  },
  {
   "cell_type": "code",
   "execution_count": null,
   "metadata": {
    "id": "CmfZQ1Kjrql7"
   },
   "outputs": [],
   "source": [
    "train_df, test_df = train_test_split(df, test_size=0.3)\n",
    "X_cols = ['bib', 'age', '5k_split', '10k_split', '15k_split', '20k_split']\n",
    "y_col = 'place'\n",
    "\n",
    "X_train = train_df[X_cols]\n",
    "y_train = train_df[y_col]\n",
    "\n",
    "X_test = test_df[X_cols]\n",
    "y_test = test_df[y_col]"
   ]
  },
  {
   "cell_type": "code",
   "execution_count": null,
   "metadata": {
    "id": "iogkYx3Nrql9",
    "outputId": "b6b7e9fb-f54c-4996-c73e-f6fa1ad9ff0a"
   },
   "outputs": [
    {
     "name": "stdout",
     "output_type": "stream",
     "text": [
      "R^2 = 0.8327\n"
     ]
    }
   ],
   "source": [
    "dt_baseline = DecisionTreeRegressor(max_depth=20, min_samples_split=20, min_samples_leaf=50)\n",
    "\n",
    "dt_baseline.fit(X_train, y_train)\n",
    "\n",
    "print(f'R^2 = {dt_baseline.score(X_test, y_test)**2:.4f}')"
   ]
  },
  {
   "cell_type": "markdown",
   "metadata": {
    "id": "0aBpQ9qdrql_"
   },
   "source": [
    "Not a bad R^2 value! Let's try to beat it by engineering some new features.\n",
    "\n",
    "Feature engineering typically follows two steps:\n",
    "1. Think about what features your data doesn't yet have, and which might be useful.\n",
    "2. Create those features, train a new model with them, and see if things improve.\n",
    "\n",
    "This process is then repeated over and over.\n",
    "\n",
    "Let's start with thinking about how runners speed changes throughout the race. Presumably, most runners start fast and then slow down as they get tired. But what about the elite runners? Do they do this as well? We'll start by comparing their time to complete the first 5k, versus how long it took them to go from 15k to 20k. We'll then create a new column which is whether how much faster/slower this was than their first 5k."
   ]
  },
  {
   "cell_type": "code",
   "execution_count": null,
   "metadata": {
    "id": "eJpYgFU6rql_"
   },
   "outputs": [],
   "source": [
    "df['last_5k_minus_first_5k'] = (df['20k_split'] - df['15k_split']) - df['5k_split']"
   ]
  },
  {
   "cell_type": "code",
   "execution_count": null,
   "metadata": {
    "id": "lZwrES78rqmB",
    "outputId": "b80d30ec-ba56-4730-f427-d8d3f0849dce"
   },
   "outputs": [
    {
     "data": {
      "text/html": [
       "<div>\n",
       "<style scoped>\n",
       "    .dataframe tbody tr th:only-of-type {\n",
       "        vertical-align: middle;\n",
       "    }\n",
       "\n",
       "    .dataframe tbody tr th {\n",
       "        vertical-align: top;\n",
       "    }\n",
       "\n",
       "    .dataframe thead th {\n",
       "        text-align: right;\n",
       "    }\n",
       "</style>\n",
       "<table border=\"1\" class=\"dataframe\">\n",
       "  <thead>\n",
       "    <tr style=\"text-align: right;\">\n",
       "      <th></th>\n",
       "      <th>bib</th>\n",
       "      <th>age</th>\n",
       "      <th>place</th>\n",
       "      <th>5k_split</th>\n",
       "      <th>10k_split</th>\n",
       "      <th>15k_split</th>\n",
       "      <th>20k_split</th>\n",
       "      <th>last_5k_minus_first_5k</th>\n",
       "    </tr>\n",
       "  </thead>\n",
       "  <tbody>\n",
       "    <tr>\n",
       "      <th>0</th>\n",
       "      <td>40402</td>\n",
       "      <td>15</td>\n",
       "      <td>382</td>\n",
       "      <td>22.466667</td>\n",
       "      <td>44.000000</td>\n",
       "      <td>64.933333</td>\n",
       "      <td>86.400000</td>\n",
       "      <td>-1.000000</td>\n",
       "    </tr>\n",
       "    <tr>\n",
       "      <th>1</th>\n",
       "      <td>40504</td>\n",
       "      <td>15</td>\n",
       "      <td>560</td>\n",
       "      <td>22.616667</td>\n",
       "      <td>45.283333</td>\n",
       "      <td>67.833333</td>\n",
       "      <td>91.700000</td>\n",
       "      <td>1.250000</td>\n",
       "    </tr>\n",
       "    <tr>\n",
       "      <th>2</th>\n",
       "      <td>40882</td>\n",
       "      <td>15</td>\n",
       "      <td>1042</td>\n",
       "      <td>24.133333</td>\n",
       "      <td>47.733333</td>\n",
       "      <td>70.566667</td>\n",
       "      <td>94.166667</td>\n",
       "      <td>-0.533333</td>\n",
       "    </tr>\n",
       "    <tr>\n",
       "      <th>3</th>\n",
       "      <td>42286</td>\n",
       "      <td>13</td>\n",
       "      <td>1294</td>\n",
       "      <td>22.833333</td>\n",
       "      <td>46.350000</td>\n",
       "      <td>71.116667</td>\n",
       "      <td>94.700000</td>\n",
       "      <td>0.750000</td>\n",
       "    </tr>\n",
       "    <tr>\n",
       "      <th>4</th>\n",
       "      <td>20099</td>\n",
       "      <td>15</td>\n",
       "      <td>1413</td>\n",
       "      <td>26.216667</td>\n",
       "      <td>53.200000</td>\n",
       "      <td>79.600000</td>\n",
       "      <td>105.783333</td>\n",
       "      <td>-0.033333</td>\n",
       "    </tr>\n",
       "  </tbody>\n",
       "</table>\n",
       "</div>"
      ],
      "text/plain": [
       "     bib  age  place   5k_split  10k_split  15k_split   20k_split  \\\n",
       "0  40402   15    382  22.466667  44.000000  64.933333   86.400000   \n",
       "1  40504   15    560  22.616667  45.283333  67.833333   91.700000   \n",
       "2  40882   15   1042  24.133333  47.733333  70.566667   94.166667   \n",
       "3  42286   13   1294  22.833333  46.350000  71.116667   94.700000   \n",
       "4  20099   15   1413  26.216667  53.200000  79.600000  105.783333   \n",
       "\n",
       "   last_5k_minus_first_5k  \n",
       "0               -1.000000  \n",
       "1                1.250000  \n",
       "2               -0.533333  \n",
       "3                0.750000  \n",
       "4               -0.033333  "
      ]
     },
     "execution_count": 273,
     "metadata": {
      "tags": []
     },
     "output_type": "execute_result"
    }
   ],
   "source": [
    "df.head()"
   ]
  },
  {
   "cell_type": "code",
   "execution_count": null,
   "metadata": {
    "id": "SgX3DRKCrqmD",
    "outputId": "cf1d605c-1948-48ab-cd06-78bd4d488b6e"
   },
   "outputs": [
    {
     "data": {
      "text/plain": [
       "<matplotlib.axes._subplots.AxesSubplot at 0x12a8cbc10>"
      ]
     },
     "execution_count": 275,
     "metadata": {
      "tags": []
     },
     "output_type": "execute_result"
    },
    {
     "data": {
      "image/png": "[encoded data removed]",
      "text/plain": [
       "<Figure size 864x576 with 1 Axes>"
      ]
     },
     "metadata": {
      "filenames": {
       "image/png": "/Users/psavala/Dropbox/Teaching/St Edward's/MATH 3439 - Introduction to Data Science/textbook/_build/jupyter_execute/ch_10_51_1.png"
      },
      "needs_background": "light",
      "tags": []
     },
     "output_type": "display_data"
    }
   ],
   "source": [
    "df.plot(x='place', y='last_5k_minus_first_5k', figsize=(12, 8))"
   ]
  },
  {
   "cell_type": "markdown",
   "metadata": {
    "id": "QvlJJbHWrqmE"
   },
   "source": [
    "So it looks like there is indeed a general positive trend, where people who did very well (low placing) had `first_5k_vs_last_5k` being close to 0, and people who finished lower had a positive value (a positive value means their last 5k was slower than their first 5k). Before we go any further, let's just train a model by including this new column and seeing how our results change. Note that our training and testing dataframes don't have this new column (we just created them on the original data). So let's create it there first."
   ]
  },
  {
   "cell_type": "code",
   "execution_count": null,
   "metadata": {
    "id": "QYGRnuk3rqmF"
   },
   "outputs": [],
   "source": [
    "def last_5k_minus_first_5k_col(df):\n",
    "    df['last_5k_minus_first_5k'] = (df['20k_split'] - df['15k_split']) - df['5k_split']"
   ]
  },
  {
   "cell_type": "code",
   "execution_count": null,
   "metadata": {
    "id": "SB5RG4UUrqmH",
    "outputId": "8fbc90ec-1ab3-4f70-fe5a-81a7d4caa52e"
   },
   "outputs": [
    {
     "name": "stderr",
     "output_type": "stream",
     "text": [
      "<ipython-input-276-37485025437d>:2: SettingWithCopyWarning: \n",
      "A value is trying to be set on a copy of a slice from a DataFrame.\n",
      "Try using .loc[row_indexer,col_indexer] = value instead\n",
      "\n",
      "See the caveats in the documentation: https://pandas.pydata.org/pandas-docs/stable/user_guide/indexing.html#returning-a-view-versus-a-copy\n",
      "  df['last_5k_minus_first_5k'] = (df['20k_split'] - df['15k_split']) - df['5k_split']\n"
     ]
    }
   ],
   "source": [
    "last_5k_minus_first_5k_col(X_train)\n",
    "last_5k_minus_first_5k_col(X_test)"
   ]
  },
  {
   "cell_type": "code",
   "execution_count": null,
   "metadata": {
    "id": "DXE0iAx3rqmI",
    "outputId": "eb843b3b-fe27-498e-bad1-1341aff99d35"
   },
   "outputs": [
    {
     "name": "stdout",
     "output_type": "stream",
     "text": [
      "R^2 = 0.8405\n"
     ]
    }
   ],
   "source": [
    "dt_fe1 = DecisionTreeRegressor(max_depth=20, min_samples_split=20, min_samples_leaf=50)\n",
    "\n",
    "dt_fe1.fit(X_train, y_train)\n",
    "\n",
    "print(f'R^2 = {dt_fe1.score(X_test, y_test)**2:.4f}')"
   ]
  },
  {
   "cell_type": "markdown",
   "metadata": {
    "id": "7Mc-q1VRrqmK"
   },
   "source": [
    "A slight improvement! We did this for the first versus last 5k. But what about if we created new columns which showed how their current 5k time compared to their previous 5k time."
   ]
  },
  {
   "cell_type": "code",
   "execution_count": null,
   "metadata": {
    "id": "GcCeQbbkrqmK"
   },
   "outputs": [],
   "source": [
    "def this_5k_minus_prev_5k_col(df):\n",
    "    df['10k_vs_5k'] = (df['10k_split'] - df['5k_split']) - df['5k_split']\n",
    "    df['15k_vs_10k'] = (df['15k_split'] - df['10k_split']) - (df['10k_split'] - df['5k_split'])\n",
    "    df['20k_vs_15k'] = (df['20k_split'] - df['15k_split']) - (df['15k_split'] - df['10k_split'])"
   ]
  },
  {
   "cell_type": "code",
   "execution_count": null,
   "metadata": {
    "id": "nTmXuB3zrqmM"
   },
   "outputs": [],
   "source": [
    "this_5k_minus_prev_5k_col(X_train)\n",
    "this_5k_minus_prev_5k_col(X_test)"
   ]
  },
  {
   "cell_type": "code",
   "execution_count": null,
   "metadata": {
    "id": "RSJVq_ZorqmO",
    "outputId": "360854bd-efa1-429f-e682-aba620e510ec"
   },
   "outputs": [
    {
     "name": "stdout",
     "output_type": "stream",
     "text": [
      "R^2 = 0.8406\n"
     ]
    }
   ],
   "source": [
    "dt_fe2 = DecisionTreeRegressor(max_depth=20, min_samples_split=20, min_samples_leaf=50)\n",
    "\n",
    "dt_fe2.fit(X_train, y_train)\n",
    "\n",
    "print(f'R^2 = {dt_fe2.score(X_test, y_test)**2:.4f}')"
   ]
  },
  {
   "cell_type": "markdown",
   "metadata": {
    "id": "xH-DvYGIrqmQ"
   },
   "source": [
    "A very, very slight improvement. One potential reason for this is simply that our model has more columns to consider, but we're not allowing the tree to be any more complex (deeper, for instance). Perhaps if we increased the depth our score might improve. Let's try it."
   ]
  },
  {
   "cell_type": "code",
   "execution_count": null,
   "metadata": {
    "id": "lnj1TE8vrqmQ",
    "outputId": "aed9a17f-4cea-4a68-9521-45ae533f1e0c"
   },
   "outputs": [
    {
     "name": "stdout",
     "output_type": "stream",
     "text": [
      "R^2 = 0.8406\n"
     ]
    }
   ],
   "source": [
    "dt_fe2_deeper = DecisionTreeRegressor(max_depth=50, min_samples_split=20, min_samples_leaf=50)\n",
    "\n",
    "dt_fe2_deeper.fit(X_train, y_train)\n",
    "\n",
    "print(f'R^2 = {dt_fe2_deeper.score(X_test, y_test)**2:.4f}')"
   ]
  },
  {
   "cell_type": "markdown",
   "metadata": {
    "id": "QCgu2w_VrqmS"
   },
   "source": [
    "Nope, that didn't help. So maybe those extra columns are actually not that useful. Let's get rid of them so that we don't include columns which aren't contributing much."
   ]
  },
  {
   "cell_type": "code",
   "execution_count": null,
   "metadata": {
    "id": "TA62LSM1rqmS",
    "outputId": "cd8cdda1-7497-4812-9ff3-c024f1855a5c"
   },
   "outputs": [
    {
     "data": {
      "text/html": [
       "<div>\n",
       "<style scoped>\n",
       "    .dataframe tbody tr th:only-of-type {\n",
       "        vertical-align: middle;\n",
       "    }\n",
       "\n",
       "    .dataframe tbody tr th {\n",
       "        vertical-align: top;\n",
       "    }\n",
       "\n",
       "    .dataframe thead th {\n",
       "        text-align: right;\n",
       "    }\n",
       "</style>\n",
       "<table border=\"1\" class=\"dataframe\">\n",
       "  <thead>\n",
       "    <tr style=\"text-align: right;\">\n",
       "      <th></th>\n",
       "      <th>bib</th>\n",
       "      <th>age</th>\n",
       "      <th>5k_split</th>\n",
       "      <th>10k_split</th>\n",
       "      <th>15k_split</th>\n",
       "      <th>20k_split</th>\n",
       "      <th>last_5k_minus_first_5k</th>\n",
       "      <th>10k_vs_5k</th>\n",
       "      <th>15k_vs_10k</th>\n",
       "      <th>20k_vs_15k</th>\n",
       "    </tr>\n",
       "  </thead>\n",
       "  <tbody>\n",
       "    <tr>\n",
       "      <th>11206</th>\n",
       "      <td>3168</td>\n",
       "      <td>67</td>\n",
       "      <td>27.183333</td>\n",
       "      <td>55.500000</td>\n",
       "      <td>83.133333</td>\n",
       "      <td>110.450000</td>\n",
       "      <td>0.133333</td>\n",
       "      <td>1.133333</td>\n",
       "      <td>-0.683333</td>\n",
       "      <td>-3.166667e-01</td>\n",
       "    </tr>\n",
       "    <tr>\n",
       "      <th>6798</th>\n",
       "      <td>22198</td>\n",
       "      <td>41</td>\n",
       "      <td>25.283333</td>\n",
       "      <td>50.166667</td>\n",
       "      <td>74.283333</td>\n",
       "      <td>98.916667</td>\n",
       "      <td>-0.650000</td>\n",
       "      <td>-0.400000</td>\n",
       "      <td>-0.766667</td>\n",
       "      <td>5.166667e-01</td>\n",
       "    </tr>\n",
       "    <tr>\n",
       "      <th>9190</th>\n",
       "      <td>23994</td>\n",
       "      <td>49</td>\n",
       "      <td>50.766667</td>\n",
       "      <td>97.916667</td>\n",
       "      <td>142.316667</td>\n",
       "      <td>189.216667</td>\n",
       "      <td>-3.866667</td>\n",
       "      <td>-3.616667</td>\n",
       "      <td>-2.750000</td>\n",
       "      <td>2.500000e+00</td>\n",
       "    </tr>\n",
       "    <tr>\n",
       "      <th>2501</th>\n",
       "      <td>11962</td>\n",
       "      <td>29</td>\n",
       "      <td>25.200000</td>\n",
       "      <td>49.683333</td>\n",
       "      <td>73.000000</td>\n",
       "      <td>96.316667</td>\n",
       "      <td>-1.883333</td>\n",
       "      <td>-0.716667</td>\n",
       "      <td>-1.166667</td>\n",
       "      <td>-7.105427e-15</td>\n",
       "    </tr>\n",
       "    <tr>\n",
       "      <th>4289</th>\n",
       "      <td>6146</td>\n",
       "      <td>31</td>\n",
       "      <td>25.766667</td>\n",
       "      <td>52.266667</td>\n",
       "      <td>78.616667</td>\n",
       "      <td>105.183333</td>\n",
       "      <td>0.800000</td>\n",
       "      <td>0.733333</td>\n",
       "      <td>-0.150000</td>\n",
       "      <td>2.166667e-01</td>\n",
       "    </tr>\n",
       "  </tbody>\n",
       "</table>\n",
       "</div>"
      ],
      "text/plain": [
       "         bib  age   5k_split  10k_split   15k_split   20k_split  \\\n",
       "11206   3168   67  27.183333  55.500000   83.133333  110.450000   \n",
       "6798   22198   41  25.283333  50.166667   74.283333   98.916667   \n",
       "9190   23994   49  50.766667  97.916667  142.316667  189.216667   \n",
       "2501   11962   29  25.200000  49.683333   73.000000   96.316667   \n",
       "4289    6146   31  25.766667  52.266667   78.616667  105.183333   \n",
       "\n",
       "       last_5k_minus_first_5k  10k_vs_5k  15k_vs_10k    20k_vs_15k  \n",
       "11206                0.133333   1.133333   -0.683333 -3.166667e-01  \n",
       "6798                -0.650000  -0.400000   -0.766667  5.166667e-01  \n",
       "9190                -3.866667  -3.616667   -2.750000  2.500000e+00  \n",
       "2501                -1.883333  -0.716667   -1.166667 -7.105427e-15  \n",
       "4289                 0.800000   0.733333   -0.150000  2.166667e-01  "
      ]
     },
     "execution_count": 296,
     "metadata": {
      "tags": []
     },
     "output_type": "execute_result"
    }
   ],
   "source": [
    "X_train.head()"
   ]
  },
  {
   "cell_type": "code",
   "execution_count": null,
   "metadata": {
    "id": "oekpAgr_rqmV"
   },
   "outputs": [],
   "source": [
    "X_train = X_train.drop(['10k_vs_5k', '15k_vs_10k', '20k_vs_15k'], axis='columns')\n",
    "X_test = X_test.drop(['10k_vs_5k', '15k_vs_10k', '20k_vs_15k'], axis='columns')"
   ]
  },
  {
   "cell_type": "code",
   "execution_count": null,
   "metadata": {
    "id": "Ckx5HmLkrqmX",
    "outputId": "3ec89284-c91c-4dc1-b9ed-7bfc962d9b5a"
   },
   "outputs": [
    {
     "data": {
      "text/html": [
       "<div>\n",
       "<style scoped>\n",
       "    .dataframe tbody tr th:only-of-type {\n",
       "        vertical-align: middle;\n",
       "    }\n",
       "\n",
       "    .dataframe tbody tr th {\n",
       "        vertical-align: top;\n",
       "    }\n",
       "\n",
       "    .dataframe thead th {\n",
       "        text-align: right;\n",
       "    }\n",
       "</style>\n",
       "<table border=\"1\" class=\"dataframe\">\n",
       "  <thead>\n",
       "    <tr style=\"text-align: right;\">\n",
       "      <th></th>\n",
       "      <th>bib</th>\n",
       "      <th>age</th>\n",
       "      <th>5k_split</th>\n",
       "      <th>10k_split</th>\n",
       "      <th>15k_split</th>\n",
       "      <th>20k_split</th>\n",
       "      <th>last_5k_minus_first_5k</th>\n",
       "    </tr>\n",
       "  </thead>\n",
       "  <tbody>\n",
       "    <tr>\n",
       "      <th>11206</th>\n",
       "      <td>3168</td>\n",
       "      <td>67</td>\n",
       "      <td>27.183333</td>\n",
       "      <td>55.500000</td>\n",
       "      <td>83.133333</td>\n",
       "      <td>110.450000</td>\n",
       "      <td>0.133333</td>\n",
       "    </tr>\n",
       "    <tr>\n",
       "      <th>6798</th>\n",
       "      <td>22198</td>\n",
       "      <td>41</td>\n",
       "      <td>25.283333</td>\n",
       "      <td>50.166667</td>\n",
       "      <td>74.283333</td>\n",
       "      <td>98.916667</td>\n",
       "      <td>-0.650000</td>\n",
       "    </tr>\n",
       "    <tr>\n",
       "      <th>9190</th>\n",
       "      <td>23994</td>\n",
       "      <td>49</td>\n",
       "      <td>50.766667</td>\n",
       "      <td>97.916667</td>\n",
       "      <td>142.316667</td>\n",
       "      <td>189.216667</td>\n",
       "      <td>-3.866667</td>\n",
       "    </tr>\n",
       "    <tr>\n",
       "      <th>2501</th>\n",
       "      <td>11962</td>\n",
       "      <td>29</td>\n",
       "      <td>25.200000</td>\n",
       "      <td>49.683333</td>\n",
       "      <td>73.000000</td>\n",
       "      <td>96.316667</td>\n",
       "      <td>-1.883333</td>\n",
       "    </tr>\n",
       "    <tr>\n",
       "      <th>4289</th>\n",
       "      <td>6146</td>\n",
       "      <td>31</td>\n",
       "      <td>25.766667</td>\n",
       "      <td>52.266667</td>\n",
       "      <td>78.616667</td>\n",
       "      <td>105.183333</td>\n",
       "      <td>0.800000</td>\n",
       "    </tr>\n",
       "  </tbody>\n",
       "</table>\n",
       "</div>"
      ],
      "text/plain": [
       "         bib  age   5k_split  10k_split   15k_split   20k_split  \\\n",
       "11206   3168   67  27.183333  55.500000   83.133333  110.450000   \n",
       "6798   22198   41  25.283333  50.166667   74.283333   98.916667   \n",
       "9190   23994   49  50.766667  97.916667  142.316667  189.216667   \n",
       "2501   11962   29  25.200000  49.683333   73.000000   96.316667   \n",
       "4289    6146   31  25.766667  52.266667   78.616667  105.183333   \n",
       "\n",
       "       last_5k_minus_first_5k  \n",
       "11206                0.133333  \n",
       "6798                -0.650000  \n",
       "9190                -3.866667  \n",
       "2501                -1.883333  \n",
       "4289                 0.800000  "
      ]
     },
     "execution_count": 298,
     "metadata": {
      "tags": []
     },
     "output_type": "execute_result"
    }
   ],
   "source": [
    "X_train.head()"
   ]
  },
  {
   "cell_type": "markdown",
   "metadata": {
    "id": "l-M1f7EDrqmZ"
   },
   "source": [
    "What about comparing each runner's time to the average time to that mark? So for instance, if the average runner takes 40 minutes to get to the 5k mark, how much slower or faster is each runner? In fact, there's no reason to do this for just time, we can also do it for age and bib number. Let's see if those new features are useful."
   ]
  },
  {
   "cell_type": "code",
   "execution_count": null,
   "metadata": {
    "id": "xz7PIjYKrqmZ"
   },
   "outputs": [],
   "source": [
    "def value_vs_mean(df):\n",
    "    for col in df.columns:\n",
    "        new_col_name = f'{col}_vs_mean'\n",
    "        df[new_col_name] = df[col] - df[col].mean()"
   ]
  },
  {
   "cell_type": "code",
   "execution_count": null,
   "metadata": {
    "id": "oOTGe2TArqmb"
   },
   "outputs": [],
   "source": [
    "value_vs_mean(X_train)\n",
    "value_vs_mean(X_test)"
   ]
  },
  {
   "cell_type": "code",
   "execution_count": null,
   "metadata": {
    "id": "0WiF2khZrqmd",
    "outputId": "bedd0326-f82d-498e-f219-fe5a2b7d275a"
   },
   "outputs": [
    {
     "name": "stdout",
     "output_type": "stream",
     "text": [
      "R^2 = 0.8411\n"
     ]
    }
   ],
   "source": [
    "dt_fe3 = DecisionTreeRegressor(max_depth=20, min_samples_split=20, min_samples_leaf=50)\n",
    "\n",
    "dt_fe3.fit(X_train, y_train)\n",
    "\n",
    "print(f'R^2 = {dt_fe3.score(X_test, y_test)**2:.4f}')"
   ]
  },
  {
   "cell_type": "markdown",
   "metadata": {
    "id": "-roM7fcmrqme"
   },
   "source": [
    "Again, a slight improvement. \n",
    "\n",
    "When you start adding more and more features, your models need to be more and more complex to handle them properly. Therefore, it is to your advantage to only include features which are actually improving the model. How can you determine this? One way would be to add columns one at a time and see how things change. However, this is highly time consuming. Another more efficient way is to ask the model to tell you! Most models keep track of \"feature importances\", which are measure the model uses to determine how useful a feature is. For a tree, this is stored in the `.feature_importances_` attribute."
   ]
  },
  {
   "cell_type": "code",
   "execution_count": null,
   "metadata": {
    "id": "DkoYVCQ3rqme",
    "outputId": "1f498c31-156b-4896-904c-8441f05511ba"
   },
   "outputs": [
    {
     "data": {
      "text/plain": [
       "array([7.25661052e-04, 6.41068604e-04, 7.38459485e-05, 1.12079260e-03,\n",
       "       9.84246838e-05, 8.28753967e-01, 2.20368148e-02, 4.78292268e-04,\n",
       "       2.85487107e-04, 1.30575962e-03, 2.88408609e-04, 2.22836673e-04,\n",
       "       1.31116001e-01, 1.28526395e-02])"
      ]
     },
     "execution_count": 306,
     "metadata": {
      "tags": []
     },
     "output_type": "execute_result"
    }
   ],
   "source": [
    "dt_fe3.feature_importances_"
   ]
  },
  {
   "cell_type": "markdown",
   "metadata": {
    "id": "oyIBSmOfrqmh"
   },
   "source": [
    "This is returning the feature importance for each column. They are returned in the same order as the columns. So we can print this more nicely if we print the columns at the same time."
   ]
  },
  {
   "cell_type": "code",
   "execution_count": null,
   "metadata": {
    "id": "WC7s6r8hrqmh",
    "outputId": "90e9750f-b4fc-43d8-eae0-a18f2bd29fe5"
   },
   "outputs": [
    {
     "name": "stdout",
     "output_type": "stream",
     "text": [
      "bib: 0.0007\n",
      "age: 0.0006\n",
      "5k_split: 0.0001\n",
      "10k_split: 0.0011\n",
      "15k_split: 0.0001\n",
      "20k_split: 0.8288\n",
      "last_5k_minus_first_5k: 0.0220\n",
      "bib_vs_mean: 0.0005\n",
      "age_vs_mean: 0.0003\n",
      "5k_split_vs_mean: 0.0013\n",
      "10k_split_vs_mean: 0.0003\n",
      "15k_split_vs_mean: 0.0002\n",
      "20k_split_vs_mean: 0.1311\n",
      "last_5k_minus_first_5k_vs_mean: 0.0129\n"
     ]
    }
   ],
   "source": [
    "for i in range(X_train.shape[1]):\n",
    "    print(f'{X_train.columns[i]}: {dt_fe3.feature_importances_[i]:.4f}')"
   ]
  },
  {
   "cell_type": "code",
   "execution_count": null,
   "metadata": {
    "id": "Rg16bj9lrqmi",
    "outputId": "0da7acfc-a2cc-42b0-f4eb-786f0c6243a0"
   },
   "outputs": [
    {
     "ename": "NameError",
     "evalue": "name 'X_train' is not defined",
     "output_type": "error",
     "traceback": [
      "\u001b[0;31m---------------------------------------------------------------------------\u001b[0m",
      "\u001b[0;31mNameError\u001b[0m                                 Traceback (most recent call last)",
      "\u001b[0;32m<ipython-input-3-6d924ddf25af>\u001b[0m in \u001b[0;36m<module>\u001b[0;34m\u001b[0m\n\u001b[1;32m      1\u001b[0m \u001b[0mplt\u001b[0m\u001b[0;34m.\u001b[0m\u001b[0mfigure\u001b[0m\u001b[0;34m(\u001b[0m\u001b[0mfigsize\u001b[0m\u001b[0;34m=\u001b[0m\u001b[0;34m(\u001b[0m\u001b[0;36m12\u001b[0m\u001b[0;34m,\u001b[0m \u001b[0;36m8\u001b[0m\u001b[0;34m)\u001b[0m\u001b[0;34m)\u001b[0m\u001b[0;34m\u001b[0m\u001b[0;34m\u001b[0m\u001b[0m\n\u001b[0;32m----> 2\u001b[0;31m \u001b[0mplt\u001b[0m\u001b[0;34m.\u001b[0m\u001b[0mbar\u001b[0m\u001b[0;34m(\u001b[0m\u001b[0mX_train\u001b[0m\u001b[0;34m.\u001b[0m\u001b[0mcolumns\u001b[0m\u001b[0;34m,\u001b[0m \u001b[0mdt_fe3\u001b[0m\u001b[0;34m.\u001b[0m\u001b[0mfeature_importances_\u001b[0m\u001b[0;34m)\u001b[0m\u001b[0;34m\u001b[0m\u001b[0;34m\u001b[0m\u001b[0m\n\u001b[0m\u001b[1;32m      3\u001b[0m \u001b[0mplt\u001b[0m\u001b[0;34m.\u001b[0m\u001b[0mxticks\u001b[0m\u001b[0;34m(\u001b[0m\u001b[0mrotation\u001b[0m\u001b[0;34m=\u001b[0m\u001b[0;36m270\u001b[0m\u001b[0;34m)\u001b[0m\u001b[0;34m\u001b[0m\u001b[0;34m\u001b[0m\u001b[0m\n\u001b[1;32m      4\u001b[0m \u001b[0mplt\u001b[0m\u001b[0;34m.\u001b[0m\u001b[0mtitle\u001b[0m\u001b[0;34m(\u001b[0m\u001b[0;34m'Feature importance'\u001b[0m\u001b[0;34m)\u001b[0m\u001b[0;34m;\u001b[0m\u001b[0;34m\u001b[0m\u001b[0;34m\u001b[0m\u001b[0m\n",
      "\u001b[0;31mNameError\u001b[0m: name 'X_train' is not defined"
     ]
    },
    {
     "data": {
      "text/plain": [
       "<Figure size 864x576 with 0 Axes>"
      ]
     },
     "metadata": {
      "tags": []
     },
     "output_type": "display_data"
    }
   ],
   "source": [
    "plt.figure(figsize=(12, 8))\n",
    "plt.bar(X_train.columns, dt_fe3.feature_importances_)\n",
    "plt.xticks(rotation=270)\n",
    "plt.title('Feature importance');"
   ]
  },
  {
   "cell_type": "markdown",
   "metadata": {
    "id": "hazZJkUGrqmk"
   },
   "source": [
    "So  by far the most important columns are those related to the 20k mark. That makes sense, as it's the farthest into the race that we have info on. Interestingly enough, the only other column whose bar you can even see is `5k_split_vs_mean`, so that's useful as well. Let's try dropping all columns with a feature importance less than 0.001 and see where that leaves us."
   ]
  },
  {
   "cell_type": "code",
   "execution_count": null,
   "metadata": {
    "id": "1QVmaQDnrqml"
   },
   "outputs": [],
   "source": [
    "cols_to_keep = []\n",
    "for i in range(X_train.shape[1]):\n",
    "    if dt_fe3.feature_importances_[i] >= 0.001:\n",
    "        cols_to_keep.append(X_train.columns[i])"
   ]
  },
  {
   "cell_type": "code",
   "execution_count": null,
   "metadata": {
    "id": "u31Jc8xgrqmn",
    "outputId": "af3f9015-8f95-4f0b-f5cf-0f94adb2f52d"
   },
   "outputs": [
    {
     "data": {
      "text/plain": [
       "['10k_split',\n",
       " '20k_split',\n",
       " 'last_5k_minus_first_5k',\n",
       " '5k_split_vs_mean',\n",
       " '20k_split_vs_mean',\n",
       " 'last_5k_minus_first_5k_vs_mean']"
      ]
     },
     "execution_count": 322,
     "metadata": {
      "tags": []
     },
     "output_type": "execute_result"
    }
   ],
   "source": [
    "cols_to_keep"
   ]
  },
  {
   "cell_type": "code",
   "execution_count": null,
   "metadata": {
    "id": "CCBR3sHprqmp"
   },
   "outputs": [],
   "source": [
    "X_train = X_train[cols_to_keep]\n",
    "X_test = X_test[cols_to_keep]"
   ]
  },
  {
   "cell_type": "code",
   "execution_count": null,
   "metadata": {
    "id": "jp0V4Q8Hrqmq",
    "outputId": "d326c4c1-312e-4063-d575-8c4ff10b5ff9"
   },
   "outputs": [
    {
     "name": "stdout",
     "output_type": "stream",
     "text": [
      "R^2 = 0.8429\n"
     ]
    }
   ],
   "source": [
    "dt_fe3_trimmed = DecisionTreeRegressor(max_depth=20, min_samples_split=20, min_samples_leaf=50)\n",
    "\n",
    "dt_fe3_trimmed.fit(X_train, y_train)\n",
    "\n",
    "print(f'R^2 = {dt_fe3_trimmed.score(X_test = X_test[cols_to_keep], y_test)**2:.4f}')"
   ]
  },
  {
   "cell_type": "markdown",
   "metadata": {
    "id": "cf-uiV2orqmt"
   },
   "source": [
    "It's actually a slight improvement! So getting rid of columns with low importance allowed our model to make better decisions with what was left.\n",
    "\n",
    "Before we leave, let's briefly discuss the various forms feature engineering can take:\n",
    "1. Combining information from multiple columns to make a new column (like we did above).\n",
    "2. Simplifying a column. For example, rather than keeping their actual age, we could break it up into age groups of 5 years.\n",
    "3. Bringing in new data and combining it with the existing data. For instance, we could look up the average running pace for runners of different ages, and make a column showing how much faster/slower each runner in the data is.\n",
    "4. Summarizing data. A common example of this is dealing with text data. Models can't understand text data because it's not numbers. However, suppose you were trying to determine if an eBay listing was fraudulent. Perhaps fraudulent listings don't have as much information in them. So, if the data had a column \"item description\" which was text, you can try creating a column \"item description length\" which counted up how many characters were in the item description.\n",
    "\n",
    "In general, feature engineering just requires you to be patient and creative. There's no magic formula that will yield you interesting and useful features, you just have to play around and try."
   ]
  },
  {
   "cell_type": "code",
   "execution_count": null,
   "metadata": {
    "id": "NyM4Caswrqmt"
   },
   "outputs": [],
   "source": []
  }
 ],
 "metadata": {
  "colab": {
   "collapsed_sections": [
    "JRbd9IIIrqlj"
   ],
   "name": "ch_10.ipynb",
   "provenance": []
  },
  "kernelspec": {
   "display_name": "Python 3",
   "language": "python",
   "name": "python3"
  },
  "language_info": {
   "codemirror_mode": {
    "name": "ipython",
    "version": 3
   },
   "file_extension": ".py",
   "mimetype": "text/x-python",
   "name": "python",
   "nbconvert_exporter": "python",
   "pygments_lexer": "ipython3",
   "version": "3.8.5"
  }
 },
 "nbformat": 4,
 "nbformat_minor": 1
}