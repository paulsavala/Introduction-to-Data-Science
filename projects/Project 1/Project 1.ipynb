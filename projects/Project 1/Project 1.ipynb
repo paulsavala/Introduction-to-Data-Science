{
 "cells": [
  {
   "cell_type": "markdown",
   "metadata": {},
   "source": [
    "# Project 1\n",
    "### Due: XXXX"
   ]
  },
  {
   "cell_type": "markdown",
   "metadata": {},
   "source": [
    "Pick one of the datasets listed below. Then, do the following:\n",
    "- Load it into a notebook using Pandas\n",
    "- Find anything in it that needs to be cleaned. This could include rows with missing data, columns with data stored as the wrong type, dates that are stored as strings instead of dates, and more.\n",
    "- Create the following items:\n",
    "    - **A presentation:** Your presentation should be approximately 10 minutes in length, and cover the main topics. You can save code and nitty-gritty details for your notebook.\n",
    "    - **A Jupyter notebook:** The notebook should include a mixture of Markdown cells describing your work, and code. There should be no scratch work, everything should be easy to read.\n",
    "    - **An article on your LinkedIn page:** This should be comprehensible by a general, non-data science audience. Include graphs to back up your results. Include a link to your Github repository for this project.\n",
    "- Each person on the team should create a new Github repository. It should have the following:\n",
    "    - A nice title. Don't call it \"Project 1\". Make it something interesting so that someone not in this class would want to see what you did.\n",
    "    - A README file explaining what you're doing. Make it look nice, use Markdown.\n",
    "    - A folder titled `data` for your data. In this folder you should put the data. Also, once you've cleaned your data, include another file `cleaned_data.csv` which is the cleaned data.\n",
    "    - A folder titled `notebooks` for your notebook. Give your notebook a nice filename.\n",
    "    - A folder titled `presentations` for your presentation. Give your presentation a nice filename.\n",
    "    - A folder titled `articles` for your LinkedIn article. \n",
    "- Fill out the [proposal template](proposal_template.ipynb) and email it to psavala@stedwards.edu. This is due on XXX.\n",
    "\n",
    "You can see an example project in `Projects/example_project/`."
   ]
  },
  {
   "cell_type": "markdown",
   "metadata": {},
   "source": [
    "## Datasets:\n",
    "\n",
    "- **Retail sales:** Use the retail sales datasets in `data/retail_sales.csv` to address the following questions:\n",
    "    - How do we expect holidays to affect weekly sales? \n",
    "    - Does fuel price have an effect on sales? If so, what is it?\n",
    "    - Does CPI have an effect on sales? If so, what is it?\n",
    "    - Does unemployment have an effect on sales? If so, what is it?\n",
    "    - What combination of the above factors (holidays, fuel price, CPI and unemployment) lead to the best sales weeks? The worst?\n",
    "- **Free throws:** Use the free throws dataset in `data/free_throws.csv` to address the following questions:\n",
    "    - What is the impact of home vs away on free throws?\n",
    "    - What is the impact of playoffs on free throws?\n",
    "    - What is the impact of how far into the game we are (in minute) on free throws?\n",
    "    - Which players seem to be especially consistent in all situations? Meaning they always make/miss at about the same rate, regardless of any factors.\n",
    "    - How important are free throws in terms of winning/losing the game?\n",
    "- **2016 Austin crimes:** Use the 2016 Austin crimes dataset in `data/2016_austin_crime.csv` to address the following questions:\n",
    "    - Which types of crime (if any) tend to be concentrated in certain areas?\n",
    "    - What is the impact of the date (either the exact date or the day of the week, month, etc.) on the types of crimes committed?\n",
    "    - What factors tend to lead to a crime being cleared vs not cleared?\n",
    "    - How important are each of these factors? If the police force had limited resources to make improvements, where should they focus their efforts so that more crimes are cleared?\n",
    "    - How can we utilize the APD descriptions in a useful way, since there are so many of them? As a reminder, there are 7 FBI descriptions and 54 APD descriptions."
   ]
  },
  {
   "cell_type": "code",
   "execution_count": null,
   "metadata": {},
   "outputs": [],
   "source": []
  }
 ],
 "metadata": {
  "kernelspec": {
   "display_name": "Python 3",
   "language": "python",
   "name": "python3"
  },
  "language_info": {
   "codemirror_mode": {
    "name": "ipython",
    "version": 3
   },
   "file_extension": ".py",
   "mimetype": "text/x-python",
   "name": "python",
   "nbconvert_exporter": "python",
   "pygments_lexer": "ipython3",
   "version": "3.8.2"
  }
 },
 "nbformat": 4,
 "nbformat_minor": 4
}
