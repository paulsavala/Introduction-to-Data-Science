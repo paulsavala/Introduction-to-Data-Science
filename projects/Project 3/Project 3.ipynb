{
 "cells": [
  {
   "cell_type": "markdown",
   "metadata": {},
   "source": [
    "# Project 3\n",
    "### Due: XXXX"
   ]
  },
  {
   "cell_type": "markdown",
   "metadata": {},
   "source": [
    "Pick a dataset following the guidelines listed below. Then, do the following:\n",
    "- Load it into a notebook using Pandas\n",
    "- Find anything in it that needs to be cleaned. This could include rows with missing data, columns with data stored as the wrong type, dates that are stored as strings instead of dates, and more.\n",
    "- Create the following items:\n",
    "    - **A presentation:** Your presentation should be approximately 10 minutes in length, and cover the main topics. You can save code and nitty-gritty details for your notebook.\n",
    "    - **A Jupyter notebook:** The notebook should include a mixture of Markdown cells describing your work, and code. There should be no scratch work, everything should be easy to read.\n",
    "    - **An article on your LinkedIn page:** This should be comprehensible by a general, non-data science audience. Include graphs to back up your results. Include a link to your Github repository for this project.\n",
    "- Each person on the team should create a new Github repository. It should have the following:\n",
    "    - A nice title. Don't call it \"Project 3\". Make it something interesting so that someone not in this class would want to see what you did.\n",
    "    - A README file explaining what you're doing. Make it look nice, use Markdown.\n",
    "    - A folder titled `data` for your data. In this folder you should put the data. Also, once you've cleaned your data, include another file `cleaned_data.csv` which is the cleaned data.\n",
    "    - A folder titled `notebooks` for your notebook. Give your notebook a nice filename.\n",
    "    - A folder titled `presentations` for your presentation. Give your presentation a nice filename.\n",
    "    - A folder titled `articles` for your LinkedIn article. \n",
    "- Fill out the [proposal template](proposal_template.ipynb) and email it to psavala@stedwards.edu. This is due on XXX."
   ]
  },
  {
   "cell_type": "markdown",
   "metadata": {},
   "source": [
    "### Datasets:\n",
    "\n",
    "For this project you will be picking your own dataset. Here are some recommended placeas to find data:\n",
    "- [Kaggle](kaggle.com/datasets)\n",
    "- [Data.gov](data.gov)\n",
    "- [Austin open data](data.austintexas.gov)\n",
    "- [Google](google.com)\n",
    "\n",
    "Here are the requirements for your data:\n",
    "1. The data must be in CSV format and have at least 100,000 rows.\n",
    "2. The data must have at least 5 columns, at least one of which is continuous and at least one of which is categorical."
   ]
  },
  {
   "cell_type": "markdown",
   "metadata": {},
   "source": [
    "### Questions:\n",
    "\n",
    "For this project you will be formulating your own research quetsions. Here are the guidelines/requirements for your questions:\n",
    "1. You must have at least four questions.\n",
    "2. At least one of your questions must involve building a model.\n",
    "3. Your questions should be broad enough that they can't be answered with just a simple command. For example, \"what is the average ticket price\" is much too specific, as it can be answered by simply running `np.mean(...)`.\n",
    "4. Questions should be specific enough that they are answerable. For example, \"do people like flying on airplanes?\" is far too broad, and is not answerable with most datasets."
   ]
  },
  {
   "cell_type": "markdown",
   "metadata": {},
   "source": [
    "### Timelines:\n",
    "\n",
    "In order to help you stay on track, I have the following timelines:\n",
    "\n",
    "- XXXX: Submit written proposal with your data and research problems. You must use the [proposal template](proposal_template.ipynb).\n",
    "- XXXX: Proposal must be approved. I will review and return your written proposal. If your written proposal is accepted then you are good to start working. If it is returned with a request for revisions then you must make those revisions and resubmit it. If it is rejected you must come up with a new proposal. No matter what happens with your initial proposal, you must have a proposal approved no later than this date. Failure to do so will result in a 5% penalty for your overall Project 3 grade.\n",
    "- XXXX: Team meetings. These are similar to the one-on-ones we have each lab, but longer. In this meeting your team will present what you have completed thus far. You *do not* need to have slides ready, though you may choose to do so. The important thing at this meeting is to show progress and a clear direction. I want to see that you are on track and have the ability to complete this project. These will be scheduled individually with each team.\n",
    "- XXXX: Final presentations."
   ]
  },
  {
   "cell_type": "code",
   "execution_count": null,
   "metadata": {},
   "outputs": [],
   "source": []
  }
 ],
 "metadata": {
  "kernelspec": {
   "display_name": "Python 3",
   "language": "python",
   "name": "python3"
  },
  "language_info": {
   "codemirror_mode": {
    "name": "ipython",
    "version": 3
   },
   "file_extension": ".py",
   "mimetype": "text/x-python",
   "name": "python",
   "nbconvert_exporter": "python",
   "pygments_lexer": "ipython3",
   "version": "3.8.2"
  }
 },
 "nbformat": 4,
 "nbformat_minor": 4
}
