{
 "cells": [
  {
   "cell_type": "markdown",
   "metadata": {},
   "source": [
    "## Project 3 Proposal Template\n",
    "\n",
    "Use this template to create your proposal for Project 3."
   ]
  },
  {
   "cell_type": "markdown",
   "metadata": {},
   "source": [
    "## Data:\n",
    "\n",
    "- Clickable link to your data\n",
    "- One paragraph description of your data"
   ]
  },
  {
   "cell_type": "markdown",
   "metadata": {},
   "source": [
    "## Project description\n",
    "\n",
    "Give a description of your project. The description should be in paragraph form, at be at least two paragraphs long. You should use this to convince me that your project is worth doing. You should address the following points:\n",
    "- What question are you attempting to answer?\n",
    "- Why are these questions worth answering? That is, why should anyone care?\n",
    "- Why does your team find this project interesting?\n",
    "- How does the data you found help you answer the questions you're asking?\n",
    "- Are your questions at an appropriate level of difficulty? Convince me that they're not so easy that you can answer them in an hour, but not so hard that you won't be able to finish them in the time you have."
   ]
  },
  {
   "cell_type": "markdown",
   "metadata": {},
   "source": [
    "## Team members:\n",
    "List all of the team members using bullet points, and indicate which team member is the manager. Give a one to two sentence description of the planned duties and responsibilities of each team member."
   ]
  },
  {
   "cell_type": "markdown",
   "metadata": {},
   "source": [
    "## Manager's section\n",
    "\n",
    "The manager should, over several paragraphs, describe the expected challenges for this project. Talk about the parts you think will be difficult (doing the modeling? preparing the data? keeping team members on-task?) and how you plan to address them. Specifically list out goals for yourself in terms of these challenges. I will check in with you throughout the semester on how you are progressing with these goals in order to help you succeed. Talk about why each team member was given each of their duties and responsibilities. Talk about your overall goals for the project. What are the things you are hoping to accomplish for this project to be considered a success? Is it an accuracy goal? Is it being able to explain a complex question in an easy way? Is it to add new insight to an important problem? Be as specific as possible. During your final presentation I will be looking for whether or not you achieved these goals, so they must be clearly defined and not overly broad."
   ]
  },
  {
   "cell_type": "code",
   "execution_count": null,
   "metadata": {},
   "outputs": [],
   "source": []
  }
 ],
 "metadata": {
  "kernelspec": {
   "display_name": "Python 3",
   "language": "python",
   "name": "python3"
  },
  "language_info": {
   "codemirror_mode": {
    "name": "ipython",
    "version": 3
   },
   "file_extension": ".py",
   "mimetype": "text/x-python",
   "name": "python",
   "nbconvert_exporter": "python",
   "pygments_lexer": "ipython3",
   "version": "3.8.2"
  }
 },
 "nbformat": 4,
 "nbformat_minor": 4
}
