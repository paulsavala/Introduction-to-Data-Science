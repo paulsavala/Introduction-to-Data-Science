{
 "cells": [
  {
   "cell_type": "markdown",
   "metadata": {},
   "source": [
    "## Project 2 Proposal Template\n",
    "\n",
    "Use this template to create your proposal for Project 2."
   ]
  },
  {
   "cell_type": "markdown",
   "metadata": {},
   "source": [
    "## Data:\n",
    "\n",
    "- One paragraph description of your data"
   ]
  },
  {
   "cell_type": "markdown",
   "metadata": {},
   "source": [
    "## Project description\n",
    "\n",
    "Give a description of your project. The description should be in paragraph form, at be at least one paragraph long. You should address the following points:\n",
    "- What question are you attempting to answer? Simply copy them from the project desciption.\n",
    "- How does the data help you answer the questions you're asking?"
   ]
  },
  {
   "cell_type": "markdown",
   "metadata": {},
   "source": [
    "## Team members:\n",
    "List all of the team members using bullet points, and indicate which team member is the manager. Give a one to two sentence description of the planned duties and responsibilities of each team member."
   ]
  },
  {
   "cell_type": "markdown",
   "metadata": {},
   "source": [
    "## Manager's section\n",
    "\n",
    "The manager should, over several paragraphs, describe the expected challenges for this project. Talk about the parts you think will be difficult (doing the modeling? preparing the data? keeping team members on-task?) and how you plan to address them. Specifically list out goals for yourself in terms of these challenges. I will check in with you throughout the semester on how you are progressing with these goals in order to help you succeed. Talk about why each team member was given each of their duties and responsibilities. Talk about your overall goals for the project. What are the things you are hoping to accomplish for this project to be considered a success? Is it an accuracy goal? Is it being able to explain a complex question in an easy way? Is it to add new insight to an important problem? Be as specific as possible. During your final presentation I will be looking for whether or not you achieved these goals, so they must be clearly defined and not overly broad. Finally, discuss the challenges you had with Project 1, and how you hope to improve on those in Project 2. For example, did your team get off-task and need to cram to finish everything? If so, how will you make sure that's not the case this time?"
   ]
  },
  {
   "cell_type": "code",
   "execution_count": null,
   "metadata": {},
   "outputs": [],
   "source": []
  }
 ],
 "metadata": {
  "kernelspec": {
   "display_name": "Python 3",
   "language": "python",
   "name": "python3"
  },
  "language_info": {
   "codemirror_mode": {
    "name": "ipython",
    "version": 3
   },
   "file_extension": ".py",
   "mimetype": "text/x-python",
   "name": "python",
   "nbconvert_exporter": "python",
   "pygments_lexer": "ipython3",
   "version": "3.8.2"
  }
 },
 "nbformat": 4,
 "nbformat_minor": 4
}
