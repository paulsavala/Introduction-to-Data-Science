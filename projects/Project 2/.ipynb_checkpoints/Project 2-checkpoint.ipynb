{
 "cells": [
  {
   "cell_type": "markdown",
   "metadata": {},
   "source": [
    "# Project 2\n",
    "### Due: XXXX"
   ]
  },
  {
   "cell_type": "markdown",
   "metadata": {},
   "source": [
    "Pick one of the datasets listed below. Then, do the following:\n",
    "- Load it into a notebook using Pandas\n",
    "- Find anything in it that needs to be cleaned. This could include rows with missing data, columns with data stored as the wrong type, dates that are stored as strings instead of dates, and more.\n",
    "- Create the following items:\n",
    "    - **A presentation:** Your presentation should be approximately 10 minutes in length, and cover the main topics. You can save code and nitty-gritty details for your notebook.\n",
    "    - **A Jupyter notebook:** The notebook should include a mixture of Markdown cells describing your work, and code. There should be no scratch work, everything should be easy to read.\n",
    "    - **An article on your LinkedIn page:** This should be comprehensible by a general, non-data science audience. Include graphs to back up your results. Include a link to your Github repository for this project.\n",
    "- Each person on the team should create a new Github repository. It should have the following:\n",
    "    - A nice title. Don't call it \"Project 2\". Make it something interesting so that someone not in this class would want to see what you did.\n",
    "    - A README file explaining what you're doing. Make it look nice, use Markdown.\n",
    "    - A folder titled `data` for your data. In this folder you should put the data. Also, once you've cleaned your data, include another file `cleaned_data.csv` which is the cleaned data.\n",
    "    - A folder titled `notebooks` for your notebook. Give your notebook a nice filename.\n",
    "    - A folder titled `presentations` for your presentation. Give your presentation a nice filename.\n",
    "    - A folder titled `articles` for your LinkedIn article. \n",
    "- Fill out the [proposal template](proposal_template.ipynb) and email it to psavala@stedwards.edu. This is due on XXX."
   ]
  },
  {
   "cell_type": "markdown",
   "metadata": {},
   "source": [
    "## Datasets:\n",
    "\n",
    "- **Spotify:** Use the [Spotify dataset](https://www.kaggle.com/yamaerenay/spotify-dataset-19212020-160k-tracks) to address the following questions:\n",
    "    - What factors cause a track to be more popular than others?\n",
    "    - Are there any combinations of factors that tend to always (highly often) make certain tracks very popular?\n",
    "    - Are there any combinations of factors that tend to always (highly often) make certain tracks very *unpopular*?\n",
    "    - Find examples of tracks that have the factors required for popularity, but are actually unpopular (and vice-versa).\n",
    "    - Given some subset of songs which a person likes, build a model which recommends other similar songs. Be prepared to explain why you took the approach you did.\n",
    "- **Job descriptions:** Use the [job descriptions dataset](https://www.kaggle.com/shivamb/real-or-fake-fake-jobposting-prediction) to address the following questions:\n",
    "    - How does the presence or absence of missing data affect the fraudulence of a job? That is, do fraudulent jobs seem to have more or less missing data in their job postings?\n",
    "    - Are there patterns around fraudulent jobs that make them easily identifiable? Do they often appear in certain industries, for example?\n",
    "    - How can you make use of the all the text data in this dataset? For example, is the company description useful?\n",
    "    - Build a model which predicts the likelihood of a job posting being fake.\n",
    "- **Small business loans:** Use the [Small Business Administration (SBA) dataset](https://www.kaggle.com/mirbektoktogaraev/should-this-loan-be-approved-or-denied) to address the following questions:\n",
    "    - What factors tend to cause a loan to be approved vs denied?\n",
    "    - What factors affect how much the loan is for (assuming it is approved)?\n",
    "    - Build a model to predict which loan applications will be approved.\n",
    "    - Build a model to predict which approved loan applications will default on their loan."
   ]
  },
  {
   "cell_type": "code",
   "execution_count": null,
   "metadata": {},
   "outputs": [],
   "source": []
  }
 ],
 "metadata": {
  "kernelspec": {
   "display_name": "Python 3",
   "language": "python",
   "name": "python3"
  },
  "language_info": {
   "codemirror_mode": {
    "name": "ipython",
    "version": 3
   },
   "file_extension": ".py",
   "mimetype": "text/x-python",
   "name": "python",
   "nbconvert_exporter": "python",
   "pygments_lexer": "ipython3",
   "version": "3.8.2"
  }
 },
 "nbformat": 4,
 "nbformat_minor": 4
}
