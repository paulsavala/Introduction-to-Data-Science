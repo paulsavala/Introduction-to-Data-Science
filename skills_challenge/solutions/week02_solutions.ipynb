{
 "cells": [
  {
   "cell_type": "markdown",
   "metadata": {},
   "source": [
    "# Skills challenge \\#2\n",
    "Below are a series of questions. Use the loaded data to answer the questions. You will almost certainly need to import more packages (`pandas`, `numpy`, etc.) to complete these. You are welcome to use any source except for your classmates. So Google away!\n",
    "\n",
    "You will be graded on both the **correctness** and **cleanliness** of your work. So don't submit poorly written code or your grade will reflect that. Use Markdown describing what you have done. If you get stuck, move on to another part. Most questions don't rely on the answer to earlier questions."
   ]
  },
  {
   "cell_type": "markdown",
   "metadata": {},
   "source": [
    "### Imports"
   ]
  },
  {
   "cell_type": "code",
   "execution_count": 80,
   "metadata": {},
   "outputs": [],
   "source": [
    "import pandas as pd\n",
    "from matplotlib import pyplot as plt"
   ]
  },
  {
   "cell_type": "markdown",
   "metadata": {},
   "source": [
    "### Data loading"
   ]
  },
  {
   "cell_type": "code",
   "execution_count": 5,
   "metadata": {},
   "outputs": [],
   "source": [
    "df = pd.read_csv('../../data/free_throws.csv')"
   ]
  },
  {
   "cell_type": "code",
   "execution_count": 6,
   "metadata": {},
   "outputs": [
    {
     "data": {
      "text/html": [
       "<div>\n",
       "<style scoped>\n",
       "    .dataframe tbody tr th:only-of-type {\n",
       "        vertical-align: middle;\n",
       "    }\n",
       "\n",
       "    .dataframe tbody tr th {\n",
       "        vertical-align: top;\n",
       "    }\n",
       "\n",
       "    .dataframe thead th {\n",
       "        text-align: right;\n",
       "    }\n",
       "</style>\n",
       "<table border=\"1\" class=\"dataframe\">\n",
       "  <thead>\n",
       "    <tr style=\"text-align: right;\">\n",
       "      <th></th>\n",
       "      <th>Unnamed: 0</th>\n",
       "      <th>game_id</th>\n",
       "      <th>period</th>\n",
       "      <th>player</th>\n",
       "      <th>playoffs</th>\n",
       "      <th>shot_made</th>\n",
       "      <th>home_team</th>\n",
       "      <th>visit_team</th>\n",
       "      <th>home_score</th>\n",
       "      <th>visit_score</th>\n",
       "      <th>home_final_score</th>\n",
       "      <th>visit_final_score</th>\n",
       "      <th>minutes</th>\n",
       "      <th>season_start</th>\n",
       "      <th>shot_count</th>\n",
       "    </tr>\n",
       "  </thead>\n",
       "  <tbody>\n",
       "    <tr>\n",
       "      <th>0</th>\n",
       "      <td>0</td>\n",
       "      <td>261031013</td>\n",
       "      <td>1</td>\n",
       "      <td>Andrew Bynum</td>\n",
       "      <td>0</td>\n",
       "      <td>1</td>\n",
       "      <td>LAL</td>\n",
       "      <td>PHX</td>\n",
       "      <td>1</td>\n",
       "      <td>0</td>\n",
       "      <td>114</td>\n",
       "      <td>106</td>\n",
       "      <td>11.750000</td>\n",
       "      <td>2006</td>\n",
       "      <td>1</td>\n",
       "    </tr>\n",
       "    <tr>\n",
       "      <th>1</th>\n",
       "      <td>1</td>\n",
       "      <td>261031013</td>\n",
       "      <td>1</td>\n",
       "      <td>Andrew Bynum</td>\n",
       "      <td>0</td>\n",
       "      <td>1</td>\n",
       "      <td>LAL</td>\n",
       "      <td>PHX</td>\n",
       "      <td>2</td>\n",
       "      <td>0</td>\n",
       "      <td>114</td>\n",
       "      <td>106</td>\n",
       "      <td>11.750000</td>\n",
       "      <td>2006</td>\n",
       "      <td>2</td>\n",
       "    </tr>\n",
       "    <tr>\n",
       "      <th>2</th>\n",
       "      <td>2</td>\n",
       "      <td>261031013</td>\n",
       "      <td>1</td>\n",
       "      <td>Andrew Bynum</td>\n",
       "      <td>0</td>\n",
       "      <td>1</td>\n",
       "      <td>LAL</td>\n",
       "      <td>PHX</td>\n",
       "      <td>12</td>\n",
       "      <td>18</td>\n",
       "      <td>114</td>\n",
       "      <td>106</td>\n",
       "      <td>7.433333</td>\n",
       "      <td>2006</td>\n",
       "      <td>1</td>\n",
       "    </tr>\n",
       "    <tr>\n",
       "      <th>3</th>\n",
       "      <td>3</td>\n",
       "      <td>261031013</td>\n",
       "      <td>1</td>\n",
       "      <td>Andrew Bynum</td>\n",
       "      <td>0</td>\n",
       "      <td>0</td>\n",
       "      <td>LAL</td>\n",
       "      <td>PHX</td>\n",
       "      <td>12</td>\n",
       "      <td>18</td>\n",
       "      <td>114</td>\n",
       "      <td>106</td>\n",
       "      <td>7.433333</td>\n",
       "      <td>2006</td>\n",
       "      <td>2</td>\n",
       "    </tr>\n",
       "    <tr>\n",
       "      <th>4</th>\n",
       "      <td>4</td>\n",
       "      <td>261031013</td>\n",
       "      <td>1</td>\n",
       "      <td>Shawn Marion</td>\n",
       "      <td>0</td>\n",
       "      <td>1</td>\n",
       "      <td>LAL</td>\n",
       "      <td>PHX</td>\n",
       "      <td>12</td>\n",
       "      <td>21</td>\n",
       "      <td>114</td>\n",
       "      <td>106</td>\n",
       "      <td>7.300000</td>\n",
       "      <td>2006</td>\n",
       "      <td>1</td>\n",
       "    </tr>\n",
       "  </tbody>\n",
       "</table>\n",
       "</div>"
      ],
      "text/plain": [
       "   Unnamed: 0    game_id  period        player  playoffs  shot_made home_team  \\\n",
       "0           0  261031013       1  Andrew Bynum         0          1       LAL   \n",
       "1           1  261031013       1  Andrew Bynum         0          1       LAL   \n",
       "2           2  261031013       1  Andrew Bynum         0          1       LAL   \n",
       "3           3  261031013       1  Andrew Bynum         0          0       LAL   \n",
       "4           4  261031013       1  Shawn Marion         0          1       LAL   \n",
       "\n",
       "  visit_team  home_score  visit_score  home_final_score  visit_final_score  \\\n",
       "0        PHX           1            0               114                106   \n",
       "1        PHX           2            0               114                106   \n",
       "2        PHX          12           18               114                106   \n",
       "3        PHX          12           18               114                106   \n",
       "4        PHX          12           21               114                106   \n",
       "\n",
       "     minutes  season_start  shot_count  \n",
       "0  11.750000          2006           1  \n",
       "1  11.750000          2006           2  \n",
       "2   7.433333          2006           1  \n",
       "3   7.433333          2006           2  \n",
       "4   7.300000          2006           1  "
      ]
     },
     "execution_count": 6,
     "metadata": {},
     "output_type": "execute_result"
    }
   ],
   "source": [
    "df.head()"
   ]
  },
  {
   "cell_type": "markdown",
   "metadata": {},
   "source": [
    "### Data description\n",
    "\n",
    "This data is all the free throws taken in the NBA between 2006 and 2016. The columns that we are interested are:\n",
    "- **game_id**: The unique ID for each game. The number itself doesn't mean anything, but if two rows have the same game_id, then that means they occurred in the same game.\n",
    "- **period**: Which period the free throw occurred in (there are four periods in basketball).\n",
    "- **player**: The player's name\n",
    "- **playoffs**: 0 = not in playoffs, 1 = in playoffs\n",
    "- **shot_made**: 0 = shot not made, 1 = shot made\n",
    "- **home_team**: Abbreviated name of the home team (the team whose city the game was played in)\n",
    "- **visit_team**: Abbreviated name of the visiting team\n",
    "- **home_score**: The home team's score in the game when the free throw was taken\n",
    "- **visit_score**: The visiting team's score in the game when the free throw was taken\n",
    "- **final_score**: The final score in the game\n",
    "- **minutes**: How many minutes into the game when the free throw was taken. An NBA game is 48 minutes long (not counting a potential overtime).\n",
    "- **season_start**: What year the season started in (seasons start in one year and finish the following year)\n",
    "- **shot_count**: Some times a player is awarded more than one free throw. A 1 indicates this is their first shot, a 2 indicates this is their second. They can get a maximum of 3 shots."
   ]
  },
  {
   "cell_type": "markdown",
   "metadata": {},
   "source": [
    "## Tasks"
   ]
  },
  {
   "cell_type": "markdown",
   "metadata": {},
   "source": [
    "### Data cleaning\n",
    "**DC1:** Drop the column \"Unnamed: 0\". Save this back as the variable `df`."
   ]
  },
  {
   "cell_type": "code",
   "execution_count": 7,
   "metadata": {},
   "outputs": [],
   "source": [
    "df = df.drop('Unnamed: 0', axis='columns')"
   ]
  },
  {
   "cell_type": "markdown",
   "metadata": {},
   "source": [
    "**DC2:** For each column, print how many `None` or `NaN` values are in the column, along with what percentage of the rows are missing. Round the percentage to two decimal places. Your output should look like:\n",
    "\n",
    "```\n",
    "col1_name: 20 (0.05%) missing values \n",
    "col2_name: 150 (1.56%) missing values \n",
    "```"
   ]
  },
  {
   "cell_type": "code",
   "execution_count": 8,
   "metadata": {},
   "outputs": [
    {
     "name": "stdout",
     "output_type": "stream",
     "text": [
      "game_id: 0 (0.00)% missing values\n",
      "period: 0 (0.00)% missing values\n",
      "player: 0 (0.00)% missing values\n",
      "playoffs: 0 (0.00)% missing values\n",
      "shot_made: 0 (0.00)% missing values\n",
      "home_team: 0 (0.00)% missing values\n",
      "visit_team: 0 (0.00)% missing values\n",
      "home_score: 0 (0.00)% missing values\n",
      "visit_score: 0 (0.00)% missing values\n",
      "home_final_score: 0 (0.00)% missing values\n",
      "visit_final_score: 0 (0.00)% missing values\n",
      "minutes: 0 (0.00)% missing values\n",
      "season_start: 0 (0.00)% missing values\n",
      "shot_count: 0 (0.00)% missing values\n"
     ]
    }
   ],
   "source": [
    "for c in df.columns:\n",
    "    n_missing = df[c].isna().sum()\n",
    "    pct_missing = n_missing / df.shape[0]\n",
    "    print(f'{c}: {n_missing} ({100*pct_missing:.2f})% missing values')"
   ]
  },
  {
   "cell_type": "markdown",
   "metadata": {},
   "source": [
    "### Data exporation\n"
   ]
  },
  {
   "cell_type": "markdown",
   "metadata": {},
   "source": [
    "**DE1:** Show the top 5 players in terms of number of free throws *taken* (total number of rows, regardless of make or miss) throughout the season. That is, your output should look like:\n",
    "```\n",
    "John Smith: 1954\n",
    "Elliot Whistlebee: 1859\n",
    "...\n",
    "```\n",
    "Your output *does not* have to look exactly like mine. Just show the players and their number of free throws."
   ]
  },
  {
   "cell_type": "code",
   "execution_count": 18,
   "metadata": {},
   "outputs": [
    {
     "data": {
      "text/plain": [
       "LeBron James     8001\n",
       "Dwight Howard    7728\n",
       "Kevin Durant     6030\n",
       "Kobe Bryant      5594\n",
       "Dwyane Wade      5594\n",
       "Name: player, dtype: int64"
      ]
     },
     "execution_count": 18,
     "metadata": {},
     "output_type": "execute_result"
    }
   ],
   "source": [
    "# Use value_counts to see how many times each player shows up\n",
    "df['player'].value_counts()[:5]"
   ]
  },
  {
   "cell_type": "markdown",
   "metadata": {},
   "source": [
    "**DE2:** Do the same but for the highest number of free throws *made*."
   ]
  },
  {
   "cell_type": "code",
   "execution_count": 19,
   "metadata": {},
   "outputs": [
    {
     "data": {
      "text/plain": [
       "LeBron James       5957\n",
       "Kevin Durant       5293\n",
       "Kobe Bryant        4702\n",
       "Carmelo Anthony    4360\n",
       "Dwight Howard      4302\n",
       "Name: player, dtype: int64"
      ]
     },
     "execution_count": 19,
     "metadata": {},
     "output_type": "execute_result"
    }
   ],
   "source": [
    "# First we need to filter out free throw misses. So we only want rows where shot_made == 1\n",
    "made_df = df[df['shot_made'] == 1]\n",
    "\n",
    "# Now use value_counts like just above\n",
    "made_df['player'].value_counts()[:5]"
   ]
  },
  {
   "cell_type": "markdown",
   "metadata": {},
   "source": [
    "**DE3:** Make a Pandas Series which contains the players and how many shots they *took*."
   ]
  },
  {
   "cell_type": "code",
   "execution_count": 73,
   "metadata": {},
   "outputs": [],
   "source": [
    "# If you don't see why we selected the column 'player', try removing that part and looking at player_shots_took.\n",
    "player_shots_took = df.groupby('player')['player'].count()"
   ]
  },
  {
   "cell_type": "markdown",
   "metadata": {},
   "source": [
    "**DE4:** Make a Pandas Series which contains the players and how many shots they *made*."
   ]
  },
  {
   "cell_type": "code",
   "execution_count": 74,
   "metadata": {},
   "outputs": [],
   "source": [
    "player_shots_made = df.groupby('player')['shot_made'].sum()"
   ]
  },
  {
   "cell_type": "markdown",
   "metadata": {},
   "source": [
    "### Plotting\n",
    "**P1:** Make a histogram (`my_data.plot(..., kind='hist')`) with 50 bins of the number of free throws taken. Give the graph a nice title, and label the x and y axes. Make the figsize 12 by 8 and include a grid."
   ]
  },
  {
   "cell_type": "code",
   "execution_count": 65,
   "metadata": {},
   "outputs": [
    {
     "data": {
      "image/png": "[encoded data removed]",
      "text/plain": [
       "<Figure size 864x576 with 1 Axes>"
      ]
     },
     "metadata": {
      "needs_background": "light"
     },
     "output_type": "display_data"
    }
   ],
   "source": [
    "# We'll use our Series from DE3\n",
    "ax = player_shots_took.plot(kind='hist', bins=50, figsize=(12, 8), title='Shots made', grid=True)\n",
    "ax.set_xlabel('Number of shots made')\n",
    "ax.set_ylabel('Number of players');"
   ]
  },
  {
   "cell_type": "markdown",
   "metadata": {},
   "source": [
    "**P2:** Make a scatterplot the number of free throws *taken* to the number of free throws *made*. Give the graph a nice title, and label the x and y axes. Make the figsize 12 by 8 and include a grid."
   ]
  },
  {
   "cell_type": "code",
   "execution_count": 78,
   "metadata": {},
   "outputs": [
    {
     "data": {
      "image/png": "[encoded data removed]",
      "text/plain": [
       "<Figure size 864x576 with 1 Axes>"
      ]
     },
     "metadata": {
      "needs_background": "light"
     },
     "output_type": "display_data"
    }
   ],
   "source": [
    "fig = plt.figure(figsize=(12, 8))\n",
    "plt.scatter(player_shots_took, player_shots_made)\n",
    "plt.grid(True)\n",
    "plt.title('Shots taken vs made')\n",
    "plt.xlabel('Shots taken')\n",
    "plt.ylabel('Shots made');"
   ]
  },
  {
   "cell_type": "markdown",
   "metadata": {},
   "source": [
    "### Bonus questions"
   ]
  },
  {
   "cell_type": "markdown",
   "metadata": {},
   "source": [
    "**B1:** List the top five players in terms of highest *percentage* of free throws *made*. Only include players who took at least 50 free throws."
   ]
  },
  {
   "cell_type": "code",
   "execution_count": 66,
   "metadata": {},
   "outputs": [
    {
     "data": {
      "text/plain": [
       "player\n",
       "Steve Nash          0.913891\n",
       "Brian Roberts       0.910979\n",
       "Mario Hezonja       0.907407\n",
       "Ray Allen           0.903178\n",
       "Chauncey Billups    0.901540\n",
       "dtype: float64"
      ]
     },
     "execution_count": 66,
     "metadata": {},
     "output_type": "execute_result"
    }
   ],
   "source": [
    "# We'll filter out players who took less than 50 shots\n",
    "player_shots_took = player_shots_took[player_shots_took > 50]\n",
    "\n",
    "# Then we'll divide these two to get a percentage.  If you Google how to divide Pandas series you'll see the function .divide(), which we'll use\n",
    "player_pct = player_shots_made.divide(player_shots_took)\n",
    "\n",
    "# If you Google how to get the largest values in a Pandas series you'll see the function nlargest, which we'll use\n",
    "player_pct.nlargest(5)"
   ]
  },
  {
   "cell_type": "markdown",
   "metadata": {},
   "source": [
    "**B2:** Make a line chart (`my_df.plot(..., kind='line')`) with the x-axis being the year and the y-axis being the percentage of free throws made. The years should go in increasing order. So 2006 first, then 2007, etc. Do the same things (title, axes labels, etc.) as the plotting problems above."
   ]
  },
  {
   "cell_type": "code",
   "execution_count": 92,
   "metadata": {},
   "outputs": [
    {
     "data": {
      "image/png": "[encoded data removed]",
      "text/plain": [
       "<Figure size 864x576 with 1 Axes>"
      ]
     },
     "metadata": {
      "needs_background": "light"
     },
     "output_type": "display_data"
    }
   ],
   "source": [
    "# We need to group by year. We want to add up the shot_made, and count how many shots were taken. To apply two\n",
    "# different functions to two different columns for a groupby, you could Google \"Pandas groupby different functions to different columns\".\n",
    "# If you did this you would see this link: https://stackoverflow.com/questions/14529838/apply-multiple-functions-to-multiple-groupby-columns\n",
    "# They show that you can use the .agg (for aggregate) function and supply a dictionary showing what to do to what column.\n",
    "year_df = df.groupby('season_start').agg({'player': 'count', 'shot_made': 'sum'})\n",
    "\n",
    "# Then we'll divide to make a new percentage column\n",
    "year_df['pct_made'] = year_df['shot_made'] / year_df['player']\n",
    "\n",
    "# Finally we'll plot this. If you experiment a bit you'll see that just using .plot() on the column is the easiest way.\n",
    "ax = year_df['pct_made'].plot(title='% of free throws made', grid=True, figsize=(12, 8))\n",
    "ax.set_xlabel('Season start')\n",
    "ax.set_ylabel('% made');"
   ]
  }
 ],
 "metadata": {
  "kernelspec": {
   "display_name": "Python 3",
   "language": "python",
   "name": "python3"
  },
  "language_info": {
   "codemirror_mode": {
    "name": "ipython",
    "version": 3
   },
   "file_extension": ".py",
   "mimetype": "text/x-python",
   "name": "python",
   "nbconvert_exporter": "python",
   "pygments_lexer": "ipython3",
   "version": "3.8.2"
  }
 },
 "nbformat": 4,
 "nbformat_minor": 4
}
