{
 "cells": [
  {
   "cell_type": "markdown",
   "metadata": {},
   "source": [
    "# Skills challenge \\#3\n",
    "Below are a series of questions. Use the loaded data to answer the questions. You will almost certainly need to import more packages (`matplotlib`, `numpy`, etc.) to complete these. You are welcome to use any source except for your classmates. So Google away!\n",
    "\n",
    "You will be graded on both the **correctness** and **cleanliness** of your work. So don't submit poorly written code or your grade will reflect that. Use Markdown describing what you have done. If you get stuck, move on to another part. Most questions don't rely on the answer to earlier questions."
   ]
  },
  {
   "cell_type": "markdown",
   "metadata": {},
   "source": [
    "### Imports"
   ]
  },
  {
   "cell_type": "code",
   "execution_count": 106,
   "metadata": {},
   "outputs": [],
   "source": [
    "import pandas as pd\n",
    "import numpy as np\n",
    "from matplotlib import pyplot as plt"
   ]
  },
  {
   "cell_type": "markdown",
   "metadata": {},
   "source": [
    "### Data loading"
   ]
  },
  {
   "cell_type": "code",
   "execution_count": 4,
   "metadata": {},
   "outputs": [],
   "source": [
    "sales_df = pd.read_csv('../../data/retail_sales/sales.csv')\n",
    "store_features_df = pd.read_csv('../../data/retail_sales/store_features.csv')\n",
    "stores_df = pd.read_csv('../../data/retail_sales/stores.csv')"
   ]
  },
  {
   "cell_type": "code",
   "execution_count": 5,
   "metadata": {},
   "outputs": [
    {
     "data": {
      "text/html": [
       "<div>\n",
       "<style scoped>\n",
       "    .dataframe tbody tr th:only-of-type {\n",
       "        vertical-align: middle;\n",
       "    }\n",
       "\n",
       "    .dataframe tbody tr th {\n",
       "        vertical-align: top;\n",
       "    }\n",
       "\n",
       "    .dataframe thead th {\n",
       "        text-align: right;\n",
       "    }\n",
       "</style>\n",
       "<table border=\"1\" class=\"dataframe\">\n",
       "  <thead>\n",
       "    <tr style=\"text-align: right;\">\n",
       "      <th></th>\n",
       "      <th>Store</th>\n",
       "      <th>Dept</th>\n",
       "      <th>Date</th>\n",
       "      <th>Weekly_Sales</th>\n",
       "      <th>IsHoliday</th>\n",
       "    </tr>\n",
       "  </thead>\n",
       "  <tbody>\n",
       "    <tr>\n",
       "      <th>0</th>\n",
       "      <td>1</td>\n",
       "      <td>1</td>\n",
       "      <td>2010-05-02</td>\n",
       "      <td>24924.50</td>\n",
       "      <td>False</td>\n",
       "    </tr>\n",
       "    <tr>\n",
       "      <th>1</th>\n",
       "      <td>1</td>\n",
       "      <td>1</td>\n",
       "      <td>2010-12-02</td>\n",
       "      <td>46039.49</td>\n",
       "      <td>True</td>\n",
       "    </tr>\n",
       "    <tr>\n",
       "      <th>2</th>\n",
       "      <td>1</td>\n",
       "      <td>1</td>\n",
       "      <td>2010-02-19</td>\n",
       "      <td>41595.55</td>\n",
       "      <td>False</td>\n",
       "    </tr>\n",
       "    <tr>\n",
       "      <th>3</th>\n",
       "      <td>1</td>\n",
       "      <td>1</td>\n",
       "      <td>2010-02-26</td>\n",
       "      <td>19403.54</td>\n",
       "      <td>False</td>\n",
       "    </tr>\n",
       "    <tr>\n",
       "      <th>4</th>\n",
       "      <td>1</td>\n",
       "      <td>1</td>\n",
       "      <td>2010-05-03</td>\n",
       "      <td>21827.90</td>\n",
       "      <td>False</td>\n",
       "    </tr>\n",
       "  </tbody>\n",
       "</table>\n",
       "</div>"
      ],
      "text/plain": [
       "   Store  Dept        Date  Weekly_Sales  IsHoliday\n",
       "0      1     1  2010-05-02      24924.50      False\n",
       "1      1     1  2010-12-02      46039.49       True\n",
       "2      1     1  2010-02-19      41595.55      False\n",
       "3      1     1  2010-02-26      19403.54      False\n",
       "4      1     1  2010-05-03      21827.90      False"
      ]
     },
     "execution_count": 5,
     "metadata": {},
     "output_type": "execute_result"
    }
   ],
   "source": [
    "sales_df.head()"
   ]
  },
  {
   "cell_type": "code",
   "execution_count": 6,
   "metadata": {},
   "outputs": [
    {
     "data": {
      "text/html": [
       "<div>\n",
       "<style scoped>\n",
       "    .dataframe tbody tr th:only-of-type {\n",
       "        vertical-align: middle;\n",
       "    }\n",
       "\n",
       "    .dataframe tbody tr th {\n",
       "        vertical-align: top;\n",
       "    }\n",
       "\n",
       "    .dataframe thead th {\n",
       "        text-align: right;\n",
       "    }\n",
       "</style>\n",
       "<table border=\"1\" class=\"dataframe\">\n",
       "  <thead>\n",
       "    <tr style=\"text-align: right;\">\n",
       "      <th></th>\n",
       "      <th>Store</th>\n",
       "      <th>Date</th>\n",
       "      <th>Temperature</th>\n",
       "      <th>Fuel_Price</th>\n",
       "      <th>MarkDown1</th>\n",
       "      <th>MarkDown2</th>\n",
       "      <th>MarkDown3</th>\n",
       "      <th>MarkDown4</th>\n",
       "      <th>MarkDown5</th>\n",
       "      <th>CPI</th>\n",
       "      <th>Unemployment</th>\n",
       "      <th>IsHoliday</th>\n",
       "    </tr>\n",
       "  </thead>\n",
       "  <tbody>\n",
       "    <tr>\n",
       "      <th>0</th>\n",
       "      <td>1</td>\n",
       "      <td>05/02/2010</td>\n",
       "      <td>42.31</td>\n",
       "      <td>2.572</td>\n",
       "      <td>NaN</td>\n",
       "      <td>NaN</td>\n",
       "      <td>NaN</td>\n",
       "      <td>NaN</td>\n",
       "      <td>NaN</td>\n",
       "      <td>211.096358</td>\n",
       "      <td>8.106</td>\n",
       "      <td>False</td>\n",
       "    </tr>\n",
       "    <tr>\n",
       "      <th>1</th>\n",
       "      <td>1</td>\n",
       "      <td>12/02/2010</td>\n",
       "      <td>38.51</td>\n",
       "      <td>2.548</td>\n",
       "      <td>NaN</td>\n",
       "      <td>NaN</td>\n",
       "      <td>NaN</td>\n",
       "      <td>NaN</td>\n",
       "      <td>NaN</td>\n",
       "      <td>211.242170</td>\n",
       "      <td>8.106</td>\n",
       "      <td>True</td>\n",
       "    </tr>\n",
       "    <tr>\n",
       "      <th>2</th>\n",
       "      <td>1</td>\n",
       "      <td>19/02/2010</td>\n",
       "      <td>39.93</td>\n",
       "      <td>2.514</td>\n",
       "      <td>NaN</td>\n",
       "      <td>NaN</td>\n",
       "      <td>NaN</td>\n",
       "      <td>NaN</td>\n",
       "      <td>NaN</td>\n",
       "      <td>211.289143</td>\n",
       "      <td>8.106</td>\n",
       "      <td>False</td>\n",
       "    </tr>\n",
       "    <tr>\n",
       "      <th>3</th>\n",
       "      <td>1</td>\n",
       "      <td>26/02/2010</td>\n",
       "      <td>46.63</td>\n",
       "      <td>2.561</td>\n",
       "      <td>NaN</td>\n",
       "      <td>NaN</td>\n",
       "      <td>NaN</td>\n",
       "      <td>NaN</td>\n",
       "      <td>NaN</td>\n",
       "      <td>211.319643</td>\n",
       "      <td>8.106</td>\n",
       "      <td>False</td>\n",
       "    </tr>\n",
       "    <tr>\n",
       "      <th>4</th>\n",
       "      <td>1</td>\n",
       "      <td>05/03/2010</td>\n",
       "      <td>46.50</td>\n",
       "      <td>2.625</td>\n",
       "      <td>NaN</td>\n",
       "      <td>NaN</td>\n",
       "      <td>NaN</td>\n",
       "      <td>NaN</td>\n",
       "      <td>NaN</td>\n",
       "      <td>211.350143</td>\n",
       "      <td>8.106</td>\n",
       "      <td>False</td>\n",
       "    </tr>\n",
       "  </tbody>\n",
       "</table>\n",
       "</div>"
      ],
      "text/plain": [
       "   Store        Date  Temperature  Fuel_Price  MarkDown1  MarkDown2  \\\n",
       "0      1  05/02/2010        42.31       2.572        NaN        NaN   \n",
       "1      1  12/02/2010        38.51       2.548        NaN        NaN   \n",
       "2      1  19/02/2010        39.93       2.514        NaN        NaN   \n",
       "3      1  26/02/2010        46.63       2.561        NaN        NaN   \n",
       "4      1  05/03/2010        46.50       2.625        NaN        NaN   \n",
       "\n",
       "   MarkDown3  MarkDown4  MarkDown5         CPI  Unemployment  IsHoliday  \n",
       "0        NaN        NaN        NaN  211.096358         8.106      False  \n",
       "1        NaN        NaN        NaN  211.242170         8.106       True  \n",
       "2        NaN        NaN        NaN  211.289143         8.106      False  \n",
       "3        NaN        NaN        NaN  211.319643         8.106      False  \n",
       "4        NaN        NaN        NaN  211.350143         8.106      False  "
      ]
     },
     "execution_count": 6,
     "metadata": {},
     "output_type": "execute_result"
    }
   ],
   "source": [
    "store_features_df.head()"
   ]
  },
  {
   "cell_type": "code",
   "execution_count": 7,
   "metadata": {},
   "outputs": [
    {
     "data": {
      "text/html": [
       "<div>\n",
       "<style scoped>\n",
       "    .dataframe tbody tr th:only-of-type {\n",
       "        vertical-align: middle;\n",
       "    }\n",
       "\n",
       "    .dataframe tbody tr th {\n",
       "        vertical-align: top;\n",
       "    }\n",
       "\n",
       "    .dataframe thead th {\n",
       "        text-align: right;\n",
       "    }\n",
       "</style>\n",
       "<table border=\"1\" class=\"dataframe\">\n",
       "  <thead>\n",
       "    <tr style=\"text-align: right;\">\n",
       "      <th></th>\n",
       "      <th>Store</th>\n",
       "      <th>Type</th>\n",
       "      <th>Size</th>\n",
       "    </tr>\n",
       "  </thead>\n",
       "  <tbody>\n",
       "    <tr>\n",
       "      <th>0</th>\n",
       "      <td>1</td>\n",
       "      <td>A</td>\n",
       "      <td>151315</td>\n",
       "    </tr>\n",
       "    <tr>\n",
       "      <th>1</th>\n",
       "      <td>2</td>\n",
       "      <td>A</td>\n",
       "      <td>202307</td>\n",
       "    </tr>\n",
       "    <tr>\n",
       "      <th>2</th>\n",
       "      <td>3</td>\n",
       "      <td>B</td>\n",
       "      <td>37392</td>\n",
       "    </tr>\n",
       "    <tr>\n",
       "      <th>3</th>\n",
       "      <td>4</td>\n",
       "      <td>A</td>\n",
       "      <td>205863</td>\n",
       "    </tr>\n",
       "    <tr>\n",
       "      <th>4</th>\n",
       "      <td>5</td>\n",
       "      <td>B</td>\n",
       "      <td>34875</td>\n",
       "    </tr>\n",
       "  </tbody>\n",
       "</table>\n",
       "</div>"
      ],
      "text/plain": [
       "   Store Type    Size\n",
       "0      1    A  151315\n",
       "1      2    A  202307\n",
       "2      3    B   37392\n",
       "3      4    A  205863\n",
       "4      5    B   34875"
      ]
     },
     "execution_count": 7,
     "metadata": {},
     "output_type": "execute_result"
    }
   ],
   "source": [
    "stores_df.head()"
   ]
  },
  {
   "cell_type": "markdown",
   "metadata": {},
   "source": [
    "### Data description\n",
    "\n",
    "In the `data/retail_sales` folder are three datasets describing sales as various retail stores.\n",
    "\n",
    "`sales.csv` description:\n",
    "- **Store:** Store number\n",
    "- **Dept:** Department number within that store\n",
    "- **Date:** Date\n",
    "- **Weekly_Sales:** Sales for the given department in the given store for the given week\n",
    "- **IsHoliday:** Whether the week is a special holiday week\n",
    "\n",
    "`store_features.csv` description:\n",
    "- **Store:** Store number\n",
    "- **Date:** Date\n",
    "- **Temperature:** Average temperature in the region\n",
    "- **Fuel_Price:** Cost of fuel in the region\n",
    "- **MarkDown1-5:** Anonymized data related to promotional markdowns.\n",
    "- **CPI:** Consumer price index. A number which measures the (weighted) average price of any good in the country.\n",
    "- **Unemployment:** Unemployment rate\n",
    "- **IsHoliday:** Whether the week is a special holiday week\n",
    "\n",
    "`stores.csv` description:\n",
    "- **Store:** Store number\n",
    "- **Type:** Type of store (the actual value is meaningless)\n",
    "- **Size:** Size of the store (the actual value is meaningless)"
   ]
  },
  {
   "cell_type": "markdown",
   "metadata": {},
   "source": [
    "## Tasks"
   ]
  },
  {
   "cell_type": "markdown",
   "metadata": {},
   "source": [
    "### Data cleaning\n",
    "**DC1:** For all three datasets, print how many `None` or `NaN` values are in the column, along with what percentage of the rows are missing. Round the percentage to two decimal places. Your output should look like:\n",
    "\n",
    "```\n",
    "col1_name: 20 (0.05%) missing values \n",
    "col2_name: 150 (1.56%) missing values \n",
    "```"
   ]
  },
  {
   "cell_type": "code",
   "execution_count": 8,
   "metadata": {},
   "outputs": [
    {
     "name": "stdout",
     "output_type": "stream",
     "text": [
      "Store: 0 (0.00)% missing values\n",
      "Dept: 0 (0.00)% missing values\n",
      "Date: 0 (0.00)% missing values\n",
      "Weekly_Sales: 0 (0.00)% missing values\n",
      "IsHoliday: 0 (0.00)% missing values\n"
     ]
    }
   ],
   "source": [
    "# We can use the exact same code as from the week02 challenge\n",
    "for c in sales_df.columns:\n",
    "    n_missing = sales_df[c].isna().sum()\n",
    "    pct_missing = n_missing / sales_df.shape[0]\n",
    "    print(f'{c}: {n_missing} ({100*pct_missing:.2f})% missing values')"
   ]
  },
  {
   "cell_type": "code",
   "execution_count": 9,
   "metadata": {},
   "outputs": [
    {
     "name": "stdout",
     "output_type": "stream",
     "text": [
      "Store: 0 (0.00)% missing values\n",
      "Date: 0 (0.00)% missing values\n",
      "Temperature: 0 (0.00)% missing values\n",
      "Fuel_Price: 0 (0.00)% missing values\n",
      "MarkDown1: 4158 (50.77)% missing values\n",
      "MarkDown2: 5269 (64.33)% missing values\n",
      "MarkDown3: 4577 (55.89)% missing values\n",
      "MarkDown4: 4726 (57.70)% missing values\n",
      "MarkDown5: 4140 (50.55)% missing values\n",
      "CPI: 585 (7.14)% missing values\n",
      "Unemployment: 585 (7.14)% missing values\n",
      "IsHoliday: 0 (0.00)% missing values\n"
     ]
    }
   ],
   "source": [
    "for c in store_features_df.columns:\n",
    "    n_missing = store_features_df[c].isna().sum()\n",
    "    pct_missing = n_missing / store_features_df.shape[0]\n",
    "    print(f'{c}: {n_missing} ({100*pct_missing:.2f})% missing values')"
   ]
  },
  {
   "cell_type": "code",
   "execution_count": 10,
   "metadata": {},
   "outputs": [
    {
     "name": "stdout",
     "output_type": "stream",
     "text": [
      "Store: 0 (0.00)% missing values\n",
      "Type: 0 (0.00)% missing values\n",
      "Size: 0 (0.00)% missing values\n"
     ]
    }
   ],
   "source": [
    "for c in stores_df.columns:\n",
    "    n_missing = stores_df[c].isna().sum()\n",
    "    pct_missing = n_missing / stores_df.shape[0]\n",
    "    print(f'{c}: {n_missing} ({100*pct_missing:.2f})% missing values')"
   ]
  },
  {
   "cell_type": "markdown",
   "metadata": {},
   "source": [
    "**DC2:** For the \"Markdown1-5\" columns, only drop the column if at least 90% of the values are missing, otherwise keep it. Change the missing values in these co|lumns to 0 (zero)."
   ]
  },
  {
   "cell_type": "code",
   "execution_count": 11,
   "metadata": {},
   "outputs": [
    {
     "data": {
      "text/plain": [
       "Store             0\n",
       "Date              0\n",
       "Temperature       0\n",
       "Fuel_Price        0\n",
       "MarkDown1         0\n",
       "MarkDown2         0\n",
       "MarkDown3         0\n",
       "MarkDown4         0\n",
       "MarkDown5         0\n",
       "CPI             585\n",
       "Unemployment    585\n",
       "IsHoliday         0\n",
       "dtype: int64"
      ]
     },
     "execution_count": 11,
     "metadata": {},
     "output_type": "execute_result"
    }
   ],
   "source": [
    "# We can see above that none of the columns have 90%+ missing, so we'll just fill missing values with zero.\n",
    "markdown_cols = ['MarkDown1', 'MarkDown2', 'MarkDown3', 'MarkDown4', 'MarkDown5']\n",
    "for c in markdown_cols:\n",
    "    store_features_df[c] = store_features_df[c].fillna(0)\n",
    "    \n",
    "# Sanity check to make sure there are no more missing values in the MarkDown columns\n",
    "store_features_df.isna().sum()"
   ]
  },
  {
   "cell_type": "markdown",
   "metadata": {},
   "source": [
    "**DC3:** Change all column names to be lower case. Change \"IsHoliday\" to be \"is_holiday\"."
   ]
  },
  {
   "cell_type": "code",
   "execution_count": 14,
   "metadata": {},
   "outputs": [],
   "source": [
    "# Most of this we did in the week01 challenge, so reusing that code here\n",
    "# sales_df\n",
    "sales_cols = [c if c != 'IsHoliday' else 'is_holiday' for c in sales_df.columns]\n",
    "sales_cols = [c.lower() for c in sales_cols]\n",
    "sales_df.columns = sales_cols\n",
    "\n",
    "# store_features_df\n",
    "store_features_cols = [c if c != 'IsHoliday' else 'is_holiday' for c in store_features_df.columns]\n",
    "store_features_cols = [c.lower() for c in store_features_cols]\n",
    "store_features_df.columns = store_features_cols\n",
    "\n",
    "# stores_df\n",
    "stores_cols = [c.lower() for c in stores_df.columns]\n",
    "stores_df.columns = stores_cols"
   ]
  },
  {
   "cell_type": "code",
   "execution_count": 15,
   "metadata": {},
   "outputs": [
    {
     "data": {
      "text/html": [
       "<div>\n",
       "<style scoped>\n",
       "    .dataframe tbody tr th:only-of-type {\n",
       "        vertical-align: middle;\n",
       "    }\n",
       "\n",
       "    .dataframe tbody tr th {\n",
       "        vertical-align: top;\n",
       "    }\n",
       "\n",
       "    .dataframe thead th {\n",
       "        text-align: right;\n",
       "    }\n",
       "</style>\n",
       "<table border=\"1\" class=\"dataframe\">\n",
       "  <thead>\n",
       "    <tr style=\"text-align: right;\">\n",
       "      <th></th>\n",
       "      <th>store</th>\n",
       "      <th>dept</th>\n",
       "      <th>date</th>\n",
       "      <th>weekly_sales</th>\n",
       "      <th>is_holiday</th>\n",
       "    </tr>\n",
       "  </thead>\n",
       "  <tbody>\n",
       "    <tr>\n",
       "      <th>0</th>\n",
       "      <td>1</td>\n",
       "      <td>1</td>\n",
       "      <td>2010-05-02</td>\n",
       "      <td>24924.50</td>\n",
       "      <td>False</td>\n",
       "    </tr>\n",
       "    <tr>\n",
       "      <th>1</th>\n",
       "      <td>1</td>\n",
       "      <td>1</td>\n",
       "      <td>2010-12-02</td>\n",
       "      <td>46039.49</td>\n",
       "      <td>True</td>\n",
       "    </tr>\n",
       "    <tr>\n",
       "      <th>2</th>\n",
       "      <td>1</td>\n",
       "      <td>1</td>\n",
       "      <td>2010-02-19</td>\n",
       "      <td>41595.55</td>\n",
       "      <td>False</td>\n",
       "    </tr>\n",
       "    <tr>\n",
       "      <th>3</th>\n",
       "      <td>1</td>\n",
       "      <td>1</td>\n",
       "      <td>2010-02-26</td>\n",
       "      <td>19403.54</td>\n",
       "      <td>False</td>\n",
       "    </tr>\n",
       "    <tr>\n",
       "      <th>4</th>\n",
       "      <td>1</td>\n",
       "      <td>1</td>\n",
       "      <td>2010-05-03</td>\n",
       "      <td>21827.90</td>\n",
       "      <td>False</td>\n",
       "    </tr>\n",
       "  </tbody>\n",
       "</table>\n",
       "</div>"
      ],
      "text/plain": [
       "   store  dept        date  weekly_sales  is_holiday\n",
       "0      1     1  2010-05-02      24924.50       False\n",
       "1      1     1  2010-12-02      46039.49        True\n",
       "2      1     1  2010-02-19      41595.55       False\n",
       "3      1     1  2010-02-26      19403.54       False\n",
       "4      1     1  2010-05-03      21827.90       False"
      ]
     },
     "execution_count": 15,
     "metadata": {},
     "output_type": "execute_result"
    }
   ],
   "source": [
    "# Sanity checks\n",
    "sales_df.head()"
   ]
  },
  {
   "cell_type": "code",
   "execution_count": 16,
   "metadata": {},
   "outputs": [
    {
     "data": {
      "text/html": [
       "<div>\n",
       "<style scoped>\n",
       "    .dataframe tbody tr th:only-of-type {\n",
       "        vertical-align: middle;\n",
       "    }\n",
       "\n",
       "    .dataframe tbody tr th {\n",
       "        vertical-align: top;\n",
       "    }\n",
       "\n",
       "    .dataframe thead th {\n",
       "        text-align: right;\n",
       "    }\n",
       "</style>\n",
       "<table border=\"1\" class=\"dataframe\">\n",
       "  <thead>\n",
       "    <tr style=\"text-align: right;\">\n",
       "      <th></th>\n",
       "      <th>store</th>\n",
       "      <th>date</th>\n",
       "      <th>temperature</th>\n",
       "      <th>fuel_price</th>\n",
       "      <th>markdown1</th>\n",
       "      <th>markdown2</th>\n",
       "      <th>markdown3</th>\n",
       "      <th>markdown4</th>\n",
       "      <th>markdown5</th>\n",
       "      <th>cpi</th>\n",
       "      <th>unemployment</th>\n",
       "      <th>is_holiday</th>\n",
       "    </tr>\n",
       "  </thead>\n",
       "  <tbody>\n",
       "    <tr>\n",
       "      <th>0</th>\n",
       "      <td>1</td>\n",
       "      <td>05/02/2010</td>\n",
       "      <td>42.31</td>\n",
       "      <td>2.572</td>\n",
       "      <td>0.0</td>\n",
       "      <td>0.0</td>\n",
       "      <td>0.0</td>\n",
       "      <td>0.0</td>\n",
       "      <td>0.0</td>\n",
       "      <td>211.096358</td>\n",
       "      <td>8.106</td>\n",
       "      <td>False</td>\n",
       "    </tr>\n",
       "    <tr>\n",
       "      <th>1</th>\n",
       "      <td>1</td>\n",
       "      <td>12/02/2010</td>\n",
       "      <td>38.51</td>\n",
       "      <td>2.548</td>\n",
       "      <td>0.0</td>\n",
       "      <td>0.0</td>\n",
       "      <td>0.0</td>\n",
       "      <td>0.0</td>\n",
       "      <td>0.0</td>\n",
       "      <td>211.242170</td>\n",
       "      <td>8.106</td>\n",
       "      <td>True</td>\n",
       "    </tr>\n",
       "    <tr>\n",
       "      <th>2</th>\n",
       "      <td>1</td>\n",
       "      <td>19/02/2010</td>\n",
       "      <td>39.93</td>\n",
       "      <td>2.514</td>\n",
       "      <td>0.0</td>\n",
       "      <td>0.0</td>\n",
       "      <td>0.0</td>\n",
       "      <td>0.0</td>\n",
       "      <td>0.0</td>\n",
       "      <td>211.289143</td>\n",
       "      <td>8.106</td>\n",
       "      <td>False</td>\n",
       "    </tr>\n",
       "    <tr>\n",
       "      <th>3</th>\n",
       "      <td>1</td>\n",
       "      <td>26/02/2010</td>\n",
       "      <td>46.63</td>\n",
       "      <td>2.561</td>\n",
       "      <td>0.0</td>\n",
       "      <td>0.0</td>\n",
       "      <td>0.0</td>\n",
       "      <td>0.0</td>\n",
       "      <td>0.0</td>\n",
       "      <td>211.319643</td>\n",
       "      <td>8.106</td>\n",
       "      <td>False</td>\n",
       "    </tr>\n",
       "    <tr>\n",
       "      <th>4</th>\n",
       "      <td>1</td>\n",
       "      <td>05/03/2010</td>\n",
       "      <td>46.50</td>\n",
       "      <td>2.625</td>\n",
       "      <td>0.0</td>\n",
       "      <td>0.0</td>\n",
       "      <td>0.0</td>\n",
       "      <td>0.0</td>\n",
       "      <td>0.0</td>\n",
       "      <td>211.350143</td>\n",
       "      <td>8.106</td>\n",
       "      <td>False</td>\n",
       "    </tr>\n",
       "  </tbody>\n",
       "</table>\n",
       "</div>"
      ],
      "text/plain": [
       "   store        date  temperature  fuel_price  markdown1  markdown2  \\\n",
       "0      1  05/02/2010        42.31       2.572        0.0        0.0   \n",
       "1      1  12/02/2010        38.51       2.548        0.0        0.0   \n",
       "2      1  19/02/2010        39.93       2.514        0.0        0.0   \n",
       "3      1  26/02/2010        46.63       2.561        0.0        0.0   \n",
       "4      1  05/03/2010        46.50       2.625        0.0        0.0   \n",
       "\n",
       "   markdown3  markdown4  markdown5         cpi  unemployment  is_holiday  \n",
       "0        0.0        0.0        0.0  211.096358         8.106       False  \n",
       "1        0.0        0.0        0.0  211.242170         8.106        True  \n",
       "2        0.0        0.0        0.0  211.289143         8.106       False  \n",
       "3        0.0        0.0        0.0  211.319643         8.106       False  \n",
       "4        0.0        0.0        0.0  211.350143         8.106       False  "
      ]
     },
     "execution_count": 16,
     "metadata": {},
     "output_type": "execute_result"
    }
   ],
   "source": [
    "store_features_df.head()"
   ]
  },
  {
   "cell_type": "code",
   "execution_count": 17,
   "metadata": {},
   "outputs": [
    {
     "data": {
      "text/html": [
       "<div>\n",
       "<style scoped>\n",
       "    .dataframe tbody tr th:only-of-type {\n",
       "        vertical-align: middle;\n",
       "    }\n",
       "\n",
       "    .dataframe tbody tr th {\n",
       "        vertical-align: top;\n",
       "    }\n",
       "\n",
       "    .dataframe thead th {\n",
       "        text-align: right;\n",
       "    }\n",
       "</style>\n",
       "<table border=\"1\" class=\"dataframe\">\n",
       "  <thead>\n",
       "    <tr style=\"text-align: right;\">\n",
       "      <th></th>\n",
       "      <th>store</th>\n",
       "      <th>type</th>\n",
       "      <th>size</th>\n",
       "    </tr>\n",
       "  </thead>\n",
       "  <tbody>\n",
       "    <tr>\n",
       "      <th>0</th>\n",
       "      <td>1</td>\n",
       "      <td>A</td>\n",
       "      <td>151315</td>\n",
       "    </tr>\n",
       "    <tr>\n",
       "      <th>1</th>\n",
       "      <td>2</td>\n",
       "      <td>A</td>\n",
       "      <td>202307</td>\n",
       "    </tr>\n",
       "    <tr>\n",
       "      <th>2</th>\n",
       "      <td>3</td>\n",
       "      <td>B</td>\n",
       "      <td>37392</td>\n",
       "    </tr>\n",
       "    <tr>\n",
       "      <th>3</th>\n",
       "      <td>4</td>\n",
       "      <td>A</td>\n",
       "      <td>205863</td>\n",
       "    </tr>\n",
       "    <tr>\n",
       "      <th>4</th>\n",
       "      <td>5</td>\n",
       "      <td>B</td>\n",
       "      <td>34875</td>\n",
       "    </tr>\n",
       "  </tbody>\n",
       "</table>\n",
       "</div>"
      ],
      "text/plain": [
       "   store type    size\n",
       "0      1    A  151315\n",
       "1      2    A  202307\n",
       "2      3    B   37392\n",
       "3      4    A  205863\n",
       "4      5    B   34875"
      ]
     },
     "execution_count": 17,
     "metadata": {},
     "output_type": "execute_result"
    }
   ],
   "source": [
    "stores_df.head()"
   ]
  },
  {
   "cell_type": "markdown",
   "metadata": {},
   "source": [
    "**DC4:** Change the date column in both `sales_df` and `store_features_df` to be a `datetime` object. Find the minimum and maximum date in the data."
   ]
  },
  {
   "cell_type": "code",
   "execution_count": 67,
   "metadata": {},
   "outputs": [
    {
     "name": "stdout",
     "output_type": "stream",
     "text": [
      "Sales: 2010-01-10 00:00:00 to 2010-12-31 00:00:00\n",
      "Store features: 2010-01-10 00:00:00 to 2013-12-07 00:00:00\n"
     ]
    }
   ],
   "source": [
    "sales_df['date'] = pd.to_datetime(sales_df['date'])\n",
    "store_features_df['date'] = pd.to_datetime(store_features_df['date'])\n",
    "\n",
    "print(f'Sales: {sales_df[\"date\"].min()} to {sales_df[\"date\"].max()}')\n",
    "print(f'Store features: {store_features_df[\"date\"].min()} to {store_features_df[\"date\"].max()}')"
   ]
  },
  {
   "cell_type": "markdown",
   "metadata": {},
   "source": [
    "### Data joining"
   ]
  },
  {
   "cell_type": "markdown",
   "metadata": {},
   "source": [
    "**DJ1:** Create one new dataset `joined_df`. This dataset should be all three joined together using the \"Store\" column. Do a left join with `sales_df` so that all sales are kept. Therefore, your new dataframe should have the exact same number of rows as `sales_df`. Drop any duplicate columns and rename columns so that there are no `_x` or `_y`."
   ]
  },
  {
   "cell_type": "code",
   "execution_count": 22,
   "metadata": {},
   "outputs": [
    {
     "data": {
      "text/html": [
       "<div>\n",
       "<style scoped>\n",
       "    .dataframe tbody tr th:only-of-type {\n",
       "        vertical-align: middle;\n",
       "    }\n",
       "\n",
       "    .dataframe tbody tr th {\n",
       "        vertical-align: top;\n",
       "    }\n",
       "\n",
       "    .dataframe thead th {\n",
       "        text-align: right;\n",
       "    }\n",
       "</style>\n",
       "<table border=\"1\" class=\"dataframe\">\n",
       "  <thead>\n",
       "    <tr style=\"text-align: right;\">\n",
       "      <th></th>\n",
       "      <th>store</th>\n",
       "      <th>dept</th>\n",
       "      <th>date_x</th>\n",
       "      <th>weekly_sales</th>\n",
       "      <th>is_holiday_x</th>\n",
       "      <th>date_y</th>\n",
       "      <th>temperature</th>\n",
       "      <th>fuel_price</th>\n",
       "      <th>markdown1</th>\n",
       "      <th>markdown2</th>\n",
       "      <th>markdown3</th>\n",
       "      <th>markdown4</th>\n",
       "      <th>markdown5</th>\n",
       "      <th>cpi</th>\n",
       "      <th>unemployment</th>\n",
       "      <th>is_holiday_y</th>\n",
       "      <th>type</th>\n",
       "      <th>size</th>\n",
       "    </tr>\n",
       "  </thead>\n",
       "  <tbody>\n",
       "    <tr>\n",
       "      <th>0</th>\n",
       "      <td>1</td>\n",
       "      <td>1</td>\n",
       "      <td>2010-05-02</td>\n",
       "      <td>24924.5</td>\n",
       "      <td>False</td>\n",
       "      <td>05/02/2010</td>\n",
       "      <td>42.31</td>\n",
       "      <td>2.572</td>\n",
       "      <td>0.0</td>\n",
       "      <td>0.0</td>\n",
       "      <td>0.0</td>\n",
       "      <td>0.0</td>\n",
       "      <td>0.0</td>\n",
       "      <td>211.096358</td>\n",
       "      <td>8.106</td>\n",
       "      <td>False</td>\n",
       "      <td>A</td>\n",
       "      <td>151315</td>\n",
       "    </tr>\n",
       "    <tr>\n",
       "      <th>1</th>\n",
       "      <td>1</td>\n",
       "      <td>1</td>\n",
       "      <td>2010-05-02</td>\n",
       "      <td>24924.5</td>\n",
       "      <td>False</td>\n",
       "      <td>12/02/2010</td>\n",
       "      <td>38.51</td>\n",
       "      <td>2.548</td>\n",
       "      <td>0.0</td>\n",
       "      <td>0.0</td>\n",
       "      <td>0.0</td>\n",
       "      <td>0.0</td>\n",
       "      <td>0.0</td>\n",
       "      <td>211.242170</td>\n",
       "      <td>8.106</td>\n",
       "      <td>True</td>\n",
       "      <td>A</td>\n",
       "      <td>151315</td>\n",
       "    </tr>\n",
       "    <tr>\n",
       "      <th>2</th>\n",
       "      <td>1</td>\n",
       "      <td>1</td>\n",
       "      <td>2010-05-02</td>\n",
       "      <td>24924.5</td>\n",
       "      <td>False</td>\n",
       "      <td>19/02/2010</td>\n",
       "      <td>39.93</td>\n",
       "      <td>2.514</td>\n",
       "      <td>0.0</td>\n",
       "      <td>0.0</td>\n",
       "      <td>0.0</td>\n",
       "      <td>0.0</td>\n",
       "      <td>0.0</td>\n",
       "      <td>211.289143</td>\n",
       "      <td>8.106</td>\n",
       "      <td>False</td>\n",
       "      <td>A</td>\n",
       "      <td>151315</td>\n",
       "    </tr>\n",
       "    <tr>\n",
       "      <th>3</th>\n",
       "      <td>1</td>\n",
       "      <td>1</td>\n",
       "      <td>2010-05-02</td>\n",
       "      <td>24924.5</td>\n",
       "      <td>False</td>\n",
       "      <td>26/02/2010</td>\n",
       "      <td>46.63</td>\n",
       "      <td>2.561</td>\n",
       "      <td>0.0</td>\n",
       "      <td>0.0</td>\n",
       "      <td>0.0</td>\n",
       "      <td>0.0</td>\n",
       "      <td>0.0</td>\n",
       "      <td>211.319643</td>\n",
       "      <td>8.106</td>\n",
       "      <td>False</td>\n",
       "      <td>A</td>\n",
       "      <td>151315</td>\n",
       "    </tr>\n",
       "    <tr>\n",
       "      <th>4</th>\n",
       "      <td>1</td>\n",
       "      <td>1</td>\n",
       "      <td>2010-05-02</td>\n",
       "      <td>24924.5</td>\n",
       "      <td>False</td>\n",
       "      <td>05/03/2010</td>\n",
       "      <td>46.50</td>\n",
       "      <td>2.625</td>\n",
       "      <td>0.0</td>\n",
       "      <td>0.0</td>\n",
       "      <td>0.0</td>\n",
       "      <td>0.0</td>\n",
       "      <td>0.0</td>\n",
       "      <td>211.350143</td>\n",
       "      <td>8.106</td>\n",
       "      <td>False</td>\n",
       "      <td>A</td>\n",
       "      <td>151315</td>\n",
       "    </tr>\n",
       "  </tbody>\n",
       "</table>\n",
       "</div>"
      ],
      "text/plain": [
       "   store  dept      date_x  weekly_sales  is_holiday_x      date_y  \\\n",
       "0      1     1  2010-05-02       24924.5         False  05/02/2010   \n",
       "1      1     1  2010-05-02       24924.5         False  12/02/2010   \n",
       "2      1     1  2010-05-02       24924.5         False  19/02/2010   \n",
       "3      1     1  2010-05-02       24924.5         False  26/02/2010   \n",
       "4      1     1  2010-05-02       24924.5         False  05/03/2010   \n",
       "\n",
       "   temperature  fuel_price  markdown1  markdown2  markdown3  markdown4  \\\n",
       "0        42.31       2.572        0.0        0.0        0.0        0.0   \n",
       "1        38.51       2.548        0.0        0.0        0.0        0.0   \n",
       "2        39.93       2.514        0.0        0.0        0.0        0.0   \n",
       "3        46.63       2.561        0.0        0.0        0.0        0.0   \n",
       "4        46.50       2.625        0.0        0.0        0.0        0.0   \n",
       "\n",
       "   markdown5         cpi  unemployment  is_holiday_y type    size  \n",
       "0        0.0  211.096358         8.106         False    A  151315  \n",
       "1        0.0  211.242170         8.106          True    A  151315  \n",
       "2        0.0  211.289143         8.106         False    A  151315  \n",
       "3        0.0  211.319643         8.106         False    A  151315  \n",
       "4        0.0  211.350143         8.106         False    A  151315  "
      ]
     },
     "execution_count": 22,
     "metadata": {},
     "output_type": "execute_result"
    }
   ],
   "source": [
    "# First we'll left join sales with store features...\n",
    "joined_df = pd.merge(sales_df, store_features_df, how='left', on='store')\n",
    "\n",
    "# Then we'll left join that again with stores\n",
    "joined_df = pd.merge(joined_df, stores_df, how='left', on='store')\n",
    "\n",
    "joined_df.head()"
   ]
  },
  {
   "cell_type": "markdown",
   "metadata": {},
   "source": [
    "**DJ2:** Drop any duplicate columns and rename columns if names got changed."
   ]
  },
  {
   "cell_type": "code",
   "execution_count": 23,
   "metadata": {},
   "outputs": [
    {
     "data": {
      "text/html": [
       "<div>\n",
       "<style scoped>\n",
       "    .dataframe tbody tr th:only-of-type {\n",
       "        vertical-align: middle;\n",
       "    }\n",
       "\n",
       "    .dataframe tbody tr th {\n",
       "        vertical-align: top;\n",
       "    }\n",
       "\n",
       "    .dataframe thead th {\n",
       "        text-align: right;\n",
       "    }\n",
       "</style>\n",
       "<table border=\"1\" class=\"dataframe\">\n",
       "  <thead>\n",
       "    <tr style=\"text-align: right;\">\n",
       "      <th></th>\n",
       "      <th>store</th>\n",
       "      <th>dept</th>\n",
       "      <th>date</th>\n",
       "      <th>weekly_sales</th>\n",
       "      <th>is_holiday</th>\n",
       "      <th>temperature</th>\n",
       "      <th>fuel_price</th>\n",
       "      <th>markdown1</th>\n",
       "      <th>markdown2</th>\n",
       "      <th>markdown3</th>\n",
       "      <th>markdown4</th>\n",
       "      <th>markdown5</th>\n",
       "      <th>cpi</th>\n",
       "      <th>unemployment</th>\n",
       "      <th>type</th>\n",
       "      <th>size</th>\n",
       "    </tr>\n",
       "  </thead>\n",
       "  <tbody>\n",
       "    <tr>\n",
       "      <th>0</th>\n",
       "      <td>1</td>\n",
       "      <td>1</td>\n",
       "      <td>2010-05-02</td>\n",
       "      <td>24924.5</td>\n",
       "      <td>False</td>\n",
       "      <td>42.31</td>\n",
       "      <td>2.572</td>\n",
       "      <td>0.0</td>\n",
       "      <td>0.0</td>\n",
       "      <td>0.0</td>\n",
       "      <td>0.0</td>\n",
       "      <td>0.0</td>\n",
       "      <td>211.096358</td>\n",
       "      <td>8.106</td>\n",
       "      <td>A</td>\n",
       "      <td>151315</td>\n",
       "    </tr>\n",
       "    <tr>\n",
       "      <th>1</th>\n",
       "      <td>1</td>\n",
       "      <td>1</td>\n",
       "      <td>2010-05-02</td>\n",
       "      <td>24924.5</td>\n",
       "      <td>False</td>\n",
       "      <td>38.51</td>\n",
       "      <td>2.548</td>\n",
       "      <td>0.0</td>\n",
       "      <td>0.0</td>\n",
       "      <td>0.0</td>\n",
       "      <td>0.0</td>\n",
       "      <td>0.0</td>\n",
       "      <td>211.242170</td>\n",
       "      <td>8.106</td>\n",
       "      <td>A</td>\n",
       "      <td>151315</td>\n",
       "    </tr>\n",
       "    <tr>\n",
       "      <th>2</th>\n",
       "      <td>1</td>\n",
       "      <td>1</td>\n",
       "      <td>2010-05-02</td>\n",
       "      <td>24924.5</td>\n",
       "      <td>False</td>\n",
       "      <td>39.93</td>\n",
       "      <td>2.514</td>\n",
       "      <td>0.0</td>\n",
       "      <td>0.0</td>\n",
       "      <td>0.0</td>\n",
       "      <td>0.0</td>\n",
       "      <td>0.0</td>\n",
       "      <td>211.289143</td>\n",
       "      <td>8.106</td>\n",
       "      <td>A</td>\n",
       "      <td>151315</td>\n",
       "    </tr>\n",
       "    <tr>\n",
       "      <th>3</th>\n",
       "      <td>1</td>\n",
       "      <td>1</td>\n",
       "      <td>2010-05-02</td>\n",
       "      <td>24924.5</td>\n",
       "      <td>False</td>\n",
       "      <td>46.63</td>\n",
       "      <td>2.561</td>\n",
       "      <td>0.0</td>\n",
       "      <td>0.0</td>\n",
       "      <td>0.0</td>\n",
       "      <td>0.0</td>\n",
       "      <td>0.0</td>\n",
       "      <td>211.319643</td>\n",
       "      <td>8.106</td>\n",
       "      <td>A</td>\n",
       "      <td>151315</td>\n",
       "    </tr>\n",
       "    <tr>\n",
       "      <th>4</th>\n",
       "      <td>1</td>\n",
       "      <td>1</td>\n",
       "      <td>2010-05-02</td>\n",
       "      <td>24924.5</td>\n",
       "      <td>False</td>\n",
       "      <td>46.50</td>\n",
       "      <td>2.625</td>\n",
       "      <td>0.0</td>\n",
       "      <td>0.0</td>\n",
       "      <td>0.0</td>\n",
       "      <td>0.0</td>\n",
       "      <td>0.0</td>\n",
       "      <td>211.350143</td>\n",
       "      <td>8.106</td>\n",
       "      <td>A</td>\n",
       "      <td>151315</td>\n",
       "    </tr>\n",
       "  </tbody>\n",
       "</table>\n",
       "</div>"
      ],
      "text/plain": [
       "   store  dept        date  weekly_sales  is_holiday  temperature  fuel_price  \\\n",
       "0      1     1  2010-05-02       24924.5       False        42.31       2.572   \n",
       "1      1     1  2010-05-02       24924.5       False        38.51       2.548   \n",
       "2      1     1  2010-05-02       24924.5       False        39.93       2.514   \n",
       "3      1     1  2010-05-02       24924.5       False        46.63       2.561   \n",
       "4      1     1  2010-05-02       24924.5       False        46.50       2.625   \n",
       "\n",
       "   markdown1  markdown2  markdown3  markdown4  markdown5         cpi  \\\n",
       "0        0.0        0.0        0.0        0.0        0.0  211.096358   \n",
       "1        0.0        0.0        0.0        0.0        0.0  211.242170   \n",
       "2        0.0        0.0        0.0        0.0        0.0  211.289143   \n",
       "3        0.0        0.0        0.0        0.0        0.0  211.319643   \n",
       "4        0.0        0.0        0.0        0.0        0.0  211.350143   \n",
       "\n",
       "   unemployment type    size  \n",
       "0         8.106    A  151315  \n",
       "1         8.106    A  151315  \n",
       "2         8.106    A  151315  \n",
       "3         8.106    A  151315  \n",
       "4         8.106    A  151315  "
      ]
     },
     "execution_count": 23,
     "metadata": {},
     "output_type": "execute_result"
    }
   ],
   "source": [
    "# Finally, we'll remove duplicate columns...\n",
    "joined_df = joined_df.drop(['date_y', 'is_holiday_y'], axis='columns')\n",
    "\n",
    "# ...and rename them so that there are no more '_x'\n",
    "joined_df.columns = [c.replace('_x', '') for c in joined_df.columns]\n",
    "\n",
    "joined_df.head()"
   ]
  },
  {
   "cell_type": "markdown",
   "metadata": {},
   "source": [
    "**DJ3:** Create a new DataFrame `store1_sales_df` which has the sales by department for store 1. So it should look something like:\n",
    "\n",
    "| dept | dept_sales |\n",
    "|------|-------------|\n",
    "|   1  |     1234565 |\n",
    "|   2  |      987655 |\n",
    "|   3  |    67898758 |\n",
    "\n",
    "Then, make a bar chart showing the sales by deparment."
   ]
  },
  {
   "cell_type": "code",
   "execution_count": 46,
   "metadata": {},
   "outputs": [
    {
     "data": {
      "text/html": [
       "<div>\n",
       "<style scoped>\n",
       "    .dataframe tbody tr th:only-of-type {\n",
       "        vertical-align: middle;\n",
       "    }\n",
       "\n",
       "    .dataframe tbody tr th {\n",
       "        vertical-align: top;\n",
       "    }\n",
       "\n",
       "    .dataframe thead th {\n",
       "        text-align: right;\n",
       "    }\n",
       "</style>\n",
       "<table border=\"1\" class=\"dataframe\">\n",
       "  <thead>\n",
       "    <tr style=\"text-align: right;\">\n",
       "      <th></th>\n",
       "      <th>dept_sales</th>\n",
       "    </tr>\n",
       "    <tr>\n",
       "      <th>dept</th>\n",
       "      <th></th>\n",
       "    </tr>\n",
       "  </thead>\n",
       "  <tbody>\n",
       "    <tr>\n",
       "      <th>1</th>\n",
       "      <td>2.049955e+08</td>\n",
       "    </tr>\n",
       "    <tr>\n",
       "      <th>2</th>\n",
       "      <td>4.004973e+08</td>\n",
       "    </tr>\n",
       "    <tr>\n",
       "      <th>3</th>\n",
       "      <td>1.109993e+08</td>\n",
       "    </tr>\n",
       "    <tr>\n",
       "      <th>4</th>\n",
       "      <td>3.204869e+08</td>\n",
       "    </tr>\n",
       "    <tr>\n",
       "      <th>5</th>\n",
       "      <td>2.185941e+08</td>\n",
       "    </tr>\n",
       "  </tbody>\n",
       "</table>\n",
       "</div>"
      ],
      "text/plain": [
       "        dept_sales\n",
       "dept              \n",
       "1     2.049955e+08\n",
       "2     4.004973e+08\n",
       "3     1.109993e+08\n",
       "4     3.204869e+08\n",
       "5     2.185941e+08"
      ]
     },
     "execution_count": 46,
     "metadata": {},
     "output_type": "execute_result"
    }
   ],
   "source": [
    "# We'll start by just selecting store 1\n",
    "store1_df = joined_df[joined_df['store'] == 1]\n",
    "\n",
    "# Next we'll groupby dept and add up the weekly sales\n",
    "store1_sales = store1_df.groupby('dept')['weekly_sales'].sum()\n",
    "\n",
    "# This returns a Series (look at it using .head()). If you want it to look nicer with nice titles, make it a DataFrame (optional) using `.to_frame()`.\n",
    "store1_sales_df = store1_sales.to_frame(name='dept_sales')\n",
    "\n",
    "store1_sales_df.head()"
   ]
  },
  {
   "cell_type": "code",
   "execution_count": 56,
   "metadata": {},
   "outputs": [
    {
     "data": {
      "image/png": "[encoded data removed]",
      "text/plain": [
       "<Figure size 1440x576 with 1 Axes>"
      ]
     },
     "metadata": {
      "needs_background": "light"
     },
     "output_type": "display_data"
    }
   ],
   "source": [
    "# Bar chart\n",
    "ax = store1_sales_df.plot(kind='bar', figsize=(20, 8), legend=False, title='Sales by department for store 1')\n",
    "ax.set_ylabel('Total sales (billions of $)');"
   ]
  },
  {
   "cell_type": "markdown",
   "metadata": {},
   "source": [
    "### Data exporation\n"
   ]
  },
  {
   "cell_type": "markdown",
   "metadata": {},
   "source": [
    "**DE1:** Compute the correlation coefficient for all continuous numerical columns in `joined_df`."
   ]
  },
  {
   "cell_type": "code",
   "execution_count": 54,
   "metadata": {},
   "outputs": [
    {
     "data": {
      "text/plain": [
       "store               int64\n",
       "dept                int64\n",
       "date               object\n",
       "weekly_sales      float64\n",
       "is_holiday           bool\n",
       "temperature       float64\n",
       "fuel_price        float64\n",
       "markdown1         float64\n",
       "markdown2         float64\n",
       "markdown3         float64\n",
       "markdown4         float64\n",
       "markdown5         float64\n",
       "cpi               float64\n",
       "unemployment      float64\n",
       "type               object\n",
       "size                int64\n",
       "all_dept_sales    float64\n",
       "dtype: object"
      ]
     },
     "execution_count": 54,
     "metadata": {},
     "output_type": "execute_result"
    }
   ],
   "source": [
    "# Just by using .dtypes we will see which columns are floats (definitely continuous numerical) or ints (possibly numerical continuous, depending on what it is)\n",
    "joined_df.dtypes"
   ]
  },
  {
   "cell_type": "code",
   "execution_count": 58,
   "metadata": {},
   "outputs": [
    {
     "data": {
      "text/html": [
       "<div>\n",
       "<style scoped>\n",
       "    .dataframe tbody tr th:only-of-type {\n",
       "        vertical-align: middle;\n",
       "    }\n",
       "\n",
       "    .dataframe tbody tr th {\n",
       "        vertical-align: top;\n",
       "    }\n",
       "\n",
       "    .dataframe thead th {\n",
       "        text-align: right;\n",
       "    }\n",
       "</style>\n",
       "<table border=\"1\" class=\"dataframe\">\n",
       "  <thead>\n",
       "    <tr style=\"text-align: right;\">\n",
       "      <th></th>\n",
       "      <th>weekly_sales</th>\n",
       "      <th>temperature</th>\n",
       "      <th>fuel_price</th>\n",
       "      <th>markdown1</th>\n",
       "      <th>markdown2</th>\n",
       "      <th>markdown3</th>\n",
       "      <th>markdown4</th>\n",
       "      <th>markdown5</th>\n",
       "      <th>cpi</th>\n",
       "      <th>unemployment</th>\n",
       "      <th>size</th>\n",
       "    </tr>\n",
       "  </thead>\n",
       "  <tbody>\n",
       "    <tr>\n",
       "      <th>weekly_sales</th>\n",
       "      <td>1.000000</td>\n",
       "      <td>0.005432</td>\n",
       "      <td>0.012619</td>\n",
       "      <td>0.056554</td>\n",
       "      <td>0.034067</td>\n",
       "      <td>0.013951</td>\n",
       "      <td>0.043642</td>\n",
       "      <td>0.023029</td>\n",
       "      <td>-0.024727</td>\n",
       "      <td>-0.017764</td>\n",
       "      <td>0.239822</td>\n",
       "    </tr>\n",
       "    <tr>\n",
       "      <th>temperature</th>\n",
       "      <td>0.005432</td>\n",
       "      <td>1.000000</td>\n",
       "      <td>0.096397</td>\n",
       "      <td>-0.104593</td>\n",
       "      <td>-0.220454</td>\n",
       "      <td>-0.061550</td>\n",
       "      <td>-0.078375</td>\n",
       "      <td>-0.015607</td>\n",
       "      <td>0.170159</td>\n",
       "      <td>0.145080</td>\n",
       "      <td>-0.056095</td>\n",
       "    </tr>\n",
       "    <tr>\n",
       "      <th>fuel_price</th>\n",
       "      <td>0.012619</td>\n",
       "      <td>0.096397</td>\n",
       "      <td>1.000000</td>\n",
       "      <td>0.271497</td>\n",
       "      <td>0.030243</td>\n",
       "      <td>0.029252</td>\n",
       "      <td>0.153521</td>\n",
       "      <td>0.100942</td>\n",
       "      <td>-0.179163</td>\n",
       "      <td>-0.031750</td>\n",
       "      <td>0.013262</td>\n",
       "    </tr>\n",
       "    <tr>\n",
       "      <th>markdown1</th>\n",
       "      <td>0.056554</td>\n",
       "      <td>-0.104593</td>\n",
       "      <td>0.271497</td>\n",
       "      <td>1.000000</td>\n",
       "      <td>0.152617</td>\n",
       "      <td>-0.021466</td>\n",
       "      <td>0.825842</td>\n",
       "      <td>0.174843</td>\n",
       "      <td>0.014364</td>\n",
       "      <td>-0.127823</td>\n",
       "      <td>0.197946</td>\n",
       "    </tr>\n",
       "    <tr>\n",
       "      <th>markdown2</th>\n",
       "      <td>0.034067</td>\n",
       "      <td>-0.220454</td>\n",
       "      <td>0.030243</td>\n",
       "      <td>0.152617</td>\n",
       "      <td>1.000000</td>\n",
       "      <td>-0.017753</td>\n",
       "      <td>0.064827</td>\n",
       "      <td>0.047740</td>\n",
       "      <td>-0.004806</td>\n",
       "      <td>-0.069099</td>\n",
       "      <td>0.103622</td>\n",
       "    </tr>\n",
       "    <tr>\n",
       "      <th>markdown3</th>\n",
       "      <td>0.013951</td>\n",
       "      <td>-0.061550</td>\n",
       "      <td>0.029252</td>\n",
       "      <td>-0.021466</td>\n",
       "      <td>-0.017753</td>\n",
       "      <td>1.000000</td>\n",
       "      <td>-0.016165</td>\n",
       "      <td>0.009078</td>\n",
       "      <td>-0.004068</td>\n",
       "      <td>-0.033835</td>\n",
       "      <td>0.040901</td>\n",
       "    </tr>\n",
       "    <tr>\n",
       "      <th>markdown4</th>\n",
       "      <td>0.043642</td>\n",
       "      <td>-0.078375</td>\n",
       "      <td>0.153521</td>\n",
       "      <td>0.825842</td>\n",
       "      <td>0.064827</td>\n",
       "      <td>-0.016165</td>\n",
       "      <td>1.000000</td>\n",
       "      <td>0.116795</td>\n",
       "      <td>-0.008001</td>\n",
       "      <td>-0.078903</td>\n",
       "      <td>0.143815</td>\n",
       "    </tr>\n",
       "    <tr>\n",
       "      <th>markdown5</th>\n",
       "      <td>0.023029</td>\n",
       "      <td>-0.015607</td>\n",
       "      <td>0.100942</td>\n",
       "      <td>0.174843</td>\n",
       "      <td>0.047740</td>\n",
       "      <td>0.009078</td>\n",
       "      <td>0.116795</td>\n",
       "      <td>1.000000</td>\n",
       "      <td>0.018937</td>\n",
       "      <td>-0.041733</td>\n",
       "      <td>0.095601</td>\n",
       "    </tr>\n",
       "    <tr>\n",
       "      <th>cpi</th>\n",
       "      <td>-0.024727</td>\n",
       "      <td>0.170159</td>\n",
       "      <td>-0.179163</td>\n",
       "      <td>0.014364</td>\n",
       "      <td>-0.004806</td>\n",
       "      <td>-0.004068</td>\n",
       "      <td>-0.008001</td>\n",
       "      <td>0.018937</td>\n",
       "      <td>1.000000</td>\n",
       "      <td>-0.301397</td>\n",
       "      <td>-0.005049</td>\n",
       "    </tr>\n",
       "    <tr>\n",
       "      <th>unemployment</th>\n",
       "      <td>-0.017764</td>\n",
       "      <td>0.145080</td>\n",
       "      <td>-0.031750</td>\n",
       "      <td>-0.127823</td>\n",
       "      <td>-0.069099</td>\n",
       "      <td>-0.033835</td>\n",
       "      <td>-0.078903</td>\n",
       "      <td>-0.041733</td>\n",
       "      <td>-0.301397</td>\n",
       "      <td>1.000000</td>\n",
       "      <td>-0.059525</td>\n",
       "    </tr>\n",
       "    <tr>\n",
       "      <th>size</th>\n",
       "      <td>0.239822</td>\n",
       "      <td>-0.056095</td>\n",
       "      <td>0.013262</td>\n",
       "      <td>0.197946</td>\n",
       "      <td>0.103622</td>\n",
       "      <td>0.040901</td>\n",
       "      <td>0.143815</td>\n",
       "      <td>0.095601</td>\n",
       "      <td>-0.005049</td>\n",
       "      <td>-0.059525</td>\n",
       "      <td>1.000000</td>\n",
       "    </tr>\n",
       "  </tbody>\n",
       "</table>\n",
       "</div>"
      ],
      "text/plain": [
       "              weekly_sales  temperature  fuel_price  markdown1  markdown2  \\\n",
       "weekly_sales      1.000000     0.005432    0.012619   0.056554   0.034067   \n",
       "temperature       0.005432     1.000000    0.096397  -0.104593  -0.220454   \n",
       "fuel_price        0.012619     0.096397    1.000000   0.271497   0.030243   \n",
       "markdown1         0.056554    -0.104593    0.271497   1.000000   0.152617   \n",
       "markdown2         0.034067    -0.220454    0.030243   0.152617   1.000000   \n",
       "markdown3         0.013951    -0.061550    0.029252  -0.021466  -0.017753   \n",
       "markdown4         0.043642    -0.078375    0.153521   0.825842   0.064827   \n",
       "markdown5         0.023029    -0.015607    0.100942   0.174843   0.047740   \n",
       "cpi              -0.024727     0.170159   -0.179163   0.014364  -0.004806   \n",
       "unemployment     -0.017764     0.145080   -0.031750  -0.127823  -0.069099   \n",
       "size              0.239822    -0.056095    0.013262   0.197946   0.103622   \n",
       "\n",
       "              markdown3  markdown4  markdown5       cpi  unemployment  \\\n",
       "weekly_sales   0.013951   0.043642   0.023029 -0.024727     -0.017764   \n",
       "temperature   -0.061550  -0.078375  -0.015607  0.170159      0.145080   \n",
       "fuel_price     0.029252   0.153521   0.100942 -0.179163     -0.031750   \n",
       "markdown1     -0.021466   0.825842   0.174843  0.014364     -0.127823   \n",
       "markdown2     -0.017753   0.064827   0.047740 -0.004806     -0.069099   \n",
       "markdown3      1.000000  -0.016165   0.009078 -0.004068     -0.033835   \n",
       "markdown4     -0.016165   1.000000   0.116795 -0.008001     -0.078903   \n",
       "markdown5      0.009078   0.116795   1.000000  0.018937     -0.041733   \n",
       "cpi           -0.004068  -0.008001   0.018937  1.000000     -0.301397   \n",
       "unemployment  -0.033835  -0.078903  -0.041733 -0.301397      1.000000   \n",
       "size           0.040901   0.143815   0.095601 -0.005049     -0.059525   \n",
       "\n",
       "                  size  \n",
       "weekly_sales  0.239822  \n",
       "temperature  -0.056095  \n",
       "fuel_price    0.013262  \n",
       "markdown1     0.197946  \n",
       "markdown2     0.103622  \n",
       "markdown3     0.040901  \n",
       "markdown4     0.143815  \n",
       "markdown5     0.095601  \n",
       "cpi          -0.005049  \n",
       "unemployment -0.059525  \n",
       "size          1.000000  "
      ]
     },
     "execution_count": 58,
     "metadata": {},
     "output_type": "execute_result"
    }
   ],
   "source": [
    "# The integers are store, department and size. Only size is continuous numerical (store and department are really categorical)\n",
    "cont_cols = ['weekly_sales', 'temperature', 'fuel_price', 'markdown1', 'markdown2', 'markdown3', 'markdown4', 'markdown5', 'cpi', 'unemployment', 'size']\n",
    "cont_df = joined_df[cont_cols]\n",
    "corr_df = cont_df.corr()\n",
    "corr_df"
   ]
  },
  {
   "cell_type": "markdown",
   "metadata": {},
   "source": [
    "**DE2:** Write a function which makes a scatterplot for any continuous numerical column (x) against weekly_sales (y). Make the function give the graph and title and label the axes. So your function should look something like:\n",
    "```\n",
    "def plot_against_sales(df, col):\n",
    "    # do something here to make a scatterplot with x=col and y='weekly_sales'\n",
    "```"
   ]
  },
  {
   "cell_type": "code",
   "execution_count": 70,
   "metadata": {},
   "outputs": [],
   "source": [
    "def plot_against_sales(df, col):\n",
    "    ax = df.plot(x=col, y='weekly_sales', kind='scatter', figsize=(12, 8), title=f'{col} vs weekly_sales')\n",
    "    ax.set_xlabel(col)\n",
    "    ax.set_ylabel('weekly_sales')"
   ]
  },
  {
   "cell_type": "code",
   "execution_count": 72,
   "metadata": {},
   "outputs": [
    {
     "data": {
      "image/png": "[encoded data removed]",
      "text/plain": [
       "<Figure size 864x576 with 1 Axes>"
      ]
     },
     "metadata": {
      "needs_background": "light"
     },
     "output_type": "display_data"
    }
   ],
   "source": [
    "plot_against_sales(joined_df, 'size')"
   ]
  },
  {
   "cell_type": "markdown",
   "metadata": {},
   "source": [
    "**DE3:** Compute the correlation coefficient between `size` to `weekly_sales`. Make the scatterplot comparing them, and write a paragraph or two explaning what we learn from this. Your explanation should be in-depth and be appropriate to present to your boss. Back up your conclusion with other data/graphs."
   ]
  },
  {
   "cell_type": "markdown",
   "metadata": {},
   "source": [
    "**Note to students:** There are many different ways to answer the above question. What is shown below is just one possible explanation.\n",
    "\n",
    "The scatterplot is shown above. As we can see, while the correlation coefficient is fairly high ($R \\approx 0.24$), it appears that \"size\" is really not a continuous variable. It appears that there are a relatively small number of different store sizes. In fact, we can find the exact number using `joined_df['size'].nunique()`, which gives a value of 40. Thus there are only 40 unique sizes (compared to 45 unique stores). As is logical, larger stores generally have higher weekly sales. To get a better understanding of this relationship, we group the stores by size and compute the total sales."
   ]
  },
  {
   "cell_type": "code",
   "execution_count": 109,
   "metadata": {},
   "outputs": [],
   "source": [
    "grouped_by_size_df = joined_df.groupby('size')['weekly_sales'].sum()\n",
    "\n",
    "# Turn this into a DataFrame by making the index be a new column\n",
    "grouped_by_size_df = grouped_by_size_df.reset_index()"
   ]
  },
  {
   "cell_type": "code",
   "execution_count": 101,
   "metadata": {},
   "outputs": [
    {
     "data": {
      "text/plain": [
       "<matplotlib.axes._subplots.AxesSubplot at 0x11690bd00>"
      ]
     },
     "execution_count": 101,
     "metadata": {},
     "output_type": "execute_result"
    },
    {
     "data": {
      "image/png": "[encoded data removed]",
      "text/plain": [
       "<Figure size 1440x576 with 1 Axes>"
      ]
     },
     "metadata": {
      "needs_background": "light"
     },
     "output_type": "display_data"
    }
   ],
   "source": [
    "grouped_by_size_df.plot('size', 'weekly_sales', kind='bar', figsize=(20, 8), title='Total sales by store size')"
   ]
  },
  {
   "cell_type": "markdown",
   "metadata": {},
   "source": [
    "While this is informative, it is difficult to compare store size. Let's divide all store sizes by the size of the smallest store (34,875) so that the x-axis is how many multiples of the smallest store each store is. So for example, if one store had a size of 100,000, then this is $100000 / 34875 = 2.87$ times the size of the smallest store. We'll round to two decimal places. We'll do the same thing for sales. We'll then plot this as a scatterplot."
   ]
  },
  {
   "cell_type": "code",
   "execution_count": 110,
   "metadata": {},
   "outputs": [],
   "source": [
    "grouped_by_size_df['multiple_smallest_store_size'] = np.round(grouped_by_size_df['size'] / grouped_by_size_df['size'].min(), 2)\n",
    "grouped_by_size_df['multiple_smallest_store_sales'] = np.round(grouped_by_size_df['weekly_sales'] / grouped_by_size_df['weekly_sales'].min(), 2)"
   ]
  },
  {
   "cell_type": "code",
   "execution_count": 116,
   "metadata": {},
   "outputs": [
    {
     "data": {
      "image/png": "[encoded data removed]",
      "text/plain": [
       "<Figure size 1440x576 with 1 Axes>"
      ]
     },
     "metadata": {
      "needs_background": "light"
     },
     "output_type": "display_data"
    }
   ],
   "source": [
    "ax = grouped_by_size_df.plot('multiple_smallest_store_size', 'multiple_smallest_store_sales', kind='scatter', figsize=(20, 8), title='Total sales by store size', legend=False, grid=True)\n",
    "\n",
    "ax.set_xlabel('Size as a multiple of the smallest store')\n",
    "ax.set_ylabel('Weekly sales as a multiple of the smallest store');"
   ]
  },
  {
   "cell_type": "markdown",
   "metadata": {},
   "source": [
    "We can see there are clear outliers which are not much bigger than the smallest store and yet have 3-4 times the sales. Conversely, there are stores which are nearly six times the size of the smallest store, and yet only have 3-4 times the sales. Therefore there must be other factors involved (likely location)."
   ]
  },
  {
   "cell_type": "markdown",
   "metadata": {},
   "source": [
    "### Bonus questions"
   ]
  },
  {
   "cell_type": "markdown",
   "metadata": {},
   "source": [
    "**B1:** Explore the data and form a hypothesis about what the \"Type\" column means. Show work below and argue your conclusion."
   ]
  },
  {
   "cell_type": "code",
   "execution_count": 118,
   "metadata": {},
   "outputs": [
    {
     "data": {
      "text/plain": [
       "A    0.512457\n",
       "B    0.388416\n",
       "C    0.099126\n",
       "Name: type, dtype: float64"
      ]
     },
     "execution_count": 118,
     "metadata": {},
     "output_type": "execute_result"
    }
   ],
   "source": [
    "# First let's do some basic exploration about how many of each \"type\" appear.\n",
    "joined_df['type'].value_counts(normalize=True)"
   ]
  },
  {
   "cell_type": "code",
   "execution_count": 123,
   "metadata": {},
   "outputs": [
    {
     "data": {
      "text/plain": [
       "type\n",
       "A    182498.931005\n",
       "B    101880.522291\n",
       "C     40547.844245\n",
       "Name: size, dtype: float64"
      ]
     },
     "execution_count": 123,
     "metadata": {},
     "output_type": "execute_result"
    }
   ],
   "source": [
    "# So there are three stores, the majority of which are type \"A\". For each store type, let's compute the average size, number of departments and weekly sales. Then we can see if something obvious stands out\n",
    "joined_df.groupby('type')['size'].mean()"
   ]
  },
  {
   "cell_type": "code",
   "execution_count": 124,
   "metadata": {},
   "outputs": [
    {
     "data": {
      "text/plain": [
       "type\n",
       "A    81\n",
       "B    78\n",
       "C    65\n",
       "Name: dept, dtype: int64"
      ]
     },
     "execution_count": 124,
     "metadata": {},
     "output_type": "execute_result"
    }
   ],
   "source": [
    "joined_df.groupby('type')['dept'].nunique()"
   ]
  },
  {
   "cell_type": "code",
   "execution_count": 125,
   "metadata": {},
   "outputs": [
    {
     "data": {
      "text/plain": [
       "type\n",
       "A    20327.226574\n",
       "B    12627.241607\n",
       "C     9571.743733\n",
       "Name: weekly_sales, dtype: float64"
      ]
     },
     "execution_count": 125,
     "metadata": {},
     "output_type": "execute_result"
    }
   ],
   "source": [
    "joined_df.groupby('type')['weekly_sales'].mean()"
   ]
  },
  {
   "cell_type": "code",
   "execution_count": 127,
   "metadata": {},
   "outputs": [
    {
     "data": {
      "text/plain": [
       "type\n",
       "A    7.629214\n",
       "B    7.791311\n",
       "C    8.685993\n",
       "Name: unemployment, dtype: float64"
      ]
     },
     "execution_count": 127,
     "metadata": {},
     "output_type": "execute_result"
    }
   ],
   "source": [
    "# It looks like store type \"A\" is larger in every way tha n the others, \"B\" is second largest and \"C\" is smallest. Does that mean \"A\" is also generally in a richer/poorer area? We can look at unemployment, fuel price and cpi to see if there are any differences.\n",
    "joined_df.groupby('type')['unemployment'].mean()"
   ]
  },
  {
   "cell_type": "code",
   "execution_count": 128,
   "metadata": {},
   "outputs": [
    {
     "data": {
      "text/plain": [
       "type\n",
       "A    175.318062\n",
       "B    167.923404\n",
       "C    171.558478\n",
       "Name: cpi, dtype: float64"
      ]
     },
     "execution_count": 128,
     "metadata": {},
     "output_type": "execute_result"
    }
   ],
   "source": [
    "joined_df.groupby('type')['cpi'].mean()"
   ]
  },
  {
   "cell_type": "code",
   "execution_count": 130,
   "metadata": {},
   "outputs": [
    {
     "data": {
      "text/plain": [
       "type\n",
       "A    3.390532\n",
       "B    3.432100\n",
       "C    3.394090\n",
       "Name: fuel_price, dtype: float64"
      ]
     },
     "execution_count": 130,
     "metadata": {},
     "output_type": "execute_result"
    }
   ],
   "source": [
    "joined_df.groupby('type')['fuel_price'].mean()"
   ]
  },
  {
   "cell_type": "code",
   "execution_count": 132,
   "metadata": {},
   "outputs": [
    {
     "data": {
      "text/plain": [
       "type\n",
       "A    59.274439\n",
       "B    56.268284\n",
       "C    66.313824\n",
       "Name: temperature, dtype: float64"
      ]
     },
     "execution_count": 132,
     "metadata": {},
     "output_type": "execute_result"
    }
   ],
   "source": [
    "# Unemployment increases from A to C, so it seems that A is in a richer area, B in the middle, and C (significantly) poorer. The CPI and fuel price don't seem to show a clear pattern. \n",
    "# Just out of curiousity, let's see if we see differences in any of the other interesting columns.\n",
    "joined_df.groupby('type')['temperature'].mean()"
   ]
  },
  {
   "cell_type": "code",
   "execution_count": 133,
   "metadata": {},
   "outputs": [
    {
     "data": {
      "text/plain": [
       "type\n",
       "A    4493.538586\n",
       "B    3515.968379\n",
       "C     217.933794\n",
       "Name: markdown1, dtype: float64"
      ]
     },
     "execution_count": 133,
     "metadata": {},
     "output_type": "execute_result"
    }
   ],
   "source": [
    "joined_df.groupby('type')['markdown1'].mean()"
   ]
  },
  {
   "cell_type": "code",
   "execution_count": 134,
   "metadata": {},
   "outputs": [
    {
     "data": {
      "text/plain": [
       "type\n",
       "A    1606.091663\n",
       "B    1185.632061\n",
       "C      74.728279\n",
       "Name: markdown2, dtype: float64"
      ]
     },
     "execution_count": 134,
     "metadata": {},
     "output_type": "execute_result"
    }
   ],
   "source": [
    "joined_df.groupby('type')['markdown2'].mean()"
   ]
  },
  {
   "cell_type": "code",
   "execution_count": 135,
   "metadata": {},
   "outputs": [],
   "source": [
    "# Interesting! So the richer stores also have more markdowns! Let's now summarize this answer."
   ]
  },
  {
   "cell_type": "markdown",
   "metadata": {},
   "source": [
    "Based on the above analysis we can make the following conclusions: Stores of type \"A\" tend to be in richer areas and have higher sales. Stores of type \"C\" are the opposite (poorer areas, lower sales), and \"B\" is in the middle. This is backed up by looking at the size of the stores and the unemployment numbers in each region. In addition, the richer store types tend to have more markdowns, whereas poorer store types have significantly less. It is possible that stores in poorer areas simply have lower-priced products which are thus not put on sale (such as \"Dollar Store\" type stores). This would explain the lower sales, reduced markdowns, and higher unemployment rates. We could investigate this further if we had product-level information for these stores."
   ]
  }
 ],
 "metadata": {
  "kernelspec": {
   "display_name": "Python 3",
   "language": "python",
   "name": "python3"
  },
  "language_info": {
   "codemirror_mode": {
    "name": "ipython",
    "version": 3
   },
   "file_extension": ".py",
   "mimetype": "text/x-python",
   "name": "python",
   "nbconvert_exporter": "python",
   "pygments_lexer": "ipython3",
   "version": "3.8.2"
  }
 },
 "nbformat": 4,
 "nbformat_minor": 4
}
