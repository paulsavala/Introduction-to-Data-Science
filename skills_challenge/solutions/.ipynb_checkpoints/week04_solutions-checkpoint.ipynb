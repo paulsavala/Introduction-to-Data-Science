{
 "cells": [
  {
   "cell_type": "markdown",
   "metadata": {},
   "source": [
    "# Skills challenge \\#4\n",
    "Below are a series of questions. Use the loaded data to answer the questions. You will almost certainly need to import more packages (`pandas`, `numpy`, etc.) to complete these. You are welcome to use any source except for your classmates. So Google away!\n",
    "\n",
    "You will be graded on both the **correctness** and **cleanliness** of your work. So don't submit poorly written code or your grade will reflect that. Use Markdown describing what you have done. If you get stuck, move on to another part. Most questions don't rely on the answer to earlier questions."
   ]
  },
  {
   "cell_type": "markdown",
   "metadata": {},
   "source": [
    "### Imports"
   ]
  },
  {
   "cell_type": "code",
   "execution_count": 116,
   "metadata": {},
   "outputs": [],
   "source": [
    "import pandas as pd\n",
    "import numpy as np\n",
    "\n",
    "from sklearn.linear_model import LinearRegression\n",
    "from sklearn.model_selection import train_test_split\n",
    "\n",
    "from matplotlib import pyplot as plt"
   ]
  },
  {
   "cell_type": "markdown",
   "metadata": {},
   "source": [
    "### Data loading"
   ]
  },
  {
   "cell_type": "code",
   "execution_count": 83,
   "metadata": {},
   "outputs": [],
   "source": [
    "df = pd.read_csv('../../data/hotel_bookings.csv')"
   ]
  },
  {
   "cell_type": "code",
   "execution_count": 88,
   "metadata": {},
   "outputs": [
    {
     "data": {
      "text/html": [
       "<div>\n",
       "<style scoped>\n",
       "    .dataframe tbody tr th:only-of-type {\n",
       "        vertical-align: middle;\n",
       "    }\n",
       "\n",
       "    .dataframe tbody tr th {\n",
       "        vertical-align: top;\n",
       "    }\n",
       "\n",
       "    .dataframe thead th {\n",
       "        text-align: right;\n",
       "    }\n",
       "</style>\n",
       "<table border=\"1\" class=\"dataframe\">\n",
       "  <thead>\n",
       "    <tr style=\"text-align: right;\">\n",
       "      <th></th>\n",
       "      <th>hotel</th>\n",
       "      <th>is_canceled</th>\n",
       "      <th>lead_time</th>\n",
       "      <th>arrival_date_year</th>\n",
       "      <th>arrival_date_month</th>\n",
       "      <th>arrival_date_week_number</th>\n",
       "      <th>arrival_date_day_of_month</th>\n",
       "      <th>stays_in_weekend_nights</th>\n",
       "      <th>stays_in_week_nights</th>\n",
       "      <th>adults</th>\n",
       "      <th>...</th>\n",
       "      <th>deposit_type</th>\n",
       "      <th>agent</th>\n",
       "      <th>company</th>\n",
       "      <th>days_in_waiting_list</th>\n",
       "      <th>customer_type</th>\n",
       "      <th>adr</th>\n",
       "      <th>required_car_parking_spaces</th>\n",
       "      <th>total_of_special_requests</th>\n",
       "      <th>reservation_status</th>\n",
       "      <th>reservation_status_date</th>\n",
       "    </tr>\n",
       "  </thead>\n",
       "  <tbody>\n",
       "    <tr>\n",
       "      <th>0</th>\n",
       "      <td>Resort Hotel</td>\n",
       "      <td>0</td>\n",
       "      <td>342</td>\n",
       "      <td>2015</td>\n",
       "      <td>July</td>\n",
       "      <td>27</td>\n",
       "      <td>1</td>\n",
       "      <td>0</td>\n",
       "      <td>0</td>\n",
       "      <td>2</td>\n",
       "      <td>...</td>\n",
       "      <td>No Deposit</td>\n",
       "      <td>NaN</td>\n",
       "      <td>NaN</td>\n",
       "      <td>0</td>\n",
       "      <td>Transient</td>\n",
       "      <td>0.0</td>\n",
       "      <td>0</td>\n",
       "      <td>0</td>\n",
       "      <td>Check-Out</td>\n",
       "      <td>2015-07-01</td>\n",
       "    </tr>\n",
       "    <tr>\n",
       "      <th>1</th>\n",
       "      <td>Resort Hotel</td>\n",
       "      <td>0</td>\n",
       "      <td>737</td>\n",
       "      <td>2015</td>\n",
       "      <td>July</td>\n",
       "      <td>27</td>\n",
       "      <td>1</td>\n",
       "      <td>0</td>\n",
       "      <td>0</td>\n",
       "      <td>2</td>\n",
       "      <td>...</td>\n",
       "      <td>No Deposit</td>\n",
       "      <td>NaN</td>\n",
       "      <td>NaN</td>\n",
       "      <td>0</td>\n",
       "      <td>Transient</td>\n",
       "      <td>0.0</td>\n",
       "      <td>0</td>\n",
       "      <td>0</td>\n",
       "      <td>Check-Out</td>\n",
       "      <td>2015-07-01</td>\n",
       "    </tr>\n",
       "    <tr>\n",
       "      <th>2</th>\n",
       "      <td>Resort Hotel</td>\n",
       "      <td>0</td>\n",
       "      <td>7</td>\n",
       "      <td>2015</td>\n",
       "      <td>July</td>\n",
       "      <td>27</td>\n",
       "      <td>1</td>\n",
       "      <td>0</td>\n",
       "      <td>1</td>\n",
       "      <td>1</td>\n",
       "      <td>...</td>\n",
       "      <td>No Deposit</td>\n",
       "      <td>NaN</td>\n",
       "      <td>NaN</td>\n",
       "      <td>0</td>\n",
       "      <td>Transient</td>\n",
       "      <td>75.0</td>\n",
       "      <td>0</td>\n",
       "      <td>0</td>\n",
       "      <td>Check-Out</td>\n",
       "      <td>2015-07-02</td>\n",
       "    </tr>\n",
       "    <tr>\n",
       "      <th>3</th>\n",
       "      <td>Resort Hotel</td>\n",
       "      <td>0</td>\n",
       "      <td>13</td>\n",
       "      <td>2015</td>\n",
       "      <td>July</td>\n",
       "      <td>27</td>\n",
       "      <td>1</td>\n",
       "      <td>0</td>\n",
       "      <td>1</td>\n",
       "      <td>1</td>\n",
       "      <td>...</td>\n",
       "      <td>No Deposit</td>\n",
       "      <td>304.0</td>\n",
       "      <td>NaN</td>\n",
       "      <td>0</td>\n",
       "      <td>Transient</td>\n",
       "      <td>75.0</td>\n",
       "      <td>0</td>\n",
       "      <td>0</td>\n",
       "      <td>Check-Out</td>\n",
       "      <td>2015-07-02</td>\n",
       "    </tr>\n",
       "    <tr>\n",
       "      <th>4</th>\n",
       "      <td>Resort Hotel</td>\n",
       "      <td>0</td>\n",
       "      <td>14</td>\n",
       "      <td>2015</td>\n",
       "      <td>July</td>\n",
       "      <td>27</td>\n",
       "      <td>1</td>\n",
       "      <td>0</td>\n",
       "      <td>2</td>\n",
       "      <td>2</td>\n",
       "      <td>...</td>\n",
       "      <td>No Deposit</td>\n",
       "      <td>240.0</td>\n",
       "      <td>NaN</td>\n",
       "      <td>0</td>\n",
       "      <td>Transient</td>\n",
       "      <td>98.0</td>\n",
       "      <td>0</td>\n",
       "      <td>1</td>\n",
       "      <td>Check-Out</td>\n",
       "      <td>2015-07-03</td>\n",
       "    </tr>\n",
       "  </tbody>\n",
       "</table>\n",
       "<p>5 rows × 32 columns</p>\n",
       "</div>"
      ],
      "text/plain": [
       "          hotel  is_canceled  lead_time  arrival_date_year arrival_date_month  \\\n",
       "0  Resort Hotel            0        342               2015               July   \n",
       "1  Resort Hotel            0        737               2015               July   \n",
       "2  Resort Hotel            0          7               2015               July   \n",
       "3  Resort Hotel            0         13               2015               July   \n",
       "4  Resort Hotel            0         14               2015               July   \n",
       "\n",
       "   arrival_date_week_number  arrival_date_day_of_month  \\\n",
       "0                        27                          1   \n",
       "1                        27                          1   \n",
       "2                        27                          1   \n",
       "3                        27                          1   \n",
       "4                        27                          1   \n",
       "\n",
       "   stays_in_weekend_nights  stays_in_week_nights  adults  ...  deposit_type  \\\n",
       "0                        0                     0       2  ...    No Deposit   \n",
       "1                        0                     0       2  ...    No Deposit   \n",
       "2                        0                     1       1  ...    No Deposit   \n",
       "3                        0                     1       1  ...    No Deposit   \n",
       "4                        0                     2       2  ...    No Deposit   \n",
       "\n",
       "   agent company days_in_waiting_list customer_type   adr  \\\n",
       "0    NaN     NaN                    0     Transient   0.0   \n",
       "1    NaN     NaN                    0     Transient   0.0   \n",
       "2    NaN     NaN                    0     Transient  75.0   \n",
       "3  304.0     NaN                    0     Transient  75.0   \n",
       "4  240.0     NaN                    0     Transient  98.0   \n",
       "\n",
       "   required_car_parking_spaces  total_of_special_requests  reservation_status  \\\n",
       "0                            0                          0           Check-Out   \n",
       "1                            0                          0           Check-Out   \n",
       "2                            0                          0           Check-Out   \n",
       "3                            0                          0           Check-Out   \n",
       "4                            0                          1           Check-Out   \n",
       "\n",
       "  reservation_status_date  \n",
       "0              2015-07-01  \n",
       "1              2015-07-01  \n",
       "2              2015-07-02  \n",
       "3              2015-07-02  \n",
       "4              2015-07-03  \n",
       "\n",
       "[5 rows x 32 columns]"
      ]
     },
     "execution_count": 88,
     "metadata": {},
     "output_type": "execute_result"
    }
   ],
   "source": [
    "df.head()"
   ]
  },
  {
   "cell_type": "markdown",
   "metadata": {},
   "source": [
    "### Data description\n",
    "\n",
    "This data is a collection of hotel bookings The columns we are interested in are:\n",
    "- **is_canceled** - Value indicating if the booking was canceled (1) or not (0)\n",
    "- **lead_time** - How many days before the stay the booking was created (i.e. how early they booked their stay)\n",
    "- **arrival_date_year** - Year of arrival date\n",
    "- **arrival_date_month** - Month of arrival date\n",
    "- **arrival_date_week_number** Week number of year for arrival date\n",
    "- **arrival_date_day_of_month** - Day of arrival date\n",
    "- **stays_in_weekend_nights** - Number of weekend nights (Saturday or Sunday) the guest stayed or booked to stay at the hotel\n",
    "- **stays_in_week_nights** - Number of week nights (Monday to Friday) the guest stayed or booked to stay at the hotel\n",
    "- **adults** - Number of adults\n",
    "- **children** - Number of children\n",
    "- **babies** - Number of babies\n",
    "- **is_repeated_guest** - Value indicating if the booking name was from a repeated guest (1) or not (0)\n",
    "- **previous_cancellations** - Number of previous bookings that were cancelled by the customer prior to the current booking\n",
    "- **previous_bookings_not_canceled** - Number of previous bookings not cancelled by the customer prior to the current booking"
   ]
  },
  {
   "cell_type": "markdown",
   "metadata": {},
   "source": [
    "## Tasks"
   ]
  },
  {
   "cell_type": "markdown",
   "metadata": {},
   "source": [
    "### Data cleaning\n",
    "**DC1:** Drop all columns except those listed above. Save this back as the variable `df`."
   ]
  },
  {
   "cell_type": "code",
   "execution_count": 89,
   "metadata": {},
   "outputs": [],
   "source": [
    "df = df[['is_canceled', 'lead_time', 'arrival_date_year', 'arrival_date_month', 'arrival_date_week_number', 'arrival_date_day_of_month', 'stays_in_weekend_nights', \n",
    "         'stays_in_week_nights', 'adults', 'children', 'babies', 'is_repeated_guest', 'previous_cancellations', 'previous_bookings_not_canceled']]"
   ]
  },
  {
   "cell_type": "markdown",
   "metadata": {},
   "source": [
    "**DC2:** For each column, print how many `None` or `NaN` values are in the column, along with what percentage of the rows are missing. Round the percentage to two decimal places. Your output should look like:\n",
    "\n",
    "```\n",
    "col1_name: 20 (0.05%) missing values \n",
    "col2_name: 150 (1.56%) missing values \n",
    "```"
   ]
  },
  {
   "cell_type": "code",
   "execution_count": 90,
   "metadata": {},
   "outputs": [
    {
     "name": "stdout",
     "output_type": "stream",
     "text": [
      "is_canceled: 0 (0.00%) missing values\n",
      "lead_time: 0 (0.00%) missing values\n",
      "arrival_date_year: 0 (0.00%) missing values\n",
      "arrival_date_month: 0 (0.00%) missing values\n",
      "arrival_date_week_number: 0 (0.00%) missing values\n",
      "arrival_date_day_of_month: 0 (0.00%) missing values\n",
      "stays_in_weekend_nights: 0 (0.00%) missing values\n",
      "stays_in_week_nights: 0 (0.00%) missing values\n",
      "adults: 0 (0.00%) missing values\n",
      "children: 4 (0.00%) missing values\n",
      "babies: 0 (0.00%) missing values\n",
      "is_repeated_guest: 0 (0.00%) missing values\n",
      "previous_cancellations: 0 (0.00%) missing values\n",
      "previous_bookings_not_canceled: 0 (0.00%) missing values\n"
     ]
    }
   ],
   "source": [
    "for c in df.columns:\n",
    "    num_missing = df[c].isna().sum()\n",
    "    print(f'{c}: {num_missing} ({num_missing / df.shape[0]:.2f}%) missing values')"
   ]
  },
  {
   "cell_type": "markdown",
   "metadata": {},
   "source": [
    "**DC3:** Drop all rows with any missing values."
   ]
  },
  {
   "cell_type": "code",
   "execution_count": 91,
   "metadata": {},
   "outputs": [],
   "source": [
    "df = df.dropna(how='any')"
   ]
  },
  {
   "cell_type": "markdown",
   "metadata": {},
   "source": [
    "**DC4:** Make a new column `guests` which is the total number of people staying, so `adults + children + babies`."
   ]
  },
  {
   "cell_type": "code",
   "execution_count": 92,
   "metadata": {},
   "outputs": [],
   "source": [
    "df['guests'] = df['adults'] + df['children'] + df['babies']"
   ]
  },
  {
   "cell_type": "markdown",
   "metadata": {},
   "source": [
    "**DC5:** Make a new column `arival_date_month_number` which is the month but as a number. So January=1, February=2, etc."
   ]
  },
  {
   "cell_type": "code",
   "execution_count": 93,
   "metadata": {},
   "outputs": [],
   "source": [
    "month_dict = {'January': 1, 'February': 2, 'March': 3, 'April': 4, 'May': 5, 'June': 6, 'July': 7, 'August': 8,\n",
    "             'September': 9, 'October': 10, 'November': 11, 'December': 12}\n",
    "df['arrival_date_month_number'] = df['arrival_date_month'].map(month_dict)"
   ]
  },
  {
   "cell_type": "markdown",
   "metadata": {},
   "source": [
    "**DC6:** Make a new column `arrival_date` which is a Python date showing their arrival date. "
   ]
  },
  {
   "cell_type": "code",
   "execution_count": 94,
   "metadata": {},
   "outputs": [],
   "source": [
    "# Pandas to_datetime() function can do this directly, but it requires that the columns are named 'year', 'month' and 'day'. So rather\n",
    "# than renaming the columns in our DataFrame, we'll just create a new DataFrame with only those columns and rename them there.\n",
    "date_df = df[['arrival_date_year', 'arrival_date_month_number', 'arrival_date_day_of_month']]\n",
    "date_df.columns = ['year', 'month', 'day']\n",
    "\n",
    "df['arrival_date'] = pd.to_datetime(date_df)"
   ]
  },
  {
   "cell_type": "markdown",
   "metadata": {},
   "source": [
    "### Data exporation\n"
   ]
  },
  {
   "cell_type": "markdown",
   "metadata": {},
   "source": [
    "**DE1:** Compute the percentage of repeat guests (`is_repeated_guest==True`) that have cancelled (`is_canceled==1`) and have not cancelled (`is_canceled==0`). Do it again for non-repeat guests. Summarize what you see in a Markdown cell."
   ]
  },
  {
   "cell_type": "code",
   "execution_count": 59,
   "metadata": {},
   "outputs": [
    {
     "data": {
      "text/plain": [
       "is_canceled\n",
       "0    0.855118\n",
       "1    0.144882\n",
       "Name: arrival_date_year, dtype: float64"
      ]
     },
     "execution_count": 59,
     "metadata": {},
     "output_type": "execute_result"
    }
   ],
   "source": [
    "# Repeat guests\n",
    "repeat_guest_df = df[df['is_repeated_guest'] == True]\n",
    "repeat_guest_df.groupby('is_canceled')['arrival_date_year'].count() / repeat_guest_df.shape[0]"
   ]
  },
  {
   "cell_type": "code",
   "execution_count": 60,
   "metadata": {},
   "outputs": [
    {
     "data": {
      "text/plain": [
       "is_canceled\n",
       "0    0.622171\n",
       "1    0.377829\n",
       "Name: arrival_date_year, dtype: float64"
      ]
     },
     "execution_count": 60,
     "metadata": {},
     "output_type": "execute_result"
    }
   ],
   "source": [
    "# New guests\n",
    "new_guest_df = df[df['is_repeated_guest'] == False]\n",
    "new_guest_df.groupby('is_canceled')['arrival_date_year'].count() / new_guest_df.shape[0]"
   ]
  },
  {
   "cell_type": "markdown",
   "metadata": {},
   "source": [
    "We see that repeat guests cancel only about 14.5% of the time, while new guests cancel about 37.8% of the time."
   ]
  },
  {
   "cell_type": "markdown",
   "metadata": {},
   "source": [
    "**DE2:** Do families with children (so `children > 0` or `babies > 0`) tend to stay more on weekday nights or weekend nights? Also, divide the number of weekday nights by five to see the average number of nights per weekday. Divide the weekend nights by 2 to see the average number of stays per weekend night. Which is greater?"
   ]
  },
  {
   "cell_type": "code",
   "execution_count": 61,
   "metadata": {},
   "outputs": [
    {
     "name": "stdout",
     "output_type": "stream",
     "text": [
      "Weekday total: 26400\n",
      "Weekend total: 10324\n"
     ]
    }
   ],
   "source": [
    "children_df = df[(df['children'] > 0) | (df['babies'] > 0)]\n",
    "print(f\"Weekday total: {children_df['stays_in_week_nights'].sum()}\")\n",
    "print(f\"Weekend total: {children_df['stays_in_weekend_nights'].sum()}\")"
   ]
  },
  {
   "cell_type": "code",
   "execution_count": 62,
   "metadata": {},
   "outputs": [
    {
     "name": "stdout",
     "output_type": "stream",
     "text": [
      "Weekday per day: 5280.0\n",
      "Weekend per day: 5162.0\n"
     ]
    }
   ],
   "source": [
    "print(f\"Weekday per day: {children_df['stays_in_week_nights'].sum() / 5}\")\n",
    "print(f\"Weekend per day: {children_df['stays_in_weekend_nights'].sum() / 2}\")"
   ]
  },
  {
   "cell_type": "markdown",
   "metadata": {},
   "source": [
    "So either way, there are more stays during the week. However, once you look at the stays per-day, it is much closer between the two."
   ]
  },
  {
   "cell_type": "markdown",
   "metadata": {},
   "source": [
    "### Linear regression"
   ]
  },
  {
   "cell_type": "markdown",
   "metadata": {},
   "source": [
    "**LR1:** Create a linear regression model to predict the lead time, based on the week of the year (`arrival_date_week_number`) and the number of guests. Use 70% of the data as the training set, and train your model only on this training set. Print out the coefficients and y-intercept of the regression line."
   ]
  },
  {
   "cell_type": "code",
   "execution_count": 106,
   "metadata": {},
   "outputs": [
    {
     "name": "stdout",
     "output_type": "stream",
     "text": [
      "Coefficients: [ 0.98618076 10.12149732]\n",
      "Intercept: 57.21449937424346\n"
     ]
    }
   ],
   "source": [
    "train_df, test_df = train_test_split(df, test_size=0.3)\n",
    "\n",
    "X_train = train_df[['arrival_date_week_number', 'guests']]\n",
    "y_train = train_df['lead_time']\n",
    "\n",
    "lr = LinearRegression()\n",
    "lr.fit(X_train, y_train)\n",
    "\n",
    "print(f'Coefficients: {lr.coef_}')\n",
    "print(f'Intercept: {lr.intercept_}')"
   ]
  },
  {
   "cell_type": "markdown",
   "metadata": {},
   "source": [
    "**LR2:** Make a scatterplot comparing the actual and predicted lead times from your regression model. Use your test set to do this, not your training set. Also, show the $R^2$ value. Finally, label the x and y axes and give your graph a title."
   ]
  },
  {
   "cell_type": "code",
   "execution_count": 107,
   "metadata": {},
   "outputs": [
    {
     "data": {
      "image/png": "[encoded data removed]",
      "text/plain": [
       "<Figure size 864x576 with 1 Axes>"
      ]
     },
     "metadata": {
      "needs_background": "light"
     },
     "output_type": "display_data"
    }
   ],
   "source": [
    "X_test = test_df[['arrival_date_week_number', 'guests']]\n",
    "y_test = test_df['lead_time']\n",
    "\n",
    "y_pred = lr.predict(X_test)\n",
    "\n",
    "fig = plt.figure(figsize=(12, 8))\n",
    "plt.scatter(y_test, y_pred)\n",
    "plt.title(f'Actual vs predicted lead time: R^2={lr.score(X_test, y_test):.2f}')\n",
    "plt.xlabel('Actual lead time')\n",
    "plt.ylabel('Predicted lead time');"
   ]
  },
  {
   "cell_type": "markdown",
   "metadata": {},
   "source": [
    "**LR3:** Investigate the data and explain why this does such a terrible job of predicting the lead time. What features of the data make this happen?"
   ]
  },
  {
   "cell_type": "markdown",
   "metadata": {},
   "source": [
    "Linear regression should be used with continuous data. However, `guests` is not very continuous. We can see that there are only a few possible values:"
   ]
  },
  {
   "cell_type": "code",
   "execution_count": 79,
   "metadata": {},
   "outputs": [
    {
     "data": {
      "text/plain": [
       "2.0     82048\n",
       "1.0     22581\n",
       "3.0     10494\n",
       "4.0      3929\n",
       "0.0       180\n",
       "5.0       137\n",
       "26.0        5\n",
       "27.0        2\n",
       "12.0        2\n",
       "10.0        2\n",
       "20.0        2\n",
       "55.0        1\n",
       "6.0         1\n",
       "50.0        1\n",
       "40.0        1\n",
       "Name: guests, dtype: int64"
      ]
     },
     "execution_count": 79,
     "metadata": {},
     "output_type": "execute_result"
    }
   ],
   "source": [
    "df['guests'].value_counts()"
   ]
  },
  {
   "cell_type": "markdown",
   "metadata": {},
   "source": [
    "With the exception of a few large parties, almost all bookings involve 0, 1, 2, 3, or 4 guests. In addition, `arrival_week_number` only takes values between 1 and 52, which again is not especially continuous."
   ]
  },
  {
   "cell_type": "markdown",
   "metadata": {},
   "source": [
    "**LR4:** Create a new column `previous_bookings` which is `previous_bookings_not_canceled` + `previous_cancellations`. Use this new column to predict the `lead_time`. Again, use 30% of the data as the test set, and make a scatterplot showing your results. Write up a paragraph or so describing what you see."
   ]
  },
  {
   "cell_type": "code",
   "execution_count": 104,
   "metadata": {},
   "outputs": [
    {
     "data": {
      "image/png": "[encoded data removed]",
      "text/plain": [
       "<Figure size 864x576 with 1 Axes>"
      ]
     },
     "metadata": {
      "needs_background": "light"
     },
     "output_type": "display_data"
    }
   ],
   "source": [
    "df['previous_bookings'] = df['previous_bookings_not_canceled'] + df['previous_cancellations']\n",
    "\n",
    "train_df, test_df = train_test_split(df[['previous_bookings', 'lead_time']], test_size=0.3)\n",
    "\n",
    "X_train = train_df[['previous_bookings']]\n",
    "y_train = train_df['lead_time']\n",
    "\n",
    "X_test = test_df[['previous_bookings']]\n",
    "y_test = test_df['lead_time']\n",
    "\n",
    "lr = LinearRegression()\n",
    "\n",
    "lr.fit(X_train, y_train)\n",
    "\n",
    "y_pred = lr.predict(X_test)\n",
    "\n",
    "fig = plt.figure(figsize=(12, 8))\n",
    "plt.scatter(y_test, y_pred)\n",
    "plt.title(f'Actual vs predicted lead time: R^2={lr.score(X_test, y_test):.2f}')\n",
    "plt.xlabel('Actual lead time')\n",
    "plt.ylabel('Predicted lead time');"
   ]
  },
  {
   "cell_type": "markdown",
   "metadata": {},
   "source": [
    "We see that lead time is not easily predicted, as almost all predictions involve very high lead times. We can look at the original data to see why:"
   ]
  },
  {
   "cell_type": "code",
   "execution_count": 111,
   "metadata": {},
   "outputs": [
    {
     "data": {
      "image/png": "[encoded data removed]",
      "text/plain": [
       "<Figure size 864x576 with 1 Axes>"
      ]
     },
     "metadata": {
      "needs_background": "light"
     },
     "output_type": "display_data"
    }
   ],
   "source": [
    "fig = plt.figure(figsize=(12, 8))\n",
    "plt.scatter(train_df['previous_bookings'], train_df['lead_time'])\n",
    "plt.title('Previous bookings vs lead time')\n",
    "plt.xlabel('Previous bookings')\n",
    "plt.ylabel('Lead time');"
   ]
  },
  {
   "cell_type": "markdown",
   "metadata": {},
   "source": [
    "We see that there are two distinct cases. One is people who are new or nearly new (very low previous bookings), and their lead time is all over the place. The other is people with many previous bookings, all of whom seem to book at the last minute (very low lead time). When these two things are put together, the result is not at all linear. Perhaps linear regression *could* be used to model lead time for people with many previous bookings, as their pattern does seem more linear. Here is a quick analysis:"
   ]
  },
  {
   "cell_type": "code",
   "execution_count": 121,
   "metadata": {},
   "outputs": [
    {
     "name": "stdout",
     "output_type": "stream",
     "text": [
      "R^2 = 0.19\n"
     ]
    },
    {
     "data": {
      "image/png": "[encoded data removed]",
      "text/plain": [
       "<Figure size 864x576 with 1 Axes>"
      ]
     },
     "metadata": {
      "needs_background": "light"
     },
     "output_type": "display_data"
    }
   ],
   "source": [
    "regular_customers_df = df[df['previous_bookings'] > 5]\n",
    "\n",
    "fig = plt.figure(figsize=(12, 8))\n",
    "plt.scatter(regular_customers_df['previous_bookings'], regular_customers_df['lead_time'])\n",
    "plt.title('Previous bookings vs lead time for people with > 5 bookings')\n",
    "plt.xlabel('Previous bookings')\n",
    "plt.ylabel('Lead time')\n",
    "\n",
    "print(f\"R^2 = {np.corrcoef(regular_customers_df['previous_bookings'], regular_customers_df['lead_time'])[0, 1]:.2f}\");"
   ]
  }
 ],
 "metadata": {
  "kernelspec": {
   "display_name": "Python 3",
   "language": "python",
   "name": "python3"
  },
  "language_info": {
   "codemirror_mode": {
    "name": "ipython",
    "version": 3
   },
   "file_extension": ".py",
   "mimetype": "text/x-python",
   "name": "python",
   "nbconvert_exporter": "python",
   "pygments_lexer": "ipython3",
   "version": "3.8.2"
  }
 },
 "nbformat": 4,
 "nbformat_minor": 4
}
