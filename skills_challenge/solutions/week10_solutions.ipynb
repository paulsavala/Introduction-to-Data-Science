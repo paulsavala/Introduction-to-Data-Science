{
 "cells": [
  {
   "cell_type": "markdown",
   "metadata": {},
   "source": [
    "# Skills challenge \\#10\n",
    "Below are a series of questions. Use the loaded data to answer the questions. You will almost certainly need to import more packages (`pandas`, `numpy`, etc.) to complete these. You are welcome to use any source except for your classmates. So Google away!\n",
    "\n",
    "You will be graded on both the **correctness** and **cleanliness** of your work. So don't submit poorly written code or your grade will reflect that. Use Markdown describing what you have done. If you get stuck, move on to another part. Most questions don't rely on the answer to earlier questions."
   ]
  },
  {
   "cell_type": "markdown",
   "metadata": {},
   "source": [
    "### Imports"
   ]
  },
  {
   "cell_type": "code",
   "execution_count": 116,
   "metadata": {},
   "outputs": [],
   "source": [
    "import pandas as pd\n",
    "\n",
    "import numpy as np\n",
    "from matplotlib import pyplot as plt\n",
    "\n",
    "from sklearn.preprocessing import LabelEncoder\n",
    "from sklearn.model_selection import train_test_split, GridSearchCV\n",
    "from sklearn.metrics import plot_confusion_matrix\n",
    "from sklearn.tree import DecisionTreeClassifier\n",
    "from sklearn.ensemble import RandomForestClassifier\n",
    "from xgboost import XGBClassifier"
   ]
  },
  {
   "cell_type": "markdown",
   "metadata": {},
   "source": [
    "### Data loading"
   ]
  },
  {
   "cell_type": "code",
   "execution_count": 117,
   "metadata": {},
   "outputs": [],
   "source": [
    "df = pd.read_csv('../../data/free_throws.csv')"
   ]
  },
  {
   "cell_type": "code",
   "execution_count": 118,
   "metadata": {},
   "outputs": [
    {
     "data": {
      "text/html": [
       "<div>\n",
       "<style scoped>\n",
       "    .dataframe tbody tr th:only-of-type {\n",
       "        vertical-align: middle;\n",
       "    }\n",
       "\n",
       "    .dataframe tbody tr th {\n",
       "        vertical-align: top;\n",
       "    }\n",
       "\n",
       "    .dataframe thead th {\n",
       "        text-align: right;\n",
       "    }\n",
       "</style>\n",
       "<table border=\"1\" class=\"dataframe\">\n",
       "  <thead>\n",
       "    <tr style=\"text-align: right;\">\n",
       "      <th></th>\n",
       "      <th>period</th>\n",
       "      <th>player</th>\n",
       "      <th>playoffs</th>\n",
       "      <th>shot_made</th>\n",
       "      <th>home_team</th>\n",
       "      <th>visit_team</th>\n",
       "      <th>home_score</th>\n",
       "      <th>visit_score</th>\n",
       "      <th>home_final_score</th>\n",
       "      <th>visit_final_score</th>\n",
       "      <th>minutes</th>\n",
       "      <th>season_start</th>\n",
       "      <th>shot_count</th>\n",
       "    </tr>\n",
       "  </thead>\n",
       "  <tbody>\n",
       "    <tr>\n",
       "      <th>0</th>\n",
       "      <td>1</td>\n",
       "      <td>Andrew Bynum</td>\n",
       "      <td>0</td>\n",
       "      <td>1</td>\n",
       "      <td>LAL</td>\n",
       "      <td>PHX</td>\n",
       "      <td>1</td>\n",
       "      <td>0</td>\n",
       "      <td>114</td>\n",
       "      <td>106</td>\n",
       "      <td>47.000000</td>\n",
       "      <td>2006</td>\n",
       "      <td>1</td>\n",
       "    </tr>\n",
       "    <tr>\n",
       "      <th>1</th>\n",
       "      <td>1</td>\n",
       "      <td>Andrew Bynum</td>\n",
       "      <td>0</td>\n",
       "      <td>1</td>\n",
       "      <td>LAL</td>\n",
       "      <td>PHX</td>\n",
       "      <td>2</td>\n",
       "      <td>0</td>\n",
       "      <td>114</td>\n",
       "      <td>106</td>\n",
       "      <td>47.000000</td>\n",
       "      <td>2006</td>\n",
       "      <td>2</td>\n",
       "    </tr>\n",
       "    <tr>\n",
       "      <th>2</th>\n",
       "      <td>1</td>\n",
       "      <td>Andrew Bynum</td>\n",
       "      <td>0</td>\n",
       "      <td>1</td>\n",
       "      <td>LAL</td>\n",
       "      <td>PHX</td>\n",
       "      <td>12</td>\n",
       "      <td>18</td>\n",
       "      <td>114</td>\n",
       "      <td>106</td>\n",
       "      <td>29.733333</td>\n",
       "      <td>2006</td>\n",
       "      <td>1</td>\n",
       "    </tr>\n",
       "    <tr>\n",
       "      <th>3</th>\n",
       "      <td>1</td>\n",
       "      <td>Andrew Bynum</td>\n",
       "      <td>0</td>\n",
       "      <td>0</td>\n",
       "      <td>LAL</td>\n",
       "      <td>PHX</td>\n",
       "      <td>12</td>\n",
       "      <td>18</td>\n",
       "      <td>114</td>\n",
       "      <td>106</td>\n",
       "      <td>29.733333</td>\n",
       "      <td>2006</td>\n",
       "      <td>2</td>\n",
       "    </tr>\n",
       "    <tr>\n",
       "      <th>4</th>\n",
       "      <td>1</td>\n",
       "      <td>Shawn Marion</td>\n",
       "      <td>0</td>\n",
       "      <td>1</td>\n",
       "      <td>LAL</td>\n",
       "      <td>PHX</td>\n",
       "      <td>12</td>\n",
       "      <td>21</td>\n",
       "      <td>114</td>\n",
       "      <td>106</td>\n",
       "      <td>29.200000</td>\n",
       "      <td>2006</td>\n",
       "      <td>1</td>\n",
       "    </tr>\n",
       "  </tbody>\n",
       "</table>\n",
       "</div>"
      ],
      "text/plain": [
       "   period        player  playoffs  shot_made home_team visit_team  home_score  \\\n",
       "0       1  Andrew Bynum         0          1       LAL        PHX           1   \n",
       "1       1  Andrew Bynum         0          1       LAL        PHX           2   \n",
       "2       1  Andrew Bynum         0          1       LAL        PHX          12   \n",
       "3       1  Andrew Bynum         0          0       LAL        PHX          12   \n",
       "4       1  Shawn Marion         0          1       LAL        PHX          12   \n",
       "\n",
       "   visit_score  home_final_score  visit_final_score    minutes  season_start  \\\n",
       "0            0               114                106  47.000000          2006   \n",
       "1            0               114                106  47.000000          2006   \n",
       "2           18               114                106  29.733333          2006   \n",
       "3           18               114                106  29.733333          2006   \n",
       "4           21               114                106  29.200000          2006   \n",
       "\n",
       "   shot_count  \n",
       "0           1  \n",
       "1           2  \n",
       "2           1  \n",
       "3           2  \n",
       "4           1  "
      ]
     },
     "execution_count": 118,
     "metadata": {},
     "output_type": "execute_result"
    }
   ],
   "source": [
    "df.head()"
   ]
  },
  {
   "cell_type": "markdown",
   "metadata": {},
   "source": [
    "### Data description\n",
    "\n",
    "This data is all the free throws taken in the NBA between 2006 and 2016. The columns that we are interested are:\n",
    "- **game_id**: The unique ID for each game. The number itself doesn't mean anything, but if two rows have the same game_id, then that means they occurred in the same game.\n",
    "- **period**: Which period the free throw occurred in (there are four periods in basketball).\n",
    "- **player**: The player's name\n",
    "- **playoffs**: 0 = not in playoffs, 1 = in playoffs\n",
    "- **shot_made**: 0 = shot not made, 1 = shot made\n",
    "- **home_team**: Abbreviated name of the home team (the team whose city the game was played in)\n",
    "- **visit_team**: Abbreviated name of the visiting team\n",
    "- **home_score**: The home team's score in the game when the free throw was taken\n",
    "- **visit_score**: The visiting team's score in the game when the free throw was taken\n",
    "- **final_score**: The final score in the game\n",
    "- **minutes**: How many minutes into the game when the free throw was taken. An NBA game is 48 minutes long (not counting a potential overtime).\n",
    "- **season_start**: What year the season started in (seasons start in one year and finish the following year)\n",
    "- **shot_count**: Some times a player is awarded more than one free throw. A 1 indicates this is their first shot, a 2 indicates this is their second. They can get a maximum of 3 shots."
   ]
  },
  {
   "cell_type": "markdown",
   "metadata": {},
   "source": [
    "## Tasks"
   ]
  },
  {
   "cell_type": "markdown",
   "metadata": {},
   "source": [
    "### Data cleaning\n",
    "**DC1:** Drop any rows with any missing values. Save the result back to `df`."
   ]
  },
  {
   "cell_type": "code",
   "execution_count": 119,
   "metadata": {},
   "outputs": [],
   "source": [
    "df = df.dropna(how='any')"
   ]
  },
  {
   "cell_type": "markdown",
   "metadata": {},
   "source": [
    "**DC2:** Label encode any text columns. Save the encoded values back to that same column (don't create a new one)."
   ]
  },
  {
   "cell_type": "code",
   "execution_count": 120,
   "metadata": {},
   "outputs": [
    {
     "data": {
      "text/plain": [
       "period                 int64\n",
       "player                object\n",
       "playoffs               int64\n",
       "shot_made              int64\n",
       "home_team             object\n",
       "visit_team            object\n",
       "home_score             int64\n",
       "visit_score            int64\n",
       "home_final_score       int64\n",
       "visit_final_score      int64\n",
       "minutes              float64\n",
       "season_start           int64\n",
       "shot_count             int64\n",
       "dtype: object"
      ]
     },
     "execution_count": 120,
     "metadata": {},
     "output_type": "execute_result"
    }
   ],
   "source": [
    "df.dtypes"
   ]
  },
  {
   "cell_type": "code",
   "execution_count": 121,
   "metadata": {},
   "outputs": [],
   "source": [
    "str_cols = ['player', 'home_team', 'visit_team']\n",
    "label_encoders = {}\n",
    "\n",
    "for col in str_cols:\n",
    "    le = LabelEncoder()\n",
    "    df[col] = le.fit_transform(df[col])\n",
    "    label_encoders[col] = le"
   ]
  },
  {
   "cell_type": "markdown",
   "metadata": {},
   "source": [
    "**DC3:** Split the data into training and testing sets, with the test set having 30% of the data. Create `X_train`, `X_test`, `y_train` and `y_test`. The value column you will be predicting is `shot_made`, so make that be the y. Stratify the data according to `shot_made` using the `stratify` argument of `train_test_split`."
   ]
  },
  {
   "cell_type": "code",
   "execution_count": 122,
   "metadata": {},
   "outputs": [],
   "source": [
    "train_df, test_df = train_test_split(df, test_size=0.3, stratify=df['shot_made'])\n",
    "\n",
    "y_col = 'shot_made'\n",
    "cols = list(df.columns)\n",
    "cols.remove('shot_made')\n",
    "X_cols = cols\n",
    "\n",
    "X_train = train_df[X_cols]\n",
    "y_train = train_df[y_col]\n",
    "\n",
    "X_test = test_df[X_cols]\n",
    "y_test = test_df[y_col]"
   ]
  },
  {
   "cell_type": "markdown",
   "metadata": {},
   "source": [
    "### Model building"
   ]
  },
  {
   "cell_type": "markdown",
   "metadata": {},
   "source": [
    "**MB1:** Build a random forest model to classify whether or not the shot is made (`shot_made` column). Pick some hyperparameters and use those. Plot a confusion matrix showing the results. Creating a Markdown cell with brief comments (1 or 2 sentences) on the results."
   ]
  },
  {
   "cell_type": "code",
   "execution_count": 44,
   "metadata": {},
   "outputs": [
    {
     "data": {
      "text/plain": [
       "<sklearn.metrics._plot.confusion_matrix.ConfusionMatrixDisplay at 0x129fd35b0>"
      ]
     },
     "execution_count": 44,
     "metadata": {},
     "output_type": "execute_result"
    },
    {
     "data": {
      "image/png": "[encoded data removed]",
      "text/plain": [
       "<Figure size 432x288 with 2 Axes>"
      ]
     },
     "metadata": {
      "needs_background": "light"
     },
     "output_type": "display_data"
    }
   ],
   "source": [
    "rf_clf = RandomForestClassifier(max_depth=100, n_estimators=100, min_samples_split=50, min_samples_leaf=25)\n",
    "\n",
    "rf_clf.fit(X_train, y_train)\n",
    "\n",
    "plot_confusion_matrix(rf_clf, X_test, y_test, normalize='true')"
   ]
  },
  {
   "cell_type": "markdown",
   "metadata": {},
   "source": [
    "This model does a very poor job of predicting misses correctly, and predicts almost everything as a \"make\" (`shot_made=1`)."
   ]
  },
  {
   "cell_type": "markdown",
   "metadata": {},
   "source": [
    "**MB2:** Run a cross validation grid search to search values for `max_depth`, `min_samples_split` and `min_samples_leaf` for a *decision tree model* (plain decision tree, not a random forest). Use three values for each hyperparameter. Plot a confusion matrix showing the results of the best model, along with the hyperparameters it chose. Creating a Markdown cell with brief comments (1 or 2 sentences) on the results."
   ]
  },
  {
   "cell_type": "code",
   "execution_count": 49,
   "metadata": {},
   "outputs": [
    {
     "name": "stdout",
     "output_type": "stream",
     "text": [
      "{'max_depth': 150, 'min_samples_leaf': 100, 'min_samples_split': 25}\n"
     ]
    },
    {
     "data": {
      "text/plain": [
       "<sklearn.metrics._plot.confusion_matrix.ConfusionMatrixDisplay at 0x127921c10>"
      ]
     },
     "execution_count": 49,
     "metadata": {},
     "output_type": "execute_result"
    },
    {
     "data": {
      "image/png": "[encoded data removed]",
      "text/plain": [
       "<Figure size 432x288 with 2 Axes>"
      ]
     },
     "metadata": {
      "needs_background": "light"
     },
     "output_type": "display_data"
    }
   ],
   "source": [
    "dt_clf = DecisionTreeClassifier()\n",
    "\n",
    "hyperparams = {'max_depth': [50, 100, 150],\n",
    "              'min_samples_split': [25, 50, 75],\n",
    "              'min_samples_leaf': [50, 75, 100]}\n",
    "\n",
    "grid_search_dt = GridSearchCV(dt_clf, param_grid=hyperparams, n_jobs=-1)\n",
    "grid_search_dt.fit(X_train, y_train)\n",
    "\n",
    "print(grid_search_dt.best_params_)\n",
    "\n",
    "plot_confusion_matrix(grid_search_dt, X_test, y_test, normalize='true')"
   ]
  },
  {
   "cell_type": "markdown",
   "metadata": {},
   "source": [
    "Again, the models drastically over-predict shot makes."
   ]
  },
  {
   "cell_type": "markdown",
   "metadata": {},
   "source": [
    "**MB3:** Build an XGBoost model. Pick some hyperparameters and use those. Plot a confusion matrix showing the results. Creating a Markdown cell with brief comments (1 or 2 sentences) on the results."
   ]
  },
  {
   "cell_type": "code",
   "execution_count": 57,
   "metadata": {},
   "outputs": [
    {
     "data": {
      "text/plain": [
       "<sklearn.metrics._plot.confusion_matrix.ConfusionMatrixDisplay at 0x12a03b910>"
      ]
     },
     "execution_count": 57,
     "metadata": {},
     "output_type": "execute_result"
    },
    {
     "data": {
      "image/png": "[encoded data removed]",
      "text/plain": [
       "<Figure size 432x288 with 2 Axes>"
      ]
     },
     "metadata": {
      "needs_background": "light"
     },
     "output_type": "display_data"
    }
   ],
   "source": [
    "xgb_clf = XGBClassifier(n_estimators=100, max_depth=100, learning_rate=1e-3)\n",
    "\n",
    "xgb_clf.fit(X_train, y_train)\n",
    "\n",
    "plot_confusion_matrix(xgb_clf, X_test, y_test, normalize='true')"
   ]
  },
  {
   "cell_type": "markdown",
   "metadata": {},
   "source": [
    "This XGBoost model does a better job at predicting misses, but it still does poorly."
   ]
  },
  {
   "cell_type": "markdown",
   "metadata": {},
   "source": [
    "### Feature engineering"
   ]
  },
  {
   "cell_type": "markdown",
   "metadata": {},
   "source": [
    "**FE1:** Basketball games have four \"quarters\", each lasting twelve minutes. Use this to create a new column `quarter` which has values 1, 2, 3 or 4. It should have a value of 1 if the `minutes` is less than or equal to 12, 2 if it is in (12, 24], and so forth."
   ]
  },
  {
   "cell_type": "code",
   "execution_count": 55,
   "metadata": {},
   "outputs": [
    {
     "name": "stderr",
     "output_type": "stream",
     "text": [
      "<ipython-input-55-f129ef29a103>:4: SettingWithCopyWarning: \n",
      "A value is trying to be set on a copy of a slice from a DataFrame.\n",
      "Try using .loc[row_indexer,col_indexer] = value instead\n",
      "\n",
      "See the caveats in the documentation: https://pandas.pydata.org/pandas-docs/stable/user_guide/indexing.html#returning-a-view-versus-a-copy\n",
      "  train_df['quarter'] = train_df['minutes'].apply(minutes_to_quarter)\n",
      "<ipython-input-55-f129ef29a103>:5: SettingWithCopyWarning: \n",
      "A value is trying to be set on a copy of a slice from a DataFrame.\n",
      "Try using .loc[row_indexer,col_indexer] = value instead\n",
      "\n",
      "See the caveats in the documentation: https://pandas.pydata.org/pandas-docs/stable/user_guide/indexing.html#returning-a-view-versus-a-copy\n",
      "  test_df['quarter'] = test_df['minutes'].apply(minutes_to_quarter)\n"
     ]
    }
   ],
   "source": [
    "def minutes_to_quarter(minutes):\n",
    "    return int(np.ceil(minutes / 12))\n",
    "\n",
    "train_df['quarter'] = train_df['minutes'].apply(minutes_to_quarter)\n",
    "test_df['quarter'] = test_df['minutes'].apply(minutes_to_quarter)"
   ]
  },
  {
   "cell_type": "markdown",
   "metadata": {},
   "source": [
    "**FE2:** Retrain your XGBoost model using the same hyperparameters as above, but now include this new column. Plot a confusion matrix showing the results. Plot a bar chart showing the feature importance for each column. Creating a Markdown cell with brief comments (1 or 2 sentences) on the results."
   ]
  },
  {
   "cell_type": "code",
   "execution_count": 58,
   "metadata": {},
   "outputs": [
    {
     "data": {
      "text/plain": [
       "<sklearn.metrics._plot.confusion_matrix.ConfusionMatrixDisplay at 0x127184370>"
      ]
     },
     "execution_count": 58,
     "metadata": {},
     "output_type": "execute_result"
    },
    {
     "data": {
      "image/png": "[encoded data removed]",
      "text/plain": [
       "<Figure size 432x288 with 2 Axes>"
      ]
     },
     "metadata": {
      "needs_background": "light"
     },
     "output_type": "display_data"
    }
   ],
   "source": [
    "xgb_clf_quarters = XGBClassifier(n_estimators=100, max_depth=100, learning_rate=1e-3)\n",
    "\n",
    "X_train_quarter = train_df[X_cols + ['quarter']]\n",
    "X_test_quarter = test_df[X_cols + ['quarter']]\n",
    "\n",
    "xgb_clf_quarters.fit(X_train_quarter, y_train)\n",
    "\n",
    "plot_confusion_matrix(xgb_clf_quarters, X_test_quarter, y_test, normalize='true')"
   ]
  },
  {
   "cell_type": "code",
   "execution_count": 62,
   "metadata": {},
   "outputs": [
    {
     "data": {
      "image/png": "[encoded data removed]",
      "text/plain": [
       "<Figure size 864x576 with 1 Axes>"
      ]
     },
     "metadata": {
      "needs_background": "light"
     },
     "output_type": "display_data"
    }
   ],
   "source": [
    "plt.figure(figsize=(12, 8))\n",
    "plt.bar(X_train_quarter.columns, xgb_clf_quarters.feature_importances_)\n",
    "plt.xticks(rotation=270)\n",
    "plt.title('Feature importance');"
   ]
  },
  {
   "cell_type": "markdown",
   "metadata": {},
   "source": [
    "Apparently, this new `quarter` column is not at all useful."
   ]
  },
  {
   "cell_type": "markdown",
   "metadata": {},
   "source": [
    "### Bonus"
   ]
  },
  {
   "cell_type": "markdown",
   "metadata": {},
   "source": [
    "**B1:** Create a new column `pct_made` which, for each player, shows what percentage of their free throws they made *in all previous seasons*. So for instance, if the row you are looking at is a game in 2009, then you want to calculate (for that player) what percentage of their free throws they made in 2006 through 2008. Fill any missing values with the median of `pct_made`. Once you've done this, again retrain your XGBoost model by including this new column. Again, plot a confusion matrix and a bar chart showing feature importances. Creating a Markdown cell with brief comments (1 or 2 sentences) on the results."
   ]
  },
  {
   "cell_type": "code",
   "execution_count": 165,
   "metadata": {},
   "outputs": [],
   "source": [
    "def pct_made(df):\n",
    "    rows = []\n",
    "\n",
    "    for player in df['player'].unique():\n",
    "        for season in df['season_start'].unique() + 1:\n",
    "            player_df = df[df['player'] == player]\n",
    "            prev_seasons_df = player_df[player_df['season_start'] < season]\n",
    "            pct_made = prev_seasons_df['shot_made'].sum() / prev_seasons_df.shape[0]\n",
    "            rows.append({'player': player, 'season_start': season, 'pct_made': pct_made})\n",
    "    return pd.DataFrame(rows)"
   ]
  },
  {
   "cell_type": "code",
   "execution_count": 166,
   "metadata": {},
   "outputs": [
    {
     "name": "stderr",
     "output_type": "stream",
     "text": [
      "<ipython-input-165-11b6e9efffea>:8: RuntimeWarning: invalid value encountered in long_scalars\n",
      "  pct_made = prev_seasons_df['shot_made'].sum() / prev_seasons_df.shape[0]\n"
     ]
    }
   ],
   "source": [
    "train_pct_made = pct_made(train_df)\n",
    "test_pct_made = pct_made(test_df)\n",
    "\n",
    "train_pct_made = train_df.merge(train_pct_made, how='left', on=['player', 'season_start'])\n",
    "train_pct_made['pct_made'] = train_pct_made['pct_made'].fillna(train_pct_made['pct_made'].median())\n",
    "\n",
    "test_pct_made = test_df.merge(test_pct_made, how='left', on=['player', 'season_start'])\n",
    "test_pct_made['pct_made'] = test_pct_made['pct_made'].fillna(test_pct_made['pct_made'].median())"
   ]
  },
  {
   "cell_type": "code",
   "execution_count": 167,
   "metadata": {},
   "outputs": [
    {
     "data": {
      "text/html": [
       "<div>\n",
       "<style scoped>\n",
       "    .dataframe tbody tr th:only-of-type {\n",
       "        vertical-align: middle;\n",
       "    }\n",
       "\n",
       "    .dataframe tbody tr th {\n",
       "        vertical-align: top;\n",
       "    }\n",
       "\n",
       "    .dataframe thead th {\n",
       "        text-align: right;\n",
       "    }\n",
       "</style>\n",
       "<table border=\"1\" class=\"dataframe\">\n",
       "  <thead>\n",
       "    <tr style=\"text-align: right;\">\n",
       "      <th></th>\n",
       "      <th>period</th>\n",
       "      <th>player</th>\n",
       "      <th>playoffs</th>\n",
       "      <th>shot_made</th>\n",
       "      <th>home_team</th>\n",
       "      <th>visit_team</th>\n",
       "      <th>home_score</th>\n",
       "      <th>visit_score</th>\n",
       "      <th>home_final_score</th>\n",
       "      <th>visit_final_score</th>\n",
       "      <th>minutes</th>\n",
       "      <th>season_start</th>\n",
       "      <th>shot_count</th>\n",
       "      <th>pct_made</th>\n",
       "    </tr>\n",
       "  </thead>\n",
       "  <tbody>\n",
       "    <tr>\n",
       "      <th>0</th>\n",
       "      <td>6</td>\n",
       "      <td>342</td>\n",
       "      <td>0</td>\n",
       "      <td>1</td>\n",
       "      <td>33</td>\n",
       "      <td>1</td>\n",
       "      <td>107</td>\n",
       "      <td>111</td>\n",
       "      <td>113</td>\n",
       "      <td>115</td>\n",
       "      <td>12.533333</td>\n",
       "      <td>2012</td>\n",
       "      <td>1</td>\n",
       "      <td>0.574913</td>\n",
       "    </tr>\n",
       "    <tr>\n",
       "      <th>1</th>\n",
       "      <td>4</td>\n",
       "      <td>908</td>\n",
       "      <td>0</td>\n",
       "      <td>0</td>\n",
       "      <td>15</td>\n",
       "      <td>5</td>\n",
       "      <td>91</td>\n",
       "      <td>84</td>\n",
       "      <td>112</td>\n",
       "      <td>105</td>\n",
       "      <td>37.666667</td>\n",
       "      <td>2010</td>\n",
       "      <td>1</td>\n",
       "      <td>0.779700</td>\n",
       "    </tr>\n",
       "    <tr>\n",
       "      <th>2</th>\n",
       "      <td>1</td>\n",
       "      <td>251</td>\n",
       "      <td>0</td>\n",
       "      <td>1</td>\n",
       "      <td>13</td>\n",
       "      <td>28</td>\n",
       "      <td>28</td>\n",
       "      <td>27</td>\n",
       "      <td>103</td>\n",
       "      <td>110</td>\n",
       "      <td>4.800000</td>\n",
       "      <td>2015</td>\n",
       "      <td>1</td>\n",
       "      <td>0.837433</td>\n",
       "    </tr>\n",
       "    <tr>\n",
       "      <th>3</th>\n",
       "      <td>4</td>\n",
       "      <td>817</td>\n",
       "      <td>0</td>\n",
       "      <td>1</td>\n",
       "      <td>3</td>\n",
       "      <td>17</td>\n",
       "      <td>81</td>\n",
       "      <td>90</td>\n",
       "      <td>92</td>\n",
       "      <td>105</td>\n",
       "      <td>31.600000</td>\n",
       "      <td>2015</td>\n",
       "      <td>1</td>\n",
       "      <td>0.880000</td>\n",
       "    </tr>\n",
       "    <tr>\n",
       "      <th>4</th>\n",
       "      <td>3</td>\n",
       "      <td>835</td>\n",
       "      <td>0</td>\n",
       "      <td>1</td>\n",
       "      <td>12</td>\n",
       "      <td>2</td>\n",
       "      <td>56</td>\n",
       "      <td>72</td>\n",
       "      <td>86</td>\n",
       "      <td>101</td>\n",
       "      <td>13.733333</td>\n",
       "      <td>2007</td>\n",
       "      <td>1</td>\n",
       "      <td>0.802120</td>\n",
       "    </tr>\n",
       "  </tbody>\n",
       "</table>\n",
       "</div>"
      ],
      "text/plain": [
       "   period  player  playoffs  shot_made  home_team  visit_team  home_score  \\\n",
       "0       6     342         0          1         33           1         107   \n",
       "1       4     908         0          0         15           5          91   \n",
       "2       1     251         0          1         13          28          28   \n",
       "3       4     817         0          1          3          17          81   \n",
       "4       3     835         0          1         12           2          56   \n",
       "\n",
       "   visit_score  home_final_score  visit_final_score    minutes  season_start  \\\n",
       "0          111               113                115  12.533333          2012   \n",
       "1           84               112                105  37.666667          2010   \n",
       "2           27               103                110   4.800000          2015   \n",
       "3           90                92                105  31.600000          2015   \n",
       "4           72                86                101  13.733333          2007   \n",
       "\n",
       "   shot_count  pct_made  \n",
       "0           1  0.574913  \n",
       "1           1  0.779700  \n",
       "2           1  0.837433  \n",
       "3           1  0.880000  \n",
       "4           1  0.802120  "
      ]
     },
     "execution_count": 167,
     "metadata": {},
     "output_type": "execute_result"
    }
   ],
   "source": [
    "train_pct_made.head()"
   ]
  },
  {
   "cell_type": "code",
   "execution_count": 168,
   "metadata": {},
   "outputs": [
    {
     "data": {
      "text/plain": [
       "<sklearn.metrics._plot.confusion_matrix.ConfusionMatrixDisplay at 0x1588a6fd0>"
      ]
     },
     "execution_count": 168,
     "metadata": {},
     "output_type": "execute_result"
    },
    {
     "data": {
      "image/png": "[encoded data removed]",
      "text/plain": [
       "<Figure size 432x288 with 2 Axes>"
      ]
     },
     "metadata": {
      "needs_background": "light"
     },
     "output_type": "display_data"
    }
   ],
   "source": [
    "xgb_clf_pct_made = XGBClassifier(n_estimators=100, max_depth=100, learning_rate=1e-3)\n",
    "\n",
    "X_train_pct_made = train_pct_made[X_cols + ['pct_made']]\n",
    "X_test_pct_made = test_pct_made[X_cols + ['pct_made']]\n",
    "\n",
    "xgb_clf_pct_made.fit(X_train_pct_made, y_train)\n",
    "\n",
    "plot_confusion_matrix(xgb_clf_pct_made, X_test_pct_made, y_test, normalize='true')"
   ]
  },
  {
   "cell_type": "code",
   "execution_count": 169,
   "metadata": {},
   "outputs": [
    {
     "data": {
      "image/png": "[encoded data removed]",
      "text/plain": [
       "<Figure size 864x576 with 1 Axes>"
      ]
     },
     "metadata": {
      "needs_background": "light"
     },
     "output_type": "display_data"
    }
   ],
   "source": [
    "plt.figure(figsize=(12, 8))\n",
    "plt.bar(X_train_pct_made.columns, xgb_clf_pct_made.feature_importances_)\n",
    "plt.xticks(rotation=270)\n",
    "plt.title('Feature importance');"
   ]
  },
  {
   "cell_type": "markdown",
   "metadata": {},
   "source": [
    "`pct_made` is highly important, yet it still does not help much with the model performance. "
   ]
  },
  {
   "cell_type": "code",
   "execution_count": null,
   "metadata": {},
   "outputs": [],
   "source": []
  }
 ],
 "metadata": {
  "kernelspec": {
   "display_name": "Python 3",
   "language": "python",
   "name": "python3"
  },
  "language_info": {
   "codemirror_mode": {
    "name": "ipython",
    "version": 3
   },
   "file_extension": ".py",
   "mimetype": "text/x-python",
   "name": "python",
   "nbconvert_exporter": "python",
   "pygments_lexer": "ipython3",
   "version": "3.8.2"
  }
 },
 "nbformat": 4,
 "nbformat_minor": 4
}
