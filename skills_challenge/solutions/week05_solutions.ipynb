{
 "cells": [
  {
   "cell_type": "markdown",
   "metadata": {},
   "source": [
    "# Skills challenge \\#5\n",
    "Below are a series of questions. Use the loaded data to answer the questions. You will almost certainly need to import more packages (`pandas`, `numpy`, etc.) to complete these. You are welcome to use any source except for your classmates. So Google away!\n",
    "\n",
    "You will be graded on both the **correctness** and **cleanliness** of your work. So don't submit poorly written code or your grade will reflect that. Use Markdown describing what you have done. If you get stuck, move on to another part. Most questions don't rely on the answer to earlier questions."
   ]
  },
  {
   "cell_type": "markdown",
   "metadata": {},
   "source": [
    "### Imports"
   ]
  },
  {
   "cell_type": "code",
   "execution_count": 57,
   "metadata": {},
   "outputs": [],
   "source": [
    "import pandas as pd\n",
    "\n",
    "import numpy as np\n",
    "from matplotlib import pyplot as plt\n",
    "from sklearn.model_selection import train_test_split\n",
    "from sklearn.linear_model import LinearRegression"
   ]
  },
  {
   "cell_type": "markdown",
   "metadata": {},
   "source": [
    "### Data loading"
   ]
  },
  {
   "cell_type": "code",
   "execution_count": 73,
   "metadata": {},
   "outputs": [],
   "source": [
    "df = pd.read_csv('../../data/median_rent.csv')"
   ]
  },
  {
   "cell_type": "code",
   "execution_count": 74,
   "metadata": {},
   "outputs": [
    {
     "data": {
      "text/html": [
       "<div>\n",
       "<style scoped>\n",
       "    .dataframe tbody tr th:only-of-type {\n",
       "        vertical-align: middle;\n",
       "    }\n",
       "\n",
       "    .dataframe tbody tr th {\n",
       "        vertical-align: top;\n",
       "    }\n",
       "\n",
       "    .dataframe thead th {\n",
       "        text-align: right;\n",
       "    }\n",
       "</style>\n",
       "<table border=\"1\" class=\"dataframe\">\n",
       "  <thead>\n",
       "    <tr style=\"text-align: right;\">\n",
       "      <th></th>\n",
       "      <th>City Code</th>\n",
       "      <th>City</th>\n",
       "      <th>Metro</th>\n",
       "      <th>County</th>\n",
       "      <th>State</th>\n",
       "      <th>Population Rank</th>\n",
       "      <th>November 2010</th>\n",
       "      <th>December 2010</th>\n",
       "      <th>January 2011</th>\n",
       "      <th>February 2011</th>\n",
       "      <th>...</th>\n",
       "      <th>April 2016</th>\n",
       "      <th>May 2016</th>\n",
       "      <th>June 2016</th>\n",
       "      <th>July 2016</th>\n",
       "      <th>August 2016</th>\n",
       "      <th>September 2016</th>\n",
       "      <th>October 2016</th>\n",
       "      <th>November 2016</th>\n",
       "      <th>December 2016</th>\n",
       "      <th>January 2017</th>\n",
       "    </tr>\n",
       "  </thead>\n",
       "  <tbody>\n",
       "    <tr>\n",
       "      <th>0</th>\n",
       "      <td>6181</td>\n",
       "      <td>New York</td>\n",
       "      <td>New York</td>\n",
       "      <td>Queens</td>\n",
       "      <td>NY</td>\n",
       "      <td>1</td>\n",
       "      <td>NaN</td>\n",
       "      <td>NaN</td>\n",
       "      <td>NaN</td>\n",
       "      <td>NaN</td>\n",
       "      <td>...</td>\n",
       "      <td>1.806</td>\n",
       "      <td>1.810</td>\n",
       "      <td>1.816</td>\n",
       "      <td>1.824</td>\n",
       "      <td>1.828</td>\n",
       "      <td>1.836</td>\n",
       "      <td>1.844</td>\n",
       "      <td>1.858</td>\n",
       "      <td>1.866</td>\n",
       "      <td>1.872</td>\n",
       "    </tr>\n",
       "    <tr>\n",
       "      <th>1</th>\n",
       "      <td>12447</td>\n",
       "      <td>Los Angeles</td>\n",
       "      <td>Los Angeles</td>\n",
       "      <td>Los Angeles</td>\n",
       "      <td>CA</td>\n",
       "      <td>2</td>\n",
       "      <td>1.578</td>\n",
       "      <td>1.578</td>\n",
       "      <td>1.580</td>\n",
       "      <td>1.582</td>\n",
       "      <td>...</td>\n",
       "      <td>1.990</td>\n",
       "      <td>2.004</td>\n",
       "      <td>2.018</td>\n",
       "      <td>2.026</td>\n",
       "      <td>2.032</td>\n",
       "      <td>2.038</td>\n",
       "      <td>2.042</td>\n",
       "      <td>2.048</td>\n",
       "      <td>2.056</td>\n",
       "      <td>2.064</td>\n",
       "    </tr>\n",
       "    <tr>\n",
       "      <th>2</th>\n",
       "      <td>17426</td>\n",
       "      <td>Chicago</td>\n",
       "      <td>Chicago</td>\n",
       "      <td>Cook</td>\n",
       "      <td>IL</td>\n",
       "      <td>3</td>\n",
       "      <td>1.244</td>\n",
       "      <td>1.248</td>\n",
       "      <td>1.254</td>\n",
       "      <td>1.254</td>\n",
       "      <td>...</td>\n",
       "      <td>1.354</td>\n",
       "      <td>1.362</td>\n",
       "      <td>1.370</td>\n",
       "      <td>1.374</td>\n",
       "      <td>1.378</td>\n",
       "      <td>1.380</td>\n",
       "      <td>1.380</td>\n",
       "      <td>1.380</td>\n",
       "      <td>1.376</td>\n",
       "      <td>1.374</td>\n",
       "    </tr>\n",
       "    <tr>\n",
       "      <th>3</th>\n",
       "      <td>39051</td>\n",
       "      <td>Houston</td>\n",
       "      <td>Houston</td>\n",
       "      <td>Harris</td>\n",
       "      <td>TX</td>\n",
       "      <td>4</td>\n",
       "      <td>0.788</td>\n",
       "      <td>0.784</td>\n",
       "      <td>0.784</td>\n",
       "      <td>0.786</td>\n",
       "      <td>...</td>\n",
       "      <td>0.984</td>\n",
       "      <td>0.984</td>\n",
       "      <td>0.982</td>\n",
       "      <td>0.980</td>\n",
       "      <td>0.976</td>\n",
       "      <td>0.974</td>\n",
       "      <td>0.974</td>\n",
       "      <td>0.976</td>\n",
       "      <td>0.976</td>\n",
       "      <td>0.974</td>\n",
       "    </tr>\n",
       "    <tr>\n",
       "      <th>4</th>\n",
       "      <td>13271</td>\n",
       "      <td>Philadelphia</td>\n",
       "      <td>Philadelphia</td>\n",
       "      <td>Philadelphia</td>\n",
       "      <td>PA</td>\n",
       "      <td>5</td>\n",
       "      <td>0.854</td>\n",
       "      <td>0.858</td>\n",
       "      <td>0.858</td>\n",
       "      <td>0.858</td>\n",
       "      <td>...</td>\n",
       "      <td>0.948</td>\n",
       "      <td>0.956</td>\n",
       "      <td>0.962</td>\n",
       "      <td>0.964</td>\n",
       "      <td>0.964</td>\n",
       "      <td>0.966</td>\n",
       "      <td>0.968</td>\n",
       "      <td>0.972</td>\n",
       "      <td>0.974</td>\n",
       "      <td>0.974</td>\n",
       "    </tr>\n",
       "  </tbody>\n",
       "</table>\n",
       "<p>5 rows × 81 columns</p>\n",
       "</div>"
      ],
      "text/plain": [
       "   City Code          City         Metro        County State  Population Rank  \\\n",
       "0       6181      New York      New York        Queens    NY                1   \n",
       "1      12447   Los Angeles   Los Angeles   Los Angeles    CA                2   \n",
       "2      17426       Chicago       Chicago          Cook    IL                3   \n",
       "3      39051       Houston       Houston        Harris    TX                4   \n",
       "4      13271  Philadelphia  Philadelphia  Philadelphia    PA                5   \n",
       "\n",
       "   November 2010  December 2010  January 2011  February 2011  ...  April 2016  \\\n",
       "0            NaN            NaN           NaN            NaN  ...       1.806   \n",
       "1          1.578          1.578         1.580          1.582  ...       1.990   \n",
       "2          1.244          1.248         1.254          1.254  ...       1.354   \n",
       "3          0.788          0.784         0.784          0.786  ...       0.984   \n",
       "4          0.854          0.858         0.858          0.858  ...       0.948   \n",
       "\n",
       "   May 2016  June 2016  July 2016  August 2016  September 2016  October 2016  \\\n",
       "0     1.810      1.816      1.824        1.828           1.836         1.844   \n",
       "1     2.004      2.018      2.026        2.032           2.038         2.042   \n",
       "2     1.362      1.370      1.374        1.378           1.380         1.380   \n",
       "3     0.984      0.982      0.980        0.976           0.974         0.974   \n",
       "4     0.956      0.962      0.964        0.964           0.966         0.968   \n",
       "\n",
       "   November 2016  December 2016  January 2017  \n",
       "0          1.858          1.866         1.872  \n",
       "1          2.048          2.056         2.064  \n",
       "2          1.380          1.376         1.374  \n",
       "3          0.976          0.976         0.974  \n",
       "4          0.972          0.974         0.974  \n",
       "\n",
       "[5 rows x 81 columns]"
      ]
     },
     "execution_count": 74,
     "metadata": {},
     "output_type": "execute_result"
    }
   ],
   "source": [
    "df.head()"
   ]
  },
  {
   "cell_type": "markdown",
   "metadata": {},
   "source": [
    "### Data description\n",
    "\n",
    "This data is a collection of median rent per square foot of apartments throughout the US. Each month/year column is the rent per square foot (in USD) in that location."
   ]
  },
  {
   "cell_type": "markdown",
   "metadata": {},
   "source": [
    "## Tasks"
   ]
  },
  {
   "cell_type": "markdown",
   "metadata": {},
   "source": [
    "### Data cleaning\n",
    "**DC1:** Do any `City Code`s show up more than once?"
   ]
  },
  {
   "cell_type": "code",
   "execution_count": 75,
   "metadata": {},
   "outputs": [
    {
     "data": {
      "text/plain": [
       "397310    1\n",
       "32021     1\n",
       "34876     1\n",
       "17698     1\n",
       "38386     1\n",
       "         ..\n",
       "47746     1\n",
       "41601     1\n",
       "27264     1\n",
       "6242      1\n",
       "16384     1\n",
       "Name: City Code, Length: 11919, dtype: int64"
      ]
     },
     "execution_count": 75,
     "metadata": {},
     "output_type": "execute_result"
    }
   ],
   "source": [
    "df['City Code'].value_counts()"
   ]
  },
  {
   "cell_type": "markdown",
   "metadata": {},
   "source": [
    "No."
   ]
  },
  {
   "cell_type": "markdown",
   "metadata": {},
   "source": [
    "**DC2:** For each column, print how many `None` or `NaN` values are in the column, along with what percentage of the rows are missing. **Only print columns that actually have missing values**. Round the percentage to two decimal places. Your output should look like:\n",
    "\n",
    "```\n",
    "col1_name: 20 (0.05%) missing values \n",
    "col3_name: 150 (1.56%) missing values \n",
    "```"
   ]
  },
  {
   "cell_type": "code",
   "execution_count": 76,
   "metadata": {},
   "outputs": [
    {
     "name": "stdout",
     "output_type": "stream",
     "text": [
      "Metro: 916 (0.08%) missing values\n",
      "November 2010: 1319 (0.11%) missing values\n",
      "December 2010: 1319 (0.11%) missing values\n",
      "January 2011: 1319 (0.11%) missing values\n",
      "February 2011: 1175 (0.10%) missing values\n",
      "March 2011: 1090 (0.09%) missing values\n",
      "April 2011: 1041 (0.09%) missing values\n",
      "May 2011: 1034 (0.09%) missing values\n",
      "June 2011: 1034 (0.09%) missing values\n",
      "July 2011: 1034 (0.09%) missing values\n",
      "August 2011: 1034 (0.09%) missing values\n",
      "September 2011: 1033 (0.09%) missing values\n",
      "October 2011: 1019 (0.09%) missing values\n",
      "November 2011: 1019 (0.09%) missing values\n",
      "December 2011: 799 (0.07%) missing values\n",
      "January 2012: 799 (0.07%) missing values\n",
      "February 2012: 799 (0.07%) missing values\n",
      "March 2012: 799 (0.07%) missing values\n"
     ]
    }
   ],
   "source": [
    "for c in df.columns:\n",
    "    num_missing = df[c].isna().sum()\n",
    "    if num_missing > 0:\n",
    "        print(f'{c}: {num_missing} ({num_missing / df.shape[0]:.2f}%) missing values')"
   ]
  },
  {
   "cell_type": "markdown",
   "metadata": {},
   "source": [
    "**DC3:** Drop the `Metro` column, along with `November 2010` and `December 2010`. Save the result back to `df`."
   ]
  },
  {
   "cell_type": "code",
   "execution_count": 77,
   "metadata": {},
   "outputs": [],
   "source": [
    "df = df.drop(['Metro', 'November 2010', 'December 2010'], axis='columns')"
   ]
  },
  {
   "cell_type": "markdown",
   "metadata": {},
   "source": [
    "**DC4:** Print how many *rows* have a missing value. Also, print what percentage of the rows have a missing value."
   ]
  },
  {
   "cell_type": "code",
   "execution_count": 78,
   "metadata": {},
   "outputs": [
    {
     "name": "stdout",
     "output_type": "stream",
     "text": [
      "1319 rows with missing data (11.07%)\n"
     ]
    }
   ],
   "source": [
    "num_missing_rows = df.shape[0] - df.dropna(axis='index').shape[0]\n",
    "print(f'{num_missing_rows} rows with missing data ({100 * num_missing_rows / df.shape[0]:.2f}%)')"
   ]
  },
  {
   "cell_type": "markdown",
   "metadata": {},
   "source": [
    "**DC5:** For any rows with missing data, fill the missing values with the median from that row."
   ]
  },
  {
   "cell_type": "code",
   "execution_count": 79,
   "metadata": {},
   "outputs": [],
   "source": [
    "df = df.fillna(df.median(axis='index'), axis='index')"
   ]
  },
  {
   "cell_type": "markdown",
   "metadata": {},
   "source": [
    "### Data exploration"
   ]
  },
  {
   "cell_type": "markdown",
   "metadata": {},
   "source": [
    "**DE1:** Make a scatterplot and compute the correlation coefficient for `Population Rank` to the median price per square foot in `January 2017`. Write a sentence or two about what we learn from this graph/correlation coefficient."
   ]
  },
  {
   "cell_type": "code",
   "execution_count": 80,
   "metadata": {},
   "outputs": [
    {
     "data": {
      "image/png": "[encoded data removed]",
      "text/plain": [
       "<Figure size 864x576 with 1 Axes>"
      ]
     },
     "metadata": {
      "needs_background": "light"
     },
     "output_type": "display_data"
    }
   ],
   "source": [
    "ax = df.plot(x='Population Rank', y='January 2017', kind='scatter', figsize=(12, 8))\n",
    "\n",
    "ax.set_ylabel('$ per ft^2 in Jan 2017')\n",
    "ax.set_title(f'R = {np.corrcoef(df[\"Population Rank\"], df[\"January 2017\"])[0, 1]:.3f}');"
   ]
  },
  {
   "cell_type": "markdown",
   "metadata": {},
   "source": [
    "The graph suggests very little correlation between the two values, but the correlation coefficient suggests that there is a slight negative correlation. Therefore the price per square foot drops slightly at the city gets smaller (high population rank)."
   ]
  },
  {
   "cell_type": "markdown",
   "metadata": {},
   "source": [
    "**DE2:** Find the top ten city codes which had the highest price per square foot in `January 2017`."
   ]
  },
  {
   "cell_type": "code",
   "execution_count": 81,
   "metadata": {},
   "outputs": [
    {
     "data": {
      "text/plain": [
       "Int64Index([11627, 11891, 5032, 11158, 8897, 3283, 2286, 11187, 7165, 1332], dtype='int64')"
      ]
     },
     "execution_count": 81,
     "metadata": {},
     "output_type": "execute_result"
    }
   ],
   "source": [
    "df['January 2017'].nlargest(10).index"
   ]
  },
  {
   "cell_type": "markdown",
   "metadata": {},
   "source": [
    "To see the actual cities you can get those city codes from the original data."
   ]
  },
  {
   "cell_type": "code",
   "execution_count": 82,
   "metadata": {},
   "outputs": [
    {
     "data": {
      "text/html": [
       "<div>\n",
       "<style scoped>\n",
       "    .dataframe tbody tr th:only-of-type {\n",
       "        vertical-align: middle;\n",
       "    }\n",
       "\n",
       "    .dataframe tbody tr th {\n",
       "        vertical-align: top;\n",
       "    }\n",
       "\n",
       "    .dataframe thead th {\n",
       "        text-align: right;\n",
       "    }\n",
       "</style>\n",
       "<table border=\"1\" class=\"dataframe\">\n",
       "  <thead>\n",
       "    <tr style=\"text-align: right;\">\n",
       "      <th></th>\n",
       "      <th>City Code</th>\n",
       "      <th>City</th>\n",
       "      <th>County</th>\n",
       "      <th>State</th>\n",
       "      <th>Population Rank</th>\n",
       "      <th>January 2011</th>\n",
       "      <th>February 2011</th>\n",
       "      <th>March 2011</th>\n",
       "      <th>April 2011</th>\n",
       "      <th>May 2011</th>\n",
       "      <th>...</th>\n",
       "      <th>April 2016</th>\n",
       "      <th>May 2016</th>\n",
       "      <th>June 2016</th>\n",
       "      <th>July 2016</th>\n",
       "      <th>August 2016</th>\n",
       "      <th>September 2016</th>\n",
       "      <th>October 2016</th>\n",
       "      <th>November 2016</th>\n",
       "      <th>December 2016</th>\n",
       "      <th>January 2017</th>\n",
       "    </tr>\n",
       "  </thead>\n",
       "  <tbody>\n",
       "    <tr>\n",
       "      <th>11627</th>\n",
       "      <td>4721</td>\n",
       "      <td>Fisher Island</td>\n",
       "      <td>Miami-Dade</td>\n",
       "      <td>FL</td>\n",
       "      <td>11628</td>\n",
       "      <td>4.558</td>\n",
       "      <td>4.564</td>\n",
       "      <td>4.548</td>\n",
       "      <td>4.536</td>\n",
       "      <td>4.528</td>\n",
       "      <td>...</td>\n",
       "      <td>6.252</td>\n",
       "      <td>6.342</td>\n",
       "      <td>6.404</td>\n",
       "      <td>6.452</td>\n",
       "      <td>6.476</td>\n",
       "      <td>6.486</td>\n",
       "      <td>6.476</td>\n",
       "      <td>6.470</td>\n",
       "      <td>6.440</td>\n",
       "      <td>6.406</td>\n",
       "    </tr>\n",
       "    <tr>\n",
       "      <th>11891</th>\n",
       "      <td>49856</td>\n",
       "      <td>Stinson Beach</td>\n",
       "      <td>Marin</td>\n",
       "      <td>CA</td>\n",
       "      <td>11892</td>\n",
       "      <td>4.184</td>\n",
       "      <td>3.886</td>\n",
       "      <td>3.520</td>\n",
       "      <td>3.286</td>\n",
       "      <td>3.104</td>\n",
       "      <td>...</td>\n",
       "      <td>4.856</td>\n",
       "      <td>4.994</td>\n",
       "      <td>5.084</td>\n",
       "      <td>5.134</td>\n",
       "      <td>5.178</td>\n",
       "      <td>5.204</td>\n",
       "      <td>5.204</td>\n",
       "      <td>5.170</td>\n",
       "      <td>5.146</td>\n",
       "      <td>5.176</td>\n",
       "    </tr>\n",
       "    <tr>\n",
       "      <th>5032</th>\n",
       "      <td>30280</td>\n",
       "      <td>Atherton</td>\n",
       "      <td>San Mateo</td>\n",
       "      <td>CA</td>\n",
       "      <td>5033</td>\n",
       "      <td>3.110</td>\n",
       "      <td>3.054</td>\n",
       "      <td>3.032</td>\n",
       "      <td>3.036</td>\n",
       "      <td>3.038</td>\n",
       "      <td>...</td>\n",
       "      <td>4.862</td>\n",
       "      <td>4.840</td>\n",
       "      <td>4.828</td>\n",
       "      <td>4.800</td>\n",
       "      <td>4.752</td>\n",
       "      <td>4.706</td>\n",
       "      <td>4.676</td>\n",
       "      <td>4.668</td>\n",
       "      <td>4.650</td>\n",
       "      <td>4.658</td>\n",
       "    </tr>\n",
       "    <tr>\n",
       "      <th>11158</th>\n",
       "      <td>124901</td>\n",
       "      <td>Jupiter Island</td>\n",
       "      <td>Martin</td>\n",
       "      <td>FL</td>\n",
       "      <td>11159</td>\n",
       "      <td>4.056</td>\n",
       "      <td>4.076</td>\n",
       "      <td>4.090</td>\n",
       "      <td>4.104</td>\n",
       "      <td>4.162</td>\n",
       "      <td>...</td>\n",
       "      <td>5.166</td>\n",
       "      <td>4.984</td>\n",
       "      <td>4.882</td>\n",
       "      <td>4.848</td>\n",
       "      <td>4.810</td>\n",
       "      <td>4.798</td>\n",
       "      <td>4.794</td>\n",
       "      <td>4.750</td>\n",
       "      <td>4.656</td>\n",
       "      <td>4.554</td>\n",
       "    </tr>\n",
       "    <tr>\n",
       "      <th>8897</th>\n",
       "      <td>10348</td>\n",
       "      <td>Belvedere</td>\n",
       "      <td>Marin</td>\n",
       "      <td>CA</td>\n",
       "      <td>8898</td>\n",
       "      <td>4.220</td>\n",
       "      <td>3.874</td>\n",
       "      <td>3.472</td>\n",
       "      <td>3.214</td>\n",
       "      <td>3.030</td>\n",
       "      <td>...</td>\n",
       "      <td>4.662</td>\n",
       "      <td>4.716</td>\n",
       "      <td>4.752</td>\n",
       "      <td>4.742</td>\n",
       "      <td>4.714</td>\n",
       "      <td>4.660</td>\n",
       "      <td>4.592</td>\n",
       "      <td>4.494</td>\n",
       "      <td>4.418</td>\n",
       "      <td>4.396</td>\n",
       "    </tr>\n",
       "    <tr>\n",
       "      <th>3283</th>\n",
       "      <td>12520</td>\n",
       "      <td>Malibu</td>\n",
       "      <td>Los Angeles</td>\n",
       "      <td>CA</td>\n",
       "      <td>3284</td>\n",
       "      <td>3.512</td>\n",
       "      <td>3.506</td>\n",
       "      <td>3.502</td>\n",
       "      <td>3.484</td>\n",
       "      <td>3.462</td>\n",
       "      <td>...</td>\n",
       "      <td>4.098</td>\n",
       "      <td>4.202</td>\n",
       "      <td>4.274</td>\n",
       "      <td>4.328</td>\n",
       "      <td>4.328</td>\n",
       "      <td>4.300</td>\n",
       "      <td>4.272</td>\n",
       "      <td>4.272</td>\n",
       "      <td>4.304</td>\n",
       "      <td>4.348</td>\n",
       "    </tr>\n",
       "    <tr>\n",
       "      <th>2286</th>\n",
       "      <td>52842</td>\n",
       "      <td>Laguna Beach</td>\n",
       "      <td>Orange</td>\n",
       "      <td>CA</td>\n",
       "      <td>2287</td>\n",
       "      <td>3.320</td>\n",
       "      <td>3.304</td>\n",
       "      <td>3.304</td>\n",
       "      <td>3.306</td>\n",
       "      <td>3.314</td>\n",
       "      <td>...</td>\n",
       "      <td>3.922</td>\n",
       "      <td>4.028</td>\n",
       "      <td>4.098</td>\n",
       "      <td>4.140</td>\n",
       "      <td>4.180</td>\n",
       "      <td>4.224</td>\n",
       "      <td>4.272</td>\n",
       "      <td>4.294</td>\n",
       "      <td>4.310</td>\n",
       "      <td>4.314</td>\n",
       "    </tr>\n",
       "    <tr>\n",
       "      <th>11187</th>\n",
       "      <td>3734</td>\n",
       "      <td>Boca Grande</td>\n",
       "      <td>Lee</td>\n",
       "      <td>FL</td>\n",
       "      <td>11188</td>\n",
       "      <td>2.580</td>\n",
       "      <td>2.558</td>\n",
       "      <td>2.540</td>\n",
       "      <td>2.546</td>\n",
       "      <td>2.592</td>\n",
       "      <td>...</td>\n",
       "      <td>3.752</td>\n",
       "      <td>3.810</td>\n",
       "      <td>3.916</td>\n",
       "      <td>3.990</td>\n",
       "      <td>4.040</td>\n",
       "      <td>4.090</td>\n",
       "      <td>4.170</td>\n",
       "      <td>4.252</td>\n",
       "      <td>4.300</td>\n",
       "      <td>4.270</td>\n",
       "    </tr>\n",
       "    <tr>\n",
       "      <th>7165</th>\n",
       "      <td>8185</td>\n",
       "      <td>Del Mar</td>\n",
       "      <td>San Diego</td>\n",
       "      <td>CA</td>\n",
       "      <td>7166</td>\n",
       "      <td>3.586</td>\n",
       "      <td>3.586</td>\n",
       "      <td>3.578</td>\n",
       "      <td>3.572</td>\n",
       "      <td>3.556</td>\n",
       "      <td>...</td>\n",
       "      <td>4.260</td>\n",
       "      <td>4.336</td>\n",
       "      <td>4.400</td>\n",
       "      <td>4.418</td>\n",
       "      <td>4.416</td>\n",
       "      <td>4.388</td>\n",
       "      <td>4.356</td>\n",
       "      <td>4.336</td>\n",
       "      <td>4.310</td>\n",
       "      <td>4.268</td>\n",
       "    </tr>\n",
       "    <tr>\n",
       "      <th>1332</th>\n",
       "      <td>10389</td>\n",
       "      <td>Beverly Hills</td>\n",
       "      <td>Los Angeles</td>\n",
       "      <td>CA</td>\n",
       "      <td>1333</td>\n",
       "      <td>2.960</td>\n",
       "      <td>2.974</td>\n",
       "      <td>2.986</td>\n",
       "      <td>2.986</td>\n",
       "      <td>2.980</td>\n",
       "      <td>...</td>\n",
       "      <td>3.870</td>\n",
       "      <td>3.928</td>\n",
       "      <td>3.972</td>\n",
       "      <td>4.002</td>\n",
       "      <td>4.018</td>\n",
       "      <td>4.018</td>\n",
       "      <td>4.024</td>\n",
       "      <td>4.046</td>\n",
       "      <td>4.076</td>\n",
       "      <td>4.124</td>\n",
       "    </tr>\n",
       "  </tbody>\n",
       "</table>\n",
       "<p>10 rows × 78 columns</p>\n",
       "</div>"
      ],
      "text/plain": [
       "       City Code            City       County State  Population Rank  \\\n",
       "11627       4721   Fisher Island   Miami-Dade    FL            11628   \n",
       "11891      49856   Stinson Beach        Marin    CA            11892   \n",
       "5032       30280        Atherton    San Mateo    CA             5033   \n",
       "11158     124901  Jupiter Island       Martin    FL            11159   \n",
       "8897       10348       Belvedere        Marin    CA             8898   \n",
       "3283       12520          Malibu  Los Angeles    CA             3284   \n",
       "2286       52842    Laguna Beach       Orange    CA             2287   \n",
       "11187       3734     Boca Grande          Lee    FL            11188   \n",
       "7165        8185         Del Mar    San Diego    CA             7166   \n",
       "1332       10389   Beverly Hills  Los Angeles    CA             1333   \n",
       "\n",
       "       January 2011  February 2011  March 2011  April 2011  May 2011  ...  \\\n",
       "11627         4.558          4.564       4.548       4.536     4.528  ...   \n",
       "11891         4.184          3.886       3.520       3.286     3.104  ...   \n",
       "5032          3.110          3.054       3.032       3.036     3.038  ...   \n",
       "11158         4.056          4.076       4.090       4.104     4.162  ...   \n",
       "8897          4.220          3.874       3.472       3.214     3.030  ...   \n",
       "3283          3.512          3.506       3.502       3.484     3.462  ...   \n",
       "2286          3.320          3.304       3.304       3.306     3.314  ...   \n",
       "11187         2.580          2.558       2.540       2.546     2.592  ...   \n",
       "7165          3.586          3.586       3.578       3.572     3.556  ...   \n",
       "1332          2.960          2.974       2.986       2.986     2.980  ...   \n",
       "\n",
       "       April 2016  May 2016  June 2016  July 2016  August 2016  \\\n",
       "11627       6.252     6.342      6.404      6.452        6.476   \n",
       "11891       4.856     4.994      5.084      5.134        5.178   \n",
       "5032        4.862     4.840      4.828      4.800        4.752   \n",
       "11158       5.166     4.984      4.882      4.848        4.810   \n",
       "8897        4.662     4.716      4.752      4.742        4.714   \n",
       "3283        4.098     4.202      4.274      4.328        4.328   \n",
       "2286        3.922     4.028      4.098      4.140        4.180   \n",
       "11187       3.752     3.810      3.916      3.990        4.040   \n",
       "7165        4.260     4.336      4.400      4.418        4.416   \n",
       "1332        3.870     3.928      3.972      4.002        4.018   \n",
       "\n",
       "       September 2016  October 2016  November 2016  December 2016  \\\n",
       "11627           6.486         6.476          6.470          6.440   \n",
       "11891           5.204         5.204          5.170          5.146   \n",
       "5032            4.706         4.676          4.668          4.650   \n",
       "11158           4.798         4.794          4.750          4.656   \n",
       "8897            4.660         4.592          4.494          4.418   \n",
       "3283            4.300         4.272          4.272          4.304   \n",
       "2286            4.224         4.272          4.294          4.310   \n",
       "11187           4.090         4.170          4.252          4.300   \n",
       "7165            4.388         4.356          4.336          4.310   \n",
       "1332            4.018         4.024          4.046          4.076   \n",
       "\n",
       "       January 2017  \n",
       "11627         6.406  \n",
       "11891         5.176  \n",
       "5032          4.658  \n",
       "11158         4.554  \n",
       "8897          4.396  \n",
       "3283          4.348  \n",
       "2286          4.314  \n",
       "11187         4.270  \n",
       "7165          4.268  \n",
       "1332          4.124  \n",
       "\n",
       "[10 rows x 78 columns]"
      ]
     },
     "execution_count": 82,
     "metadata": {},
     "output_type": "execute_result"
    }
   ],
   "source": [
    "df.iloc[df['January 2017'].nlargest(10).index]"
   ]
  },
  {
   "cell_type": "markdown",
   "metadata": {},
   "source": [
    "Hello Florida and California!"
   ]
  },
  {
   "cell_type": "markdown",
   "metadata": {},
   "source": [
    "### Model building"
   ]
  },
  {
   "cell_type": "markdown",
   "metadata": {},
   "source": [
    "**MB1:** Split the data into training and testing sets. Your test set should have 30% of the data, and the training set should have the rest."
   ]
  },
  {
   "cell_type": "code",
   "execution_count": 83,
   "metadata": {},
   "outputs": [],
   "source": [
    "train_df, test_df = train_test_split(df, test_size=0.3)"
   ]
  },
  {
   "cell_type": "markdown",
   "metadata": {},
   "source": [
    "**MB2:** Create a linear regression model comparing the price per square foot in `January 2011` and the `Population Rank` to the price in `January 2017`. Train it on the training data and test it on the testing data. "
   ]
  },
  {
   "cell_type": "code",
   "execution_count": 84,
   "metadata": {},
   "outputs": [
    {
     "data": {
      "text/plain": [
       "LinearRegression(copy_X=True, fit_intercept=True, n_jobs=None, normalize=False)"
      ]
     },
     "execution_count": 84,
     "metadata": {},
     "output_type": "execute_result"
    }
   ],
   "source": [
    "lr = LinearRegression()\n",
    "X_train = train_df[['January 2011', 'Population Rank']]\n",
    "y_train = train_df['January 2017']\n",
    "lr.fit(X, y)"
   ]
  },
  {
   "cell_type": "markdown",
   "metadata": {},
   "source": [
    "**MB3:** Plot the scatterplot comparing the actual and predicted prices in January 2017. Print the score (correlation coefficient). Label your x and y axes appropriately. All of this should be done on the test set."
   ]
  },
  {
   "cell_type": "code",
   "execution_count": 85,
   "metadata": {},
   "outputs": [
    {
     "data": {
      "image/png": "[encoded data removed]",
      "text/plain": [
       "<Figure size 864x576 with 1 Axes>"
      ]
     },
     "metadata": {
      "needs_background": "light"
     },
     "output_type": "display_data"
    }
   ],
   "source": [
    "X_test = test_df[['January 2011', 'Population Rank']]\n",
    "y_test = test_df['January 2017']\n",
    "\n",
    "y_pred = lr.predict(X_test)\n",
    "\n",
    "fig = plt.figure(figsize=(12, 8))\n",
    "plt.scatter(y_test, y_pred)\n",
    "plt.xlabel('Actual price per ft^2')\n",
    "plt.ylabel('Predicted price per ft^2')\n",
    "plt.grid()\n",
    "plt.title(f'Score = {lr.score(X_test, y_test):.3f}');"
   ]
  },
  {
   "cell_type": "markdown",
   "metadata": {},
   "source": [
    "**MB4:** If your scatterplot has any strange outliers, explain in plain English what those outliers represent."
   ]
  },
  {
   "cell_type": "markdown",
   "metadata": {},
   "source": [
    "Our graph has a horizontal line of points. These are points wehre the predicted price is about \\\\$1 per square foot, but the actual price per square foot varies. These are points where the model predicts approximately the same value (\\\\$1), but the actual prices vary from that greatly. Therefore, there must be something about these places that goes against what the model has learned."
   ]
  },
  {
   "cell_type": "markdown",
   "metadata": {},
   "source": [
    "**MB5:** Print out the coefficients of the model, along with the y-intercept. Discuss what each of these values tell us. Discuss which variable out of two in your model are more predictive of the target (`January 2017`). Justify your conclusions using your data/model, not just \"I feel like...\"."
   ]
  },
  {
   "cell_type": "code",
   "execution_count": 86,
   "metadata": {},
   "outputs": [
    {
     "name": "stdout",
     "output_type": "stream",
     "text": [
      "Coefficients: [ 1.22042792e+00 -7.31669925e-06]\n",
      "Intercept: -0.03944919942611602\n"
     ]
    }
   ],
   "source": [
    "print(f'Coefficients: {lr.coef_}')\n",
    "print(f'Intercept: {lr.intercept_}')"
   ]
  },
  {
   "cell_type": "markdown",
   "metadata": {},
   "source": [
    "The coefficient for the first column (`January 2011`) says that for every \\\\$1 increase in this value, the value of the target (`January 2017`) increases by about \\\\$1.22. So there's approximately a 22% increase in those six years. For the second column (`Population Rank`), we see that the coefficient is very small ($-7.3 \\times 10^6 = -0.0000073$). In other words, this column has very little effect on the price in January 2017."
   ]
  },
  {
   "cell_type": "markdown",
   "metadata": {},
   "source": [
    "### Bonus"
   ]
  },
  {
   "cell_type": "markdown",
   "metadata": {},
   "source": [
    "**B1:** For each month/year column (say, `January 2012`), make a new column (`January 2012 YOY`) (\"YOY\" stands for \"Year Over Year\") which is the percentage increase from the same month in the previous year (so `January 2011` in this case). So for example, if `January 2011` had a value of 1.8 and `January 2012` had a value of 1.85, this is an increase of 0.05, which is a 0.05 / 1.8 = 0.0278 = 2.78% increase. So the column `January 2012 YOY` would have a value of 0.0278. Repeat this for each year (so `January 2013 YOY` would compare to the price in `January 2012`). Don't make a YOY column for the first year (20110. Find which city code has the highest average YOY increase across all years. This sort of computation is incredibly common in financial situations."
   ]
  },
  {
   "cell_type": "code",
   "execution_count": 94,
   "metadata": {},
   "outputs": [],
   "source": [
    "# The first five columns (so columns 0 through 4) are the non-month ones, so ignore those\n",
    "cols = list(df.columns)[5:]\n",
    "\n",
    "# We'll do it by hand for 2011 to get the idea, then write a function to do it\n",
    "month_cols = [c for c in cols if '2012' in c]"
   ]
  },
  {
   "cell_type": "code",
   "execution_count": 95,
   "metadata": {},
   "outputs": [
    {
     "data": {
      "text/plain": [
       "['January 2012',\n",
       " 'February 2012',\n",
       " 'March 2012',\n",
       " 'April 2012',\n",
       " 'May 2012',\n",
       " 'June 2012',\n",
       " 'July 2012',\n",
       " 'August 2012',\n",
       " 'September 2012',\n",
       " 'October 2012',\n",
       " 'November 2012',\n",
       " 'December 2012']"
      ]
     },
     "execution_count": 95,
     "metadata": {},
     "output_type": "execute_result"
    }
   ],
   "source": [
    "month_cols"
   ]
  },
  {
   "cell_type": "code",
   "execution_count": 96,
   "metadata": {},
   "outputs": [],
   "source": [
    "for c in month_cols:\n",
    "    previous_year_col = c.replace('2012', '2011')\n",
    "    df[f'{c} YOY'] = (df[c] - df[previous_year_col]) / df[previous_year_col]"
   ]
  },
  {
   "cell_type": "code",
   "execution_count": 97,
   "metadata": {},
   "outputs": [
    {
     "data": {
      "text/html": [
       "<div>\n",
       "<style scoped>\n",
       "    .dataframe tbody tr th:only-of-type {\n",
       "        vertical-align: middle;\n",
       "    }\n",
       "\n",
       "    .dataframe tbody tr th {\n",
       "        vertical-align: top;\n",
       "    }\n",
       "\n",
       "    .dataframe thead th {\n",
       "        text-align: right;\n",
       "    }\n",
       "</style>\n",
       "<table border=\"1\" class=\"dataframe\">\n",
       "  <thead>\n",
       "    <tr style=\"text-align: right;\">\n",
       "      <th></th>\n",
       "      <th>City Code</th>\n",
       "      <th>City</th>\n",
       "      <th>County</th>\n",
       "      <th>State</th>\n",
       "      <th>Population Rank</th>\n",
       "      <th>January 2011</th>\n",
       "      <th>February 2011</th>\n",
       "      <th>March 2011</th>\n",
       "      <th>April 2011</th>\n",
       "      <th>May 2011</th>\n",
       "      <th>...</th>\n",
       "      <th>March 2012 YOY</th>\n",
       "      <th>April 2012 YOY</th>\n",
       "      <th>May 2012 YOY</th>\n",
       "      <th>June 2012 YOY</th>\n",
       "      <th>July 2012 YOY</th>\n",
       "      <th>August 2012 YOY</th>\n",
       "      <th>September 2012 YOY</th>\n",
       "      <th>October 2012 YOY</th>\n",
       "      <th>November 2012 YOY</th>\n",
       "      <th>December 2012 YOY</th>\n",
       "    </tr>\n",
       "  </thead>\n",
       "  <tbody>\n",
       "    <tr>\n",
       "      <th>0</th>\n",
       "      <td>6181</td>\n",
       "      <td>New York</td>\n",
       "      <td>Queens</td>\n",
       "      <td>NY</td>\n",
       "      <td>1</td>\n",
       "      <td>0.802</td>\n",
       "      <td>0.802</td>\n",
       "      <td>0.800</td>\n",
       "      <td>0.800</td>\n",
       "      <td>0.798</td>\n",
       "      <td>...</td>\n",
       "      <td>0.745000</td>\n",
       "      <td>0.752500</td>\n",
       "      <td>0.769424</td>\n",
       "      <td>0.775000</td>\n",
       "      <td>0.780000</td>\n",
       "      <td>0.781955</td>\n",
       "      <td>0.783920</td>\n",
       "      <td>0.795970</td>\n",
       "      <td>0.816121</td>\n",
       "      <td>0.048921</td>\n",
       "    </tr>\n",
       "    <tr>\n",
       "      <th>1</th>\n",
       "      <td>12447</td>\n",
       "      <td>Los Angeles</td>\n",
       "      <td>Los Angeles</td>\n",
       "      <td>CA</td>\n",
       "      <td>2</td>\n",
       "      <td>1.580</td>\n",
       "      <td>1.582</td>\n",
       "      <td>1.586</td>\n",
       "      <td>1.588</td>\n",
       "      <td>1.590</td>\n",
       "      <td>...</td>\n",
       "      <td>0.001261</td>\n",
       "      <td>0.000000</td>\n",
       "      <td>0.000000</td>\n",
       "      <td>-0.003764</td>\n",
       "      <td>-0.002509</td>\n",
       "      <td>-0.003764</td>\n",
       "      <td>0.000000</td>\n",
       "      <td>0.002516</td>\n",
       "      <td>0.003769</td>\n",
       "      <td>0.006281</td>\n",
       "    </tr>\n",
       "    <tr>\n",
       "      <th>2</th>\n",
       "      <td>17426</td>\n",
       "      <td>Chicago</td>\n",
       "      <td>Cook</td>\n",
       "      <td>IL</td>\n",
       "      <td>3</td>\n",
       "      <td>1.254</td>\n",
       "      <td>1.254</td>\n",
       "      <td>1.248</td>\n",
       "      <td>1.240</td>\n",
       "      <td>1.232</td>\n",
       "      <td>...</td>\n",
       "      <td>-0.059295</td>\n",
       "      <td>-0.051613</td>\n",
       "      <td>-0.043831</td>\n",
       "      <td>-0.034314</td>\n",
       "      <td>-0.026230</td>\n",
       "      <td>-0.023102</td>\n",
       "      <td>-0.019900</td>\n",
       "      <td>-0.006700</td>\n",
       "      <td>0.008418</td>\n",
       "      <td>0.018644</td>\n",
       "    </tr>\n",
       "    <tr>\n",
       "      <th>3</th>\n",
       "      <td>39051</td>\n",
       "      <td>Houston</td>\n",
       "      <td>Harris</td>\n",
       "      <td>TX</td>\n",
       "      <td>4</td>\n",
       "      <td>0.784</td>\n",
       "      <td>0.786</td>\n",
       "      <td>0.792</td>\n",
       "      <td>0.796</td>\n",
       "      <td>0.796</td>\n",
       "      <td>...</td>\n",
       "      <td>-0.012626</td>\n",
       "      <td>-0.012563</td>\n",
       "      <td>-0.012563</td>\n",
       "      <td>-0.007557</td>\n",
       "      <td>0.000000</td>\n",
       "      <td>0.012755</td>\n",
       "      <td>0.025707</td>\n",
       "      <td>0.033679</td>\n",
       "      <td>0.033679</td>\n",
       "      <td>0.025773</td>\n",
       "    </tr>\n",
       "    <tr>\n",
       "      <th>4</th>\n",
       "      <td>13271</td>\n",
       "      <td>Philadelphia</td>\n",
       "      <td>Philadelphia</td>\n",
       "      <td>PA</td>\n",
       "      <td>5</td>\n",
       "      <td>0.858</td>\n",
       "      <td>0.858</td>\n",
       "      <td>0.856</td>\n",
       "      <td>0.854</td>\n",
       "      <td>0.854</td>\n",
       "      <td>...</td>\n",
       "      <td>0.004673</td>\n",
       "      <td>0.009368</td>\n",
       "      <td>0.007026</td>\n",
       "      <td>0.009390</td>\n",
       "      <td>0.011765</td>\n",
       "      <td>0.011792</td>\n",
       "      <td>0.009412</td>\n",
       "      <td>0.009412</td>\n",
       "      <td>0.004695</td>\n",
       "      <td>0.002347</td>\n",
       "    </tr>\n",
       "  </tbody>\n",
       "</table>\n",
       "<p>5 rows × 90 columns</p>\n",
       "</div>"
      ],
      "text/plain": [
       "   City Code          City        County State  Population Rank  January 2011  \\\n",
       "0       6181      New York        Queens    NY                1         0.802   \n",
       "1      12447   Los Angeles   Los Angeles    CA                2         1.580   \n",
       "2      17426       Chicago          Cook    IL                3         1.254   \n",
       "3      39051       Houston        Harris    TX                4         0.784   \n",
       "4      13271  Philadelphia  Philadelphia    PA                5         0.858   \n",
       "\n",
       "   February 2011  March 2011  April 2011  May 2011  ...  March 2012 YOY  \\\n",
       "0          0.802       0.800       0.800     0.798  ...        0.745000   \n",
       "1          1.582       1.586       1.588     1.590  ...        0.001261   \n",
       "2          1.254       1.248       1.240     1.232  ...       -0.059295   \n",
       "3          0.786       0.792       0.796     0.796  ...       -0.012626   \n",
       "4          0.858       0.856       0.854     0.854  ...        0.004673   \n",
       "\n",
       "   April 2012 YOY  May 2012 YOY  June 2012 YOY  July 2012 YOY  \\\n",
       "0        0.752500      0.769424       0.775000       0.780000   \n",
       "1        0.000000      0.000000      -0.003764      -0.002509   \n",
       "2       -0.051613     -0.043831      -0.034314      -0.026230   \n",
       "3       -0.012563     -0.012563      -0.007557       0.000000   \n",
       "4        0.009368      0.007026       0.009390       0.011765   \n",
       "\n",
       "   August 2012 YOY  September 2012 YOY  October 2012 YOY  November 2012 YOY  \\\n",
       "0         0.781955            0.783920          0.795970           0.816121   \n",
       "1        -0.003764            0.000000          0.002516           0.003769   \n",
       "2        -0.023102           -0.019900         -0.006700           0.008418   \n",
       "3         0.012755            0.025707          0.033679           0.033679   \n",
       "4         0.011792            0.009412          0.009412           0.004695   \n",
       "\n",
       "   December 2012 YOY  \n",
       "0           0.048921  \n",
       "1           0.006281  \n",
       "2           0.018644  \n",
       "3           0.025773  \n",
       "4           0.002347  \n",
       "\n",
       "[5 rows x 90 columns]"
      ]
     },
     "execution_count": 97,
     "metadata": {},
     "output_type": "execute_result"
    }
   ],
   "source": [
    "df.head()"
   ]
  },
  {
   "cell_type": "markdown",
   "metadata": {},
   "source": [
    "Everything looks good! Let's now repeat it for all the years."
   ]
  },
  {
   "cell_type": "code",
   "execution_count": 106,
   "metadata": {},
   "outputs": [],
   "source": [
    "# Make a list of all years\n",
    "for year in [2012, 2013, 2014, 2015, 2016, 2017]:\n",
    "    # Get the columns for that year. We need to use str(year) because year is a number and c is a string. To use \"in\" Python needs them both to be strings.\n",
    "    month_cols = [c for c in cols if str(year) in c]\n",
    "    for c in month_cols:\n",
    "        # Subtract one from the year to get the previous year\n",
    "        previous_year_col = c.replace(str(year), str(year-1))\n",
    "        df[f'{c} YOY'] = (df[c] - df[previous_year_col]) / df[previous_year_col]"
   ]
  },
  {
   "cell_type": "code",
   "execution_count": 107,
   "metadata": {},
   "outputs": [
    {
     "data": {
      "text/html": [
       "<div>\n",
       "<style scoped>\n",
       "    .dataframe tbody tr th:only-of-type {\n",
       "        vertical-align: middle;\n",
       "    }\n",
       "\n",
       "    .dataframe tbody tr th {\n",
       "        vertical-align: top;\n",
       "    }\n",
       "\n",
       "    .dataframe thead th {\n",
       "        text-align: right;\n",
       "    }\n",
       "</style>\n",
       "<table border=\"1\" class=\"dataframe\">\n",
       "  <thead>\n",
       "    <tr style=\"text-align: right;\">\n",
       "      <th></th>\n",
       "      <th>City Code</th>\n",
       "      <th>City</th>\n",
       "      <th>County</th>\n",
       "      <th>State</th>\n",
       "      <th>Population Rank</th>\n",
       "      <th>January 2011</th>\n",
       "      <th>February 2011</th>\n",
       "      <th>March 2011</th>\n",
       "      <th>April 2011</th>\n",
       "      <th>May 2011</th>\n",
       "      <th>...</th>\n",
       "      <th>April 2016 YOY</th>\n",
       "      <th>May 2016 YOY</th>\n",
       "      <th>June 2016 YOY</th>\n",
       "      <th>July 2016 YOY</th>\n",
       "      <th>August 2016 YOY</th>\n",
       "      <th>September 2016 YOY</th>\n",
       "      <th>October 2016 YOY</th>\n",
       "      <th>November 2016 YOY</th>\n",
       "      <th>December 2016 YOY</th>\n",
       "      <th>January 2017 YOY</th>\n",
       "    </tr>\n",
       "  </thead>\n",
       "  <tbody>\n",
       "    <tr>\n",
       "      <th>0</th>\n",
       "      <td>6181</td>\n",
       "      <td>New York</td>\n",
       "      <td>Queens</td>\n",
       "      <td>NY</td>\n",
       "      <td>1</td>\n",
       "      <td>0.802</td>\n",
       "      <td>0.802</td>\n",
       "      <td>0.800</td>\n",
       "      <td>0.800</td>\n",
       "      <td>0.798</td>\n",
       "      <td>...</td>\n",
       "      <td>0.051222</td>\n",
       "      <td>0.048667</td>\n",
       "      <td>0.046083</td>\n",
       "      <td>0.048276</td>\n",
       "      <td>0.043379</td>\n",
       "      <td>0.040816</td>\n",
       "      <td>0.035955</td>\n",
       "      <td>0.039150</td>\n",
       "      <td>0.041295</td>\n",
       "      <td>0.043478</td>\n",
       "    </tr>\n",
       "    <tr>\n",
       "      <th>1</th>\n",
       "      <td>12447</td>\n",
       "      <td>Los Angeles</td>\n",
       "      <td>Los Angeles</td>\n",
       "      <td>CA</td>\n",
       "      <td>2</td>\n",
       "      <td>1.580</td>\n",
       "      <td>1.582</td>\n",
       "      <td>1.586</td>\n",
       "      <td>1.588</td>\n",
       "      <td>1.590</td>\n",
       "      <td>...</td>\n",
       "      <td>0.068743</td>\n",
       "      <td>0.071658</td>\n",
       "      <td>0.074547</td>\n",
       "      <td>0.073093</td>\n",
       "      <td>0.069474</td>\n",
       "      <td>0.068134</td>\n",
       "      <td>0.066876</td>\n",
       "      <td>0.066667</td>\n",
       "      <td>0.065285</td>\n",
       "      <td>0.059548</td>\n",
       "    </tr>\n",
       "    <tr>\n",
       "      <th>2</th>\n",
       "      <td>17426</td>\n",
       "      <td>Chicago</td>\n",
       "      <td>Cook</td>\n",
       "      <td>IL</td>\n",
       "      <td>3</td>\n",
       "      <td>1.254</td>\n",
       "      <td>1.254</td>\n",
       "      <td>1.248</td>\n",
       "      <td>1.240</td>\n",
       "      <td>1.232</td>\n",
       "      <td>...</td>\n",
       "      <td>0.036753</td>\n",
       "      <td>0.041284</td>\n",
       "      <td>0.045802</td>\n",
       "      <td>0.044073</td>\n",
       "      <td>0.042360</td>\n",
       "      <td>0.040724</td>\n",
       "      <td>0.039157</td>\n",
       "      <td>0.037594</td>\n",
       "      <td>0.033033</td>\n",
       "      <td>0.026906</td>\n",
       "    </tr>\n",
       "    <tr>\n",
       "      <th>3</th>\n",
       "      <td>39051</td>\n",
       "      <td>Houston</td>\n",
       "      <td>Harris</td>\n",
       "      <td>TX</td>\n",
       "      <td>4</td>\n",
       "      <td>0.784</td>\n",
       "      <td>0.786</td>\n",
       "      <td>0.792</td>\n",
       "      <td>0.796</td>\n",
       "      <td>0.796</td>\n",
       "      <td>...</td>\n",
       "      <td>0.022869</td>\n",
       "      <td>0.020747</td>\n",
       "      <td>0.014463</td>\n",
       "      <td>0.008230</td>\n",
       "      <td>0.002053</td>\n",
       "      <td>0.000000</td>\n",
       "      <td>0.000000</td>\n",
       "      <td>0.004115</td>\n",
       "      <td>0.002053</td>\n",
       "      <td>-0.002049</td>\n",
       "    </tr>\n",
       "    <tr>\n",
       "      <th>4</th>\n",
       "      <td>13271</td>\n",
       "      <td>Philadelphia</td>\n",
       "      <td>Philadelphia</td>\n",
       "      <td>PA</td>\n",
       "      <td>5</td>\n",
       "      <td>0.858</td>\n",
       "      <td>0.858</td>\n",
       "      <td>0.856</td>\n",
       "      <td>0.854</td>\n",
       "      <td>0.854</td>\n",
       "      <td>...</td>\n",
       "      <td>0.041758</td>\n",
       "      <td>0.043668</td>\n",
       "      <td>0.041126</td>\n",
       "      <td>0.036559</td>\n",
       "      <td>0.034335</td>\n",
       "      <td>0.036481</td>\n",
       "      <td>0.040860</td>\n",
       "      <td>0.045161</td>\n",
       "      <td>0.047312</td>\n",
       "      <td>0.042827</td>\n",
       "    </tr>\n",
       "  </tbody>\n",
       "</table>\n",
       "<p>5 rows × 139 columns</p>\n",
       "</div>"
      ],
      "text/plain": [
       "   City Code          City        County State  Population Rank  January 2011  \\\n",
       "0       6181      New York        Queens    NY                1         0.802   \n",
       "1      12447   Los Angeles   Los Angeles    CA                2         1.580   \n",
       "2      17426       Chicago          Cook    IL                3         1.254   \n",
       "3      39051       Houston        Harris    TX                4         0.784   \n",
       "4      13271  Philadelphia  Philadelphia    PA                5         0.858   \n",
       "\n",
       "   February 2011  March 2011  April 2011  May 2011  ...  April 2016 YOY  \\\n",
       "0          0.802       0.800       0.800     0.798  ...        0.051222   \n",
       "1          1.582       1.586       1.588     1.590  ...        0.068743   \n",
       "2          1.254       1.248       1.240     1.232  ...        0.036753   \n",
       "3          0.786       0.792       0.796     0.796  ...        0.022869   \n",
       "4          0.858       0.856       0.854     0.854  ...        0.041758   \n",
       "\n",
       "   May 2016 YOY  June 2016 YOY  July 2016 YOY  August 2016 YOY  \\\n",
       "0      0.048667       0.046083       0.048276         0.043379   \n",
       "1      0.071658       0.074547       0.073093         0.069474   \n",
       "2      0.041284       0.045802       0.044073         0.042360   \n",
       "3      0.020747       0.014463       0.008230         0.002053   \n",
       "4      0.043668       0.041126       0.036559         0.034335   \n",
       "\n",
       "   September 2016 YOY  October 2016 YOY  November 2016 YOY  December 2016 YOY  \\\n",
       "0            0.040816          0.035955           0.039150           0.041295   \n",
       "1            0.068134          0.066876           0.066667           0.065285   \n",
       "2            0.040724          0.039157           0.037594           0.033033   \n",
       "3            0.000000          0.000000           0.004115           0.002053   \n",
       "4            0.036481          0.040860           0.045161           0.047312   \n",
       "\n",
       "   January 2017 YOY  \n",
       "0          0.043478  \n",
       "1          0.059548  \n",
       "2          0.026906  \n",
       "3         -0.002049  \n",
       "4          0.042827  \n",
       "\n",
       "[5 rows x 139 columns]"
      ]
     },
     "execution_count": 107,
     "metadata": {},
     "output_type": "execute_result"
    }
   ],
   "source": [
    "df.head()"
   ]
  },
  {
   "cell_type": "markdown",
   "metadata": {},
   "source": [
    "Now let's grab only the YOY columns, since that's where we want to take the average."
   ]
  },
  {
   "cell_type": "code",
   "execution_count": 111,
   "metadata": {},
   "outputs": [],
   "source": [
    "yoy_cols = [c for c in df.columns if 'YOY' in c]"
   ]
  },
  {
   "cell_type": "markdown",
   "metadata": {},
   "source": [
    "Next we'll take the mean using `.mean()`."
   ]
  },
  {
   "cell_type": "code",
   "execution_count": 112,
   "metadata": {},
   "outputs": [
    {
     "data": {
      "text/plain": [
       "January 2012 YOY      0.008182\n",
       "February 2012 YOY     0.007948\n",
       "March 2012 YOY        0.011773\n",
       "April 2012 YOY        0.011368\n",
       "May 2012 YOY          0.014053\n",
       "                        ...   \n",
       "September 2016 YOY    0.013816\n",
       "October 2016 YOY      0.016071\n",
       "November 2016 YOY     0.019194\n",
       "December 2016 YOY     0.021020\n",
       "January 2017 YOY      0.017944\n",
       "Length: 61, dtype: float64"
      ]
     },
     "execution_count": 112,
     "metadata": {},
     "output_type": "execute_result"
    }
   ],
   "source": [
    "df[yoy_cols].mean()"
   ]
  },
  {
   "cell_type": "markdown",
   "metadata": {},
   "source": [
    "Hmm, that's not what we wanted. We want to know which *rows* have the highest mean. This is showing the *columns*. The problem is that, by default, `.mean()` goes along the rows (i.e. goes down) to take an average. To tell it to go *across*, you want to average across each *column*, so you use `.mean(axis='columns')`."
   ]
  },
  {
   "cell_type": "code",
   "execution_count": 113,
   "metadata": {},
   "outputs": [
    {
     "data": {
      "text/plain": [
       "0        0.191654\n",
       "1        0.048933\n",
       "2        0.023117\n",
       "3        0.044963\n",
       "4        0.023956\n",
       "           ...   \n",
       "11914    0.025380\n",
       "11915    0.010585\n",
       "11916    0.007869\n",
       "11917    0.011017\n",
       "11918    0.017185\n",
       "Length: 11919, dtype: float64"
      ]
     },
     "execution_count": 113,
     "metadata": {},
     "output_type": "execute_result"
    }
   ],
   "source": [
    "df[yoy_cols].mean(axis='columns')"
   ]
  },
  {
   "cell_type": "markdown",
   "metadata": {},
   "source": [
    "Now we can use `.nlargest` to get the largest value."
   ]
  },
  {
   "cell_type": "code",
   "execution_count": 116,
   "metadata": {},
   "outputs": [
    {
     "data": {
      "text/plain": [
       "2810    0.514797\n",
       "dtype: float64"
      ]
     },
     "execution_count": 116,
     "metadata": {},
     "output_type": "execute_result"
    }
   ],
   "source": [
    "highest_avg_yoy = df[yoy_cols].mean(axis='columns').nlargest(1)\n",
    "\n",
    "highest_avg_yoy"
   ]
  },
  {
   "cell_type": "code",
   "execution_count": 122,
   "metadata": {},
   "outputs": [
    {
     "data": {
      "text/plain": [
       "City Code                   47495\n",
       "City                          Rye\n",
       "County                Westchester\n",
       "State                          NY\n",
       "Population Rank              2811\n",
       "                         ...     \n",
       "September 2016 YOY      0.0607122\n",
       "October 2016 YOY        0.0686047\n",
       "November 2016 YOY       0.0662824\n",
       "December 2016 YOY       0.0608147\n",
       "January 2017 YOY        0.0525714\n",
       "Name: 2810, Length: 139, dtype: object"
      ]
     },
     "execution_count": 122,
     "metadata": {},
     "output_type": "execute_result"
    }
   ],
   "source": [
    "df.iloc[2810]"
   ]
  },
  {
   "cell_type": "markdown",
   "metadata": {},
   "source": [
    "Congratulations Rye, NY! You averaged 51% YOY rent increase! Ouch!"
   ]
  },
  {
   "cell_type": "markdown",
   "metadata": {},
   "source": [
    "**B2:** Explore how it's even possible that a city would have such a large average rent increase."
   ]
  },
  {
   "cell_type": "code",
   "execution_count": 127,
   "metadata": {},
   "outputs": [
    {
     "data": {
      "text/plain": [
       "January 2012 YOY        2.48878\n",
       "February 2012 YOY       2.49875\n",
       "March 2012 YOY            2.515\n",
       "April 2012 YOY           2.5175\n",
       "May 2012 YOY            2.53634\n",
       "June 2012 YOY              2.56\n",
       "July 2012 YOY            2.6075\n",
       "August 2012 YOY         2.65664\n",
       "September 2012 YOY      2.70101\n",
       "October 2012 YOY        2.75315\n",
       "November 2012 YOY        2.8262\n",
       "December 2012 YOY      0.106429\n",
       "January 2013 YOY       0.127949\n",
       "February 2013 YOY      0.142552\n",
       "March 2013 YOY         0.148649\n",
       "April 2013 YOY         0.149964\n",
       "May 2013 YOY           0.141035\n",
       "June 2013 YOY          0.121489\n",
       "July 2013 YOY          0.101871\n",
       "August 2013 YOY       0.0904729\n",
       "Name: 2810, dtype: object"
      ]
     },
     "execution_count": 127,
     "metadata": {},
     "output_type": "execute_result"
    }
   ],
   "source": [
    "df.iloc[2810][yoy_cols][:20]"
   ]
  },
  {
   "cell_type": "markdown",
   "metadata": {},
   "source": [
    "For some reason, January 2012 through November 2012 somehow had 200%+ YOY rent increase? Is that even possible?"
   ]
  },
  {
   "cell_type": "code",
   "execution_count": 131,
   "metadata": {},
   "outputs": [
    {
     "data": {
      "text/plain": [
       "January 2011      0.802\n",
       "February 2011     0.802\n",
       "March 2011          0.8\n",
       "April 2011          0.8\n",
       "May 2011          0.798\n",
       "June 2011           0.8\n",
       "July 2011           0.8\n",
       "August 2011       0.798\n",
       "September 2011    0.796\n",
       "October 2011      0.794\n",
       "November 2011     0.794\n",
       "December 2011       2.8\n",
       "Name: 2810, dtype: object"
      ]
     },
     "execution_count": 131,
     "metadata": {},
     "output_type": "execute_result"
    }
   ],
   "source": [
    "# 2011 prices\n",
    "df.iloc[2810][[c for c in df.columns if '2011' in c and 'YOY' not in c]]"
   ]
  },
  {
   "cell_type": "code",
   "execution_count": 132,
   "metadata": {},
   "outputs": [
    {
     "data": {
      "text/plain": [
       "January 2012      2.798\n",
       "February 2012     2.806\n",
       "March 2012        2.812\n",
       "April 2012        2.814\n",
       "May 2012          2.822\n",
       "June 2012         2.848\n",
       "July 2012         2.886\n",
       "August 2012       2.918\n",
       "September 2012    2.946\n",
       "October 2012       2.98\n",
       "November 2012     3.038\n",
       "December 2012     3.098\n",
       "Name: 2810, dtype: object"
      ]
     },
     "execution_count": 132,
     "metadata": {},
     "output_type": "execute_result"
    }
   ],
   "source": [
    "# 2012 prices\n",
    "df.iloc[2810][[c for c in df.columns if '2012' in c and 'YOY' not in c]]"
   ]
  },
  {
   "cell_type": "markdown",
   "metadata": {},
   "source": [
    "This looks like maybe the 2011 data is flawed. If you add 2 to each 2011 price that seems more reasonable. Out of curiosity, let's look at the next highest rent increase city and see if anything fishy is going on there too."
   ]
  },
  {
   "cell_type": "code",
   "execution_count": 133,
   "metadata": {},
   "outputs": [
    {
     "data": {
      "text/plain": [
       "2810     0.514797\n",
       "3300     0.440997\n",
       "10031    0.423579\n",
       "2584     0.411329\n",
       "2457     0.390361\n",
       "8842     0.377554\n",
       "3744     0.364482\n",
       "2496     0.361879\n",
       "3264     0.344016\n",
       "4162     0.325695\n",
       "dtype: float64"
      ]
     },
     "execution_count": 133,
     "metadata": {},
     "output_type": "execute_result"
    }
   ],
   "source": [
    "highest_avg_yoy = df[yoy_cols].mean(axis='columns').nlargest(10)\n",
    "\n",
    "highest_avg_yoy"
   ]
  },
  {
   "cell_type": "code",
   "execution_count": 134,
   "metadata": {},
   "outputs": [
    {
     "data": {
      "text/plain": [
       "<matplotlib.axes._subplots.AxesSubplot at 0x12715e7c0>"
      ]
     },
     "execution_count": 134,
     "metadata": {},
     "output_type": "execute_result"
    },
    {
     "data": {
      "image/png": "[encoded data removed]",
      "text/plain": [
       "<Figure size 432x288 with 1 Axes>"
      ]
     },
     "metadata": {
      "needs_background": "light"
     },
     "output_type": "display_data"
    }
   ],
   "source": [
    "df.iloc[3300][yoy_cols].plot()"
   ]
  },
  {
   "cell_type": "markdown",
   "metadata": {},
   "source": [
    "Same issue!"
   ]
  },
  {
   "cell_type": "code",
   "execution_count": 135,
   "metadata": {},
   "outputs": [
    {
     "data": {
      "text/html": [
       "<div>\n",
       "<style scoped>\n",
       "    .dataframe tbody tr th:only-of-type {\n",
       "        vertical-align: middle;\n",
       "    }\n",
       "\n",
       "    .dataframe tbody tr th {\n",
       "        vertical-align: top;\n",
       "    }\n",
       "\n",
       "    .dataframe thead th {\n",
       "        text-align: right;\n",
       "    }\n",
       "</style>\n",
       "<table border=\"1\" class=\"dataframe\">\n",
       "  <thead>\n",
       "    <tr style=\"text-align: right;\">\n",
       "      <th></th>\n",
       "      <th>City Code</th>\n",
       "      <th>City</th>\n",
       "      <th>County</th>\n",
       "      <th>State</th>\n",
       "      <th>Population Rank</th>\n",
       "      <th>January 2011</th>\n",
       "      <th>February 2011</th>\n",
       "      <th>March 2011</th>\n",
       "      <th>April 2011</th>\n",
       "      <th>May 2011</th>\n",
       "      <th>...</th>\n",
       "      <th>April 2016 YOY</th>\n",
       "      <th>May 2016 YOY</th>\n",
       "      <th>June 2016 YOY</th>\n",
       "      <th>July 2016 YOY</th>\n",
       "      <th>August 2016 YOY</th>\n",
       "      <th>September 2016 YOY</th>\n",
       "      <th>October 2016 YOY</th>\n",
       "      <th>November 2016 YOY</th>\n",
       "      <th>December 2016 YOY</th>\n",
       "      <th>January 2017 YOY</th>\n",
       "    </tr>\n",
       "  </thead>\n",
       "  <tbody>\n",
       "    <tr>\n",
       "      <th>2810</th>\n",
       "      <td>47495</td>\n",
       "      <td>Rye</td>\n",
       "      <td>Westchester</td>\n",
       "      <td>NY</td>\n",
       "      <td>2811</td>\n",
       "      <td>0.802</td>\n",
       "      <td>0.802</td>\n",
       "      <td>0.8</td>\n",
       "      <td>0.8</td>\n",
       "      <td>0.798</td>\n",
       "      <td>...</td>\n",
       "      <td>0.051046</td>\n",
       "      <td>0.044056</td>\n",
       "      <td>0.041543</td>\n",
       "      <td>0.042278</td>\n",
       "      <td>0.050292</td>\n",
       "      <td>0.060712</td>\n",
       "      <td>0.068605</td>\n",
       "      <td>0.066282</td>\n",
       "      <td>0.060815</td>\n",
       "      <td>0.052571</td>\n",
       "    </tr>\n",
       "    <tr>\n",
       "      <th>3300</th>\n",
       "      <td>18955</td>\n",
       "      <td>Larchmont</td>\n",
       "      <td>Westchester</td>\n",
       "      <td>NY</td>\n",
       "      <td>3301</td>\n",
       "      <td>0.802</td>\n",
       "      <td>0.802</td>\n",
       "      <td>0.8</td>\n",
       "      <td>0.8</td>\n",
       "      <td>0.798</td>\n",
       "      <td>...</td>\n",
       "      <td>0.075377</td>\n",
       "      <td>0.064493</td>\n",
       "      <td>0.055905</td>\n",
       "      <td>0.048276</td>\n",
       "      <td>0.040246</td>\n",
       "      <td>0.028398</td>\n",
       "      <td>0.014745</td>\n",
       "      <td>0.002660</td>\n",
       "      <td>-0.007942</td>\n",
       "      <td>-0.015831</td>\n",
       "    </tr>\n",
       "    <tr>\n",
       "      <th>10031</th>\n",
       "      <td>26537</td>\n",
       "      <td>Plandome</td>\n",
       "      <td>Nassau</td>\n",
       "      <td>NY</td>\n",
       "      <td>10032</td>\n",
       "      <td>0.802</td>\n",
       "      <td>0.802</td>\n",
       "      <td>0.8</td>\n",
       "      <td>0.8</td>\n",
       "      <td>0.798</td>\n",
       "      <td>...</td>\n",
       "      <td>0.212121</td>\n",
       "      <td>0.204848</td>\n",
       "      <td>0.202921</td>\n",
       "      <td>0.188864</td>\n",
       "      <td>0.177860</td>\n",
       "      <td>0.161127</td>\n",
       "      <td>0.141343</td>\n",
       "      <td>0.106456</td>\n",
       "      <td>0.067559</td>\n",
       "      <td>0.032089</td>\n",
       "    </tr>\n",
       "    <tr>\n",
       "      <th>2584</th>\n",
       "      <td>54333</td>\n",
       "      <td>Scarsdale</td>\n",
       "      <td>Westchester</td>\n",
       "      <td>NY</td>\n",
       "      <td>2585</td>\n",
       "      <td>0.802</td>\n",
       "      <td>0.802</td>\n",
       "      <td>0.8</td>\n",
       "      <td>0.8</td>\n",
       "      <td>0.798</td>\n",
       "      <td>...</td>\n",
       "      <td>0.106647</td>\n",
       "      <td>0.090452</td>\n",
       "      <td>0.075458</td>\n",
       "      <td>0.063933</td>\n",
       "      <td>0.059876</td>\n",
       "      <td>0.058179</td>\n",
       "      <td>0.057902</td>\n",
       "      <td>0.052703</td>\n",
       "      <td>0.041472</td>\n",
       "      <td>0.029197</td>\n",
       "    </tr>\n",
       "    <tr>\n",
       "      <th>2457</th>\n",
       "      <td>17183</td>\n",
       "      <td>Bronxville</td>\n",
       "      <td>Westchester</td>\n",
       "      <td>NY</td>\n",
       "      <td>2458</td>\n",
       "      <td>0.802</td>\n",
       "      <td>0.802</td>\n",
       "      <td>0.8</td>\n",
       "      <td>0.8</td>\n",
       "      <td>0.798</td>\n",
       "      <td>...</td>\n",
       "      <td>0.019862</td>\n",
       "      <td>0.005267</td>\n",
       "      <td>-0.003723</td>\n",
       "      <td>-0.014793</td>\n",
       "      <td>-0.009701</td>\n",
       "      <td>-0.003765</td>\n",
       "      <td>0.001517</td>\n",
       "      <td>-0.007513</td>\n",
       "      <td>-0.017857</td>\n",
       "      <td>-0.014064</td>\n",
       "    </tr>\n",
       "    <tr>\n",
       "      <th>8842</th>\n",
       "      <td>16387</td>\n",
       "      <td>Sands Point</td>\n",
       "      <td>Nassau</td>\n",
       "      <td>NY</td>\n",
       "      <td>8843</td>\n",
       "      <td>0.802</td>\n",
       "      <td>0.802</td>\n",
       "      <td>0.8</td>\n",
       "      <td>0.8</td>\n",
       "      <td>0.798</td>\n",
       "      <td>...</td>\n",
       "      <td>0.133276</td>\n",
       "      <td>0.112985</td>\n",
       "      <td>0.106401</td>\n",
       "      <td>0.095823</td>\n",
       "      <td>0.086430</td>\n",
       "      <td>0.068308</td>\n",
       "      <td>0.052344</td>\n",
       "      <td>0.045560</td>\n",
       "      <td>0.042146</td>\n",
       "      <td>0.036530</td>\n",
       "    </tr>\n",
       "    <tr>\n",
       "      <th>3744</th>\n",
       "      <td>18478</td>\n",
       "      <td>Harrison</td>\n",
       "      <td>Westchester</td>\n",
       "      <td>NY</td>\n",
       "      <td>3745</td>\n",
       "      <td>0.802</td>\n",
       "      <td>0.802</td>\n",
       "      <td>0.8</td>\n",
       "      <td>0.8</td>\n",
       "      <td>0.798</td>\n",
       "      <td>...</td>\n",
       "      <td>0.123157</td>\n",
       "      <td>0.088511</td>\n",
       "      <td>0.065327</td>\n",
       "      <td>0.047146</td>\n",
       "      <td>0.037767</td>\n",
       "      <td>0.035131</td>\n",
       "      <td>0.036556</td>\n",
       "      <td>0.034594</td>\n",
       "      <td>0.031974</td>\n",
       "      <td>0.028640</td>\n",
       "    </tr>\n",
       "    <tr>\n",
       "      <th>2496</th>\n",
       "      <td>399213</td>\n",
       "      <td>Town of Mamaroneck</td>\n",
       "      <td>Westchester</td>\n",
       "      <td>NY</td>\n",
       "      <td>2497</td>\n",
       "      <td>0.802</td>\n",
       "      <td>0.802</td>\n",
       "      <td>0.8</td>\n",
       "      <td>0.8</td>\n",
       "      <td>0.798</td>\n",
       "      <td>...</td>\n",
       "      <td>0.096007</td>\n",
       "      <td>0.081735</td>\n",
       "      <td>0.067977</td>\n",
       "      <td>0.058158</td>\n",
       "      <td>0.053772</td>\n",
       "      <td>0.049560</td>\n",
       "      <td>0.042925</td>\n",
       "      <td>0.036278</td>\n",
       "      <td>0.028191</td>\n",
       "      <td>0.023383</td>\n",
       "    </tr>\n",
       "    <tr>\n",
       "      <th>3264</th>\n",
       "      <td>25725</td>\n",
       "      <td>Manhasset</td>\n",
       "      <td>Nassau</td>\n",
       "      <td>NY</td>\n",
       "      <td>3265</td>\n",
       "      <td>0.802</td>\n",
       "      <td>0.802</td>\n",
       "      <td>0.8</td>\n",
       "      <td>0.8</td>\n",
       "      <td>0.798</td>\n",
       "      <td>...</td>\n",
       "      <td>0.141856</td>\n",
       "      <td>0.136207</td>\n",
       "      <td>0.136054</td>\n",
       "      <td>0.128141</td>\n",
       "      <td>0.120462</td>\n",
       "      <td>0.107143</td>\n",
       "      <td>0.094174</td>\n",
       "      <td>0.083333</td>\n",
       "      <td>0.071373</td>\n",
       "      <td>0.057515</td>\n",
       "    </tr>\n",
       "    <tr>\n",
       "      <th>4162</th>\n",
       "      <td>16178</td>\n",
       "      <td>Rye Brook</td>\n",
       "      <td>Westchester</td>\n",
       "      <td>NY</td>\n",
       "      <td>4163</td>\n",
       "      <td>0.802</td>\n",
       "      <td>0.802</td>\n",
       "      <td>0.8</td>\n",
       "      <td>0.8</td>\n",
       "      <td>0.798</td>\n",
       "      <td>...</td>\n",
       "      <td>0.073370</td>\n",
       "      <td>0.054464</td>\n",
       "      <td>0.036907</td>\n",
       "      <td>0.021626</td>\n",
       "      <td>0.011997</td>\n",
       "      <td>0.005963</td>\n",
       "      <td>0.000847</td>\n",
       "      <td>-0.006711</td>\n",
       "      <td>-0.016681</td>\n",
       "      <td>-0.025000</td>\n",
       "    </tr>\n",
       "  </tbody>\n",
       "</table>\n",
       "<p>10 rows × 139 columns</p>\n",
       "</div>"
      ],
      "text/plain": [
       "       City Code                City       County State  Population Rank  \\\n",
       "2810       47495                 Rye  Westchester    NY             2811   \n",
       "3300       18955           Larchmont  Westchester    NY             3301   \n",
       "10031      26537            Plandome       Nassau    NY            10032   \n",
       "2584       54333           Scarsdale  Westchester    NY             2585   \n",
       "2457       17183          Bronxville  Westchester    NY             2458   \n",
       "8842       16387         Sands Point       Nassau    NY             8843   \n",
       "3744       18478            Harrison  Westchester    NY             3745   \n",
       "2496      399213  Town of Mamaroneck  Westchester    NY             2497   \n",
       "3264       25725           Manhasset       Nassau    NY             3265   \n",
       "4162       16178           Rye Brook  Westchester    NY             4163   \n",
       "\n",
       "       January 2011  February 2011  March 2011  April 2011  May 2011  ...  \\\n",
       "2810          0.802          0.802         0.8         0.8     0.798  ...   \n",
       "3300          0.802          0.802         0.8         0.8     0.798  ...   \n",
       "10031         0.802          0.802         0.8         0.8     0.798  ...   \n",
       "2584          0.802          0.802         0.8         0.8     0.798  ...   \n",
       "2457          0.802          0.802         0.8         0.8     0.798  ...   \n",
       "8842          0.802          0.802         0.8         0.8     0.798  ...   \n",
       "3744          0.802          0.802         0.8         0.8     0.798  ...   \n",
       "2496          0.802          0.802         0.8         0.8     0.798  ...   \n",
       "3264          0.802          0.802         0.8         0.8     0.798  ...   \n",
       "4162          0.802          0.802         0.8         0.8     0.798  ...   \n",
       "\n",
       "       April 2016 YOY  May 2016 YOY  June 2016 YOY  July 2016 YOY  \\\n",
       "2810         0.051046      0.044056       0.041543       0.042278   \n",
       "3300         0.075377      0.064493       0.055905       0.048276   \n",
       "10031        0.212121      0.204848       0.202921       0.188864   \n",
       "2584         0.106647      0.090452       0.075458       0.063933   \n",
       "2457         0.019862      0.005267      -0.003723      -0.014793   \n",
       "8842         0.133276      0.112985       0.106401       0.095823   \n",
       "3744         0.123157      0.088511       0.065327       0.047146   \n",
       "2496         0.096007      0.081735       0.067977       0.058158   \n",
       "3264         0.141856      0.136207       0.136054       0.128141   \n",
       "4162         0.073370      0.054464       0.036907       0.021626   \n",
       "\n",
       "       August 2016 YOY  September 2016 YOY  October 2016 YOY  \\\n",
       "2810          0.050292            0.060712          0.068605   \n",
       "3300          0.040246            0.028398          0.014745   \n",
       "10031         0.177860            0.161127          0.141343   \n",
       "2584          0.059876            0.058179          0.057902   \n",
       "2457         -0.009701           -0.003765          0.001517   \n",
       "8842          0.086430            0.068308          0.052344   \n",
       "3744          0.037767            0.035131          0.036556   \n",
       "2496          0.053772            0.049560          0.042925   \n",
       "3264          0.120462            0.107143          0.094174   \n",
       "4162          0.011997            0.005963          0.000847   \n",
       "\n",
       "       November 2016 YOY  December 2016 YOY  January 2017 YOY  \n",
       "2810            0.066282           0.060815          0.052571  \n",
       "3300            0.002660          -0.007942         -0.015831  \n",
       "10031           0.106456           0.067559          0.032089  \n",
       "2584            0.052703           0.041472          0.029197  \n",
       "2457           -0.007513          -0.017857         -0.014064  \n",
       "8842            0.045560           0.042146          0.036530  \n",
       "3744            0.034594           0.031974          0.028640  \n",
       "2496            0.036278           0.028191          0.023383  \n",
       "3264            0.083333           0.071373          0.057515  \n",
       "4162           -0.006711          -0.016681         -0.025000  \n",
       "\n",
       "[10 rows x 139 columns]"
      ]
     },
     "execution_count": 135,
     "metadata": {},
     "output_type": "execute_result"
    }
   ],
   "source": [
    "df.iloc[highest_avg_yoy.index]"
   ]
  },
  {
   "cell_type": "markdown",
   "metadata": {},
   "source": [
    "All of these are in NY! Let's see how many cities have their January 2012 YOY increase over 100% (i.e. rent doubling in one year)."
   ]
  },
  {
   "cell_type": "code",
   "execution_count": 141,
   "metadata": {},
   "outputs": [
    {
     "data": {
      "text/plain": [
       "91"
      ]
     },
     "execution_count": 141,
     "metadata": {},
     "output_type": "execute_result"
    }
   ],
   "source": [
    "df[df['January 2012 YOY'] > 1].shape[0]"
   ]
  },
  {
   "cell_type": "markdown",
   "metadata": {},
   "source": [
    "91 city codes. Let's look at what states they are in."
   ]
  },
  {
   "cell_type": "code",
   "execution_count": 142,
   "metadata": {},
   "outputs": [
    {
     "data": {
      "text/plain": [
       "NY    91\n",
       "Name: State, dtype: int64"
      ]
     },
     "execution_count": 142,
     "metadata": {},
     "output_type": "execute_result"
    }
   ],
   "source": [
    "df[df['January 2012 YOY'] > 1]['State'].value_counts()"
   ]
  },
  {
   "cell_type": "markdown",
   "metadata": {},
   "source": [
    "Well there's the issue! For some reason the NY data is either bad, or NY had a crazy rent change in 2011. Are there other places where the YOY increase was more than 100%?"
   ]
  },
  {
   "cell_type": "code",
   "execution_count": 143,
   "metadata": {},
   "outputs": [
    {
     "name": "stdout",
     "output_type": "stream",
     "text": [
      "January 2012 YOY 91\n",
      "February 2012 YOY 89\n",
      "March 2012 YOY 88\n",
      "April 2012 YOY 94\n",
      "May 2012 YOY 94\n",
      "June 2012 YOY 91\n",
      "July 2012 YOY 91\n",
      "August 2012 YOY 89\n",
      "September 2012 YOY 89\n",
      "October 2012 YOY 89\n",
      "November 2012 YOY 87\n",
      "December 2012 YOY 3\n",
      "January 2013 YOY 2\n",
      "February 2013 YOY 3\n",
      "March 2013 YOY 4\n"
     ]
    }
   ],
   "source": [
    "for year in [2012, 2013, 2014, 2015, 2016, 2017]:\n",
    "    yoy_year_cols = [c for c in df.columns if str(year) in c and 'YOY' in c]\n",
    "    for c in yoy_year_cols:\n",
    "        big_jump = df[df[c] > 1].shape[0]\n",
    "        if big_jump > 0:\n",
    "            print(c, big_jump)"
   ]
  },
  {
   "cell_type": "markdown",
   "metadata": {},
   "source": [
    "It seems like there's a few early on. At this point, the best thing to do (if this were real data for your job) would be to go verify if the data is correct. This could be talking to your boss, talking to whoever you got the data from, etc. If you present results like \"rent prices increased 50%!\" there will always be someone who realizes this isn't possible. You'll then look silly for presenting something wrong, even if the work you did is correct. So always think about your results!"
   ]
  },
  {
   "cell_type": "code",
   "execution_count": null,
   "metadata": {},
   "outputs": [],
   "source": []
  }
 ],
 "metadata": {
  "kernelspec": {
   "display_name": "Python 3",
   "language": "python",
   "name": "python3"
  },
  "language_info": {
   "codemirror_mode": {
    "name": "ipython",
    "version": 3
   },
   "file_extension": ".py",
   "mimetype": "text/x-python",
   "name": "python",
   "nbconvert_exporter": "python",
   "pygments_lexer": "ipython3",
   "version": "3.8.2"
  }
 },
 "nbformat": 4,
 "nbformat_minor": 4
}
