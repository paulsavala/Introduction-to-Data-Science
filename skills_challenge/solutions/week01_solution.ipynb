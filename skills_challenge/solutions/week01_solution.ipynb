{
 "cells": [
  {
   "cell_type": "markdown",
   "metadata": {},
   "source": [
    "# Skills challenge \\#1\n",
    "Below are a series of questions. Use the loaded data to answer the questions. You will almost certainly need to import more packages (`pandas`, `numpy`, etc.) to complete these. You are welcome to use any source except for your classmates. So Google away!\n",
    "\n",
    "You will be graded on both the **correctness** and **cleanliness** of your work. So don't submit poorly written code or your grade will reflect that. **Do not leave any scratch work.** The only code in the cell should be your polished solution. If you get stuck, move on to another part. Most questions don't rely on the answer to earlier questions."
   ]
  },
  {
   "cell_type": "markdown",
   "metadata": {},
   "source": [
    "### Imports"
   ]
  },
  {
   "cell_type": "code",
   "execution_count": 3,
   "metadata": {
    "collapsed": false,
    "jupyter": {
     "outputs_hidden": false
    }
   },
   "outputs": [],
   "source": [
    "import pandas as pd\n",
    "import numpy as np"
   ]
  },
  {
   "cell_type": "markdown",
   "metadata": {},
   "source": [
    "### Data loading"
   ]
  },
  {
   "cell_type": "code",
   "execution_count": 4,
   "metadata": {
    "collapsed": false,
    "jupyter": {
     "outputs_hidden": false
    }
   },
   "outputs": [],
   "source": [
    "df = pd.read_csv('../data/2016_austin_crime.csv')"
   ]
  },
  {
   "cell_type": "code",
   "execution_count": 5,
   "metadata": {
    "collapsed": false,
    "jupyter": {
     "outputs_hidden": false
    }
   },
   "outputs": [
    {
     "data": {
      "text/html": [
       "<div>\n",
       "<style scoped>\n",
       "    .dataframe tbody tr th:only-of-type {\n",
       "        vertical-align: middle;\n",
       "    }\n",
       "\n",
       "    .dataframe tbody tr th {\n",
       "        vertical-align: top;\n",
       "    }\n",
       "\n",
       "    .dataframe thead th {\n",
       "        text-align: right;\n",
       "    }\n",
       "</style>\n",
       "<table border=\"1\" class=\"dataframe\">\n",
       "  <thead>\n",
       "    <tr style=\"text-align: right;\">\n",
       "      <th></th>\n",
       "      <th>GO Primary Key</th>\n",
       "      <th>Council District</th>\n",
       "      <th>GO Highest Offense Desc</th>\n",
       "      <th>Highest NIBRS/UCR Offense Description</th>\n",
       "      <th>GO Report Date</th>\n",
       "      <th>GO Location</th>\n",
       "      <th>Clearance Status</th>\n",
       "      <th>Clearance Date</th>\n",
       "      <th>GO District</th>\n",
       "      <th>GO Location Zip</th>\n",
       "      <th>GO Census Tract</th>\n",
       "      <th>GO X Coordinate</th>\n",
       "      <th>GO Y Coordinate</th>\n",
       "    </tr>\n",
       "  </thead>\n",
       "  <tbody>\n",
       "    <tr>\n",
       "      <th>0</th>\n",
       "      <td>201610188.0</td>\n",
       "      <td>8.0</td>\n",
       "      <td>AGG ASLT ENHANC STRANGL/SUFFOC</td>\n",
       "      <td>Agg Assault</td>\n",
       "      <td>1-Jan-16</td>\n",
       "      <td>8600 W SH 71                                  ...</td>\n",
       "      <td>C</td>\n",
       "      <td>12-Jan-16</td>\n",
       "      <td>D</td>\n",
       "      <td>78735.0</td>\n",
       "      <td>19.08</td>\n",
       "      <td>3067322.0</td>\n",
       "      <td>10062796.0</td>\n",
       "    </tr>\n",
       "    <tr>\n",
       "      <th>1</th>\n",
       "      <td>201610643.0</td>\n",
       "      <td>9.0</td>\n",
       "      <td>THEFT</td>\n",
       "      <td>Theft</td>\n",
       "      <td>1-Jan-16</td>\n",
       "      <td>219 E 6TH ST                                  ...</td>\n",
       "      <td>C</td>\n",
       "      <td>4-Jan-16</td>\n",
       "      <td>G</td>\n",
       "      <td>78701.0</td>\n",
       "      <td>11.00</td>\n",
       "      <td>3114957.0</td>\n",
       "      <td>10070462.0</td>\n",
       "    </tr>\n",
       "    <tr>\n",
       "      <th>2</th>\n",
       "      <td>201610892.0</td>\n",
       "      <td>4.0</td>\n",
       "      <td>AGG ROBBERY/DEADLY WEAPON</td>\n",
       "      <td>Robbery</td>\n",
       "      <td>1-Jan-16</td>\n",
       "      <td>701 W LONGSPUR BLVD                           ...</td>\n",
       "      <td>N</td>\n",
       "      <td>3-May-16</td>\n",
       "      <td>E</td>\n",
       "      <td>78753.0</td>\n",
       "      <td>18.23</td>\n",
       "      <td>3129181.0</td>\n",
       "      <td>10106923.0</td>\n",
       "    </tr>\n",
       "    <tr>\n",
       "      <th>3</th>\n",
       "      <td>201610893.0</td>\n",
       "      <td>9.0</td>\n",
       "      <td>THEFT</td>\n",
       "      <td>Theft</td>\n",
       "      <td>1-Jan-16</td>\n",
       "      <td>404 COLORADO ST                               ...</td>\n",
       "      <td>N</td>\n",
       "      <td>22-Jan-16</td>\n",
       "      <td>G</td>\n",
       "      <td>78701.0</td>\n",
       "      <td>11.00</td>\n",
       "      <td>3113643.0</td>\n",
       "      <td>10070357.0</td>\n",
       "    </tr>\n",
       "    <tr>\n",
       "      <th>4</th>\n",
       "      <td>201611018.0</td>\n",
       "      <td>4.0</td>\n",
       "      <td>SEXUAL ASSAULT W/ OBJECT</td>\n",
       "      <td>Rape</td>\n",
       "      <td>1-Jan-16</td>\n",
       "      <td>NaN</td>\n",
       "      <td>C</td>\n",
       "      <td>10-Mar-16</td>\n",
       "      <td>E</td>\n",
       "      <td>78753.0</td>\n",
       "      <td>18.33</td>\n",
       "      <td>NaN</td>\n",
       "      <td>NaN</td>\n",
       "    </tr>\n",
       "  </tbody>\n",
       "</table>\n",
       "</div>"
      ],
      "text/plain": [
       "   GO Primary Key  Council District         GO Highest Offense Desc  \\\n",
       "0     201610188.0               8.0  AGG ASLT ENHANC STRANGL/SUFFOC   \n",
       "1     201610643.0               9.0  THEFT                            \n",
       "2     201610892.0               4.0  AGG ROBBERY/DEADLY WEAPON        \n",
       "3     201610893.0               9.0  THEFT                            \n",
       "4     201611018.0               4.0  SEXUAL ASSAULT W/ OBJECT         \n",
       "\n",
       "  Highest NIBRS/UCR Offense Description GO Report Date  \\\n",
       "0                           Agg Assault       1-Jan-16   \n",
       "1                                 Theft       1-Jan-16   \n",
       "2                               Robbery       1-Jan-16   \n",
       "3                                 Theft       1-Jan-16   \n",
       "4                                  Rape       1-Jan-16   \n",
       "\n",
       "                                         GO Location Clearance Status  \\\n",
       "0  8600 W SH 71                                  ...                C   \n",
       "1  219 E 6TH ST                                  ...                C   \n",
       "2  701 W LONGSPUR BLVD                           ...                N   \n",
       "3  404 COLORADO ST                               ...                N   \n",
       "4                                                NaN                C   \n",
       "\n",
       "  Clearance Date GO District  GO Location Zip  GO Census Tract  \\\n",
       "0      12-Jan-16           D          78735.0            19.08   \n",
       "1       4-Jan-16           G          78701.0            11.00   \n",
       "2       3-May-16           E          78753.0            18.23   \n",
       "3      22-Jan-16           G          78701.0            11.00   \n",
       "4      10-Mar-16           E          78753.0            18.33   \n",
       "\n",
       "   GO X Coordinate  GO Y Coordinate  \n",
       "0        3067322.0       10062796.0  \n",
       "1        3114957.0       10070462.0  \n",
       "2        3129181.0       10106923.0  \n",
       "3        3113643.0       10070357.0  \n",
       "4              NaN              NaN  "
      ]
     },
     "execution_count": 5,
     "metadata": {},
     "output_type": "execute_result"
    }
   ],
   "source": [
    "df.head()"
   ]
  },
  {
   "cell_type": "markdown",
   "metadata": {},
   "source": [
    "### Data description\n",
    "\n",
    "This data is all the crimes recorded by the Austin PD in 2016. The columns that we are interested are:\n",
    "- **Council District**: The district in which the crime was committed ([map of districts](https://www.austinchronicle.com/binary/35e1/pols_feature51.jpg))\n",
    "- **GO Highest Offense Desc**: A text description of the offense using the APD description\n",
    "- **Highest NIBRS/UCR Offense Description**: A text description using the FBI description\n",
    "- **GO Report Date**: The date on which the crime was reported\n",
    "- **Clearance Status**: Whether or not the crime was \"cleared\" (i.e. the case was closed due to an arrest)\n",
    "- **Clearance Date**: When the crime was cleared\n",
    "- **GO Location Zip**: The zip code where the crime occurred"
   ]
  },
  {
   "cell_type": "markdown",
   "metadata": {},
   "source": [
    "## Tasks"
   ]
  },
  {
   "cell_type": "markdown",
   "metadata": {},
   "source": [
    "### Data cleaning\n",
    "**DC1:** Drop all columns that are not in the list above. Save this back as the variable `df`."
   ]
  },
  {
   "cell_type": "code",
   "execution_count": 6,
   "metadata": {
    "collapsed": false,
    "jupyter": {
     "outputs_hidden": false
    },
    "nbgrader": {
     "grade": false,
     "grade_id": "5186e0",
     "locked": false,
     "schema_version": 3,
     "solution": true,
     "task": false
    }
   },
   "outputs": [],
   "source": [
    "df = df[['Council District', 'GO Highest Offense Desc', 'Highest NIBRS/UCR Offense Description', 'GO Report Date', 'Clearance Status', 'Clearance Date', 'GO Location Zip']]"
   ]
  },
  {
   "cell_type": "markdown",
   "metadata": {},
   "source": [
    "**DC2:** Rename the columns to be all lowercase, replace spaces with underscores (\"_\"), and remove \"GO\" from all column names. Finally, make sure there are no spaces at the start or finish of a column name. For example, ``'  my_col '`` should be renamed to `'my_col'` (notice that the spaces are gone), and \"GO Report Date\" should become \"report_date\". Rename \"Highest NIBRS/UCR Offense Description\" to \"fbi_desc\", and \"GO Highest Offense Desc\" to \"apd_desc\"."
   ]
  },
  {
   "cell_type": "code",
   "execution_count": 8,
   "metadata": {
    "collapsed": false,
    "jupyter": {
     "outputs_hidden": false
    },
    "nbgrader": {
     "grade": false,
     "grade_id": "532135",
     "locked": false,
     "schema_version": 3,
     "solution": true,
     "task": false
    }
   },
   "outputs": [],
   "source": [
    "clean_cols = [c if c != 'Highest NIBRS/UCR Offense Description' else 'fbi_desc' for c in df.columns]\n",
    "clean_cols = [c if c != 'GO Highest Offense Desc' else 'apd_desc' for c in clean_cols]\n",
    "clean_cols = [c.replace('GO', '').replace(' ', '_').lower().strip().strip('_') for c in clean_cols]\n",
    "df.columns = clean_cols"
   ]
  },
  {
   "cell_type": "markdown",
   "metadata": {},
   "source": [
    "**DC3:** For each column, print how many `None` or `NaN` values are in the column, along with what percentage of the rows are missing. Round the percentage to two decimal places. Your output should look like:\n",
    "\n",
    "```\n",
    "col1_name: 20 (0.05%) missing values \n",
    "col2_name: 150 (1.56%) missing values \n",
    "```\n",
    "Then, drop any rows which have missing values."
   ]
  },
  {
   "cell_type": "code",
   "execution_count": 9,
   "metadata": {
    "collapsed": false,
    "jupyter": {
     "outputs_hidden": false
    },
    "nbgrader": {
     "grade": true,
     "grade_id": "628f32",
     "locked": false,
     "points": 1,
     "schema_version": 3,
     "solution": true,
     "task": false
    }
   },
   "outputs": [],
   "source": [
    "for c in df.columns:\n",
    "    missing_values = df[c].isna().sum()\n",
    "    pct_missing = missing_values / df.shape[0]\n",
    "    col_summary = f'{c}: {missing_values} ({pct_missing:.2f}%) missing values'"
   ]
  },
  {
   "cell_type": "markdown",
   "metadata": {},
   "source": [
    "**DC4:** Drop any rows which have any missing values. Save the result back to `df`."
   ]
  },
  {
   "cell_type": "code",
   "execution_count": 10,
   "metadata": {
    "collapsed": false,
    "jupyter": {
     "outputs_hidden": false
    },
    "nbgrader": {
     "grade": false,
     "grade_id": "540a4d",
     "locked": false,
     "schema_version": 3,
     "solution": true,
     "task": false
    }
   },
   "outputs": [],
   "source": [
    "df = df.dropna(how='any')"
   ]
  },
  {
   "cell_type": "markdown",
   "metadata": {},
   "source": [
    "**DC5:** For any column which is a `float`, check if the numbers really are floats (i.e. is there a reason they're a decimal?). If they're not really decimals (for instance, if all of them have .0 at the end), then convert the column to integers."
   ]
  },
  {
   "cell_type": "code",
   "execution_count": 11,
   "metadata": {
    "collapsed": false,
    "jupyter": {
     "outputs_hidden": false
    },
    "nbgrader": {
     "grade": false,
     "grade_id": "6845a2",
     "locked": false,
     "schema_version": 3,
     "solution": true,
     "task": false
    }
   },
   "outputs": [],
   "source": [
    "df['council_district'] = df['council_district'].astype(int)\n",
    "df['location_zip'] = df['location_zip'].astype(int)"
   ]
  },
  {
   "cell_type": "markdown",
   "metadata": {},
   "source": [
    "### Data exporation\n",
    "**DE1:** Print out each district, along with what percentage of the crimes occurred in it."
   ]
  },
  {
   "cell_type": "code",
   "execution_count": 17,
   "metadata": {
    "collapsed": false,
    "jupyter": {
     "outputs_hidden": false
    },
    "nbgrader": {
     "grade": false,
     "grade_id": "c65716",
     "locked": false,
     "schema_version": 3,
     "solution": true,
     "task": false
    }
   },
   "outputs": [
    {
     "name": "stdout",
     "output_type": "stream",
     "text": [
      "Summary for column council_district\n",
      "8: 5.51%\n",
      "9: 16.18%\n",
      "4: 14.12%\n",
      "1: 10.10%\n",
      "3: 15.84%\n",
      "5: 8.43%\n",
      "2: 8.89%\n",
      "7: 11.35%\n",
      "6: 5.42%\n",
      "10: 4.16%\n"
     ]
    }
   ],
   "source": [
    "# Function which will do this for any column\n",
    "\n",
    "# Takes in the dataframe to work with, along with the name of the column you want to summarize\n",
    "def col_pct_summary(df, col):\n",
    "    print(f'Summary for column {col}')\n",
    "    \n",
    "    # Go through all unique values in that column\n",
    "    for x in df[col].unique():\n",
    "        # Find all rows which have that value\n",
    "        x_df = df[df[col] == x]\n",
    "        # Calculate the percentage (# of rows with that value / total # of rows)\n",
    "        x_pct = x_df.shape[0] / df.shape[0]\n",
    "        # Print it using f-strings. Multiply to 100 to make the percent look nicer (not required)\n",
    "        print(f'{x}: {100*x_pct:.2f}%')\n",
    "\n",
    "col_pct_summary(df, 'council_district')"
   ]
  },
  {
   "cell_type": "markdown",
   "metadata": {},
   "source": [
    "**DE2:** Do the same for each zip code."
   ]
  },
  {
   "cell_type": "code",
   "execution_count": 14,
   "metadata": {
    "collapsed": false,
    "jupyter": {
     "outputs_hidden": false
    },
    "nbgrader": {
     "grade": true,
     "grade_id": "8f16f9",
     "locked": false,
     "points": 1,
     "schema_version": 3,
     "solution": true,
     "task": false
    }
   },
   "outputs": [
    {
     "name": "stdout",
     "output_type": "stream",
     "text": [
      "Summary for column location_zip\n",
      "78735: 0.77%\n",
      "78701: 5.65%\n",
      "78753: 8.31%\n",
      "78724: 1.45%\n",
      "78741: 8.97%\n",
      "78704: 6.81%\n",
      "78748: 3.65%\n",
      "78758: 6.59%\n",
      "78744: 5.25%\n",
      "78747: 0.61%\n",
      "78756: 0.91%\n",
      "78751: 2.52%\n",
      "78759: 3.18%\n",
      "78723: 5.62%\n",
      "78752: 3.54%\n",
      "78745: 6.04%\n",
      "78749: 2.10%\n",
      "78731: 1.41%\n",
      "78702: 4.27%\n",
      "78722: 0.71%\n",
      "78705: 3.15%\n",
      "78757: 2.98%\n",
      "78721: 1.37%\n",
      "78739: 0.41%\n",
      "78729: 1.48%\n",
      "78613: 0.89%\n",
      "78617: 0.75%\n",
      "78746: 2.09%\n",
      "78750: 0.90%\n",
      "78719: 0.44%\n",
      "78703: 1.84%\n",
      "78736: 0.32%\n",
      "78653: 0.11%\n",
      "78727: 1.43%\n",
      "78652: 0.04%\n",
      "78754: 1.11%\n",
      "78726: 0.58%\n",
      "78717: 0.80%\n",
      "78660: 0.44%\n",
      "78725: 0.19%\n",
      "78712: 0.02%\n",
      "78730: 0.13%\n",
      "78742: 0.15%\n",
      "78728: 0.01%\n",
      "78732: 0.00%\n",
      "78737: 0.00%\n"
     ]
    }
   ],
   "source": [
    "col_pct_summary(df, 'location_zip')"
   ]
  },
  {
   "cell_type": "markdown",
   "metadata": {},
   "source": [
    "**DE3:** Print what percentage of crimes were cleared and what percentage were not."
   ]
  },
  {
   "cell_type": "code",
   "execution_count": 15,
   "metadata": {
    "collapsed": false,
    "jupyter": {
     "outputs_hidden": false
    },
    "nbgrader": {
     "grade": false,
     "grade_id": "5e6907",
     "locked": false,
     "schema_version": 3,
     "solution": true,
     "task": false
    }
   },
   "outputs": [
    {
     "name": "stdout",
     "output_type": "stream",
     "text": [
      "Summary for column clearance_status\n",
      "C: 14.04%\n",
      "N: 83.14%\n",
      "O: 2.82%\n"
     ]
    }
   ],
   "source": [
    "col_pct_summary(df, 'clearance_status')"
   ]
  },
  {
   "cell_type": "markdown",
   "metadata": {},
   "source": [
    "**DE4:** Do the same for crimes by the FBI description (so percentage of each type of crime)."
   ]
  },
  {
   "cell_type": "code",
   "execution_count": 16,
   "metadata": {
    "collapsed": false,
    "jupyter": {
     "outputs_hidden": false
    },
    "nbgrader": {
     "grade": false,
     "grade_id": "ec7668",
     "locked": false,
     "schema_version": 3,
     "solution": true,
     "task": false
    }
   },
   "outputs": [
    {
     "name": "stdout",
     "output_type": "stream",
     "text": [
      "Summary for column fbi_desc\n",
      "Agg Assault: 5.87%\n",
      "Theft: 69.87%\n",
      "Robbery: 2.56%\n",
      "Rape: 1.89%\n",
      "Burglary: 14.13%\n",
      "Auto Theft: 5.59%\n",
      "Murder: 0.08%\n"
     ]
    }
   ],
   "source": [
    "col_pct_summary(df, 'fbi_desc')"
   ]
  },
  {
   "cell_type": "markdown",
   "metadata": {},
   "source": [
    "### Bonus questions\n",
    "**B1:** Create a dictionary (Python `dict`) that has the FBI description as the key and a list of all APD descriptions that map to it as the values. So for example, it may look like `{'Theft': ['THEFT FROM BUILDING', 'THEFT', ...], 'Robbery': ['AGG ROBBERY/DEADLY WEAPON', 'PURSE SNATCHING', ...]}`. "
   ]
  },
  {
   "cell_type": "code",
   "execution_count": 21,
   "metadata": {
    "collapsed": false,
    "jupyter": {
     "outputs_hidden": false
    },
    "nbgrader": {
     "grade": false,
     "grade_id": "4cc7d9",
     "locked": false,
     "schema_version": 3,
     "solution": true,
     "task": false
    }
   },
   "outputs": [],
   "source": [
    "soln_dict = {d: list(df[df['fbi_desc'] == d]['apd_desc'].unique()) for d in df['fbi_desc'].unique()}"
   ]
  },
  {
   "cell_type": "markdown",
   "metadata": {},
   "source": [
    "**B2:** Write a function which allows a person to type in an FBI description, and the function returns a dictionary with the following summary:\n",
    "- Number of crimes comitted with that description.\n",
    "- Percentage of crimes committed with that description. Leave it as a float between 0 and 1.\n",
    "- The percentage of crimes with that description which were \"cleared\" (clearance status of \"C\").\n",
    "- The zip in which the crime occurred most often.\n",
    "- The district in which the crime occurred most often.\n",
    "\n",
    "The function should still work even if the person types in the FBI description with incorrect capitalization or spacing. So for instance, if the FBI description is \"Theft\", then any of the following should still work:\n",
    "- 'Theft'\n",
    "- 'THEFT'\n",
    "- 'theft'\n",
    "- 'thEFt'\n",
    "- '    theft'\n",
    "- '    THeft   '"
   ]
  },
  {
   "cell_type": "code",
   "execution_count": 18,
   "metadata": {
    "collapsed": false,
    "jupyter": {
     "outputs_hidden": false
    },
    "nbgrader": {
     "grade": false,
     "grade_id": "3617c8",
     "locked": false,
     "schema_version": 3,
     "solution": true,
     "task": false
    }
   },
   "outputs": [],
   "source": [
    "def crimes_summary(df, fbi_desc):\n",
    "    cleaned_desc = fbi_desc.lower().strip()\n",
    "    summary_df = df[df['fbi_desc'].str.lower() == cleaned_desc]\n",
    "    n_crimes = summary_df.shape[0]\n",
    "    pct_crimes = n_crimes / df.shape[0]\n",
    "    pct_cleared = summary_df[summary_df['clearance_status'] == 'C'].shape[0] / n_crimes\n",
    "    top_zip = summary_df['location_zip'].value_counts().index[0]\n",
    "    top_district = summary_df['council_district'].value_counts().index[0]\n",
    "\n",
    "    summary_dict = {'n_crimes': n_crimes,\n",
    "                   'pct_crimes': pct_crimes,\n",
    "                   'pct_cleared': pct_cleared,\n",
    "                   'top_zip': top_zip,\n",
    "                   'top_district': top_district}\n",
    "    return summary_dict"
   ]
  },
  {
   "cell_type": "code",
   "execution_count": 24,
   "metadata": {},
   "outputs": [
    {
     "name": "stdout",
     "output_type": "stream",
     "text": [
      "Summary for Agg Assault\n",
      "{'n_crimes': 2086, 'pct_crimes': 0.05866471680071995, 'pct_cleared': 0.44534995206136146, 'top_zip': 78753, 'top_district': 4}\n",
      "\n",
      "Summary for Theft\n",
      "{'n_crimes': 24845, 'pct_crimes': 0.6987175881658136, 'pct_cleared': 0.11318172670557457, 'top_zip': 78753, 'top_district': 9}\n",
      "\n",
      "Summary for Robbery\n",
      "{'n_crimes': 911, 'pct_crimes': 0.025620113617188817, 'pct_cleared': 0.30954994511525796, 'top_zip': 78741, 'top_district': 4}\n",
      "\n",
      "Summary for Rape\n",
      "{'n_crimes': 673, 'pct_crimes': 0.018926823780865066, 'pct_cleared': 0.15453194650817237, 'top_zip': 78741, 'top_district': 4}\n",
      "\n",
      "Summary for Burglary\n",
      "{'n_crimes': 5025, 'pct_crimes': 0.14131840935935655, 'pct_cleared': 0.09611940298507463, 'top_zip': 78741, 'top_district': 3}\n",
      "\n",
      "Summary for Auto Theft\n",
      "{'n_crimes': 1988, 'pct_crimes': 0.05590865627988076, 'pct_cleared': 0.17806841046277666, 'top_zip': 78741, 'top_district': 3}\n",
      "\n",
      "Summary for Murder\n",
      "{'n_crimes': 30, 'pct_crimes': 0.000843691996175263, 'pct_cleared': 0.9333333333333333, 'top_zip': 78753, 'top_district': 4}\n",
      "\n"
     ]
    }
   ],
   "source": [
    "# Showing off the function working\n",
    "for desc in df['fbi_desc'].unique():\n",
    "    print(f'Summary for {desc}')\n",
    "    summary_dict = crimes_summary(df, desc)\n",
    "    print(summary_dict)\n",
    "    print()"
   ]
  }
 ],
 "metadata": {
  "kernelspec": {
   "display_name": "Python 3",
   "language": "python",
   "name": "python3"
  },
  "language_info": {
   "codemirror_mode": {
    "name": "ipython",
    "version": 3
   },
   "file_extension": ".py",
   "mimetype": "text/x-python",
   "name": "python",
   "nbconvert_exporter": "python",
   "pygments_lexer": "ipython3",
   "version": "3.8.2"
  }
 },
 "nbformat": 4,
 "nbformat_minor": 4
}
