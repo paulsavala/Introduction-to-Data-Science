{
 "cells": [
  {
   "cell_type": "markdown",
   "metadata": {},
   "source": [
    "# Skills challenge \\#5\n",
    "Below are a series of questions. Use the loaded data to answer the questions. You will almost certainly need to import more packages (`pandas`, `numpy`, etc.) to complete these. You are welcome to use any source except for your classmates. So Google away!\n",
    "\n",
    "You will be graded on both the **correctness** and **cleanliness** of your work. So don't submit poorly written code or your grade will reflect that. Use Markdown describing what you have done. If you get stuck, move on to another part. Most questions don't rely on the answer to earlier questions."
   ]
  },
  {
   "cell_type": "markdown",
   "metadata": {},
   "source": [
    "### Imports"
   ]
  },
  {
   "cell_type": "code",
   "execution_count": 1,
   "metadata": {},
   "outputs": [],
   "source": [
    "import pandas as pd"
   ]
  },
  {
   "cell_type": "markdown",
   "metadata": {},
   "source": [
    "### Data loading"
   ]
  },
  {
   "cell_type": "code",
   "execution_count": 73,
   "metadata": {},
   "outputs": [],
   "source": [
    "df = pd.read_csv('../data/median_rent.csv')"
   ]
  },
  {
   "cell_type": "code",
   "execution_count": 74,
   "metadata": {},
   "outputs": [
    {
     "data": {
      "text/html": [
       "<div>\n",
       "<style scoped>\n",
       "    .dataframe tbody tr th:only-of-type {\n",
       "        vertical-align: middle;\n",
       "    }\n",
       "\n",
       "    .dataframe tbody tr th {\n",
       "        vertical-align: top;\n",
       "    }\n",
       "\n",
       "    .dataframe thead th {\n",
       "        text-align: right;\n",
       "    }\n",
       "</style>\n",
       "<table border=\"1\" class=\"dataframe\">\n",
       "  <thead>\n",
       "    <tr style=\"text-align: right;\">\n",
       "      <th></th>\n",
       "      <th>City Code</th>\n",
       "      <th>City</th>\n",
       "      <th>Metro</th>\n",
       "      <th>County</th>\n",
       "      <th>State</th>\n",
       "      <th>Population Rank</th>\n",
       "      <th>November 2010</th>\n",
       "      <th>December 2010</th>\n",
       "      <th>January 2011</th>\n",
       "      <th>February 2011</th>\n",
       "      <th>...</th>\n",
       "      <th>April 2016</th>\n",
       "      <th>May 2016</th>\n",
       "      <th>June 2016</th>\n",
       "      <th>July 2016</th>\n",
       "      <th>August 2016</th>\n",
       "      <th>September 2016</th>\n",
       "      <th>October 2016</th>\n",
       "      <th>November 2016</th>\n",
       "      <th>December 2016</th>\n",
       "      <th>January 2017</th>\n",
       "    </tr>\n",
       "  </thead>\n",
       "  <tbody>\n",
       "    <tr>\n",
       "      <th>0</th>\n",
       "      <td>6181</td>\n",
       "      <td>New York</td>\n",
       "      <td>New York</td>\n",
       "      <td>Queens</td>\n",
       "      <td>NY</td>\n",
       "      <td>1</td>\n",
       "      <td>NaN</td>\n",
       "      <td>NaN</td>\n",
       "      <td>NaN</td>\n",
       "      <td>NaN</td>\n",
       "      <td>...</td>\n",
       "      <td>1.806</td>\n",
       "      <td>1.810</td>\n",
       "      <td>1.816</td>\n",
       "      <td>1.824</td>\n",
       "      <td>1.828</td>\n",
       "      <td>1.836</td>\n",
       "      <td>1.844</td>\n",
       "      <td>1.858</td>\n",
       "      <td>1.866</td>\n",
       "      <td>1.872</td>\n",
       "    </tr>\n",
       "    <tr>\n",
       "      <th>1</th>\n",
       "      <td>12447</td>\n",
       "      <td>Los Angeles</td>\n",
       "      <td>Los Angeles</td>\n",
       "      <td>Los Angeles</td>\n",
       "      <td>CA</td>\n",
       "      <td>2</td>\n",
       "      <td>1.578</td>\n",
       "      <td>1.578</td>\n",
       "      <td>1.580</td>\n",
       "      <td>1.582</td>\n",
       "      <td>...</td>\n",
       "      <td>1.990</td>\n",
       "      <td>2.004</td>\n",
       "      <td>2.018</td>\n",
       "      <td>2.026</td>\n",
       "      <td>2.032</td>\n",
       "      <td>2.038</td>\n",
       "      <td>2.042</td>\n",
       "      <td>2.048</td>\n",
       "      <td>2.056</td>\n",
       "      <td>2.064</td>\n",
       "    </tr>\n",
       "    <tr>\n",
       "      <th>2</th>\n",
       "      <td>17426</td>\n",
       "      <td>Chicago</td>\n",
       "      <td>Chicago</td>\n",
       "      <td>Cook</td>\n",
       "      <td>IL</td>\n",
       "      <td>3</td>\n",
       "      <td>1.244</td>\n",
       "      <td>1.248</td>\n",
       "      <td>1.254</td>\n",
       "      <td>1.254</td>\n",
       "      <td>...</td>\n",
       "      <td>1.354</td>\n",
       "      <td>1.362</td>\n",
       "      <td>1.370</td>\n",
       "      <td>1.374</td>\n",
       "      <td>1.378</td>\n",
       "      <td>1.380</td>\n",
       "      <td>1.380</td>\n",
       "      <td>1.380</td>\n",
       "      <td>1.376</td>\n",
       "      <td>1.374</td>\n",
       "    </tr>\n",
       "    <tr>\n",
       "      <th>3</th>\n",
       "      <td>39051</td>\n",
       "      <td>Houston</td>\n",
       "      <td>Houston</td>\n",
       "      <td>Harris</td>\n",
       "      <td>TX</td>\n",
       "      <td>4</td>\n",
       "      <td>0.788</td>\n",
       "      <td>0.784</td>\n",
       "      <td>0.784</td>\n",
       "      <td>0.786</td>\n",
       "      <td>...</td>\n",
       "      <td>0.984</td>\n",
       "      <td>0.984</td>\n",
       "      <td>0.982</td>\n",
       "      <td>0.980</td>\n",
       "      <td>0.976</td>\n",
       "      <td>0.974</td>\n",
       "      <td>0.974</td>\n",
       "      <td>0.976</td>\n",
       "      <td>0.976</td>\n",
       "      <td>0.974</td>\n",
       "    </tr>\n",
       "    <tr>\n",
       "      <th>4</th>\n",
       "      <td>13271</td>\n",
       "      <td>Philadelphia</td>\n",
       "      <td>Philadelphia</td>\n",
       "      <td>Philadelphia</td>\n",
       "      <td>PA</td>\n",
       "      <td>5</td>\n",
       "      <td>0.854</td>\n",
       "      <td>0.858</td>\n",
       "      <td>0.858</td>\n",
       "      <td>0.858</td>\n",
       "      <td>...</td>\n",
       "      <td>0.948</td>\n",
       "      <td>0.956</td>\n",
       "      <td>0.962</td>\n",
       "      <td>0.964</td>\n",
       "      <td>0.964</td>\n",
       "      <td>0.966</td>\n",
       "      <td>0.968</td>\n",
       "      <td>0.972</td>\n",
       "      <td>0.974</td>\n",
       "      <td>0.974</td>\n",
       "    </tr>\n",
       "  </tbody>\n",
       "</table>\n",
       "<p>5 rows × 81 columns</p>\n",
       "</div>"
      ],
      "text/plain": [
       "   City Code          City         Metro        County State  Population Rank  \\\n",
       "0       6181      New York      New York        Queens    NY                1   \n",
       "1      12447   Los Angeles   Los Angeles   Los Angeles    CA                2   \n",
       "2      17426       Chicago       Chicago          Cook    IL                3   \n",
       "3      39051       Houston       Houston        Harris    TX                4   \n",
       "4      13271  Philadelphia  Philadelphia  Philadelphia    PA                5   \n",
       "\n",
       "   November 2010  December 2010  January 2011  February 2011  ...  April 2016  \\\n",
       "0            NaN            NaN           NaN            NaN  ...       1.806   \n",
       "1          1.578          1.578         1.580          1.582  ...       1.990   \n",
       "2          1.244          1.248         1.254          1.254  ...       1.354   \n",
       "3          0.788          0.784         0.784          0.786  ...       0.984   \n",
       "4          0.854          0.858         0.858          0.858  ...       0.948   \n",
       "\n",
       "   May 2016  June 2016  July 2016  August 2016  September 2016  October 2016  \\\n",
       "0     1.810      1.816      1.824        1.828           1.836         1.844   \n",
       "1     2.004      2.018      2.026        2.032           2.038         2.042   \n",
       "2     1.362      1.370      1.374        1.378           1.380         1.380   \n",
       "3     0.984      0.982      0.980        0.976           0.974         0.974   \n",
       "4     0.956      0.962      0.964        0.964           0.966         0.968   \n",
       "\n",
       "   November 2016  December 2016  January 2017  \n",
       "0          1.858          1.866         1.872  \n",
       "1          2.048          2.056         2.064  \n",
       "2          1.380          1.376         1.374  \n",
       "3          0.976          0.976         0.974  \n",
       "4          0.972          0.974         0.974  \n",
       "\n",
       "[5 rows x 81 columns]"
      ]
     },
     "execution_count": 74,
     "metadata": {},
     "output_type": "execute_result"
    }
   ],
   "source": [
    "df.head()"
   ]
  },
  {
   "cell_type": "markdown",
   "metadata": {},
   "source": [
    "### Data description\n",
    "\n",
    "This data is a collection of median rent per square foot of apartments throughout the US. Each month/year column is the rent per square foot (in USD) in that location."
   ]
  },
  {
   "cell_type": "markdown",
   "metadata": {},
   "source": [
    "## Tasks"
   ]
  },
  {
   "cell_type": "markdown",
   "metadata": {},
   "source": [
    "### Data cleaning\n",
    "**DC1:** Do any `City Code`s show up more than once?"
   ]
  },
  {
   "cell_type": "code",
   "execution_count": null,
   "metadata": {},
   "outputs": [],
   "source": []
  },
  {
   "cell_type": "markdown",
   "metadata": {},
   "source": [
    "**DC2:** For each column, print how many `None` or `NaN` values are in the column, along with what percentage of the rows are missing. **Only print columns that actually have missing values**. Round the percentage to two decimal places. Your output should look like:\n",
    "\n",
    "```\n",
    "col1_name: 20 (0.05%) missing values \n",
    "col3_name: 150 (1.56%) missing values \n",
    "```"
   ]
  },
  {
   "cell_type": "code",
   "execution_count": null,
   "metadata": {},
   "outputs": [],
   "source": []
  },
  {
   "cell_type": "markdown",
   "metadata": {},
   "source": [
    "**DC3:** Drop the `Metro` column, along with `November 2010` and `December 2010`. Save the result back to `df`."
   ]
  },
  {
   "cell_type": "code",
   "execution_count": null,
   "metadata": {},
   "outputs": [],
   "source": []
  },
  {
   "cell_type": "markdown",
   "metadata": {},
   "source": [
    "**DC4:** Print how many *rows* have a missing value. Also, print what percentage of the rows have a missing value."
   ]
  },
  {
   "cell_type": "code",
   "execution_count": null,
   "metadata": {},
   "outputs": [],
   "source": []
  },
  {
   "cell_type": "markdown",
   "metadata": {},
   "source": [
    "**DC5:** For any rows with missing data, fill the missing values with the median from that row."
   ]
  },
  {
   "cell_type": "code",
   "execution_count": null,
   "metadata": {},
   "outputs": [],
   "source": []
  },
  {
   "cell_type": "markdown",
   "metadata": {},
   "source": [
    "### Data exploration"
   ]
  },
  {
   "cell_type": "markdown",
   "metadata": {},
   "source": [
    "**DE1:** Make a scatterplot and compute the correlation coefficient for `Population Rank` to the median price per square foot in `January 2017`. Write a sentence or two about what we learn from this graph/correlation coefficient."
   ]
  },
  {
   "cell_type": "code",
   "execution_count": null,
   "metadata": {},
   "outputs": [],
   "source": []
  },
  {
   "cell_type": "markdown",
   "metadata": {},
   "source": [
    "**DE2:** Find the top ten city codes which had the highest price per square foot in `January 2017`."
   ]
  },
  {
   "cell_type": "code",
   "execution_count": null,
   "metadata": {},
   "outputs": [],
   "source": []
  },
  {
   "cell_type": "markdown",
   "metadata": {},
   "source": [
    "### Model building"
   ]
  },
  {
   "cell_type": "markdown",
   "metadata": {},
   "source": [
    "**MB1:** Split the data into training and testing sets. Your test set should have 30% of the data, and the training set should have the rest."
   ]
  },
  {
   "cell_type": "code",
   "execution_count": null,
   "metadata": {},
   "outputs": [],
   "source": []
  },
  {
   "cell_type": "markdown",
   "metadata": {},
   "source": [
    "**MB2:** Create a linear regression model comparing the price per square foot in `January 2011` and the `Population Rank` to the price in `January 2017`. Train it on the training data and test it on the testing data. "
   ]
  },
  {
   "cell_type": "code",
   "execution_count": null,
   "metadata": {},
   "outputs": [],
   "source": []
  },
  {
   "cell_type": "markdown",
   "metadata": {},
   "source": [
    "**MB3:** Plot the scatterplot comparing the actual and predicted prices in January 2017. Print the score (correlation coefficient). Label your x and y axes appropriately. All of this should be done on the test set."
   ]
  },
  {
   "cell_type": "code",
   "execution_count": null,
   "metadata": {},
   "outputs": [],
   "source": []
  },
  {
   "cell_type": "markdown",
   "metadata": {},
   "source": [
    "**MB4:** If your scatterplot has any strange outliers, explain in plain English what those outliers represent."
   ]
  },
  {
   "cell_type": "code",
   "execution_count": null,
   "metadata": {},
   "outputs": [],
   "source": []
  },
  {
   "cell_type": "markdown",
   "metadata": {},
   "source": [
    "**MB5:** Print out the coefficients of the model, along with the y-intercept. Discuss what each of these values tell us. Discuss which variable out of two in your model are more predictive of the target (`January 2017`). Justify your conclusions using your data/model, not just \"I feel like...\"."
   ]
  },
  {
   "cell_type": "code",
   "execution_count": null,
   "metadata": {},
   "outputs": [],
   "source": []
  },
  {
   "cell_type": "markdown",
   "metadata": {},
   "source": [
    "### Bonus"
   ]
  },
  {
   "cell_type": "markdown",
   "metadata": {},
   "source": [
    "**B1:** For each month/year column (say, `January 2012`), make a new column (`January 2012 YOY`) (\"YOY\" stands for \"Year Over Year\") which is the percentage increase from the same month in the previous year (so `January 2011` in this case). So for example, if `January 2011` had a value of 1.8 and `January 2012` had a value of 1.85, this is an increase of 0.05, which is a 0.05 / 1.8 = 0.0278 = 2.78% increase. So the column `January 2012 YOY` would have a value of 0.0278. Repeat this for each year (so `January 2013 YOY` would compare to the price in `January 2012`). Don't make a YOY column for the first year (20110. Find which city code has the highest average YOY increase across all years. This sort of computation is incredibly common in financial situations."
   ]
  },
  {
   "cell_type": "code",
   "execution_count": null,
   "metadata": {},
   "outputs": [],
   "source": []
  },
  {
   "cell_type": "markdown",
   "metadata": {},
   "source": [
    "**B2:** Explore how it's even possible that a city would have such a large average rent increase."
   ]
  },
  {
   "cell_type": "code",
   "execution_count": null,
   "metadata": {},
   "outputs": [],
   "source": []
  }
 ],
 "metadata": {
  "kernelspec": {
   "display_name": "Python 3",
   "language": "python",
   "name": "python3"
  },
  "language_info": {
   "codemirror_mode": {
    "name": "ipython",
    "version": 3
   },
   "file_extension": ".py",
   "mimetype": "text/x-python",
   "name": "python",
   "nbconvert_exporter": "python",
   "pygments_lexer": "ipython3",
   "version": "3.8.2"
  }
 },
 "nbformat": 4,
 "nbformat_minor": 4
}
