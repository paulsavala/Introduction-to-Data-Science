{
 "cells": [
  {
   "cell_type": "markdown",
   "metadata": {},
   "source": [
    "# Skills challenge \\#10\n",
    "Below are a series of questions. Use the loaded data to answer the questions. You will almost certainly need to import more packages (`pandas`, `numpy`, etc.) to complete these. You are welcome to use any source except for your classmates. So Google away!\n",
    "\n",
    "You will be graded on both the **correctness** and **cleanliness** of your work. So don't submit poorly written code or your grade will reflect that. Use Markdown describing what you have done. If you get stuck, move on to another part. Most questions don't rely on the answer to earlier questions."
   ]
  },
  {
   "cell_type": "markdown",
   "metadata": {},
   "source": [
    "### Imports"
   ]
  },
  {
   "cell_type": "code",
   "execution_count": 116,
   "metadata": {},
   "outputs": [],
   "source": [
    "import pandas as pd"
   ]
  },
  {
   "cell_type": "markdown",
   "metadata": {},
   "source": [
    "### Data loading"
   ]
  },
  {
   "cell_type": "code",
   "execution_count": 117,
   "metadata": {},
   "outputs": [],
   "source": [
    "df = pd.read_csv('../data/free_throws.csv')"
   ]
  },
  {
   "cell_type": "code",
   "execution_count": 118,
   "metadata": {},
   "outputs": [
    {
     "data": {
      "text/html": [
       "<div>\n",
       "<style scoped>\n",
       "    .dataframe tbody tr th:only-of-type {\n",
       "        vertical-align: middle;\n",
       "    }\n",
       "\n",
       "    .dataframe tbody tr th {\n",
       "        vertical-align: top;\n",
       "    }\n",
       "\n",
       "    .dataframe thead th {\n",
       "        text-align: right;\n",
       "    }\n",
       "</style>\n",
       "<table border=\"1\" class=\"dataframe\">\n",
       "  <thead>\n",
       "    <tr style=\"text-align: right;\">\n",
       "      <th></th>\n",
       "      <th>period</th>\n",
       "      <th>player</th>\n",
       "      <th>playoffs</th>\n",
       "      <th>shot_made</th>\n",
       "      <th>home_team</th>\n",
       "      <th>visit_team</th>\n",
       "      <th>home_score</th>\n",
       "      <th>visit_score</th>\n",
       "      <th>home_final_score</th>\n",
       "      <th>visit_final_score</th>\n",
       "      <th>minutes</th>\n",
       "      <th>season_start</th>\n",
       "      <th>shot_count</th>\n",
       "    </tr>\n",
       "  </thead>\n",
       "  <tbody>\n",
       "    <tr>\n",
       "      <th>0</th>\n",
       "      <td>1</td>\n",
       "      <td>Andrew Bynum</td>\n",
       "      <td>0</td>\n",
       "      <td>1</td>\n",
       "      <td>LAL</td>\n",
       "      <td>PHX</td>\n",
       "      <td>1</td>\n",
       "      <td>0</td>\n",
       "      <td>114</td>\n",
       "      <td>106</td>\n",
       "      <td>47.000000</td>\n",
       "      <td>2006</td>\n",
       "      <td>1</td>\n",
       "    </tr>\n",
       "    <tr>\n",
       "      <th>1</th>\n",
       "      <td>1</td>\n",
       "      <td>Andrew Bynum</td>\n",
       "      <td>0</td>\n",
       "      <td>1</td>\n",
       "      <td>LAL</td>\n",
       "      <td>PHX</td>\n",
       "      <td>2</td>\n",
       "      <td>0</td>\n",
       "      <td>114</td>\n",
       "      <td>106</td>\n",
       "      <td>47.000000</td>\n",
       "      <td>2006</td>\n",
       "      <td>2</td>\n",
       "    </tr>\n",
       "    <tr>\n",
       "      <th>2</th>\n",
       "      <td>1</td>\n",
       "      <td>Andrew Bynum</td>\n",
       "      <td>0</td>\n",
       "      <td>1</td>\n",
       "      <td>LAL</td>\n",
       "      <td>PHX</td>\n",
       "      <td>12</td>\n",
       "      <td>18</td>\n",
       "      <td>114</td>\n",
       "      <td>106</td>\n",
       "      <td>29.733333</td>\n",
       "      <td>2006</td>\n",
       "      <td>1</td>\n",
       "    </tr>\n",
       "    <tr>\n",
       "      <th>3</th>\n",
       "      <td>1</td>\n",
       "      <td>Andrew Bynum</td>\n",
       "      <td>0</td>\n",
       "      <td>0</td>\n",
       "      <td>LAL</td>\n",
       "      <td>PHX</td>\n",
       "      <td>12</td>\n",
       "      <td>18</td>\n",
       "      <td>114</td>\n",
       "      <td>106</td>\n",
       "      <td>29.733333</td>\n",
       "      <td>2006</td>\n",
       "      <td>2</td>\n",
       "    </tr>\n",
       "    <tr>\n",
       "      <th>4</th>\n",
       "      <td>1</td>\n",
       "      <td>Shawn Marion</td>\n",
       "      <td>0</td>\n",
       "      <td>1</td>\n",
       "      <td>LAL</td>\n",
       "      <td>PHX</td>\n",
       "      <td>12</td>\n",
       "      <td>21</td>\n",
       "      <td>114</td>\n",
       "      <td>106</td>\n",
       "      <td>29.200000</td>\n",
       "      <td>2006</td>\n",
       "      <td>1</td>\n",
       "    </tr>\n",
       "  </tbody>\n",
       "</table>\n",
       "</div>"
      ],
      "text/plain": [
       "   period        player  playoffs  shot_made home_team visit_team  home_score  \\\n",
       "0       1  Andrew Bynum         0          1       LAL        PHX           1   \n",
       "1       1  Andrew Bynum         0          1       LAL        PHX           2   \n",
       "2       1  Andrew Bynum         0          1       LAL        PHX          12   \n",
       "3       1  Andrew Bynum         0          0       LAL        PHX          12   \n",
       "4       1  Shawn Marion         0          1       LAL        PHX          12   \n",
       "\n",
       "   visit_score  home_final_score  visit_final_score    minutes  season_start  \\\n",
       "0            0               114                106  47.000000          2006   \n",
       "1            0               114                106  47.000000          2006   \n",
       "2           18               114                106  29.733333          2006   \n",
       "3           18               114                106  29.733333          2006   \n",
       "4           21               114                106  29.200000          2006   \n",
       "\n",
       "   shot_count  \n",
       "0           1  \n",
       "1           2  \n",
       "2           1  \n",
       "3           2  \n",
       "4           1  "
      ]
     },
     "execution_count": 118,
     "metadata": {},
     "output_type": "execute_result"
    }
   ],
   "source": [
    "df.head()"
   ]
  },
  {
   "cell_type": "markdown",
   "metadata": {},
   "source": [
    "### Data description\n",
    "\n",
    "This data is all the free throws taken in the NBA between 2006 and 2016. The columns that we are interested are:\n",
    "- **game_id**: The unique ID for each game. The number itself doesn't mean anything, but if two rows have the same game_id, then that means they occurred in the same game.\n",
    "- **period**: Which period the free throw occurred in (there are four periods in basketball).\n",
    "- **player**: The player's name\n",
    "- **playoffs**: 0 = not in playoffs, 1 = in playoffs\n",
    "- **shot_made**: 0 = shot not made, 1 = shot made\n",
    "- **home_team**: Abbreviated name of the home team (the team whose city the game was played in)\n",
    "- **visit_team**: Abbreviated name of the visiting team\n",
    "- **home_score**: The home team's score in the game when the free throw was taken\n",
    "- **visit_score**: The visiting team's score in the game when the free throw was taken\n",
    "- **final_score**: The final score in the game\n",
    "- **minutes**: How many minutes into the game when the free throw was taken. An NBA game is 48 minutes long (not counting a potential overtime).\n",
    "- **season_start**: What year the season started in (seasons start in one year and finish the following year)\n",
    "- **shot_count**: Some times a player is awarded more than one free throw. A 1 indicates this is their first shot, a 2 indicates this is their second. They can get a maximum of 3 shots."
   ]
  },
  {
   "cell_type": "markdown",
   "metadata": {},
   "source": [
    "## Tasks"
   ]
  },
  {
   "cell_type": "markdown",
   "metadata": {},
   "source": [
    "### Data cleaning\n",
    "**DC1:** Drop any rows with any missing values. Save the result back to `df`."
   ]
  },
  {
   "cell_type": "code",
   "execution_count": null,
   "metadata": {},
   "outputs": [],
   "source": []
  },
  {
   "cell_type": "markdown",
   "metadata": {},
   "source": [
    "**DC2:** Label encode any text columns. Save the encoded values back to that same column (don't create a new one)."
   ]
  },
  {
   "cell_type": "code",
   "execution_count": null,
   "metadata": {},
   "outputs": [],
   "source": []
  },
  {
   "cell_type": "markdown",
   "metadata": {},
   "source": [
    "**DC3:** Split the data into training and testing sets, with the test set having 30% of the data. Create `X_train`, `X_test`, `y_train` and `y_test`. The value column you will be predicting is `shot_made`, so make that be the y. Stratify the data according to `shot_made` using the `stratify` argument of `train_test_split`."
   ]
  },
  {
   "cell_type": "code",
   "execution_count": null,
   "metadata": {},
   "outputs": [],
   "source": []
  },
  {
   "cell_type": "markdown",
   "metadata": {},
   "source": [
    "### Model building"
   ]
  },
  {
   "cell_type": "markdown",
   "metadata": {},
   "source": [
    "**MB1:** Build a random forest model to classify whether or not the shot is made (`shot_made` column). Pick some hyperparameters and use those. Plot a confusion matrix showing the results. Creating a Markdown cell with brief comments (1 or 2 sentences) on the results."
   ]
  },
  {
   "cell_type": "code",
   "execution_count": null,
   "metadata": {},
   "outputs": [],
   "source": []
  },
  {
   "cell_type": "markdown",
   "metadata": {},
   "source": [
    "**MB2:** Run a cross validation grid search to search values for `max_depth`, `min_samples_split` and `min_samples_leaf` for a *decision tree model* (plain decision tree, not a random forest). Use three values for each hyperparameter. Plot a confusion matrix showing the results of the best model, along with the hyperparameters it chose. Creating a Markdown cell with brief comments (1 or 2 sentences) on the results."
   ]
  },
  {
   "cell_type": "code",
   "execution_count": null,
   "metadata": {},
   "outputs": [],
   "source": []
  },
  {
   "cell_type": "markdown",
   "metadata": {},
   "source": [
    "**MB3:** Build an XGBoost model. Pick some hyperparameters and use those. Plot a confusion matrix showing the results. Creating a Markdown cell with brief comments (1 or 2 sentences) on the results."
   ]
  },
  {
   "cell_type": "code",
   "execution_count": null,
   "metadata": {},
   "outputs": [],
   "source": []
  },
  {
   "cell_type": "markdown",
   "metadata": {},
   "source": [
    "### Feature engineering"
   ]
  },
  {
   "cell_type": "markdown",
   "metadata": {},
   "source": [
    "**FE1:** Basketball games have four \"quarters\", each lasting twelve minutes. Use this to create a new column `quarter` which has values 1, 2, 3 or 4. It should have a value of 1 if the `minutes` is less than or equal to 12, 2 if it is in (12, 24], and so forth."
   ]
  },
  {
   "cell_type": "code",
   "execution_count": null,
   "metadata": {},
   "outputs": [],
   "source": []
  },
  {
   "cell_type": "markdown",
   "metadata": {},
   "source": [
    "**FE2:** Retrain your XGBoost model using the same hyperparameters as above, but now include this new column. Plot a confusion matrix showing the results. Plot a bar chart showing the feature importance for each column. Creating a Markdown cell with brief comments (1 or 2 sentences) on the results."
   ]
  },
  {
   "cell_type": "code",
   "execution_count": null,
   "metadata": {},
   "outputs": [],
   "source": []
  },
  {
   "cell_type": "markdown",
   "metadata": {},
   "source": [
    "### Bonus"
   ]
  },
  {
   "cell_type": "markdown",
   "metadata": {},
   "source": [
    "**B1:** Create a new column `pct_made` which, for each player, shows what percentage of their free throws they made *in all previous seasons*. So for instance, if the row you are looking at is a game in 2009, then you want to calculate (for that player) what percentage of their free throws they made in 2006 through 2008. Fill any missing values with the median of `pct_made`. Once you've done this, again retrain your XGBoost model by including this new column. Again, plot a confusion matrix and a bar chart showing feature importances. Creating a Markdown cell with brief comments (1 or 2 sentences) on the results."
   ]
  },
  {
   "cell_type": "code",
   "execution_count": null,
   "metadata": {},
   "outputs": [],
   "source": []
  }
 ],
 "metadata": {
  "kernelspec": {
   "display_name": "Python 3",
   "language": "python",
   "name": "python3"
  },
  "language_info": {
   "codemirror_mode": {
    "name": "ipython",
    "version": 3
   },
   "file_extension": ".py",
   "mimetype": "text/x-python",
   "name": "python",
   "nbconvert_exporter": "python",
   "pygments_lexer": "ipython3",
   "version": "3.8.2"
  }
 },
 "nbformat": 4,
 "nbformat_minor": 4
}
