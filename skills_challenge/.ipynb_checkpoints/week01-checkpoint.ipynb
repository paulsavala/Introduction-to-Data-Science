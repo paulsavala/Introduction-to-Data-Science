{
 "cells": [
  {
   "cell_type": "markdown",
   "metadata": {},
   "source": [
    "# Skills challenge \\#1\n",
    "Below are a series of questions. Use the loaded data to answer the questions. You will almost certainly need to import more packages (`pandas`, `numpy`, etc.) to complete these. You are welcome to use any source except for your classmates. So Google away!\n",
    "\n",
    "You will be graded on both the **correctness** and **cleanliness** of your work. So don't submit poorly written code or your grade will reflect that. Use Markdown describing what you have done. If you get stuck, move on to another part. Most questions don't rely on the answer to earlier questions."
   ]
  },
  {
   "cell_type": "markdown",
   "metadata": {},
   "source": [
    "### Imports"
   ]
  },
  {
   "cell_type": "code",
   "execution_count": 1,
   "metadata": {
    "collapsed": false,
    "jupyter": {
     "outputs_hidden": false
    }
   },
   "outputs": [],
   "source": [
    "import pandas as pd\n",
    "import numpy as np"
   ]
  },
  {
   "cell_type": "markdown",
   "metadata": {},
   "source": [
    "### Data loading"
   ]
  },
  {
   "cell_type": "code",
   "execution_count": 2,
   "metadata": {
    "collapsed": false,
    "jupyter": {
     "outputs_hidden": false
    }
   },
   "outputs": [],
   "source": [
    "df = pd.read_csv('../data/2016_austin_crime.csv')"
   ]
  },
  {
   "cell_type": "code",
   "execution_count": 3,
   "metadata": {
    "collapsed": false,
    "jupyter": {
     "outputs_hidden": false
    }
   },
   "outputs": [
    {
     "data": {
      "text/html": [
       "<div>\n",
       "<style scoped>\n",
       "    .dataframe tbody tr th:only-of-type {\n",
       "        vertical-align: middle;\n",
       "    }\n",
       "\n",
       "    .dataframe tbody tr th {\n",
       "        vertical-align: top;\n",
       "    }\n",
       "\n",
       "    .dataframe thead th {\n",
       "        text-align: right;\n",
       "    }\n",
       "</style>\n",
       "<table border=\"1\" class=\"dataframe\">\n",
       "  <thead>\n",
       "    <tr style=\"text-align: right;\">\n",
       "      <th></th>\n",
       "      <th>GO Primary Key</th>\n",
       "      <th>Council District</th>\n",
       "      <th>GO Highest Offense Desc</th>\n",
       "      <th>Highest NIBRS/UCR Offense Description</th>\n",
       "      <th>GO Report Date</th>\n",
       "      <th>GO Location</th>\n",
       "      <th>Clearance Status</th>\n",
       "      <th>Clearance Date</th>\n",
       "      <th>GO District</th>\n",
       "      <th>GO Location Zip</th>\n",
       "      <th>GO Census Tract</th>\n",
       "      <th>GO X Coordinate</th>\n",
       "      <th>GO Y Coordinate</th>\n",
       "    </tr>\n",
       "  </thead>\n",
       "  <tbody>\n",
       "    <tr>\n",
       "      <th>0</th>\n",
       "      <td>201610188.0</td>\n",
       "      <td>8.0</td>\n",
       "      <td>AGG ASLT ENHANC STRANGL/SUFFOC</td>\n",
       "      <td>Agg Assault</td>\n",
       "      <td>1-Jan-16</td>\n",
       "      <td>8600 W SH 71                                  ...</td>\n",
       "      <td>C</td>\n",
       "      <td>12-Jan-16</td>\n",
       "      <td>D</td>\n",
       "      <td>78735.0</td>\n",
       "      <td>19.08</td>\n",
       "      <td>3067322.0</td>\n",
       "      <td>10062796.0</td>\n",
       "    </tr>\n",
       "    <tr>\n",
       "      <th>1</th>\n",
       "      <td>201610643.0</td>\n",
       "      <td>9.0</td>\n",
       "      <td>THEFT</td>\n",
       "      <td>Theft</td>\n",
       "      <td>1-Jan-16</td>\n",
       "      <td>219 E 6TH ST                                  ...</td>\n",
       "      <td>C</td>\n",
       "      <td>4-Jan-16</td>\n",
       "      <td>G</td>\n",
       "      <td>78701.0</td>\n",
       "      <td>11.00</td>\n",
       "      <td>3114957.0</td>\n",
       "      <td>10070462.0</td>\n",
       "    </tr>\n",
       "    <tr>\n",
       "      <th>2</th>\n",
       "      <td>201610892.0</td>\n",
       "      <td>4.0</td>\n",
       "      <td>AGG ROBBERY/DEADLY WEAPON</td>\n",
       "      <td>Robbery</td>\n",
       "      <td>1-Jan-16</td>\n",
       "      <td>701 W LONGSPUR BLVD                           ...</td>\n",
       "      <td>N</td>\n",
       "      <td>3-May-16</td>\n",
       "      <td>E</td>\n",
       "      <td>78753.0</td>\n",
       "      <td>18.23</td>\n",
       "      <td>3129181.0</td>\n",
       "      <td>10106923.0</td>\n",
       "    </tr>\n",
       "    <tr>\n",
       "      <th>3</th>\n",
       "      <td>201610893.0</td>\n",
       "      <td>9.0</td>\n",
       "      <td>THEFT</td>\n",
       "      <td>Theft</td>\n",
       "      <td>1-Jan-16</td>\n",
       "      <td>404 COLORADO ST                               ...</td>\n",
       "      <td>N</td>\n",
       "      <td>22-Jan-16</td>\n",
       "      <td>G</td>\n",
       "      <td>78701.0</td>\n",
       "      <td>11.00</td>\n",
       "      <td>3113643.0</td>\n",
       "      <td>10070357.0</td>\n",
       "    </tr>\n",
       "    <tr>\n",
       "      <th>4</th>\n",
       "      <td>201611018.0</td>\n",
       "      <td>4.0</td>\n",
       "      <td>SEXUAL ASSAULT W/ OBJECT</td>\n",
       "      <td>Rape</td>\n",
       "      <td>1-Jan-16</td>\n",
       "      <td>NaN</td>\n",
       "      <td>C</td>\n",
       "      <td>10-Mar-16</td>\n",
       "      <td>E</td>\n",
       "      <td>78753.0</td>\n",
       "      <td>18.33</td>\n",
       "      <td>NaN</td>\n",
       "      <td>NaN</td>\n",
       "    </tr>\n",
       "  </tbody>\n",
       "</table>\n",
       "</div>"
      ],
      "text/plain": [
       "   GO Primary Key  Council District         GO Highest Offense Desc  \\\n",
       "0     201610188.0               8.0  AGG ASLT ENHANC STRANGL/SUFFOC   \n",
       "1     201610643.0               9.0  THEFT                            \n",
       "2     201610892.0               4.0  AGG ROBBERY/DEADLY WEAPON        \n",
       "3     201610893.0               9.0  THEFT                            \n",
       "4     201611018.0               4.0  SEXUAL ASSAULT W/ OBJECT         \n",
       "\n",
       "  Highest NIBRS/UCR Offense Description GO Report Date  \\\n",
       "0                           Agg Assault       1-Jan-16   \n",
       "1                                 Theft       1-Jan-16   \n",
       "2                               Robbery       1-Jan-16   \n",
       "3                                 Theft       1-Jan-16   \n",
       "4                                  Rape       1-Jan-16   \n",
       "\n",
       "                                         GO Location Clearance Status  \\\n",
       "0  8600 W SH 71                                  ...                C   \n",
       "1  219 E 6TH ST                                  ...                C   \n",
       "2  701 W LONGSPUR BLVD                           ...                N   \n",
       "3  404 COLORADO ST                               ...                N   \n",
       "4                                                NaN                C   \n",
       "\n",
       "  Clearance Date GO District  GO Location Zip  GO Census Tract  \\\n",
       "0      12-Jan-16           D          78735.0            19.08   \n",
       "1       4-Jan-16           G          78701.0            11.00   \n",
       "2       3-May-16           E          78753.0            18.23   \n",
       "3      22-Jan-16           G          78701.0            11.00   \n",
       "4      10-Mar-16           E          78753.0            18.33   \n",
       "\n",
       "   GO X Coordinate  GO Y Coordinate  \n",
       "0        3067322.0       10062796.0  \n",
       "1        3114957.0       10070462.0  \n",
       "2        3129181.0       10106923.0  \n",
       "3        3113643.0       10070357.0  \n",
       "4              NaN              NaN  "
      ]
     },
     "execution_count": 3,
     "metadata": {},
     "output_type": "execute_result"
    }
   ],
   "source": [
    "df.head()"
   ]
  },
  {
   "cell_type": "markdown",
   "metadata": {},
   "source": [
    "### Data description\n",
    "\n",
    "This data is all the crimes recorded by the Austin PD in 2016. The columns that we are interested are:\n",
    "- **Council District**: The district in which the crime was committed ([map of districts](https://www.austinchronicle.com/binary/35e1/pols_feature51.jpg))\n",
    "- **GO Highest Offense Desc**: A text description of the offense using the APD description\n",
    "- **Highest NIBRS/UCR Offense Description**: A text description using the FBI description\n",
    "- **GO Report Date**: The date on which the crime was reported\n",
    "- **Clearance Status**: Whether or not the crime was \"cleared\" (i.e. the case was closed due to an arrest)\n",
    "- **Clearance Date**: When the crime was cleared\n",
    "- **GO Location Zip**: The zip code where the crime occurred"
   ]
  },
  {
   "cell_type": "markdown",
   "metadata": {},
   "source": [
    "## Tasks"
   ]
  },
  {
   "cell_type": "markdown",
   "metadata": {},
   "source": [
    "### Data cleaning\n",
    "**DC1:** Drop all columns that are not in the list above. Save this back as the variable `df`."
   ]
  },
  {
   "cell_type": "code",
   "execution_count": null,
   "metadata": {},
   "outputs": [],
   "source": []
  },
  {
   "cell_type": "markdown",
   "metadata": {},
   "source": [
    "**DC2:** Rename the columns to be all lowercase, replace spaces with underscores (\"_\"), and remove \"GO\" from all column names. Finally, make sure there are no spaces at the start or finish of a column name. For example, ``'  my_col '`` should be renamed to `'my_col'` (notice that the spaces are gone), and \"GO Report Date\" should become \"report_date\". Rename \"Highest NIBRS/UCR Offense Description\" to \"fbi_desc\", and \"GO Highest Offense Desc\" to \"apd_desc\"."
   ]
  },
  {
   "cell_type": "code",
   "execution_count": null,
   "metadata": {},
   "outputs": [],
   "source": []
  },
  {
   "cell_type": "markdown",
   "metadata": {},
   "source": [
    "**DC3:** For each column, print how many `None` or `NaN` values are in the column, along with what percentage of the rows are missing. Round the percentage to two decimal places. Your output should look like:\n",
    "\n",
    "```\n",
    "col1_name: 20 (0.05%) missing values \n",
    "col2_name: 150 (1.56%) missing values \n",
    "```"
   ]
  },
  {
   "cell_type": "markdown",
   "metadata": {},
   "source": [
    "**DC4:** Drop any rows which have any missing values. Save the result back to `df`."
   ]
  },
  {
   "cell_type": "code",
   "execution_count": null,
   "metadata": {},
   "outputs": [],
   "source": []
  },
  {
   "cell_type": "markdown",
   "metadata": {},
   "source": [
    "**DC5:** For any column which is a `float`, check if the numbers really are floats (i.e. is there a reason they're a decimal?). If they're not really decimals (for instance, if all of them have .0 at the end), then convert the column to integers."
   ]
  },
  {
   "cell_type": "code",
   "execution_count": 12,
   "metadata": {
    "collapsed": false,
    "jupyter": {
     "outputs_hidden": false
    },
    "nbgrader": {
     "grade": true,
     "grade_id": "0f649c",
     "locked": true,
     "points": 1,
     "schema_version": 3,
     "solution": false,
     "task": false
    }
   },
   "outputs": [],
   "source": []
  },
  {
   "cell_type": "markdown",
   "metadata": {},
   "source": [
    "### Data exporation\n",
    "**DE1:** Print out each district, along with what percentage of the crimes occurred in it."
   ]
  },
  {
   "cell_type": "code",
   "execution_count": null,
   "metadata": {
    "collapsed": false,
    "jupyter": {
     "outputs_hidden": false
    },
    "nbgrader": {
     "grade": true,
     "grade_id": "013a87",
     "locked": true,
     "points": 1,
     "schema_version": 3,
     "solution": false,
     "task": false
    }
   },
   "outputs": [],
   "source": []
  },
  {
   "cell_type": "markdown",
   "metadata": {},
   "source": [
    "**DE2:** Do the same for each zip code."
   ]
  },
  {
   "cell_type": "code",
   "execution_count": null,
   "metadata": {
    "collapsed": false,
    "jupyter": {
     "outputs_hidden": false
    },
    "nbgrader": {
     "grade": true,
     "grade_id": "3b22d5",
     "locked": true,
     "points": 1,
     "schema_version": 3,
     "solution": false,
     "task": false
    }
   },
   "outputs": [],
   "source": []
  },
  {
   "cell_type": "markdown",
   "metadata": {},
   "source": [
    "**DE3:** Print what percentage of crimes were cleared and what percentage were not."
   ]
  },
  {
   "cell_type": "code",
   "execution_count": null,
   "metadata": {
    "collapsed": false,
    "jupyter": {
     "outputs_hidden": false
    },
    "nbgrader": {
     "grade": true,
     "grade_id": "34683e",
     "locked": true,
     "points": 1,
     "schema_version": 3,
     "solution": false,
     "task": false
    }
   },
   "outputs": [],
   "source": []
  },
  {
   "cell_type": "markdown",
   "metadata": {},
   "source": [
    "**DE4:** Do the same for crimes by the FBI description (so percentage of each type of crime)."
   ]
  },
  {
   "cell_type": "code",
   "execution_count": null,
   "metadata": {
    "collapsed": false,
    "jupyter": {
     "outputs_hidden": false
    },
    "nbgrader": {
     "grade": true,
     "grade_id": "262106",
     "locked": true,
     "points": 1,
     "schema_version": 3,
     "solution": false,
     "task": false
    }
   },
   "outputs": [],
   "source": []
  },
  {
   "cell_type": "markdown",
   "metadata": {},
   "source": [
    "### Bonus questions\n",
    "**B1:** Create a dictionary (Python `dict`) that has the FBI description as the key and a list of all APD descriptions that map to it as the values. So for example, it may look like `{'Theft': ['THEFT FROM BUILDING', 'THEFT', ...], 'Robbery': ['AGG ROBBERY/DEADLY WEAPON', 'PURSE SNATCHING', ...]}`. "
   ]
  },
  {
   "cell_type": "code",
   "execution_count": null,
   "metadata": {
    "collapsed": false,
    "jupyter": {
     "outputs_hidden": false
    },
    "nbgrader": {
     "grade": true,
     "grade_id": "aef580",
     "locked": true,
     "points": 1,
     "schema_version": 3,
     "solution": false,
     "task": false
    }
   },
   "outputs": [],
   "source": []
  },
  {
   "cell_type": "markdown",
   "metadata": {},
   "source": [
    "**B2:** Write a function which allows a person to type in an FBI description, and the function returns a dictionary with the following summary:\n",
    "- Number of crimes comitted with that description.\n",
    "- Percentage of crimes committed with that description. Leave it as a float between 0 and 1.\n",
    "- The percentage of crimes with that description which were \"cleared\" (clearance status of \"C\").\n",
    "- The zip in which the crime occurred most often.\n",
    "- The district in which the crime occurred most often.\n",
    "\n",
    "The function should still work even if the person types in the FBI description with incorrect capitalization or spacing. So for instance, if the FBI description is \"Theft\", then any of the following should still work:\n",
    "- 'Theft'\n",
    "- 'THEFT'\n",
    "- 'theft'\n",
    "- 'thEFt'\n",
    "- '    theft'\n",
    "- '    THeft   '"
   ]
  },
  {
   "cell_type": "code",
   "execution_count": null,
   "metadata": {
    "collapsed": false,
    "jupyter": {
     "outputs_hidden": false
    },
    "nbgrader": {
     "grade": true,
     "grade_id": "2228e5",
     "locked": true,
     "points": 1,
     "schema_version": 3,
     "solution": false,
     "task": false
    }
   },
   "outputs": [],
   "source": []
  }
 ],
 "metadata": {
  "kernelspec": {
   "display_name": "Python 3",
   "language": "python",
   "name": "python3"
  },
  "language_info": {
   "codemirror_mode": {
    "name": "ipython",
    "version": 3
   },
   "file_extension": ".py",
   "mimetype": "text/x-python",
   "name": "python",
   "nbconvert_exporter": "python",
   "pygments_lexer": "ipython3",
   "version": "3.8.2"
  }
 },
 "nbformat": 4,
 "nbformat_minor": 4
}
